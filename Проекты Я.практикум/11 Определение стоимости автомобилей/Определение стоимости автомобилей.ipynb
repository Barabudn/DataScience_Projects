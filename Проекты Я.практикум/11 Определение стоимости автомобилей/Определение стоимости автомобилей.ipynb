{
 "cells": [
  {
   "cell_type": "markdown",
   "metadata": {},
   "source": [
    "# Определение стоимости автомобилей"
   ]
  },
  {
   "cell_type": "markdown",
   "metadata": {},
   "source": [
    "Сервис по продаже автомобилей с пробегом «Не бит, не крашен» разрабатывает приложение для привлечения новых клиентов. В нём можно быстро узнать рыночную стоимость своего автомобиля. В вашем распоряжении исторические данные: технические характеристики, комплектации и цены автомобилей. Вам нужно построить модель для определения стоимости. \n",
    "\n",
    "Заказчику важны:\n",
    "\n",
    "- качество предсказания;\n",
    "- скорость предсказания;\n",
    "- время обучения."
   ]
  },
  {
   "cell_type": "markdown",
   "metadata": {},
   "source": [
    "-- Признаки:\n",
    "- DateCrawled — дата скачивания анкеты из базы\n",
    "- VehicleType — тип автомобильного кузова\n",
    "- RegistrationYear — год регистрации автомобиля\n",
    "- Gearbox — тип коробки передач\n",
    "- Power — мощность (л. с.)\n",
    "- Model — модель автомобиля\n",
    "- Kilometer — пробег (км)\n",
    "- RegistrationMonth — месяц регистрации автомобиля\n",
    "- FuelType — тип топлива\n",
    "- Brand — марка автомобиля\n",
    "- NotRepaired — была машина в ремонте или нет\n",
    "- DateCreated — дата создания анкеты\n",
    "- NumberOfPictures — количество фотографий автомобиля\n",
    "- PostalCode — почтовый индекс владельца анкеты (пользователя)\n",
    "- LastSeen — дата последней активности пользователя\n",
    "-- Целевой признак:\n",
    "- Price — цена (евро)\n"
   ]
  },
  {
   "cell_type": "markdown",
   "metadata": {},
   "source": [
    "## Подготовка данных"
   ]
  },
  {
   "cell_type": "code",
   "execution_count": 43,
   "metadata": {},
   "outputs": [],
   "source": [
    "import pandas as pd\n",
    "import numpy as np\n",
    "import matplotlib.pyplot as plt\n",
    "import seaborn as sns\n",
    "from sklearn.metrics import mean_squared_error\n",
    "from sklearn.preprocessing import OrdinalEncoder\n",
    "from sklearn.preprocessing import StandardScaler\n",
    "from sklearn.model_selection import train_test_split\n",
    "from sklearn.model_selection import GridSearchCV\n",
    "from sklearn.linear_model import LinearRegression\n",
    "from sklearn.ensemble import RandomForestRegressor\n",
    "from lightgbm import LGBMRegressor\n",
    "from sklearn.dummy import DummyRegressor\n",
    "import time"
   ]
  },
  {
   "cell_type": "code",
   "execution_count": 44,
   "metadata": {},
   "outputs": [],
   "source": [
    "df = pd.read_csv('D://Игорь/projects/autos.csv')"
   ]
  },
  {
   "cell_type": "code",
   "execution_count": 45,
   "metadata": {
    "scrolled": true
   },
   "outputs": [
    {
     "name": "stdout",
     "output_type": "stream",
     "text": [
      "<class 'pandas.core.frame.DataFrame'>\n",
      "RangeIndex: 354369 entries, 0 to 354368\n",
      "Data columns (total 16 columns):\n",
      " #   Column             Non-Null Count   Dtype \n",
      "---  ------             --------------   ----- \n",
      " 0   DateCrawled        354369 non-null  object\n",
      " 1   Price              354369 non-null  int64 \n",
      " 2   VehicleType        316879 non-null  object\n",
      " 3   RegistrationYear   354369 non-null  int64 \n",
      " 4   Gearbox            334536 non-null  object\n",
      " 5   Power              354369 non-null  int64 \n",
      " 6   Model              334664 non-null  object\n",
      " 7   Kilometer          354369 non-null  int64 \n",
      " 8   RegistrationMonth  354369 non-null  int64 \n",
      " 9   FuelType           321474 non-null  object\n",
      " 10  Brand              354369 non-null  object\n",
      " 11  NotRepaired        283215 non-null  object\n",
      " 12  DateCreated        354369 non-null  object\n",
      " 13  NumberOfPictures   354369 non-null  int64 \n",
      " 14  PostalCode         354369 non-null  int64 \n",
      " 15  LastSeen           354369 non-null  object\n",
      "dtypes: int64(7), object(9)\n",
      "memory usage: 43.3+ MB\n"
     ]
    }
   ],
   "source": [
    "df.info()"
   ]
  },
  {
   "cell_type": "markdown",
   "metadata": {},
   "source": [
    "В датасете 354 369 строк и 16 столбцов. Формат у столбцов верный, за исключнием столбцов с датой, но из удалим из датасета т.к. никакой нужной информации для обучения моделей они не несут."
   ]
  },
  {
   "cell_type": "code",
   "execution_count": 46,
   "metadata": {
    "scrolled": false
   },
   "outputs": [
    {
     "data": {
      "text/html": [
       "<div>\n",
       "<style scoped>\n",
       "    .dataframe tbody tr th:only-of-type {\n",
       "        vertical-align: middle;\n",
       "    }\n",
       "\n",
       "    .dataframe tbody tr th {\n",
       "        vertical-align: top;\n",
       "    }\n",
       "\n",
       "    .dataframe thead th {\n",
       "        text-align: right;\n",
       "    }\n",
       "</style>\n",
       "<table border=\"1\" class=\"dataframe\">\n",
       "  <thead>\n",
       "    <tr style=\"text-align: right;\">\n",
       "      <th></th>\n",
       "      <th>Price</th>\n",
       "      <th>RegistrationYear</th>\n",
       "      <th>Power</th>\n",
       "      <th>Kilometer</th>\n",
       "      <th>RegistrationMonth</th>\n",
       "      <th>NumberOfPictures</th>\n",
       "      <th>PostalCode</th>\n",
       "    </tr>\n",
       "  </thead>\n",
       "  <tbody>\n",
       "    <tr>\n",
       "      <th>count</th>\n",
       "      <td>354369.000000</td>\n",
       "      <td>354369.000000</td>\n",
       "      <td>354369.000000</td>\n",
       "      <td>354369.000000</td>\n",
       "      <td>354369.000000</td>\n",
       "      <td>354369.0</td>\n",
       "      <td>354369.000000</td>\n",
       "    </tr>\n",
       "    <tr>\n",
       "      <th>mean</th>\n",
       "      <td>4416.656776</td>\n",
       "      <td>2004.234448</td>\n",
       "      <td>110.094337</td>\n",
       "      <td>128211.172535</td>\n",
       "      <td>5.714645</td>\n",
       "      <td>0.0</td>\n",
       "      <td>50508.689087</td>\n",
       "    </tr>\n",
       "    <tr>\n",
       "      <th>std</th>\n",
       "      <td>4514.158514</td>\n",
       "      <td>90.227958</td>\n",
       "      <td>189.850405</td>\n",
       "      <td>37905.341530</td>\n",
       "      <td>3.726421</td>\n",
       "      <td>0.0</td>\n",
       "      <td>25783.096248</td>\n",
       "    </tr>\n",
       "    <tr>\n",
       "      <th>min</th>\n",
       "      <td>0.000000</td>\n",
       "      <td>1000.000000</td>\n",
       "      <td>0.000000</td>\n",
       "      <td>5000.000000</td>\n",
       "      <td>0.000000</td>\n",
       "      <td>0.0</td>\n",
       "      <td>1067.000000</td>\n",
       "    </tr>\n",
       "    <tr>\n",
       "      <th>25%</th>\n",
       "      <td>1050.000000</td>\n",
       "      <td>1999.000000</td>\n",
       "      <td>69.000000</td>\n",
       "      <td>125000.000000</td>\n",
       "      <td>3.000000</td>\n",
       "      <td>0.0</td>\n",
       "      <td>30165.000000</td>\n",
       "    </tr>\n",
       "    <tr>\n",
       "      <th>50%</th>\n",
       "      <td>2700.000000</td>\n",
       "      <td>2003.000000</td>\n",
       "      <td>105.000000</td>\n",
       "      <td>150000.000000</td>\n",
       "      <td>6.000000</td>\n",
       "      <td>0.0</td>\n",
       "      <td>49413.000000</td>\n",
       "    </tr>\n",
       "    <tr>\n",
       "      <th>75%</th>\n",
       "      <td>6400.000000</td>\n",
       "      <td>2008.000000</td>\n",
       "      <td>143.000000</td>\n",
       "      <td>150000.000000</td>\n",
       "      <td>9.000000</td>\n",
       "      <td>0.0</td>\n",
       "      <td>71083.000000</td>\n",
       "    </tr>\n",
       "    <tr>\n",
       "      <th>max</th>\n",
       "      <td>20000.000000</td>\n",
       "      <td>9999.000000</td>\n",
       "      <td>20000.000000</td>\n",
       "      <td>150000.000000</td>\n",
       "      <td>12.000000</td>\n",
       "      <td>0.0</td>\n",
       "      <td>99998.000000</td>\n",
       "    </tr>\n",
       "  </tbody>\n",
       "</table>\n",
       "</div>"
      ],
      "text/plain": [
       "               Price  RegistrationYear          Power      Kilometer  \\\n",
       "count  354369.000000     354369.000000  354369.000000  354369.000000   \n",
       "mean     4416.656776       2004.234448     110.094337  128211.172535   \n",
       "std      4514.158514         90.227958     189.850405   37905.341530   \n",
       "min         0.000000       1000.000000       0.000000    5000.000000   \n",
       "25%      1050.000000       1999.000000      69.000000  125000.000000   \n",
       "50%      2700.000000       2003.000000     105.000000  150000.000000   \n",
       "75%      6400.000000       2008.000000     143.000000  150000.000000   \n",
       "max     20000.000000       9999.000000   20000.000000  150000.000000   \n",
       "\n",
       "       RegistrationMonth  NumberOfPictures     PostalCode  \n",
       "count      354369.000000          354369.0  354369.000000  \n",
       "mean            5.714645               0.0   50508.689087  \n",
       "std             3.726421               0.0   25783.096248  \n",
       "min             0.000000               0.0    1067.000000  \n",
       "25%             3.000000               0.0   30165.000000  \n",
       "50%             6.000000               0.0   49413.000000  \n",
       "75%             9.000000               0.0   71083.000000  \n",
       "max            12.000000               0.0   99998.000000  "
      ]
     },
     "execution_count": 46,
     "metadata": {},
     "output_type": "execute_result"
    }
   ],
   "source": [
    "df.describe()"
   ]
  },
  {
   "cell_type": "code",
   "execution_count": 47,
   "metadata": {
    "scrolled": true
   },
   "outputs": [
    {
     "data": {
      "text/plain": [
       "DateCrawled              0\n",
       "Price                    0\n",
       "VehicleType          37490\n",
       "RegistrationYear         0\n",
       "Gearbox              19833\n",
       "Power                    0\n",
       "Model                19705\n",
       "Kilometer                0\n",
       "RegistrationMonth        0\n",
       "FuelType             32895\n",
       "Brand                    0\n",
       "NotRepaired          71154\n",
       "DateCreated              0\n",
       "NumberOfPictures         0\n",
       "PostalCode               0\n",
       "LastSeen                 0\n",
       "dtype: int64"
      ]
     },
     "execution_count": 47,
     "metadata": {},
     "output_type": "execute_result"
    }
   ],
   "source": [
    "df.isna().sum()"
   ]
  },
  {
   "cell_type": "markdown",
   "metadata": {},
   "source": [
    "В датасете имеются пропуски и не корректные данные, например год регистрации автомобиля, мощность или цена"
   ]
  },
  {
   "cell_type": "code",
   "execution_count": 48,
   "metadata": {
    "scrolled": true
   },
   "outputs": [
    {
     "data": {
      "text/plain": [
       "'2016-04-07 14:36:58'"
      ]
     },
     "execution_count": 48,
     "metadata": {},
     "output_type": "execute_result"
    }
   ],
   "source": [
    "#проверим максимальную дату выгрузки анкеты, чтобы понимать до какого года выпуска могут быть автомобили\n",
    "df['DateCrawled'].max()"
   ]
  },
  {
   "cell_type": "markdown",
   "metadata": {},
   "source": [
    "Анкета была выгружена в 2016году"
   ]
  },
  {
   "cell_type": "code",
   "execution_count": 49,
   "metadata": {},
   "outputs": [
    {
     "name": "stdout",
     "output_type": "stream",
     "text": [
      "Количество дубликатов в датасете: 4\n"
     ]
    }
   ],
   "source": [
    "print('Количество дубликатов в датасете:', df.duplicated().sum())"
   ]
  },
  {
   "cell_type": "markdown",
   "metadata": {},
   "source": [
    "Для начала удалим дубликаты в датасете"
   ]
  },
  {
   "cell_type": "code",
   "execution_count": 50,
   "metadata": {},
   "outputs": [
    {
     "name": "stdout",
     "output_type": "stream",
     "text": [
      "Количество дубликатов в датасете: 0\n"
     ]
    }
   ],
   "source": [
    "df = df.drop_duplicates()\n",
    "print('Количество дубликатов в датасете:', df.duplicated().sum())"
   ]
  },
  {
   "cell_type": "markdown",
   "metadata": {},
   "source": []
  },
  {
   "cell_type": "code",
   "execution_count": 51,
   "metadata": {},
   "outputs": [
    {
     "data": {
      "text/html": [
       "<div>\n",
       "<style scoped>\n",
       "    .dataframe tbody tr th:only-of-type {\n",
       "        vertical-align: middle;\n",
       "    }\n",
       "\n",
       "    .dataframe tbody tr th {\n",
       "        vertical-align: top;\n",
       "    }\n",
       "\n",
       "    .dataframe thead th {\n",
       "        text-align: right;\n",
       "    }\n",
       "</style>\n",
       "<table border=\"1\" class=\"dataframe\">\n",
       "  <thead>\n",
       "    <tr style=\"text-align: right;\">\n",
       "      <th></th>\n",
       "      <th>Price</th>\n",
       "      <th>VehicleType</th>\n",
       "      <th>RegistrationYear</th>\n",
       "      <th>Gearbox</th>\n",
       "      <th>Power</th>\n",
       "      <th>Model</th>\n",
       "      <th>Kilometer</th>\n",
       "      <th>FuelType</th>\n",
       "      <th>Brand</th>\n",
       "      <th>NotRepaired</th>\n",
       "    </tr>\n",
       "  </thead>\n",
       "  <tbody>\n",
       "    <tr>\n",
       "      <th>187841</th>\n",
       "      <td>5555</td>\n",
       "      <td>convertible</td>\n",
       "      <td>1990</td>\n",
       "      <td>manual</td>\n",
       "      <td>116</td>\n",
       "      <td>mx_reihe</td>\n",
       "      <td>100000</td>\n",
       "      <td>petrol</td>\n",
       "      <td>mazda</td>\n",
       "      <td>no</td>\n",
       "    </tr>\n",
       "    <tr>\n",
       "      <th>337996</th>\n",
       "      <td>1200</td>\n",
       "      <td>wagon</td>\n",
       "      <td>1999</td>\n",
       "      <td>manual</td>\n",
       "      <td>102</td>\n",
       "      <td>c_klasse</td>\n",
       "      <td>150000</td>\n",
       "      <td>gasoline</td>\n",
       "      <td>mercedes_benz</td>\n",
       "      <td>no</td>\n",
       "    </tr>\n",
       "    <tr>\n",
       "      <th>299569</th>\n",
       "      <td>750</td>\n",
       "      <td>small</td>\n",
       "      <td>1998</td>\n",
       "      <td>manual</td>\n",
       "      <td>60</td>\n",
       "      <td>corsa</td>\n",
       "      <td>150000</td>\n",
       "      <td>petrol</td>\n",
       "      <td>opel</td>\n",
       "      <td>no</td>\n",
       "    </tr>\n",
       "    <tr>\n",
       "      <th>121180</th>\n",
       "      <td>7700</td>\n",
       "      <td>wagon</td>\n",
       "      <td>2005</td>\n",
       "      <td>manual</td>\n",
       "      <td>231</td>\n",
       "      <td>5er</td>\n",
       "      <td>5000</td>\n",
       "      <td>gasoline</td>\n",
       "      <td>bmw</td>\n",
       "      <td>no</td>\n",
       "    </tr>\n",
       "    <tr>\n",
       "      <th>316686</th>\n",
       "      <td>3250</td>\n",
       "      <td>bus</td>\n",
       "      <td>2004</td>\n",
       "      <td>manual</td>\n",
       "      <td>101</td>\n",
       "      <td>meriva</td>\n",
       "      <td>150000</td>\n",
       "      <td>petrol</td>\n",
       "      <td>opel</td>\n",
       "      <td>no</td>\n",
       "    </tr>\n",
       "  </tbody>\n",
       "</table>\n",
       "</div>"
      ],
      "text/plain": [
       "        Price  VehicleType  RegistrationYear Gearbox  Power     Model  \\\n",
       "187841   5555  convertible              1990  manual    116  mx_reihe   \n",
       "337996   1200        wagon              1999  manual    102  c_klasse   \n",
       "299569    750        small              1998  manual     60     corsa   \n",
       "121180   7700        wagon              2005  manual    231       5er   \n",
       "316686   3250          bus              2004  manual    101    meriva   \n",
       "\n",
       "        Kilometer  FuelType          Brand NotRepaired  \n",
       "187841     100000    petrol          mazda          no  \n",
       "337996     150000  gasoline  mercedes_benz          no  \n",
       "299569     150000    petrol           opel          no  \n",
       "121180       5000  gasoline            bmw          no  \n",
       "316686     150000    petrol           opel          no  "
      ]
     },
     "execution_count": 51,
     "metadata": {},
     "output_type": "execute_result"
    }
   ],
   "source": [
    "#Теперь удалим столбцы, которые для нашей модели не нужны: `DateCrawled`, `RegistrationMonth`, `DateCreated`, `NumberOfPictures`, `PostalCode`, `LastSeen`.\n",
    "df = df.drop(['DateCrawled', 'RegistrationMonth', 'DateCreated',\n",
    "              'NumberOfPictures', 'PostalCode', 'LastSeen'], axis=1)\n",
    "df.sample(5)"
   ]
  },
  {
   "cell_type": "code",
   "execution_count": 52,
   "metadata": {},
   "outputs": [
    {
     "data": {
      "text/plain": [
       "17462"
      ]
     },
     "execution_count": 52,
     "metadata": {},
     "output_type": "execute_result"
    }
   ],
   "source": [
    "#проверим, сколько строк с нулевой ценой\n",
    "len(df[df['Price'] < 200])"
   ]
  },
  {
   "cell_type": "markdown",
   "metadata": {},
   "source": []
  },
  {
   "cell_type": "code",
   "execution_count": 53,
   "metadata": {},
   "outputs": [
    {
     "data": {
      "text/plain": [
       "0"
      ]
     },
     "execution_count": 53,
     "metadata": {},
     "output_type": "execute_result"
    }
   ],
   "source": [
    "#В датасете есть данные с нулевой ценой. Т.к. эти данные являются целевым признаком, а заменить их нечем, то данные строки удалим\n",
    "df = df[df['Price'] > 300].reset_index(drop=True)\n",
    "len(df[df['Price'] == 0])"
   ]
  },
  {
   "cell_type": "code",
   "execution_count": 54,
   "metadata": {},
   "outputs": [
    {
     "data": {
      "text/plain": [
       "Price                   0\n",
       "VehicleType         29295\n",
       "RegistrationYear        0\n",
       "Gearbox             14422\n",
       "Power                   0\n",
       "Model               15679\n",
       "Kilometer               0\n",
       "FuelType            25297\n",
       "Brand                   0\n",
       "NotRepaired         58821\n",
       "dtype: int64"
      ]
     },
     "execution_count": 54,
     "metadata": {},
     "output_type": "execute_result"
    }
   ],
   "source": [
    "#посмотрим еще раз на пропуски\n",
    "df.isna().sum()"
   ]
  },
  {
   "cell_type": "code",
   "execution_count": 55,
   "metadata": {},
   "outputs": [
    {
     "data": {
      "text/plain": [
       "array([nan, 'yes', 'no'], dtype=object)"
      ]
     },
     "execution_count": 55,
     "metadata": {},
     "output_type": "execute_result"
    }
   ],
   "source": [
    "df['NotRepaired'].unique()"
   ]
  },
  {
   "cell_type": "markdown",
   "metadata": {},
   "source": [
    "У нас всего 3 значения в этом столбце: 'yes', 'no' и nan. Заменим 'yes' на 1, 'no' на 0, пропуски также заменим на 0, потому что раз в этой графе ничего не указали, значит, скорее всего, нечего было указывать и машина не ремонтировалась."
   ]
  },
  {
   "cell_type": "code",
   "execution_count": 56,
   "metadata": {},
   "outputs": [],
   "source": [
    "df['NotRepaired'] = df['NotRepaired'].replace({'yes':1, 'no':0})"
   ]
  },
  {
   "cell_type": "code",
   "execution_count": 57,
   "metadata": {},
   "outputs": [],
   "source": [
    "df['NotRepaired'] = df['NotRepaired'].fillna(0).astype(int)"
   ]
  },
  {
   "cell_type": "code",
   "execution_count": 58,
   "metadata": {},
   "outputs": [
    {
     "data": {
      "text/plain": [
       "array([0, 1])"
      ]
     },
     "execution_count": 58,
     "metadata": {},
     "output_type": "execute_result"
    }
   ],
   "source": [
    "#проверим, прошла ли замена успешно\n",
    "df['NotRepaired'].unique()"
   ]
  },
  {
   "cell_type": "code",
   "execution_count": 59,
   "metadata": {},
   "outputs": [
    {
     "data": {
      "text/plain": [
       "(1980.0, 2020.0)"
      ]
     },
     "execution_count": 59,
     "metadata": {},
     "output_type": "execute_result"
    },
    {
     "data": {
      "image/png": "[encoded data removed]",
      "text/plain": [
       "<Figure size 432x288 with 1 Axes>"
      ]
     },
     "metadata": {
      "needs_background": "light"
     },
     "output_type": "display_data"
    }
   ],
   "source": [
    "# Перавый автомобиль был выпущен в 1885г, по этому все даты до 1885 и после 2022г являются выбросами. Год регистрации автомобилья является \n",
    "# важной информацией, заменить ее на среднее мы не можем. Для определения границ выбросов построим boxplot\n",
    "sns.boxplot(data=df['RegistrationYear'])\n",
    "plt.ylim(1980, 2020)"
   ]
  },
  {
   "cell_type": "markdown",
   "metadata": {},
   "source": [
    "На гистограмме видно, что выбросы начинаются до 1986 г. и после 2016 г. Отфильтруем эти данные."
   ]
  },
  {
   "cell_type": "code",
   "execution_count": 60,
   "metadata": {},
   "outputs": [
    {
     "name": "stdout",
     "output_type": "stream",
     "text": [
      "Количество строк с некорректным годом: 18768\n"
     ]
    }
   ],
   "source": [
    "print('Количество строк с некорректным годом:', len(df.query('RegistrationYear < 1986 or RegistrationYear > 2016')))"
   ]
  },
  {
   "cell_type": "code",
   "execution_count": 61,
   "metadata": {},
   "outputs": [],
   "source": [
    "df = df.query('RegistrationYear >= 1986 and RegistrationYear <= 2017')"
   ]
  },
  {
   "cell_type": "markdown",
   "metadata": {},
   "source": [
    "Как мы помним из описательной таблицы в столбце `Power` минимальное значение является 0, а максимальное значение - 20 000. Это явно выбросы и поэтому нужно заменить эти данные медианными значениями в зависимости от модели автомобиля. На сегодняшний день самым мощным автомобилем является Lotus Evija с мощностью 2000 лошадиных сил. Но для определения границы выбросов построим boxplot."
   ]
  },
  {
   "cell_type": "code",
   "execution_count": 62,
   "metadata": {},
   "outputs": [
    {
     "data": {
      "text/plain": [
       "(0.0, 400.0)"
      ]
     },
     "execution_count": 62,
     "metadata": {},
     "output_type": "execute_result"
    },
    {
     "data": {
      "image/png": "[encoded data removed]",
      "text/plain": [
       "<Figure size 432x288 with 1 Axes>"
      ]
     },
     "metadata": {
      "needs_background": "light"
     },
     "output_type": "display_data"
    }
   ],
   "source": [
    "# в столбце 'Power' минимальное значение является 0, максимальное 20 000. Это явно выбросы и их нужнор заменить на медианные значения\n",
    "# в зависимости от модели автомобиля. В данный момент самое мощное авто 2 000 лс. Но для определения границ выбросов построим boxplot\n",
    "sns.boxplot(data=df['Power'])\n",
    "plt.ylim(0, 400)"
   ]
  },
  {
   "cell_type": "markdown",
   "metadata": {},
   "source": [
    "На гистограмме видно, что выбросы начинаются после 260 лошадиных сил."
   ]
  },
  {
   "cell_type": "code",
   "execution_count": 63,
   "metadata": {},
   "outputs": [
    {
     "name": "stdout",
     "output_type": "stream",
     "text": [
      "Количество строк с некорректной мощностью: 35252\n"
     ]
    }
   ],
   "source": [
    "print('Количество строк с некорректной мощностью:', len(df.query('Power == 0 or Power > 260')))"
   ]
  },
  {
   "cell_type": "code",
   "execution_count": 64,
   "metadata": {},
   "outputs": [],
   "source": [
    "#заменим некорректные значения в столбце на пропуски\n",
    "df.loc[(df['Power'] <= 50) | (df['Power'] > 260), 'Power'] = None"
   ]
  },
  {
   "cell_type": "code",
   "execution_count": 65,
   "metadata": {},
   "outputs": [
    {
     "data": {
      "text/plain": [
       "Price                   0\n",
       "VehicleType         24883\n",
       "RegistrationYear        0\n",
       "Gearbox             13139\n",
       "Power                4686\n",
       "Model               14100\n",
       "Kilometer               0\n",
       "FuelType            22908\n",
       "Brand                   0\n",
       "NotRepaired             0\n",
       "dtype: int64"
      ]
     },
     "execution_count": 65,
     "metadata": {},
     "output_type": "execute_result"
    }
   ],
   "source": [
    "#и теперь заменим пропуски на медианы в зависимости от модели\n",
    "df['Power'] = df['Power'].fillna(df.groupby('Model')['Power'].transform('median'))\n",
    "df.isna().sum()"
   ]
  },
  {
   "cell_type": "code",
   "execution_count": 66,
   "metadata": {},
   "outputs": [
    {
     "data": {
      "text/plain": [
       "Price                   0\n",
       "VehicleType         24883\n",
       "RegistrationYear        0\n",
       "Gearbox             13139\n",
       "Power                   0\n",
       "Model               14100\n",
       "Kilometer               0\n",
       "FuelType            22908\n",
       "Brand                   0\n",
       "NotRepaired             0\n",
       "dtype: int64"
      ]
     },
     "execution_count": 66,
     "metadata": {},
     "output_type": "execute_result"
    }
   ],
   "source": [
    "df['Power'] = df['Power'].fillna(df.groupby('Brand')['Power'].transform('median'))\n",
    "df.isna().sum()"
   ]
  },
  {
   "cell_type": "markdown",
   "metadata": {},
   "source": [
    "У нас остались пропуски в столбцах `VehicleType`, `Gearbox`, `Model` и `FuelType`. Данные столбца `Model` являются основными для обучения модели и восстановить эти данные не получится, поэтому заменим пропуски в данном столбце на тип модели `Other`. Данные столбцов `VehicleType`, `Gearbox` и `FuelType` заполним исходя из наиболее встречающихся данных в аналогичных моделях авто."
   ]
  },
  {
   "cell_type": "code",
   "execution_count": 67,
   "metadata": {},
   "outputs": [
    {
     "name": "stdout",
     "output_type": "stream",
     "text": [
      "Процент пропуска данных по моделям от всего датасета: 4.416144924721955\n"
     ]
    }
   ],
   "source": [
    "print('Процент пропуска данных по моделям от всего датасета:', (df['Model'].isna().sum()/len(df))*100)"
   ]
  },
  {
   "cell_type": "markdown",
   "metadata": {},
   "source": [
    "Пять процентов от датасета много, удалять нельзя. Заменим пропуски на `Other`."
   ]
  },
  {
   "cell_type": "code",
   "execution_count": 68,
   "metadata": {},
   "outputs": [
    {
     "data": {
      "text/plain": [
       "0"
      ]
     },
     "execution_count": 68,
     "metadata": {},
     "output_type": "execute_result"
    }
   ],
   "source": [
    "df['Model'] = df['Model'].fillna('other')\n",
    "\n",
    "#проверим количество оставшихся пропусков в данном столбце\n",
    "df['Model'].isna().sum()"
   ]
  },
  {
   "cell_type": "markdown",
   "metadata": {},
   "source": [
    "Остались пропуски еще в 3 столбцах. И так как в них содержатся категориальные данные, то заменить их медианой или средним не получится. Нужно посчитать самое частое количество значений для конкретной модели автомобиля в признаках, в которых будем заменять пропуски и заменить пропуски этим самым частым значением."
   ]
  },
  {
   "cell_type": "code",
   "execution_count": 69,
   "metadata": {},
   "outputs": [],
   "source": [
    "#напишем lambda-функцию, т.к. данные трансформируются именно функцией\n",
    "#и стандартные функции метода transform нам здесь не подойдут\n",
    "df['VehicleType'] = df['VehicleType']\\\n",
    ".fillna(df.groupby('Model')['VehicleType']\\\n",
    ".transform(lambda x: x.value_counts().idxmax())) "
   ]
  },
  {
   "cell_type": "code",
   "execution_count": 70,
   "metadata": {},
   "outputs": [],
   "source": [
    "df['Gearbox'] = df['Gearbox']\\\n",
    ".fillna(df.groupby('Model')['Gearbox']\\\n",
    ".transform(lambda x: x.value_counts().idxmax())) "
   ]
  },
  {
   "cell_type": "code",
   "execution_count": 71,
   "metadata": {},
   "outputs": [],
   "source": [
    "df['FuelType'] = df['FuelType']\\\n",
    ".fillna(df.groupby('Model')['FuelType']\\\n",
    ".transform(lambda x: x.value_counts().idxmax())) "
   ]
  },
  {
   "cell_type": "code",
   "execution_count": 72,
   "metadata": {
    "scrolled": true
   },
   "outputs": [
    {
     "data": {
      "text/plain": [
       "Price               0\n",
       "VehicleType         0\n",
       "RegistrationYear    0\n",
       "Gearbox             0\n",
       "Power               0\n",
       "Model               0\n",
       "Kilometer           0\n",
       "FuelType            0\n",
       "Brand               0\n",
       "NotRepaired         0\n",
       "dtype: int64"
      ]
     },
     "execution_count": 72,
     "metadata": {},
     "output_type": "execute_result"
    }
   ],
   "source": [
    "df.isna().sum()"
   ]
  },
  {
   "cell_type": "code",
   "execution_count": null,
   "metadata": {},
   "outputs": [],
   "source": []
  },
  {
   "cell_type": "code",
   "execution_count": 73,
   "metadata": {
    "scrolled": true
   },
   "outputs": [
    {
     "data": {
      "text/html": [
       "<div>\n",
       "<style scoped>\n",
       "    .dataframe tbody tr th:only-of-type {\n",
       "        vertical-align: middle;\n",
       "    }\n",
       "\n",
       "    .dataframe tbody tr th {\n",
       "        vertical-align: top;\n",
       "    }\n",
       "\n",
       "    .dataframe thead th {\n",
       "        text-align: right;\n",
       "    }\n",
       "</style>\n",
       "<table border=\"1\" class=\"dataframe\">\n",
       "  <thead>\n",
       "    <tr style=\"text-align: right;\">\n",
       "      <th></th>\n",
       "      <th>Price</th>\n",
       "      <th>VehicleType</th>\n",
       "      <th>RegistrationYear</th>\n",
       "      <th>Gearbox</th>\n",
       "      <th>Power</th>\n",
       "      <th>Model</th>\n",
       "      <th>Kilometer</th>\n",
       "      <th>FuelType</th>\n",
       "      <th>Brand</th>\n",
       "      <th>NotRepaired</th>\n",
       "    </tr>\n",
       "  </thead>\n",
       "  <tbody>\n",
       "    <tr>\n",
       "      <th>count</th>\n",
       "      <td>319283.000000</td>\n",
       "      <td>319283</td>\n",
       "      <td>319283.000000</td>\n",
       "      <td>319283</td>\n",
       "      <td>319283.000000</td>\n",
       "      <td>319283</td>\n",
       "      <td>319283.000000</td>\n",
       "      <td>319283</td>\n",
       "      <td>319283</td>\n",
       "      <td>319283.000000</td>\n",
       "    </tr>\n",
       "    <tr>\n",
       "      <th>unique</th>\n",
       "      <td>NaN</td>\n",
       "      <td>8</td>\n",
       "      <td>NaN</td>\n",
       "      <td>2</td>\n",
       "      <td>NaN</td>\n",
       "      <td>247</td>\n",
       "      <td>NaN</td>\n",
       "      <td>7</td>\n",
       "      <td>40</td>\n",
       "      <td>NaN</td>\n",
       "    </tr>\n",
       "    <tr>\n",
       "      <th>top</th>\n",
       "      <td>NaN</td>\n",
       "      <td>sedan</td>\n",
       "      <td>NaN</td>\n",
       "      <td>manual</td>\n",
       "      <td>NaN</td>\n",
       "      <td>other</td>\n",
       "      <td>NaN</td>\n",
       "      <td>petrol</td>\n",
       "      <td>volkswagen</td>\n",
       "      <td>NaN</td>\n",
       "    </tr>\n",
       "    <tr>\n",
       "      <th>freq</th>\n",
       "      <td>NaN</td>\n",
       "      <td>99262</td>\n",
       "      <td>NaN</td>\n",
       "      <td>255392</td>\n",
       "      <td>NaN</td>\n",
       "      <td>34410</td>\n",
       "      <td>NaN</td>\n",
       "      <td>213812</td>\n",
       "      <td>69144</td>\n",
       "      <td>NaN</td>\n",
       "    </tr>\n",
       "    <tr>\n",
       "      <th>mean</th>\n",
       "      <td>4738.385908</td>\n",
       "      <td>NaN</td>\n",
       "      <td>2003.660164</td>\n",
       "      <td>NaN</td>\n",
       "      <td>119.000266</td>\n",
       "      <td>NaN</td>\n",
       "      <td>128814.077167</td>\n",
       "      <td>NaN</td>\n",
       "      <td>NaN</td>\n",
       "      <td>0.089454</td>\n",
       "    </tr>\n",
       "    <tr>\n",
       "      <th>std</th>\n",
       "      <td>4508.926938</td>\n",
       "      <td>NaN</td>\n",
       "      <td>6.075948</td>\n",
       "      <td>NaN</td>\n",
       "      <td>44.820189</td>\n",
       "      <td>NaN</td>\n",
       "      <td>36621.416688</td>\n",
       "      <td>NaN</td>\n",
       "      <td>NaN</td>\n",
       "      <td>0.285398</td>\n",
       "    </tr>\n",
       "    <tr>\n",
       "      <th>min</th>\n",
       "      <td>301.000000</td>\n",
       "      <td>NaN</td>\n",
       "      <td>1986.000000</td>\n",
       "      <td>NaN</td>\n",
       "      <td>51.000000</td>\n",
       "      <td>NaN</td>\n",
       "      <td>5000.000000</td>\n",
       "      <td>NaN</td>\n",
       "      <td>NaN</td>\n",
       "      <td>0.000000</td>\n",
       "    </tr>\n",
       "    <tr>\n",
       "      <th>25%</th>\n",
       "      <td>1350.000000</td>\n",
       "      <td>NaN</td>\n",
       "      <td>1999.000000</td>\n",
       "      <td>NaN</td>\n",
       "      <td>80.000000</td>\n",
       "      <td>NaN</td>\n",
       "      <td>125000.000000</td>\n",
       "      <td>NaN</td>\n",
       "      <td>NaN</td>\n",
       "      <td>0.000000</td>\n",
       "    </tr>\n",
       "    <tr>\n",
       "      <th>50%</th>\n",
       "      <td>3000.000000</td>\n",
       "      <td>NaN</td>\n",
       "      <td>2003.000000</td>\n",
       "      <td>NaN</td>\n",
       "      <td>115.000000</td>\n",
       "      <td>NaN</td>\n",
       "      <td>150000.000000</td>\n",
       "      <td>NaN</td>\n",
       "      <td>NaN</td>\n",
       "      <td>0.000000</td>\n",
       "    </tr>\n",
       "    <tr>\n",
       "      <th>75%</th>\n",
       "      <td>6800.000000</td>\n",
       "      <td>NaN</td>\n",
       "      <td>2008.000000</td>\n",
       "      <td>NaN</td>\n",
       "      <td>147.000000</td>\n",
       "      <td>NaN</td>\n",
       "      <td>150000.000000</td>\n",
       "      <td>NaN</td>\n",
       "      <td>NaN</td>\n",
       "      <td>0.000000</td>\n",
       "    </tr>\n",
       "    <tr>\n",
       "      <th>max</th>\n",
       "      <td>20000.000000</td>\n",
       "      <td>NaN</td>\n",
       "      <td>2017.000000</td>\n",
       "      <td>NaN</td>\n",
       "      <td>260.000000</td>\n",
       "      <td>NaN</td>\n",
       "      <td>150000.000000</td>\n",
       "      <td>NaN</td>\n",
       "      <td>NaN</td>\n",
       "      <td>1.000000</td>\n",
       "    </tr>\n",
       "  </tbody>\n",
       "</table>\n",
       "</div>"
      ],
      "text/plain": [
       "                Price VehicleType  RegistrationYear Gearbox          Power  \\\n",
       "count   319283.000000      319283     319283.000000  319283  319283.000000   \n",
       "unique            NaN           8               NaN       2            NaN   \n",
       "top               NaN       sedan               NaN  manual            NaN   \n",
       "freq              NaN       99262               NaN  255392            NaN   \n",
       "mean      4738.385908         NaN       2003.660164     NaN     119.000266   \n",
       "std       4508.926938         NaN          6.075948     NaN      44.820189   \n",
       "min        301.000000         NaN       1986.000000     NaN      51.000000   \n",
       "25%       1350.000000         NaN       1999.000000     NaN      80.000000   \n",
       "50%       3000.000000         NaN       2003.000000     NaN     115.000000   \n",
       "75%       6800.000000         NaN       2008.000000     NaN     147.000000   \n",
       "max      20000.000000         NaN       2017.000000     NaN     260.000000   \n",
       "\n",
       "         Model      Kilometer FuelType       Brand    NotRepaired  \n",
       "count   319283  319283.000000   319283      319283  319283.000000  \n",
       "unique     247            NaN        7          40            NaN  \n",
       "top      other            NaN   petrol  volkswagen            NaN  \n",
       "freq     34410            NaN   213812       69144            NaN  \n",
       "mean       NaN  128814.077167      NaN         NaN       0.089454  \n",
       "std        NaN   36621.416688      NaN         NaN       0.285398  \n",
       "min        NaN    5000.000000      NaN         NaN       0.000000  \n",
       "25%        NaN  125000.000000      NaN         NaN       0.000000  \n",
       "50%        NaN  150000.000000      NaN         NaN       0.000000  \n",
       "75%        NaN  150000.000000      NaN         NaN       0.000000  \n",
       "max        NaN  150000.000000      NaN         NaN       1.000000  "
      ]
     },
     "execution_count": 73,
     "metadata": {},
     "output_type": "execute_result"
    }
   ],
   "source": [
    "# код ревьюера\n",
    "df.describe(include = 'all')"
   ]
  },
  {
   "cell_type": "markdown",
   "metadata": {},
   "source": [
    "### Кодирование данных и разделение на выборки"
   ]
  },
  {
   "cell_type": "code",
   "execution_count": 74,
   "metadata": {},
   "outputs": [
    {
     "data": {
      "text/html": [
       "<div>\n",
       "<style scoped>\n",
       "    .dataframe tbody tr th:only-of-type {\n",
       "        vertical-align: middle;\n",
       "    }\n",
       "\n",
       "    .dataframe tbody tr th {\n",
       "        vertical-align: top;\n",
       "    }\n",
       "\n",
       "    .dataframe thead th {\n",
       "        text-align: right;\n",
       "    }\n",
       "</style>\n",
       "<table border=\"1\" class=\"dataframe\">\n",
       "  <thead>\n",
       "    <tr style=\"text-align: right;\">\n",
       "      <th></th>\n",
       "      <th>Price</th>\n",
       "      <th>VehicleType</th>\n",
       "      <th>RegistrationYear</th>\n",
       "      <th>Gearbox</th>\n",
       "      <th>Power</th>\n",
       "      <th>Model</th>\n",
       "      <th>Kilometer</th>\n",
       "      <th>FuelType</th>\n",
       "      <th>Brand</th>\n",
       "      <th>NotRepaired</th>\n",
       "    </tr>\n",
       "  </thead>\n",
       "  <tbody>\n",
       "    <tr>\n",
       "      <th>272122</th>\n",
       "      <td>6600</td>\n",
       "      <td>coupe</td>\n",
       "      <td>2007</td>\n",
       "      <td>manual</td>\n",
       "      <td>140.0</td>\n",
       "      <td>civic</td>\n",
       "      <td>70000</td>\n",
       "      <td>petrol</td>\n",
       "      <td>honda</td>\n",
       "      <td>0</td>\n",
       "    </tr>\n",
       "    <tr>\n",
       "      <th>184066</th>\n",
       "      <td>999</td>\n",
       "      <td>wagon</td>\n",
       "      <td>1999</td>\n",
       "      <td>manual</td>\n",
       "      <td>144.0</td>\n",
       "      <td>omega</td>\n",
       "      <td>150000</td>\n",
       "      <td>petrol</td>\n",
       "      <td>opel</td>\n",
       "      <td>1</td>\n",
       "    </tr>\n",
       "    <tr>\n",
       "      <th>145198</th>\n",
       "      <td>4900</td>\n",
       "      <td>coupe</td>\n",
       "      <td>2000</td>\n",
       "      <td>manual</td>\n",
       "      <td>224.0</td>\n",
       "      <td>tt</td>\n",
       "      <td>150000</td>\n",
       "      <td>petrol</td>\n",
       "      <td>audi</td>\n",
       "      <td>0</td>\n",
       "    </tr>\n",
       "    <tr>\n",
       "      <th>197011</th>\n",
       "      <td>1700</td>\n",
       "      <td>sedan</td>\n",
       "      <td>2001</td>\n",
       "      <td>manual</td>\n",
       "      <td>101.0</td>\n",
       "      <td>astra</td>\n",
       "      <td>150000</td>\n",
       "      <td>petrol</td>\n",
       "      <td>opel</td>\n",
       "      <td>0</td>\n",
       "    </tr>\n",
       "    <tr>\n",
       "      <th>157906</th>\n",
       "      <td>10900</td>\n",
       "      <td>sedan</td>\n",
       "      <td>2016</td>\n",
       "      <td>manual</td>\n",
       "      <td>211.0</td>\n",
       "      <td>other</td>\n",
       "      <td>150000</td>\n",
       "      <td>petrol</td>\n",
       "      <td>porsche</td>\n",
       "      <td>0</td>\n",
       "    </tr>\n",
       "  </tbody>\n",
       "</table>\n",
       "</div>"
      ],
      "text/plain": [
       "        Price VehicleType  RegistrationYear Gearbox  Power  Model  Kilometer  \\\n",
       "272122   6600       coupe              2007  manual  140.0  civic      70000   \n",
       "184066    999       wagon              1999  manual  144.0  omega     150000   \n",
       "145198   4900       coupe              2000  manual  224.0     tt     150000   \n",
       "197011   1700       sedan              2001  manual  101.0  astra     150000   \n",
       "157906  10900       sedan              2016  manual  211.0  other     150000   \n",
       "\n",
       "       FuelType    Brand  NotRepaired  \n",
       "272122   petrol    honda            0  \n",
       "184066   petrol     opel            1  \n",
       "145198   petrol     audi            0  \n",
       "197011   petrol     opel            0  \n",
       "157906   petrol  porsche            0  "
      ]
     },
     "execution_count": 74,
     "metadata": {},
     "output_type": "execute_result"
    }
   ],
   "source": [
    "df.sample(5)"
   ]
  },
  {
   "cell_type": "markdown",
   "metadata": {},
   "source": [
    "Сохраним отдельно каегориальные признаки бенз кодирование, чтобы сравнить результат обучения модели на них с кодированием и без.\n",
    "Если использовать прямое кодирование OHE, столбцов станет слишком много т.к. нужно кодировать бренд и модель, где много данных, по этому применим порядковое кодирование ОЕ к категориальным признакам. Но т.к. для линейной регрессии требуется прямое кодирование, то подготовиим отдельный датасет для линейной регрессии."
   ]
  },
  {
   "cell_type": "code",
   "execution_count": 75,
   "metadata": {},
   "outputs": [
    {
     "data": {
      "text/html": [
       "<div>\n",
       "<style scoped>\n",
       "    .dataframe tbody tr th:only-of-type {\n",
       "        vertical-align: middle;\n",
       "    }\n",
       "\n",
       "    .dataframe tbody tr th {\n",
       "        vertical-align: top;\n",
       "    }\n",
       "\n",
       "    .dataframe thead th {\n",
       "        text-align: right;\n",
       "    }\n",
       "</style>\n",
       "<table border=\"1\" class=\"dataframe\">\n",
       "  <thead>\n",
       "    <tr style=\"text-align: right;\">\n",
       "      <th></th>\n",
       "      <th>Price</th>\n",
       "      <th>RegistrationYear</th>\n",
       "      <th>Power</th>\n",
       "      <th>Kilometer</th>\n",
       "      <th>NotRepaired</th>\n",
       "      <th>VehicleType_convertible</th>\n",
       "      <th>VehicleType_coupe</th>\n",
       "      <th>VehicleType_other</th>\n",
       "      <th>VehicleType_sedan</th>\n",
       "      <th>VehicleType_small</th>\n",
       "      <th>...</th>\n",
       "      <th>Brand_seat</th>\n",
       "      <th>Brand_skoda</th>\n",
       "      <th>Brand_smart</th>\n",
       "      <th>Brand_sonstige_autos</th>\n",
       "      <th>Brand_subaru</th>\n",
       "      <th>Brand_suzuki</th>\n",
       "      <th>Brand_toyota</th>\n",
       "      <th>Brand_trabant</th>\n",
       "      <th>Brand_volkswagen</th>\n",
       "      <th>Brand_volvo</th>\n",
       "    </tr>\n",
       "  </thead>\n",
       "  <tbody>\n",
       "    <tr>\n",
       "      <th>284188</th>\n",
       "      <td>500</td>\n",
       "      <td>2003</td>\n",
       "      <td>58.0</td>\n",
       "      <td>150000</td>\n",
       "      <td>1</td>\n",
       "      <td>0</td>\n",
       "      <td>0</td>\n",
       "      <td>0</td>\n",
       "      <td>0</td>\n",
       "      <td>1</td>\n",
       "      <td>...</td>\n",
       "      <td>0</td>\n",
       "      <td>0</td>\n",
       "      <td>0</td>\n",
       "      <td>0</td>\n",
       "      <td>0</td>\n",
       "      <td>0</td>\n",
       "      <td>0</td>\n",
       "      <td>0</td>\n",
       "      <td>0</td>\n",
       "      <td>0</td>\n",
       "    </tr>\n",
       "    <tr>\n",
       "      <th>4043</th>\n",
       "      <td>3200</td>\n",
       "      <td>2004</td>\n",
       "      <td>95.0</td>\n",
       "      <td>125000</td>\n",
       "      <td>0</td>\n",
       "      <td>1</td>\n",
       "      <td>0</td>\n",
       "      <td>0</td>\n",
       "      <td>0</td>\n",
       "      <td>0</td>\n",
       "      <td>...</td>\n",
       "      <td>0</td>\n",
       "      <td>0</td>\n",
       "      <td>0</td>\n",
       "      <td>0</td>\n",
       "      <td>0</td>\n",
       "      <td>0</td>\n",
       "      <td>0</td>\n",
       "      <td>0</td>\n",
       "      <td>0</td>\n",
       "      <td>0</td>\n",
       "    </tr>\n",
       "    <tr>\n",
       "      <th>236983</th>\n",
       "      <td>16250</td>\n",
       "      <td>2011</td>\n",
       "      <td>211.0</td>\n",
       "      <td>50000</td>\n",
       "      <td>0</td>\n",
       "      <td>0</td>\n",
       "      <td>0</td>\n",
       "      <td>0</td>\n",
       "      <td>0</td>\n",
       "      <td>1</td>\n",
       "      <td>...</td>\n",
       "      <td>0</td>\n",
       "      <td>0</td>\n",
       "      <td>0</td>\n",
       "      <td>0</td>\n",
       "      <td>0</td>\n",
       "      <td>0</td>\n",
       "      <td>0</td>\n",
       "      <td>0</td>\n",
       "      <td>1</td>\n",
       "      <td>0</td>\n",
       "    </tr>\n",
       "    <tr>\n",
       "      <th>266299</th>\n",
       "      <td>1500</td>\n",
       "      <td>1999</td>\n",
       "      <td>56.0</td>\n",
       "      <td>150000</td>\n",
       "      <td>0</td>\n",
       "      <td>0</td>\n",
       "      <td>0</td>\n",
       "      <td>0</td>\n",
       "      <td>0</td>\n",
       "      <td>1</td>\n",
       "      <td>...</td>\n",
       "      <td>0</td>\n",
       "      <td>0</td>\n",
       "      <td>0</td>\n",
       "      <td>0</td>\n",
       "      <td>0</td>\n",
       "      <td>0</td>\n",
       "      <td>0</td>\n",
       "      <td>0</td>\n",
       "      <td>0</td>\n",
       "      <td>0</td>\n",
       "    </tr>\n",
       "    <tr>\n",
       "      <th>255416</th>\n",
       "      <td>560</td>\n",
       "      <td>1995</td>\n",
       "      <td>64.0</td>\n",
       "      <td>125000</td>\n",
       "      <td>0</td>\n",
       "      <td>0</td>\n",
       "      <td>0</td>\n",
       "      <td>0</td>\n",
       "      <td>0</td>\n",
       "      <td>1</td>\n",
       "      <td>...</td>\n",
       "      <td>0</td>\n",
       "      <td>0</td>\n",
       "      <td>0</td>\n",
       "      <td>0</td>\n",
       "      <td>0</td>\n",
       "      <td>0</td>\n",
       "      <td>0</td>\n",
       "      <td>0</td>\n",
       "      <td>1</td>\n",
       "      <td>0</td>\n",
       "    </tr>\n",
       "  </tbody>\n",
       "</table>\n",
       "<p>5 rows × 304 columns</p>\n",
       "</div>"
      ],
      "text/plain": [
       "        Price  RegistrationYear  Power  Kilometer  NotRepaired  \\\n",
       "284188    500              2003   58.0     150000            1   \n",
       "4043     3200              2004   95.0     125000            0   \n",
       "236983  16250              2011  211.0      50000            0   \n",
       "266299   1500              1999   56.0     150000            0   \n",
       "255416    560              1995   64.0     125000            0   \n",
       "\n",
       "        VehicleType_convertible  VehicleType_coupe  VehicleType_other  \\\n",
       "284188                        0                  0                  0   \n",
       "4043                          1                  0                  0   \n",
       "236983                        0                  0                  0   \n",
       "266299                        0                  0                  0   \n",
       "255416                        0                  0                  0   \n",
       "\n",
       "        VehicleType_sedan  VehicleType_small  ...  Brand_seat  Brand_skoda  \\\n",
       "284188                  0                  1  ...           0            0   \n",
       "4043                    0                  0  ...           0            0   \n",
       "236983                  0                  1  ...           0            0   \n",
       "266299                  0                  1  ...           0            0   \n",
       "255416                  0                  1  ...           0            0   \n",
       "\n",
       "        Brand_smart  Brand_sonstige_autos  Brand_subaru  Brand_suzuki  \\\n",
       "284188            0                     0             0             0   \n",
       "4043              0                     0             0             0   \n",
       "236983            0                     0             0             0   \n",
       "266299            0                     0             0             0   \n",
       "255416            0                     0             0             0   \n",
       "\n",
       "        Brand_toyota  Brand_trabant  Brand_volkswagen  Brand_volvo  \n",
       "284188             0              0                 0            0  \n",
       "4043               0              0                 0            0  \n",
       "236983             0              0                 1            0  \n",
       "266299             0              0                 0            0  \n",
       "255416             0              0                 1            0  \n",
       "\n",
       "[5 rows x 304 columns]"
      ]
     },
     "execution_count": 75,
     "metadata": {},
     "output_type": "execute_result"
    }
   ],
   "source": [
    "df_ohe = pd.get_dummies(df, drop_first=True)\n",
    "df_ohe.sample(5)"
   ]
  },
  {
   "cell_type": "code",
   "execution_count": 76,
   "metadata": {},
   "outputs": [
    {
     "name": "stdout",
     "output_type": "stream",
     "text": [
      "Размер обучающей выборки ОНЕ: 239462\n",
      "Размер Тестовой выборки ОНЕ: 79821\n"
     ]
    }
   ],
   "source": [
    "#Подготавливаем признаки для линейной регрессии\\\n",
    "features_ohe = df_ohe.drop(['Price'], axis=1)\n",
    "target_ohe = df_ohe['Price'].reset_index(drop=True)\n",
    "features_train_ohe, features_test_ohe, target_train_ohe, target_test_ohe = train_test_split(features_ohe,\n",
    "                                                                                           target_ohe, test_size=0.25,\n",
    "                                                                                           random_state=12345) \n",
    "print('Размер обучающей выборки ОНЕ:', len(target_train_ohe))\n",
    "print('Размер Тестовой выборки ОНЕ:', len(target_test_ohe))"
   ]
  },
  {
   "cell_type": "markdown",
   "metadata": {},
   "source": [
    "Для других трех моделей подготовим данные с порядковым кодированием и для сравнения без кодирования вообще"
   ]
  },
  {
   "cell_type": "code",
   "execution_count": 77,
   "metadata": {},
   "outputs": [
    {
     "name": "stdout",
     "output_type": "stream",
     "text": [
      "Размер обучающей выборки: 239462\n",
      "Размер Тестовой выборки: 79821\n"
     ]
    }
   ],
   "source": [
    "features = df.drop(['Price'], axis=1)\n",
    "target = df['Price'].reset_index(drop=True)\n",
    "features_train, features_test, target_train, target_test = train_test_split(\n",
    "features, target, test_size=0.25, random_state=12345)\n",
    "print('Размер обучающей выборки:', len(target_train))\n",
    "print('Размер Тестовой выборки:', len(target_test))"
   ]
  },
  {
   "cell_type": "code",
   "execution_count": 78,
   "metadata": {},
   "outputs": [],
   "source": [
    "df_oe = df.copy(deep=True)\n",
    "category = ['VehicleType', 'Gearbox', 'Model', 'FuelType', 'Brand']\n",
    "encoder = OrdinalEncoder()\n",
    "\n",
    "df_oe[category] = encoder.fit_transform(df_oe[category])"
   ]
  },
  {
   "cell_type": "code",
   "execution_count": 79,
   "metadata": {},
   "outputs": [
    {
     "data": {
      "text/html": [
       "<div>\n",
       "<style scoped>\n",
       "    .dataframe tbody tr th:only-of-type {\n",
       "        vertical-align: middle;\n",
       "    }\n",
       "\n",
       "    .dataframe tbody tr th {\n",
       "        vertical-align: top;\n",
       "    }\n",
       "\n",
       "    .dataframe thead th {\n",
       "        text-align: right;\n",
       "    }\n",
       "</style>\n",
       "<table border=\"1\" class=\"dataframe\">\n",
       "  <thead>\n",
       "    <tr style=\"text-align: right;\">\n",
       "      <th></th>\n",
       "      <th>Price</th>\n",
       "      <th>VehicleType</th>\n",
       "      <th>RegistrationYear</th>\n",
       "      <th>Gearbox</th>\n",
       "      <th>Power</th>\n",
       "      <th>Model</th>\n",
       "      <th>Kilometer</th>\n",
       "      <th>FuelType</th>\n",
       "      <th>Brand</th>\n",
       "      <th>NotRepaired</th>\n",
       "    </tr>\n",
       "  </thead>\n",
       "  <tbody>\n",
       "    <tr>\n",
       "      <th>299991</th>\n",
       "      <td>1450</td>\n",
       "      <td>4.0</td>\n",
       "      <td>1992</td>\n",
       "      <td>0.0</td>\n",
       "      <td>150.0</td>\n",
       "      <td>95.0</td>\n",
       "      <td>150000</td>\n",
       "      <td>6.0</td>\n",
       "      <td>20.0</td>\n",
       "      <td>0</td>\n",
       "    </tr>\n",
       "    <tr>\n",
       "      <th>291207</th>\n",
       "      <td>999</td>\n",
       "      <td>5.0</td>\n",
       "      <td>1999</td>\n",
       "      <td>1.0</td>\n",
       "      <td>60.0</td>\n",
       "      <td>83.0</td>\n",
       "      <td>150000</td>\n",
       "      <td>6.0</td>\n",
       "      <td>24.0</td>\n",
       "      <td>0</td>\n",
       "    </tr>\n",
       "    <tr>\n",
       "      <th>70271</th>\n",
       "      <td>9850</td>\n",
       "      <td>4.0</td>\n",
       "      <td>2005</td>\n",
       "      <td>0.0</td>\n",
       "      <td>218.0</td>\n",
       "      <td>11.0</td>\n",
       "      <td>150000</td>\n",
       "      <td>6.0</td>\n",
       "      <td>2.0</td>\n",
       "      <td>0</td>\n",
       "    </tr>\n",
       "    <tr>\n",
       "      <th>153807</th>\n",
       "      <td>8999</td>\n",
       "      <td>5.0</td>\n",
       "      <td>2017</td>\n",
       "      <td>1.0</td>\n",
       "      <td>60.0</td>\n",
       "      <td>173.0</td>\n",
       "      <td>50000</td>\n",
       "      <td>6.0</td>\n",
       "      <td>38.0</td>\n",
       "      <td>0</td>\n",
       "    </tr>\n",
       "    <tr>\n",
       "      <th>1794</th>\n",
       "      <td>950</td>\n",
       "      <td>4.0</td>\n",
       "      <td>1998</td>\n",
       "      <td>1.0</td>\n",
       "      <td>116.0</td>\n",
       "      <td>231.0</td>\n",
       "      <td>150000</td>\n",
       "      <td>6.0</td>\n",
       "      <td>24.0</td>\n",
       "      <td>0</td>\n",
       "    </tr>\n",
       "  </tbody>\n",
       "</table>\n",
       "</div>"
      ],
      "text/plain": [
       "        Price  VehicleType  RegistrationYear  Gearbox  Power  Model  \\\n",
       "299991   1450          4.0              1992      0.0  150.0   95.0   \n",
       "291207    999          5.0              1999      1.0   60.0   83.0   \n",
       "70271    9850          4.0              2005      0.0  218.0   11.0   \n",
       "153807   8999          5.0              2017      1.0   60.0  173.0   \n",
       "1794      950          4.0              1998      1.0  116.0  231.0   \n",
       "\n",
       "        Kilometer  FuelType  Brand  NotRepaired  \n",
       "299991     150000       6.0   20.0            0  \n",
       "291207     150000       6.0   24.0            0  \n",
       "70271      150000       6.0    2.0            0  \n",
       "153807      50000       6.0   38.0            0  \n",
       "1794       150000       6.0   24.0            0  "
      ]
     },
     "execution_count": 79,
     "metadata": {},
     "output_type": "execute_result"
    }
   ],
   "source": [
    "df_oe.sample(5)"
   ]
  },
  {
   "cell_type": "markdown",
   "metadata": {},
   "source": [
    "Кодирование прошло успешнно. Проведем масштабирование признаковы и разделим выборку на обучающую и туствувую в соотношении 3:1"
   ]
  },
  {
   "cell_type": "code",
   "execution_count": 80,
   "metadata": {},
   "outputs": [],
   "source": [
    "#Делим на призщнаки и целевой признак\n",
    "features_oe = df_oe.drop(['Price'], axis=1)\n",
    "target_oe = df_oe['Price'].reset_index(drop=True)"
   ]
  },
  {
   "cell_type": "code",
   "execution_count": 81,
   "metadata": {},
   "outputs": [
    {
     "data": {
      "text/html": [
       "<div>\n",
       "<style scoped>\n",
       "    .dataframe tbody tr th:only-of-type {\n",
       "        vertical-align: middle;\n",
       "    }\n",
       "\n",
       "    .dataframe tbody tr th {\n",
       "        vertical-align: top;\n",
       "    }\n",
       "\n",
       "    .dataframe thead th {\n",
       "        text-align: right;\n",
       "    }\n",
       "</style>\n",
       "<table border=\"1\" class=\"dataframe\">\n",
       "  <thead>\n",
       "    <tr style=\"text-align: right;\">\n",
       "      <th></th>\n",
       "      <th>VehicleType</th>\n",
       "      <th>RegistrationYear</th>\n",
       "      <th>Gearbox</th>\n",
       "      <th>Power</th>\n",
       "      <th>Model</th>\n",
       "      <th>Kilometer</th>\n",
       "      <th>FuelType</th>\n",
       "      <th>Brand</th>\n",
       "      <th>NotRepaired</th>\n",
       "    </tr>\n",
       "  </thead>\n",
       "  <tbody>\n",
       "    <tr>\n",
       "      <th>291844</th>\n",
       "      <td>5.0</td>\n",
       "      <td>2004</td>\n",
       "      <td>1.0</td>\n",
       "      <td>61.0</td>\n",
       "      <td>106.0</td>\n",
       "      <td>125000</td>\n",
       "      <td>6.0</td>\n",
       "      <td>32.0</td>\n",
       "      <td>0</td>\n",
       "    </tr>\n",
       "    <tr>\n",
       "      <th>94563</th>\n",
       "      <td>5.0</td>\n",
       "      <td>1995</td>\n",
       "      <td>1.0</td>\n",
       "      <td>65.0</td>\n",
       "      <td>83.0</td>\n",
       "      <td>150000</td>\n",
       "      <td>6.0</td>\n",
       "      <td>24.0</td>\n",
       "      <td>0</td>\n",
       "    </tr>\n",
       "    <tr>\n",
       "      <th>82553</th>\n",
       "      <td>7.0</td>\n",
       "      <td>2004</td>\n",
       "      <td>1.0</td>\n",
       "      <td>116.0</td>\n",
       "      <td>163.0</td>\n",
       "      <td>150000</td>\n",
       "      <td>4.0</td>\n",
       "      <td>31.0</td>\n",
       "      <td>0</td>\n",
       "    </tr>\n",
       "    <tr>\n",
       "      <th>78922</th>\n",
       "      <td>4.0</td>\n",
       "      <td>2004</td>\n",
       "      <td>1.0</td>\n",
       "      <td>105.0</td>\n",
       "      <td>42.0</td>\n",
       "      <td>150000</td>\n",
       "      <td>6.0</td>\n",
       "      <td>24.0</td>\n",
       "      <td>0</td>\n",
       "    </tr>\n",
       "    <tr>\n",
       "      <th>234001</th>\n",
       "      <td>5.0</td>\n",
       "      <td>2013</td>\n",
       "      <td>1.0</td>\n",
       "      <td>86.0</td>\n",
       "      <td>101.0</td>\n",
       "      <td>30000</td>\n",
       "      <td>6.0</td>\n",
       "      <td>31.0</td>\n",
       "      <td>0</td>\n",
       "    </tr>\n",
       "  </tbody>\n",
       "</table>\n",
       "</div>"
      ],
      "text/plain": [
       "        VehicleType  RegistrationYear  Gearbox  Power  Model  Kilometer  \\\n",
       "291844          5.0              2004      1.0   61.0  106.0     125000   \n",
       "94563           5.0              1995      1.0   65.0   83.0     150000   \n",
       "82553           7.0              2004      1.0  116.0  163.0     150000   \n",
       "78922           4.0              2004      1.0  105.0   42.0     150000   \n",
       "234001          5.0              2013      1.0   86.0  101.0      30000   \n",
       "\n",
       "        FuelType  Brand  NotRepaired  \n",
       "291844       6.0   32.0            0  \n",
       "94563        6.0   24.0            0  \n",
       "82553        4.0   31.0            0  \n",
       "78922        6.0   24.0            0  \n",
       "234001       6.0   31.0            0  "
      ]
     },
     "execution_count": 81,
     "metadata": {},
     "output_type": "execute_result"
    }
   ],
   "source": [
    "#Проводим стандартизацию данных scategory = scaled category\n",
    "scategory = ['RegistrationYear', 'Power', 'Kilometer', 'NotRepaired']\n",
    "scaler = StandardScaler()\n",
    "features_ohe[scategory] = scaler.fit_transform(features_oe[scategory])\n",
    "features_oe.sample(5)"
   ]
  },
  {
   "cell_type": "code",
   "execution_count": 82,
   "metadata": {},
   "outputs": [
    {
     "name": "stderr",
     "output_type": "stream",
     "text": [
      "/tmp/ipykernel_182/2372267133.py:6: SettingWithCopyWarning: \n",
      "A value is trying to be set on a copy of a slice from a DataFrame.\n",
      "Try using .loc[row_indexer,col_indexer] = value instead\n",
      "\n",
      "See the caveats in the documentation: https://pandas.pydata.org/pandas-docs/stable/user_guide/indexing.html#returning-a-view-versus-a-copy\n",
      "  features_train_oe[category] = encoder.fit_transform(features_train_oe[category])\n",
      "/opt/conda/lib/python3.9/site-packages/pandas/core/indexing.py:1738: SettingWithCopyWarning: \n",
      "A value is trying to be set on a copy of a slice from a DataFrame.\n",
      "Try using .loc[row_indexer,col_indexer] = value instead\n",
      "\n",
      "See the caveats in the documentation: https://pandas.pydata.org/pandas-docs/stable/user_guide/indexing.html#returning-a-view-versus-a-copy\n",
      "  self._setitem_single_column(loc, value[:, i].tolist(), pi)\n"
     ]
    },
    {
     "name": "stdout",
     "output_type": "stream",
     "text": [
      "Размер обучающей выборки OE: 239462\n",
      "Размер Тестовой выборки OE: 79821\n"
     ]
    },
    {
     "name": "stderr",
     "output_type": "stream",
     "text": [
      "/tmp/ipykernel_182/2372267133.py:7: SettingWithCopyWarning: \n",
      "A value is trying to be set on a copy of a slice from a DataFrame.\n",
      "Try using .loc[row_indexer,col_indexer] = value instead\n",
      "\n",
      "See the caveats in the documentation: https://pandas.pydata.org/pandas-docs/stable/user_guide/indexing.html#returning-a-view-versus-a-copy\n",
      "  features_test_oe[category] = encoder.fit_transform(features_test_oe[category])\n",
      "/opt/conda/lib/python3.9/site-packages/pandas/core/indexing.py:1738: SettingWithCopyWarning: \n",
      "A value is trying to be set on a copy of a slice from a DataFrame.\n",
      "Try using .loc[row_indexer,col_indexer] = value instead\n",
      "\n",
      "See the caveats in the documentation: https://pandas.pydata.org/pandas-docs/stable/user_guide/indexing.html#returning-a-view-versus-a-copy\n",
      "  self._setitem_single_column(loc, value[:, i].tolist(), pi)\n"
     ]
    }
   ],
   "source": [
    "# разделим выборку на обучающую и тестовую в соотношении 3к1\n",
    "features_train_oe, features_test_oe, target_train_oe, target_test_oe = train_test_split(\n",
    "features_oe, target_oe, test_size=0.25, random_state=12345)\n",
    "\n",
    "#Делаем масштабирование\n",
    "features_train_oe[category] = encoder.fit_transform(features_train_oe[category])\n",
    "features_test_oe[category] = encoder.fit_transform(features_test_oe[category])\n",
    "\n",
    "print('Размер обучающей выборки OE:', len(target_train_oe))\n",
    "print('Размер Тестовой выборки OE:', len(target_test_oe))"
   ]
  },
  {
   "cell_type": "markdown",
   "metadata": {},
   "source": [
    "### Вывод:\n",
    "1. В датасете 354 369 стьрок и 16 столбцов. Формат у столбцов верный.ю\n",
    "2. В датасете имеются пропуски и не корректныве данные, например год регистрации автомобиля, мощность или цена.\n",
    "3. В датасете много пропусков и 4 дубликата.\n",
    "4. были удалены пропуски и столбцы,которые для модели не нужны: DateCrawled, RegistratiunMonth, DateCreated, NumberOfPictures, PostalCode, LastSeen.\n",
    "5. Были удалены данные с нулевой ценой т.к. заменить их нечем\n",
    "6. Были удалены столбцы с пропусками в данных о моделях, остальные бюыли заменены.\n",
    "7. К датасету было применено порядковое кодирование, масштабирование данных, датасет был разделен на обучающую и валидационную выборки в соотношении 3 к 1"
   ]
  },
  {
   "cell_type": "markdown",
   "metadata": {},
   "source": [
    "## Обучение моделей"
   ]
  },
  {
   "cell_type": "markdown",
   "metadata": {},
   "source": [
    "Обучим 3 модели: линейню регрессию, случайный лес, LightGBM. "
   ]
  },
  {
   "cell_type": "code",
   "execution_count": 83,
   "metadata": {},
   "outputs": [],
   "source": [
    "#Для начала создадим функцию посчета RMSE\n",
    "def rmse(target, prediction):\n",
    "    return mean_squared_error(target, prediction)**0.5"
   ]
  },
  {
   "cell_type": "markdown",
   "metadata": {},
   "source": [
    "### Линейная регрессия"
   ]
  },
  {
   "cell_type": "code",
   "execution_count": 84,
   "metadata": {},
   "outputs": [
    {
     "name": "stdout",
     "output_type": "stream",
     "text": [
      "RMSE линейной регрессии: 2659.173900281638\n",
      "Время обучения линейной регрессии: 92.8488187789917\n",
      "Время предсказания линейной регрессии: 0.22026300430297852\n"
     ]
    }
   ],
   "source": [
    "linear_model = LinearRegression()\n",
    "start_lin_train = time.time()\n",
    "linear_model.fit(features_train_ohe, target_train_ohe)\n",
    "end_lin_train = time.time()\n",
    "\n",
    "start_lin_pred = time.time()\n",
    "linear_prediction = linear_model.predict(features_test_ohe)\n",
    "end_lin_pred = time.time()\n",
    "\n",
    "print('RMSE линейной регрессии:', rmse(target_test_ohe, linear_prediction))\n",
    "print('Время обучения линейной регрессии:', end_lin_train - start_lin_train)\n",
    "print('Время предсказания линейной регрессии:', end_lin_pred - start_lin_pred)"
   ]
  },
  {
   "cell_type": "markdown",
   "metadata": {},
   "source": [
    "RMSE линейной регрессии составляет 2659,17, время обучения - 31.05s, а на предсказание ушло 0.29s. "
   ]
  },
  {
   "cell_type": "markdown",
   "metadata": {},
   "source": [
    "### Случайный лес"
   ]
  },
  {
   "cell_type": "code",
   "execution_count": null,
   "metadata": {},
   "outputs": [],
   "source": [
    "#Для подбора параметров используем GridSearchCV\n",
    "\n",
    "#%time\n",
    "\n",
    "forest_model = RandomForestRegressor(random_state=12345)\n",
    "forest_params = {'n_estimators':range(10,50,10), 'max_depth':range(10,15)}\n",
    "forest_grid = GridSearchCV(forest_model, forest_params, cv=5, scoring= 'neg_root_mean_squared_error', n_jobs=-1)\n",
    "forest_grid.fit(features_train_oe, target_train_oe)\n",
    "\n",
    "print('Лучшие параметры для случайного леса:', forest_grid.best_params_)\n",
    "print('Best score счлучайного леса:', forest_grid.best_score_)"
   ]
  },
  {
   "cell_type": "code",
   "execution_count": null,
   "metadata": {
    "scrolled": true
   },
   "outputs": [],
   "source": [
    "#Проверяем время обучени\\ forest oe\n",
    "forest_model = RandomForestRegressor(random_state=12345, max_depth=14, n_estimators=40)\n",
    "start_for_train = time.time()\n",
    "forest_model.fit(features_train_oe, target_train_oe)\n",
    "end_for_train = time.time()\n",
    "#Проверяем время прекдсказания forest oe\n",
    "start_for_pred = time.time()\n",
    "forest_prediction_oe = forest_model.predict(features_train_oe)\n",
    "end_for_pred = time.time()\n",
    "\n",
    "print('RMSE случайного леса:', rmse(target_train_oe, forest_prediction_oe))\n",
    "print('Время обучения случайного леса:', end_for_train - start_for_train)\n",
    "print('Время предсказания случайного леса:', end_for_pred - start_for_pred)\n"
   ]
  },
  {
   "cell_type": "markdown",
   "metadata": {},
   "source": [
    "RMSE у случайного леса составляет 1469.10, это на много лучше чем у линейной регрессии. Время обучения составило 15.50s, время предсказания составило 1.45s."
   ]
  },
  {
   "cell_type": "markdown",
   "metadata": {},
   "source": [
    "### LightGBM :\n",
    "— это фреймворк, который предоставляет реализацию деревьев принятия решений с градиентным бустингом. Он создан группой исследователей и разработчиков Microsoft. LightGBM известен своей более высокой скоростью обучения, хорошей точностью с параметрами по умолчанию, параллельным и GPU обучением, малым использованием памяти и возможностью обработки больших датасетов, которые не всегда помещаются в ней.\n"
   ]
  },
  {
   "cell_type": "code",
   "execution_count": null,
   "metadata": {},
   "outputs": [],
   "source": [
    "#меняем тип категориальных данных на category\n",
    "features_train[['VehicleType','Gearbox', 'Model', 'FuelType','Brand','NotRepaired']]=\\\n",
    "features_train[['VehicleType','Gearbox', 'Model', 'FuelType','Brand','NotRepaired']].astype('category')"
   ]
  },
  {
   "cell_type": "code",
   "execution_count": null,
   "metadata": {},
   "outputs": [],
   "source": [
    "gbm_model_oe = LGBMRegressor(random_state=12345)\n",
    "gbm_params_oe = {'n_estimators':[100,150], 'num_leaves':[10,15]}\n",
    "gbm_grid_oe = GridSearchCV(gbm_model_oe, gbm_params_oe, cv=5, scoring = 'neg_root_mean_squared_error', n_jobs=-1)\n",
    "gbm_grid_oe.fit(features_train_oe, target_train_oe)\n",
    "\n",
    "print('Лучшие параметры LightGBM OE:', gbm_grid_oe.best_params_)\n",
    "print('Best score LightGBM OE:', gbm_grid_oe.best_score_)"
   ]
  },
  {
   "cell_type": "code",
   "execution_count": null,
   "metadata": {},
   "outputs": [],
   "source": [
    "#Проверяем время обчуения\n",
    "gbm_model_oe = LGBMRegressor(randomstate=12345, n_estimators=150, num_leavs=15)\n",
    "start_gbm_train = time.time()\n",
    "gbm_model_oe.fit(features_train_oe, target_train_oe)\n",
    "end_gbm_train = time.time()\n",
    "\n",
    "#Время предсказания\n",
    "start_gbm_pred = time.time()\n",
    "gbm_prediction_oe = gbm_model_oe.predict(features_train_oe)\n",
    "end_gbm_pred = time.time()\n",
    "\n",
    "print('RMSE составляет:', rmse(target_train, gbm_prediction_oe))\n",
    "print('Время обучение:', end_gbm_train - start_gbm_train)\n",
    "print('Время предсказания:', end_gbm_pred - start_gbm_pred)"
   ]
  },
  {
   "cell_type": "code",
   "execution_count": null,
   "metadata": {},
   "outputs": [],
   "source": [
    "#выборка без кодирования\n",
    "cat_features = ['VehicleType', 'Gearbox', 'Model', 'FuelType', 'NotRepaired', 'Brand']  \n",
    "gbm_model = LGBMRegressor(random_state=12345, n_estimators=150, num_leaves=15)\n",
    "start_gbm_train = time.time()\n",
    "gbm_model.fit(features_train, target_train, categorical_feature=cat_features, verbose=False)\n",
    "end_gbm_train = time.time()\n",
    "\n",
    "#проверим время предсказания LightGBM\n",
    "start_gbm_pred\n",
    "gbm_prediction = gbm_model.predict(features_train)\n",
    "end_gbm_pred\n",
    "print('RMSE LightGBM составляет:', rmse(target_train, gbm_prediction))\n",
    "print('Время обучения LightGBM:', end_gbm_train - start_gbm_train)\n",
    "print('Время предсказания LightGBM:', end_gbm_pred - start_gbm_pred)"
   ]
  },
  {
   "cell_type": "markdown",
   "metadata": {},
   "source": [
    "LightGBM показал RMSE 1696.47 на закодированной выборке и RMSE 1675.82 на выборке без кодирования. При этом скорость обучения у него в разы выше, чем у всех предыдущих моделей, но скорость предсказаний самая низкая."
   ]
  },
  {
   "cell_type": "markdown",
   "metadata": {},
   "source": [
    "### Dummy Regressor"
   ]
  },
  {
   "cell_type": "markdown",
   "metadata": {},
   "source": [
    "Для проверки адекватности раборты моделей обучим dummy модель"
   ]
  },
  {
   "cell_type": "code",
   "execution_count": null,
   "metadata": {},
   "outputs": [],
   "source": [
    "dummy_model = DummyRegressor(strategy='mean')\n",
    "dummy_model.fit(features_train, target_train)\n",
    "dummy_prediction = dummy_model.predict(features_train)\n",
    "print('RMSE dummy модели составляет:', rmse(target_train, dummy_prediction))"
   ]
  },
  {
   "cell_type": "markdown",
   "metadata": {},
   "source": [
    "Все обученные модели лучше чем у Dummy"
   ]
  },
  {
   "cell_type": "markdown",
   "metadata": {},
   "source": [
    "### Вывод:\n",
    "1. Были обучены 3 модели: линейная регрессия, случайный лес и LightGBM\n",
    "2. Лучший результат RMSE у случайного леса - 1469.10, самая высокая скорость предсказаний у LightGBM, самая высокая  скорость обучения у Линейной регрессии.\n",
    "3. Все модели показали результат лучше яем Dummy Regressor"
   ]
  },
  {
   "cell_type": "markdown",
   "metadata": {},
   "source": [
    "## Анализ моделей"
   ]
  },
  {
   "cell_type": "code",
   "execution_count": null,
   "metadata": {},
   "outputs": [],
   "source": [
    "#сделаем сравнительную таблицу с полученными данными\n",
    "data={'Модель': ['Linear Regression', 'RandomForest', 'CatBoost OE', 'CatBoost', 'LightGBM OE', 'LightGBM', 'DummyModel'],\n",
    "      'RMSE': [2683.46, 1487.57, 1575.14, '1548.22', 1811.71, '1701.26', 4507.91],\n",
    "      'Время обучения модели':['26.96 s' , '17.12 s', '58.54 s', '63.21 s', '4.79 s', '4.96 s', '3.52 ms'],\n",
    "      'Время предсказания модели' : ['0.14 s', '1.45 s', '0.21 s', '0.56 s', '2.02 s', '2.02 s', '3.52 ms']}\n",
    "data_pivot=pd.DataFrame.from_dict(data)\n",
    "display(data_pivot)"
   ]
  },
  {
   "cell_type": "markdown",
   "metadata": {},
   "source": [
    "Проверим работу случайного леса на тестовой выборке."
   ]
  },
  {
   "cell_type": "code",
   "execution_count": null,
   "metadata": {},
   "outputs": [],
   "source": [
    "model = RandomForestRegressor(n_estimators=40, max_depth=14, random_state=12345)\n",
    "model.fit(features_train_oe, target_train_oe)\n",
    "prediction = model.predict(features_test_oe)\n",
    "print('RMSE случайного леса составляет:', rmse(target_test_oe, prediction))"
   ]
  },
  {
   "cell_type": "markdown",
   "metadata": {},
   "source": [
    " На тестовой выборке получился результат хуже, чем на обучающей выборке, но всё равно это достаточно высокий результат."
   ]
  },
  {
   "cell_type": "code",
   "execution_count": null,
   "metadata": {},
   "outputs": [],
   "source": [
    "feature_names = features_oe.columns \n",
    "model = RandomForestRegressor(n_estimators=40, max_depth=14, random_state=12345)\n",
    "model.fit(features_train_oe, target_train_oe)\n",
    "pred = model.predict(features_test_oe)\n",
    "importances = model.feature_importances_\n",
    "model_importances = pd.Series(importances, index=feature_names)\n",
    "std = np.std([model.feature_importances_ for tree in str(1000)], axis=0)\n",
    "fig, ax = plt.subplots(figsize=(10,7))\n",
    "model_importances.plot.bar(yerr=std, ax=ax)\n",
    "ax.set_ylabel(\"Mean decrease\")\n",
    "fig.tight_layout()"
   ]
  },
  {
   "cell_type": "markdown",
   "metadata": {},
   "source": [
    "### Вывод:\n",
    "1. По результатам проведенного исследования можно сделать вывод, что градиентный бустинг по качеству предсказаний превосходит линейную регрессию.\n",
    "2. Лучшей моделью по показателю качество работы/скорость является Случайный лес, потому что результат RMSE у него самый низких среди всех моделей."
   ]
  }
 ],
 "metadata": {
  "ExecuteTimeLog": [
   {
    "duration": 380,
    "start_time": "2022-06-17T17:34:28.222Z"
   },
   {
    "duration": 1085,
    "start_time": "2022-06-17T17:34:29.467Z"
   },
   {
    "duration": 891,
    "start_time": "2022-06-19T11:21:40.653Z"
   },
   {
    "duration": 785,
    "start_time": "2022-06-19T11:21:41.546Z"
   },
   {
    "duration": 144,
    "start_time": "2022-06-19T11:21:42.333Z"
   },
   {
    "duration": 84,
    "start_time": "2022-06-19T11:21:42.479Z"
   },
   {
    "duration": 408,
    "start_time": "2022-06-19T11:21:42.565Z"
   },
   {
    "duration": 152,
    "start_time": "2022-06-19T11:21:42.975Z"
   },
   {
    "duration": 43,
    "start_time": "2022-06-19T11:21:43.129Z"
   },
   {
    "duration": 881,
    "start_time": "2022-06-19T11:21:43.174Z"
   },
   {
    "duration": 53,
    "start_time": "2022-06-19T11:21:44.056Z"
   },
   {
    "duration": 22,
    "start_time": "2022-06-19T11:21:44.110Z"
   },
   {
    "duration": 53,
    "start_time": "2022-06-19T11:21:44.134Z"
   },
   {
    "duration": 88,
    "start_time": "2022-06-19T11:21:44.188Z"
   },
   {
    "duration": 18,
    "start_time": "2022-06-19T11:21:44.278Z"
   },
   {
    "duration": 117,
    "start_time": "2022-06-19T11:21:44.299Z"
   },
   {
    "duration": 13,
    "start_time": "2022-06-19T11:21:44.418Z"
   },
   {
    "duration": 11,
    "start_time": "2022-06-19T11:21:44.432Z"
   },
   {
    "duration": 137,
    "start_time": "2022-06-19T11:21:44.445Z"
   },
   {
    "duration": 25,
    "start_time": "2022-06-19T11:21:44.583Z"
   },
   {
    "duration": 49,
    "start_time": "2022-06-19T11:21:44.610Z"
   },
   {
    "duration": 141,
    "start_time": "2022-06-19T11:21:44.661Z"
   },
   {
    "duration": 24,
    "start_time": "2022-06-19T11:21:44.804Z"
   },
   {
    "duration": 10,
    "start_time": "2022-06-19T11:21:44.830Z"
   },
   {
    "duration": 133,
    "start_time": "2022-06-19T11:21:44.844Z"
   },
   {
    "duration": 116,
    "start_time": "2022-06-19T11:21:44.979Z"
   },
   {
    "duration": 16,
    "start_time": "2022-06-19T11:21:45.097Z"
   },
   {
    "duration": 39,
    "start_time": "2022-06-19T11:21:45.114Z"
   },
   {
    "duration": 281,
    "start_time": "2022-06-19T11:21:45.155Z"
   },
   {
    "duration": 282,
    "start_time": "2022-06-19T11:21:45.437Z"
   },
   {
    "duration": 3,
    "start_time": "2022-06-19T11:27:09.702Z"
   },
   {
    "duration": 852,
    "start_time": "2022-06-19T11:27:09.707Z"
   },
   {
    "duration": 135,
    "start_time": "2022-06-19T11:27:10.561Z"
   },
   {
    "duration": 81,
    "start_time": "2022-06-19T11:27:10.763Z"
   },
   {
    "duration": 380,
    "start_time": "2022-06-19T11:27:10.846Z"
   },
   {
    "duration": 122,
    "start_time": "2022-06-19T11:27:11.228Z"
   },
   {
    "duration": 25,
    "start_time": "2022-06-19T11:27:11.352Z"
   },
   {
    "duration": 848,
    "start_time": "2022-06-19T11:27:11.380Z"
   },
   {
    "duration": 49,
    "start_time": "2022-06-19T11:27:12.230Z"
   },
   {
    "duration": 8,
    "start_time": "2022-06-19T11:27:12.281Z"
   },
   {
    "duration": 73,
    "start_time": "2022-06-19T11:27:12.291Z"
   },
   {
    "duration": 83,
    "start_time": "2022-06-19T11:27:12.365Z"
   },
   {
    "duration": 19,
    "start_time": "2022-06-19T11:27:12.450Z"
   },
   {
    "duration": 112,
    "start_time": "2022-06-19T11:27:12.471Z"
   },
   {
    "duration": 6,
    "start_time": "2022-06-19T11:27:12.584Z"
   },
   {
    "duration": 6,
    "start_time": "2022-06-19T11:27:12.592Z"
   },
   {
    "duration": 143,
    "start_time": "2022-06-19T11:27:12.600Z"
   },
   {
    "duration": 20,
    "start_time": "2022-06-19T11:27:12.744Z"
   },
   {
    "duration": 26,
    "start_time": "2022-06-19T11:27:12.766Z"
   },
   {
    "duration": 143,
    "start_time": "2022-06-19T11:27:12.794Z"
   },
   {
    "duration": 12,
    "start_time": "2022-06-19T11:27:12.939Z"
   },
   {
    "duration": 8,
    "start_time": "2022-06-19T11:27:12.953Z"
   },
   {
    "duration": 116,
    "start_time": "2022-06-19T11:27:12.963Z"
   },
   {
    "duration": 106,
    "start_time": "2022-06-19T11:27:13.081Z"
   },
   {
    "duration": 15,
    "start_time": "2022-06-19T11:27:13.191Z"
   },
   {
    "duration": 50,
    "start_time": "2022-06-19T11:27:13.208Z"
   },
   {
    "duration": 271,
    "start_time": "2022-06-19T11:27:13.261Z"
   },
   {
    "duration": 270,
    "start_time": "2022-06-19T11:27:13.534Z"
   },
   {
    "duration": 272,
    "start_time": "2022-06-19T11:27:13.806Z"
   },
   {
    "duration": 73,
    "start_time": "2022-06-19T11:27:14.080Z"
   },
   {
    "duration": 2,
    "start_time": "2022-06-19T11:27:14.155Z"
   },
   {
    "duration": 138,
    "start_time": "2022-06-19T11:31:38.210Z"
   },
   {
    "duration": 281,
    "start_time": "2022-06-19T11:31:39.258Z"
   },
   {
    "duration": 54,
    "start_time": "2022-06-19T11:31:59.821Z"
   },
   {
    "duration": 2,
    "start_time": "2022-06-19T11:32:09.069Z"
   },
   {
    "duration": 740,
    "start_time": "2022-06-19T11:32:09.073Z"
   },
   {
    "duration": 135,
    "start_time": "2022-06-19T11:32:09.814Z"
   },
   {
    "duration": 93,
    "start_time": "2022-06-19T11:32:09.950Z"
   },
   {
    "duration": 124,
    "start_time": "2022-06-19T11:32:10.045Z"
   },
   {
    "duration": 26,
    "start_time": "2022-06-19T11:32:10.171Z"
   },
   {
    "duration": 447,
    "start_time": "2022-06-19T11:32:10.199Z"
   },
   {
    "duration": 871,
    "start_time": "2022-06-19T11:32:10.648Z"
   },
   {
    "duration": 51,
    "start_time": "2022-06-19T11:32:11.521Z"
   },
   {
    "duration": 10,
    "start_time": "2022-06-19T11:32:11.574Z"
   },
   {
    "duration": 85,
    "start_time": "2022-06-19T11:32:11.586Z"
   },
   {
    "duration": 87,
    "start_time": "2022-06-19T11:32:11.673Z"
   },
   {
    "duration": 24,
    "start_time": "2022-06-19T11:32:11.762Z"
   },
   {
    "duration": 108,
    "start_time": "2022-06-19T11:32:11.789Z"
   },
   {
    "duration": 7,
    "start_time": "2022-06-19T11:32:11.899Z"
   },
   {
    "duration": 20,
    "start_time": "2022-06-19T11:32:11.908Z"
   },
   {
    "duration": 126,
    "start_time": "2022-06-19T11:32:11.929Z"
   },
   {
    "duration": 25,
    "start_time": "2022-06-19T11:32:12.057Z"
   },
   {
    "duration": 22,
    "start_time": "2022-06-19T11:32:12.084Z"
   },
   {
    "duration": 135,
    "start_time": "2022-06-19T11:32:12.126Z"
   },
   {
    "duration": 13,
    "start_time": "2022-06-19T11:32:12.262Z"
   },
   {
    "duration": 10,
    "start_time": "2022-06-19T11:32:12.276Z"
   },
   {
    "duration": 119,
    "start_time": "2022-06-19T11:32:12.287Z"
   },
   {
    "duration": 108,
    "start_time": "2022-06-19T11:32:12.407Z"
   },
   {
    "duration": 21,
    "start_time": "2022-06-19T11:32:12.516Z"
   },
   {
    "duration": 33,
    "start_time": "2022-06-19T11:32:12.538Z"
   },
   {
    "duration": 343,
    "start_time": "2022-06-19T11:32:12.572Z"
   },
   {
    "duration": 244,
    "start_time": "2022-06-19T11:32:12.917Z"
   },
   {
    "duration": 298,
    "start_time": "2022-06-19T11:32:13.163Z"
   },
   {
    "duration": 76,
    "start_time": "2022-06-19T11:32:13.463Z"
   },
   {
    "duration": 108,
    "start_time": "2022-06-19T11:35:19.961Z"
   },
   {
    "duration": 46,
    "start_time": "2022-06-19T19:19:40.118Z"
   },
   {
    "duration": 30,
    "start_time": "2022-06-19T19:20:39.137Z"
   },
   {
    "duration": 53,
    "start_time": "2022-06-19T19:23:48.989Z"
   },
   {
    "duration": 1274,
    "start_time": "2022-06-19T19:23:53.396Z"
   },
   {
    "duration": 1052,
    "start_time": "2022-06-19T19:23:54.672Z"
   },
   {
    "duration": 126,
    "start_time": "2022-06-19T19:23:55.725Z"
   },
   {
    "duration": 93,
    "start_time": "2022-06-19T19:23:55.852Z"
   },
   {
    "duration": 127,
    "start_time": "2022-06-19T19:23:55.946Z"
   },
   {
    "duration": 24,
    "start_time": "2022-06-19T19:23:56.075Z"
   },
   {
    "duration": 440,
    "start_time": "2022-06-19T19:23:56.100Z"
   },
   {
    "duration": 894,
    "start_time": "2022-06-19T19:23:56.542Z"
   },
   {
    "duration": 79,
    "start_time": "2022-06-19T19:23:57.438Z"
   },
   {
    "duration": 47,
    "start_time": "2022-06-19T19:23:57.519Z"
   },
   {
    "duration": 104,
    "start_time": "2022-06-19T19:23:57.568Z"
   },
   {
    "duration": 77,
    "start_time": "2022-06-19T19:23:57.673Z"
   },
   {
    "duration": 30,
    "start_time": "2022-06-19T19:23:57.752Z"
   },
   {
    "duration": 105,
    "start_time": "2022-06-19T19:23:57.784Z"
   },
   {
    "duration": 7,
    "start_time": "2022-06-19T19:23:57.891Z"
   },
   {
    "duration": 11,
    "start_time": "2022-06-19T19:23:57.899Z"
   },
   {
    "duration": 124,
    "start_time": "2022-06-19T19:23:57.911Z"
   },
   {
    "duration": 28,
    "start_time": "2022-06-19T19:23:58.037Z"
   },
   {
    "duration": 22,
    "start_time": "2022-06-19T19:23:58.066Z"
   },
   {
    "duration": 131,
    "start_time": "2022-06-19T19:23:58.090Z"
   },
   {
    "duration": 14,
    "start_time": "2022-06-19T19:23:58.223Z"
   },
   {
    "duration": 25,
    "start_time": "2022-06-19T19:23:58.239Z"
   },
   {
    "duration": 92,
    "start_time": "2022-06-19T19:23:58.266Z"
   },
   {
    "duration": 99,
    "start_time": "2022-06-19T19:23:58.365Z"
   },
   {
    "duration": 14,
    "start_time": "2022-06-19T19:23:58.466Z"
   },
   {
    "duration": 31,
    "start_time": "2022-06-19T19:23:58.482Z"
   },
   {
    "duration": 263,
    "start_time": "2022-06-19T19:23:58.514Z"
   },
   {
    "duration": 288,
    "start_time": "2022-06-19T19:23:58.780Z"
   },
   {
    "duration": 247,
    "start_time": "2022-06-19T19:23:59.070Z"
   },
   {
    "duration": 65,
    "start_time": "2022-06-19T19:23:59.319Z"
   },
   {
    "duration": 255,
    "start_time": "2022-06-19T19:23:59.385Z"
   },
   {
    "duration": 4,
    "start_time": "2022-06-19T19:23:59.641Z"
   },
   {
    "duration": 1479,
    "start_time": "2022-06-21T10:06:01.508Z"
   },
   {
    "duration": 1183,
    "start_time": "2022-06-21T10:06:02.989Z"
   },
   {
    "duration": 143,
    "start_time": "2022-06-21T10:06:04.173Z"
   },
   {
    "duration": 99,
    "start_time": "2022-06-21T10:06:04.318Z"
   },
   {
    "duration": 143,
    "start_time": "2022-06-21T10:06:04.418Z"
   },
   {
    "duration": 25,
    "start_time": "2022-06-21T10:06:04.562Z"
   },
   {
    "duration": 491,
    "start_time": "2022-06-21T10:06:04.589Z"
   },
   {
    "duration": 983,
    "start_time": "2022-06-21T10:06:05.082Z"
   },
   {
    "duration": 52,
    "start_time": "2022-06-21T10:06:06.066Z"
   },
   {
    "duration": 13,
    "start_time": "2022-06-21T10:06:06.135Z"
   },
   {
    "duration": 55,
    "start_time": "2022-06-21T10:06:06.149Z"
   },
   {
    "duration": 95,
    "start_time": "2022-06-21T10:06:06.205Z"
   },
   {
    "duration": 33,
    "start_time": "2022-06-21T10:06:06.302Z"
   },
   {
    "duration": 101,
    "start_time": "2022-06-21T10:06:06.337Z"
   },
   {
    "duration": 6,
    "start_time": "2022-06-21T10:06:06.440Z"
   },
   {
    "duration": 7,
    "start_time": "2022-06-21T10:06:06.448Z"
   },
   {
    "duration": 140,
    "start_time": "2022-06-21T10:06:06.457Z"
   },
   {
    "duration": 29,
    "start_time": "2022-06-21T10:06:06.599Z"
   },
   {
    "duration": 27,
    "start_time": "2022-06-21T10:06:06.630Z"
   },
   {
    "duration": 132,
    "start_time": "2022-06-21T10:06:06.659Z"
   },
   {
    "duration": 13,
    "start_time": "2022-06-21T10:06:06.793Z"
   },
   {
    "duration": 27,
    "start_time": "2022-06-21T10:06:06.808Z"
   },
   {
    "duration": 119,
    "start_time": "2022-06-21T10:06:06.837Z"
   },
   {
    "duration": 109,
    "start_time": "2022-06-21T10:06:06.958Z"
   },
   {
    "duration": 16,
    "start_time": "2022-06-21T10:06:07.068Z"
   },
   {
    "duration": 45,
    "start_time": "2022-06-21T10:06:07.086Z"
   },
   {
    "duration": 308,
    "start_time": "2022-06-21T10:06:07.136Z"
   },
   {
    "duration": 284,
    "start_time": "2022-06-21T10:06:07.448Z"
   },
   {
    "duration": 280,
    "start_time": "2022-06-21T10:06:07.734Z"
   },
   {
    "duration": 81,
    "start_time": "2022-06-21T10:06:08.016Z"
   },
   {
    "duration": 278,
    "start_time": "2022-06-21T10:06:08.099Z"
   },
   {
    "duration": 18,
    "start_time": "2022-06-21T10:22:59.490Z"
   },
   {
    "duration": 22,
    "start_time": "2022-06-21T10:23:03.603Z"
   },
   {
    "duration": 808,
    "start_time": "2022-06-21T10:26:49.955Z"
   },
   {
    "duration": 222,
    "start_time": "2022-06-21T10:30:08.980Z"
   },
   {
    "duration": 268,
    "start_time": "2022-06-21T10:37:17.693Z"
   },
   {
    "duration": 0,
    "start_time": "2022-06-21T10:37:17.964Z"
   },
   {
    "duration": 0,
    "start_time": "2022-06-21T10:37:17.966Z"
   },
   {
    "duration": 0,
    "start_time": "2022-06-21T10:37:17.968Z"
   },
   {
    "duration": 0,
    "start_time": "2022-06-21T10:37:17.969Z"
   },
   {
    "duration": 0,
    "start_time": "2022-06-21T10:37:17.970Z"
   },
   {
    "duration": 0,
    "start_time": "2022-06-21T10:37:17.972Z"
   },
   {
    "duration": 0,
    "start_time": "2022-06-21T10:37:17.973Z"
   },
   {
    "duration": 0,
    "start_time": "2022-06-21T10:37:17.974Z"
   },
   {
    "duration": 0,
    "start_time": "2022-06-21T10:37:17.976Z"
   },
   {
    "duration": 0,
    "start_time": "2022-06-21T10:37:17.977Z"
   },
   {
    "duration": 0,
    "start_time": "2022-06-21T10:37:17.978Z"
   },
   {
    "duration": 0,
    "start_time": "2022-06-21T10:37:17.980Z"
   },
   {
    "duration": 0,
    "start_time": "2022-06-21T10:37:17.981Z"
   },
   {
    "duration": 0,
    "start_time": "2022-06-21T10:37:17.984Z"
   },
   {
    "duration": 0,
    "start_time": "2022-06-21T10:37:17.986Z"
   },
   {
    "duration": 0,
    "start_time": "2022-06-21T10:37:17.987Z"
   },
   {
    "duration": 0,
    "start_time": "2022-06-21T10:37:17.988Z"
   },
   {
    "duration": 0,
    "start_time": "2022-06-21T10:37:18.026Z"
   },
   {
    "duration": 0,
    "start_time": "2022-06-21T10:37:18.027Z"
   },
   {
    "duration": 0,
    "start_time": "2022-06-21T10:37:18.028Z"
   },
   {
    "duration": 0,
    "start_time": "2022-06-21T10:37:18.035Z"
   },
   {
    "duration": 0,
    "start_time": "2022-06-21T10:37:18.036Z"
   },
   {
    "duration": 0,
    "start_time": "2022-06-21T10:37:18.036Z"
   },
   {
    "duration": 0,
    "start_time": "2022-06-21T10:37:18.037Z"
   },
   {
    "duration": 0,
    "start_time": "2022-06-21T10:37:18.038Z"
   },
   {
    "duration": 0,
    "start_time": "2022-06-21T10:37:18.039Z"
   },
   {
    "duration": 0,
    "start_time": "2022-06-21T10:37:18.040Z"
   },
   {
    "duration": 0,
    "start_time": "2022-06-21T10:37:18.041Z"
   },
   {
    "duration": 0,
    "start_time": "2022-06-21T10:37:18.042Z"
   },
   {
    "duration": 0,
    "start_time": "2022-06-21T10:37:18.042Z"
   },
   {
    "duration": 0,
    "start_time": "2022-06-21T10:37:18.043Z"
   },
   {
    "duration": 0,
    "start_time": "2022-06-21T10:37:18.044Z"
   },
   {
    "duration": 0,
    "start_time": "2022-06-21T10:37:18.045Z"
   },
   {
    "duration": 162,
    "start_time": "2022-06-21T10:37:39.639Z"
   },
   {
    "duration": 28,
    "start_time": "2022-06-21T10:37:48.863Z"
   },
   {
    "duration": 5,
    "start_time": "2022-06-21T10:37:51.645Z"
   },
   {
    "duration": 832,
    "start_time": "2022-06-21T10:37:51.652Z"
   },
   {
    "duration": 164,
    "start_time": "2022-06-21T10:37:52.486Z"
   },
   {
    "duration": 106,
    "start_time": "2022-06-21T10:37:52.652Z"
   },
   {
    "duration": 183,
    "start_time": "2022-06-21T10:37:52.760Z"
   },
   {
    "duration": 33,
    "start_time": "2022-06-21T10:37:52.947Z"
   },
   {
    "duration": 421,
    "start_time": "2022-06-21T10:37:52.982Z"
   },
   {
    "duration": 923,
    "start_time": "2022-06-21T10:37:53.405Z"
   },
   {
    "duration": 55,
    "start_time": "2022-06-21T10:37:54.338Z"
   },
   {
    "duration": 8,
    "start_time": "2022-06-21T10:37:54.395Z"
   },
   {
    "duration": 73,
    "start_time": "2022-06-21T10:37:54.405Z"
   },
   {
    "duration": 98,
    "start_time": "2022-06-21T10:37:54.480Z"
   },
   {
    "duration": 23,
    "start_time": "2022-06-21T10:37:54.580Z"
   },
   {
    "duration": 130,
    "start_time": "2022-06-21T10:37:54.604Z"
   },
   {
    "duration": 8,
    "start_time": "2022-06-21T10:37:54.738Z"
   },
   {
    "duration": 8,
    "start_time": "2022-06-21T10:37:54.748Z"
   },
   {
    "duration": 147,
    "start_time": "2022-06-21T10:37:54.757Z"
   },
   {
    "duration": 35,
    "start_time": "2022-06-21T10:37:54.905Z"
   },
   {
    "duration": 28,
    "start_time": "2022-06-21T10:37:54.942Z"
   },
   {
    "duration": 159,
    "start_time": "2022-06-21T10:37:54.971Z"
   },
   {
    "duration": 17,
    "start_time": "2022-06-21T10:37:55.131Z"
   },
   {
    "duration": 10,
    "start_time": "2022-06-21T10:37:55.150Z"
   },
   {
    "duration": 127,
    "start_time": "2022-06-21T10:37:55.161Z"
   },
   {
    "duration": 104,
    "start_time": "2022-06-21T10:37:55.292Z"
   },
   {
    "duration": 16,
    "start_time": "2022-06-21T10:37:55.398Z"
   },
   {
    "duration": 47,
    "start_time": "2022-06-21T10:37:55.424Z"
   },
   {
    "duration": 269,
    "start_time": "2022-06-21T10:37:55.473Z"
   },
   {
    "duration": 253,
    "start_time": "2022-06-21T10:37:55.744Z"
   },
   {
    "duration": 264,
    "start_time": "2022-06-21T10:37:56.000Z"
   },
   {
    "duration": 82,
    "start_time": "2022-06-21T10:37:56.266Z"
   },
   {
    "duration": 292,
    "start_time": "2022-06-21T10:37:56.349Z"
   },
   {
    "duration": 18,
    "start_time": "2022-06-21T10:37:56.643Z"
   },
   {
    "duration": 885,
    "start_time": "2022-06-21T10:37:56.663Z"
   },
   {
    "duration": 450,
    "start_time": "2022-06-21T10:37:57.549Z"
   },
   {
    "duration": 444,
    "start_time": "2022-06-21T10:38:47.790Z"
   },
   {
    "duration": 415,
    "start_time": "2022-06-21T10:39:29.392Z"
   },
   {
    "duration": 92,
    "start_time": "2022-06-21T10:46:59.016Z"
   },
   {
    "duration": 95,
    "start_time": "2022-06-21T10:47:34.113Z"
   },
   {
    "duration": 28,
    "start_time": "2022-06-21T10:49:44.124Z"
   },
   {
    "duration": 37,
    "start_time": "2022-06-21T10:49:58.578Z"
   },
   {
    "duration": 921,
    "start_time": "2022-06-21T10:50:18.211Z"
   },
   {
    "duration": 30,
    "start_time": "2022-06-21T10:50:31.066Z"
   },
   {
    "duration": 11,
    "start_time": "2022-06-21T10:52:53.258Z"
   },
   {
    "duration": 10,
    "start_time": "2022-06-21T10:57:35.396Z"
   },
   {
    "duration": 14,
    "start_time": "2022-06-21T10:57:57.101Z"
   },
   {
    "duration": 255,
    "start_time": "2022-06-21T10:58:09.996Z"
   },
   {
    "duration": 62,
    "start_time": "2022-06-21T11:00:22.996Z"
   },
   {
    "duration": 92,
    "start_time": "2022-06-21T11:06:42.814Z"
   },
   {
    "duration": 50,
    "start_time": "2022-06-21T11:08:14.035Z"
   },
   {
    "duration": 3,
    "start_time": "2022-06-21T11:08:18.975Z"
   },
   {
    "duration": 9,
    "start_time": "2022-06-21T11:30:56.539Z"
   },
   {
    "duration": 915,
    "start_time": "2022-06-21T11:30:56.549Z"
   },
   {
    "duration": 146,
    "start_time": "2022-06-21T11:30:57.466Z"
   },
   {
    "duration": 93,
    "start_time": "2022-06-21T11:30:57.613Z"
   },
   {
    "duration": 165,
    "start_time": "2022-06-21T11:30:57.708Z"
   },
   {
    "duration": 58,
    "start_time": "2022-06-21T11:30:57.875Z"
   },
   {
    "duration": 465,
    "start_time": "2022-06-21T11:30:57.939Z"
   },
   {
    "duration": 965,
    "start_time": "2022-06-21T11:30:58.406Z"
   },
   {
    "duration": 56,
    "start_time": "2022-06-21T11:30:59.374Z"
   },
   {
    "duration": 18,
    "start_time": "2022-06-21T11:30:59.437Z"
   },
   {
    "duration": 72,
    "start_time": "2022-06-21T11:30:59.456Z"
   },
   {
    "duration": 93,
    "start_time": "2022-06-21T11:30:59.531Z"
   },
   {
    "duration": 32,
    "start_time": "2022-06-21T11:30:59.634Z"
   },
   {
    "duration": 120,
    "start_time": "2022-06-21T11:30:59.667Z"
   },
   {
    "duration": 6,
    "start_time": "2022-06-21T11:30:59.789Z"
   },
   {
    "duration": 10,
    "start_time": "2022-06-21T11:30:59.797Z"
   },
   {
    "duration": 157,
    "start_time": "2022-06-21T11:30:59.808Z"
   },
   {
    "duration": 24,
    "start_time": "2022-06-21T11:30:59.969Z"
   },
   {
    "duration": 37,
    "start_time": "2022-06-21T11:30:59.996Z"
   },
   {
    "duration": 176,
    "start_time": "2022-06-21T11:31:00.036Z"
   },
   {
    "duration": 33,
    "start_time": "2022-06-21T11:31:00.214Z"
   },
   {
    "duration": 11,
    "start_time": "2022-06-21T11:31:00.256Z"
   },
   {
    "duration": 132,
    "start_time": "2022-06-21T11:31:00.269Z"
   },
   {
    "duration": 116,
    "start_time": "2022-06-21T11:31:00.402Z"
   },
   {
    "duration": 33,
    "start_time": "2022-06-21T11:31:00.526Z"
   },
   {
    "duration": 58,
    "start_time": "2022-06-21T11:31:00.562Z"
   },
   {
    "duration": 325,
    "start_time": "2022-06-21T11:31:00.625Z"
   },
   {
    "duration": 294,
    "start_time": "2022-06-21T11:31:00.961Z"
   },
   {
    "duration": 310,
    "start_time": "2022-06-21T11:31:01.263Z"
   },
   {
    "duration": 89,
    "start_time": "2022-06-21T11:31:01.575Z"
   },
   {
    "duration": 436,
    "start_time": "2022-06-21T11:31:01.666Z"
   },
   {
    "duration": 55,
    "start_time": "2022-06-21T11:31:02.104Z"
   },
   {
    "duration": 1026,
    "start_time": "2022-06-21T11:31:02.162Z"
   },
   {
    "duration": 460,
    "start_time": "2022-06-21T11:31:03.190Z"
   },
   {
    "duration": 89,
    "start_time": "2022-06-21T11:31:03.653Z"
   },
   {
    "duration": 960,
    "start_time": "2022-06-21T11:31:03.748Z"
   },
   {
    "duration": 47,
    "start_time": "2022-06-21T11:31:04.710Z"
   },
   {
    "duration": 47,
    "start_time": "2022-06-21T11:31:04.760Z"
   },
   {
    "duration": 296,
    "start_time": "2022-06-21T11:31:04.809Z"
   },
   {
    "duration": 62,
    "start_time": "2022-06-21T11:31:05.106Z"
   },
   {
    "duration": 4,
    "start_time": "2022-06-21T11:31:05.170Z"
   },
   {
    "duration": 81168,
    "start_time": "2022-06-21T11:31:05.175Z"
   },
   {
    "duration": 14,
    "start_time": "2022-06-21T11:46:55.720Z"
   },
   {
    "duration": 5,
    "start_time": "2022-06-21T11:56:32.201Z"
   },
   {
    "duration": 12,
    "start_time": "2022-06-21T11:56:38.218Z"
   },
   {
    "duration": 55,
    "start_time": "2022-06-21T11:56:49.051Z"
   },
   {
    "duration": 0,
    "start_time": "2022-06-21T12:11:53.790Z"
   },
   {
    "duration": 6,
    "start_time": "2022-06-21T12:15:07.286Z"
   },
   {
    "duration": 5,
    "start_time": "2022-06-21T12:15:11.903Z"
   },
   {
    "duration": 0,
    "start_time": "2022-06-21T12:41:05.977Z"
   },
   {
    "duration": 0,
    "start_time": "2022-06-21T12:41:05.978Z"
   },
   {
    "duration": 0,
    "start_time": "2022-06-21T12:41:05.979Z"
   },
   {
    "duration": 0,
    "start_time": "2022-06-21T12:41:05.980Z"
   },
   {
    "duration": 0,
    "start_time": "2022-06-21T12:41:05.981Z"
   },
   {
    "duration": 0,
    "start_time": "2022-06-21T12:41:06.022Z"
   },
   {
    "duration": 0,
    "start_time": "2022-06-21T12:41:06.035Z"
   },
   {
    "duration": 0,
    "start_time": "2022-06-21T12:41:06.039Z"
   },
   {
    "duration": 0,
    "start_time": "2022-06-21T12:41:06.041Z"
   },
   {
    "duration": 0,
    "start_time": "2022-06-21T12:41:06.045Z"
   },
   {
    "duration": 0,
    "start_time": "2022-06-21T12:41:06.048Z"
   },
   {
    "duration": 0,
    "start_time": "2022-06-21T12:41:06.052Z"
   },
   {
    "duration": 0,
    "start_time": "2022-06-21T12:41:06.055Z"
   },
   {
    "duration": 0,
    "start_time": "2022-06-21T12:41:06.057Z"
   },
   {
    "duration": 0,
    "start_time": "2022-06-21T12:41:06.060Z"
   },
   {
    "duration": 0,
    "start_time": "2022-06-21T12:41:06.062Z"
   },
   {
    "duration": 0,
    "start_time": "2022-06-21T12:41:06.064Z"
   },
   {
    "duration": 0,
    "start_time": "2022-06-21T12:41:06.067Z"
   },
   {
    "duration": 0,
    "start_time": "2022-06-21T12:41:06.069Z"
   },
   {
    "duration": 0,
    "start_time": "2022-06-21T12:41:06.073Z"
   },
   {
    "duration": 0,
    "start_time": "2022-06-21T12:41:06.129Z"
   },
   {
    "duration": 0,
    "start_time": "2022-06-21T12:41:06.132Z"
   },
   {
    "duration": 0,
    "start_time": "2022-06-21T12:41:06.134Z"
   },
   {
    "duration": 0,
    "start_time": "2022-06-21T12:41:06.139Z"
   },
   {
    "duration": 0,
    "start_time": "2022-06-21T12:41:06.141Z"
   },
   {
    "duration": 0,
    "start_time": "2022-06-21T12:41:06.143Z"
   },
   {
    "duration": 0,
    "start_time": "2022-06-21T12:41:06.145Z"
   },
   {
    "duration": 0,
    "start_time": "2022-06-21T12:41:06.148Z"
   },
   {
    "duration": 0,
    "start_time": "2022-06-21T12:41:06.150Z"
   },
   {
    "duration": 0,
    "start_time": "2022-06-21T12:41:06.152Z"
   },
   {
    "duration": 0,
    "start_time": "2022-06-21T12:41:06.154Z"
   },
   {
    "duration": 0,
    "start_time": "2022-06-21T12:41:06.156Z"
   },
   {
    "duration": 1,
    "start_time": "2022-06-21T12:41:06.158Z"
   },
   {
    "duration": 0,
    "start_time": "2022-06-21T12:41:06.161Z"
   },
   {
    "duration": 0,
    "start_time": "2022-06-21T12:41:06.163Z"
   },
   {
    "duration": 0,
    "start_time": "2022-06-21T12:41:06.165Z"
   },
   {
    "duration": 0,
    "start_time": "2022-06-21T12:41:06.167Z"
   },
   {
    "duration": 0,
    "start_time": "2022-06-21T12:41:06.169Z"
   },
   {
    "duration": 0,
    "start_time": "2022-06-21T12:41:06.171Z"
   },
   {
    "duration": 0,
    "start_time": "2022-06-21T12:41:06.172Z"
   },
   {
    "duration": 0,
    "start_time": "2022-06-21T12:41:06.224Z"
   },
   {
    "duration": 0,
    "start_time": "2022-06-21T12:41:06.226Z"
   },
   {
    "duration": 0,
    "start_time": "2022-06-21T12:41:06.227Z"
   },
   {
    "duration": 16543,
    "start_time": "2022-06-21T12:41:35.743Z"
   },
   {
    "duration": 18430,
    "start_time": "2022-06-21T12:42:20.472Z"
   },
   {
    "duration": 0,
    "start_time": "2022-06-21T12:57:32.664Z"
   },
   {
    "duration": 0,
    "start_time": "2022-06-21T12:57:32.665Z"
   },
   {
    "duration": 0,
    "start_time": "2022-06-21T12:57:32.666Z"
   },
   {
    "duration": 0,
    "start_time": "2022-06-21T12:57:32.668Z"
   },
   {
    "duration": 0,
    "start_time": "2022-06-21T12:57:32.669Z"
   },
   {
    "duration": 0,
    "start_time": "2022-06-21T12:57:32.670Z"
   },
   {
    "duration": 0,
    "start_time": "2022-06-21T12:57:32.672Z"
   },
   {
    "duration": 0,
    "start_time": "2022-06-21T12:57:32.673Z"
   },
   {
    "duration": 0,
    "start_time": "2022-06-21T12:57:32.675Z"
   },
   {
    "duration": 0,
    "start_time": "2022-06-21T12:57:32.676Z"
   },
   {
    "duration": 0,
    "start_time": "2022-06-21T12:57:32.677Z"
   },
   {
    "duration": 0,
    "start_time": "2022-06-21T12:57:32.678Z"
   },
   {
    "duration": 0,
    "start_time": "2022-06-21T12:57:32.679Z"
   },
   {
    "duration": 0,
    "start_time": "2022-06-21T12:57:32.680Z"
   },
   {
    "duration": 0,
    "start_time": "2022-06-21T12:57:32.682Z"
   },
   {
    "duration": 0,
    "start_time": "2022-06-21T12:57:32.683Z"
   },
   {
    "duration": 0,
    "start_time": "2022-06-21T12:57:32.684Z"
   },
   {
    "duration": 0,
    "start_time": "2022-06-21T12:57:32.685Z"
   },
   {
    "duration": 0,
    "start_time": "2022-06-21T12:57:32.723Z"
   },
   {
    "duration": 0,
    "start_time": "2022-06-21T12:57:32.725Z"
   },
   {
    "duration": 0,
    "start_time": "2022-06-21T12:57:32.726Z"
   },
   {
    "duration": 0,
    "start_time": "2022-06-21T12:57:32.727Z"
   },
   {
    "duration": 0,
    "start_time": "2022-06-21T12:57:32.729Z"
   },
   {
    "duration": 0,
    "start_time": "2022-06-21T12:57:32.730Z"
   },
   {
    "duration": 0,
    "start_time": "2022-06-21T12:57:32.732Z"
   },
   {
    "duration": 0,
    "start_time": "2022-06-21T12:57:32.735Z"
   },
   {
    "duration": 0,
    "start_time": "2022-06-21T12:57:32.736Z"
   },
   {
    "duration": 0,
    "start_time": "2022-06-21T12:57:32.737Z"
   },
   {
    "duration": 0,
    "start_time": "2022-06-21T12:57:32.740Z"
   },
   {
    "duration": 0,
    "start_time": "2022-06-21T12:57:32.741Z"
   },
   {
    "duration": 0,
    "start_time": "2022-06-21T12:57:32.742Z"
   },
   {
    "duration": 0,
    "start_time": "2022-06-21T12:57:32.744Z"
   },
   {
    "duration": 0,
    "start_time": "2022-06-21T12:57:32.745Z"
   },
   {
    "duration": 0,
    "start_time": "2022-06-21T12:57:32.746Z"
   },
   {
    "duration": 0,
    "start_time": "2022-06-21T12:57:32.747Z"
   },
   {
    "duration": 0,
    "start_time": "2022-06-21T12:57:32.749Z"
   },
   {
    "duration": 0,
    "start_time": "2022-06-21T12:57:32.752Z"
   },
   {
    "duration": 0,
    "start_time": "2022-06-21T12:57:32.753Z"
   },
   {
    "duration": 1,
    "start_time": "2022-06-21T12:57:32.755Z"
   },
   {
    "duration": 0,
    "start_time": "2022-06-21T12:57:32.757Z"
   },
   {
    "duration": 0,
    "start_time": "2022-06-21T12:57:32.758Z"
   },
   {
    "duration": 0,
    "start_time": "2022-06-21T12:57:32.759Z"
   },
   {
    "duration": 0,
    "start_time": "2022-06-21T12:57:32.761Z"
   },
   {
    "duration": 0,
    "start_time": "2022-06-21T12:57:32.765Z"
   },
   {
    "duration": 11,
    "start_time": "2022-06-21T13:42:46.845Z"
   },
   {
    "duration": 917,
    "start_time": "2022-06-21T13:42:46.859Z"
   },
   {
    "duration": 169,
    "start_time": "2022-06-21T13:42:47.778Z"
   },
   {
    "duration": 119,
    "start_time": "2022-06-21T13:42:47.949Z"
   },
   {
    "duration": 145,
    "start_time": "2022-06-21T13:42:48.070Z"
   },
   {
    "duration": 58,
    "start_time": "2022-06-21T13:42:48.225Z"
   },
   {
    "duration": 507,
    "start_time": "2022-06-21T13:42:48.284Z"
   },
   {
    "duration": 1153,
    "start_time": "2022-06-21T13:42:48.792Z"
   },
   {
    "duration": 89,
    "start_time": "2022-06-21T13:42:49.947Z"
   },
   {
    "duration": 14,
    "start_time": "2022-06-21T13:42:50.040Z"
   },
   {
    "duration": 124,
    "start_time": "2022-06-21T13:42:50.056Z"
   },
   {
    "duration": 105,
    "start_time": "2022-06-21T13:42:50.183Z"
   },
   {
    "duration": 62,
    "start_time": "2022-06-21T13:42:50.289Z"
   },
   {
    "duration": 157,
    "start_time": "2022-06-21T13:42:50.356Z"
   },
   {
    "duration": 17,
    "start_time": "2022-06-21T13:42:50.516Z"
   },
   {
    "duration": 53,
    "start_time": "2022-06-21T13:42:50.542Z"
   },
   {
    "duration": 173,
    "start_time": "2022-06-21T13:42:50.597Z"
   },
   {
    "duration": 33,
    "start_time": "2022-06-21T13:42:50.773Z"
   },
   {
    "duration": 49,
    "start_time": "2022-06-21T13:42:50.808Z"
   },
   {
    "duration": 137,
    "start_time": "2022-06-21T13:42:50.861Z"
   },
   {
    "duration": 26,
    "start_time": "2022-06-21T13:42:51.000Z"
   },
   {
    "duration": 15,
    "start_time": "2022-06-21T13:42:51.028Z"
   },
   {
    "duration": 175,
    "start_time": "2022-06-21T13:42:51.047Z"
   },
   {
    "duration": 131,
    "start_time": "2022-06-21T13:42:51.224Z"
   },
   {
    "duration": 18,
    "start_time": "2022-06-21T13:42:51.357Z"
   },
   {
    "duration": 74,
    "start_time": "2022-06-21T13:42:51.377Z"
   },
   {
    "duration": 418,
    "start_time": "2022-06-21T13:42:51.457Z"
   },
   {
    "duration": 298,
    "start_time": "2022-06-21T13:42:51.878Z"
   },
   {
    "duration": 292,
    "start_time": "2022-06-21T13:42:52.178Z"
   },
   {
    "duration": 105,
    "start_time": "2022-06-21T13:42:52.472Z"
   },
   {
    "duration": 436,
    "start_time": "2022-06-21T13:42:52.579Z"
   },
   {
    "duration": 36,
    "start_time": "2022-06-21T13:42:53.017Z"
   },
   {
    "duration": 1081,
    "start_time": "2022-06-21T13:42:53.055Z"
   },
   {
    "duration": 479,
    "start_time": "2022-06-21T13:42:54.138Z"
   },
   {
    "duration": 95,
    "start_time": "2022-06-21T13:42:54.619Z"
   },
   {
    "duration": 1038,
    "start_time": "2022-06-21T13:42:54.727Z"
   },
   {
    "duration": 31,
    "start_time": "2022-06-21T13:42:55.769Z"
   },
   {
    "duration": 10,
    "start_time": "2022-06-21T13:42:55.802Z"
   },
   {
    "duration": 322,
    "start_time": "2022-06-21T13:42:55.814Z"
   },
   {
    "duration": 58,
    "start_time": "2022-06-21T13:42:56.137Z"
   },
   {
    "duration": 4,
    "start_time": "2022-06-21T13:42:56.197Z"
   },
   {
    "duration": 104333,
    "start_time": "2022-06-21T13:42:56.203Z"
   },
   {
    "duration": 864398,
    "start_time": "2022-06-21T13:44:40.538Z"
   },
   {
    "duration": 0,
    "start_time": "2022-06-21T13:59:04.937Z"
   },
   {
    "duration": 761977,
    "start_time": "2022-06-21T14:12:03.298Z"
   },
   {
    "duration": 17693,
    "start_time": "2022-06-21T14:24:45.277Z"
   },
   {
    "duration": 82,
    "start_time": "2022-06-21T14:50:07.844Z"
   },
   {
    "duration": 22,
    "start_time": "2022-06-21T14:50:14.514Z"
   },
   {
    "duration": 11,
    "start_time": "2022-06-21T14:55:44.436Z"
   },
   {
    "duration": 1714,
    "start_time": "2022-06-21T17:30:43.151Z"
   },
   {
    "duration": 2794,
    "start_time": "2022-06-21T17:30:44.866Z"
   },
   {
    "duration": 115,
    "start_time": "2022-06-21T17:30:47.661Z"
   },
   {
    "duration": 99,
    "start_time": "2022-06-21T17:30:47.778Z"
   },
   {
    "duration": 104,
    "start_time": "2022-06-21T17:30:47.879Z"
   },
   {
    "duration": 23,
    "start_time": "2022-06-21T17:30:47.985Z"
   },
   {
    "duration": 425,
    "start_time": "2022-06-21T17:30:48.010Z"
   },
   {
    "duration": 902,
    "start_time": "2022-06-21T17:30:48.436Z"
   },
   {
    "duration": 56,
    "start_time": "2022-06-21T17:30:49.341Z"
   },
   {
    "duration": 10,
    "start_time": "2022-06-21T17:30:49.399Z"
   },
   {
    "duration": 57,
    "start_time": "2022-06-21T17:30:49.429Z"
   },
   {
    "duration": 89,
    "start_time": "2022-06-21T17:30:49.488Z"
   },
   {
    "duration": 17,
    "start_time": "2022-06-21T17:30:49.579Z"
   },
   {
    "duration": 119,
    "start_time": "2022-06-21T17:30:49.597Z"
   },
   {
    "duration": 14,
    "start_time": "2022-06-21T17:30:49.717Z"
   },
   {
    "duration": 10,
    "start_time": "2022-06-21T17:30:49.734Z"
   },
   {
    "duration": 144,
    "start_time": "2022-06-21T17:30:49.747Z"
   },
   {
    "duration": 17,
    "start_time": "2022-06-21T17:30:49.892Z"
   },
   {
    "duration": 33,
    "start_time": "2022-06-21T17:30:49.912Z"
   },
   {
    "duration": 140,
    "start_time": "2022-06-21T17:30:49.947Z"
   },
   {
    "duration": 12,
    "start_time": "2022-06-21T17:30:50.088Z"
   },
   {
    "duration": 9,
    "start_time": "2022-06-21T17:30:50.101Z"
   },
   {
    "duration": 101,
    "start_time": "2022-06-21T17:30:50.111Z"
   },
   {
    "duration": 98,
    "start_time": "2022-06-21T17:30:50.214Z"
   },
   {
    "duration": 26,
    "start_time": "2022-06-21T17:30:50.314Z"
   },
   {
    "duration": 31,
    "start_time": "2022-06-21T17:30:50.342Z"
   },
   {
    "duration": 280,
    "start_time": "2022-06-21T17:30:50.374Z"
   },
   {
    "duration": 266,
    "start_time": "2022-06-21T17:30:50.659Z"
   },
   {
    "duration": 358,
    "start_time": "2022-06-21T17:30:50.927Z"
   },
   {
    "duration": 75,
    "start_time": "2022-06-21T17:30:51.287Z"
   },
   {
    "duration": 265,
    "start_time": "2022-06-21T17:30:51.363Z"
   },
   {
    "duration": 31,
    "start_time": "2022-06-21T17:30:51.630Z"
   },
   {
    "duration": 866,
    "start_time": "2022-06-21T17:30:51.663Z"
   },
   {
    "duration": 428,
    "start_time": "2022-06-21T17:30:52.531Z"
   },
   {
    "duration": 99,
    "start_time": "2022-06-21T17:30:52.960Z"
   },
   {
    "duration": 825,
    "start_time": "2022-06-21T17:30:53.061Z"
   },
   {
    "duration": 26,
    "start_time": "2022-06-21T17:30:53.887Z"
   },
   {
    "duration": 15,
    "start_time": "2022-06-21T17:30:53.931Z"
   },
   {
    "duration": 235,
    "start_time": "2022-06-21T17:30:53.949Z"
   },
   {
    "duration": 55,
    "start_time": "2022-06-21T17:30:54.185Z"
   },
   {
    "duration": 3,
    "start_time": "2022-06-21T17:30:54.243Z"
   },
   {
    "duration": 0,
    "start_time": "2022-06-21T18:00:12.753Z"
   },
   {
    "duration": 0,
    "start_time": "2022-06-21T18:00:12.831Z"
   },
   {
    "duration": 0,
    "start_time": "2022-06-21T18:00:12.837Z"
   },
   {
    "duration": 0,
    "start_time": "2022-06-21T18:00:12.842Z"
   },
   {
    "duration": 0,
    "start_time": "2022-06-21T18:00:12.847Z"
   },
   {
    "duration": 0,
    "start_time": "2022-06-21T18:00:12.852Z"
   },
   {
    "duration": 0,
    "start_time": "2022-06-21T18:00:12.933Z"
   },
   {
    "duration": 0,
    "start_time": "2022-06-21T18:00:12.937Z"
   },
   {
    "duration": 0,
    "start_time": "2022-06-21T18:00:12.943Z"
   },
   {
    "duration": 0,
    "start_time": "2022-06-21T18:00:12.949Z"
   },
   {
    "duration": 0,
    "start_time": "2022-06-21T18:00:12.955Z"
   },
   {
    "duration": 0,
    "start_time": "2022-06-21T18:00:13.031Z"
   },
   {
    "duration": 0,
    "start_time": "2022-06-21T18:00:13.037Z"
   },
   {
    "duration": 0,
    "start_time": "2022-06-21T18:00:13.042Z"
   },
   {
    "duration": 0,
    "start_time": "2022-06-21T18:00:13.049Z"
   },
   {
    "duration": 0,
    "start_time": "2022-06-21T18:00:13.133Z"
   },
   {
    "duration": 0,
    "start_time": "2022-06-21T18:00:13.138Z"
   },
   {
    "duration": 0,
    "start_time": "2022-06-21T18:00:13.143Z"
   },
   {
    "duration": 0,
    "start_time": "2022-06-21T18:00:13.149Z"
   },
   {
    "duration": 0,
    "start_time": "2022-06-21T18:00:13.155Z"
   },
   {
    "duration": 0,
    "start_time": "2022-06-21T18:00:13.230Z"
   },
   {
    "duration": 0,
    "start_time": "2022-06-21T18:00:13.236Z"
   },
   {
    "duration": 0,
    "start_time": "2022-06-21T18:00:13.255Z"
   },
   {
    "duration": 0,
    "start_time": "2022-06-21T18:00:13.261Z"
   },
   {
    "duration": 0,
    "start_time": "2022-06-21T18:00:13.334Z"
   },
   {
    "duration": 0,
    "start_time": "2022-06-21T18:00:13.337Z"
   },
   {
    "duration": 0,
    "start_time": "2022-06-21T18:00:13.344Z"
   },
   {
    "duration": 0,
    "start_time": "2022-06-21T18:00:13.350Z"
   },
   {
    "duration": 0,
    "start_time": "2022-06-21T18:00:13.430Z"
   },
   {
    "duration": 0,
    "start_time": "2022-06-21T18:00:13.436Z"
   },
   {
    "duration": 0,
    "start_time": "2022-06-21T18:00:13.442Z"
   },
   {
    "duration": 0,
    "start_time": "2022-06-21T18:00:13.461Z"
   },
   {
    "duration": 0,
    "start_time": "2022-06-21T18:00:13.532Z"
   },
   {
    "duration": 0,
    "start_time": "2022-06-21T18:00:13.538Z"
   },
   {
    "duration": 0,
    "start_time": "2022-06-21T18:00:13.544Z"
   },
   {
    "duration": 0,
    "start_time": "2022-06-21T18:00:13.550Z"
   },
   {
    "duration": 0,
    "start_time": "2022-06-21T18:00:13.630Z"
   },
   {
    "duration": 0,
    "start_time": "2022-06-21T18:00:13.636Z"
   },
   {
    "duration": 0,
    "start_time": "2022-06-21T18:00:13.641Z"
   },
   {
    "duration": 0,
    "start_time": "2022-06-21T18:00:13.646Z"
   },
   {
    "duration": 0,
    "start_time": "2022-06-21T18:00:13.652Z"
   },
   {
    "duration": 0,
    "start_time": "2022-06-21T18:00:13.657Z"
   },
   {
    "duration": 0,
    "start_time": "2022-06-21T18:00:13.734Z"
   },
   {
    "duration": 0,
    "start_time": "2022-06-21T18:00:13.740Z"
   },
   {
    "duration": 0,
    "start_time": "2022-06-21T18:00:13.745Z"
   },
   {
    "duration": 0,
    "start_time": "2022-06-21T18:00:13.753Z"
   },
   {
    "duration": 0,
    "start_time": "2022-06-21T18:00:13.834Z"
   },
   {
    "duration": 0,
    "start_time": "2022-06-21T18:00:13.840Z"
   },
   {
    "duration": 0,
    "start_time": "2022-06-21T18:00:13.845Z"
   },
   {
    "duration": 0,
    "start_time": "2022-06-21T18:00:13.851Z"
   },
   {
    "duration": 0,
    "start_time": "2022-06-21T18:00:13.933Z"
   },
   {
    "duration": 0,
    "start_time": "2022-06-21T18:00:13.936Z"
   },
   {
    "duration": 4,
    "start_time": "2022-06-21T18:01:59.758Z"
   },
   {
    "duration": 831,
    "start_time": "2022-06-21T18:01:59.764Z"
   },
   {
    "duration": 117,
    "start_time": "2022-06-21T18:02:00.597Z"
   },
   {
    "duration": 117,
    "start_time": "2022-06-21T18:02:00.716Z"
   },
   {
    "duration": 124,
    "start_time": "2022-06-21T18:02:00.835Z"
   },
   {
    "duration": 24,
    "start_time": "2022-06-21T18:02:00.961Z"
   },
   {
    "duration": 454,
    "start_time": "2022-06-21T18:02:00.987Z"
   },
   {
    "duration": 919,
    "start_time": "2022-06-21T18:02:01.443Z"
   },
   {
    "duration": 71,
    "start_time": "2022-06-21T18:02:02.364Z"
   },
   {
    "duration": 9,
    "start_time": "2022-06-21T18:02:02.437Z"
   },
   {
    "duration": 78,
    "start_time": "2022-06-21T18:02:02.448Z"
   },
   {
    "duration": 66,
    "start_time": "2022-06-21T18:02:02.529Z"
   },
   {
    "duration": 40,
    "start_time": "2022-06-21T18:02:02.597Z"
   },
   {
    "duration": 105,
    "start_time": "2022-06-21T18:02:02.639Z"
   },
   {
    "duration": 7,
    "start_time": "2022-06-21T18:02:02.746Z"
   },
   {
    "duration": 22,
    "start_time": "2022-06-21T18:02:02.755Z"
   },
   {
    "duration": 153,
    "start_time": "2022-06-21T18:02:02.779Z"
   },
   {
    "duration": 21,
    "start_time": "2022-06-21T18:02:02.934Z"
   },
   {
    "duration": 32,
    "start_time": "2022-06-21T18:02:02.957Z"
   },
   {
    "duration": 199,
    "start_time": "2022-06-21T18:02:02.992Z"
   },
   {
    "duration": 15,
    "start_time": "2022-06-21T18:02:03.193Z"
   },
   {
    "duration": 26,
    "start_time": "2022-06-21T18:02:03.210Z"
   },
   {
    "duration": 167,
    "start_time": "2022-06-21T18:02:03.238Z"
   },
   {
    "duration": 124,
    "start_time": "2022-06-21T18:02:03.406Z"
   },
   {
    "duration": 16,
    "start_time": "2022-06-21T18:02:03.532Z"
   },
   {
    "duration": 43,
    "start_time": "2022-06-21T18:02:03.550Z"
   },
   {
    "duration": 328,
    "start_time": "2022-06-21T18:02:03.595Z"
   },
   {
    "duration": 264,
    "start_time": "2022-06-21T18:02:03.928Z"
   },
   {
    "duration": 331,
    "start_time": "2022-06-21T18:02:04.197Z"
   },
   {
    "duration": 85,
    "start_time": "2022-06-21T18:02:04.531Z"
   },
   {
    "duration": 264,
    "start_time": "2022-06-21T18:02:04.629Z"
   },
   {
    "duration": 38,
    "start_time": "2022-06-21T18:02:04.896Z"
   },
   {
    "duration": 1066,
    "start_time": "2022-06-21T18:02:04.936Z"
   },
   {
    "duration": 521,
    "start_time": "2022-06-21T18:02:06.004Z"
   },
   {
    "duration": 86,
    "start_time": "2022-06-21T18:02:06.526Z"
   },
   {
    "duration": 831,
    "start_time": "2022-06-21T18:02:06.629Z"
   },
   {
    "duration": 31,
    "start_time": "2022-06-21T18:02:07.463Z"
   },
   {
    "duration": 11,
    "start_time": "2022-06-21T18:02:07.496Z"
   },
   {
    "duration": 259,
    "start_time": "2022-06-21T18:02:07.509Z"
   },
   {
    "duration": 76,
    "start_time": "2022-06-21T18:02:07.771Z"
   },
   {
    "duration": 3,
    "start_time": "2022-06-21T18:02:07.849Z"
   },
   {
    "duration": 27882,
    "start_time": "2022-06-21T18:02:07.854Z"
   },
   {
    "duration": 0,
    "start_time": "2022-06-21T18:14:14.823Z"
   },
   {
    "duration": 0,
    "start_time": "2022-06-21T18:14:14.824Z"
   },
   {
    "duration": 0,
    "start_time": "2022-06-21T18:14:14.825Z"
   },
   {
    "duration": 0,
    "start_time": "2022-06-21T18:14:14.826Z"
   },
   {
    "duration": 0,
    "start_time": "2022-06-21T18:14:14.827Z"
   },
   {
    "duration": 0,
    "start_time": "2022-06-21T18:14:14.828Z"
   },
   {
    "duration": 0,
    "start_time": "2022-06-21T18:14:14.829Z"
   },
   {
    "duration": 0,
    "start_time": "2022-06-21T18:14:14.830Z"
   },
   {
    "duration": 0,
    "start_time": "2022-06-21T18:14:14.831Z"
   },
   {
    "duration": 0,
    "start_time": "2022-06-21T18:14:14.831Z"
   },
   {
    "duration": 0,
    "start_time": "2022-06-21T18:14:14.832Z"
   },
   {
    "duration": 0,
    "start_time": "2022-06-21T18:14:14.833Z"
   },
   {
    "duration": 0,
    "start_time": "2022-06-21T18:14:14.834Z"
   },
   {
    "duration": 0,
    "start_time": "2022-06-21T18:14:14.835Z"
   },
   {
    "duration": 0,
    "start_time": "2022-06-21T18:14:14.836Z"
   },
   {
    "duration": 0,
    "start_time": "2022-06-21T18:14:14.836Z"
   },
   {
    "duration": 0,
    "start_time": "2022-06-21T18:14:14.837Z"
   },
   {
    "duration": 0,
    "start_time": "2022-06-21T18:14:14.838Z"
   },
   {
    "duration": 0,
    "start_time": "2022-06-21T18:14:14.839Z"
   },
   {
    "duration": 0,
    "start_time": "2022-06-21T18:14:14.840Z"
   },
   {
    "duration": 0,
    "start_time": "2022-06-21T18:14:14.841Z"
   },
   {
    "duration": 0,
    "start_time": "2022-06-21T18:14:14.842Z"
   },
   {
    "duration": 0,
    "start_time": "2022-06-21T18:14:14.842Z"
   },
   {
    "duration": 0,
    "start_time": "2022-06-21T18:14:14.843Z"
   },
   {
    "duration": 0,
    "start_time": "2022-06-21T18:14:14.844Z"
   },
   {
    "duration": 0,
    "start_time": "2022-06-21T18:14:14.845Z"
   },
   {
    "duration": 0,
    "start_time": "2022-06-21T18:14:14.847Z"
   },
   {
    "duration": 0,
    "start_time": "2022-06-21T18:14:14.847Z"
   },
   {
    "duration": 0,
    "start_time": "2022-06-21T18:14:14.848Z"
   },
   {
    "duration": 0,
    "start_time": "2022-06-21T18:14:14.849Z"
   },
   {
    "duration": 0,
    "start_time": "2022-06-21T18:14:14.851Z"
   },
   {
    "duration": 0,
    "start_time": "2022-06-21T18:14:14.852Z"
   },
   {
    "duration": 0,
    "start_time": "2022-06-21T18:14:14.853Z"
   },
   {
    "duration": 0,
    "start_time": "2022-06-21T18:14:14.854Z"
   },
   {
    "duration": 0,
    "start_time": "2022-06-21T18:14:14.856Z"
   },
   {
    "duration": 0,
    "start_time": "2022-06-21T18:14:14.857Z"
   },
   {
    "duration": 0,
    "start_time": "2022-06-21T18:14:14.858Z"
   },
   {
    "duration": 0,
    "start_time": "2022-06-21T18:14:14.859Z"
   },
   {
    "duration": 0,
    "start_time": "2022-06-21T18:14:14.861Z"
   },
   {
    "duration": 0,
    "start_time": "2022-06-21T18:14:14.862Z"
   },
   {
    "duration": 0,
    "start_time": "2022-06-21T18:14:14.863Z"
   },
   {
    "duration": 0,
    "start_time": "2022-06-21T18:14:14.864Z"
   },
   {
    "duration": 0,
    "start_time": "2022-06-21T18:14:14.865Z"
   },
   {
    "duration": 0,
    "start_time": "2022-06-21T18:14:14.866Z"
   },
   {
    "duration": 0,
    "start_time": "2022-06-21T18:14:14.868Z"
   },
   {
    "duration": 0,
    "start_time": "2022-06-21T18:14:14.930Z"
   },
   {
    "duration": 0,
    "start_time": "2022-06-21T18:14:14.931Z"
   },
   {
    "duration": 0,
    "start_time": "2022-06-21T18:14:14.933Z"
   },
   {
    "duration": 0,
    "start_time": "2022-06-21T18:14:14.934Z"
   },
   {
    "duration": 0,
    "start_time": "2022-06-21T18:14:14.936Z"
   },
   {
    "duration": 0,
    "start_time": "2022-06-21T18:14:14.937Z"
   },
   {
    "duration": 0,
    "start_time": "2022-06-21T18:14:14.939Z"
   },
   {
    "duration": 3,
    "start_time": "2022-06-21T18:15:26.373Z"
   },
   {
    "duration": 683,
    "start_time": "2022-06-21T18:15:26.378Z"
   },
   {
    "duration": 103,
    "start_time": "2022-06-21T18:15:27.063Z"
   },
   {
    "duration": 100,
    "start_time": "2022-06-21T18:15:27.167Z"
   },
   {
    "duration": 98,
    "start_time": "2022-06-21T18:15:27.269Z"
   },
   {
    "duration": 23,
    "start_time": "2022-06-21T18:15:27.368Z"
   },
   {
    "duration": 388,
    "start_time": "2022-06-21T18:15:27.393Z"
   },
   {
    "duration": 763,
    "start_time": "2022-06-21T18:15:27.783Z"
   },
   {
    "duration": 48,
    "start_time": "2022-06-21T18:15:28.548Z"
   },
   {
    "duration": 32,
    "start_time": "2022-06-21T18:15:28.598Z"
   },
   {
    "duration": 36,
    "start_time": "2022-06-21T18:15:28.632Z"
   },
   {
    "duration": 70,
    "start_time": "2022-06-21T18:15:28.669Z"
   },
   {
    "duration": 17,
    "start_time": "2022-06-21T18:15:28.741Z"
   },
   {
    "duration": 108,
    "start_time": "2022-06-21T18:15:28.761Z"
   },
   {
    "duration": 6,
    "start_time": "2022-06-21T18:15:28.871Z"
   },
   {
    "duration": 7,
    "start_time": "2022-06-21T18:15:28.879Z"
   },
   {
    "duration": 123,
    "start_time": "2022-06-21T18:15:28.887Z"
   },
   {
    "duration": 29,
    "start_time": "2022-06-21T18:15:29.011Z"
   },
   {
    "duration": 23,
    "start_time": "2022-06-21T18:15:29.042Z"
   },
   {
    "duration": 145,
    "start_time": "2022-06-21T18:15:29.066Z"
   },
   {
    "duration": 26,
    "start_time": "2022-06-21T18:15:29.213Z"
   },
   {
    "duration": 11,
    "start_time": "2022-06-21T18:15:29.241Z"
   },
   {
    "duration": 103,
    "start_time": "2022-06-21T18:15:29.253Z"
   },
   {
    "duration": 87,
    "start_time": "2022-06-21T18:15:29.358Z"
   },
   {
    "duration": 12,
    "start_time": "2022-06-21T18:15:29.446Z"
   },
   {
    "duration": 29,
    "start_time": "2022-06-21T18:15:29.460Z"
   },
   {
    "duration": 266,
    "start_time": "2022-06-21T18:15:29.491Z"
   },
   {
    "duration": 232,
    "start_time": "2022-06-21T18:15:29.759Z"
   },
   {
    "duration": 242,
    "start_time": "2022-06-21T18:15:29.993Z"
   },
   {
    "duration": 50,
    "start_time": "2022-06-21T18:15:30.236Z"
   },
   {
    "duration": 234,
    "start_time": "2022-06-21T18:15:30.288Z"
   },
   {
    "duration": 17,
    "start_time": "2022-06-21T18:15:30.524Z"
   },
   {
    "duration": 787,
    "start_time": "2022-06-21T18:15:30.543Z"
   },
   {
    "duration": 420,
    "start_time": "2022-06-21T18:15:31.331Z"
   },
   {
    "duration": 87,
    "start_time": "2022-06-21T18:15:31.752Z"
   },
   {
    "duration": 722,
    "start_time": "2022-06-21T18:15:31.841Z"
   },
   {
    "duration": 27,
    "start_time": "2022-06-21T18:15:32.564Z"
   },
   {
    "duration": 10,
    "start_time": "2022-06-21T18:15:32.592Z"
   },
   {
    "duration": 219,
    "start_time": "2022-06-21T18:15:32.603Z"
   },
   {
    "duration": 52,
    "start_time": "2022-06-21T18:15:32.829Z"
   },
   {
    "duration": 2,
    "start_time": "2022-06-21T18:15:32.885Z"
   },
   {
    "duration": 27041,
    "start_time": "2022-06-21T18:15:32.888Z"
   },
   {
    "duration": 661141,
    "start_time": "2022-06-21T18:15:59.931Z"
   },
   {
    "duration": 14736,
    "start_time": "2022-06-21T18:27:01.073Z"
   },
   {
    "duration": 80,
    "start_time": "2022-06-21T18:27:15.810Z"
   },
   {
    "duration": 0,
    "start_time": "2022-06-21T18:27:15.891Z"
   },
   {
    "duration": 0,
    "start_time": "2022-06-21T18:27:15.892Z"
   },
   {
    "duration": 0,
    "start_time": "2022-06-21T18:27:15.893Z"
   },
   {
    "duration": 0,
    "start_time": "2022-06-21T18:27:15.894Z"
   },
   {
    "duration": 0,
    "start_time": "2022-06-21T18:27:15.895Z"
   },
   {
    "duration": 0,
    "start_time": "2022-06-21T18:27:15.896Z"
   },
   {
    "duration": 0,
    "start_time": "2022-06-21T18:27:15.897Z"
   },
   {
    "duration": 104,
    "start_time": "2022-06-21T18:35:38.989Z"
   },
   {
    "duration": 125,
    "start_time": "2022-06-21T18:35:41.346Z"
   },
   {
    "duration": 4,
    "start_time": "2022-06-21T20:35:14.677Z"
   },
   {
    "duration": 681,
    "start_time": "2022-06-21T20:35:14.683Z"
   },
   {
    "duration": 109,
    "start_time": "2022-06-21T20:35:15.365Z"
   },
   {
    "duration": 98,
    "start_time": "2022-06-21T20:35:15.476Z"
   },
   {
    "duration": 105,
    "start_time": "2022-06-21T20:35:15.576Z"
   },
   {
    "duration": 26,
    "start_time": "2022-06-21T20:35:15.683Z"
   },
   {
    "duration": 439,
    "start_time": "2022-06-21T20:35:15.710Z"
   },
   {
    "duration": 823,
    "start_time": "2022-06-21T20:35:16.150Z"
   },
   {
    "duration": 66,
    "start_time": "2022-06-21T20:35:16.976Z"
   },
   {
    "duration": 10,
    "start_time": "2022-06-21T20:35:17.044Z"
   },
   {
    "duration": 40,
    "start_time": "2022-06-21T20:35:17.056Z"
   },
   {
    "duration": 107,
    "start_time": "2022-06-21T20:35:17.098Z"
   },
   {
    "duration": 35,
    "start_time": "2022-06-21T20:35:17.208Z"
   },
   {
    "duration": 127,
    "start_time": "2022-06-21T20:35:17.246Z"
   },
   {
    "duration": 7,
    "start_time": "2022-06-21T20:35:17.375Z"
   },
   {
    "duration": 12,
    "start_time": "2022-06-21T20:35:17.384Z"
   },
   {
    "duration": 138,
    "start_time": "2022-06-21T20:35:17.398Z"
   },
   {
    "duration": 19,
    "start_time": "2022-06-21T20:35:17.538Z"
   },
   {
    "duration": 24,
    "start_time": "2022-06-21T20:35:17.559Z"
   },
   {
    "duration": 162,
    "start_time": "2022-06-21T20:35:17.584Z"
   },
   {
    "duration": 13,
    "start_time": "2022-06-21T20:35:17.748Z"
   },
   {
    "duration": 9,
    "start_time": "2022-06-21T20:35:17.763Z"
   },
   {
    "duration": 123,
    "start_time": "2022-06-21T20:35:17.774Z"
   },
   {
    "duration": 105,
    "start_time": "2022-06-21T20:35:17.899Z"
   },
   {
    "duration": 25,
    "start_time": "2022-06-21T20:35:18.006Z"
   },
   {
    "duration": 33,
    "start_time": "2022-06-21T20:35:18.034Z"
   },
   {
    "duration": 361,
    "start_time": "2022-06-21T20:35:18.069Z"
   },
   {
    "duration": 266,
    "start_time": "2022-06-21T20:35:18.431Z"
   },
   {
    "duration": 269,
    "start_time": "2022-06-21T20:35:18.700Z"
   },
   {
    "duration": 67,
    "start_time": "2022-06-21T20:35:18.971Z"
   },
   {
    "duration": 261,
    "start_time": "2022-06-21T20:35:19.040Z"
   },
   {
    "duration": 30,
    "start_time": "2022-06-21T20:35:19.303Z"
   },
   {
    "duration": 790,
    "start_time": "2022-06-21T20:35:19.335Z"
   },
   {
    "duration": 434,
    "start_time": "2022-06-21T20:35:20.128Z"
   },
   {
    "duration": 86,
    "start_time": "2022-06-21T20:35:20.564Z"
   },
   {
    "duration": 834,
    "start_time": "2022-06-21T20:35:20.652Z"
   },
   {
    "duration": 43,
    "start_time": "2022-06-21T20:35:21.487Z"
   },
   {
    "duration": 9,
    "start_time": "2022-06-21T20:35:21.532Z"
   },
   {
    "duration": 227,
    "start_time": "2022-06-21T20:35:21.544Z"
   },
   {
    "duration": 57,
    "start_time": "2022-06-21T20:35:21.773Z"
   },
   {
    "duration": 3,
    "start_time": "2022-06-21T20:35:21.835Z"
   },
   {
    "duration": 24089,
    "start_time": "2022-06-21T20:35:21.840Z"
   },
   {
    "duration": 638615,
    "start_time": "2022-06-21T20:35:45.931Z"
   },
   {
    "duration": 14698,
    "start_time": "2022-06-21T20:46:24.548Z"
   },
   {
    "duration": 103,
    "start_time": "2022-06-21T20:46:39.247Z"
   },
   {
    "duration": 95981,
    "start_time": "2022-06-21T20:46:39.352Z"
   },
   {
    "duration": 10,
    "start_time": "2022-06-21T20:48:15.335Z"
   },
   {
    "duration": 0,
    "start_time": "2022-06-21T20:48:15.347Z"
   },
   {
    "duration": 0,
    "start_time": "2022-06-21T20:48:15.348Z"
   },
   {
    "duration": 0,
    "start_time": "2022-06-21T20:48:15.349Z"
   },
   {
    "duration": 0,
    "start_time": "2022-06-21T20:48:15.350Z"
   },
   {
    "duration": 0,
    "start_time": "2022-06-21T20:48:15.351Z"
   },
   {
    "duration": 14874,
    "start_time": "2022-06-21T20:48:53.668Z"
   },
   {
    "duration": 100857,
    "start_time": "2022-06-21T20:49:56.572Z"
   },
   {
    "duration": 10128,
    "start_time": "2022-06-21T20:51:37.431Z"
   },
   {
    "duration": 8561,
    "start_time": "2022-06-21T20:52:36.401Z"
   },
   {
    "duration": 11,
    "start_time": "2022-06-21T20:53:14.945Z"
   },
   {
    "duration": 9651,
    "start_time": "2022-06-21T20:54:43.088Z"
   },
   {
    "duration": 6,
    "start_time": "2022-06-21T20:56:57.392Z"
   },
   {
    "duration": 10,
    "start_time": "2022-06-21T20:59:39.783Z"
   },
   {
    "duration": 15609,
    "start_time": "2022-06-21T20:59:41.799Z"
   },
   {
    "duration": 15809,
    "start_time": "2022-06-21T21:00:31.989Z"
   },
   {
    "duration": 15767,
    "start_time": "2022-06-21T21:01:26.518Z"
   },
   {
    "duration": 15876,
    "start_time": "2022-06-21T21:04:53.783Z"
   },
   {
    "duration": 156,
    "start_time": "2022-06-22T10:19:36.159Z"
   },
   {
    "duration": 1809,
    "start_time": "2022-06-22T11:35:30.346Z"
   },
   {
    "duration": 1657,
    "start_time": "2022-06-22T11:35:32.158Z"
   },
   {
    "duration": 176,
    "start_time": "2022-06-22T11:35:33.816Z"
   },
   {
    "duration": 123,
    "start_time": "2022-06-22T11:35:33.994Z"
   },
   {
    "duration": 175,
    "start_time": "2022-06-22T11:35:34.119Z"
   },
   {
    "duration": 55,
    "start_time": "2022-06-22T11:35:34.295Z"
   },
   {
    "duration": 524,
    "start_time": "2022-06-22T11:35:34.351Z"
   },
   {
    "duration": 1094,
    "start_time": "2022-06-22T11:35:34.877Z"
   },
   {
    "duration": 71,
    "start_time": "2022-06-22T11:35:35.975Z"
   },
   {
    "duration": 13,
    "start_time": "2022-06-22T11:35:36.050Z"
   },
   {
    "duration": 89,
    "start_time": "2022-06-22T11:35:36.065Z"
   },
   {
    "duration": 112,
    "start_time": "2022-06-22T11:35:36.156Z"
   },
   {
    "duration": 33,
    "start_time": "2022-06-22T11:35:36.271Z"
   },
   {
    "duration": 157,
    "start_time": "2022-06-22T11:35:36.306Z"
   },
   {
    "duration": 7,
    "start_time": "2022-06-22T11:35:36.465Z"
   },
   {
    "duration": 11,
    "start_time": "2022-06-22T11:35:36.474Z"
   },
   {
    "duration": 154,
    "start_time": "2022-06-22T11:35:36.487Z"
   },
   {
    "duration": 26,
    "start_time": "2022-06-22T11:35:36.648Z"
   },
   {
    "duration": 42,
    "start_time": "2022-06-22T11:35:36.676Z"
   },
   {
    "duration": 167,
    "start_time": "2022-06-22T11:35:36.721Z"
   },
   {
    "duration": 17,
    "start_time": "2022-06-22T11:35:36.891Z"
   },
   {
    "duration": 27,
    "start_time": "2022-06-22T11:35:36.910Z"
   },
   {
    "duration": 160,
    "start_time": "2022-06-22T11:35:36.939Z"
   },
   {
    "duration": 142,
    "start_time": "2022-06-22T11:35:37.101Z"
   },
   {
    "duration": 26,
    "start_time": "2022-06-22T11:35:37.246Z"
   },
   {
    "duration": 61,
    "start_time": "2022-06-22T11:35:37.274Z"
   },
   {
    "duration": 331,
    "start_time": "2022-06-22T11:35:37.337Z"
   },
   {
    "duration": 307,
    "start_time": "2022-06-22T11:35:37.673Z"
   },
   {
    "duration": 393,
    "start_time": "2022-06-22T11:35:37.981Z"
   },
   {
    "duration": 107,
    "start_time": "2022-06-22T11:35:38.375Z"
   },
   {
    "duration": 367,
    "start_time": "2022-06-22T11:35:38.483Z"
   },
   {
    "duration": 21,
    "start_time": "2022-06-22T11:35:38.859Z"
   },
   {
    "duration": 1016,
    "start_time": "2022-06-22T11:35:38.881Z"
   },
   {
    "duration": 468,
    "start_time": "2022-06-22T11:35:39.899Z"
   },
   {
    "duration": 127,
    "start_time": "2022-06-22T11:35:40.369Z"
   },
   {
    "duration": 974,
    "start_time": "2022-06-22T11:35:40.498Z"
   },
   {
    "duration": 35,
    "start_time": "2022-06-22T11:35:41.474Z"
   },
   {
    "duration": 22,
    "start_time": "2022-06-22T11:35:41.510Z"
   },
   {
    "duration": 279,
    "start_time": "2022-06-22T11:35:41.539Z"
   },
   {
    "duration": 57,
    "start_time": "2022-06-22T11:35:41.823Z"
   },
   {
    "duration": 3,
    "start_time": "2022-06-22T11:35:41.881Z"
   },
   {
    "duration": 88943,
    "start_time": "2022-06-22T11:35:41.886Z"
   },
   {
    "duration": 794651,
    "start_time": "2022-06-22T11:37:10.831Z"
   },
   {
    "duration": 18604,
    "start_time": "2022-06-22T11:50:25.483Z"
   },
   {
    "duration": 117,
    "start_time": "2022-06-22T11:50:44.088Z"
   },
   {
    "duration": 901617,
    "start_time": "2022-06-22T11:50:44.207Z"
   },
   {
    "duration": 29805,
    "start_time": "2022-06-22T12:05:45.826Z"
   },
   {
    "duration": 23516,
    "start_time": "2022-06-22T12:06:15.633Z"
   },
   {
    "duration": 7,
    "start_time": "2022-06-22T12:06:39.223Z"
   },
   {
    "duration": 13,
    "start_time": "2022-06-22T12:06:39.232Z"
   },
   {
    "duration": 15940,
    "start_time": "2022-06-22T12:06:39.246Z"
   },
   {
    "duration": 16811,
    "start_time": "2022-06-22T12:06:55.187Z"
   },
   {
    "duration": 7,
    "start_time": "2022-06-22T12:33:12.509Z"
   },
   {
    "duration": 95,
    "start_time": "2022-06-22T12:33:14.867Z"
   },
   {
    "duration": 94,
    "start_time": "2022-06-22T12:33:16.722Z"
   },
   {
    "duration": 256,
    "start_time": "2022-06-22T12:33:21.315Z"
   },
   {
    "duration": 89,
    "start_time": "2022-06-22T12:35:57.748Z"
   },
   {
    "duration": 52,
    "start_time": "2022-06-22T12:36:02.939Z"
   },
   {
    "duration": 48,
    "start_time": "2022-06-22T12:36:10.515Z"
   },
   {
    "duration": 10,
    "start_time": "2022-06-22T12:36:23.675Z"
   },
   {
    "duration": 7,
    "start_time": "2022-06-22T12:36:31.908Z"
   },
   {
    "duration": 7,
    "start_time": "2022-06-22T12:36:44.451Z"
   },
   {
    "duration": 6,
    "start_time": "2022-06-22T12:37:17.678Z"
   },
   {
    "duration": 257,
    "start_time": "2022-06-22T12:37:22.156Z"
   },
   {
    "duration": 131,
    "start_time": "2022-06-22T12:48:43.697Z"
   },
   {
    "duration": 531,
    "start_time": "2022-06-22T12:49:16.950Z"
   },
   {
    "duration": 732,
    "start_time": "2022-06-22T12:50:19.246Z"
   },
   {
    "duration": 10,
    "start_time": "2022-06-22T12:51:17.816Z"
   },
   {
    "duration": 1999,
    "start_time": "2022-06-22T12:51:46.670Z"
   },
   {
    "duration": 81,
    "start_time": "2022-06-22T12:51:53.366Z"
   },
   {
    "duration": 67,
    "start_time": "2022-06-22T12:51:56.424Z"
   },
   {
    "duration": 63,
    "start_time": "2022-06-22T12:51:58.536Z"
   },
   {
    "duration": 899,
    "start_time": "2022-06-22T12:52:11.535Z"
   },
   {
    "duration": 789,
    "start_time": "2022-06-22T12:52:19.256Z"
   },
   {
    "duration": 5929,
    "start_time": "2022-06-22T12:52:24.200Z"
   },
   {
    "duration": 9,
    "start_time": "2022-06-22T12:52:54.935Z"
   },
   {
    "duration": 9,
    "start_time": "2022-06-22T12:53:04.767Z"
   },
   {
    "duration": 8,
    "start_time": "2022-06-22T12:53:11.004Z"
   },
   {
    "duration": 9,
    "start_time": "2022-06-22T12:53:19.246Z"
   },
   {
    "duration": 8,
    "start_time": "2022-06-22T12:54:32.772Z"
   },
   {
    "duration": 137,
    "start_time": "2022-06-22T12:55:03.768Z"
   },
   {
    "duration": 34,
    "start_time": "2022-06-22T12:56:33.632Z"
   },
   {
    "duration": 81,
    "start_time": "2022-06-22T12:56:38.975Z"
   },
   {
    "duration": 4,
    "start_time": "2022-06-22T12:56:59.603Z"
   },
   {
    "duration": 905,
    "start_time": "2022-06-22T12:56:59.609Z"
   },
   {
    "duration": 136,
    "start_time": "2022-06-22T12:57:00.515Z"
   },
   {
    "duration": 196,
    "start_time": "2022-06-22T12:57:00.653Z"
   },
   {
    "duration": 140,
    "start_time": "2022-06-22T12:57:00.852Z"
   },
   {
    "duration": 39,
    "start_time": "2022-06-22T12:57:00.994Z"
   },
   {
    "duration": 421,
    "start_time": "2022-06-22T12:57:01.035Z"
   },
   {
    "duration": 943,
    "start_time": "2022-06-22T12:57:01.458Z"
   },
   {
    "duration": 64,
    "start_time": "2022-06-22T12:57:02.403Z"
   },
   {
    "duration": 10,
    "start_time": "2022-06-22T12:57:02.470Z"
   },
   {
    "duration": 58,
    "start_time": "2022-06-22T12:57:02.484Z"
   },
   {
    "duration": 119,
    "start_time": "2022-06-22T12:57:02.544Z"
   },
   {
    "duration": 29,
    "start_time": "2022-06-22T12:57:02.665Z"
   },
   {
    "duration": 144,
    "start_time": "2022-06-22T12:57:02.696Z"
   },
   {
    "duration": 6,
    "start_time": "2022-06-22T12:57:02.842Z"
   },
   {
    "duration": 7,
    "start_time": "2022-06-22T12:57:02.850Z"
   },
   {
    "duration": 140,
    "start_time": "2022-06-22T12:57:02.859Z"
   },
   {
    "duration": 34,
    "start_time": "2022-06-22T12:57:03.001Z"
   },
   {
    "duration": 26,
    "start_time": "2022-06-22T12:57:03.037Z"
   },
   {
    "duration": 142,
    "start_time": "2022-06-22T12:57:03.064Z"
   },
   {
    "duration": 28,
    "start_time": "2022-06-22T12:57:03.208Z"
   },
   {
    "duration": 10,
    "start_time": "2022-06-22T12:57:03.238Z"
   },
   {
    "duration": 128,
    "start_time": "2022-06-22T12:57:03.251Z"
   },
   {
    "duration": 108,
    "start_time": "2022-06-22T12:57:03.381Z"
   },
   {
    "duration": 16,
    "start_time": "2022-06-22T12:57:03.490Z"
   },
   {
    "duration": 44,
    "start_time": "2022-06-22T12:57:03.508Z"
   },
   {
    "duration": 264,
    "start_time": "2022-06-22T12:57:03.554Z"
   },
   {
    "duration": 254,
    "start_time": "2022-06-22T12:57:03.820Z"
   },
   {
    "duration": 256,
    "start_time": "2022-06-22T12:57:04.078Z"
   },
   {
    "duration": 73,
    "start_time": "2022-06-22T12:57:04.335Z"
   },
   {
    "duration": 48,
    "start_time": "2022-06-22T12:57:04.409Z"
   },
   {
    "duration": 310,
    "start_time": "2022-06-22T12:57:04.459Z"
   },
   {
    "duration": 29,
    "start_time": "2022-06-22T12:57:04.770Z"
   },
   {
    "duration": 1007,
    "start_time": "2022-06-22T12:57:04.801Z"
   },
   {
    "duration": 438,
    "start_time": "2022-06-22T12:57:05.810Z"
   },
   {
    "duration": 86,
    "start_time": "2022-06-22T12:57:06.250Z"
   },
   {
    "duration": 912,
    "start_time": "2022-06-22T12:57:06.338Z"
   },
   {
    "duration": 49,
    "start_time": "2022-06-22T12:57:07.252Z"
   },
   {
    "duration": 22,
    "start_time": "2022-06-22T12:57:07.303Z"
   },
   {
    "duration": 281,
    "start_time": "2022-06-22T12:57:07.327Z"
   },
   {
    "duration": 46,
    "start_time": "2022-06-22T12:57:07.610Z"
   },
   {
    "duration": 3,
    "start_time": "2022-06-22T12:57:07.658Z"
   },
   {
    "duration": 393,
    "start_time": "2022-06-22T12:57:07.663Z"
   },
   {
    "duration": 0,
    "start_time": "2022-06-22T12:57:08.058Z"
   },
   {
    "duration": 1,
    "start_time": "2022-06-22T12:57:08.059Z"
   },
   {
    "duration": 0,
    "start_time": "2022-06-22T12:57:08.061Z"
   },
   {
    "duration": 0,
    "start_time": "2022-06-22T12:57:08.062Z"
   },
   {
    "duration": 0,
    "start_time": "2022-06-22T12:57:08.064Z"
   },
   {
    "duration": 0,
    "start_time": "2022-06-22T12:57:08.066Z"
   },
   {
    "duration": 0,
    "start_time": "2022-06-22T12:57:08.068Z"
   },
   {
    "duration": 0,
    "start_time": "2022-06-22T12:57:08.069Z"
   },
   {
    "duration": 0,
    "start_time": "2022-06-22T12:57:08.071Z"
   },
   {
    "duration": 0,
    "start_time": "2022-06-22T12:57:08.072Z"
   },
   {
    "duration": 30,
    "start_time": "2022-06-22T12:58:03.612Z"
   },
   {
    "duration": 12,
    "start_time": "2022-06-22T13:01:51.522Z"
   },
   {
    "duration": 11,
    "start_time": "2022-06-22T13:01:58.522Z"
   },
   {
    "duration": 10,
    "start_time": "2022-06-22T13:11:01.684Z"
   },
   {
    "duration": 6,
    "start_time": "2022-06-22T13:11:10.452Z"
   },
   {
    "duration": 8,
    "start_time": "2022-06-22T13:11:14.842Z"
   },
   {
    "duration": 6,
    "start_time": "2022-06-22T13:11:18.514Z"
   },
   {
    "duration": 6,
    "start_time": "2022-06-22T13:11:21.964Z"
   },
   {
    "duration": 9,
    "start_time": "2022-06-22T13:11:25.172Z"
   },
   {
    "duration": 8,
    "start_time": "2022-06-22T13:11:34.255Z"
   },
   {
    "duration": 8,
    "start_time": "2022-06-22T13:11:38.195Z"
   },
   {
    "duration": 6,
    "start_time": "2022-06-22T13:11:40.632Z"
   },
   {
    "duration": 7,
    "start_time": "2022-06-22T13:11:43.292Z"
   },
   {
    "duration": 8,
    "start_time": "2022-06-22T13:11:50.971Z"
   },
   {
    "duration": 7,
    "start_time": "2022-06-22T13:11:53.915Z"
   },
   {
    "duration": 6,
    "start_time": "2022-06-22T13:12:12.278Z"
   },
   {
    "duration": 793,
    "start_time": "2022-06-22T13:12:12.286Z"
   },
   {
    "duration": 143,
    "start_time": "2022-06-22T13:12:13.081Z"
   },
   {
    "duration": 99,
    "start_time": "2022-06-22T13:12:13.225Z"
   },
   {
    "duration": 123,
    "start_time": "2022-06-22T13:12:13.326Z"
   },
   {
    "duration": 26,
    "start_time": "2022-06-22T13:12:13.451Z"
   },
   {
    "duration": 390,
    "start_time": "2022-06-22T13:12:13.478Z"
   },
   {
    "duration": 821,
    "start_time": "2022-06-22T13:12:13.870Z"
   },
   {
    "duration": 58,
    "start_time": "2022-06-22T13:12:14.693Z"
   },
   {
    "duration": 9,
    "start_time": "2022-06-22T13:12:14.753Z"
   },
   {
    "duration": 35,
    "start_time": "2022-06-22T13:12:14.765Z"
   },
   {
    "duration": 90,
    "start_time": "2022-06-22T13:12:14.802Z"
   },
   {
    "duration": 42,
    "start_time": "2022-06-22T13:12:14.894Z"
   },
   {
    "duration": 109,
    "start_time": "2022-06-22T13:12:14.938Z"
   },
   {
    "duration": 7,
    "start_time": "2022-06-22T13:12:15.049Z"
   },
   {
    "duration": 7,
    "start_time": "2022-06-22T13:12:15.058Z"
   },
   {
    "duration": 127,
    "start_time": "2022-06-22T13:12:15.067Z"
   },
   {
    "duration": 31,
    "start_time": "2022-06-22T13:12:15.196Z"
   },
   {
    "duration": 22,
    "start_time": "2022-06-22T13:12:15.229Z"
   },
   {
    "duration": 141,
    "start_time": "2022-06-22T13:12:15.253Z"
   },
   {
    "duration": 13,
    "start_time": "2022-06-22T13:12:15.395Z"
   },
   {
    "duration": 19,
    "start_time": "2022-06-22T13:12:15.410Z"
   },
   {
    "duration": 107,
    "start_time": "2022-06-22T13:12:15.431Z"
   },
   {
    "duration": 103,
    "start_time": "2022-06-22T13:12:15.539Z"
   },
   {
    "duration": 15,
    "start_time": "2022-06-22T13:12:15.643Z"
   },
   {
    "duration": 35,
    "start_time": "2022-06-22T13:12:15.659Z"
   },
   {
    "duration": 260,
    "start_time": "2022-06-22T13:12:15.695Z"
   },
   {
    "duration": 263,
    "start_time": "2022-06-22T13:12:15.957Z"
   },
   {
    "duration": 238,
    "start_time": "2022-06-22T13:12:16.224Z"
   },
   {
    "duration": 67,
    "start_time": "2022-06-22T13:12:16.463Z"
   },
   {
    "duration": 264,
    "start_time": "2022-06-22T13:12:16.532Z"
   },
   {
    "duration": 27,
    "start_time": "2022-06-22T13:12:16.798Z"
   },
   {
    "duration": 758,
    "start_time": "2022-06-22T13:12:16.826Z"
   },
   {
    "duration": 398,
    "start_time": "2022-06-22T13:12:17.586Z"
   },
   {
    "duration": 80,
    "start_time": "2022-06-22T13:12:17.986Z"
   },
   {
    "duration": 788,
    "start_time": "2022-06-22T13:12:18.068Z"
   },
   {
    "duration": 31,
    "start_time": "2022-06-22T13:12:18.858Z"
   },
   {
    "duration": 12,
    "start_time": "2022-06-22T13:12:18.891Z"
   },
   {
    "duration": 232,
    "start_time": "2022-06-22T13:12:18.922Z"
   },
   {
    "duration": 43,
    "start_time": "2022-06-22T13:12:19.156Z"
   },
   {
    "duration": 3,
    "start_time": "2022-06-22T13:12:19.201Z"
   },
   {
    "duration": 1429,
    "start_time": "2022-06-22T13:18:19.685Z"
   },
   {
    "duration": 1091,
    "start_time": "2022-06-22T13:18:21.115Z"
   },
   {
    "duration": 147,
    "start_time": "2022-06-22T13:18:22.208Z"
   },
   {
    "duration": 99,
    "start_time": "2022-06-22T13:18:22.357Z"
   },
   {
    "duration": 147,
    "start_time": "2022-06-22T13:18:22.458Z"
   },
   {
    "duration": 45,
    "start_time": "2022-06-22T13:18:22.607Z"
   },
   {
    "duration": 490,
    "start_time": "2022-06-22T13:18:22.654Z"
   },
   {
    "duration": 987,
    "start_time": "2022-06-22T13:18:23.146Z"
   },
   {
    "duration": 56,
    "start_time": "2022-06-22T13:18:24.135Z"
   },
   {
    "duration": 30,
    "start_time": "2022-06-22T13:18:24.194Z"
   },
   {
    "duration": 61,
    "start_time": "2022-06-22T13:18:24.226Z"
   },
   {
    "duration": 80,
    "start_time": "2022-06-22T13:18:24.288Z"
   },
   {
    "duration": 18,
    "start_time": "2022-06-22T13:18:24.370Z"
   },
   {
    "duration": 104,
    "start_time": "2022-06-22T13:18:24.389Z"
   },
   {
    "duration": 6,
    "start_time": "2022-06-22T13:18:24.495Z"
   },
   {
    "duration": 6,
    "start_time": "2022-06-22T13:18:24.503Z"
   },
   {
    "duration": 131,
    "start_time": "2022-06-22T13:18:24.511Z"
   },
   {
    "duration": 19,
    "start_time": "2022-06-22T13:18:24.644Z"
   },
   {
    "duration": 24,
    "start_time": "2022-06-22T13:18:24.665Z"
   },
   {
    "duration": 146,
    "start_time": "2022-06-22T13:18:24.690Z"
   },
   {
    "duration": 13,
    "start_time": "2022-06-22T13:18:24.837Z"
   },
   {
    "duration": 11,
    "start_time": "2022-06-22T13:18:24.852Z"
   },
   {
    "duration": 111,
    "start_time": "2022-06-22T13:18:24.865Z"
   },
   {
    "duration": 102,
    "start_time": "2022-06-22T13:18:24.978Z"
   },
   {
    "duration": 15,
    "start_time": "2022-06-22T13:18:25.081Z"
   },
   {
    "duration": 43,
    "start_time": "2022-06-22T13:18:25.097Z"
   },
   {
    "duration": 257,
    "start_time": "2022-06-22T13:18:25.142Z"
   },
   {
    "duration": 245,
    "start_time": "2022-06-22T13:18:25.403Z"
   },
   {
    "duration": 329,
    "start_time": "2022-06-22T13:18:25.650Z"
   },
   {
    "duration": 61,
    "start_time": "2022-06-22T13:18:25.981Z"
   },
   {
    "duration": 254,
    "start_time": "2022-06-22T13:18:26.043Z"
   },
   {
    "duration": 26,
    "start_time": "2022-06-22T13:18:26.299Z"
   },
   {
    "duration": 737,
    "start_time": "2022-06-22T13:18:26.327Z"
   },
   {
    "duration": 410,
    "start_time": "2022-06-22T13:18:27.065Z"
   },
   {
    "duration": 96,
    "start_time": "2022-06-22T13:18:27.476Z"
   },
   {
    "duration": 785,
    "start_time": "2022-06-22T13:18:27.574Z"
   },
   {
    "duration": 26,
    "start_time": "2022-06-22T13:18:28.360Z"
   },
   {
    "duration": 8,
    "start_time": "2022-06-22T13:18:28.388Z"
   },
   {
    "duration": 226,
    "start_time": "2022-06-22T13:18:28.397Z"
   },
   {
    "duration": 41,
    "start_time": "2022-06-22T13:18:28.625Z"
   },
   {
    "duration": 3,
    "start_time": "2022-06-22T13:18:28.668Z"
   },
   {
    "duration": 31361,
    "start_time": "2022-06-22T13:18:28.672Z"
   },
   {
    "duration": 659451,
    "start_time": "2022-06-22T13:19:00.124Z"
   },
   {
    "duration": 16969,
    "start_time": "2022-06-22T13:29:59.577Z"
   },
   {
    "duration": 107,
    "start_time": "2022-06-22T13:30:16.547Z"
   },
   {
    "duration": 491869,
    "start_time": "2022-06-22T13:30:16.655Z"
   },
   {
    "duration": 8500,
    "start_time": "2022-06-22T13:38:28.526Z"
   },
   {
    "duration": 8398,
    "start_time": "2022-06-22T13:38:37.027Z"
   },
   {
    "duration": 6,
    "start_time": "2022-06-22T13:38:45.427Z"
   },
   {
    "duration": 14,
    "start_time": "2022-06-22T13:38:45.435Z"
   },
   {
    "duration": 14962,
    "start_time": "2022-06-22T13:38:45.450Z"
   },
   {
    "duration": 15611,
    "start_time": "2022-06-22T13:39:00.414Z"
   },
   {
    "duration": 87,
    "start_time": "2022-06-22T14:06:24.696Z"
   },
   {
    "duration": 470,
    "start_time": "2022-06-22T14:16:31.832Z"
   },
   {
    "duration": 5,
    "start_time": "2022-06-22T14:17:05.395Z"
   },
   {
    "duration": 871,
    "start_time": "2022-06-22T14:17:05.402Z"
   },
   {
    "duration": 150,
    "start_time": "2022-06-22T14:17:06.275Z"
   },
   {
    "duration": 95,
    "start_time": "2022-06-22T14:17:06.428Z"
   },
   {
    "duration": 123,
    "start_time": "2022-06-22T14:17:06.525Z"
   },
   {
    "duration": 27,
    "start_time": "2022-06-22T14:17:06.649Z"
   },
   {
    "duration": 425,
    "start_time": "2022-06-22T14:17:06.678Z"
   },
   {
    "duration": 927,
    "start_time": "2022-06-22T14:17:07.105Z"
   },
   {
    "duration": 53,
    "start_time": "2022-06-22T14:17:08.035Z"
   },
   {
    "duration": 11,
    "start_time": "2022-06-22T14:17:08.090Z"
   },
   {
    "duration": 55,
    "start_time": "2022-06-22T14:17:08.123Z"
   },
   {
    "duration": 87,
    "start_time": "2022-06-22T14:17:08.180Z"
   },
   {
    "duration": 24,
    "start_time": "2022-06-22T14:17:08.268Z"
   },
   {
    "duration": 143,
    "start_time": "2022-06-22T14:17:08.295Z"
   },
   {
    "duration": 8,
    "start_time": "2022-06-22T14:17:08.440Z"
   },
   {
    "duration": 8,
    "start_time": "2022-06-22T14:17:08.450Z"
   },
   {
    "duration": 135,
    "start_time": "2022-06-22T14:17:08.461Z"
   },
   {
    "duration": 32,
    "start_time": "2022-06-22T14:17:08.598Z"
   },
   {
    "duration": 27,
    "start_time": "2022-06-22T14:17:08.632Z"
   },
   {
    "duration": 147,
    "start_time": "2022-06-22T14:17:08.661Z"
   },
   {
    "duration": 15,
    "start_time": "2022-06-22T14:17:08.822Z"
   },
   {
    "duration": 11,
    "start_time": "2022-06-22T14:17:08.840Z"
   },
   {
    "duration": 121,
    "start_time": "2022-06-22T14:17:08.852Z"
   },
   {
    "duration": 118,
    "start_time": "2022-06-22T14:17:08.978Z"
   },
   {
    "duration": 25,
    "start_time": "2022-06-22T14:17:09.098Z"
   },
   {
    "duration": 34,
    "start_time": "2022-06-22T14:17:09.124Z"
   },
   {
    "duration": 326,
    "start_time": "2022-06-22T14:17:09.161Z"
   },
   {
    "duration": 259,
    "start_time": "2022-06-22T14:17:09.490Z"
   },
   {
    "duration": 274,
    "start_time": "2022-06-22T14:17:09.751Z"
   },
   {
    "duration": 68,
    "start_time": "2022-06-22T14:17:10.027Z"
   },
   {
    "duration": 288,
    "start_time": "2022-06-22T14:17:10.097Z"
   },
   {
    "duration": 18,
    "start_time": "2022-06-22T14:17:10.387Z"
   },
   {
    "duration": 799,
    "start_time": "2022-06-22T14:17:10.407Z"
   },
   {
    "duration": 423,
    "start_time": "2022-06-22T14:17:11.208Z"
   },
   {
    "duration": 77,
    "start_time": "2022-06-22T14:17:11.632Z"
   },
   {
    "duration": 19,
    "start_time": "2022-06-22T14:17:11.710Z"
   },
   {
    "duration": 24,
    "start_time": "2022-06-22T14:17:11.731Z"
   },
   {
    "duration": 14,
    "start_time": "2022-06-22T14:17:11.757Z"
   },
   {
    "duration": 254,
    "start_time": "2022-06-22T14:17:11.773Z"
   },
   {
    "duration": 901,
    "start_time": "2022-06-22T14:17:12.029Z"
   },
   {
    "duration": 4,
    "start_time": "2022-06-22T14:17:12.933Z"
   },
   {
    "duration": 37185,
    "start_time": "2022-06-22T14:17:12.938Z"
   },
   {
    "duration": 651946,
    "start_time": "2022-06-22T14:17:50.126Z"
   },
   {
    "duration": 16197,
    "start_time": "2022-06-22T14:28:42.075Z"
   },
   {
    "duration": 100,
    "start_time": "2022-06-22T14:28:58.274Z"
   },
   {
    "duration": 438259,
    "start_time": "2022-06-22T14:28:58.376Z"
   },
   {
    "duration": 8417,
    "start_time": "2022-06-22T14:36:16.637Z"
   },
   {
    "duration": 8011,
    "start_time": "2022-06-22T14:36:25.124Z"
   },
   {
    "duration": 6,
    "start_time": "2022-06-22T14:36:33.137Z"
   },
   {
    "duration": 13,
    "start_time": "2022-06-22T14:36:33.145Z"
   },
   {
    "duration": 14514,
    "start_time": "2022-06-22T14:36:33.160Z"
   },
   {
    "duration": 14558,
    "start_time": "2022-06-22T14:36:47.676Z"
   },
   {
    "duration": 1835,
    "start_time": "2022-09-18T11:36:49.756Z"
   },
   {
    "duration": 1313,
    "start_time": "2022-09-18T11:36:51.593Z"
   },
   {
    "duration": 154,
    "start_time": "2022-09-18T11:36:52.907Z"
   },
   {
    "duration": 119,
    "start_time": "2022-09-18T11:36:53.063Z"
   },
   {
    "duration": 140,
    "start_time": "2022-09-18T11:36:53.185Z"
   },
   {
    "duration": 38,
    "start_time": "2022-09-18T11:36:53.327Z"
   },
   {
    "duration": 503,
    "start_time": "2022-09-18T11:36:53.367Z"
   },
   {
    "duration": 1114,
    "start_time": "2022-09-18T11:36:53.872Z"
   },
   {
    "duration": 80,
    "start_time": "2022-09-18T11:36:54.988Z"
   },
   {
    "duration": 12,
    "start_time": "2022-09-18T11:36:55.070Z"
   },
   {
    "duration": 69,
    "start_time": "2022-09-18T11:36:55.084Z"
   },
   {
    "duration": 75,
    "start_time": "2022-09-18T11:36:55.155Z"
   },
   {
    "duration": 48,
    "start_time": "2022-09-18T11:36:55.236Z"
   },
   {
    "duration": 115,
    "start_time": "2022-09-18T11:36:55.289Z"
   },
   {
    "duration": 7,
    "start_time": "2022-09-18T11:36:55.406Z"
   },
   {
    "duration": 52,
    "start_time": "2022-09-18T11:36:55.415Z"
   },
   {
    "duration": 153,
    "start_time": "2022-09-18T11:36:55.469Z"
   },
   {
    "duration": 27,
    "start_time": "2022-09-18T11:36:55.627Z"
   },
   {
    "duration": 36,
    "start_time": "2022-09-18T11:36:55.657Z"
   },
   {
    "duration": 146,
    "start_time": "2022-09-18T11:36:55.695Z"
   },
   {
    "duration": 19,
    "start_time": "2022-09-18T11:36:55.843Z"
   },
   {
    "duration": 14,
    "start_time": "2022-09-18T11:36:55.870Z"
   },
   {
    "duration": 110,
    "start_time": "2022-09-18T11:36:55.886Z"
   },
   {
    "duration": 108,
    "start_time": "2022-09-18T11:36:55.998Z"
   },
   {
    "duration": 31,
    "start_time": "2022-09-18T11:36:56.108Z"
   },
   {
    "duration": 54,
    "start_time": "2022-09-18T11:36:56.140Z"
   },
   {
    "duration": 281,
    "start_time": "2022-09-18T11:36:56.195Z"
   },
   {
    "duration": 292,
    "start_time": "2022-09-18T11:36:56.478Z"
   },
   {
    "duration": 360,
    "start_time": "2022-09-18T11:36:56.772Z"
   },
   {
    "duration": 63,
    "start_time": "2022-09-18T11:36:57.142Z"
   },
   {
    "duration": 287,
    "start_time": "2022-09-18T11:36:57.207Z"
   },
   {
    "duration": 32,
    "start_time": "2022-09-18T11:36:57.496Z"
   },
   {
    "duration": 858,
    "start_time": "2022-09-18T11:36:57.529Z"
   },
   {
    "duration": 454,
    "start_time": "2022-09-18T11:36:58.388Z"
   },
   {
    "duration": 112,
    "start_time": "2022-09-18T11:36:58.846Z"
   },
   {
    "duration": 32,
    "start_time": "2022-09-18T11:36:58.960Z"
   },
   {
    "duration": 33,
    "start_time": "2022-09-18T11:36:58.994Z"
   },
   {
    "duration": 35,
    "start_time": "2022-09-18T11:36:59.036Z"
   },
   {
    "duration": 307,
    "start_time": "2022-09-18T11:36:59.079Z"
   },
   {
    "duration": 222,
    "start_time": "2022-09-18T11:36:59.388Z"
   },
   {
    "duration": 0,
    "start_time": "2022-09-18T11:36:59.612Z"
   },
   {
    "duration": 0,
    "start_time": "2022-09-18T11:36:59.614Z"
   },
   {
    "duration": 0,
    "start_time": "2022-09-18T11:36:59.619Z"
   },
   {
    "duration": 0,
    "start_time": "2022-09-18T11:36:59.620Z"
   },
   {
    "duration": 0,
    "start_time": "2022-09-18T11:36:59.621Z"
   },
   {
    "duration": 0,
    "start_time": "2022-09-18T11:36:59.621Z"
   },
   {
    "duration": 0,
    "start_time": "2022-09-18T11:36:59.622Z"
   },
   {
    "duration": 0,
    "start_time": "2022-09-18T11:36:59.623Z"
   },
   {
    "duration": 0,
    "start_time": "2022-09-18T11:36:59.623Z"
   },
   {
    "duration": 0,
    "start_time": "2022-09-18T11:36:59.625Z"
   },
   {
    "duration": 0,
    "start_time": "2022-09-18T11:36:59.626Z"
   },
   {
    "duration": 0,
    "start_time": "2022-09-18T11:36:59.628Z"
   },
   {
    "duration": 147,
    "start_time": "2022-09-18T11:38:16.410Z"
   },
   {
    "duration": 912,
    "start_time": "2022-09-18T11:38:30.170Z"
   },
   {
    "duration": 10,
    "start_time": "2022-09-18T11:38:34.061Z"
   },
   {
    "duration": 1042,
    "start_time": "2022-09-18T11:38:34.075Z"
   },
   {
    "duration": 199,
    "start_time": "2022-09-18T11:38:35.118Z"
   },
   {
    "duration": 136,
    "start_time": "2022-09-18T11:38:35.319Z"
   },
   {
    "duration": 159,
    "start_time": "2022-09-18T11:38:35.457Z"
   },
   {
    "duration": 46,
    "start_time": "2022-09-18T11:38:35.619Z"
   },
   {
    "duration": 574,
    "start_time": "2022-09-18T11:38:35.666Z"
   },
   {
    "duration": 1157,
    "start_time": "2022-09-18T11:38:36.242Z"
   },
   {
    "duration": 89,
    "start_time": "2022-09-18T11:38:37.401Z"
   },
   {
    "duration": 9,
    "start_time": "2022-09-18T11:38:37.492Z"
   },
   {
    "duration": 74,
    "start_time": "2022-09-18T11:38:37.503Z"
   },
   {
    "duration": 91,
    "start_time": "2022-09-18T11:38:37.580Z"
   },
   {
    "duration": 28,
    "start_time": "2022-09-18T11:38:37.676Z"
   },
   {
    "duration": 144,
    "start_time": "2022-09-18T11:38:37.710Z"
   },
   {
    "duration": 9,
    "start_time": "2022-09-18T11:38:37.856Z"
   },
   {
    "duration": 40,
    "start_time": "2022-09-18T11:38:37.867Z"
   },
   {
    "duration": 156,
    "start_time": "2022-09-18T11:38:37.909Z"
   },
   {
    "duration": 21,
    "start_time": "2022-09-18T11:38:38.070Z"
   },
   {
    "duration": 43,
    "start_time": "2022-09-18T11:38:38.093Z"
   },
   {
    "duration": 209,
    "start_time": "2022-09-18T11:38:38.138Z"
   },
   {
    "duration": 19,
    "start_time": "2022-09-18T11:38:38.353Z"
   },
   {
    "duration": 16,
    "start_time": "2022-09-18T11:38:38.377Z"
   },
   {
    "duration": 114,
    "start_time": "2022-09-18T11:38:38.395Z"
   },
   {
    "duration": 158,
    "start_time": "2022-09-18T11:38:38.512Z"
   },
   {
    "duration": 16,
    "start_time": "2022-09-18T11:38:38.672Z"
   },
   {
    "duration": 48,
    "start_time": "2022-09-18T11:38:38.690Z"
   },
   {
    "duration": 373,
    "start_time": "2022-09-18T11:38:38.739Z"
   },
   {
    "duration": 461,
    "start_time": "2022-09-18T11:38:39.115Z"
   },
   {
    "duration": 341,
    "start_time": "2022-09-18T11:38:39.583Z"
   },
   {
    "duration": 93,
    "start_time": "2022-09-18T11:38:39.939Z"
   },
   {
    "duration": 406,
    "start_time": "2022-09-18T11:38:40.035Z"
   },
   {
    "duration": 23,
    "start_time": "2022-09-18T11:38:40.451Z"
   },
   {
    "duration": 905,
    "start_time": "2022-09-18T11:38:40.476Z"
   },
   {
    "duration": 487,
    "start_time": "2022-09-18T11:38:41.383Z"
   },
   {
    "duration": 124,
    "start_time": "2022-09-18T11:38:41.873Z"
   },
   {
    "duration": 973,
    "start_time": "2022-09-18T11:38:41.999Z"
   },
   {
    "duration": 32,
    "start_time": "2022-09-18T11:38:42.979Z"
   },
   {
    "duration": 23,
    "start_time": "2022-09-18T11:38:43.012Z"
   },
   {
    "duration": 332,
    "start_time": "2022-09-18T11:38:43.046Z"
   },
   {
    "duration": 632,
    "start_time": "2022-09-18T11:38:43.387Z"
   },
   {
    "duration": 14,
    "start_time": "2022-09-18T11:38:44.038Z"
   },
   {
    "duration": 93096,
    "start_time": "2022-09-18T11:38:44.055Z"
   }
  ],
  "kernelspec": {
   "display_name": "Python 3 (ipykernel)",
   "language": "python",
   "name": "python3"
  },
  "language_info": {
   "codemirror_mode": {
    "name": "ipython",
    "version": 3
   },
   "file_extension": ".py",
   "mimetype": "text/x-python",
   "name": "python",
   "nbconvert_exporter": "python",
   "pygments_lexer": "ipython3",
   "version": "3.9.5"
  },
  "toc": {
   "base_numbering": 1,
   "nav_menu": {
    "height": "379px",
    "width": "357px"
   },
   "number_sections": true,
   "sideBar": true,
   "skip_h1_title": true,
   "title_cell": "Table of Contents",
   "title_sidebar": "Contents",
   "toc_cell": false,
   "toc_position": {
    "height": "calc(100% - 180px)",
    "left": "10px",
    "top": "150px",
    "width": "251.391px"
   },
   "toc_section_display": true,
   "toc_window_display": true
  }
 },
 "nbformat": 4,
 "nbformat_minor": 2
}
