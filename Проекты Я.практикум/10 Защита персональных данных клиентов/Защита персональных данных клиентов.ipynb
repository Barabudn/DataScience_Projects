{
 "cells": [
  {
   "cell_type": "markdown",
   "metadata": {
    "toc": true
   },
   "source": [
    "<h1>Содержание<span class=\"tocSkip\"></span></h1>\n",
    "<div class=\"toc\"><ul class=\"toc-item\"><li><ul class=\"toc-item\"><li><span><a href=\"#Привет,-можешь-пожалуйста-поподробней-рассказать-о-том-что-нужно-сделать-в-данном-задании?\" data-toc-modified-id=\"Привет,-можешь-пожалуйста-поподробней-рассказать-о-том-что-нужно-сделать-в-данном-задании?-0.1\"><span class=\"toc-item-num\">0.1&nbsp;&nbsp;</span>Привет, можешь пожалуйста поподробней рассказать о том что нужно сделать в данном задании?</a></span></li></ul></li><li><span><a href=\"#Загрузка-данных\" data-toc-modified-id=\"Загрузка-данных-1\"><span class=\"toc-item-num\">1&nbsp;&nbsp;</span>Загрузка данных</a></span></li><li><span><a href=\"#Умножение-матриц\" data-toc-modified-id=\"Умножение-матриц-2\"><span class=\"toc-item-num\">2&nbsp;&nbsp;</span>Умножение матриц</a></span></li><li><span><a href=\"#Алгоритм-преобразования\" data-toc-modified-id=\"Алгоритм-преобразования-3\"><span class=\"toc-item-num\">3&nbsp;&nbsp;</span>Алгоритм преобразования</a></span></li><li><span><a href=\"#Проверка-алгоритма\" data-toc-modified-id=\"Проверка-алгоритма-4\"><span class=\"toc-item-num\">4&nbsp;&nbsp;</span>Проверка алгоритма</a></span></li><li><span><a href=\"#Чек-лист-проверки\" data-toc-modified-id=\"Чек-лист-проверки-5\"><span class=\"toc-item-num\">5&nbsp;&nbsp;</span>Чек-лист проверки</a></span></li></ul></div>"
   ]
  },
  {
   "cell_type": "markdown",
   "metadata": {},
   "source": [
    "# Защита персональных данных клиентов"
   ]
  },
  {
   "cell_type": "markdown",
   "metadata": {},
   "source": [
    "Вам нужно защитить данные клиентов страховой компании «Хоть потоп». Разработайте такой метод преобразования данных, чтобы по ним было сложно восстановить персональную информацию. Обоснуйте корректность его работы.\n",
    "\n",
    "Нужно защитить данные, чтобы при преобразовании качество моделей машинного обучения не ухудшилось. Подбирать наилучшую модель не требуется."
   ]
  },
  {
   "cell_type": "markdown",
   "metadata": {},
   "source": [
    "## Загрузка данных"
   ]
  },
  {
   "cell_type": "code",
   "execution_count": 1,
   "metadata": {},
   "outputs": [],
   "source": [
    "import pandas as pd\n",
    "import numpy as np\n",
    "\n",
    "from sklearn.model_selection import train_test_split\n",
    "from sklearn.linear_model import LinearRegression\n",
    "from sklearn.metrics import r2_score"
   ]
  },
  {
   "cell_type": "code",
   "execution_count": 2,
   "metadata": {},
   "outputs": [],
   "source": [
    "df = pd.read_csv('D://Игорь/projects/insurance.csv')"
   ]
  },
  {
   "cell_type": "code",
   "execution_count": 3,
   "metadata": {},
   "outputs": [
    {
     "name": "stdout",
     "output_type": "stream",
     "text": [
      "<class 'pandas.core.frame.DataFrame'>\n",
      "RangeIndex: 5000 entries, 0 to 4999\n",
      "Data columns (total 5 columns):\n",
      " #   Column             Non-Null Count  Dtype  \n",
      "---  ------             --------------  -----  \n",
      " 0   Пол                5000 non-null   int64  \n",
      " 1   Возраст            5000 non-null   float64\n",
      " 2   Зарплата           5000 non-null   float64\n",
      " 3   Члены семьи        5000 non-null   int64  \n",
      " 4   Страховые выплаты  5000 non-null   int64  \n",
      "dtypes: float64(2), int64(3)\n",
      "memory usage: 195.4 KB\n"
     ]
    }
   ],
   "source": [
    "df.info()"
   ]
  },
  {
   "cell_type": "code",
   "execution_count": 4,
   "metadata": {},
   "outputs": [
    {
     "data": {
      "text/html": [
       "<div>\n",
       "<style scoped>\n",
       "    .dataframe tbody tr th:only-of-type {\n",
       "        vertical-align: middle;\n",
       "    }\n",
       "\n",
       "    .dataframe tbody tr th {\n",
       "        vertical-align: top;\n",
       "    }\n",
       "\n",
       "    .dataframe thead th {\n",
       "        text-align: right;\n",
       "    }\n",
       "</style>\n",
       "<table border=\"1\" class=\"dataframe\">\n",
       "  <thead>\n",
       "    <tr style=\"text-align: right;\">\n",
       "      <th></th>\n",
       "      <th>Пол</th>\n",
       "      <th>Возраст</th>\n",
       "      <th>Зарплата</th>\n",
       "      <th>Члены семьи</th>\n",
       "      <th>Страховые выплаты</th>\n",
       "    </tr>\n",
       "  </thead>\n",
       "  <tbody>\n",
       "    <tr>\n",
       "      <th>0</th>\n",
       "      <td>1</td>\n",
       "      <td>41.0</td>\n",
       "      <td>49600.0</td>\n",
       "      <td>1</td>\n",
       "      <td>0</td>\n",
       "    </tr>\n",
       "    <tr>\n",
       "      <th>1</th>\n",
       "      <td>0</td>\n",
       "      <td>46.0</td>\n",
       "      <td>38000.0</td>\n",
       "      <td>1</td>\n",
       "      <td>1</td>\n",
       "    </tr>\n",
       "    <tr>\n",
       "      <th>2</th>\n",
       "      <td>0</td>\n",
       "      <td>29.0</td>\n",
       "      <td>21000.0</td>\n",
       "      <td>0</td>\n",
       "      <td>0</td>\n",
       "    </tr>\n",
       "    <tr>\n",
       "      <th>3</th>\n",
       "      <td>0</td>\n",
       "      <td>21.0</td>\n",
       "      <td>41700.0</td>\n",
       "      <td>2</td>\n",
       "      <td>0</td>\n",
       "    </tr>\n",
       "    <tr>\n",
       "      <th>4</th>\n",
       "      <td>1</td>\n",
       "      <td>28.0</td>\n",
       "      <td>26100.0</td>\n",
       "      <td>0</td>\n",
       "      <td>0</td>\n",
       "    </tr>\n",
       "  </tbody>\n",
       "</table>\n",
       "</div>"
      ],
      "text/plain": [
       "   Пол  Возраст  Зарплата  Члены семьи  Страховые выплаты\n",
       "0    1     41.0   49600.0            1                  0\n",
       "1    0     46.0   38000.0            1                  1\n",
       "2    0     29.0   21000.0            0                  0\n",
       "3    0     21.0   41700.0            2                  0\n",
       "4    1     28.0   26100.0            0                  0"
      ]
     },
     "execution_count": 4,
     "metadata": {},
     "output_type": "execute_result"
    }
   ],
   "source": [
    "df.head()"
   ]
  },
  {
   "cell_type": "code",
   "execution_count": 5,
   "metadata": {
    "scrolled": false
   },
   "outputs": [
    {
     "data": {
      "text/plain": [
       "Пол                  0\n",
       "Возраст              0\n",
       "Зарплата             0\n",
       "Члены семьи          0\n",
       "Страховые выплаты    0\n",
       "dtype: int64"
      ]
     },
     "execution_count": 5,
     "metadata": {},
     "output_type": "execute_result"
    }
   ],
   "source": [
    "df.isnull().sum()"
   ]
  },
  {
   "cell_type": "code",
   "execution_count": 6,
   "metadata": {},
   "outputs": [
    {
     "data": {
      "text/html": [
       "<div>\n",
       "<style scoped>\n",
       "    .dataframe tbody tr th:only-of-type {\n",
       "        vertical-align: middle;\n",
       "    }\n",
       "\n",
       "    .dataframe tbody tr th {\n",
       "        vertical-align: top;\n",
       "    }\n",
       "\n",
       "    .dataframe thead th {\n",
       "        text-align: right;\n",
       "    }\n",
       "</style>\n",
       "<table border=\"1\" class=\"dataframe\">\n",
       "  <thead>\n",
       "    <tr style=\"text-align: right;\">\n",
       "      <th></th>\n",
       "      <th>Пол</th>\n",
       "      <th>Возраст</th>\n",
       "      <th>Зарплата</th>\n",
       "      <th>Члены семьи</th>\n",
       "      <th>Страховые выплаты</th>\n",
       "    </tr>\n",
       "  </thead>\n",
       "  <tbody>\n",
       "    <tr>\n",
       "      <th>count</th>\n",
       "      <td>5000.000000</td>\n",
       "      <td>5000.000000</td>\n",
       "      <td>5000.000000</td>\n",
       "      <td>5000.000000</td>\n",
       "      <td>5000.000000</td>\n",
       "    </tr>\n",
       "    <tr>\n",
       "      <th>mean</th>\n",
       "      <td>0.499000</td>\n",
       "      <td>30.952800</td>\n",
       "      <td>39916.360000</td>\n",
       "      <td>1.194200</td>\n",
       "      <td>0.148000</td>\n",
       "    </tr>\n",
       "    <tr>\n",
       "      <th>std</th>\n",
       "      <td>0.500049</td>\n",
       "      <td>8.440807</td>\n",
       "      <td>9900.083569</td>\n",
       "      <td>1.091387</td>\n",
       "      <td>0.463183</td>\n",
       "    </tr>\n",
       "    <tr>\n",
       "      <th>min</th>\n",
       "      <td>0.000000</td>\n",
       "      <td>18.000000</td>\n",
       "      <td>5300.000000</td>\n",
       "      <td>0.000000</td>\n",
       "      <td>0.000000</td>\n",
       "    </tr>\n",
       "    <tr>\n",
       "      <th>25%</th>\n",
       "      <td>0.000000</td>\n",
       "      <td>24.000000</td>\n",
       "      <td>33300.000000</td>\n",
       "      <td>0.000000</td>\n",
       "      <td>0.000000</td>\n",
       "    </tr>\n",
       "    <tr>\n",
       "      <th>50%</th>\n",
       "      <td>0.000000</td>\n",
       "      <td>30.000000</td>\n",
       "      <td>40200.000000</td>\n",
       "      <td>1.000000</td>\n",
       "      <td>0.000000</td>\n",
       "    </tr>\n",
       "    <tr>\n",
       "      <th>75%</th>\n",
       "      <td>1.000000</td>\n",
       "      <td>37.000000</td>\n",
       "      <td>46600.000000</td>\n",
       "      <td>2.000000</td>\n",
       "      <td>0.000000</td>\n",
       "    </tr>\n",
       "    <tr>\n",
       "      <th>max</th>\n",
       "      <td>1.000000</td>\n",
       "      <td>65.000000</td>\n",
       "      <td>79000.000000</td>\n",
       "      <td>6.000000</td>\n",
       "      <td>5.000000</td>\n",
       "    </tr>\n",
       "  </tbody>\n",
       "</table>\n",
       "</div>"
      ],
      "text/plain": [
       "               Пол      Возраст      Зарплата  Члены семьи  Страховые выплаты\n",
       "count  5000.000000  5000.000000   5000.000000  5000.000000        5000.000000\n",
       "mean      0.499000    30.952800  39916.360000     1.194200           0.148000\n",
       "std       0.500049     8.440807   9900.083569     1.091387           0.463183\n",
       "min       0.000000    18.000000   5300.000000     0.000000           0.000000\n",
       "25%       0.000000    24.000000  33300.000000     0.000000           0.000000\n",
       "50%       0.000000    30.000000  40200.000000     1.000000           0.000000\n",
       "75%       1.000000    37.000000  46600.000000     2.000000           0.000000\n",
       "max       1.000000    65.000000  79000.000000     6.000000           5.000000"
      ]
     },
     "execution_count": 6,
     "metadata": {},
     "output_type": "execute_result"
    }
   ],
   "source": [
    "df.describe()"
   ]
  },
  {
   "cell_type": "markdown",
   "metadata": {},
   "source": [
    "Вывод:\n",
    "1. В датасете 5 столбцов и 5000 строк\n",
    "2. Пропусков нет\n"
   ]
  },
  {
   "cell_type": "markdown",
   "metadata": {},
   "source": [
    "## Умножение матриц"
   ]
  },
  {
   "cell_type": "markdown",
   "metadata": {},
   "source": [
    "В этом задании вы можете записывать формулы в *Jupyter Notebook.*\n",
    "\n",
    "Чтобы записать формулу внутри текста, окружите её символами доллара \\\\$; если снаружи —  двойными символами \\\\$\\\\$. Эти формулы записываются на языке вёрстки *LaTeX.* \n",
    "\n",
    "Для примера мы записали формулы линейной регрессии. Можете их скопировать и отредактировать, чтобы решить задачу.\n",
    "\n",
    "Работать в *LaTeX* необязательно."
   ]
  },
  {
   "cell_type": "markdown",
   "metadata": {},
   "source": [
    "Обозначения:\n",
    "\n",
    "- $X$ — матрица признаков (нулевой столбец состоит из единиц)\n",
    "\n",
    "- $y$ — вектор целевого признака\n",
    "\n",
    "- $P$ — матрица, на которую умножаются признаки\n",
    "\n",
    "- $w$ — вектор весов линейной регрессии (нулевой элемент равен сдвигу)"
   ]
  },
  {
   "cell_type": "markdown",
   "metadata": {},
   "source": [
    "Предсказания:\n",
    "\n",
    "$$\n",
    "a = Xw\n",
    "$$\n",
    "\n",
    "Задача обучения:\n",
    "\n",
    "$$\n",
    "w = \\arg\\min_w MSE(Xw, y)\n",
    "$$\n",
    "\n",
    "Формула обучения:\n",
    "\n",
    "$$\n",
    "w = (X^T X)^{-1} X^T y\n",
    "$$"
   ]
  },
  {
   "cell_type": "markdown",
   "metadata": {},
   "source": [
    "**Вопрос:** Признаки умножают на обратимую матрицу. Изменится ли качество линейной регрессии?\n",
    "\n",
    "**Ответ:** Качество линейной регрессии не изменится.\n",
    "\n",
    "**Обоснование:** ..."
   ]
  },
  {
   "cell_type": "markdown",
   "metadata": {},
   "source": [
    "Создадим новую матрицу признаков из нашей старой матрицы $X$, умноженной на обратимую матрицу $P$:\n",
    "\n",
    "$$\n",
    "X_p = X * P\n",
    "$$"
   ]
  },
  {
   "cell_type": "markdown",
   "metadata": {},
   "source": [
    "Теперь создадим новый вектор весов, используя свойство транспонированных и обратимых матриц, а также единичную матрицу $E$:\n",
    "\n",
    "$$\n",
    "w_p = ((XP)^T XP)^{-1} (XP)^T y = (P^T X^T XP)^{-1} P^T X^T y = (P^T(X^T X)P)^{-1} P^T X^T y = P^{-1}(X^T X)^{-1}(P^T)^{-1}  P^T X^T y = = P^{-1}(X^T X)^{-1}EX^T y = P^{-1}(X^T X)^{-1}X^T y\n",
    "$$"
   ]
  },
  {
   "cell_type": "markdown",
   "metadata": {},
   "source": [
    "Итоговая формула получилась: $w_p = P^{-1}(X^T X)^{-1}X^T y$, в которой $(X^T X)^{-1}X^T y$ равно формуле обучения $w$."
   ]
  },
  {
   "cell_type": "markdown",
   "metadata": {},
   "source": [
    "Получилось, что $w_p = P^{-1}w$"
   ]
  },
  {
   "cell_type": "markdown",
   "metadata": {},
   "source": [
    "Теперь построим предсказание по выведенной формуле: $a_p = X_p w_p = X P P^{-1} w$.\n",
    "\n",
    "$P P^{-1}$ равно единичной матрице $E$ и получается, что $a_p = XEw = Xw$"
   ]
  },
  {
   "cell_type": "markdown",
   "metadata": {},
   "source": [
    "И, следовательно, $a = a_p$"
   ]
  },
  {
   "cell_type": "markdown",
   "metadata": {},
   "source": [
    "Вывод:\n",
    "- При умножении признаков линейной регрессии на обратимую матрицу качество модели не изменится."
   ]
  },
  {
   "cell_type": "markdown",
   "metadata": {},
   "source": [
    "## Алгоритм преобразования"
   ]
  },
  {
   "cell_type": "markdown",
   "metadata": {},
   "source": [
    "**Алгоритм**\n",
    "\n",
    "Для защиты информации умножим матрицу признаков на обратимую матрицу $P$, которая генерируется случайным образом.\n",
    "\n",
    "Этапы алгоритма:\n",
    "1. Создание случайной квадратной обратимой матрицы с количеством столбцов, которое соответствует количеству признаков.\n",
    "2. Проверка матрицы на обратимость.\n",
    "3. Умножение матрицы признаков на случайную обратимую матрицу.\n",
    "4. Применение модели на преобразованных признаках.\n",
    "5. Сравнить метрики R2 на исходных признаках и на признаках, умноженных на обратимую матрицу."
   ]
  },
  {
   "cell_type": "markdown",
   "metadata": {},
   "source": [
    "**Обоснование**\n",
    "\n",
    "Как было выяснено выше, обратимая матрица не должна ухудшить качество модели"
   ]
  },
  {
   "cell_type": "markdown",
   "metadata": {},
   "source": [
    "## Проверка алгоритма"
   ]
  },
  {
   "cell_type": "code",
   "execution_count": 7,
   "metadata": {},
   "outputs": [],
   "source": [
    "#выделим из датасета признаки и целевой признак\n",
    "features= df.drop('Страховые выплаты', axis=1)\n",
    "target = df['Страховые выплаты']"
   ]
  },
  {
   "cell_type": "code",
   "execution_count": 8,
   "metadata": {},
   "outputs": [
    {
     "name": "stdout",
     "output_type": "stream",
     "text": [
      "(3750, 4)\n",
      "(1250, 4)\n"
     ]
    }
   ],
   "source": [
    "#разделим на обучающую и тестовую выборки\n",
    "(features_train, features_test, target_train, target_test) =\\\n",
    "train_test_split(features, target, test_size = 0.25, random_state=12345)\n",
    "print(features_train.shape)\n",
    "print(features_test.shape)"
   ]
  },
  {
   "cell_type": "code",
   "execution_count": 9,
   "metadata": {},
   "outputs": [],
   "source": [
    "def score(features, target):\n",
    "    model = LinearRegression()\n",
    "    model.fit(features, target)\n",
    "    predictions = model.predict(features)\n",
    "    r2 = r2_score(target, predictions)\n",
    "    return r2"
   ]
  },
  {
   "cell_type": "code",
   "execution_count": 10,
   "metadata": {},
   "outputs": [
    {
     "name": "stdout",
     "output_type": "stream",
     "text": [
      "R2_score стандартной модели: 0.4213920242579371\n"
     ]
    }
   ],
   "source": [
    "print('R2_score стандартной модели:', score(features_train, target_train))"
   ]
  },
  {
   "cell_type": "code",
   "execution_count": 11,
   "metadata": {},
   "outputs": [
    {
     "data": {
      "text/plain": [
       "array([[-0.62630215,  0.9089869 , -1.63537608,  1.18077799],\n",
       "       [ 0.11041583,  0.48903983,  0.5382287 , -1.48089602],\n",
       "       [-0.75034396, -0.08903143,  2.29295881, -1.07388764],\n",
       "       [-1.07614513,  0.36582614,  1.48951024, -0.97723674]])"
      ]
     },
     "metadata": {},
     "output_type": "display_data"
    }
   ],
   "source": [
    "#Создадим случайную матрицу размера 4х4, потому что у нас 4 признака и обратимая матрица должна быть квадратной.\n",
    "matrix = np.random.normal(size =(4,4))\n",
    "display(matrix)"
   ]
  },
  {
   "cell_type": "code",
   "execution_count": 12,
   "metadata": {},
   "outputs": [
    {
     "data": {
      "text/plain": [
       "array([[ 0.91026006,  0.99258116,  2.3723666 , -3.01129654],\n",
       "       [ 1.93502016,  1.3702477 ,  3.10507146, -3.15058049],\n",
       "       [ 0.84849292,  0.37159687,  2.28504338, -2.04893485],\n",
       "       [ 1.01525851, -0.01370355,  2.03277362, -2.00962771]])"
      ]
     },
     "metadata": {},
     "output_type": "display_data"
    }
   ],
   "source": [
    "#проверяем матрицу на обратимость\n",
    "invert_matrix = np.linalg.inv(matrix)\n",
    "display(invert_matrix)"
   ]
  },
  {
   "cell_type": "code",
   "execution_count": 13,
   "metadata": {},
   "outputs": [
    {
     "name": "stdout",
     "output_type": "stream",
     "text": [
      "(3750, 4)\n",
      "(1250, 4)\n"
     ]
    }
   ],
   "source": [
    "features_train_matrix = features_train @ invert_matrix\n",
    "features_test_matrix = features_test @ invert_matrix\n",
    "print(features_train_matrix.shape)\n",
    "print(features_test_matrix.shape)"
   ]
  },
  {
   "cell_type": "code",
   "execution_count": 14,
   "metadata": {},
   "outputs": [
    {
     "name": "stdout",
     "output_type": "stream",
     "text": [
      "R2_score на преобразованной обучающей выборке: 0.42139202425793587\n"
     ]
    }
   ],
   "source": [
    "#проверяем преобразованной обучающей выборке\n",
    "print('R2_score на преобразованной обучающей выборке:', score(features_train_matrix, target_train))"
   ]
  },
  {
   "cell_type": "code",
   "execution_count": 15,
   "metadata": {},
   "outputs": [
    {
     "name": "stdout",
     "output_type": "stream",
     "text": [
      "R2_score на тестовой выборке: 0.4385357514301551\n"
     ]
    }
   ],
   "source": [
    "#проверяем совпадает ли r2 на тестовых выборках\n",
    "print('R2_score на тестовой выборке:', score(features_test, target_test))"
   ]
  },
  {
   "cell_type": "code",
   "execution_count": 16,
   "metadata": {},
   "outputs": [
    {
     "name": "stdout",
     "output_type": "stream",
     "text": [
      "R2_score на преобразованной тестовой выборке: 0.43853575143017565\n"
     ]
    }
   ],
   "source": [
    "print('R2_score на преобразованной тестовой выборке:', score(features_test_matrix, target_test))"
   ]
  },
  {
   "cell_type": "markdown",
   "metadata": {},
   "source": [
    "Вывод:\n",
    "Качество линейной регрессии не изменилось и метрика R2 совпадает на стандартных и преобразованных данных, а это означает, что удалось защитить данные клиентов и при этом не ухудшить качество модели."
   ]
  },
  {
   "cell_type": "markdown",
   "metadata": {},
   "source": [
    "Вывод: \n",
    "- В датасете 5 столбцов и 5000 строк\n",
    "- Пропусков нет\n",
    "- При умножении признаков линейной регрессии на обратимую матрицу качество модели не изменится.\n",
    "- Для защиты информации умножим матрицу признаков на обратимую матрицу  𝑃 , которая генерируется случайным образом.\n",
    "- - Этапы алгоритма:\n",
    "- Создание случайной квадратной обратимой матрицы с количеством столбцов, которое соответствует количеству признаков.\n",
    "- Проверка матрицы на обратимость.\n",
    "- Умножение матрицы признаков на случайную обратимую матрицу.\n",
    "- Применение модели на преобразованных признаках.\n",
    "- Сравнить метрики R2 на исходных признаках и на признаках, умноженных на обратимую матрицу.\n",
    "- Качество линейной регрессии не изменилось и метрика R2 совпадает на стандартных и преобразованных данных, а это означает, что удалось защитить данные клиентов и при этом не ухудшить качество модели.\n"
   ]
  }
 ],
 "metadata": {
  "ExecuteTimeLog": [
   {
    "duration": 462,
    "start_time": "2022-06-09T12:04:59.259Z"
   },
   {
    "duration": 79,
    "start_time": "2022-06-09T12:05:14.664Z"
   },
   {
    "duration": 16,
    "start_time": "2022-06-09T12:05:20.007Z"
   },
   {
    "duration": 4,
    "start_time": "2022-06-09T12:06:28.154Z"
   },
   {
    "duration": 6,
    "start_time": "2022-06-09T12:07:45.952Z"
   },
   {
    "duration": 8,
    "start_time": "2022-06-09T12:09:18.097Z"
   },
   {
    "duration": 11,
    "start_time": "2022-06-09T12:09:21.560Z"
   },
   {
    "duration": 423,
    "start_time": "2022-06-10T10:22:38.887Z"
   },
   {
    "duration": 112,
    "start_time": "2022-06-10T10:22:39.313Z"
   },
   {
    "duration": 12,
    "start_time": "2022-06-10T10:22:39.427Z"
   },
   {
    "duration": 19,
    "start_time": "2022-06-10T10:22:39.441Z"
   },
   {
    "duration": 28,
    "start_time": "2022-06-10T10:22:39.462Z"
   },
   {
    "duration": 358,
    "start_time": "2022-06-15T18:39:31.305Z"
   },
   {
    "duration": 80,
    "start_time": "2022-06-15T18:39:31.665Z"
   },
   {
    "duration": 10,
    "start_time": "2022-06-15T18:39:31.747Z"
   },
   {
    "duration": 13,
    "start_time": "2022-06-15T18:39:31.758Z"
   },
   {
    "duration": 5,
    "start_time": "2022-06-15T18:39:31.772Z"
   },
   {
    "duration": 3,
    "start_time": "2022-06-15T18:39:31.779Z"
   },
   {
    "duration": 60,
    "start_time": "2022-06-15T18:39:31.783Z"
   },
   {
    "duration": 0,
    "start_time": "2022-06-15T18:39:31.845Z"
   },
   {
    "duration": 0,
    "start_time": "2022-06-15T18:39:31.846Z"
   },
   {
    "duration": 0,
    "start_time": "2022-06-15T18:39:31.847Z"
   },
   {
    "duration": 0,
    "start_time": "2022-06-15T18:39:31.848Z"
   },
   {
    "duration": 0,
    "start_time": "2022-06-15T18:39:31.849Z"
   },
   {
    "duration": 0,
    "start_time": "2022-06-15T18:39:31.851Z"
   },
   {
    "duration": 0,
    "start_time": "2022-06-15T18:39:31.852Z"
   },
   {
    "duration": 0,
    "start_time": "2022-06-15T18:39:31.853Z"
   },
   {
    "duration": 0,
    "start_time": "2022-06-15T18:39:31.853Z"
   },
   {
    "duration": 555,
    "start_time": "2022-06-15T18:40:48.348Z"
   },
   {
    "duration": 27,
    "start_time": "2022-06-15T18:40:48.904Z"
   },
   {
    "duration": 9,
    "start_time": "2022-06-15T18:40:48.932Z"
   },
   {
    "duration": 14,
    "start_time": "2022-06-15T18:40:48.943Z"
   },
   {
    "duration": 8,
    "start_time": "2022-06-15T18:40:48.958Z"
   },
   {
    "duration": 3,
    "start_time": "2022-06-15T18:40:48.968Z"
   },
   {
    "duration": 11,
    "start_time": "2022-06-15T18:40:48.972Z"
   },
   {
    "duration": 5,
    "start_time": "2022-06-15T18:40:48.985Z"
   },
   {
    "duration": 16,
    "start_time": "2022-06-15T18:40:48.991Z"
   },
   {
    "duration": 181,
    "start_time": "2022-06-15T18:40:49.010Z"
   },
   {
    "duration": 6,
    "start_time": "2022-06-15T18:40:49.193Z"
   },
   {
    "duration": 0,
    "start_time": "2022-06-15T18:40:49.200Z"
   },
   {
    "duration": 0,
    "start_time": "2022-06-15T18:40:49.201Z"
   },
   {
    "duration": 0,
    "start_time": "2022-06-15T18:40:49.202Z"
   },
   {
    "duration": 0,
    "start_time": "2022-06-15T18:40:49.203Z"
   },
   {
    "duration": 0,
    "start_time": "2022-06-15T18:40:49.204Z"
   },
   {
    "duration": 4,
    "start_time": "2022-06-15T18:41:02.479Z"
   },
   {
    "duration": 5,
    "start_time": "2022-06-15T18:41:03.161Z"
   },
   {
    "duration": 2,
    "start_time": "2022-06-15T18:41:15.197Z"
   },
   {
    "duration": 31,
    "start_time": "2022-06-15T18:41:15.201Z"
   },
   {
    "duration": 9,
    "start_time": "2022-06-15T18:41:15.234Z"
   },
   {
    "duration": 9,
    "start_time": "2022-06-15T18:41:15.244Z"
   },
   {
    "duration": 6,
    "start_time": "2022-06-15T18:41:15.254Z"
   },
   {
    "duration": 3,
    "start_time": "2022-06-15T18:41:15.261Z"
   },
   {
    "duration": 6,
    "start_time": "2022-06-15T18:41:15.266Z"
   },
   {
    "duration": 3,
    "start_time": "2022-06-15T18:41:15.274Z"
   },
   {
    "duration": 17,
    "start_time": "2022-06-15T18:41:15.278Z"
   },
   {
    "duration": 4,
    "start_time": "2022-06-15T18:41:15.297Z"
   },
   {
    "duration": 192,
    "start_time": "2022-06-15T18:41:15.302Z"
   },
   {
    "duration": 96,
    "start_time": "2022-06-15T18:41:15.495Z"
   },
   {
    "duration": 14,
    "start_time": "2022-06-15T18:41:15.593Z"
   },
   {
    "duration": 88,
    "start_time": "2022-06-15T18:41:15.610Z"
   },
   {
    "duration": 100,
    "start_time": "2022-06-15T18:41:15.700Z"
   },
   {
    "duration": 14,
    "start_time": "2022-06-15T18:41:15.892Z"
   },
   {
    "duration": 3,
    "start_time": "2022-06-15T18:41:36.933Z"
   },
   {
    "duration": 36,
    "start_time": "2022-06-15T18:41:36.938Z"
   },
   {
    "duration": 11,
    "start_time": "2022-06-15T18:41:36.977Z"
   },
   {
    "duration": 36,
    "start_time": "2022-06-15T18:41:36.990Z"
   },
   {
    "duration": 21,
    "start_time": "2022-06-15T18:41:37.028Z"
   },
   {
    "duration": 5,
    "start_time": "2022-06-15T18:41:37.051Z"
   },
   {
    "duration": 26,
    "start_time": "2022-06-15T18:41:37.057Z"
   },
   {
    "duration": 5,
    "start_time": "2022-06-15T18:41:37.084Z"
   },
   {
    "duration": 28,
    "start_time": "2022-06-15T18:41:37.090Z"
   },
   {
    "duration": 8,
    "start_time": "2022-06-15T18:41:37.290Z"
   },
   {
    "duration": 5,
    "start_time": "2022-06-15T18:41:37.301Z"
   },
   {
    "duration": 9,
    "start_time": "2022-06-15T18:41:37.307Z"
   },
   {
    "duration": 84,
    "start_time": "2022-06-15T18:41:37.317Z"
   },
   {
    "duration": 98,
    "start_time": "2022-06-15T18:41:37.402Z"
   },
   {
    "duration": 12,
    "start_time": "2022-06-15T18:41:37.592Z"
   },
   {
    "duration": 3,
    "start_time": "2022-06-15T18:50:15.301Z"
   },
   {
    "duration": 32,
    "start_time": "2022-06-15T18:50:15.306Z"
   },
   {
    "duration": 11,
    "start_time": "2022-06-15T18:50:15.339Z"
   },
   {
    "duration": 25,
    "start_time": "2022-06-15T18:50:15.351Z"
   },
   {
    "duration": 5,
    "start_time": "2022-06-15T18:50:15.378Z"
   },
   {
    "duration": 9,
    "start_time": "2022-06-15T18:50:15.385Z"
   },
   {
    "duration": 12,
    "start_time": "2022-06-15T18:50:15.395Z"
   },
   {
    "duration": 4,
    "start_time": "2022-06-15T18:50:15.408Z"
   },
   {
    "duration": 16,
    "start_time": "2022-06-15T18:50:15.413Z"
   },
   {
    "duration": 103,
    "start_time": "2022-06-15T18:50:15.493Z"
   },
   {
    "duration": 7,
    "start_time": "2022-06-15T18:50:15.598Z"
   },
   {
    "duration": 10,
    "start_time": "2022-06-15T18:50:15.606Z"
   },
   {
    "duration": 77,
    "start_time": "2022-06-15T18:50:15.618Z"
   },
   {
    "duration": 95,
    "start_time": "2022-06-15T18:50:15.697Z"
   },
   {
    "duration": 112,
    "start_time": "2022-06-15T18:50:15.794Z"
   },
   {
    "duration": 21,
    "start_time": "2022-06-15T18:50:39.261Z"
   },
   {
    "duration": 1184,
    "start_time": "2022-09-18T11:29:16.160Z"
   },
   {
    "duration": 110,
    "start_time": "2022-09-18T11:29:17.351Z"
   },
   {
    "duration": 13,
    "start_time": "2022-09-18T11:29:17.463Z"
   },
   {
    "duration": 20,
    "start_time": "2022-09-18T11:29:17.478Z"
   },
   {
    "duration": 6,
    "start_time": "2022-09-18T11:29:17.501Z"
   },
   {
    "duration": 29,
    "start_time": "2022-09-18T11:29:17.509Z"
   },
   {
    "duration": 26,
    "start_time": "2022-09-18T11:29:17.540Z"
   },
   {
    "duration": 8,
    "start_time": "2022-09-18T11:29:17.568Z"
   },
   {
    "duration": 7,
    "start_time": "2022-09-18T11:29:17.578Z"
   },
   {
    "duration": 56,
    "start_time": "2022-09-18T11:29:17.587Z"
   },
   {
    "duration": 86,
    "start_time": "2022-09-18T11:29:17.646Z"
   },
   {
    "duration": 48,
    "start_time": "2022-09-18T11:29:17.735Z"
   },
   {
    "duration": 54,
    "start_time": "2022-09-18T11:29:17.785Z"
   },
   {
    "duration": 87,
    "start_time": "2022-09-18T11:29:17.844Z"
   },
   {
    "duration": 109,
    "start_time": "2022-09-18T11:29:17.933Z"
   },
   {
    "duration": 19,
    "start_time": "2022-09-18T11:29:18.051Z"
   }
  ],
  "kernelspec": {
   "display_name": "Python 3 (ipykernel)",
   "language": "python",
   "name": "python3"
  },
  "language_info": {
   "codemirror_mode": {
    "name": "ipython",
    "version": 3
   },
   "file_extension": ".py",
   "mimetype": "text/x-python",
   "name": "python",
   "nbconvert_exporter": "python",
   "pygments_lexer": "ipython3",
   "version": "3.9.5"
  },
  "toc": {
   "base_numbering": 1,
   "nav_menu": {},
   "number_sections": true,
   "sideBar": true,
   "skip_h1_title": true,
   "title_cell": "Содержание",
   "title_sidebar": "Contents",
   "toc_cell": true,
   "toc_position": {},
   "toc_section_display": true,
   "toc_window_display": true
  }
 },
 "nbformat": 4,
 "nbformat_minor": 2
}
