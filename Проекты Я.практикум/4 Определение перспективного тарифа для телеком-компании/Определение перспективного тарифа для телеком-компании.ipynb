{
 "cells": [
  {
   "cell_type": "markdown",
   "metadata": {},
   "source": [
    "Клиентам предлагают два тарифных плана: «Смарт» и «Ультра». Чтобы скорректировать рекламный бюджет, коммерческий департамент хочет понять, какой тариф приносит больше денег.\n",
    "Вам предстоит сделать предварительный анализ тарифов на небольшой выборке клиентов. В вашем распоряжении данные 500 пользователей «Мегалайна»: кто они, откуда, каким тарифом пользуются, сколько звонков и сообщений каждый отправил за 2018 год. Нужно проанализировать поведение клиентов и сделать вывод — какой тариф лучше."
   ]
  },
  {
   "cell_type": "markdown",
   "metadata": {},
   "source": [
    "Нам предстоит сделать предварительный анализ тарифов на небольшой выборке клиентов. В нашем распоряжении данные 500 пользователей «Мегалайна»: кто они, откуда, каким тарифом пользуются, сколько звонков и сообщений каждый отправил за 2018 год. Нужно проанализировать поведение клиентов и сделать вывод — какой тариф лучше."
   ]
  },
  {
   "cell_type": "markdown",
   "metadata": {},
   "source": [
    "#  Изучаем общую информацию"
   ]
  },
  {
   "cell_type": "code",
   "execution_count": 1,
   "metadata": {
    "scrolled": false
   },
   "outputs": [
    {
     "data": {
      "text/html": [
       "<div>\n",
       "<style scoped>\n",
       "    .dataframe tbody tr th:only-of-type {\n",
       "        vertical-align: middle;\n",
       "    }\n",
       "\n",
       "    .dataframe tbody tr th {\n",
       "        vertical-align: top;\n",
       "    }\n",
       "\n",
       "    .dataframe thead th {\n",
       "        text-align: right;\n",
       "    }\n",
       "</style>\n",
       "<table border=\"1\" class=\"dataframe\">\n",
       "  <thead>\n",
       "    <tr style=\"text-align: right;\">\n",
       "      <th></th>\n",
       "      <th>id</th>\n",
       "      <th>call_date</th>\n",
       "      <th>duration</th>\n",
       "      <th>user_id</th>\n",
       "    </tr>\n",
       "  </thead>\n",
       "  <tbody>\n",
       "    <tr>\n",
       "      <td>0</td>\n",
       "      <td>1000_0</td>\n",
       "      <td>2018-07-25</td>\n",
       "      <td>0.00</td>\n",
       "      <td>1000</td>\n",
       "    </tr>\n",
       "    <tr>\n",
       "      <td>1</td>\n",
       "      <td>1000_1</td>\n",
       "      <td>2018-08-17</td>\n",
       "      <td>0.00</td>\n",
       "      <td>1000</td>\n",
       "    </tr>\n",
       "    <tr>\n",
       "      <td>2</td>\n",
       "      <td>1000_2</td>\n",
       "      <td>2018-06-11</td>\n",
       "      <td>2.85</td>\n",
       "      <td>1000</td>\n",
       "    </tr>\n",
       "    <tr>\n",
       "      <td>3</td>\n",
       "      <td>1000_3</td>\n",
       "      <td>2018-09-21</td>\n",
       "      <td>13.80</td>\n",
       "      <td>1000</td>\n",
       "    </tr>\n",
       "    <tr>\n",
       "      <td>4</td>\n",
       "      <td>1000_4</td>\n",
       "      <td>2018-12-15</td>\n",
       "      <td>5.18</td>\n",
       "      <td>1000</td>\n",
       "    </tr>\n",
       "  </tbody>\n",
       "</table>\n",
       "</div>"
      ],
      "text/plain": [
       "       id   call_date  duration  user_id\n",
       "0  1000_0  2018-07-25      0.00     1000\n",
       "1  1000_1  2018-08-17      0.00     1000\n",
       "2  1000_2  2018-06-11      2.85     1000\n",
       "3  1000_3  2018-09-21     13.80     1000\n",
       "4  1000_4  2018-12-15      5.18     1000"
      ]
     },
     "metadata": {},
     "output_type": "display_data"
    },
    {
     "data": {
      "text/html": [
       "<div>\n",
       "<style scoped>\n",
       "    .dataframe tbody tr th:only-of-type {\n",
       "        vertical-align: middle;\n",
       "    }\n",
       "\n",
       "    .dataframe tbody tr th {\n",
       "        vertical-align: top;\n",
       "    }\n",
       "\n",
       "    .dataframe thead th {\n",
       "        text-align: right;\n",
       "    }\n",
       "</style>\n",
       "<table border=\"1\" class=\"dataframe\">\n",
       "  <thead>\n",
       "    <tr style=\"text-align: right;\">\n",
       "      <th></th>\n",
       "      <th>Unnamed: 0</th>\n",
       "      <th>id</th>\n",
       "      <th>mb_used</th>\n",
       "      <th>session_date</th>\n",
       "      <th>user_id</th>\n",
       "    </tr>\n",
       "  </thead>\n",
       "  <tbody>\n",
       "    <tr>\n",
       "      <td>0</td>\n",
       "      <td>0</td>\n",
       "      <td>1000_0</td>\n",
       "      <td>112.95</td>\n",
       "      <td>2018-11-25</td>\n",
       "      <td>1000</td>\n",
       "    </tr>\n",
       "    <tr>\n",
       "      <td>1</td>\n",
       "      <td>1</td>\n",
       "      <td>1000_1</td>\n",
       "      <td>1052.81</td>\n",
       "      <td>2018-09-07</td>\n",
       "      <td>1000</td>\n",
       "    </tr>\n",
       "    <tr>\n",
       "      <td>2</td>\n",
       "      <td>2</td>\n",
       "      <td>1000_2</td>\n",
       "      <td>1197.26</td>\n",
       "      <td>2018-06-25</td>\n",
       "      <td>1000</td>\n",
       "    </tr>\n",
       "    <tr>\n",
       "      <td>3</td>\n",
       "      <td>3</td>\n",
       "      <td>1000_3</td>\n",
       "      <td>550.27</td>\n",
       "      <td>2018-08-22</td>\n",
       "      <td>1000</td>\n",
       "    </tr>\n",
       "    <tr>\n",
       "      <td>4</td>\n",
       "      <td>4</td>\n",
       "      <td>1000_4</td>\n",
       "      <td>302.56</td>\n",
       "      <td>2018-09-24</td>\n",
       "      <td>1000</td>\n",
       "    </tr>\n",
       "  </tbody>\n",
       "</table>\n",
       "</div>"
      ],
      "text/plain": [
       "   Unnamed: 0      id  mb_used session_date  user_id\n",
       "0           0  1000_0   112.95   2018-11-25     1000\n",
       "1           1  1000_1  1052.81   2018-09-07     1000\n",
       "2           2  1000_2  1197.26   2018-06-25     1000\n",
       "3           3  1000_3   550.27   2018-08-22     1000\n",
       "4           4  1000_4   302.56   2018-09-24     1000"
      ]
     },
     "metadata": {},
     "output_type": "display_data"
    },
    {
     "data": {
      "text/html": [
       "<div>\n",
       "<style scoped>\n",
       "    .dataframe tbody tr th:only-of-type {\n",
       "        vertical-align: middle;\n",
       "    }\n",
       "\n",
       "    .dataframe tbody tr th {\n",
       "        vertical-align: top;\n",
       "    }\n",
       "\n",
       "    .dataframe thead th {\n",
       "        text-align: right;\n",
       "    }\n",
       "</style>\n",
       "<table border=\"1\" class=\"dataframe\">\n",
       "  <thead>\n",
       "    <tr style=\"text-align: right;\">\n",
       "      <th></th>\n",
       "      <th>id</th>\n",
       "      <th>message_date</th>\n",
       "      <th>user_id</th>\n",
       "    </tr>\n",
       "  </thead>\n",
       "  <tbody>\n",
       "    <tr>\n",
       "      <td>0</td>\n",
       "      <td>1000_0</td>\n",
       "      <td>2018-06-27</td>\n",
       "      <td>1000</td>\n",
       "    </tr>\n",
       "    <tr>\n",
       "      <td>1</td>\n",
       "      <td>1000_1</td>\n",
       "      <td>2018-10-08</td>\n",
       "      <td>1000</td>\n",
       "    </tr>\n",
       "    <tr>\n",
       "      <td>2</td>\n",
       "      <td>1000_2</td>\n",
       "      <td>2018-08-04</td>\n",
       "      <td>1000</td>\n",
       "    </tr>\n",
       "    <tr>\n",
       "      <td>3</td>\n",
       "      <td>1000_3</td>\n",
       "      <td>2018-06-16</td>\n",
       "      <td>1000</td>\n",
       "    </tr>\n",
       "    <tr>\n",
       "      <td>4</td>\n",
       "      <td>1000_4</td>\n",
       "      <td>2018-12-05</td>\n",
       "      <td>1000</td>\n",
       "    </tr>\n",
       "  </tbody>\n",
       "</table>\n",
       "</div>"
      ],
      "text/plain": [
       "       id message_date  user_id\n",
       "0  1000_0   2018-06-27     1000\n",
       "1  1000_1   2018-10-08     1000\n",
       "2  1000_2   2018-08-04     1000\n",
       "3  1000_3   2018-06-16     1000\n",
       "4  1000_4   2018-12-05     1000"
      ]
     },
     "metadata": {},
     "output_type": "display_data"
    },
    {
     "data": {
      "text/html": [
       "<div>\n",
       "<style scoped>\n",
       "    .dataframe tbody tr th:only-of-type {\n",
       "        vertical-align: middle;\n",
       "    }\n",
       "\n",
       "    .dataframe tbody tr th {\n",
       "        vertical-align: top;\n",
       "    }\n",
       "\n",
       "    .dataframe thead th {\n",
       "        text-align: right;\n",
       "    }\n",
       "</style>\n",
       "<table border=\"1\" class=\"dataframe\">\n",
       "  <thead>\n",
       "    <tr style=\"text-align: right;\">\n",
       "      <th></th>\n",
       "      <th>messages_included</th>\n",
       "      <th>mb_per_month_included</th>\n",
       "      <th>minutes_included</th>\n",
       "      <th>rub_monthly_fee</th>\n",
       "      <th>rub_per_gb</th>\n",
       "      <th>rub_per_message</th>\n",
       "      <th>rub_per_minute</th>\n",
       "      <th>tariff_name</th>\n",
       "    </tr>\n",
       "  </thead>\n",
       "  <tbody>\n",
       "    <tr>\n",
       "      <td>0</td>\n",
       "      <td>50</td>\n",
       "      <td>15360</td>\n",
       "      <td>500</td>\n",
       "      <td>550</td>\n",
       "      <td>200</td>\n",
       "      <td>3</td>\n",
       "      <td>3</td>\n",
       "      <td>smart</td>\n",
       "    </tr>\n",
       "    <tr>\n",
       "      <td>1</td>\n",
       "      <td>1000</td>\n",
       "      <td>30720</td>\n",
       "      <td>3000</td>\n",
       "      <td>1950</td>\n",
       "      <td>150</td>\n",
       "      <td>1</td>\n",
       "      <td>1</td>\n",
       "      <td>ultra</td>\n",
       "    </tr>\n",
       "  </tbody>\n",
       "</table>\n",
       "</div>"
      ],
      "text/plain": [
       "   messages_included  mb_per_month_included  minutes_included  \\\n",
       "0                 50                  15360               500   \n",
       "1               1000                  30720              3000   \n",
       "\n",
       "   rub_monthly_fee  rub_per_gb  rub_per_message  rub_per_minute tariff_name  \n",
       "0              550         200                3               3       smart  \n",
       "1             1950         150                1               1       ultra  "
      ]
     },
     "metadata": {},
     "output_type": "display_data"
    },
    {
     "data": {
      "text/html": [
       "<div>\n",
       "<style scoped>\n",
       "    .dataframe tbody tr th:only-of-type {\n",
       "        vertical-align: middle;\n",
       "    }\n",
       "\n",
       "    .dataframe tbody tr th {\n",
       "        vertical-align: top;\n",
       "    }\n",
       "\n",
       "    .dataframe thead th {\n",
       "        text-align: right;\n",
       "    }\n",
       "</style>\n",
       "<table border=\"1\" class=\"dataframe\">\n",
       "  <thead>\n",
       "    <tr style=\"text-align: right;\">\n",
       "      <th></th>\n",
       "      <th>user_id</th>\n",
       "      <th>age</th>\n",
       "      <th>churn_date</th>\n",
       "      <th>city</th>\n",
       "      <th>first_name</th>\n",
       "      <th>last_name</th>\n",
       "      <th>reg_date</th>\n",
       "      <th>tariff</th>\n",
       "    </tr>\n",
       "  </thead>\n",
       "  <tbody>\n",
       "    <tr>\n",
       "      <td>0</td>\n",
       "      <td>1000</td>\n",
       "      <td>52</td>\n",
       "      <td>NaN</td>\n",
       "      <td>Краснодар</td>\n",
       "      <td>Рафаил</td>\n",
       "      <td>Верещагин</td>\n",
       "      <td>2018-05-25</td>\n",
       "      <td>ultra</td>\n",
       "    </tr>\n",
       "    <tr>\n",
       "      <td>1</td>\n",
       "      <td>1001</td>\n",
       "      <td>41</td>\n",
       "      <td>NaN</td>\n",
       "      <td>Москва</td>\n",
       "      <td>Иван</td>\n",
       "      <td>Ежов</td>\n",
       "      <td>2018-11-01</td>\n",
       "      <td>smart</td>\n",
       "    </tr>\n",
       "    <tr>\n",
       "      <td>2</td>\n",
       "      <td>1002</td>\n",
       "      <td>59</td>\n",
       "      <td>NaN</td>\n",
       "      <td>Стерлитамак</td>\n",
       "      <td>Евгений</td>\n",
       "      <td>Абрамович</td>\n",
       "      <td>2018-06-17</td>\n",
       "      <td>smart</td>\n",
       "    </tr>\n",
       "    <tr>\n",
       "      <td>3</td>\n",
       "      <td>1003</td>\n",
       "      <td>23</td>\n",
       "      <td>NaN</td>\n",
       "      <td>Москва</td>\n",
       "      <td>Белла</td>\n",
       "      <td>Белякова</td>\n",
       "      <td>2018-08-17</td>\n",
       "      <td>ultra</td>\n",
       "    </tr>\n",
       "    <tr>\n",
       "      <td>4</td>\n",
       "      <td>1004</td>\n",
       "      <td>68</td>\n",
       "      <td>NaN</td>\n",
       "      <td>Новокузнецк</td>\n",
       "      <td>Татьяна</td>\n",
       "      <td>Авдеенко</td>\n",
       "      <td>2018-05-14</td>\n",
       "      <td>ultra</td>\n",
       "    </tr>\n",
       "  </tbody>\n",
       "</table>\n",
       "</div>"
      ],
      "text/plain": [
       "   user_id  age churn_date         city first_name  last_name    reg_date  \\\n",
       "0     1000   52        NaN    Краснодар     Рафаил  Верещагин  2018-05-25   \n",
       "1     1001   41        NaN       Москва       Иван       Ежов  2018-11-01   \n",
       "2     1002   59        NaN  Стерлитамак    Евгений  Абрамович  2018-06-17   \n",
       "3     1003   23        NaN       Москва      Белла   Белякова  2018-08-17   \n",
       "4     1004   68        NaN  Новокузнецк    Татьяна   Авдеенко  2018-05-14   \n",
       "\n",
       "  tariff  \n",
       "0  ultra  \n",
       "1  smart  \n",
       "2  smart  \n",
       "3  ultra  \n",
       "4  ultra  "
      ]
     },
     "metadata": {},
     "output_type": "display_data"
    }
   ],
   "source": [
    "import pandas as pd\n",
    "import math\n",
    "import numpy as np\n",
    "import matplotlib.pyplot as plt\n",
    "import seaborn as sns\n",
    "from scipy import stats as st\n",
    "\n",
    "calls = pd.read_csv('D://Игорь/projects/calls.csv')\n",
    "internet = pd.read_csv('D://Игорь/projects/internet.csv')\n",
    "messages = pd.read_csv('D://Игорь/projects/messages.csv')\n",
    "tariffs = pd.read_csv('D://Игорь/projects/tariffs.csv')\n",
    "users = pd.read_csv('D://Игорь/projects/users.csv')\n",
    "\n",
    "display(calls.head())\n",
    "display(internet.head())\n",
    "display(messages.head())\n",
    "display(tariffs.head())\n",
    "display(users.head())"
   ]
  },
  {
   "cell_type": "code",
   "execution_count": 2,
   "metadata": {
    "scrolled": true
   },
   "outputs": [
    {
     "name": "stdout",
     "output_type": "stream",
     "text": [
      "<class 'pandas.core.frame.DataFrame'>\n",
      "RangeIndex: 202607 entries, 0 to 202606\n",
      "Data columns (total 4 columns):\n",
      "id           202607 non-null object\n",
      "call_date    202607 non-null object\n",
      "duration     202607 non-null float64\n",
      "user_id      202607 non-null int64\n",
      "dtypes: float64(1), int64(1), object(2)\n",
      "memory usage: 6.2+ MB\n"
     ]
    },
    {
     "data": {
      "text/plain": [
       "id           0\n",
       "call_date    0\n",
       "duration     0\n",
       "user_id      0\n",
       "dtype: int64"
      ]
     },
     "execution_count": 2,
     "metadata": {},
     "output_type": "execute_result"
    }
   ],
   "source": [
    "calls.info()\n",
    "calls.isna().sum()"
   ]
  },
  {
   "cell_type": "code",
   "execution_count": 3,
   "metadata": {},
   "outputs": [
    {
     "name": "stdout",
     "output_type": "stream",
     "text": [
      "<class 'pandas.core.frame.DataFrame'>\n",
      "RangeIndex: 149396 entries, 0 to 149395\n",
      "Data columns (total 5 columns):\n",
      "Unnamed: 0      149396 non-null int64\n",
      "id              149396 non-null object\n",
      "mb_used         149396 non-null float64\n",
      "session_date    149396 non-null object\n",
      "user_id         149396 non-null int64\n",
      "dtypes: float64(1), int64(2), object(2)\n",
      "memory usage: 5.7+ MB\n"
     ]
    },
    {
     "data": {
      "text/plain": [
       "Unnamed: 0      0\n",
       "id              0\n",
       "mb_used         0\n",
       "session_date    0\n",
       "user_id         0\n",
       "dtype: int64"
      ]
     },
     "execution_count": 3,
     "metadata": {},
     "output_type": "execute_result"
    }
   ],
   "source": [
    "internet.info()\n",
    "internet.isna().sum()"
   ]
  },
  {
   "cell_type": "code",
   "execution_count": 4,
   "metadata": {},
   "outputs": [
    {
     "name": "stdout",
     "output_type": "stream",
     "text": [
      "<class 'pandas.core.frame.DataFrame'>\n",
      "RangeIndex: 123036 entries, 0 to 123035\n",
      "Data columns (total 3 columns):\n",
      "id              123036 non-null object\n",
      "message_date    123036 non-null object\n",
      "user_id         123036 non-null int64\n",
      "dtypes: int64(1), object(2)\n",
      "memory usage: 2.8+ MB\n"
     ]
    },
    {
     "data": {
      "text/plain": [
       "id              0\n",
       "message_date    0\n",
       "user_id         0\n",
       "dtype: int64"
      ]
     },
     "execution_count": 4,
     "metadata": {},
     "output_type": "execute_result"
    }
   ],
   "source": [
    "messages.info()\n",
    "messages.isna().sum()"
   ]
  },
  {
   "cell_type": "code",
   "execution_count": 5,
   "metadata": {},
   "outputs": [
    {
     "name": "stdout",
     "output_type": "stream",
     "text": [
      "<class 'pandas.core.frame.DataFrame'>\n",
      "RangeIndex: 2 entries, 0 to 1\n",
      "Data columns (total 8 columns):\n",
      "messages_included        2 non-null int64\n",
      "mb_per_month_included    2 non-null int64\n",
      "minutes_included         2 non-null int64\n",
      "rub_monthly_fee          2 non-null int64\n",
      "rub_per_gb               2 non-null int64\n",
      "rub_per_message          2 non-null int64\n",
      "rub_per_minute           2 non-null int64\n",
      "tariff_name              2 non-null object\n",
      "dtypes: int64(7), object(1)\n",
      "memory usage: 256.0+ bytes\n"
     ]
    },
    {
     "data": {
      "text/plain": [
       "messages_included        0\n",
       "mb_per_month_included    0\n",
       "minutes_included         0\n",
       "rub_monthly_fee          0\n",
       "rub_per_gb               0\n",
       "rub_per_message          0\n",
       "rub_per_minute           0\n",
       "tariff_name              0\n",
       "dtype: int64"
      ]
     },
     "execution_count": 5,
     "metadata": {},
     "output_type": "execute_result"
    }
   ],
   "source": [
    "tariffs.info()\n",
    "tariffs.isna().sum()"
   ]
  },
  {
   "cell_type": "code",
   "execution_count": 6,
   "metadata": {
    "scrolled": true
   },
   "outputs": [
    {
     "name": "stdout",
     "output_type": "stream",
     "text": [
      "<class 'pandas.core.frame.DataFrame'>\n",
      "RangeIndex: 500 entries, 0 to 499\n",
      "Data columns (total 8 columns):\n",
      "user_id       500 non-null int64\n",
      "age           500 non-null int64\n",
      "churn_date    38 non-null object\n",
      "city          500 non-null object\n",
      "first_name    500 non-null object\n",
      "last_name     500 non-null object\n",
      "reg_date      500 non-null object\n",
      "tariff        500 non-null object\n",
      "dtypes: int64(2), object(6)\n",
      "memory usage: 31.4+ KB\n"
     ]
    },
    {
     "data": {
      "text/plain": [
       "user_id         0\n",
       "age             0\n",
       "churn_date    462\n",
       "city            0\n",
       "first_name      0\n",
       "last_name       0\n",
       "reg_date        0\n",
       "tariff          0\n",
       "dtype: int64"
      ]
     },
     "execution_count": 6,
     "metadata": {},
     "output_type": "execute_result"
    }
   ],
   "source": [
    "users.info()\n",
    "users.isna().sum()"
   ]
  },
  {
   "cell_type": "markdown",
   "metadata": {},
   "source": [
    " Вот и первый датасет в котором отсутствуют значения. churn_date - дата окончания пользования тарифом. Если это значение отсутствует, логично предположить что пользователь не прекратил пользоваться тарифом\n",
    " "
   ]
  },
  {
   "cell_type": "markdown",
   "metadata": {},
   "source": [
    "## Вывод:"
   ]
  },
  {
   "cell_type": "markdown",
   "metadata": {},
   "source": [
    "У нас имеются 5 датасетов: звонки, интернет, сообщения, трафик и пользователь. \n",
    "Пропущеные значения есть только в датасете трафик, но они не кретичные т.к. они означают что пользователь все еще пользуется данным тарифом"
   ]
  },
  {
   "cell_type": "markdown",
   "metadata": {},
   "source": [
    "#  Подготовка данных"
   ]
  },
  {
   "cell_type": "markdown",
   "metadata": {},
   "source": [
    "## Приведем данные к нужным типам;\n",
    "- Найти и исправить ошибки в данных, если они есть.\n",
    "- Пояснить, какие ошибки нашли и как их исправили. \n",
    "- В данных имеются звонки с нулевой продолжительностью. Это не ошибка: нулями обозначены пропущенные звонки, поэтому их не нужно удалять.\n"
   ]
  },
  {
   "cell_type": "code",
   "execution_count": 7,
   "metadata": {},
   "outputs": [
    {
     "data": {
      "text/html": [
       "<div>\n",
       "<style scoped>\n",
       "    .dataframe tbody tr th:only-of-type {\n",
       "        vertical-align: middle;\n",
       "    }\n",
       "\n",
       "    .dataframe tbody tr th {\n",
       "        vertical-align: top;\n",
       "    }\n",
       "\n",
       "    .dataframe thead th {\n",
       "        text-align: right;\n",
       "    }\n",
       "</style>\n",
       "<table border=\"1\" class=\"dataframe\">\n",
       "  <thead>\n",
       "    <tr style=\"text-align: right;\">\n",
       "      <th></th>\n",
       "      <th>id</th>\n",
       "      <th>call_date</th>\n",
       "      <th>duration</th>\n",
       "      <th>user_id</th>\n",
       "    </tr>\n",
       "  </thead>\n",
       "  <tbody>\n",
       "    <tr>\n",
       "      <td>0</td>\n",
       "      <td>1000_0</td>\n",
       "      <td>2018-07-25</td>\n",
       "      <td>0.00</td>\n",
       "      <td>1000</td>\n",
       "    </tr>\n",
       "    <tr>\n",
       "      <td>1</td>\n",
       "      <td>1000_1</td>\n",
       "      <td>2018-08-17</td>\n",
       "      <td>0.00</td>\n",
       "      <td>1000</td>\n",
       "    </tr>\n",
       "    <tr>\n",
       "      <td>2</td>\n",
       "      <td>1000_2</td>\n",
       "      <td>2018-06-11</td>\n",
       "      <td>2.85</td>\n",
       "      <td>1000</td>\n",
       "    </tr>\n",
       "    <tr>\n",
       "      <td>3</td>\n",
       "      <td>1000_3</td>\n",
       "      <td>2018-09-21</td>\n",
       "      <td>13.80</td>\n",
       "      <td>1000</td>\n",
       "    </tr>\n",
       "    <tr>\n",
       "      <td>4</td>\n",
       "      <td>1000_4</td>\n",
       "      <td>2018-12-15</td>\n",
       "      <td>5.18</td>\n",
       "      <td>1000</td>\n",
       "    </tr>\n",
       "  </tbody>\n",
       "</table>\n",
       "</div>"
      ],
      "text/plain": [
       "       id   call_date  duration  user_id\n",
       "0  1000_0  2018-07-25      0.00     1000\n",
       "1  1000_1  2018-08-17      0.00     1000\n",
       "2  1000_2  2018-06-11      2.85     1000\n",
       "3  1000_3  2018-09-21     13.80     1000\n",
       "4  1000_4  2018-12-15      5.18     1000"
      ]
     },
     "metadata": {},
     "output_type": "display_data"
    },
    {
     "name": "stdout",
     "output_type": "stream",
     "text": [
      "<class 'pandas.core.frame.DataFrame'>\n",
      "RangeIndex: 202607 entries, 0 to 202606\n",
      "Data columns (total 5 columns):\n",
      "id                202607 non-null object\n",
      "call_date         202607 non-null datetime64[ns]\n",
      "duration          202607 non-null float64\n",
      "user_id           202607 non-null int64\n",
      "duration_round    202607 non-null int64\n",
      "dtypes: datetime64[ns](1), float64(1), int64(2), object(1)\n",
      "memory usage: 7.7+ MB\n"
     ]
    },
    {
     "data": {
      "text/html": [
       "<div>\n",
       "<style scoped>\n",
       "    .dataframe tbody tr th:only-of-type {\n",
       "        vertical-align: middle;\n",
       "    }\n",
       "\n",
       "    .dataframe tbody tr th {\n",
       "        vertical-align: top;\n",
       "    }\n",
       "\n",
       "    .dataframe thead th {\n",
       "        text-align: right;\n",
       "    }\n",
       "</style>\n",
       "<table border=\"1\" class=\"dataframe\">\n",
       "  <thead>\n",
       "    <tr style=\"text-align: right;\">\n",
       "      <th></th>\n",
       "      <th>id</th>\n",
       "      <th>call_date</th>\n",
       "      <th>duration</th>\n",
       "      <th>user_id</th>\n",
       "      <th>duration_round</th>\n",
       "    </tr>\n",
       "  </thead>\n",
       "  <tbody>\n",
       "    <tr>\n",
       "      <td>0</td>\n",
       "      <td>1000_0</td>\n",
       "      <td>2018-07-25</td>\n",
       "      <td>0.00</td>\n",
       "      <td>1000</td>\n",
       "      <td>0</td>\n",
       "    </tr>\n",
       "    <tr>\n",
       "      <td>1</td>\n",
       "      <td>1000_1</td>\n",
       "      <td>2018-08-17</td>\n",
       "      <td>0.00</td>\n",
       "      <td>1000</td>\n",
       "      <td>0</td>\n",
       "    </tr>\n",
       "    <tr>\n",
       "      <td>2</td>\n",
       "      <td>1000_2</td>\n",
       "      <td>2018-06-11</td>\n",
       "      <td>2.85</td>\n",
       "      <td>1000</td>\n",
       "      <td>3</td>\n",
       "    </tr>\n",
       "    <tr>\n",
       "      <td>3</td>\n",
       "      <td>1000_3</td>\n",
       "      <td>2018-09-21</td>\n",
       "      <td>13.80</td>\n",
       "      <td>1000</td>\n",
       "      <td>14</td>\n",
       "    </tr>\n",
       "    <tr>\n",
       "      <td>4</td>\n",
       "      <td>1000_4</td>\n",
       "      <td>2018-12-15</td>\n",
       "      <td>5.18</td>\n",
       "      <td>1000</td>\n",
       "      <td>6</td>\n",
       "    </tr>\n",
       "  </tbody>\n",
       "</table>\n",
       "</div>"
      ],
      "text/plain": [
       "       id  call_date  duration  user_id  duration_round\n",
       "0  1000_0 2018-07-25      0.00     1000               0\n",
       "1  1000_1 2018-08-17      0.00     1000               0\n",
       "2  1000_2 2018-06-11      2.85     1000               3\n",
       "3  1000_3 2018-09-21     13.80     1000              14\n",
       "4  1000_4 2018-12-15      5.18     1000               6"
      ]
     },
     "metadata": {},
     "output_type": "display_data"
    }
   ],
   "source": [
    "#Начнем с датасета calls\n",
    "display(calls.head())\n",
    "calls['call_date'] = pd.to_datetime(calls['call_date'], format='%Y.%m.%d')\n",
    "calls['duration_round'] = calls.duration.apply(lambda x: math.ceil(x)) \n",
    "calls.info()\n",
    "display(calls.head())"
   ]
  },
  {
   "cell_type": "code",
   "execution_count": 8,
   "metadata": {},
   "outputs": [
    {
     "data": {
      "text/html": [
       "<div>\n",
       "<style scoped>\n",
       "    .dataframe tbody tr th:only-of-type {\n",
       "        vertical-align: middle;\n",
       "    }\n",
       "\n",
       "    .dataframe tbody tr th {\n",
       "        vertical-align: top;\n",
       "    }\n",
       "\n",
       "    .dataframe thead th {\n",
       "        text-align: right;\n",
       "    }\n",
       "</style>\n",
       "<table border=\"1\" class=\"dataframe\">\n",
       "  <thead>\n",
       "    <tr style=\"text-align: right;\">\n",
       "      <th></th>\n",
       "      <th>Unnamed: 0</th>\n",
       "      <th>id</th>\n",
       "      <th>mb_used</th>\n",
       "      <th>session_date</th>\n",
       "      <th>user_id</th>\n",
       "    </tr>\n",
       "  </thead>\n",
       "  <tbody>\n",
       "    <tr>\n",
       "      <td>0</td>\n",
       "      <td>0</td>\n",
       "      <td>1000_0</td>\n",
       "      <td>112.95</td>\n",
       "      <td>2018-11-25</td>\n",
       "      <td>1000</td>\n",
       "    </tr>\n",
       "    <tr>\n",
       "      <td>1</td>\n",
       "      <td>1</td>\n",
       "      <td>1000_1</td>\n",
       "      <td>1052.81</td>\n",
       "      <td>2018-09-07</td>\n",
       "      <td>1000</td>\n",
       "    </tr>\n",
       "    <tr>\n",
       "      <td>2</td>\n",
       "      <td>2</td>\n",
       "      <td>1000_2</td>\n",
       "      <td>1197.26</td>\n",
       "      <td>2018-06-25</td>\n",
       "      <td>1000</td>\n",
       "    </tr>\n",
       "    <tr>\n",
       "      <td>3</td>\n",
       "      <td>3</td>\n",
       "      <td>1000_3</td>\n",
       "      <td>550.27</td>\n",
       "      <td>2018-08-22</td>\n",
       "      <td>1000</td>\n",
       "    </tr>\n",
       "    <tr>\n",
       "      <td>4</td>\n",
       "      <td>4</td>\n",
       "      <td>1000_4</td>\n",
       "      <td>302.56</td>\n",
       "      <td>2018-09-24</td>\n",
       "      <td>1000</td>\n",
       "    </tr>\n",
       "  </tbody>\n",
       "</table>\n",
       "</div>"
      ],
      "text/plain": [
       "   Unnamed: 0      id  mb_used session_date  user_id\n",
       "0           0  1000_0   112.95   2018-11-25     1000\n",
       "1           1  1000_1  1052.81   2018-09-07     1000\n",
       "2           2  1000_2  1197.26   2018-06-25     1000\n",
       "3           3  1000_3   550.27   2018-08-22     1000\n",
       "4           4  1000_4   302.56   2018-09-24     1000"
      ]
     },
     "metadata": {},
     "output_type": "display_data"
    },
    {
     "name": "stdout",
     "output_type": "stream",
     "text": [
      "<class 'pandas.core.frame.DataFrame'>\n",
      "RangeIndex: 149396 entries, 0 to 149395\n",
      "Data columns (total 4 columns):\n",
      "id              149396 non-null object\n",
      "mb_used         149396 non-null float64\n",
      "session_date    149396 non-null datetime64[ns]\n",
      "user_id         149396 non-null int64\n",
      "dtypes: datetime64[ns](1), float64(1), int64(1), object(1)\n",
      "memory usage: 4.6+ MB\n"
     ]
    }
   ],
   "source": [
    "#далее с датасетом internet\n",
    "display(internet.head())\n",
    "internet['session_date'] = pd.to_datetime(internet['session_date'], format='%Y.%m.%d')\n",
    "internet = internet.drop('Unnamed: 0', axis = 1)\n",
    "internet.info()"
   ]
  },
  {
   "cell_type": "code",
   "execution_count": 9,
   "metadata": {},
   "outputs": [
    {
     "data": {
      "text/html": [
       "<div>\n",
       "<style scoped>\n",
       "    .dataframe tbody tr th:only-of-type {\n",
       "        vertical-align: middle;\n",
       "    }\n",
       "\n",
       "    .dataframe tbody tr th {\n",
       "        vertical-align: top;\n",
       "    }\n",
       "\n",
       "    .dataframe thead th {\n",
       "        text-align: right;\n",
       "    }\n",
       "</style>\n",
       "<table border=\"1\" class=\"dataframe\">\n",
       "  <thead>\n",
       "    <tr style=\"text-align: right;\">\n",
       "      <th></th>\n",
       "      <th>id</th>\n",
       "      <th>message_date</th>\n",
       "      <th>user_id</th>\n",
       "    </tr>\n",
       "  </thead>\n",
       "  <tbody>\n",
       "    <tr>\n",
       "      <td>0</td>\n",
       "      <td>1000_0</td>\n",
       "      <td>2018-06-27</td>\n",
       "      <td>1000</td>\n",
       "    </tr>\n",
       "    <tr>\n",
       "      <td>1</td>\n",
       "      <td>1000_1</td>\n",
       "      <td>2018-10-08</td>\n",
       "      <td>1000</td>\n",
       "    </tr>\n",
       "    <tr>\n",
       "      <td>2</td>\n",
       "      <td>1000_2</td>\n",
       "      <td>2018-08-04</td>\n",
       "      <td>1000</td>\n",
       "    </tr>\n",
       "    <tr>\n",
       "      <td>3</td>\n",
       "      <td>1000_3</td>\n",
       "      <td>2018-06-16</td>\n",
       "      <td>1000</td>\n",
       "    </tr>\n",
       "    <tr>\n",
       "      <td>4</td>\n",
       "      <td>1000_4</td>\n",
       "      <td>2018-12-05</td>\n",
       "      <td>1000</td>\n",
       "    </tr>\n",
       "  </tbody>\n",
       "</table>\n",
       "</div>"
      ],
      "text/plain": [
       "       id message_date  user_id\n",
       "0  1000_0   2018-06-27     1000\n",
       "1  1000_1   2018-10-08     1000\n",
       "2  1000_2   2018-08-04     1000\n",
       "3  1000_3   2018-06-16     1000\n",
       "4  1000_4   2018-12-05     1000"
      ]
     },
     "metadata": {},
     "output_type": "display_data"
    },
    {
     "name": "stdout",
     "output_type": "stream",
     "text": [
      "<class 'pandas.core.frame.DataFrame'>\n",
      "RangeIndex: 123036 entries, 0 to 123035\n",
      "Data columns (total 3 columns):\n",
      "id              123036 non-null object\n",
      "message_date    123036 non-null datetime64[ns]\n",
      "user_id         123036 non-null int64\n",
      "dtypes: datetime64[ns](1), int64(1), object(1)\n",
      "memory usage: 2.8+ MB\n"
     ]
    }
   ],
   "source": [
    "# далее с датасетом messages\n",
    "display(messages.head())\n",
    "messages['message_date'] = pd.to_datetime(messages['message_date'], format='%Y.%m.%d')\n",
    "messages.info()"
   ]
  },
  {
   "cell_type": "code",
   "execution_count": 10,
   "metadata": {},
   "outputs": [
    {
     "data": {
      "text/html": [
       "<div>\n",
       "<style scoped>\n",
       "    .dataframe tbody tr th:only-of-type {\n",
       "        vertical-align: middle;\n",
       "    }\n",
       "\n",
       "    .dataframe tbody tr th {\n",
       "        vertical-align: top;\n",
       "    }\n",
       "\n",
       "    .dataframe thead th {\n",
       "        text-align: right;\n",
       "    }\n",
       "</style>\n",
       "<table border=\"1\" class=\"dataframe\">\n",
       "  <thead>\n",
       "    <tr style=\"text-align: right;\">\n",
       "      <th></th>\n",
       "      <th>user_id</th>\n",
       "      <th>age</th>\n",
       "      <th>churn_date</th>\n",
       "      <th>city</th>\n",
       "      <th>first_name</th>\n",
       "      <th>last_name</th>\n",
       "      <th>reg_date</th>\n",
       "      <th>tariff</th>\n",
       "    </tr>\n",
       "  </thead>\n",
       "  <tbody>\n",
       "    <tr>\n",
       "      <td>0</td>\n",
       "      <td>1000</td>\n",
       "      <td>52</td>\n",
       "      <td>NaN</td>\n",
       "      <td>Краснодар</td>\n",
       "      <td>Рафаил</td>\n",
       "      <td>Верещагин</td>\n",
       "      <td>2018-05-25</td>\n",
       "      <td>ultra</td>\n",
       "    </tr>\n",
       "    <tr>\n",
       "      <td>1</td>\n",
       "      <td>1001</td>\n",
       "      <td>41</td>\n",
       "      <td>NaN</td>\n",
       "      <td>Москва</td>\n",
       "      <td>Иван</td>\n",
       "      <td>Ежов</td>\n",
       "      <td>2018-11-01</td>\n",
       "      <td>smart</td>\n",
       "    </tr>\n",
       "    <tr>\n",
       "      <td>2</td>\n",
       "      <td>1002</td>\n",
       "      <td>59</td>\n",
       "      <td>NaN</td>\n",
       "      <td>Стерлитамак</td>\n",
       "      <td>Евгений</td>\n",
       "      <td>Абрамович</td>\n",
       "      <td>2018-06-17</td>\n",
       "      <td>smart</td>\n",
       "    </tr>\n",
       "    <tr>\n",
       "      <td>3</td>\n",
       "      <td>1003</td>\n",
       "      <td>23</td>\n",
       "      <td>NaN</td>\n",
       "      <td>Москва</td>\n",
       "      <td>Белла</td>\n",
       "      <td>Белякова</td>\n",
       "      <td>2018-08-17</td>\n",
       "      <td>ultra</td>\n",
       "    </tr>\n",
       "    <tr>\n",
       "      <td>4</td>\n",
       "      <td>1004</td>\n",
       "      <td>68</td>\n",
       "      <td>NaN</td>\n",
       "      <td>Новокузнецк</td>\n",
       "      <td>Татьяна</td>\n",
       "      <td>Авдеенко</td>\n",
       "      <td>2018-05-14</td>\n",
       "      <td>ultra</td>\n",
       "    </tr>\n",
       "  </tbody>\n",
       "</table>\n",
       "</div>"
      ],
      "text/plain": [
       "   user_id  age churn_date         city first_name  last_name    reg_date  \\\n",
       "0     1000   52        NaN    Краснодар     Рафаил  Верещагин  2018-05-25   \n",
       "1     1001   41        NaN       Москва       Иван       Ежов  2018-11-01   \n",
       "2     1002   59        NaN  Стерлитамак    Евгений  Абрамович  2018-06-17   \n",
       "3     1003   23        NaN       Москва      Белла   Белякова  2018-08-17   \n",
       "4     1004   68        NaN  Новокузнецк    Татьяна   Авдеенко  2018-05-14   \n",
       "\n",
       "  tariff  \n",
       "0  ultra  \n",
       "1  smart  \n",
       "2  smart  \n",
       "3  ultra  \n",
       "4  ultra  "
      ]
     },
     "metadata": {},
     "output_type": "display_data"
    },
    {
     "name": "stdout",
     "output_type": "stream",
     "text": [
      "<class 'pandas.core.frame.DataFrame'>\n",
      "RangeIndex: 500 entries, 0 to 499\n",
      "Data columns (total 8 columns):\n",
      "user_id       500 non-null int64\n",
      "age           500 non-null int64\n",
      "churn_date    38 non-null object\n",
      "city          500 non-null object\n",
      "first_name    500 non-null object\n",
      "last_name     500 non-null object\n",
      "reg_date      500 non-null datetime64[ns]\n",
      "tariff        500 non-null object\n",
      "dtypes: datetime64[ns](1), int64(2), object(5)\n",
      "memory usage: 31.4+ KB\n"
     ]
    }
   ],
   "source": [
    "display(users.head())\n",
    "users['reg_date'] = pd.to_datetime(users['reg_date'], format='%Y.%m.%d')\n",
    "users.info()"
   ]
  },
  {
   "cell_type": "code",
   "execution_count": 11,
   "metadata": {},
   "outputs": [
    {
     "data": {
      "text/html": [
       "<div>\n",
       "<style scoped>\n",
       "    .dataframe tbody tr th:only-of-type {\n",
       "        vertical-align: middle;\n",
       "    }\n",
       "\n",
       "    .dataframe tbody tr th {\n",
       "        vertical-align: top;\n",
       "    }\n",
       "\n",
       "    .dataframe thead th {\n",
       "        text-align: right;\n",
       "    }\n",
       "</style>\n",
       "<table border=\"1\" class=\"dataframe\">\n",
       "  <thead>\n",
       "    <tr style=\"text-align: right;\">\n",
       "      <th></th>\n",
       "      <th>messages_included</th>\n",
       "      <th>mb_per_month_included</th>\n",
       "      <th>minutes_included</th>\n",
       "      <th>rub_monthly_fee</th>\n",
       "      <th>rub_per_gb</th>\n",
       "      <th>rub_per_message</th>\n",
       "      <th>rub_per_minute</th>\n",
       "      <th>tariff_name</th>\n",
       "    </tr>\n",
       "  </thead>\n",
       "  <tbody>\n",
       "    <tr>\n",
       "      <td>0</td>\n",
       "      <td>50</td>\n",
       "      <td>15360</td>\n",
       "      <td>500</td>\n",
       "      <td>550</td>\n",
       "      <td>200</td>\n",
       "      <td>3</td>\n",
       "      <td>3</td>\n",
       "      <td>smart</td>\n",
       "    </tr>\n",
       "    <tr>\n",
       "      <td>1</td>\n",
       "      <td>1000</td>\n",
       "      <td>30720</td>\n",
       "      <td>3000</td>\n",
       "      <td>1950</td>\n",
       "      <td>150</td>\n",
       "      <td>1</td>\n",
       "      <td>1</td>\n",
       "      <td>ultra</td>\n",
       "    </tr>\n",
       "  </tbody>\n",
       "</table>\n",
       "</div>"
      ],
      "text/plain": [
       "   messages_included  mb_per_month_included  minutes_included  \\\n",
       "0                 50                  15360               500   \n",
       "1               1000                  30720              3000   \n",
       "\n",
       "   rub_monthly_fee  rub_per_gb  rub_per_message  rub_per_minute tariff_name  \n",
       "0              550         200                3               3       smart  \n",
       "1             1950         150                1               1       ultra  "
      ]
     },
     "metadata": {},
     "output_type": "display_data"
    },
    {
     "name": "stdout",
     "output_type": "stream",
     "text": [
      "<class 'pandas.core.frame.DataFrame'>\n",
      "RangeIndex: 2 entries, 0 to 1\n",
      "Data columns (total 9 columns):\n",
      "messages_included        2 non-null int64\n",
      "mb_per_month_included    2 non-null int64\n",
      "minutes_included         2 non-null int64\n",
      "rub_monthly_fee          2 non-null int64\n",
      "rub_per_gb               2 non-null int64\n",
      "rub_per_message          2 non-null int64\n",
      "rub_per_minute           2 non-null int64\n",
      "tariff_name              2 non-null object\n",
      "gb_per_month_included    2 non-null int64\n",
      "dtypes: int64(8), object(1)\n",
      "memory usage: 272.0+ bytes\n"
     ]
    }
   ],
   "source": [
    "display(tariffs.head())\n",
    "tariffs['gb_per_month_included'] = tariffs.mb_per_month_included/1024\n",
    "tariffs['gb_per_month_included'] = tariffs['gb_per_month_included'].astype(int)\n",
    "tariffs.info()"
   ]
  },
  {
   "cell_type": "markdown",
   "metadata": {},
   "source": [
    "### Вывод:"
   ]
  },
  {
   "cell_type": "markdown",
   "metadata": {},
   "source": [
    "Заменили тип данных на \"дата/время\" во всех датасетах.\n",
    "В тарифах создали колонку \"гигабайты в месяц\"\n",
    "В датасете \"интернет\" убрали бесполезный столбец \"Unnamed: 0\""
   ]
  },
  {
   "cell_type": "markdown",
   "metadata": {},
   "source": [
    "# Подготовка данных"
   ]
  },
  {
   "cell_type": "code",
   "execution_count": 12,
   "metadata": {},
   "outputs": [],
   "source": [
    "# нам необходимо создать разделение по месяцам\n",
    "name_month = ['Январь','Февраль','Март','Апрель','Май','Июнь','Июль','Август','Сентябрь','Октябрь','Ноябрь','Декабрь']\n",
    "dict_month = {key:value for key, value in zip(range(1,13),name_month)}\n",
    "def add_month(df):\n",
    "    for col in df.columns:\n",
    "        if df[col].dtype == '<M8[ns]':\n",
    "            df['month_num'] = pd.DatetimeIndex(df[col]).month\n",
    "            df['month'] = df.month_num.map(dict_month)\n",
    "    return df"
   ]
  },
  {
   "cell_type": "code",
   "execution_count": 13,
   "metadata": {},
   "outputs": [
    {
     "data": {
      "text/html": [
       "<div>\n",
       "<style scoped>\n",
       "    .dataframe tbody tr th:only-of-type {\n",
       "        vertical-align: middle;\n",
       "    }\n",
       "\n",
       "    .dataframe tbody tr th {\n",
       "        vertical-align: top;\n",
       "    }\n",
       "\n",
       "    .dataframe thead th {\n",
       "        text-align: right;\n",
       "    }\n",
       "</style>\n",
       "<table border=\"1\" class=\"dataframe\">\n",
       "  <thead>\n",
       "    <tr style=\"text-align: right;\">\n",
       "      <th></th>\n",
       "      <th>id</th>\n",
       "      <th>call_date</th>\n",
       "      <th>duration</th>\n",
       "      <th>user_id</th>\n",
       "      <th>duration_round</th>\n",
       "      <th>month_num</th>\n",
       "      <th>month</th>\n",
       "    </tr>\n",
       "  </thead>\n",
       "  <tbody>\n",
       "    <tr>\n",
       "      <td>0</td>\n",
       "      <td>1000_0</td>\n",
       "      <td>2018-07-25</td>\n",
       "      <td>0.00</td>\n",
       "      <td>1000</td>\n",
       "      <td>0</td>\n",
       "      <td>7</td>\n",
       "      <td>Июль</td>\n",
       "    </tr>\n",
       "    <tr>\n",
       "      <td>1</td>\n",
       "      <td>1000_1</td>\n",
       "      <td>2018-08-17</td>\n",
       "      <td>0.00</td>\n",
       "      <td>1000</td>\n",
       "      <td>0</td>\n",
       "      <td>8</td>\n",
       "      <td>Август</td>\n",
       "    </tr>\n",
       "    <tr>\n",
       "      <td>2</td>\n",
       "      <td>1000_2</td>\n",
       "      <td>2018-06-11</td>\n",
       "      <td>2.85</td>\n",
       "      <td>1000</td>\n",
       "      <td>3</td>\n",
       "      <td>6</td>\n",
       "      <td>Июнь</td>\n",
       "    </tr>\n",
       "    <tr>\n",
       "      <td>3</td>\n",
       "      <td>1000_3</td>\n",
       "      <td>2018-09-21</td>\n",
       "      <td>13.80</td>\n",
       "      <td>1000</td>\n",
       "      <td>14</td>\n",
       "      <td>9</td>\n",
       "      <td>Сентябрь</td>\n",
       "    </tr>\n",
       "    <tr>\n",
       "      <td>4</td>\n",
       "      <td>1000_4</td>\n",
       "      <td>2018-12-15</td>\n",
       "      <td>5.18</td>\n",
       "      <td>1000</td>\n",
       "      <td>6</td>\n",
       "      <td>12</td>\n",
       "      <td>Декабрь</td>\n",
       "    </tr>\n",
       "  </tbody>\n",
       "</table>\n",
       "</div>"
      ],
      "text/plain": [
       "       id  call_date  duration  user_id  duration_round  month_num     month\n",
       "0  1000_0 2018-07-25      0.00     1000               0          7      Июль\n",
       "1  1000_1 2018-08-17      0.00     1000               0          8    Август\n",
       "2  1000_2 2018-06-11      2.85     1000               3          6      Июнь\n",
       "3  1000_3 2018-09-21     13.80     1000              14          9  Сентябрь\n",
       "4  1000_4 2018-12-15      5.18     1000               6         12   Декабрь"
      ]
     },
     "metadata": {},
     "output_type": "display_data"
    }
   ],
   "source": [
    "calls = add_month(calls)\n",
    "display(calls.head())"
   ]
  },
  {
   "cell_type": "code",
   "execution_count": 14,
   "metadata": {},
   "outputs": [
    {
     "data": {
      "text/html": [
       "<div>\n",
       "<style scoped>\n",
       "    .dataframe tbody tr th:only-of-type {\n",
       "        vertical-align: middle;\n",
       "    }\n",
       "\n",
       "    .dataframe tbody tr th {\n",
       "        vertical-align: top;\n",
       "    }\n",
       "\n",
       "    .dataframe thead th {\n",
       "        text-align: right;\n",
       "    }\n",
       "</style>\n",
       "<table border=\"1\" class=\"dataframe\">\n",
       "  <thead>\n",
       "    <tr style=\"text-align: right;\">\n",
       "      <th></th>\n",
       "      <th>id</th>\n",
       "      <th>message_date</th>\n",
       "      <th>user_id</th>\n",
       "      <th>month_num</th>\n",
       "      <th>month</th>\n",
       "    </tr>\n",
       "  </thead>\n",
       "  <tbody>\n",
       "    <tr>\n",
       "      <td>0</td>\n",
       "      <td>1000_0</td>\n",
       "      <td>2018-06-27</td>\n",
       "      <td>1000</td>\n",
       "      <td>6</td>\n",
       "      <td>Июнь</td>\n",
       "    </tr>\n",
       "    <tr>\n",
       "      <td>1</td>\n",
       "      <td>1000_1</td>\n",
       "      <td>2018-10-08</td>\n",
       "      <td>1000</td>\n",
       "      <td>10</td>\n",
       "      <td>Октябрь</td>\n",
       "    </tr>\n",
       "    <tr>\n",
       "      <td>2</td>\n",
       "      <td>1000_2</td>\n",
       "      <td>2018-08-04</td>\n",
       "      <td>1000</td>\n",
       "      <td>8</td>\n",
       "      <td>Август</td>\n",
       "    </tr>\n",
       "    <tr>\n",
       "      <td>3</td>\n",
       "      <td>1000_3</td>\n",
       "      <td>2018-06-16</td>\n",
       "      <td>1000</td>\n",
       "      <td>6</td>\n",
       "      <td>Июнь</td>\n",
       "    </tr>\n",
       "    <tr>\n",
       "      <td>4</td>\n",
       "      <td>1000_4</td>\n",
       "      <td>2018-12-05</td>\n",
       "      <td>1000</td>\n",
       "      <td>12</td>\n",
       "      <td>Декабрь</td>\n",
       "    </tr>\n",
       "  </tbody>\n",
       "</table>\n",
       "</div>"
      ],
      "text/plain": [
       "       id message_date  user_id  month_num    month\n",
       "0  1000_0   2018-06-27     1000          6     Июнь\n",
       "1  1000_1   2018-10-08     1000         10  Октябрь\n",
       "2  1000_2   2018-08-04     1000          8   Август\n",
       "3  1000_3   2018-06-16     1000          6     Июнь\n",
       "4  1000_4   2018-12-05     1000         12  Декабрь"
      ]
     },
     "metadata": {},
     "output_type": "display_data"
    }
   ],
   "source": [
    "messages = add_month(messages)\n",
    "display(messages.head())"
   ]
  },
  {
   "cell_type": "code",
   "execution_count": 15,
   "metadata": {},
   "outputs": [
    {
     "data": {
      "text/html": [
       "<div>\n",
       "<style scoped>\n",
       "    .dataframe tbody tr th:only-of-type {\n",
       "        vertical-align: middle;\n",
       "    }\n",
       "\n",
       "    .dataframe tbody tr th {\n",
       "        vertical-align: top;\n",
       "    }\n",
       "\n",
       "    .dataframe thead th {\n",
       "        text-align: right;\n",
       "    }\n",
       "</style>\n",
       "<table border=\"1\" class=\"dataframe\">\n",
       "  <thead>\n",
       "    <tr style=\"text-align: right;\">\n",
       "      <th></th>\n",
       "      <th>id</th>\n",
       "      <th>mb_used</th>\n",
       "      <th>session_date</th>\n",
       "      <th>user_id</th>\n",
       "      <th>month_num</th>\n",
       "      <th>month</th>\n",
       "    </tr>\n",
       "  </thead>\n",
       "  <tbody>\n",
       "    <tr>\n",
       "      <td>0</td>\n",
       "      <td>1000_0</td>\n",
       "      <td>112.95</td>\n",
       "      <td>2018-11-25</td>\n",
       "      <td>1000</td>\n",
       "      <td>11</td>\n",
       "      <td>Ноябрь</td>\n",
       "    </tr>\n",
       "    <tr>\n",
       "      <td>1</td>\n",
       "      <td>1000_1</td>\n",
       "      <td>1052.81</td>\n",
       "      <td>2018-09-07</td>\n",
       "      <td>1000</td>\n",
       "      <td>9</td>\n",
       "      <td>Сентябрь</td>\n",
       "    </tr>\n",
       "    <tr>\n",
       "      <td>2</td>\n",
       "      <td>1000_2</td>\n",
       "      <td>1197.26</td>\n",
       "      <td>2018-06-25</td>\n",
       "      <td>1000</td>\n",
       "      <td>6</td>\n",
       "      <td>Июнь</td>\n",
       "    </tr>\n",
       "    <tr>\n",
       "      <td>3</td>\n",
       "      <td>1000_3</td>\n",
       "      <td>550.27</td>\n",
       "      <td>2018-08-22</td>\n",
       "      <td>1000</td>\n",
       "      <td>8</td>\n",
       "      <td>Август</td>\n",
       "    </tr>\n",
       "    <tr>\n",
       "      <td>4</td>\n",
       "      <td>1000_4</td>\n",
       "      <td>302.56</td>\n",
       "      <td>2018-09-24</td>\n",
       "      <td>1000</td>\n",
       "      <td>9</td>\n",
       "      <td>Сентябрь</td>\n",
       "    </tr>\n",
       "  </tbody>\n",
       "</table>\n",
       "</div>"
      ],
      "text/plain": [
       "       id  mb_used session_date  user_id  month_num     month\n",
       "0  1000_0   112.95   2018-11-25     1000         11    Ноябрь\n",
       "1  1000_1  1052.81   2018-09-07     1000          9  Сентябрь\n",
       "2  1000_2  1197.26   2018-06-25     1000          6      Июнь\n",
       "3  1000_3   550.27   2018-08-22     1000          8    Август\n",
       "4  1000_4   302.56   2018-09-24     1000          9  Сентябрь"
      ]
     },
     "metadata": {},
     "output_type": "display_data"
    }
   ],
   "source": [
    "internet = add_month(internet)\n",
    "display(internet.head())"
   ]
  },
  {
   "cell_type": "markdown",
   "metadata": {},
   "source": [
    "Создали столбец с привязкой по месяцам для дальнейшего анализа"
   ]
  },
  {
   "cell_type": "markdown",
   "metadata": {},
   "source": [
    "Посчитайте для каждого пользователя:\n",
    "количество сделанных звонков и израсходованных минут разговора по месяцам;\n",
    "количество отправленных сообщений по месяцам;\n",
    "объем израсходованного интернет-трафика по месяцам;\n"
   ]
  },
  {
   "cell_type": "code",
   "execution_count": 16,
   "metadata": {
    "scrolled": true
   },
   "outputs": [
    {
     "data": {
      "text/html": [
       "<div>\n",
       "<style scoped>\n",
       "    .dataframe tbody tr th:only-of-type {\n",
       "        vertical-align: middle;\n",
       "    }\n",
       "\n",
       "    .dataframe tbody tr th {\n",
       "        vertical-align: top;\n",
       "    }\n",
       "\n",
       "    .dataframe thead th {\n",
       "        text-align: right;\n",
       "    }\n",
       "</style>\n",
       "<table border=\"1\" class=\"dataframe\">\n",
       "  <thead>\n",
       "    <tr style=\"text-align: right;\">\n",
       "      <th></th>\n",
       "      <th>user_id</th>\n",
       "      <th>month</th>\n",
       "      <th>calls_count</th>\n",
       "      <th>calls_minutes</th>\n",
       "      <th>messages_count</th>\n",
       "      <th>internet_vol</th>\n",
       "      <th>internet_volgb</th>\n",
       "      <th>city</th>\n",
       "      <th>tariff</th>\n",
       "      <th>messages_included</th>\n",
       "      <th>mb_per_month_included</th>\n",
       "      <th>minutes_included</th>\n",
       "      <th>rub_monthly_fee</th>\n",
       "      <th>rub_per_gb</th>\n",
       "      <th>rub_per_message</th>\n",
       "      <th>rub_per_minute</th>\n",
       "      <th>tariff_name</th>\n",
       "      <th>gb_per_month_included</th>\n",
       "    </tr>\n",
       "  </thead>\n",
       "  <tbody>\n",
       "    <tr>\n",
       "      <td>0</td>\n",
       "      <td>1000</td>\n",
       "      <td>Август</td>\n",
       "      <td>52.0</td>\n",
       "      <td>408.0</td>\n",
       "      <td>81.0</td>\n",
       "      <td>14055.93</td>\n",
       "      <td>14.0</td>\n",
       "      <td>Краснодар</td>\n",
       "      <td>ultra</td>\n",
       "      <td>1000</td>\n",
       "      <td>30720</td>\n",
       "      <td>3000</td>\n",
       "      <td>1950</td>\n",
       "      <td>150</td>\n",
       "      <td>1</td>\n",
       "      <td>1</td>\n",
       "      <td>ultra</td>\n",
       "      <td>30</td>\n",
       "    </tr>\n",
       "    <tr>\n",
       "      <td>1</td>\n",
       "      <td>1000</td>\n",
       "      <td>Декабрь</td>\n",
       "      <td>46.0</td>\n",
       "      <td>333.0</td>\n",
       "      <td>70.0</td>\n",
       "      <td>9817.61</td>\n",
       "      <td>10.0</td>\n",
       "      <td>Краснодар</td>\n",
       "      <td>ultra</td>\n",
       "      <td>1000</td>\n",
       "      <td>30720</td>\n",
       "      <td>3000</td>\n",
       "      <td>1950</td>\n",
       "      <td>150</td>\n",
       "      <td>1</td>\n",
       "      <td>1</td>\n",
       "      <td>ultra</td>\n",
       "      <td>30</td>\n",
       "    </tr>\n",
       "    <tr>\n",
       "      <td>2</td>\n",
       "      <td>1000</td>\n",
       "      <td>Июль</td>\n",
       "      <td>47.0</td>\n",
       "      <td>340.0</td>\n",
       "      <td>75.0</td>\n",
       "      <td>14003.64</td>\n",
       "      <td>14.0</td>\n",
       "      <td>Краснодар</td>\n",
       "      <td>ultra</td>\n",
       "      <td>1000</td>\n",
       "      <td>30720</td>\n",
       "      <td>3000</td>\n",
       "      <td>1950</td>\n",
       "      <td>150</td>\n",
       "      <td>1</td>\n",
       "      <td>1</td>\n",
       "      <td>ultra</td>\n",
       "      <td>30</td>\n",
       "    </tr>\n",
       "    <tr>\n",
       "      <td>3</td>\n",
       "      <td>1000</td>\n",
       "      <td>Июнь</td>\n",
       "      <td>43.0</td>\n",
       "      <td>172.0</td>\n",
       "      <td>60.0</td>\n",
       "      <td>23233.77</td>\n",
       "      <td>23.0</td>\n",
       "      <td>Краснодар</td>\n",
       "      <td>ultra</td>\n",
       "      <td>1000</td>\n",
       "      <td>30720</td>\n",
       "      <td>3000</td>\n",
       "      <td>1950</td>\n",
       "      <td>150</td>\n",
       "      <td>1</td>\n",
       "      <td>1</td>\n",
       "      <td>ultra</td>\n",
       "      <td>30</td>\n",
       "    </tr>\n",
       "    <tr>\n",
       "      <td>4</td>\n",
       "      <td>1000</td>\n",
       "      <td>Май</td>\n",
       "      <td>22.0</td>\n",
       "      <td>159.0</td>\n",
       "      <td>22.0</td>\n",
       "      <td>2253.49</td>\n",
       "      <td>3.0</td>\n",
       "      <td>Краснодар</td>\n",
       "      <td>ultra</td>\n",
       "      <td>1000</td>\n",
       "      <td>30720</td>\n",
       "      <td>3000</td>\n",
       "      <td>1950</td>\n",
       "      <td>150</td>\n",
       "      <td>1</td>\n",
       "      <td>1</td>\n",
       "      <td>ultra</td>\n",
       "      <td>30</td>\n",
       "    </tr>\n",
       "  </tbody>\n",
       "</table>\n",
       "</div>"
      ],
      "text/plain": [
       "   user_id    month  calls_count  calls_minutes  messages_count  internet_vol  \\\n",
       "0     1000   Август         52.0          408.0            81.0      14055.93   \n",
       "1     1000  Декабрь         46.0          333.0            70.0       9817.61   \n",
       "2     1000     Июль         47.0          340.0            75.0      14003.64   \n",
       "3     1000     Июнь         43.0          172.0            60.0      23233.77   \n",
       "4     1000      Май         22.0          159.0            22.0       2253.49   \n",
       "\n",
       "   internet_volgb       city tariff  messages_included  mb_per_month_included  \\\n",
       "0            14.0  Краснодар  ultra               1000                  30720   \n",
       "1            10.0  Краснодар  ultra               1000                  30720   \n",
       "2            14.0  Краснодар  ultra               1000                  30720   \n",
       "3            23.0  Краснодар  ultra               1000                  30720   \n",
       "4             3.0  Краснодар  ultra               1000                  30720   \n",
       "\n",
       "   minutes_included  rub_monthly_fee  rub_per_gb  rub_per_message  \\\n",
       "0              3000             1950         150                1   \n",
       "1              3000             1950         150                1   \n",
       "2              3000             1950         150                1   \n",
       "3              3000             1950         150                1   \n",
       "4              3000             1950         150                1   \n",
       "\n",
       "   rub_per_minute tariff_name  gb_per_month_included  \n",
       "0               1       ultra                     30  \n",
       "1               1       ultra                     30  \n",
       "2               1       ultra                     30  \n",
       "3               1       ultra                     30  \n",
       "4               1       ultra                     30  "
      ]
     },
     "execution_count": 16,
     "metadata": {},
     "output_type": "execute_result"
    }
   ],
   "source": [
    "calls_month = calls.groupby(['user_id','month']).agg({'id':'count', 'duration_round':'sum'}).reset_index()\n",
    "calls_month.columns = ['user_id','month','calls_count','calls_minutes']\n",
    "\n",
    "messages_month = messages.groupby(['user_id','month']).id.count().reset_index()\n",
    "messages_month.columns = ['user_id','month','messages_count']\n",
    "\n",
    "internet_month = internet.groupby(['user_id','month']).mb_used.sum().reset_index()\n",
    "internet_month.columns = ['user_id','month','internet_vol']\n",
    "internet_month['internet_volgb'] = internet_month.internet_vol.apply(lambda x:math.ceil(x/1024))\n",
    "\n",
    "all_month = calls_month.merge(messages_month, on = ['user_id','month'], how='outer').merge(internet_month, on = ['user_id','month'],how='outer')\n",
    "all_month = all_month.fillna(0)\n",
    "all_month = all_month.merge(users[['user_id','city','tariff']], on = ['user_id'], how='left')\n",
    "\n",
    "all_month = all_month.merge(tariffs, left_on = ['tariff'], right_on = ['tariff_name'])\n",
    "all_month.head()"
   ]
  },
  {
   "cell_type": "markdown",
   "metadata": {},
   "source": [
    "Посчитаем помесячную выручку с каждого пользователя (вычтите бесплатный лимит из суммарного количества звонков, сообщений и интернет-трафика; остаток умножьте на значение из тарифного плана; прибавьте абонентскую плату, соответствующую тарифному плану)."
   ]
  },
  {
   "cell_type": "code",
   "execution_count": 17,
   "metadata": {},
   "outputs": [],
   "source": [
    "def revenue(row):\n",
    "    minutes_tax = max(row.calls_minutes-row.minutes_included,0)*row.rub_per_minute\n",
    "    messages_tax = max(row.messages_count-row.messages_included,0)*row.rub_per_message\n",
    "    internet_tax = max(row.internet_volgb-row.gb_per_month_included,0)*row.rub_per_gb\n",
    "    return row.rub_monthly_fee + minutes_tax + messages_tax + internet_tax"
   ]
  },
  {
   "cell_type": "code",
   "execution_count": 18,
   "metadata": {},
   "outputs": [
    {
     "data": {
      "text/html": [
       "<div>\n",
       "<style scoped>\n",
       "    .dataframe tbody tr th:only-of-type {\n",
       "        vertical-align: middle;\n",
       "    }\n",
       "\n",
       "    .dataframe tbody tr th {\n",
       "        vertical-align: top;\n",
       "    }\n",
       "\n",
       "    .dataframe thead th {\n",
       "        text-align: right;\n",
       "    }\n",
       "</style>\n",
       "<table border=\"1\" class=\"dataframe\">\n",
       "  <thead>\n",
       "    <tr style=\"text-align: right;\">\n",
       "      <th></th>\n",
       "      <th>user_id</th>\n",
       "      <th>city</th>\n",
       "      <th>month</th>\n",
       "      <th>calls_minutes</th>\n",
       "      <th>messages_count</th>\n",
       "      <th>internet_volgb</th>\n",
       "      <th>tariff</th>\n",
       "      <th>revenue</th>\n",
       "    </tr>\n",
       "  </thead>\n",
       "  <tbody>\n",
       "    <tr>\n",
       "      <td>0</td>\n",
       "      <td>1000</td>\n",
       "      <td>Краснодар</td>\n",
       "      <td>Август</td>\n",
       "      <td>408.0</td>\n",
       "      <td>81.0</td>\n",
       "      <td>14.0</td>\n",
       "      <td>ultra</td>\n",
       "      <td>1950.0</td>\n",
       "    </tr>\n",
       "    <tr>\n",
       "      <td>1</td>\n",
       "      <td>1000</td>\n",
       "      <td>Краснодар</td>\n",
       "      <td>Декабрь</td>\n",
       "      <td>333.0</td>\n",
       "      <td>70.0</td>\n",
       "      <td>10.0</td>\n",
       "      <td>ultra</td>\n",
       "      <td>1950.0</td>\n",
       "    </tr>\n",
       "    <tr>\n",
       "      <td>2</td>\n",
       "      <td>1000</td>\n",
       "      <td>Краснодар</td>\n",
       "      <td>Июль</td>\n",
       "      <td>340.0</td>\n",
       "      <td>75.0</td>\n",
       "      <td>14.0</td>\n",
       "      <td>ultra</td>\n",
       "      <td>1950.0</td>\n",
       "    </tr>\n",
       "    <tr>\n",
       "      <td>3</td>\n",
       "      <td>1000</td>\n",
       "      <td>Краснодар</td>\n",
       "      <td>Июнь</td>\n",
       "      <td>172.0</td>\n",
       "      <td>60.0</td>\n",
       "      <td>23.0</td>\n",
       "      <td>ultra</td>\n",
       "      <td>1950.0</td>\n",
       "    </tr>\n",
       "    <tr>\n",
       "      <td>4</td>\n",
       "      <td>1000</td>\n",
       "      <td>Краснодар</td>\n",
       "      <td>Май</td>\n",
       "      <td>159.0</td>\n",
       "      <td>22.0</td>\n",
       "      <td>3.0</td>\n",
       "      <td>ultra</td>\n",
       "      <td>1950.0</td>\n",
       "    </tr>\n",
       "  </tbody>\n",
       "</table>\n",
       "</div>"
      ],
      "text/plain": [
       "   user_id       city    month  calls_minutes  messages_count  internet_volgb  \\\n",
       "0     1000  Краснодар   Август          408.0            81.0            14.0   \n",
       "1     1000  Краснодар  Декабрь          333.0            70.0            10.0   \n",
       "2     1000  Краснодар     Июль          340.0            75.0            14.0   \n",
       "3     1000  Краснодар     Июнь          172.0            60.0            23.0   \n",
       "4     1000  Краснодар      Май          159.0            22.0             3.0   \n",
       "\n",
       "  tariff  revenue  \n",
       "0  ultra   1950.0  \n",
       "1  ultra   1950.0  \n",
       "2  ultra   1950.0  \n",
       "3  ultra   1950.0  \n",
       "4  ultra   1950.0  "
      ]
     },
     "execution_count": 18,
     "metadata": {},
     "output_type": "execute_result"
    }
   ],
   "source": [
    "all_month['revenue'] = all_month.apply(revenue, axis = 1)\n",
    "df = all_month[['user_id', 'city', 'month', 'calls_minutes', 'messages_count', 'internet_volgb', 'tariff', 'revenue']].sort_values(by = 'user_id')\n",
    "df.head()\n"
   ]
  },
  {
   "cell_type": "markdown",
   "metadata": {},
   "source": [
    "# Анализ данных"
   ]
  },
  {
   "cell_type": "markdown",
   "metadata": {},
   "source": [
    "Сколько минут разговора, сообщений и интернет трафика требуется пользователям каждого тарифа в месяц?\n",
    "Считаем среднее , дисперсию и стандартное отклонение"
   ]
  },
  {
   "cell_type": "code",
   "execution_count": 19,
   "metadata": {},
   "outputs": [
    {
     "data": {
      "text/html": [
       "<div>\n",
       "<style scoped>\n",
       "    .dataframe tbody tr th:only-of-type {\n",
       "        vertical-align: middle;\n",
       "    }\n",
       "\n",
       "    .dataframe tbody tr th {\n",
       "        vertical-align: top;\n",
       "    }\n",
       "\n",
       "    .dataframe thead tr th {\n",
       "        text-align: left;\n",
       "    }\n",
       "\n",
       "    .dataframe thead tr:last-of-type th {\n",
       "        text-align: right;\n",
       "    }\n",
       "</style>\n",
       "<table border=\"1\" class=\"dataframe\">\n",
       "  <thead>\n",
       "    <tr>\n",
       "      <th></th>\n",
       "      <th colspan=\"3\" halign=\"left\">mean</th>\n",
       "      <th colspan=\"3\" halign=\"left\">var</th>\n",
       "      <th colspan=\"3\" halign=\"left\">std</th>\n",
       "    </tr>\n",
       "    <tr>\n",
       "      <th></th>\n",
       "      <th>calls_minutes</th>\n",
       "      <th>internet_volgb</th>\n",
       "      <th>messages_count</th>\n",
       "      <th>calls_minutes</th>\n",
       "      <th>internet_volgb</th>\n",
       "      <th>messages_count</th>\n",
       "      <th>calls_minutes</th>\n",
       "      <th>internet_volgb</th>\n",
       "      <th>messages_count</th>\n",
       "    </tr>\n",
       "    <tr>\n",
       "      <th>tariff</th>\n",
       "      <th></th>\n",
       "      <th></th>\n",
       "      <th></th>\n",
       "      <th></th>\n",
       "      <th></th>\n",
       "      <th></th>\n",
       "      <th></th>\n",
       "      <th></th>\n",
       "      <th></th>\n",
       "    </tr>\n",
       "  </thead>\n",
       "  <tbody>\n",
       "    <tr>\n",
       "      <td>smart</td>\n",
       "      <td>417.93</td>\n",
       "      <td>16.33</td>\n",
       "      <td>33.38</td>\n",
       "      <td>36,219.32</td>\n",
       "      <td>33.03</td>\n",
       "      <td>796.81</td>\n",
       "      <td>190.31</td>\n",
       "      <td>5.75</td>\n",
       "      <td>28.23</td>\n",
       "    </tr>\n",
       "    <tr>\n",
       "      <td>ultra</td>\n",
       "      <td>526.62</td>\n",
       "      <td>19.49</td>\n",
       "      <td>49.36</td>\n",
       "      <td>100,873.63</td>\n",
       "      <td>97.09</td>\n",
       "      <td>2,285.27</td>\n",
       "      <td>317.61</td>\n",
       "      <td>9.85</td>\n",
       "      <td>47.80</td>\n",
       "    </tr>\n",
       "  </tbody>\n",
       "</table>\n",
       "</div>"
      ],
      "text/plain": [
       "                mean                                         var  \\\n",
       "       calls_minutes internet_volgb messages_count calls_minutes   \n",
       "tariff                                                             \n",
       "smart         417.93          16.33          33.38     36,219.32   \n",
       "ultra         526.62          19.49          49.36    100,873.63   \n",
       "\n",
       "                                               std                 \\\n",
       "       internet_volgb messages_count calls_minutes internet_volgb   \n",
       "tariff                                                              \n",
       "smart           33.03         796.81        190.31           5.75   \n",
       "ultra           97.09       2,285.27        317.61           9.85   \n",
       "\n",
       "                       \n",
       "       messages_count  \n",
       "tariff                 \n",
       "smart           28.23  \n",
       "ultra           47.80  "
      ]
     },
     "execution_count": 19,
     "metadata": {},
     "output_type": "execute_result"
    }
   ],
   "source": [
    "pd.options.display.float_format = '{:,.2f}'.format\n",
    "pd.pivot_table(df, values=['calls_minutes','messages_count','internet_volgb'], index = ['tariff'], aggfunc = [np.mean,np.var,np.std])"
   ]
  },
  {
   "cell_type": "markdown",
   "metadata": {},
   "source": [
    "- Тариф смарт: тратят в среднем 418 из 500 минутЮ ст отклонение 190 мин, 16,33 из 15 (на 1,33гб больше стандартного),ст отклонение 5,75гб, 33 из 50 сообщения, ст отклонение 28смс.\n",
    "- Тариф ультра: трватят в среднем 527 минут из 3000, ст отклонение 317, 19,49гб из 30гб, ст отклонение 9,85, и 49 из 1000смс, отклонение 48.\n",
    "- Итого, в обоих тарифах люди практически полностью \"ужимаются\" в тариф, за исключением интернет трафика в тарифе смарт. они приобретают себе доп интернет, в среднем тратят почти нап 1,5гига больше чем в их тарифе"
   ]
  },
  {
   "cell_type": "code",
   "execution_count": 20,
   "metadata": {},
   "outputs": [],
   "source": [
    "df_smart = df.query('tariff == \"smart\"')\n",
    "df_ultra = df.query('tariff == \"ultra\"')"
   ]
  },
  {
   "cell_type": "code",
   "execution_count": 21,
   "metadata": {},
   "outputs": [],
   "source": [
    "def histograms(df_smart, df_ultra, name, bins, length):\n",
    "    ax = (df_smart\n",
    "         .plot(kind='hist',\n",
    "              bins=bins,\n",
    "              range=length,\n",
    "              alpha=0.7,\n",
    "              grid=True,\n",
    "              density=True,\n",
    "              legend=True,\n",
    "              linewidth= 3,\n",
    "              figsize=(12,6),\n",
    "              label = 'smart')\n",
    "         )\n",
    "    (df_ultra\n",
    "    .plot(kind='hist',\n",
    "         ax = ax,\n",
    "         bins = bins,\n",
    "         range = length,\n",
    "         alpha = 0.6,\n",
    "         grid=True,\n",
    "         density=True,\n",
    "         legend=True,\n",
    "         linewidth= 3,\n",
    "         figsize=(12,6),\n",
    "         label='ultra')\n",
    "    )"
   ]
  },
  {
   "cell_type": "code",
   "execution_count": 22,
   "metadata": {
    "scrolled": false
   },
   "outputs": [
    {
     "data": {
      "image/png": "[encoded data removed]",
      "text/plain": [
       "<Figure size 864x432 with 1 Axes>"
      ]
     },
     "metadata": {
      "needs_background": "light"
     },
     "output_type": "display_data"
    }
   ],
   "source": [
    "histograms(df_smart['calls_minutes'], df_ultra['calls_minutes'], 'Звонки в минутах', bins=15, length = (0,1000))"
   ]
  },
  {
   "cell_type": "markdown",
   "metadata": {},
   "source": [
    "В целом видно что у тарифа смарт идет распределение более равномерное и пик приблизительно на 500 минутах.\n",
    "У тарифа ультра больше людей используют 700 и более минут"
   ]
  },
  {
   "cell_type": "code",
   "execution_count": 29,
   "metadata": {
    "scrolled": false
   },
   "outputs": [
    {
     "data": {
      "text/plain": [
       "Text(0, 0.5, 'Количество людей')"
      ]
     },
     "execution_count": 29,
     "metadata": {},
     "output_type": "execute_result"
    },
    {
     "data": {
      "image/png": "[encoded data removed]",
      "text/plain": [
       "<Figure size 864x432 with 1 Axes>"
      ]
     },
     "metadata": {
      "needs_background": "light"
     },
     "output_type": "display_data"
    }
   ],
   "source": [
    "histograms(df_smart['messages_count'], df_ultra['messages_count'], 'СМС сообщения', bins=15, length = (0,200))\n",
    "plt.title('СМС сообщения', fontsize=12)\n",
    "plt.xlabel('Количество смс')\n",
    "plt.ylabel('Количество людей')"
   ]
  },
  {
   "cell_type": "markdown",
   "metadata": {},
   "source": [
    "У тарифа смарт больше людей, использующих 10-60 смс, но в тарифе ультра есть люди, используещие > 150смс"
   ]
  },
  {
   "cell_type": "code",
   "execution_count": 30,
   "metadata": {
    "scrolled": false
   },
   "outputs": [
    {
     "data": {
      "text/plain": [
       "Text(0, 0.5, 'Количество людей')"
      ]
     },
     "execution_count": 30,
     "metadata": {},
     "output_type": "execute_result"
    },
    {
     "data": {
      "image/png": "[encoded data removed]",
      "text/plain": [
       "<Figure size 864x432 with 1 Axes>"
      ]
     },
     "metadata": {
      "needs_background": "light"
     },
     "output_type": "display_data"
    }
   ],
   "source": [
    "histograms(df_smart['internet_volgb'], df_ultra['internet_volgb'], 'Интернет трафик в гб', bins=15, length = (0,50))\n",
    "plt.title('Интернет трафик в гб', fontsize=12)\n",
    "plt.xlabel('Количество гб')\n",
    "plt.ylabel('Количество людей')"
   ]
  },
  {
   "cell_type": "markdown",
   "metadata": {},
   "source": [
    "- Пользователи тарифа смарт больше пользуются трафиком интернета от 10 до 23гб, но пользователи ультра в разы больше пользуются трафиком свыше 23гб"
   ]
  },
  {
   "cell_type": "markdown",
   "metadata": {},
   "source": [
    "# Шаг 4. Проверьте гипотезы"
   ]
  },
  {
   "cell_type": "markdown",
   "metadata": {},
   "source": [
    "- средняя выручка пользователей тарифов «Ультра» и «Смарт» различаются;\n",
    "- средняя выручка пользователей из Москвы отличается от выручки пользователей из других регионов.\n",
    "- Пороговое значение alpha задайте самостоятельно.\n",
    "- Поясните:\n",
    "- как вы формулировали нулевую и альтернативную гипотезы;\n",
    "- какой критерий использовали для проверки гипотез и почему."
   ]
  },
  {
   "cell_type": "code",
   "execution_count": 25,
   "metadata": {
    "scrolled": false
   },
   "outputs": [
    {
     "name": "stdout",
     "output_type": "stream",
     "text": [
      "Размер выборки тарифа ultra: 985\n",
      "Дисперсия выборки тарифа ultra: 141373.07325620344\n",
      "Размер выборки тарифа smart: 2229\n",
      "Дисперсия выборки тарифа smart: 669485.2209234245\n"
     ]
    }
   ],
   "source": [
    "# Выручка смарт и ультра\n",
    "for tarif in ['ultra', 'smart']:\n",
    "    print(f'Размер выборки тарифа {tarif}: {len(df[df.tariff == tarif])}')\n",
    "    print(f'Дисперсия выборки тарифа {tarif}: {np.var(df[df.tariff == tarif].revenue)}')"
   ]
  },
  {
   "cell_type": "markdown",
   "metadata": {},
   "source": [
    "Создаем нулевую гипотезу что разницы в выручке между пользователями тарифа смарт и ультра не равны))"
   ]
  },
  {
   "cell_type": "code",
   "execution_count": 26,
   "metadata": {},
   "outputs": [
    {
     "name": "stdout",
     "output_type": "stream",
     "text": [
      "р-значение: 4.2606313931076085e-250\n",
      "Отвергаем нулевую гипотезу\n"
     ]
    }
   ],
   "source": [
    "alpha = .05\n",
    "tstat, pvalue = st.ttest_ind(df[df.tariff == 'ultra'].revenue, df[df.tariff == 'smart'].revenue, equal_var = False)\n",
    "print(f'р-значение: {pvalue}')\n",
    "if pvalue < alpha:\n",
    "    print('Отвергаем нулевую гипотезу')\n",
    "else:\n",
    "    print('Нельзя отвергнуть нулевую гипотезу')"
   ]
  },
  {
   "cell_type": "markdown",
   "metadata": {},
   "source": [
    "Выручка пользователей тарифа ультрв больше, по этому отвергаем нулевую гипотезу"
   ]
  },
  {
   "cell_type": "code",
   "execution_count": 27,
   "metadata": {},
   "outputs": [
    {
     "name": "stdout",
     "output_type": "stream",
     "text": [
      "Размер выборки пользователей из Москвы: 611\n",
      "Дисперсия выборки пользователей из Москвы: user_id           18,883.66\n",
      "calls_minutes     58,243.70\n",
      "messages_count     1,378.63\n",
      "internet_volgb        58.36\n",
      "revenue          564,710.71\n",
      "dtype: float64\n",
      "Размер выборки пользователей из других регионов: 2603\n",
      "Дисперсия выборки пользователей из других регионов: user_id           21,311.13\n",
      "calls_minutes     58,469.99\n",
      "messages_count     1,289.27\n",
      "internet_volgb        53.74\n",
      "revenue          653,886.33\n",
      "dtype: float64\n"
     ]
    }
   ],
   "source": [
    "# Выручка в МСК\n",
    "print(f'Размер выборки пользователей из Москвы: {len(df[df.city == \"Москва\"])}')\n",
    "print(f'Дисперсия выборки пользователей из Москвы: {np.var(df[df.city == \"Москва\"])}')\n",
    "print(f'Размер выборки пользователей из других регионов: {len(df[df.city != \"Москва\"])}')\n",
    "print(f'Дисперсия выборки пользователей из других регионов: {np.var(df[df.city != \"Москва\"])}')"
   ]
  },
  {
   "cell_type": "markdown",
   "metadata": {},
   "source": [
    "Нулевая гипотеза: выручка в МСК и других регионах равна."
   ]
  },
  {
   "cell_type": "code",
   "execution_count": 28,
   "metadata": {},
   "outputs": [
    {
     "name": "stdout",
     "output_type": "stream",
     "text": [
      "р-значение: 0.5257376663729298\n",
      "Нельзя отвергнуть нулевую гипотезу\n"
     ]
    }
   ],
   "source": [
    "alpha = .05\n",
    "tstat, pvalue = st.ttest_ind(df[df.city == 'Москва'].revenue, df[df.city != 'Москва'].revenue, equal_var = False)\n",
    "print(f'р-значение: {pvalue}')\n",
    "if pvalue < alpha:\n",
    "    print('Отвергаем нулевую гипотезу')\n",
    "else:\n",
    "    print('Нельзя отвергнуть нулевую гипотезу')"
   ]
  },
  {
   "cell_type": "markdown",
   "metadata": {},
   "source": [
    "нельзя отвергнуть нулевую гипотезу, значит выручка в мск и других регионах практически не различаетмся"
   ]
  },
  {
   "cell_type": "markdown",
   "metadata": {},
   "source": [
    "# Вывод"
   ]
  },
  {
   "cell_type": "markdown",
   "metadata": {},
   "source": [
    "Мы получили 5 датасетов с данными.\n",
    "В датасетах изменили формат столбцов с датами в \"дата, варемя\"\n",
    "Пропущеные значения были только в датасете \"трафик\", но они не критичные по этому мы их не заменяли.\n",
    "Перевели значения из мб в гб.\n",
    "В целом данные достатьочно \"чистые\"\n",
    "Посчитака помесячная выручка с каждого пользователя\n",
    "Опровергнута гипотеза что выруцчки с разных тарифов равны.\n",
    "Не опровергнута гипотеза о том что в Москве и других регионах равные выручки\n",
    "\n",
    "Целесообразнее рекламную компанию распределить в пользу ультры, т.к. полльзователи приносят больше дозода\n"
   ]
  }
 ],
 "metadata": {
  "ExecuteTimeLog": [
   {
    "duration": 1845,
    "start_time": "2022-02-26T12:13:57.343Z"
   },
   {
    "duration": 524,
    "start_time": "2022-02-26T12:14:07.433Z"
   },
   {
    "duration": 510,
    "start_time": "2022-02-26T12:14:20.358Z"
   },
   {
    "duration": 509,
    "start_time": "2022-02-26T12:14:37.131Z"
   },
   {
    "duration": 535,
    "start_time": "2022-02-26T12:15:11.470Z"
   },
   {
    "duration": 29,
    "start_time": "2022-02-26T12:17:07.368Z"
   },
   {
    "duration": 28,
    "start_time": "2022-02-26T12:17:48.247Z"
   },
   {
    "duration": 61,
    "start_time": "2022-02-26T12:18:33.968Z"
   },
   {
    "duration": 361,
    "start_time": "2022-02-26T12:19:04.827Z"
   },
   {
    "duration": 50,
    "start_time": "2022-02-26T12:20:25.248Z"
   },
   {
    "duration": 46,
    "start_time": "2022-02-26T12:21:34.805Z"
   },
   {
    "duration": 36,
    "start_time": "2022-02-26T12:21:54.491Z"
   },
   {
    "duration": 13,
    "start_time": "2022-02-26T12:22:10.000Z"
   },
   {
    "duration": 14,
    "start_time": "2022-02-26T12:22:30.613Z"
   },
   {
    "duration": 4,
    "start_time": "2022-02-26T12:24:53.427Z"
   },
   {
    "duration": 11,
    "start_time": "2022-02-26T12:30:28.544Z"
   },
   {
    "duration": 49,
    "start_time": "2022-02-26T12:31:47.384Z"
   },
   {
    "duration": 37,
    "start_time": "2022-02-26T12:31:57.430Z"
   },
   {
    "duration": 1061,
    "start_time": "2022-02-26T12:37:15.870Z"
   },
   {
    "duration": 576,
    "start_time": "2022-02-26T12:38:41.042Z"
   },
   {
    "duration": 224,
    "start_time": "2022-02-26T12:38:46.199Z"
   },
   {
    "duration": 182,
    "start_time": "2022-02-26T12:38:58.441Z"
   },
   {
    "duration": 15,
    "start_time": "2022-02-26T12:39:30.305Z"
   },
   {
    "duration": 232,
    "start_time": "2022-02-26T12:41:09.947Z"
   },
   {
    "duration": 218,
    "start_time": "2022-02-26T12:45:21.514Z"
   },
   {
    "duration": 56,
    "start_time": "2022-02-26T12:45:38.821Z"
   },
   {
    "duration": 216,
    "start_time": "2022-02-26T12:46:15.856Z"
   },
   {
    "duration": 23,
    "start_time": "2022-02-26T12:46:27.141Z"
   },
   {
    "duration": 252,
    "start_time": "2022-02-26T12:46:33.807Z"
   },
   {
    "duration": 222,
    "start_time": "2022-02-26T12:46:58.882Z"
   },
   {
    "duration": 855,
    "start_time": "2022-02-26T12:47:02.328Z"
   },
   {
    "duration": 59,
    "start_time": "2022-02-26T12:47:03.187Z"
   },
   {
    "duration": 66,
    "start_time": "2022-02-26T12:47:03.248Z"
   },
   {
    "duration": 59,
    "start_time": "2022-02-26T12:47:03.317Z"
   },
   {
    "duration": 18,
    "start_time": "2022-02-26T12:47:03.379Z"
   },
   {
    "duration": 21,
    "start_time": "2022-02-26T12:47:03.399Z"
   },
   {
    "duration": 256,
    "start_time": "2022-02-26T12:47:03.422Z"
   },
   {
    "duration": 61,
    "start_time": "2022-02-26T12:47:03.682Z"
   },
   {
    "duration": 10,
    "start_time": "2022-02-26T12:47:56.697Z"
   },
   {
    "duration": 34,
    "start_time": "2022-02-26T12:49:00.462Z"
   },
   {
    "duration": 28,
    "start_time": "2022-02-26T12:49:10.969Z"
   },
   {
    "duration": 549,
    "start_time": "2022-02-26T12:49:40.765Z"
   },
   {
    "duration": 71,
    "start_time": "2022-02-26T12:49:41.318Z"
   },
   {
    "duration": 43,
    "start_time": "2022-02-26T12:49:41.392Z"
   },
   {
    "duration": 58,
    "start_time": "2022-02-26T12:49:41.438Z"
   },
   {
    "duration": 12,
    "start_time": "2022-02-26T12:49:41.498Z"
   },
   {
    "duration": 33,
    "start_time": "2022-02-26T12:49:41.512Z"
   },
   {
    "duration": 230,
    "start_time": "2022-02-26T12:49:41.548Z"
   },
   {
    "duration": 60,
    "start_time": "2022-02-26T12:49:41.781Z"
   },
   {
    "duration": 75,
    "start_time": "2022-02-26T12:49:41.844Z"
   },
   {
    "duration": 22,
    "start_time": "2022-02-26T12:50:26.992Z"
   },
   {
    "duration": 23,
    "start_time": "2022-02-26T12:51:33.500Z"
   },
   {
    "duration": 4,
    "start_time": "2022-02-26T12:52:08.870Z"
   },
   {
    "duration": 12,
    "start_time": "2022-02-26T12:53:17.198Z"
   },
   {
    "duration": 16,
    "start_time": "2022-02-26T12:55:01.898Z"
   },
   {
    "duration": 25,
    "start_time": "2022-02-26T12:55:12.659Z"
   },
   {
    "duration": 22,
    "start_time": "2022-02-26T12:55:25.277Z"
   },
   {
    "duration": 68,
    "start_time": "2022-02-26T12:57:31.579Z"
   },
   {
    "duration": 74,
    "start_time": "2022-02-26T13:03:55.482Z"
   },
   {
    "duration": 6,
    "start_time": "2022-02-26T13:04:02.796Z"
   },
   {
    "duration": 40,
    "start_time": "2022-02-26T13:04:35.259Z"
   },
   {
    "duration": 56,
    "start_time": "2022-02-26T13:04:48.091Z"
   },
   {
    "duration": 38,
    "start_time": "2022-02-26T13:05:23.884Z"
   },
   {
    "duration": 45,
    "start_time": "2022-02-26T13:06:05.023Z"
   },
   {
    "duration": 219,
    "start_time": "2022-02-27T09:04:09.639Z"
   },
   {
    "duration": 956,
    "start_time": "2022-02-27T09:04:17.791Z"
   },
   {
    "duration": 36,
    "start_time": "2022-02-27T09:04:18.748Z"
   },
   {
    "duration": 28,
    "start_time": "2022-02-27T09:04:18.785Z"
   },
   {
    "duration": 41,
    "start_time": "2022-02-27T09:04:18.815Z"
   },
   {
    "duration": 9,
    "start_time": "2022-02-27T09:04:18.857Z"
   },
   {
    "duration": 11,
    "start_time": "2022-02-27T09:04:18.867Z"
   },
   {
    "duration": 169,
    "start_time": "2022-02-27T09:04:18.879Z"
   },
   {
    "duration": 39,
    "start_time": "2022-02-27T09:04:19.050Z"
   },
   {
    "duration": 46,
    "start_time": "2022-02-27T09:04:19.091Z"
   },
   {
    "duration": 15,
    "start_time": "2022-02-27T09:04:19.139Z"
   },
   {
    "duration": 12,
    "start_time": "2022-02-27T09:04:19.156Z"
   },
   {
    "duration": 4,
    "start_time": "2022-02-27T09:04:19.170Z"
   },
   {
    "duration": 63,
    "start_time": "2022-02-27T09:04:19.175Z"
   },
   {
    "duration": 23,
    "start_time": "2022-02-27T09:04:19.240Z"
   },
   {
    "duration": 27,
    "start_time": "2022-02-27T09:04:19.265Z"
   },
   {
    "duration": 112,
    "start_time": "2022-02-27T09:04:19.293Z"
   },
   {
    "duration": 103,
    "start_time": "2022-02-27T09:10:37.505Z"
   },
   {
    "duration": 397,
    "start_time": "2022-02-27T09:11:20.059Z"
   },
   {
    "duration": 35,
    "start_time": "2022-02-27T09:11:20.458Z"
   },
   {
    "duration": 53,
    "start_time": "2022-02-27T09:11:20.495Z"
   },
   {
    "duration": 24,
    "start_time": "2022-02-27T09:11:20.550Z"
   },
   {
    "duration": 8,
    "start_time": "2022-02-27T09:11:20.575Z"
   },
   {
    "duration": 14,
    "start_time": "2022-02-27T09:11:20.584Z"
   },
   {
    "duration": 150,
    "start_time": "2022-02-27T09:11:20.599Z"
   },
   {
    "duration": 40,
    "start_time": "2022-02-27T09:11:20.750Z"
   },
   {
    "duration": 50,
    "start_time": "2022-02-27T09:11:20.793Z"
   },
   {
    "duration": 13,
    "start_time": "2022-02-27T09:11:20.845Z"
   },
   {
    "duration": 12,
    "start_time": "2022-02-27T09:11:20.859Z"
   },
   {
    "duration": 4,
    "start_time": "2022-02-27T09:11:20.872Z"
   },
   {
    "duration": 62,
    "start_time": "2022-02-27T09:11:20.877Z"
   },
   {
    "duration": 23,
    "start_time": "2022-02-27T09:11:20.941Z"
   },
   {
    "duration": 28,
    "start_time": "2022-02-27T09:11:20.965Z"
   },
   {
    "duration": 57,
    "start_time": "2022-02-27T09:11:20.994Z"
   },
   {
    "duration": 55,
    "start_time": "2022-02-27T09:11:27.691Z"
   },
   {
    "duration": 298,
    "start_time": "2022-02-27T09:12:56.359Z"
   },
   {
    "duration": 301,
    "start_time": "2022-02-27T09:13:09.710Z"
   },
   {
    "duration": 87,
    "start_time": "2022-02-27T09:15:29.516Z"
   },
   {
    "duration": 6,
    "start_time": "2022-02-27T09:22:45.514Z"
   },
   {
    "duration": 406,
    "start_time": "2022-02-27T09:25:17.919Z"
   },
   {
    "duration": 504,
    "start_time": "2022-02-27T09:26:38.040Z"
   },
   {
    "duration": 433,
    "start_time": "2022-02-27T09:26:54.607Z"
   },
   {
    "duration": 3,
    "start_time": "2022-02-27T09:27:50.209Z"
   },
   {
    "duration": 298,
    "start_time": "2022-02-27T09:27:52.544Z"
   },
   {
    "duration": 468,
    "start_time": "2022-02-27T09:27:57.786Z"
   },
   {
    "duration": 284,
    "start_time": "2022-02-27T09:28:03.736Z"
   },
   {
    "duration": 280,
    "start_time": "2022-02-27T09:28:14.681Z"
   },
   {
    "duration": 178,
    "start_time": "2022-02-27T10:06:14.655Z"
   },
   {
    "duration": 380,
    "start_time": "2022-02-27T10:07:50.173Z"
   },
   {
    "duration": 36,
    "start_time": "2022-02-27T10:07:50.555Z"
   },
   {
    "duration": 47,
    "start_time": "2022-02-27T10:07:50.592Z"
   },
   {
    "duration": 25,
    "start_time": "2022-02-27T10:07:50.640Z"
   },
   {
    "duration": 12,
    "start_time": "2022-02-27T10:07:50.666Z"
   },
   {
    "duration": 13,
    "start_time": "2022-02-27T10:07:50.679Z"
   },
   {
    "duration": 159,
    "start_time": "2022-02-27T10:07:50.693Z"
   },
   {
    "duration": 39,
    "start_time": "2022-02-27T10:07:50.854Z"
   },
   {
    "duration": 49,
    "start_time": "2022-02-27T10:07:50.894Z"
   },
   {
    "duration": 13,
    "start_time": "2022-02-27T10:07:50.945Z"
   },
   {
    "duration": 11,
    "start_time": "2022-02-27T10:07:50.959Z"
   },
   {
    "duration": 5,
    "start_time": "2022-02-27T10:07:50.972Z"
   },
   {
    "duration": 38,
    "start_time": "2022-02-27T10:07:50.979Z"
   },
   {
    "duration": 25,
    "start_time": "2022-02-27T10:07:51.038Z"
   },
   {
    "duration": 27,
    "start_time": "2022-02-27T10:07:51.065Z"
   },
   {
    "duration": 138,
    "start_time": "2022-02-27T10:07:51.093Z"
   },
   {
    "duration": 3,
    "start_time": "2022-02-27T10:07:51.237Z"
   },
   {
    "duration": 288,
    "start_time": "2022-02-27T10:07:51.242Z"
   },
   {
    "duration": 29,
    "start_time": "2022-02-27T10:07:51.531Z"
   },
   {
    "duration": 78,
    "start_time": "2022-02-27T10:12:06.779Z"
   },
   {
    "duration": 180,
    "start_time": "2022-02-27T10:26:08.487Z"
   },
   {
    "duration": 447,
    "start_time": "2022-02-27T10:26:40.314Z"
   },
   {
    "duration": 194,
    "start_time": "2022-02-27T10:26:46.317Z"
   },
   {
    "duration": 875,
    "start_time": "2022-02-27T10:27:25.943Z"
   },
   {
    "duration": 217,
    "start_time": "2022-02-27T10:27:31.425Z"
   },
   {
    "duration": 226,
    "start_time": "2022-02-27T10:27:42.339Z"
   },
   {
    "duration": 210,
    "start_time": "2022-02-27T10:28:58.554Z"
   },
   {
    "duration": 182,
    "start_time": "2022-02-27T10:29:06.103Z"
   },
   {
    "duration": 119,
    "start_time": "2022-02-27T10:36:11.301Z"
   },
   {
    "duration": 63,
    "start_time": "2022-02-27T10:36:24.564Z"
   },
   {
    "duration": 352,
    "start_time": "2022-02-27T10:36:28.669Z"
   },
   {
    "duration": 187,
    "start_time": "2022-02-27T10:37:58.332Z"
   },
   {
    "duration": 185,
    "start_time": "2022-02-27T10:38:13.206Z"
   },
   {
    "duration": 193,
    "start_time": "2022-02-27T11:25:27.750Z"
   },
   {
    "duration": 358,
    "start_time": "2022-02-27T11:26:23.791Z"
   },
   {
    "duration": 35,
    "start_time": "2022-02-27T11:26:24.151Z"
   },
   {
    "duration": 28,
    "start_time": "2022-02-27T11:26:24.188Z"
   },
   {
    "duration": 28,
    "start_time": "2022-02-27T11:26:24.238Z"
   },
   {
    "duration": 9,
    "start_time": "2022-02-27T11:26:24.267Z"
   },
   {
    "duration": 11,
    "start_time": "2022-02-27T11:26:24.278Z"
   },
   {
    "duration": 161,
    "start_time": "2022-02-27T11:26:24.291Z"
   },
   {
    "duration": 38,
    "start_time": "2022-02-27T11:26:24.454Z"
   },
   {
    "duration": 50,
    "start_time": "2022-02-27T11:26:24.495Z"
   },
   {
    "duration": 14,
    "start_time": "2022-02-27T11:26:24.547Z"
   },
   {
    "duration": 13,
    "start_time": "2022-02-27T11:26:24.562Z"
   },
   {
    "duration": 6,
    "start_time": "2022-02-27T11:26:24.577Z"
   },
   {
    "duration": 63,
    "start_time": "2022-02-27T11:26:24.585Z"
   },
   {
    "duration": 24,
    "start_time": "2022-02-27T11:26:24.650Z"
   },
   {
    "duration": 28,
    "start_time": "2022-02-27T11:26:24.675Z"
   },
   {
    "duration": 133,
    "start_time": "2022-02-27T11:26:24.705Z"
   },
   {
    "duration": 4,
    "start_time": "2022-02-27T11:26:24.840Z"
   },
   {
    "duration": 295,
    "start_time": "2022-02-27T11:26:24.846Z"
   },
   {
    "duration": 27,
    "start_time": "2022-02-27T11:26:25.142Z"
   },
   {
    "duration": 180,
    "start_time": "2022-02-27T11:26:25.171Z"
   },
   {
    "duration": 59,
    "start_time": "2022-02-27T11:57:16.383Z"
   },
   {
    "duration": 205,
    "start_time": "2022-02-27T11:57:45.840Z"
   },
   {
    "duration": 183,
    "start_time": "2022-02-27T11:57:53.574Z"
   },
   {
    "duration": 175,
    "start_time": "2022-02-27T12:05:34.441Z"
   },
   {
    "duration": 225,
    "start_time": "2022-02-27T12:07:13.755Z"
   },
   {
    "duration": 4790,
    "start_time": "2022-02-27T12:07:26.525Z"
   },
   {
    "duration": 4946,
    "start_time": "2022-02-27T12:07:45.599Z"
   },
   {
    "duration": 192,
    "start_time": "2022-02-27T12:09:41.014Z"
   },
   {
    "duration": 2,
    "start_time": "2022-02-27T12:15:44.766Z"
   },
   {
    "duration": 2,
    "start_time": "2022-02-27T12:15:45.653Z"
   },
   {
    "duration": 271,
    "start_time": "2022-02-27T12:16:45.354Z"
   },
   {
    "duration": 2,
    "start_time": "2022-02-27T12:17:32.927Z"
   },
   {
    "duration": 10,
    "start_time": "2022-02-27T12:17:36.743Z"
   },
   {
    "duration": 10,
    "start_time": "2022-02-27T12:17:39.570Z"
   },
   {
    "duration": 4,
    "start_time": "2022-02-27T12:18:30.127Z"
   },
   {
    "duration": 200,
    "start_time": "2022-02-27T12:18:33.433Z"
   },
   {
    "duration": 224,
    "start_time": "2022-02-27T12:19:31.454Z"
   },
   {
    "duration": 2,
    "start_time": "2022-02-27T12:19:36.653Z"
   },
   {
    "duration": 3,
    "start_time": "2022-02-27T12:20:13.046Z"
   },
   {
    "duration": 213,
    "start_time": "2022-02-27T12:20:38.935Z"
   },
   {
    "duration": 204,
    "start_time": "2022-02-27T12:22:17.720Z"
   },
   {
    "duration": 306,
    "start_time": "2022-02-27T12:23:15.976Z"
   },
   {
    "duration": 198,
    "start_time": "2022-02-27T12:24:17.072Z"
   },
   {
    "duration": 9,
    "start_time": "2022-02-27T12:26:48.943Z"
   },
   {
    "duration": 8,
    "start_time": "2022-02-27T12:27:54.131Z"
   },
   {
    "duration": 8,
    "start_time": "2022-02-27T12:28:01.299Z"
   },
   {
    "duration": 7,
    "start_time": "2022-02-27T12:30:23.380Z"
   },
   {
    "duration": 5,
    "start_time": "2022-02-27T12:35:52.407Z"
   },
   {
    "duration": 292,
    "start_time": "2022-02-27T13:53:23.922Z"
   },
   {
    "duration": 305,
    "start_time": "2022-02-27T13:54:30.189Z"
   },
   {
    "duration": 291,
    "start_time": "2022-02-27T13:54:32.119Z"
   },
   {
    "duration": 303,
    "start_time": "2022-02-27T13:57:01.075Z"
   },
   {
    "duration": 298,
    "start_time": "2022-02-27T13:57:37.312Z"
   },
   {
    "duration": 305,
    "start_time": "2022-02-27T13:57:41.468Z"
   },
   {
    "duration": 318,
    "start_time": "2022-02-27T13:59:12.569Z"
   },
   {
    "duration": 291,
    "start_time": "2022-02-27T13:59:17.603Z"
   },
   {
    "duration": 305,
    "start_time": "2022-02-27T13:59:27.905Z"
   },
   {
    "duration": 69,
    "start_time": "2022-02-27T14:00:20.945Z"
   },
   {
    "duration": 10,
    "start_time": "2022-02-27T14:09:28.304Z"
   },
   {
    "duration": 190,
    "start_time": "2022-02-27T14:12:58.727Z"
   },
   {
    "duration": 395,
    "start_time": "2022-02-27T14:13:54.387Z"
   },
   {
    "duration": 170,
    "start_time": "2022-02-27T14:13:58.892Z"
   },
   {
    "duration": 9,
    "start_time": "2022-02-27T14:14:59.778Z"
   },
   {
    "duration": 7,
    "start_time": "2022-02-27T14:15:21.582Z"
   },
   {
    "duration": 8,
    "start_time": "2022-02-27T14:15:25.703Z"
   },
   {
    "duration": 57,
    "start_time": "2022-02-27T14:17:17.199Z"
   },
   {
    "duration": 58,
    "start_time": "2022-02-27T14:17:39.528Z"
   },
   {
    "duration": 187,
    "start_time": "2022-02-27T14:52:37.160Z"
   },
   {
    "duration": 139,
    "start_time": "2022-02-27T14:52:45.308Z"
   },
   {
    "duration": 10,
    "start_time": "2022-02-27T14:54:22.916Z"
   },
   {
    "duration": 4,
    "start_time": "2022-02-27T14:56:14.746Z"
   },
   {
    "duration": 1463,
    "start_time": "2022-03-07T12:50:01.854Z"
   },
   {
    "duration": 32,
    "start_time": "2022-03-07T12:50:03.319Z"
   },
   {
    "duration": 25,
    "start_time": "2022-03-07T12:50:03.353Z"
   },
   {
    "duration": 42,
    "start_time": "2022-03-07T12:50:03.379Z"
   },
   {
    "duration": 7,
    "start_time": "2022-03-07T12:50:03.422Z"
   },
   {
    "duration": 8,
    "start_time": "2022-03-07T12:50:03.430Z"
   },
   {
    "duration": 155,
    "start_time": "2022-03-07T12:50:03.439Z"
   },
   {
    "duration": 39,
    "start_time": "2022-03-07T12:50:03.596Z"
   },
   {
    "duration": 26,
    "start_time": "2022-03-07T12:50:03.637Z"
   },
   {
    "duration": 11,
    "start_time": "2022-03-07T12:50:03.665Z"
   },
   {
    "duration": 36,
    "start_time": "2022-03-07T12:50:03.678Z"
   },
   {
    "duration": 4,
    "start_time": "2022-03-07T12:50:03.715Z"
   },
   {
    "duration": 35,
    "start_time": "2022-03-07T12:50:03.720Z"
   },
   {
    "duration": 21,
    "start_time": "2022-03-07T12:50:03.757Z"
   },
   {
    "duration": 41,
    "start_time": "2022-03-07T12:50:03.780Z"
   },
   {
    "duration": 118,
    "start_time": "2022-03-07T12:50:03.823Z"
   },
   {
    "duration": 3,
    "start_time": "2022-03-07T12:50:03.942Z"
   },
   {
    "duration": 284,
    "start_time": "2022-03-07T12:50:03.946Z"
   },
   {
    "duration": 23,
    "start_time": "2022-03-07T12:50:04.231Z"
   },
   {
    "duration": 5,
    "start_time": "2022-03-07T12:50:04.256Z"
   },
   {
    "duration": 10,
    "start_time": "2022-03-07T12:50:04.263Z"
   },
   {
    "duration": 286,
    "start_time": "2022-03-07T12:50:04.275Z"
   },
   {
    "duration": 266,
    "start_time": "2022-03-07T12:50:04.564Z"
   },
   {
    "duration": 271,
    "start_time": "2022-03-07T12:50:04.832Z"
   },
   {
    "duration": 9,
    "start_time": "2022-03-07T12:50:05.104Z"
   },
   {
    "duration": 20,
    "start_time": "2022-03-07T12:50:05.114Z"
   },
   {
    "duration": 36,
    "start_time": "2022-03-07T12:50:05.135Z"
   },
   {
    "duration": 6,
    "start_time": "2022-03-07T12:50:05.172Z"
   },
   {
    "duration": 1579,
    "start_time": "2022-03-08T19:21:22.896Z"
   },
   {
    "duration": 39,
    "start_time": "2022-03-08T19:21:24.477Z"
   },
   {
    "duration": 33,
    "start_time": "2022-03-08T19:21:24.517Z"
   },
   {
    "duration": 41,
    "start_time": "2022-03-08T19:21:24.552Z"
   },
   {
    "duration": 9,
    "start_time": "2022-03-08T19:21:24.594Z"
   },
   {
    "duration": 12,
    "start_time": "2022-03-08T19:21:24.605Z"
   },
   {
    "duration": 190,
    "start_time": "2022-03-08T19:21:24.619Z"
   },
   {
    "duration": 42,
    "start_time": "2022-03-08T19:21:24.811Z"
   },
   {
    "duration": 47,
    "start_time": "2022-03-08T19:21:24.856Z"
   },
   {
    "duration": 14,
    "start_time": "2022-03-08T19:21:24.905Z"
   },
   {
    "duration": 15,
    "start_time": "2022-03-08T19:21:24.921Z"
   },
   {
    "duration": 4,
    "start_time": "2022-03-08T19:21:24.938Z"
   },
   {
    "duration": 71,
    "start_time": "2022-03-08T19:21:24.943Z"
   },
   {
    "duration": 27,
    "start_time": "2022-03-08T19:21:25.015Z"
   },
   {
    "duration": 47,
    "start_time": "2022-03-08T19:21:25.044Z"
   },
   {
    "duration": 139,
    "start_time": "2022-03-08T19:21:25.093Z"
   },
   {
    "duration": 3,
    "start_time": "2022-03-08T19:21:25.234Z"
   },
   {
    "duration": 331,
    "start_time": "2022-03-08T19:21:25.239Z"
   },
   {
    "duration": 31,
    "start_time": "2022-03-08T19:21:25.572Z"
   },
   {
    "duration": 7,
    "start_time": "2022-03-08T19:21:25.605Z"
   },
   {
    "duration": 13,
    "start_time": "2022-03-08T19:21:25.614Z"
   },
   {
    "duration": 377,
    "start_time": "2022-03-08T19:21:25.628Z"
   },
   {
    "duration": 350,
    "start_time": "2022-03-08T19:21:26.008Z"
   },
   {
    "duration": 350,
    "start_time": "2022-03-08T19:21:26.360Z"
   },
   {
    "duration": 11,
    "start_time": "2022-03-08T19:21:26.712Z"
   },
   {
    "duration": 7,
    "start_time": "2022-03-08T19:21:26.725Z"
   },
   {
    "duration": 24,
    "start_time": "2022-03-08T19:21:26.734Z"
   },
   {
    "duration": 8,
    "start_time": "2022-03-08T19:21:26.778Z"
   },
   {
    "duration": 370,
    "start_time": "2022-03-08T19:23:02.086Z"
   },
   {
    "duration": 361,
    "start_time": "2022-03-08T19:23:25.421Z"
   },
   {
    "duration": 128,
    "start_time": "2022-03-08T19:28:45.656Z"
   }
  ],
  "kernelspec": {
   "display_name": "Python 3 (ipykernel)",
   "language": "python",
   "name": "python3"
  },
  "language_info": {
   "codemirror_mode": {
    "name": "ipython",
    "version": 3
   },
   "file_extension": ".py",
   "mimetype": "text/x-python",
   "name": "python",
   "nbconvert_exporter": "python",
   "pygments_lexer": "ipython3",
   "version": "3.9.5"
  },
  "toc": {
   "base_numbering": 1,
   "nav_menu": {
    "height": "206px",
    "width": "288px"
   },
   "number_sections": true,
   "sideBar": true,
   "skip_h1_title": true,
   "title_cell": "Table of Contents",
   "title_sidebar": "Contents",
   "toc_cell": false,
   "toc_position": {},
   "toc_section_display": true,
   "toc_window_display": false
  }
 },
 "nbformat": 4,
 "nbformat_minor": 2
}
