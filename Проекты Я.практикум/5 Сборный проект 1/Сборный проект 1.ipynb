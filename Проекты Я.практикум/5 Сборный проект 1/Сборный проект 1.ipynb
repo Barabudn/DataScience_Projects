{
 "cells": [
  {
   "cell_type": "markdown",
   "metadata": {},
   "source": [
    "Инструкция по выполнению проекта\n",
    "# Изучаем общую информацию\n",
    "\n",
    "\n",
    "Описание данных\n",
    "- Name — название игры\n",
    "- Platform — платформа\n",
    "- Year_of_Release — год выпуска\n",
    "- Genre — жанр игры\n",
    "- NA_sales — продажи в Северной Америке (миллионы проданных копий)\n",
    "- EU_sales — продажи в Европе (миллионы проданных копий)\n",
    "- JP_sales — продажи в Японии (миллионы проданных копий)\n",
    "- Other_sales — продажи в других странах (миллионы проданных копий)\n",
    "- Critic_Score — оценка критиков (максимум 100)\n",
    "- User_Score — оценка пользователей (максимум 10)\n",
    "- Rating — рейтинг от организации ESRB (англ. Entertainment Software Rating Board). Эта ассоциация определяет рейтинг компьютерных игр и присваивает им подходящую возрастную категорию.\n",
    "- Данные за 2016 год могут быть неполными.\n",
    "\n",
    "\n",
    "\n",
    "\n"
   ]
  },
  {
   "cell_type": "code",
   "execution_count": 1,
   "metadata": {
    "scrolled": true
   },
   "outputs": [],
   "source": [
    "import pandas as pd\n",
    "import matplotlib.pyplot as plt\n",
    "import numpy as np\n",
    "import seaborn as sns\n",
    "from scipy import stats as st\n",
    "import warnings\n",
    "warnings.filterwarnings('ignore')"
   ]
  },
  {
   "cell_type": "code",
   "execution_count": 2,
   "metadata": {},
   "outputs": [
    {
     "name": "stdout",
     "output_type": "stream",
     "text": [
      "<class 'pandas.core.frame.DataFrame'>\n",
      "RangeIndex: 16715 entries, 0 to 16714\n",
      "Data columns (total 11 columns):\n",
      " #   Column           Non-Null Count  Dtype  \n",
      "---  ------           --------------  -----  \n",
      " 0   Name             16713 non-null  object \n",
      " 1   Platform         16715 non-null  object \n",
      " 2   Year_of_Release  16446 non-null  float64\n",
      " 3   Genre            16713 non-null  object \n",
      " 4   NA_sales         16715 non-null  float64\n",
      " 5   EU_sales         16715 non-null  float64\n",
      " 6   JP_sales         16715 non-null  float64\n",
      " 7   Other_sales      16715 non-null  float64\n",
      " 8   Critic_Score     8137 non-null   float64\n",
      " 9   User_Score       10014 non-null  object \n",
      " 10  Rating           9949 non-null   object \n",
      "dtypes: float64(6), object(5)\n",
      "memory usage: 1.4+ MB\n"
     ]
    }
   ],
   "source": [
    "df = pd.read_csv('D://Игорь/projects/games.csv')\n",
    "df.info()"
   ]
  },
  {
   "cell_type": "code",
   "execution_count": 3,
   "metadata": {
    "scrolled": true
   },
   "outputs": [
    {
     "data": {
      "text/html": [
       "<div>\n",
       "<style scoped>\n",
       "    .dataframe tbody tr th:only-of-type {\n",
       "        vertical-align: middle;\n",
       "    }\n",
       "\n",
       "    .dataframe tbody tr th {\n",
       "        vertical-align: top;\n",
       "    }\n",
       "\n",
       "    .dataframe thead th {\n",
       "        text-align: right;\n",
       "    }\n",
       "</style>\n",
       "<table border=\"1\" class=\"dataframe\">\n",
       "  <thead>\n",
       "    <tr style=\"text-align: right;\">\n",
       "      <th></th>\n",
       "      <th>Name</th>\n",
       "      <th>Platform</th>\n",
       "      <th>Year_of_Release</th>\n",
       "      <th>Genre</th>\n",
       "      <th>NA_sales</th>\n",
       "      <th>EU_sales</th>\n",
       "      <th>JP_sales</th>\n",
       "      <th>Other_sales</th>\n",
       "      <th>Critic_Score</th>\n",
       "      <th>User_Score</th>\n",
       "      <th>Rating</th>\n",
       "    </tr>\n",
       "  </thead>\n",
       "  <tbody>\n",
       "    <tr>\n",
       "      <th>0</th>\n",
       "      <td>Wii Sports</td>\n",
       "      <td>Wii</td>\n",
       "      <td>2006.0</td>\n",
       "      <td>Sports</td>\n",
       "      <td>41.36</td>\n",
       "      <td>28.96</td>\n",
       "      <td>3.77</td>\n",
       "      <td>8.45</td>\n",
       "      <td>76.0</td>\n",
       "      <td>8</td>\n",
       "      <td>E</td>\n",
       "    </tr>\n",
       "    <tr>\n",
       "      <th>1</th>\n",
       "      <td>Super Mario Bros.</td>\n",
       "      <td>NES</td>\n",
       "      <td>1985.0</td>\n",
       "      <td>Platform</td>\n",
       "      <td>29.08</td>\n",
       "      <td>3.58</td>\n",
       "      <td>6.81</td>\n",
       "      <td>0.77</td>\n",
       "      <td>NaN</td>\n",
       "      <td>NaN</td>\n",
       "      <td>NaN</td>\n",
       "    </tr>\n",
       "    <tr>\n",
       "      <th>2</th>\n",
       "      <td>Mario Kart Wii</td>\n",
       "      <td>Wii</td>\n",
       "      <td>2008.0</td>\n",
       "      <td>Racing</td>\n",
       "      <td>15.68</td>\n",
       "      <td>12.76</td>\n",
       "      <td>3.79</td>\n",
       "      <td>3.29</td>\n",
       "      <td>82.0</td>\n",
       "      <td>8.3</td>\n",
       "      <td>E</td>\n",
       "    </tr>\n",
       "    <tr>\n",
       "      <th>3</th>\n",
       "      <td>Wii Sports Resort</td>\n",
       "      <td>Wii</td>\n",
       "      <td>2009.0</td>\n",
       "      <td>Sports</td>\n",
       "      <td>15.61</td>\n",
       "      <td>10.93</td>\n",
       "      <td>3.28</td>\n",
       "      <td>2.95</td>\n",
       "      <td>80.0</td>\n",
       "      <td>8</td>\n",
       "      <td>E</td>\n",
       "    </tr>\n",
       "    <tr>\n",
       "      <th>4</th>\n",
       "      <td>Pokemon Red/Pokemon Blue</td>\n",
       "      <td>GB</td>\n",
       "      <td>1996.0</td>\n",
       "      <td>Role-Playing</td>\n",
       "      <td>11.27</td>\n",
       "      <td>8.89</td>\n",
       "      <td>10.22</td>\n",
       "      <td>1.00</td>\n",
       "      <td>NaN</td>\n",
       "      <td>NaN</td>\n",
       "      <td>NaN</td>\n",
       "    </tr>\n",
       "  </tbody>\n",
       "</table>\n",
       "</div>"
      ],
      "text/plain": [
       "                       Name Platform  Year_of_Release         Genre  NA_sales  \\\n",
       "0                Wii Sports      Wii           2006.0        Sports     41.36   \n",
       "1         Super Mario Bros.      NES           1985.0      Platform     29.08   \n",
       "2            Mario Kart Wii      Wii           2008.0        Racing     15.68   \n",
       "3         Wii Sports Resort      Wii           2009.0        Sports     15.61   \n",
       "4  Pokemon Red/Pokemon Blue       GB           1996.0  Role-Playing     11.27   \n",
       "\n",
       "   EU_sales  JP_sales  Other_sales  Critic_Score User_Score Rating  \n",
       "0     28.96      3.77         8.45          76.0          8      E  \n",
       "1      3.58      6.81         0.77           NaN        NaN    NaN  \n",
       "2     12.76      3.79         3.29          82.0        8.3      E  \n",
       "3     10.93      3.28         2.95          80.0          8      E  \n",
       "4      8.89     10.22         1.00           NaN        NaN    NaN  "
      ]
     },
     "execution_count": 3,
     "metadata": {},
     "output_type": "execute_result"
    }
   ],
   "source": [
    "df.head()"
   ]
  },
  {
   "cell_type": "code",
   "execution_count": 4,
   "metadata": {
    "scrolled": true
   },
   "outputs": [
    {
     "data": {
      "text/html": [
       "<div>\n",
       "<style scoped>\n",
       "    .dataframe tbody tr th:only-of-type {\n",
       "        vertical-align: middle;\n",
       "    }\n",
       "\n",
       "    .dataframe tbody tr th {\n",
       "        vertical-align: top;\n",
       "    }\n",
       "\n",
       "    .dataframe thead th {\n",
       "        text-align: right;\n",
       "    }\n",
       "</style>\n",
       "<table border=\"1\" class=\"dataframe\">\n",
       "  <thead>\n",
       "    <tr style=\"text-align: right;\">\n",
       "      <th></th>\n",
       "      <th>Year_of_Release</th>\n",
       "      <th>NA_sales</th>\n",
       "      <th>EU_sales</th>\n",
       "      <th>JP_sales</th>\n",
       "      <th>Other_sales</th>\n",
       "      <th>Critic_Score</th>\n",
       "    </tr>\n",
       "  </thead>\n",
       "  <tbody>\n",
       "    <tr>\n",
       "      <th>count</th>\n",
       "      <td>16446.000000</td>\n",
       "      <td>16715.000000</td>\n",
       "      <td>16715.000000</td>\n",
       "      <td>16715.000000</td>\n",
       "      <td>16715.000000</td>\n",
       "      <td>8137.000000</td>\n",
       "    </tr>\n",
       "    <tr>\n",
       "      <th>mean</th>\n",
       "      <td>2006.484616</td>\n",
       "      <td>0.263377</td>\n",
       "      <td>0.145060</td>\n",
       "      <td>0.077617</td>\n",
       "      <td>0.047342</td>\n",
       "      <td>68.967679</td>\n",
       "    </tr>\n",
       "    <tr>\n",
       "      <th>std</th>\n",
       "      <td>5.877050</td>\n",
       "      <td>0.813604</td>\n",
       "      <td>0.503339</td>\n",
       "      <td>0.308853</td>\n",
       "      <td>0.186731</td>\n",
       "      <td>13.938165</td>\n",
       "    </tr>\n",
       "    <tr>\n",
       "      <th>min</th>\n",
       "      <td>1980.000000</td>\n",
       "      <td>0.000000</td>\n",
       "      <td>0.000000</td>\n",
       "      <td>0.000000</td>\n",
       "      <td>0.000000</td>\n",
       "      <td>13.000000</td>\n",
       "    </tr>\n",
       "    <tr>\n",
       "      <th>25%</th>\n",
       "      <td>2003.000000</td>\n",
       "      <td>0.000000</td>\n",
       "      <td>0.000000</td>\n",
       "      <td>0.000000</td>\n",
       "      <td>0.000000</td>\n",
       "      <td>60.000000</td>\n",
       "    </tr>\n",
       "    <tr>\n",
       "      <th>50%</th>\n",
       "      <td>2007.000000</td>\n",
       "      <td>0.080000</td>\n",
       "      <td>0.020000</td>\n",
       "      <td>0.000000</td>\n",
       "      <td>0.010000</td>\n",
       "      <td>71.000000</td>\n",
       "    </tr>\n",
       "    <tr>\n",
       "      <th>75%</th>\n",
       "      <td>2010.000000</td>\n",
       "      <td>0.240000</td>\n",
       "      <td>0.110000</td>\n",
       "      <td>0.040000</td>\n",
       "      <td>0.030000</td>\n",
       "      <td>79.000000</td>\n",
       "    </tr>\n",
       "    <tr>\n",
       "      <th>max</th>\n",
       "      <td>2016.000000</td>\n",
       "      <td>41.360000</td>\n",
       "      <td>28.960000</td>\n",
       "      <td>10.220000</td>\n",
       "      <td>10.570000</td>\n",
       "      <td>98.000000</td>\n",
       "    </tr>\n",
       "  </tbody>\n",
       "</table>\n",
       "</div>"
      ],
      "text/plain": [
       "       Year_of_Release      NA_sales      EU_sales      JP_sales  \\\n",
       "count     16446.000000  16715.000000  16715.000000  16715.000000   \n",
       "mean       2006.484616      0.263377      0.145060      0.077617   \n",
       "std           5.877050      0.813604      0.503339      0.308853   \n",
       "min        1980.000000      0.000000      0.000000      0.000000   \n",
       "25%        2003.000000      0.000000      0.000000      0.000000   \n",
       "50%        2007.000000      0.080000      0.020000      0.000000   \n",
       "75%        2010.000000      0.240000      0.110000      0.040000   \n",
       "max        2016.000000     41.360000     28.960000     10.220000   \n",
       "\n",
       "        Other_sales  Critic_Score  \n",
       "count  16715.000000   8137.000000  \n",
       "mean       0.047342     68.967679  \n",
       "std        0.186731     13.938165  \n",
       "min        0.000000     13.000000  \n",
       "25%        0.000000     60.000000  \n",
       "50%        0.010000     71.000000  \n",
       "75%        0.030000     79.000000  \n",
       "max       10.570000     98.000000  "
      ]
     },
     "execution_count": 4,
     "metadata": {},
     "output_type": "execute_result"
    }
   ],
   "source": [
    "df.describe()"
   ]
  },
  {
   "cell_type": "markdown",
   "metadata": {},
   "source": [
    "# Подготовка данных\n",
    "- Замените названия столбцов (приведите к нижнему регистру);\n",
    "- Преобразуйте данные в нужные типы. Опишите, в каких столбцах заменили тип данных и почему;\n",
    "- Обработайте пропуски при необходимости:\n",
    "- Объясните, почему заполнили пропуски определённым образом или почему не стали это делать;\n",
    "- Опишите причины, которые могли привести к пропускам;\n",
    "- Обратите внимание на аббревиатуру 'tbd' в столбце с оценкой пользователей. Отдельно разберите это значение и опишите, как его обработать;\n",
    "- Посчитайте суммарные продажи во всех регионах и запишите их в отдельный столбец."
   ]
  },
  {
   "cell_type": "code",
   "execution_count": 5,
   "metadata": {
    "scrolled": true
   },
   "outputs": [
    {
     "data": {
      "text/html": [
       "<div>\n",
       "<style scoped>\n",
       "    .dataframe tbody tr th:only-of-type {\n",
       "        vertical-align: middle;\n",
       "    }\n",
       "\n",
       "    .dataframe tbody tr th {\n",
       "        vertical-align: top;\n",
       "    }\n",
       "\n",
       "    .dataframe thead th {\n",
       "        text-align: right;\n",
       "    }\n",
       "</style>\n",
       "<table border=\"1\" class=\"dataframe\">\n",
       "  <thead>\n",
       "    <tr style=\"text-align: right;\">\n",
       "      <th></th>\n",
       "      <th>name</th>\n",
       "      <th>platform</th>\n",
       "      <th>year_of_release</th>\n",
       "      <th>genre</th>\n",
       "      <th>na_sales</th>\n",
       "      <th>eu_sales</th>\n",
       "      <th>jp_sales</th>\n",
       "      <th>other_sales</th>\n",
       "      <th>critic_score</th>\n",
       "      <th>user_score</th>\n",
       "      <th>rating</th>\n",
       "    </tr>\n",
       "  </thead>\n",
       "  <tbody>\n",
       "    <tr>\n",
       "      <th>0</th>\n",
       "      <td>Wii Sports</td>\n",
       "      <td>Wii</td>\n",
       "      <td>2006.0</td>\n",
       "      <td>Sports</td>\n",
       "      <td>41.36</td>\n",
       "      <td>28.96</td>\n",
       "      <td>3.77</td>\n",
       "      <td>8.45</td>\n",
       "      <td>76.0</td>\n",
       "      <td>8</td>\n",
       "      <td>E</td>\n",
       "    </tr>\n",
       "    <tr>\n",
       "      <th>1</th>\n",
       "      <td>Super Mario Bros.</td>\n",
       "      <td>NES</td>\n",
       "      <td>1985.0</td>\n",
       "      <td>Platform</td>\n",
       "      <td>29.08</td>\n",
       "      <td>3.58</td>\n",
       "      <td>6.81</td>\n",
       "      <td>0.77</td>\n",
       "      <td>NaN</td>\n",
       "      <td>NaN</td>\n",
       "      <td>NaN</td>\n",
       "    </tr>\n",
       "    <tr>\n",
       "      <th>2</th>\n",
       "      <td>Mario Kart Wii</td>\n",
       "      <td>Wii</td>\n",
       "      <td>2008.0</td>\n",
       "      <td>Racing</td>\n",
       "      <td>15.68</td>\n",
       "      <td>12.76</td>\n",
       "      <td>3.79</td>\n",
       "      <td>3.29</td>\n",
       "      <td>82.0</td>\n",
       "      <td>8.3</td>\n",
       "      <td>E</td>\n",
       "    </tr>\n",
       "    <tr>\n",
       "      <th>3</th>\n",
       "      <td>Wii Sports Resort</td>\n",
       "      <td>Wii</td>\n",
       "      <td>2009.0</td>\n",
       "      <td>Sports</td>\n",
       "      <td>15.61</td>\n",
       "      <td>10.93</td>\n",
       "      <td>3.28</td>\n",
       "      <td>2.95</td>\n",
       "      <td>80.0</td>\n",
       "      <td>8</td>\n",
       "      <td>E</td>\n",
       "    </tr>\n",
       "    <tr>\n",
       "      <th>4</th>\n",
       "      <td>Pokemon Red/Pokemon Blue</td>\n",
       "      <td>GB</td>\n",
       "      <td>1996.0</td>\n",
       "      <td>Role-Playing</td>\n",
       "      <td>11.27</td>\n",
       "      <td>8.89</td>\n",
       "      <td>10.22</td>\n",
       "      <td>1.00</td>\n",
       "      <td>NaN</td>\n",
       "      <td>NaN</td>\n",
       "      <td>NaN</td>\n",
       "    </tr>\n",
       "  </tbody>\n",
       "</table>\n",
       "</div>"
      ],
      "text/plain": [
       "                       name platform  year_of_release         genre  na_sales  \\\n",
       "0                Wii Sports      Wii           2006.0        Sports     41.36   \n",
       "1         Super Mario Bros.      NES           1985.0      Platform     29.08   \n",
       "2            Mario Kart Wii      Wii           2008.0        Racing     15.68   \n",
       "3         Wii Sports Resort      Wii           2009.0        Sports     15.61   \n",
       "4  Pokemon Red/Pokemon Blue       GB           1996.0  Role-Playing     11.27   \n",
       "\n",
       "   eu_sales  jp_sales  other_sales  critic_score user_score rating  \n",
       "0     28.96      3.77         8.45          76.0          8      E  \n",
       "1      3.58      6.81         0.77           NaN        NaN    NaN  \n",
       "2     12.76      3.79         3.29          82.0        8.3      E  \n",
       "3     10.93      3.28         2.95          80.0          8      E  \n",
       "4      8.89     10.22         1.00           NaN        NaN    NaN  "
      ]
     },
     "execution_count": 5,
     "metadata": {},
     "output_type": "execute_result"
    }
   ],
   "source": [
    "df = df.rename(columns = str.lower)\n",
    "df.head()"
   ]
  },
  {
   "cell_type": "code",
   "execution_count": 6,
   "metadata": {
    "scrolled": true
   },
   "outputs": [
    {
     "data": {
      "text/plain": [
       "name                  2\n",
       "platform              0\n",
       "year_of_release     269\n",
       "genre                 2\n",
       "na_sales              0\n",
       "eu_sales              0\n",
       "jp_sales              0\n",
       "other_sales           0\n",
       "critic_score       8578\n",
       "user_score         6701\n",
       "rating             6766\n",
       "dtype: int64"
      ]
     },
     "execution_count": 6,
     "metadata": {},
     "output_type": "execute_result"
    }
   ],
   "source": [
    "df.isnull().sum()"
   ]
  },
  {
   "cell_type": "markdown",
   "metadata": {},
   "source": [
    "- В столбце name 2 пропуска (удалим)\n",
    "- year_of_release    269 пропусков (удалим)\n",
    "- critic_score       8578 пропусков (с ними ничего не сделать, можно только заменить на NaN)\n",
    "- user_score         6701 пропуск (с ними ничего не сделать, можно только заменить на NaN)\n",
    "- rating             6766 пропусков (с ними ничего не сделать, можно только заменить на NaN)"
   ]
  },
  {
   "cell_type": "code",
   "execution_count": 7,
   "metadata": {},
   "outputs": [],
   "source": [
    "df['year_of_release'] = df['year_of_release'].astype('Int32', errors='ignore')\n",
    "df.user_score.replace('tbd', np.nan, inplace=True)\n",
    "df.user_score = df.user_score.astype('float')"
   ]
  },
  {
   "cell_type": "code",
   "execution_count": 8,
   "metadata": {},
   "outputs": [
    {
     "name": "stdout",
     "output_type": "stream",
     "text": [
      "<class 'pandas.core.frame.DataFrame'>\n",
      "RangeIndex: 16715 entries, 0 to 16714\n",
      "Data columns (total 11 columns):\n",
      " #   Column           Non-Null Count  Dtype  \n",
      "---  ------           --------------  -----  \n",
      " 0   name             16713 non-null  object \n",
      " 1   platform         16715 non-null  object \n",
      " 2   year_of_release  16446 non-null  Int32  \n",
      " 3   genre            16713 non-null  object \n",
      " 4   na_sales         16715 non-null  float64\n",
      " 5   eu_sales         16715 non-null  float64\n",
      " 6   jp_sales         16715 non-null  float64\n",
      " 7   other_sales      16715 non-null  float64\n",
      " 8   critic_score     8137 non-null   float64\n",
      " 9   user_score       7590 non-null   float64\n",
      " 10  rating           9949 non-null   object \n",
      "dtypes: Int32(1), float64(6), object(4)\n",
      "memory usage: 1.4+ MB\n"
     ]
    }
   ],
   "source": [
    "df.info()"
   ]
  },
  {
   "cell_type": "code",
   "execution_count": 9,
   "metadata": {
    "scrolled": false
   },
   "outputs": [
    {
     "data": {
      "text/plain": [
       "name                  0\n",
       "platform              0\n",
       "year_of_release       0\n",
       "genre                 0\n",
       "na_sales              0\n",
       "eu_sales              0\n",
       "jp_sales              0\n",
       "other_sales           0\n",
       "critic_score       8461\n",
       "user_score         8981\n",
       "rating             6676\n",
       "dtype: int64"
      ]
     },
     "execution_count": 9,
     "metadata": {},
     "output_type": "execute_result"
    }
   ],
   "source": [
    "# пропущеных значений в столбцах name и year of release менее 2% по этому их можно удалить\n",
    "df.dropna(subset=['year_of_release'], inplace=True)\n",
    "df.dropna(subset=['name'], inplace=True)\n",
    "df.dropna(subset=['genre'], inplace=True)\n",
    "df['year_of_release'] = df['year_of_release'].astype(int)\n",
    "df.isnull().sum()"
   ]
  },
  {
   "cell_type": "code",
   "execution_count": 10,
   "metadata": {},
   "outputs": [
    {
     "name": "stdout",
     "output_type": "stream",
     "text": [
      "E       3921\n",
      "T       2905\n",
      "M       1536\n",
      "E10+    1393\n",
      "EC         8\n",
      "K-A        3\n",
      "RP         1\n",
      "AO         1\n",
      "Name: rating, dtype: int64\n"
     ]
    }
   ],
   "source": [
    "# в столбце с рейтингом у нас 6766 пропущеных значений, так же есть с рейтингом К-А, ранее так назывался рейтинг E \n",
    "# (спасибо википедии)\n",
    "print(df['rating'].value_counts())"
   ]
  },
  {
   "cell_type": "markdown",
   "metadata": {},
   "source": [
    "Итак, согласно данным википедии у нас имеются рейтинги:\n",
    "- «EC» («Early childhood») — «Для детей младшего возраста»\n",
    "- «E» («Everyone») — «Для всех»\n",
    "- «E10+» («Everyone 10 and older») — «Для всех от 10 лет и старше»\n",
    "- «T» («Teen») — «Подросткам»\n",
    "- «M» («Mature») — «Для взрослых»\n",
    "- «AO» («Adults Only 18+») — «Только для взрослых\n",
    "- «RP» («Rating Pending») — «Рейтинг ожидается»"
   ]
  },
  {
   "cell_type": "code",
   "execution_count": 11,
   "metadata": {
    "scrolled": true
   },
   "outputs": [
    {
     "name": "stdout",
     "output_type": "stream",
     "text": [
      "E       3924\n",
      "T       2905\n",
      "M       1536\n",
      "E10+    1393\n",
      "EC         8\n",
      "RP         1\n",
      "AO         1\n",
      "Name: rating, dtype: int64\n"
     ]
    }
   ],
   "source": [
    "df = df.replace({'rating':{'K-A':'E'}})\n",
    "print(df['rating'].value_counts())"
   ]
  },
  {
   "cell_type": "code",
   "execution_count": 12,
   "metadata": {},
   "outputs": [],
   "source": [
    "df['rating'] = df['rating'].fillna('no_rating')"
   ]
  },
  {
   "cell_type": "code",
   "execution_count": 13,
   "metadata": {},
   "outputs": [
    {
     "data": {
      "text/html": [
       "<div>\n",
       "<style scoped>\n",
       "    .dataframe tbody tr th:only-of-type {\n",
       "        vertical-align: middle;\n",
       "    }\n",
       "\n",
       "    .dataframe tbody tr th {\n",
       "        vertical-align: top;\n",
       "    }\n",
       "\n",
       "    .dataframe thead th {\n",
       "        text-align: right;\n",
       "    }\n",
       "</style>\n",
       "<table border=\"1\" class=\"dataframe\">\n",
       "  <thead>\n",
       "    <tr style=\"text-align: right;\">\n",
       "      <th></th>\n",
       "      <th>name</th>\n",
       "      <th>platform</th>\n",
       "      <th>year_of_release</th>\n",
       "      <th>genre</th>\n",
       "      <th>na_sales</th>\n",
       "      <th>eu_sales</th>\n",
       "      <th>jp_sales</th>\n",
       "      <th>other_sales</th>\n",
       "      <th>critic_score</th>\n",
       "      <th>user_score</th>\n",
       "      <th>rating</th>\n",
       "      <th>total_sales</th>\n",
       "    </tr>\n",
       "  </thead>\n",
       "  <tbody>\n",
       "    <tr>\n",
       "      <th>0</th>\n",
       "      <td>Wii Sports</td>\n",
       "      <td>Wii</td>\n",
       "      <td>2006</td>\n",
       "      <td>Sports</td>\n",
       "      <td>41.36</td>\n",
       "      <td>28.96</td>\n",
       "      <td>3.77</td>\n",
       "      <td>8.45</td>\n",
       "      <td>76.0</td>\n",
       "      <td>8.0</td>\n",
       "      <td>E</td>\n",
       "      <td>82.54</td>\n",
       "    </tr>\n",
       "    <tr>\n",
       "      <th>1</th>\n",
       "      <td>Super Mario Bros.</td>\n",
       "      <td>NES</td>\n",
       "      <td>1985</td>\n",
       "      <td>Platform</td>\n",
       "      <td>29.08</td>\n",
       "      <td>3.58</td>\n",
       "      <td>6.81</td>\n",
       "      <td>0.77</td>\n",
       "      <td>NaN</td>\n",
       "      <td>NaN</td>\n",
       "      <td>no_rating</td>\n",
       "      <td>40.24</td>\n",
       "    </tr>\n",
       "    <tr>\n",
       "      <th>2</th>\n",
       "      <td>Mario Kart Wii</td>\n",
       "      <td>Wii</td>\n",
       "      <td>2008</td>\n",
       "      <td>Racing</td>\n",
       "      <td>15.68</td>\n",
       "      <td>12.76</td>\n",
       "      <td>3.79</td>\n",
       "      <td>3.29</td>\n",
       "      <td>82.0</td>\n",
       "      <td>8.3</td>\n",
       "      <td>E</td>\n",
       "      <td>35.52</td>\n",
       "    </tr>\n",
       "    <tr>\n",
       "      <th>3</th>\n",
       "      <td>Wii Sports Resort</td>\n",
       "      <td>Wii</td>\n",
       "      <td>2009</td>\n",
       "      <td>Sports</td>\n",
       "      <td>15.61</td>\n",
       "      <td>10.93</td>\n",
       "      <td>3.28</td>\n",
       "      <td>2.95</td>\n",
       "      <td>80.0</td>\n",
       "      <td>8.0</td>\n",
       "      <td>E</td>\n",
       "      <td>32.77</td>\n",
       "    </tr>\n",
       "    <tr>\n",
       "      <th>4</th>\n",
       "      <td>Pokemon Red/Pokemon Blue</td>\n",
       "      <td>GB</td>\n",
       "      <td>1996</td>\n",
       "      <td>Role-Playing</td>\n",
       "      <td>11.27</td>\n",
       "      <td>8.89</td>\n",
       "      <td>10.22</td>\n",
       "      <td>1.00</td>\n",
       "      <td>NaN</td>\n",
       "      <td>NaN</td>\n",
       "      <td>no_rating</td>\n",
       "      <td>31.38</td>\n",
       "    </tr>\n",
       "  </tbody>\n",
       "</table>\n",
       "</div>"
      ],
      "text/plain": [
       "                       name platform  year_of_release         genre  na_sales  \\\n",
       "0                Wii Sports      Wii             2006        Sports     41.36   \n",
       "1         Super Mario Bros.      NES             1985      Platform     29.08   \n",
       "2            Mario Kart Wii      Wii             2008        Racing     15.68   \n",
       "3         Wii Sports Resort      Wii             2009        Sports     15.61   \n",
       "4  Pokemon Red/Pokemon Blue       GB             1996  Role-Playing     11.27   \n",
       "\n",
       "   eu_sales  jp_sales  other_sales  critic_score  user_score     rating  \\\n",
       "0     28.96      3.77         8.45          76.0         8.0          E   \n",
       "1      3.58      6.81         0.77           NaN         NaN  no_rating   \n",
       "2     12.76      3.79         3.29          82.0         8.3          E   \n",
       "3     10.93      3.28         2.95          80.0         8.0          E   \n",
       "4      8.89     10.22         1.00           NaN         NaN  no_rating   \n",
       "\n",
       "   total_sales  \n",
       "0        82.54  \n",
       "1        40.24  \n",
       "2        35.52  \n",
       "3        32.77  \n",
       "4        31.38  "
      ]
     },
     "execution_count": 13,
     "metadata": {},
     "output_type": "execute_result"
    }
   ],
   "source": [
    "# Посчитайте суммарные продажи во всех регионах и запишите их в отдельный столбец.\n",
    "df['total_sales'] = df.na_sales + df.eu_sales + df.jp_sales + df.other_sales\n",
    "df.head()"
   ]
  },
  {
   "cell_type": "markdown",
   "metadata": {},
   "source": [
    "## Вывод:\n",
    "1. Все столбцы переведены в нижний регистр\n",
    "2. У нас пропущены значения в столбцах:\n",
    " -  name - 2 (удаляем)\n",
    " -  year_of_release - 269 (удаляем)\n",
    " -  genre - 2 (удаляем)\n",
    " -  critic_score - 8578 \n",
    " -  user_score - 6701\n",
    " -  rating - 6766 в последних трех столбцах слишком много пропущеных значений, вероятнее всего из-за даты выпуска игры. Удалить и заменить не можем, оставляем как есть.\n",
    "3. Столбец \"год выхода игры\" перевели в целые числа\n",
    "4. Улучшили столбец \"рейтинг игры\", убрали рейтинг К-А\n",
    "5. Создали столбец с суммарными продажами"
   ]
  },
  {
   "cell_type": "markdown",
   "metadata": {},
   "source": [
    "# Исследовательский анализ данных\n",
    "- Посмотрите, сколько игр выпускалось в разные годы. Важны ли данные за все периоды?\n",
    "- Посмотрите, как менялись продажи по платформам. Выберите платформы с наибольшими суммарными продажами и постройте распределение по годам. За какой характерный срок появляются новые и исчезают старые платформы?\n",
    "- Возьмите данные за соответствующий актуальный период. Актуальный период определите самостоятельно в результате исследования предыдущих вопросов. Основной фактор — эти данные помогут построить прогноз на 2017 год.\n",
    "- Не учитывайте в работе данные за предыдущие годы.\n",
    "- Какие платформы лидируют по продажам, растут или падают? Выберите несколько потенциально прибыльных платформ.\n",
    "- Постройте график «ящик с усами» по глобальным продажам игр в разбивке по платформам. Опишите результат.\n",
    "- Посмотрите, как влияют на продажи внутри одной популярной платформы отзывы пользователей и критиков. Постройте диаграмму рассеяния и посчитайте корреляцию между отзывами и продажами. Сформулируйте выводы.\n",
    "- Соотнесите выводы с продажами игр на других платформах.\n",
    "- Посмотрите на общее распределение игр по жанрам. Что можно сказать о самых прибыльных жанрах? Выделяются ли жанры с высокими и низкими продажами?"
   ]
  },
  {
   "cell_type": "code",
   "execution_count": 14,
   "metadata": {},
   "outputs": [
    {
     "data": {
      "text/html": [
       "<div>\n",
       "<style scoped>\n",
       "    .dataframe tbody tr th:only-of-type {\n",
       "        vertical-align: middle;\n",
       "    }\n",
       "\n",
       "    .dataframe tbody tr th {\n",
       "        vertical-align: top;\n",
       "    }\n",
       "\n",
       "    .dataframe thead th {\n",
       "        text-align: right;\n",
       "    }\n",
       "</style>\n",
       "<table border=\"1\" class=\"dataframe\">\n",
       "  <thead>\n",
       "    <tr style=\"text-align: right;\">\n",
       "      <th></th>\n",
       "      <th>name</th>\n",
       "      <th>platform</th>\n",
       "      <th>year_of_release</th>\n",
       "      <th>genre</th>\n",
       "      <th>na_sales</th>\n",
       "      <th>eu_sales</th>\n",
       "      <th>jp_sales</th>\n",
       "      <th>other_sales</th>\n",
       "      <th>critic_score</th>\n",
       "      <th>user_score</th>\n",
       "      <th>rating</th>\n",
       "      <th>total_sales</th>\n",
       "    </tr>\n",
       "  </thead>\n",
       "  <tbody>\n",
       "    <tr>\n",
       "      <th>0</th>\n",
       "      <td>Wii Sports</td>\n",
       "      <td>Wii</td>\n",
       "      <td>2006</td>\n",
       "      <td>Sports</td>\n",
       "      <td>41.36</td>\n",
       "      <td>28.96</td>\n",
       "      <td>3.77</td>\n",
       "      <td>8.45</td>\n",
       "      <td>76.0</td>\n",
       "      <td>8.0</td>\n",
       "      <td>E</td>\n",
       "      <td>82.54</td>\n",
       "    </tr>\n",
       "    <tr>\n",
       "      <th>1</th>\n",
       "      <td>Super Mario Bros.</td>\n",
       "      <td>NES</td>\n",
       "      <td>1985</td>\n",
       "      <td>Platform</td>\n",
       "      <td>29.08</td>\n",
       "      <td>3.58</td>\n",
       "      <td>6.81</td>\n",
       "      <td>0.77</td>\n",
       "      <td>NaN</td>\n",
       "      <td>NaN</td>\n",
       "      <td>no_rating</td>\n",
       "      <td>40.24</td>\n",
       "    </tr>\n",
       "    <tr>\n",
       "      <th>2</th>\n",
       "      <td>Mario Kart Wii</td>\n",
       "      <td>Wii</td>\n",
       "      <td>2008</td>\n",
       "      <td>Racing</td>\n",
       "      <td>15.68</td>\n",
       "      <td>12.76</td>\n",
       "      <td>3.79</td>\n",
       "      <td>3.29</td>\n",
       "      <td>82.0</td>\n",
       "      <td>8.3</td>\n",
       "      <td>E</td>\n",
       "      <td>35.52</td>\n",
       "    </tr>\n",
       "    <tr>\n",
       "      <th>3</th>\n",
       "      <td>Wii Sports Resort</td>\n",
       "      <td>Wii</td>\n",
       "      <td>2009</td>\n",
       "      <td>Sports</td>\n",
       "      <td>15.61</td>\n",
       "      <td>10.93</td>\n",
       "      <td>3.28</td>\n",
       "      <td>2.95</td>\n",
       "      <td>80.0</td>\n",
       "      <td>8.0</td>\n",
       "      <td>E</td>\n",
       "      <td>32.77</td>\n",
       "    </tr>\n",
       "    <tr>\n",
       "      <th>4</th>\n",
       "      <td>Pokemon Red/Pokemon Blue</td>\n",
       "      <td>GB</td>\n",
       "      <td>1996</td>\n",
       "      <td>Role-Playing</td>\n",
       "      <td>11.27</td>\n",
       "      <td>8.89</td>\n",
       "      <td>10.22</td>\n",
       "      <td>1.00</td>\n",
       "      <td>NaN</td>\n",
       "      <td>NaN</td>\n",
       "      <td>no_rating</td>\n",
       "      <td>31.38</td>\n",
       "    </tr>\n",
       "  </tbody>\n",
       "</table>\n",
       "</div>"
      ],
      "text/plain": [
       "                       name platform  year_of_release         genre  na_sales  \\\n",
       "0                Wii Sports      Wii             2006        Sports     41.36   \n",
       "1         Super Mario Bros.      NES             1985      Platform     29.08   \n",
       "2            Mario Kart Wii      Wii             2008        Racing     15.68   \n",
       "3         Wii Sports Resort      Wii             2009        Sports     15.61   \n",
       "4  Pokemon Red/Pokemon Blue       GB             1996  Role-Playing     11.27   \n",
       "\n",
       "   eu_sales  jp_sales  other_sales  critic_score  user_score     rating  \\\n",
       "0     28.96      3.77         8.45          76.0         8.0          E   \n",
       "1      3.58      6.81         0.77           NaN         NaN  no_rating   \n",
       "2     12.76      3.79         3.29          82.0         8.3          E   \n",
       "3     10.93      3.28         2.95          80.0         8.0          E   \n",
       "4      8.89     10.22         1.00           NaN         NaN  no_rating   \n",
       "\n",
       "   total_sales  \n",
       "0        82.54  \n",
       "1        40.24  \n",
       "2        35.52  \n",
       "3        32.77  \n",
       "4        31.38  "
      ]
     },
     "execution_count": 14,
     "metadata": {},
     "output_type": "execute_result"
    }
   ],
   "source": [
    "#Посмотрите, сколько игр выпускалось в разные годы. Важны ли данные за все периоды?\n",
    "df.head()"
   ]
  },
  {
   "cell_type": "code",
   "execution_count": 15,
   "metadata": {},
   "outputs": [
    {
     "data": {
      "image/png": "[encoded data removed]",
      "text/plain": [
       "<Figure size 720x504 with 1 Axes>"
      ]
     },
     "metadata": {
      "needs_background": "light"
     },
     "output_type": "display_data"
    }
   ],
   "source": [
    "df.pivot_table(index='year_of_release', values='name', aggfunc='count')\\\n",
    ".plot(y='name', kind='bar', figsize=(10,7))\n",
    "plt.xlabel('Год выпуска', fontsize=12)\n",
    "plt.ylabel('Количество игр', fontsize=12)\n",
    "plt.title('Сколько игр выпускалось в разные годы', fontsize=13, fontweight='bold')\n",
    "plt.show()"
   ]
  },
  {
   "cell_type": "code",
   "execution_count": 16,
   "metadata": {
    "scrolled": true
   },
   "outputs": [
    {
     "data": {
      "text/plain": [
       "count    16444.000000\n",
       "mean      2006.486256\n",
       "std          5.875525\n",
       "min       1980.000000\n",
       "25%       2003.000000\n",
       "50%       2007.000000\n",
       "75%       2010.000000\n",
       "max       2016.000000\n",
       "Name: year_of_release, dtype: float64"
      ]
     },
     "execution_count": 16,
     "metadata": {},
     "output_type": "execute_result"
    }
   ],
   "source": [
    "df['year_of_release'].describe()"
   ]
  },
  {
   "cell_type": "markdown",
   "metadata": {},
   "source": [
    "До 95 года игрры выпускались в очень маленьком объеме, с 1995 пошел прирост игр и начиная с 00х пошел полноценный рост.\n",
    "Наибольшее количество игр выпускалось в 2008-2009гг, после этого пошел спад.\n",
    "Далее игровая индустрия пошла на спад, вероятнее всего из-за игр на смартфонах."
   ]
  },
  {
   "cell_type": "markdown",
   "metadata": {},
   "source": [
    "ТОП платформы это wii, nes, gb"
   ]
  },
  {
   "cell_type": "code",
   "execution_count": 17,
   "metadata": {},
   "outputs": [
    {
     "data": {
      "text/plain": [
       "<AxesSubplot:ylabel='platform'>"
      ]
     },
     "execution_count": 17,
     "metadata": {},
     "output_type": "execute_result"
    },
    {
     "data": {
      "image/png": "[encoded data removed]",
      "text/plain": [
       "<Figure size 720x504 with 1 Axes>"
      ]
     },
     "metadata": {
      "needs_background": "light"
     },
     "output_type": "display_data"
    }
   ],
   "source": [
    "# изменения продаж по платформам\n",
    "df.pivot_table(index='platform', values='total_sales', aggfunc='sum')\\\n",
    ".sort_values(by='total_sales', ascending=True)\\\n",
    ".plot(y='total_sales', kind='barh',  figsize=(10,7))"
   ]
  },
  {
   "cell_type": "code",
   "execution_count": 18,
   "metadata": {
    "scrolled": true
   },
   "outputs": [
    {
     "data": {
      "text/html": [
       "<div>\n",
       "<style scoped>\n",
       "    .dataframe tbody tr th:only-of-type {\n",
       "        vertical-align: middle;\n",
       "    }\n",
       "\n",
       "    .dataframe tbody tr th {\n",
       "        vertical-align: top;\n",
       "    }\n",
       "\n",
       "    .dataframe thead th {\n",
       "        text-align: right;\n",
       "    }\n",
       "</style>\n",
       "<table border=\"1\" class=\"dataframe\">\n",
       "  <thead>\n",
       "    <tr style=\"text-align: right;\">\n",
       "      <th></th>\n",
       "      <th>total_sales</th>\n",
       "    </tr>\n",
       "    <tr>\n",
       "      <th>platform</th>\n",
       "      <th></th>\n",
       "    </tr>\n",
       "  </thead>\n",
       "  <tbody>\n",
       "    <tr>\n",
       "      <th>PS2</th>\n",
       "      <td>1233.56</td>\n",
       "    </tr>\n",
       "    <tr>\n",
       "      <th>X360</th>\n",
       "      <td>961.24</td>\n",
       "    </tr>\n",
       "    <tr>\n",
       "      <th>PS3</th>\n",
       "      <td>931.34</td>\n",
       "    </tr>\n",
       "    <tr>\n",
       "      <th>Wii</th>\n",
       "      <td>891.18</td>\n",
       "    </tr>\n",
       "    <tr>\n",
       "      <th>DS</th>\n",
       "      <td>802.78</td>\n",
       "    </tr>\n",
       "    <tr>\n",
       "      <th>PS</th>\n",
       "      <td>727.58</td>\n",
       "    </tr>\n",
       "    <tr>\n",
       "      <th>PS4</th>\n",
       "      <td>314.14</td>\n",
       "    </tr>\n",
       "    <tr>\n",
       "      <th>GBA</th>\n",
       "      <td>312.88</td>\n",
       "    </tr>\n",
       "    <tr>\n",
       "      <th>PSP</th>\n",
       "      <td>289.53</td>\n",
       "    </tr>\n",
       "    <tr>\n",
       "      <th>3DS</th>\n",
       "      <td>257.81</td>\n",
       "    </tr>\n",
       "  </tbody>\n",
       "</table>\n",
       "</div>"
      ],
      "text/plain": [
       "          total_sales\n",
       "platform             \n",
       "PS2           1233.56\n",
       "X360           961.24\n",
       "PS3            931.34\n",
       "Wii            891.18\n",
       "DS             802.78\n",
       "PS             727.58\n",
       "PS4            314.14\n",
       "GBA            312.88\n",
       "PSP            289.53\n",
       "3DS            257.81"
      ]
     },
     "execution_count": 18,
     "metadata": {},
     "output_type": "execute_result"
    }
   ],
   "source": [
    "#Выстроим по продажам\n",
    "platform_grouped = df.pivot_table(index='platform', values='total_sales', aggfunc='sum').sort_values(by='total_sales', ascending=False)\n",
    "platform_grouped.head(10)"
   ]
  },
  {
   "cell_type": "code",
   "execution_count": 19,
   "metadata": {
    "scrolled": true
   },
   "outputs": [
    {
     "data": {
      "text/plain": [
       "Text(0.5, 1.0, 'PS2')"
      ]
     },
     "execution_count": 19,
     "metadata": {},
     "output_type": "execute_result"
    },
    {
     "data": {
      "image/png": "[encoded data removed]",
      "text/plain": [
       "<Figure size 720x504 with 1 Axes>"
      ]
     },
     "metadata": {
      "needs_background": "light"
     },
     "output_type": "display_data"
    }
   ],
   "source": [
    "df[df['platform'] == 'PS2'].groupby('year_of_release').agg({'total_sales':'sum'}).plot(kind='bar', figsize=(10,7), grid=True)\n",
    "plt.xlabel('Год выпуска игр')\n",
    "plt.ylabel('Продано за год млн. копий')\n",
    "plt.title('PS2')"
   ]
  },
  {
   "cell_type": "markdown",
   "metadata": {},
   "source": [
    "PS2 поддерживала игры с 2000 по 2011 (11 лет)"
   ]
  },
  {
   "cell_type": "code",
   "execution_count": 20,
   "metadata": {
    "scrolled": true
   },
   "outputs": [
    {
     "data": {
      "text/plain": [
       "Text(0.5, 1.0, 'XBOX 360')"
      ]
     },
     "execution_count": 20,
     "metadata": {},
     "output_type": "execute_result"
    },
    {
     "data": {
      "image/png": "[encoded data removed]",
      "text/plain": [
       "<Figure size 720x504 with 1 Axes>"
      ]
     },
     "metadata": {
      "needs_background": "light"
     },
     "output_type": "display_data"
    }
   ],
   "source": [
    "df[df['platform'] == 'X360'].groupby('year_of_release').agg({'total_sales':'sum'}).plot(kind='bar', figsize=(10,7), grid=True)\n",
    "plt.xlabel('Год выпуска игр')\n",
    "plt.ylabel('Продано за год млн. копий')\n",
    "plt.title('XBOX 360')"
   ]
  },
  {
   "cell_type": "markdown",
   "metadata": {},
   "source": [
    "XBOX 360 поддерживала игры с 2005 по 2016 (11 лет)"
   ]
  },
  {
   "cell_type": "code",
   "execution_count": 21,
   "metadata": {},
   "outputs": [
    {
     "data": {
      "text/plain": [
       "Text(0.5, 1.0, 'PS3')"
      ]
     },
     "execution_count": 21,
     "metadata": {},
     "output_type": "execute_result"
    },
    {
     "data": {
      "image/png": "[encoded data removed]",
      "text/plain": [
       "<Figure size 720x504 with 1 Axes>"
      ]
     },
     "metadata": {
      "needs_background": "light"
     },
     "output_type": "display_data"
    }
   ],
   "source": [
    "df[df['platform'] == 'PS3'].groupby('year_of_release').agg({'total_sales':'sum'}).plot(kind='bar', figsize=(10,7), grid=True)\n",
    "plt.xlabel('Год выпуска игр')\n",
    "plt.ylabel('Продано за год млн. копий')\n",
    "plt.title('PS3')"
   ]
  },
  {
   "cell_type": "markdown",
   "metadata": {},
   "source": [
    "PS3 поддерживала игры с 2006 по 2016 (10 лет)"
   ]
  },
  {
   "cell_type": "code",
   "execution_count": 22,
   "metadata": {
    "scrolled": false
   },
   "outputs": [
    {
     "data": {
      "text/plain": [
       "Text(0.5, 1.0, 'Nintendo Wii')"
      ]
     },
     "execution_count": 22,
     "metadata": {},
     "output_type": "execute_result"
    },
    {
     "data": {
      "image/png": "[encoded data removed]",
      "text/plain": [
       "<Figure size 720x504 with 1 Axes>"
      ]
     },
     "metadata": {
      "needs_background": "light"
     },
     "output_type": "display_data"
    }
   ],
   "source": [
    "df[df['platform'] == 'Wii'].groupby('year_of_release').agg({'total_sales':'sum'}).plot(kind='bar', figsize=(10,7), grid=True)\n",
    "plt.xlabel('Год выпуска игр')\n",
    "plt.ylabel('Продано за год млн. копий')\n",
    "plt.title('Nintendo Wii')"
   ]
  },
  {
   "cell_type": "markdown",
   "metadata": {},
   "source": [
    "Nintendo Wii поддерживала игры с 2006 по 2016 (10 лет)"
   ]
  },
  {
   "cell_type": "code",
   "execution_count": 23,
   "metadata": {
    "scrolled": false
   },
   "outputs": [
    {
     "data": {
      "text/plain": [
       "Text(0.5, 1.0, 'Nintendo DS')"
      ]
     },
     "execution_count": 23,
     "metadata": {},
     "output_type": "execute_result"
    },
    {
     "data": {
      "image/png": "[encoded data removed]",
      "text/plain": [
       "<Figure size 720x504 with 1 Axes>"
      ]
     },
     "metadata": {
      "needs_background": "light"
     },
     "output_type": "display_data"
    }
   ],
   "source": [
    "df[df['platform'] == 'DS'].groupby('year_of_release').agg({'total_sales':'sum'}).plot(kind='bar', figsize=(10,7), grid=True)\n",
    "plt.xlabel('Год выпуска игр')\n",
    "plt.ylabel('Продано за год млн. копий')\n",
    "plt.title('Nintendo DS')"
   ]
  },
  {
   "cell_type": "markdown",
   "metadata": {},
   "source": [
    "Nintendo DS поддерживала игры с 2004 по 2013 (9 лет)"
   ]
  },
  {
   "cell_type": "code",
   "execution_count": 24,
   "metadata": {
    "scrolled": true
   },
   "outputs": [
    {
     "data": {
      "text/plain": [
       "Text(0.5, 1.0, 'PS1')"
      ]
     },
     "execution_count": 24,
     "metadata": {},
     "output_type": "execute_result"
    },
    {
     "data": {
      "image/png": "[encoded data removed]",
      "text/plain": [
       "<Figure size 720x504 with 1 Axes>"
      ]
     },
     "metadata": {
      "needs_background": "light"
     },
     "output_type": "display_data"
    }
   ],
   "source": [
    "df[df['platform'] == 'PS'].groupby('year_of_release').agg({'total_sales':'sum'}).plot(kind='bar', figsize=(10,7), grid=True)\n",
    "plt.xlabel('Год выпуска игр')\n",
    "plt.ylabel('Продано за год млн. копий')\n",
    "plt.title('PS1')"
   ]
  },
  {
   "cell_type": "markdown",
   "metadata": {},
   "source": [
    "PS1 поддерживала игры с 1994 по 2003 (9 лет)"
   ]
  },
  {
   "cell_type": "markdown",
   "metadata": {},
   "source": [
    "## Вывод:\n",
    "В среднем консоль \"живет\" 10 лет, но топовые продажи показывает всего 5-7 лет.\n",
    "В начале идет постепенный рост по причине дороговизны консоли и небольшого количества игр, после пика через несколько лет выходит новая консоль."
   ]
  },
  {
   "cell_type": "markdown",
   "metadata": {},
   "source": [
    "* Возьмите данные за соответствующий актуальный период. Актуальный период определите самостоятельно в результате исследования предыдущих вопросов. Основной фактор — эти данные помогут построить прогноз на 2017 год.\n",
    "* Не учитывайте в работе данные за предыдущие годы.\n",
    "* Какие платформы лидируют по продажам, растут или падают? Выберите несколько потенциально прибыльных платформ."
   ]
  },
  {
   "cell_type": "code",
   "execution_count": 25,
   "metadata": {},
   "outputs": [
    {
     "data": {
      "text/plain": [
       "<AxesSubplot:ylabel='platform'>"
      ]
     },
     "execution_count": 25,
     "metadata": {},
     "output_type": "execute_result"
    },
    {
     "data": {
      "image/png": "[encoded data removed]",
      "text/plain": [
       "<Figure size 720x504 with 1 Axes>"
      ]
     },
     "metadata": {
      "needs_background": "light"
     },
     "output_type": "display_data"
    }
   ],
   "source": [
    "df.query('year_of_release >= 2014')\\\n",
    ".pivot_table(index='platform', values='total_sales', aggfunc='sum')\\\n",
    ".sort_values(by='total_sales', ascending=True)\\\n",
    ".plot(y='total_sales', kind='barh', figsize=(10,7), grid = True)"
   ]
  },
  {
   "cell_type": "markdown",
   "metadata": {},
   "source": [
    "С 14 по 16 года самыми популяными платформиами были ps4, xone, 3ds, ps3, x360, wiiu, pc, psv, wii, psp/\n",
    "ps3, x360, wii и psp доживают свои последние годы, так что на них можно не заострять внимания.\n",
    "Создадим датасет с \"амбициозными платформами\""
   ]
  },
  {
   "cell_type": "code",
   "execution_count": 26,
   "metadata": {},
   "outputs": [
    {
     "data": {
      "text/html": [
       "<div>\n",
       "<style scoped>\n",
       "    .dataframe tbody tr th:only-of-type {\n",
       "        vertical-align: middle;\n",
       "    }\n",
       "\n",
       "    .dataframe tbody tr th {\n",
       "        vertical-align: top;\n",
       "    }\n",
       "\n",
       "    .dataframe thead th {\n",
       "        text-align: right;\n",
       "    }\n",
       "</style>\n",
       "<table border=\"1\" class=\"dataframe\">\n",
       "  <thead>\n",
       "    <tr style=\"text-align: right;\">\n",
       "      <th></th>\n",
       "      <th>name</th>\n",
       "      <th>platform</th>\n",
       "      <th>year_of_release</th>\n",
       "      <th>genre</th>\n",
       "      <th>na_sales</th>\n",
       "      <th>eu_sales</th>\n",
       "      <th>jp_sales</th>\n",
       "      <th>other_sales</th>\n",
       "      <th>critic_score</th>\n",
       "      <th>user_score</th>\n",
       "      <th>rating</th>\n",
       "      <th>total_sales</th>\n",
       "    </tr>\n",
       "  </thead>\n",
       "  <tbody>\n",
       "    <tr>\n",
       "      <th>31</th>\n",
       "      <td>Call of Duty: Black Ops 3</td>\n",
       "      <td>PS4</td>\n",
       "      <td>2015</td>\n",
       "      <td>Shooter</td>\n",
       "      <td>6.03</td>\n",
       "      <td>5.86</td>\n",
       "      <td>0.36</td>\n",
       "      <td>2.38</td>\n",
       "      <td>NaN</td>\n",
       "      <td>NaN</td>\n",
       "      <td>no_rating</td>\n",
       "      <td>14.63</td>\n",
       "    </tr>\n",
       "    <tr>\n",
       "      <th>42</th>\n",
       "      <td>Grand Theft Auto V</td>\n",
       "      <td>PS4</td>\n",
       "      <td>2014</td>\n",
       "      <td>Action</td>\n",
       "      <td>3.96</td>\n",
       "      <td>6.31</td>\n",
       "      <td>0.38</td>\n",
       "      <td>1.97</td>\n",
       "      <td>97.0</td>\n",
       "      <td>8.3</td>\n",
       "      <td>M</td>\n",
       "      <td>12.62</td>\n",
       "    </tr>\n",
       "    <tr>\n",
       "      <th>47</th>\n",
       "      <td>Pokemon Omega Ruby/Pokemon Alpha Sapphire</td>\n",
       "      <td>3DS</td>\n",
       "      <td>2014</td>\n",
       "      <td>Role-Playing</td>\n",
       "      <td>4.35</td>\n",
       "      <td>3.49</td>\n",
       "      <td>3.10</td>\n",
       "      <td>0.74</td>\n",
       "      <td>NaN</td>\n",
       "      <td>NaN</td>\n",
       "      <td>no_rating</td>\n",
       "      <td>11.68</td>\n",
       "    </tr>\n",
       "    <tr>\n",
       "      <th>77</th>\n",
       "      <td>FIFA 16</td>\n",
       "      <td>PS4</td>\n",
       "      <td>2015</td>\n",
       "      <td>Sports</td>\n",
       "      <td>1.12</td>\n",
       "      <td>6.12</td>\n",
       "      <td>0.06</td>\n",
       "      <td>1.28</td>\n",
       "      <td>82.0</td>\n",
       "      <td>4.3</td>\n",
       "      <td>E</td>\n",
       "      <td>8.58</td>\n",
       "    </tr>\n",
       "    <tr>\n",
       "      <th>87</th>\n",
       "      <td>Star Wars Battlefront (2015)</td>\n",
       "      <td>PS4</td>\n",
       "      <td>2015</td>\n",
       "      <td>Shooter</td>\n",
       "      <td>2.99</td>\n",
       "      <td>3.49</td>\n",
       "      <td>0.22</td>\n",
       "      <td>1.28</td>\n",
       "      <td>NaN</td>\n",
       "      <td>NaN</td>\n",
       "      <td>no_rating</td>\n",
       "      <td>7.98</td>\n",
       "    </tr>\n",
       "  </tbody>\n",
       "</table>\n",
       "</div>"
      ],
      "text/plain": [
       "                                         name platform  year_of_release  \\\n",
       "31                  Call of Duty: Black Ops 3      PS4             2015   \n",
       "42                         Grand Theft Auto V      PS4             2014   \n",
       "47  Pokemon Omega Ruby/Pokemon Alpha Sapphire      3DS             2014   \n",
       "77                                    FIFA 16      PS4             2015   \n",
       "87               Star Wars Battlefront (2015)      PS4             2015   \n",
       "\n",
       "           genre  na_sales  eu_sales  jp_sales  other_sales  critic_score  \\\n",
       "31       Shooter      6.03      5.86      0.36         2.38           NaN   \n",
       "42        Action      3.96      6.31      0.38         1.97          97.0   \n",
       "47  Role-Playing      4.35      3.49      3.10         0.74           NaN   \n",
       "77        Sports      1.12      6.12      0.06         1.28          82.0   \n",
       "87       Shooter      2.99      3.49      0.22         1.28           NaN   \n",
       "\n",
       "    user_score     rating  total_sales  \n",
       "31         NaN  no_rating        14.63  \n",
       "42         8.3          M        12.62  \n",
       "47         NaN  no_rating        11.68  \n",
       "77         4.3          E         8.58  \n",
       "87         NaN  no_rating         7.98  "
      ]
     },
     "metadata": {},
     "output_type": "display_data"
    }
   ],
   "source": [
    "top_df = df.query('year_of_release >= 2014 and platform == [\"PS4\", \"XOne\", \"WiiU\", \"3DS\", \"PC\", \"PSV\"]')\n",
    "display(top_df.head())"
   ]
  },
  {
   "cell_type": "code",
   "execution_count": 27,
   "metadata": {},
   "outputs": [
    {
     "data": {
      "image/png": "[encoded data removed]",
      "text/plain": [
       "<Figure size 720x576 with 1 Axes>"
      ]
     },
     "metadata": {
      "needs_background": "light"
     },
     "output_type": "display_data"
    }
   ],
   "source": [
    "top_df.pivot_table(index = 'year_of_release', columns='platform', values='total_sales', aggfunc='sum')\\\n",
    ".plot(figsize=(10,8), grid=True)\n",
    "plt.show()"
   ]
  },
  {
   "cell_type": "markdown",
   "metadata": {},
   "source": [
    "Как видно по графику, к 2015г только 2 платформы шли на подъем, это ps4 и xbox one, остальные плавно шли на спад.\n",
    "    Но как я помню ps5 вышла тоьлко в 2020г и актуальность платформы ps4 была велика до этого момента. Хотя в текущей ситуации мы видим чтто в 2021 и 22гг стоимость ps4 приблизительно такая же как и в старте продаж)) "
   ]
  },
  {
   "cell_type": "markdown",
   "metadata": {},
   "source": [
    "- Постройте график «ящик с усами» по глобальным продажам игр в разбивке по платформам. Опишите результат."
   ]
  },
  {
   "cell_type": "code",
   "execution_count": 28,
   "metadata": {},
   "outputs": [
    {
     "data": {
      "text/plain": [
       "(0.0, 2.0)"
      ]
     },
     "execution_count": 28,
     "metadata": {},
     "output_type": "execute_result"
    },
    {
     "data": {
      "image/png": "[encoded data removed]",
      "text/plain": [
       "<Figure size 1080x720 with 1 Axes>"
      ]
     },
     "metadata": {
      "needs_background": "light"
     },
     "output_type": "display_data"
    }
   ],
   "source": [
    "plt.figure(figsize=(15,10))\n",
    "sns.boxplot(data=top_df, x='platform', y='total_sales')\n",
    "plt.title('Boxplot', fontsize=13, fontweight='bold')\n",
    "plt.ylim([0, 2])\n"
   ]
  },
  {
   "cell_type": "markdown",
   "metadata": {},
   "source": [
    "По ящику с усами видно что у ps4 продажи больше чем у других платфоррм, но при этом медиана у xbox one и wiiu выше.\n"
   ]
  },
  {
   "cell_type": "markdown",
   "metadata": {},
   "source": [
    "- Посмотрите, как влияют на продажи внутри одной популярной платформы отзывы пользователей и критиков. Постройте диаграмму рассеяния и посчитайте корреляцию между отзывами и продажами. Сформулируйте выводы."
   ]
  },
  {
   "cell_type": "code",
   "execution_count": 29,
   "metadata": {},
   "outputs": [
    {
     "data": {
      "image/png": "[encoded data removed]",
      "text/plain": [
       "<Figure size 864x576 with 1 Axes>"
      ]
     },
     "metadata": {
      "needs_background": "light"
     },
     "output_type": "display_data"
    }
   ],
   "source": [
    "plt.figure(figsize=(12,8))\n",
    "sns.scatterplot(x='user_score', y='total_sales', data=df.query('platform == \"PS4\"'))\n",
    "plt.xlabel('Оценка игроков', fontsize=10)\n",
    "plt.ylabel('Продажи',fontsize=10)\n",
    "plt.show()"
   ]
  },
  {
   "cell_type": "markdown",
   "metadata": {},
   "source": [
    "По диаграмме рассеяния не видно особой зависимости между оценками игроков и продажами"
   ]
  },
  {
   "cell_type": "code",
   "execution_count": 30,
   "metadata": {},
   "outputs": [
    {
     "data": {
      "image/png": "[encoded data removed]",
      "text/plain": [
       "<Figure size 864x576 with 1 Axes>"
      ]
     },
     "metadata": {
      "needs_background": "light"
     },
     "output_type": "display_data"
    }
   ],
   "source": [
    "plt.figure(figsize=(12,8))\n",
    "sns.scatterplot(x='critic_score', y='total_sales', data=df.query('platform == \"PS4\"'))\n",
    "plt.xlabel('Оценка игроков', fontsize=10)\n",
    "plt.ylabel('Продажи',fontsize=10)\n",
    "plt.show()"
   ]
  },
  {
   "cell_type": "markdown",
   "metadata": {},
   "source": [
    "Зависимость между оценками критиов и продажами имеется. Рассмотрим куорреляцию"
   ]
  },
  {
   "cell_type": "code",
   "execution_count": 31,
   "metadata": {},
   "outputs": [
    {
     "data": {
      "text/html": [
       "<div>\n",
       "<style scoped>\n",
       "    .dataframe tbody tr th:only-of-type {\n",
       "        vertical-align: middle;\n",
       "    }\n",
       "\n",
       "    .dataframe tbody tr th {\n",
       "        vertical-align: top;\n",
       "    }\n",
       "\n",
       "    .dataframe thead th {\n",
       "        text-align: right;\n",
       "    }\n",
       "</style>\n",
       "<table border=\"1\" class=\"dataframe\">\n",
       "  <thead>\n",
       "    <tr style=\"text-align: right;\">\n",
       "      <th></th>\n",
       "      <th>total_sales</th>\n",
       "      <th>critic_score</th>\n",
       "      <th>user_score</th>\n",
       "    </tr>\n",
       "  </thead>\n",
       "  <tbody>\n",
       "    <tr>\n",
       "      <th>total_sales</th>\n",
       "      <td>1.000000</td>\n",
       "      <td>0.406568</td>\n",
       "      <td>-0.031957</td>\n",
       "    </tr>\n",
       "    <tr>\n",
       "      <th>critic_score</th>\n",
       "      <td>0.406568</td>\n",
       "      <td>1.000000</td>\n",
       "      <td>0.557654</td>\n",
       "    </tr>\n",
       "    <tr>\n",
       "      <th>user_score</th>\n",
       "      <td>-0.031957</td>\n",
       "      <td>0.557654</td>\n",
       "      <td>1.000000</td>\n",
       "    </tr>\n",
       "  </tbody>\n",
       "</table>\n",
       "</div>"
      ],
      "text/plain": [
       "              total_sales  critic_score  user_score\n",
       "total_sales      1.000000      0.406568   -0.031957\n",
       "critic_score     0.406568      1.000000    0.557654\n",
       "user_score      -0.031957      0.557654    1.000000"
      ]
     },
     "execution_count": 31,
     "metadata": {},
     "output_type": "execute_result"
    }
   ],
   "source": [
    "df.query('platform == \"PS4\"')[['total_sales', 'critic_score', 'user_score']].corr()"
   ]
  },
  {
   "cell_type": "markdown",
   "metadata": {},
   "source": [
    "## Вывод: \n",
    "По корреляции видно что между оценками пользователей и продажами нет зависимости. Оценки критиков оказывают не существенное влиянике на продажи. Т.е. оценки вообще практически не влияют на продапжи"
   ]
  },
  {
   "cell_type": "markdown",
   "metadata": {},
   "source": [
    "\n",
    "- Соотнесите выводы с продажами игр на других платформах.\n",
    "- Посмотрите на общее распределение игр по жанрам. Что можно сказать о самых прибыльных жанрах? Выделяются ли жанры с высокими и низкими продажами?"
   ]
  },
  {
   "cell_type": "code",
   "execution_count": 32,
   "metadata": {},
   "outputs": [
    {
     "data": {
      "image/png": "[encoded data removed]",
      "text/plain": [
       "<Figure size 1080x720 with 1 Axes>"
      ]
     },
     "metadata": {
      "needs_background": "light"
     },
     "output_type": "display_data"
    }
   ],
   "source": [
    "plt.figure(figsize=(15,10))\n",
    "sns.scatterplot(x='critic_score', y='total_sales', data=df.query('platform != \"PS4\"'))\n",
    "plt.title('Оценки критиков на других платформах', fontsize=15)\n",
    "plt.xlabel('Оценка критиков')\n",
    "plt.ylabel('Продажи')\n",
    "plt.ylim([0,20])\n",
    "plt.show()"
   ]
  },
  {
   "cell_type": "code",
   "execution_count": 33,
   "metadata": {},
   "outputs": [
    {
     "data": {
      "text/html": [
       "<div>\n",
       "<style scoped>\n",
       "    .dataframe tbody tr th:only-of-type {\n",
       "        vertical-align: middle;\n",
       "    }\n",
       "\n",
       "    .dataframe tbody tr th {\n",
       "        vertical-align: top;\n",
       "    }\n",
       "\n",
       "    .dataframe thead th {\n",
       "        text-align: right;\n",
       "    }\n",
       "</style>\n",
       "<table border=\"1\" class=\"dataframe\">\n",
       "  <thead>\n",
       "    <tr style=\"text-align: right;\">\n",
       "      <th></th>\n",
       "      <th>total_sales</th>\n",
       "      <th>critic_score</th>\n",
       "      <th>user_score</th>\n",
       "    </tr>\n",
       "  </thead>\n",
       "  <tbody>\n",
       "    <tr>\n",
       "      <th>total_sales</th>\n",
       "      <td>1.000000</td>\n",
       "      <td>0.240339</td>\n",
       "      <td>0.092717</td>\n",
       "    </tr>\n",
       "    <tr>\n",
       "      <th>critic_score</th>\n",
       "      <td>0.240339</td>\n",
       "      <td>1.000000</td>\n",
       "      <td>0.583367</td>\n",
       "    </tr>\n",
       "    <tr>\n",
       "      <th>user_score</th>\n",
       "      <td>0.092717</td>\n",
       "      <td>0.583367</td>\n",
       "      <td>1.000000</td>\n",
       "    </tr>\n",
       "  </tbody>\n",
       "</table>\n",
       "</div>"
      ],
      "text/plain": [
       "              total_sales  critic_score  user_score\n",
       "total_sales      1.000000      0.240339    0.092717\n",
       "critic_score     0.240339      1.000000    0.583367\n",
       "user_score       0.092717      0.583367    1.000000"
      ]
     },
     "execution_count": 33,
     "metadata": {},
     "output_type": "execute_result"
    }
   ],
   "source": [
    "df.query('platform != \"PS4\"')[['total_sales', 'critic_score', 'user_score']].corr()"
   ]
  },
  {
   "cell_type": "markdown",
   "metadata": {},
   "source": [
    "По корреляции видно что и по другим платформам отсутствует зависимсость между оценками и продажами"
   ]
  },
  {
   "cell_type": "code",
   "execution_count": 34,
   "metadata": {},
   "outputs": [
    {
     "data": {
      "image/png": "[encoded data removed]",
      "text/plain": [
       "<Figure size 720x504 with 1 Axes>"
      ]
     },
     "metadata": {
      "needs_background": "light"
     },
     "output_type": "display_data"
    }
   ],
   "source": [
    "top_df.pivot_table(index='genre', values='total_sales', aggfunc='median').sort_values(by='total_sales', ascending=False)\\\n",
    ".plot(y='total_sales', kind='bar', color=np.random.rand(12,3), figsize=(10,7))\n",
    "plt.xlabel('Жанры', fontsize=12)\n",
    "plt.ylabel('Продажи', fontsize=12)\n",
    "plt.title('Количество продаж игр по жанрам', fontsize=12)\n",
    "plt.show()"
   ]
  },
  {
   "cell_type": "markdown",
   "metadata": {},
   "source": [
    "- Старый комментарий: По продажам ТОП жанр это Экшен. За ним идет шутеры и РПГ. Логично предположить что данные жанры лучше рекламируются и чаще выходят, за счет этого и продажи лучше\n",
    "- Новый коммент: используя медийное значение ярко выражены продажи в жанре шутер. Логично, т.к. данный жанр хорошо продается во всех регионах. Далее идет спорт"
   ]
  },
  {
   "cell_type": "markdown",
   "metadata": {},
   "source": [
    "## Вывод:\n",
    "До 95г выпускались игры в небольшом количестве. Дале пошел рост и с 2002 года был огромный скачок из-за консоли PS2.\n",
    "Пик релизов был в 2008-2009гг, далее идет спад, вероятнее всего из-за создания мобильных игр\n",
    "Самые популярные платформы с 2014 по 2016гг были: Xbox 1, ps3, wii, ds, ps1, ps4, 3ds\n",
    "Больше всего продапж было у PS4/\n",
    "Между оценками пользователей, критиков и продажами нет взаимосвязи\n",
    "Самые поулярные жанры - экшен, шутеры и рпг."
   ]
  },
  {
   "cell_type": "markdown",
   "metadata": {},
   "source": [
    "# Составьте портрет пользователя каждого региона\n",
    "- Определите для пользователя каждого региона (NA, EU, JP):\n",
    "- Самые популярные платформы (топ-5). Опишите различия в долях продаж.\n",
    "- Самые популярные жанры (топ-5). Поясните разницу.\n",
    "- Влияет ли рейтинг ESRB на продажи в отдельном регионе?"
   ]
  },
  {
   "cell_type": "markdown",
   "metadata": {},
   "source": [
    "Самые популярные платформы (топ-5). Опишите различия в долях продаж."
   ]
  },
  {
   "cell_type": "code",
   "execution_count": 35,
   "metadata": {},
   "outputs": [
    {
     "data": {
      "text/html": [
       "<div>\n",
       "<style scoped>\n",
       "    .dataframe tbody tr th:only-of-type {\n",
       "        vertical-align: middle;\n",
       "    }\n",
       "\n",
       "    .dataframe tbody tr th {\n",
       "        vertical-align: top;\n",
       "    }\n",
       "\n",
       "    .dataframe thead th {\n",
       "        text-align: right;\n",
       "    }\n",
       "</style>\n",
       "<table border=\"1\" class=\"dataframe\">\n",
       "  <thead>\n",
       "    <tr style=\"text-align: right;\">\n",
       "      <th></th>\n",
       "      <th>eu_sales</th>\n",
       "      <th>jp_sales</th>\n",
       "      <th>na_sales</th>\n",
       "    </tr>\n",
       "    <tr>\n",
       "      <th>platform</th>\n",
       "      <th></th>\n",
       "      <th></th>\n",
       "      <th></th>\n",
       "    </tr>\n",
       "  </thead>\n",
       "  <tbody>\n",
       "    <tr>\n",
       "      <th>3DS</th>\n",
       "      <td>16.12</td>\n",
       "      <td>44.24</td>\n",
       "      <td>22.64</td>\n",
       "    </tr>\n",
       "    <tr>\n",
       "      <th>PC</th>\n",
       "      <td>17.97</td>\n",
       "      <td>0.00</td>\n",
       "      <td>7.23</td>\n",
       "    </tr>\n",
       "    <tr>\n",
       "      <th>PS4</th>\n",
       "      <td>130.04</td>\n",
       "      <td>15.02</td>\n",
       "      <td>98.61</td>\n",
       "    </tr>\n",
       "    <tr>\n",
       "      <th>PSV</th>\n",
       "      <td>3.53</td>\n",
       "      <td>14.54</td>\n",
       "      <td>2.52</td>\n",
       "    </tr>\n",
       "    <tr>\n",
       "      <th>WiiU</th>\n",
       "      <td>13.15</td>\n",
       "      <td>7.31</td>\n",
       "      <td>19.36</td>\n",
       "    </tr>\n",
       "    <tr>\n",
       "      <th>XOne</th>\n",
       "      <td>46.25</td>\n",
       "      <td>0.32</td>\n",
       "      <td>81.27</td>\n",
       "    </tr>\n",
       "  </tbody>\n",
       "</table>\n",
       "</div>"
      ],
      "text/plain": [
       "          eu_sales  jp_sales  na_sales\n",
       "platform                              \n",
       "3DS          16.12     44.24     22.64\n",
       "PC           17.97      0.00      7.23\n",
       "PS4         130.04     15.02     98.61\n",
       "PSV           3.53     14.54      2.52\n",
       "WiiU         13.15      7.31     19.36\n",
       "XOne         46.25      0.32     81.27"
      ]
     },
     "metadata": {},
     "output_type": "display_data"
    }
   ],
   "source": [
    "regions_df = top_df.pivot_table(index='platform', values=('na_sales', 'eu_sales', 'jp_sales'), aggfunc='sum')\n",
    "display(regions_df)"
   ]
  },
  {
   "cell_type": "code",
   "execution_count": 36,
   "metadata": {},
   "outputs": [
    {
     "data": {
      "image/png": "[encoded data removed]",
      "text/plain": [
       "<Figure size 1800x1080 with 3 Axes>"
      ]
     },
     "metadata": {
      "needs_background": "light"
     },
     "output_type": "display_data"
    }
   ],
   "source": [
    "fig, axes = plt.subplots(1, 3, figsize=(25, 15))\n",
    "\n",
    "regions_df.sort_values(by ='na_sales', ascending=False).head(5)\\\n",
    ".plot(ax=axes[0], y='na_sales', kind='bar', title='na_sales')\n",
    "\n",
    "regions_df.sort_values(by ='eu_sales', ascending=False).head(5)\\\n",
    ".plot(ax=axes[1], y='eu_sales', kind='bar', title='eu_sales')\n",
    "\n",
    "regions_df.sort_values(by ='jp_sales', ascending=False).head(5)\\\n",
    ".plot(ax=axes[2], y='jp_sales', kind='bar', title='jp_sales')\n",
    "plt.show()"
   ]
  },
  {
   "cell_type": "markdown",
   "metadata": {},
   "source": [
    "Для американского и европейского регионов самая популярная консоль - PS4, в то время как в японии это Nintendo 3ds, вероятнее всего в Японии чаще используют портативные консоли. В Америке большая игровая индустрия направленав на PS и XBOX ONE, ну а европа следует за веянием американской моды"
   ]
  },
  {
   "cell_type": "markdown",
   "metadata": {},
   "source": [
    "Самые популярные жанры (топ-5). Поясните разницу."
   ]
  },
  {
   "cell_type": "code",
   "execution_count": 37,
   "metadata": {},
   "outputs": [
    {
     "data": {
      "text/html": [
       "<div>\n",
       "<style scoped>\n",
       "    .dataframe tbody tr th:only-of-type {\n",
       "        vertical-align: middle;\n",
       "    }\n",
       "\n",
       "    .dataframe tbody tr th {\n",
       "        vertical-align: top;\n",
       "    }\n",
       "\n",
       "    .dataframe thead th {\n",
       "        text-align: right;\n",
       "    }\n",
       "</style>\n",
       "<table border=\"1\" class=\"dataframe\">\n",
       "  <thead>\n",
       "    <tr style=\"text-align: right;\">\n",
       "      <th></th>\n",
       "      <th>eu_sales</th>\n",
       "      <th>jp_sales</th>\n",
       "      <th>na_sales</th>\n",
       "    </tr>\n",
       "    <tr>\n",
       "      <th>genre</th>\n",
       "      <th></th>\n",
       "      <th></th>\n",
       "      <th></th>\n",
       "    </tr>\n",
       "  </thead>\n",
       "  <tbody>\n",
       "    <tr>\n",
       "      <th>Action</th>\n",
       "      <td>63.49</td>\n",
       "      <td>24.71</td>\n",
       "      <td>60.16</td>\n",
       "    </tr>\n",
       "    <tr>\n",
       "      <th>Adventure</th>\n",
       "      <td>4.96</td>\n",
       "      <td>3.18</td>\n",
       "      <td>3.92</td>\n",
       "    </tr>\n",
       "    <tr>\n",
       "      <th>Fighting</th>\n",
       "      <td>6.03</td>\n",
       "      <td>5.01</td>\n",
       "      <td>11.23</td>\n",
       "    </tr>\n",
       "    <tr>\n",
       "      <th>Misc</th>\n",
       "      <td>8.38</td>\n",
       "      <td>5.17</td>\n",
       "      <td>10.26</td>\n",
       "    </tr>\n",
       "    <tr>\n",
       "      <th>Platform</th>\n",
       "      <td>6.35</td>\n",
       "      <td>2.67</td>\n",
       "      <td>6.45</td>\n",
       "    </tr>\n",
       "    <tr>\n",
       "      <th>Puzzle</th>\n",
       "      <td>0.52</td>\n",
       "      <td>0.89</td>\n",
       "      <td>0.65</td>\n",
       "    </tr>\n",
       "    <tr>\n",
       "      <th>Racing</th>\n",
       "      <td>12.92</td>\n",
       "      <td>1.64</td>\n",
       "      <td>7.72</td>\n",
       "    </tr>\n",
       "    <tr>\n",
       "      <th>Role-Playing</th>\n",
       "      <td>25.94</td>\n",
       "      <td>28.70</td>\n",
       "      <td>29.74</td>\n",
       "    </tr>\n",
       "    <tr>\n",
       "      <th>Shooter</th>\n",
       "      <td>56.23</td>\n",
       "      <td>4.21</td>\n",
       "      <td>66.29</td>\n",
       "    </tr>\n",
       "    <tr>\n",
       "      <th>Simulation</th>\n",
       "      <td>6.97</td>\n",
       "      <td>2.29</td>\n",
       "      <td>2.27</td>\n",
       "    </tr>\n",
       "    <tr>\n",
       "      <th>Sports</th>\n",
       "      <td>33.48</td>\n",
       "      <td>2.07</td>\n",
       "      <td>31.96</td>\n",
       "    </tr>\n",
       "    <tr>\n",
       "      <th>Strategy</th>\n",
       "      <td>1.79</td>\n",
       "      <td>0.89</td>\n",
       "      <td>0.98</td>\n",
       "    </tr>\n",
       "  </tbody>\n",
       "</table>\n",
       "</div>"
      ],
      "text/plain": [
       "              eu_sales  jp_sales  na_sales\n",
       "genre                                     \n",
       "Action           63.49     24.71     60.16\n",
       "Adventure         4.96      3.18      3.92\n",
       "Fighting          6.03      5.01     11.23\n",
       "Misc              8.38      5.17     10.26\n",
       "Platform          6.35      2.67      6.45\n",
       "Puzzle            0.52      0.89      0.65\n",
       "Racing           12.92      1.64      7.72\n",
       "Role-Playing     25.94     28.70     29.74\n",
       "Shooter          56.23      4.21     66.29\n",
       "Simulation        6.97      2.29      2.27\n",
       "Sports           33.48      2.07     31.96\n",
       "Strategy          1.79      0.89      0.98"
      ]
     },
     "metadata": {},
     "output_type": "display_data"
    }
   ],
   "source": [
    "regions_genre_df = top_df.pivot_table(index='genre', values=('na_sales', 'eu_sales', 'jp_sales'), aggfunc='sum')\n",
    "display(regions_genre_df)"
   ]
  },
  {
   "cell_type": "code",
   "execution_count": 38,
   "metadata": {},
   "outputs": [
    {
     "data": {
      "image/png": "[encoded data removed]",
      "text/plain": [
       "<Figure size 1800x864 with 3 Axes>"
      ]
     },
     "metadata": {
      "needs_background": "light"
     },
     "output_type": "display_data"
    }
   ],
   "source": [
    "fig, axes = plt.subplots(1, 3, figsize=(25, 12))\n",
    "\n",
    "regions_genre_df.sort_values(by ='na_sales', ascending=False).head(5)\\\n",
    ".plot(ax=axes[0], y='na_sales', kind='bar', title='na_genres')\n",
    "\n",
    "regions_genre_df.sort_values(by ='eu_sales', ascending=False).head(5)\\\n",
    ".plot(ax=axes[1], y='eu_sales', kind='bar', title='eu_genres')\n",
    "\n",
    "regions_genre_df.sort_values(by ='jp_sales', ascending=False).head(5)\\\n",
    ".plot(ax=axes[2], y='jp_sales', kind='bar', title='jp_genres')\n",
    "plt.show()"
   ]
  },
  {
   "cell_type": "markdown",
   "metadata": {},
   "source": [
    "Здесь есть небольшие различия между америкой и европой. в америке лидируют шутеры, в то время как в европе это экшен.\n",
    "Но при этом, если судить, по общей картине, то первые 4 жанра идентичны, в то вренмя как в японии лидирует именно РПГ из-за любви к онлайн геймингу и вероятнее всего из-за культуры"
   ]
  },
  {
   "cell_type": "markdown",
   "metadata": {},
   "source": [
    "Влияет ли рейтинг ESRB на продажи в отдельном регионе?"
   ]
  },
  {
   "cell_type": "code",
   "execution_count": 39,
   "metadata": {},
   "outputs": [
    {
     "data": {
      "text/html": [
       "<div>\n",
       "<style scoped>\n",
       "    .dataframe tbody tr th:only-of-type {\n",
       "        vertical-align: middle;\n",
       "    }\n",
       "\n",
       "    .dataframe tbody tr th {\n",
       "        vertical-align: top;\n",
       "    }\n",
       "\n",
       "    .dataframe thead th {\n",
       "        text-align: right;\n",
       "    }\n",
       "</style>\n",
       "<table border=\"1\" class=\"dataframe\">\n",
       "  <thead>\n",
       "    <tr style=\"text-align: right;\">\n",
       "      <th></th>\n",
       "      <th>eu_sales</th>\n",
       "      <th>jp_sales</th>\n",
       "      <th>na_sales</th>\n",
       "    </tr>\n",
       "    <tr>\n",
       "      <th>rating</th>\n",
       "      <th></th>\n",
       "      <th></th>\n",
       "      <th></th>\n",
       "    </tr>\n",
       "  </thead>\n",
       "  <tbody>\n",
       "    <tr>\n",
       "      <th>E</th>\n",
       "      <td>45.90</td>\n",
       "      <td>8.29</td>\n",
       "      <td>37.65</td>\n",
       "    </tr>\n",
       "    <tr>\n",
       "      <th>E10+</th>\n",
       "      <td>17.89</td>\n",
       "      <td>4.32</td>\n",
       "      <td>23.53</td>\n",
       "    </tr>\n",
       "    <tr>\n",
       "      <th>M</th>\n",
       "      <td>82.38</td>\n",
       "      <td>6.40</td>\n",
       "      <td>82.23</td>\n",
       "    </tr>\n",
       "    <tr>\n",
       "      <th>T</th>\n",
       "      <td>30.09</td>\n",
       "      <td>11.99</td>\n",
       "      <td>32.46</td>\n",
       "    </tr>\n",
       "    <tr>\n",
       "      <th>no_rating</th>\n",
       "      <td>50.80</td>\n",
       "      <td>50.43</td>\n",
       "      <td>55.76</td>\n",
       "    </tr>\n",
       "  </tbody>\n",
       "</table>\n",
       "</div>"
      ],
      "text/plain": [
       "           eu_sales  jp_sales  na_sales\n",
       "rating                                 \n",
       "E             45.90      8.29     37.65\n",
       "E10+          17.89      4.32     23.53\n",
       "M             82.38      6.40     82.23\n",
       "T             30.09     11.99     32.46\n",
       "no_rating     50.80     50.43     55.76"
      ]
     },
     "metadata": {},
     "output_type": "display_data"
    }
   ],
   "source": [
    "esrb_df = top_df.pivot_table(index= ['rating'], values = ('na_sales', 'eu_sales', 'jp_sales'), aggfunc='sum')\n",
    "display(esrb_df)"
   ]
  },
  {
   "cell_type": "code",
   "execution_count": 40,
   "metadata": {},
   "outputs": [
    {
     "data": {
      "image/png": "[encoded data removed]",
      "text/plain": [
       "<Figure size 1800x864 with 3 Axes>"
      ]
     },
     "metadata": {
      "needs_background": "light"
     },
     "output_type": "display_data"
    }
   ],
   "source": [
    "fig, axes = plt.subplots(1, 3, figsize=(25, 12))\n",
    "\n",
    "esrb_df.sort_values(by ='na_sales', ascending=False).head(5)\\\n",
    ".plot(ax=axes[0], y='na_sales', kind='bar', title='na_rating')\n",
    "\n",
    "esrb_df.sort_values(by ='eu_sales', ascending=False).head(5)\\\n",
    ".plot(ax=axes[1], y='eu_sales', kind='bar', title='eu_rating')\n",
    "\n",
    "esrb_df.sort_values(by ='jp_sales', ascending=False).head(5)\\\n",
    ".plot(ax=axes[2], y='jp_sales', kind='bar', title='jp_rating')\n",
    "plt.show()"
   ]
  },
  {
   "cell_type": "markdown",
   "metadata": {},
   "source": [
    "По рейтингам на первом месте в европе и северной америке М (mature), дальше идут игры без рейтинга.\n",
    "В японии же без рейтинга игры на первом месте, далее Т(teen). Скорее всего игры на японской площадке нельзя отнести к конкретному рейтингу либо же в связи с жесткими законами у них проблема с продаажей игр в конкретном рейтинге."
   ]
  },
  {
   "cell_type": "markdown",
   "metadata": {},
   "source": [
    "#  Проверьте гипотезы\n",
    "- Средние пользовательские рейтинги платформ Xbox One и PC одинаковые;\n",
    "- Средние пользовательские рейтинги жанров Action (англ. «действие», экшен-игры) и Sports (англ. «спортивные соревнования») разные.\n",
    "- Задайте самостоятельно пороговое значение alpha.\n",
    "- Поясните:\n",
    "- Как вы сформулировали нулевую и альтернативную гипотезы;\n",
    "- Какой критерий применили для проверки гипотез и почему."
   ]
  },
  {
   "cell_type": "code",
   "execution_count": 42,
   "metadata": {},
   "outputs": [
    {
     "name": "stdout",
     "output_type": "stream",
     "text": [
      "Дисперсия пользовательского рейтинга на Xbox One 1.8910066518847013\n",
      "Дисперсия пользовательского рейтинга на PC 2.901154315133451\n"
     ]
    }
   ],
   "source": [
    "xone = top_df.query('platform == \"XOne\"').user_score.dropna()\n",
    "pc = top_df.query('platform == \"PC\"').user_score.dropna()\n",
    "print('Дисперсия пользовательского рейтинга на Xbox One', np.var(xone, ddof=1))\n",
    "print('Дисперсия пользовательского рейтинга на PC', np.var(pc, ddof=1))"
   ]
  },
  {
   "cell_type": "markdown",
   "metadata": {},
   "source": [
    "Дисперсии отличаются больше чем на 5%, по этому equal_var = False"
   ]
  },
  {
   "cell_type": "code",
   "execution_count": 43,
   "metadata": {
    "scrolled": true
   },
   "outputs": [
    {
     "name": "stdout",
     "output_type": "stream",
     "text": [
      "p-значение: 0.116\n",
      "Не получилось отвергнуть нулевую гипотезу\n"
     ]
    }
   ],
   "source": [
    "alpha = 0.05 \n",
    "results = st.ttest_ind(xone, pc, equal_var= False)\n",
    "\n",
    "print('p-значение:', results.pvalue.round(3))\n",
    "\n",
    "if (results.pvalue < alpha):\n",
    "    print(\"Отвергаем нулевую гипотезу\")\n",
    "else:\n",
    "    print(\"Не получилось отвергнуть нулевую гипотезу\")"
   ]
  },
  {
   "cell_type": "code",
   "execution_count": null,
   "metadata": {},
   "outputs": [],
   "source": [
    "data[data['col'].isna() == True]"
   ]
  },
  {
   "cell_type": "markdown",
   "metadata": {},
   "source": [
    "Нам не получилось отвергнуть нулевую гипотез, из этого следует что игры на xbox и pc  сопоставимыв"
   ]
  },
  {
   "cell_type": "markdown",
   "metadata": {},
   "source": [
    "#### Средние пользовательские рейтинги жанров Action (англ. «действие», экшен-игры) и Sports (англ. «спортивные соревнования») разные."
   ]
  },
  {
   "cell_type": "markdown",
   "metadata": {},
   "source": [
    "Нулевая и альтернативная гипотезы:\n",
    "- Н0 - Средние пользовательские рейтинги одинаковые\n",
    "- Р1 - средние пользовательские рейтинги разные"
   ]
  },
  {
   "cell_type": "code",
   "execution_count": 44,
   "metadata": {},
   "outputs": [
    {
     "name": "stdout",
     "output_type": "stream",
     "text": [
      "Дисперсия пользовательского рейтинга жанра action 1.8910066518847013\n",
      "Дисперсия пользовательского рейтинга жанра sports 2.901154315133451\n"
     ]
    }
   ],
   "source": [
    "action = top_df.query('genre == \"Action\"').user_score.dropna()\n",
    "sports = top_df.query('genre == \"Sports\"').user_score.dropna()\n",
    "print('Дисперсия пользовательского рейтинга жанра action', np.var(xone, ddof=1))\n",
    "print('Дисперсия пользовательского рейтинга жанра sports', np.var(pc, ddof=1))"
   ]
  },
  {
   "cell_type": "code",
   "execution_count": 45,
   "metadata": {
    "scrolled": true
   },
   "outputs": [
    {
     "name": "stdout",
     "output_type": "stream",
     "text": [
      "p-значение: 0.0\n",
      "Отвергаем нулевую гипотезу\n"
     ]
    }
   ],
   "source": [
    "alpha = 0.05 \n",
    "results = st.ttest_ind(action, sports, equal_var= False)\n",
    "\n",
    "print('p-значение:', results.pvalue.round(3))\n",
    "\n",
    "if (results.pvalue < alpha):\n",
    "    print(\"Отвергаем нулевую гипотезу\")\n",
    "else:\n",
    "    print(\"Не получилось отвергнуть нулевую гипотезу\")"
   ]
  },
  {
   "cell_type": "markdown",
   "metadata": {},
   "source": [
    "р-значение равно нулю, по этому вероятность того что средние пользовательские рейтинги данных жанров очень мала и мы отвергаенм нулевую гипотезу.\n",
    "Посмотрим разницу"
   ]
  },
  {
   "cell_type": "code",
   "execution_count": 46,
   "metadata": {},
   "outputs": [
    {
     "name": "stdout",
     "output_type": "stream",
     "text": [
      "Средний пользовательский рейтинг жанра Action: 6.828163265306123\n",
      "Средний пользовательский рейтинг жанра Sports: 5.6360465116279075\n",
      "Разница составляет: 0.17\n"
     ]
    }
   ],
   "source": [
    "print ('Средний пользовательский рейтинг жанра Action:', action.mean())\n",
    "print ('Средний пользовательский рейтинг жанра Sports:', sports.mean())\n",
    "print ('Разница составляет:', (1 - (sports.mean()/action.mean())).round(2))"
   ]
  },
  {
   "cell_type": "markdown",
   "metadata": {},
   "source": [
    "Разница в рейтинге между жанром спорт и экшен составила 17%"
   ]
  },
  {
   "cell_type": "markdown",
   "metadata": {},
   "source": [
    "## Вывод:\n",
    "- Средние пользовательские рейтинги платформ xbox one и pc одинаковые\n",
    "- Средние пользовательские рейтинги жанров экшен и спорт разные"
   ]
  },
  {
   "cell_type": "markdown",
   "metadata": {},
   "source": [
    "# Общий вывод:\n",
    "1. В датасете 16715 строк и 11 столбцов. Данные предоставлены за период с 1980 по 2016гг.\n",
    "2. В предобработке данных было сделано:\n",
    "- названия столбцов преобразовыаны к нижнему регистру\n",
    "- были изменены типы данных в стобцах: year_of_release, user_score\n",
    "- данные tbd были заменены на значения nan\n",
    "- Пропуски в счтолбцах name и year_of_release были удалены\n",
    "- Пропуски в столбцах critical_score, user_score, rating  оставлены, т.к. заменить нечем\n",
    "3. Результат исследовательского анализа данных:\n",
    "- До 1995г игры выпускалтись в небольшом количестве\n",
    "- Пик по количеству игр был в 2008-2009гг., после пика идет спад из-за появления мобильных игр\n",
    "- Больше всего игр продано на ps2, далее идет xbox360, а на третьем месте ps1\n",
    "- В среднем консоль \"живет\" около 10 лет\n",
    "- Самые популярные платформы на 2014-2016гг были ps4 и xbox one, nintendo 3ds, ps3, однако большинство из них \"доживало последние года\"\n",
    "- На консоли ps4 продаж больше чем на других платформах, по этому для анализща взяли ее\n",
    "- Между оценкой пользователей и количеством проданных игр нет связи, но при этом\n",
    "4. Составлен портрет пользователя каждого региона:\n",
    "- игровые рынки европы и америки схожи, популярны одни платформы и жанры и игр с определенным рейтингом ESRB. Среди платформ лидируют ps4, xbox one, среди жанров популярны экшен и шутеры.\n",
    "- В японии же лидирует nintendo ds, популярны ролевые игры от внутренних разрабов. \n",
    "\n",
    "5. При проверке гипотез выявлено:\n",
    "- средние пользовательские рейтинги игр на xbox one и pc одинаковые\n",
    "- средние пользовательские рейтинги жанров экшен и спорт разные\n"
   ]
  }
 ],
 "metadata": {
  "ExecuteTimeLog": [
   {
    "duration": 732,
    "start_time": "2022-03-09T11:52:17.325Z"
   },
   {
    "duration": 45,
    "start_time": "2022-03-09T11:52:23.046Z"
   },
   {
    "duration": 39,
    "start_time": "2022-03-09T11:52:26.765Z"
   },
   {
    "duration": 18,
    "start_time": "2022-03-09T11:52:35.427Z"
   },
   {
    "duration": 27,
    "start_time": "2022-03-09T11:52:43.676Z"
   },
   {
    "duration": 6,
    "start_time": "2022-03-09T11:55:26.426Z"
   },
   {
    "duration": 15,
    "start_time": "2022-03-09T11:55:32.207Z"
   },
   {
    "duration": 240,
    "start_time": "2022-03-09T11:57:51.408Z"
   },
   {
    "duration": 181,
    "start_time": "2022-03-09T11:57:57.350Z"
   },
   {
    "duration": 227,
    "start_time": "2022-03-09T11:58:12.952Z"
   },
   {
    "duration": 191,
    "start_time": "2022-03-09T11:58:38.236Z"
   },
   {
    "duration": 40,
    "start_time": "2022-03-09T11:58:44.255Z"
   },
   {
    "duration": 12,
    "start_time": "2022-03-09T11:58:44.296Z"
   },
   {
    "duration": 34,
    "start_time": "2022-03-09T11:58:44.310Z"
   },
   {
    "duration": 16,
    "start_time": "2022-03-09T11:58:44.346Z"
   },
   {
    "duration": 177,
    "start_time": "2022-03-09T11:58:44.364Z"
   },
   {
    "duration": 173,
    "start_time": "2022-03-09T11:58:54.848Z"
   },
   {
    "duration": 175,
    "start_time": "2022-03-09T12:00:05.456Z"
   },
   {
    "duration": 12,
    "start_time": "2022-03-09T12:00:13.109Z"
   },
   {
    "duration": 8,
    "start_time": "2022-03-09T12:01:22.976Z"
   },
   {
    "duration": 191,
    "start_time": "2022-03-09T12:45:31.246Z"
   },
   {
    "duration": 5,
    "start_time": "2022-03-09T12:47:13.065Z"
   },
   {
    "duration": 7,
    "start_time": "2022-03-09T12:47:16.200Z"
   },
   {
    "duration": 7,
    "start_time": "2022-03-09T12:47:24.943Z"
   },
   {
    "duration": 9,
    "start_time": "2022-03-09T12:47:31.481Z"
   },
   {
    "duration": 7,
    "start_time": "2022-03-09T12:48:19.111Z"
   },
   {
    "duration": 188,
    "start_time": "2022-03-09T12:48:28.771Z"
   },
   {
    "duration": 5,
    "start_time": "2022-03-09T12:49:08.644Z"
   },
   {
    "duration": 10,
    "start_time": "2022-03-09T12:54:45.762Z"
   },
   {
    "duration": 5,
    "start_time": "2022-03-09T12:55:31.994Z"
   },
   {
    "duration": 14,
    "start_time": "2022-03-09T12:55:38.139Z"
   },
   {
    "duration": 10,
    "start_time": "2022-03-09T12:55:45.284Z"
   },
   {
    "duration": 181,
    "start_time": "2022-03-09T12:55:49.994Z"
   },
   {
    "duration": 7,
    "start_time": "2022-03-09T13:06:23.114Z"
   },
   {
    "duration": 10,
    "start_time": "2022-03-09T13:06:33.613Z"
   },
   {
    "duration": 20,
    "start_time": "2022-03-09T13:06:40.722Z"
   },
   {
    "duration": 16,
    "start_time": "2022-03-09T13:37:11.350Z"
   },
   {
    "duration": 22,
    "start_time": "2022-03-09T13:37:16.472Z"
   },
   {
    "duration": 18,
    "start_time": "2022-03-09T13:37:20.942Z"
   },
   {
    "duration": 1139,
    "start_time": "2022-03-09T16:54:01.694Z"
   },
   {
    "duration": 17,
    "start_time": "2022-03-09T16:54:10.658Z"
   },
   {
    "duration": 30,
    "start_time": "2022-03-09T16:54:11.662Z"
   },
   {
    "duration": 15,
    "start_time": "2022-03-09T16:54:13.328Z"
   },
   {
    "duration": 19,
    "start_time": "2022-03-09T16:54:41.695Z"
   },
   {
    "duration": 11,
    "start_time": "2022-03-09T16:54:50.545Z"
   },
   {
    "duration": 11,
    "start_time": "2022-03-09T16:55:03.839Z"
   },
   {
    "duration": 6,
    "start_time": "2022-03-09T16:55:14.716Z"
   },
   {
    "duration": 8,
    "start_time": "2022-03-09T16:55:33.523Z"
   },
   {
    "duration": 16,
    "start_time": "2022-03-09T16:55:39.800Z"
   },
   {
    "duration": 13,
    "start_time": "2022-03-09T16:56:38.078Z"
   },
   {
    "duration": 379,
    "start_time": "2022-03-09T16:56:45.519Z"
   },
   {
    "duration": 8,
    "start_time": "2022-03-09T16:56:51.956Z"
   },
   {
    "duration": 1305,
    "start_time": "2022-03-09T16:57:08.740Z"
   },
   {
    "duration": 16,
    "start_time": "2022-03-09T16:57:16.927Z"
   },
   {
    "duration": 1280,
    "start_time": "2022-03-09T16:58:50.820Z"
   },
   {
    "duration": 16,
    "start_time": "2022-03-09T16:59:13.561Z"
   },
   {
    "duration": 23,
    "start_time": "2022-03-09T17:06:05.499Z"
   },
   {
    "duration": 295,
    "start_time": "2022-03-09T17:09:50.450Z"
   },
   {
    "duration": 310,
    "start_time": "2022-03-09T17:10:03.113Z"
   },
   {
    "duration": 493,
    "start_time": "2022-03-09T17:10:25.838Z"
   },
   {
    "duration": 429,
    "start_time": "2022-03-09T17:10:36.844Z"
   },
   {
    "duration": 1303,
    "start_time": "2022-03-09T17:11:53.512Z"
   },
   {
    "duration": 1315,
    "start_time": "2022-03-09T17:12:10.025Z"
   },
   {
    "duration": 1247,
    "start_time": "2022-03-09T17:12:32.437Z"
   },
   {
    "duration": 1359,
    "start_time": "2022-03-09T17:12:41.594Z"
   },
   {
    "duration": 1366,
    "start_time": "2022-03-09T17:12:47.115Z"
   },
   {
    "duration": 1259,
    "start_time": "2022-03-09T17:12:57.757Z"
   },
   {
    "duration": 1274,
    "start_time": "2022-03-09T17:13:07.171Z"
   },
   {
    "duration": 1256,
    "start_time": "2022-03-09T17:13:16.714Z"
   },
   {
    "duration": 1244,
    "start_time": "2022-03-09T17:13:21.435Z"
   },
   {
    "duration": 1356,
    "start_time": "2022-03-09T17:13:24.625Z"
   },
   {
    "duration": 1283,
    "start_time": "2022-03-09T17:13:30.697Z"
   },
   {
    "duration": 1199,
    "start_time": "2022-03-10T09:34:04.960Z"
   },
   {
    "duration": 15,
    "start_time": "2022-03-10T09:34:06.161Z"
   },
   {
    "duration": 29,
    "start_time": "2022-03-10T09:34:06.178Z"
   },
   {
    "duration": 15,
    "start_time": "2022-03-10T09:34:06.209Z"
   },
   {
    "duration": 10,
    "start_time": "2022-03-10T09:34:06.226Z"
   },
   {
    "duration": 45,
    "start_time": "2022-03-10T09:34:06.237Z"
   },
   {
    "duration": 10,
    "start_time": "2022-03-10T09:34:06.284Z"
   },
   {
    "duration": 9,
    "start_time": "2022-03-10T09:34:06.295Z"
   },
   {
    "duration": 11,
    "start_time": "2022-03-10T09:34:06.306Z"
   },
   {
    "duration": 15,
    "start_time": "2022-03-10T09:34:06.320Z"
   },
   {
    "duration": 39,
    "start_time": "2022-03-10T09:34:06.336Z"
   },
   {
    "duration": 389,
    "start_time": "2022-03-10T09:34:06.377Z"
   },
   {
    "duration": 8,
    "start_time": "2022-03-10T09:34:06.768Z"
   },
   {
    "duration": 1276,
    "start_time": "2022-03-10T09:34:06.778Z"
   },
   {
    "duration": 428,
    "start_time": "2022-03-10T09:34:08.056Z"
   },
   {
    "duration": 13,
    "start_time": "2022-03-10T09:34:08.486Z"
   },
   {
    "duration": 1561,
    "start_time": "2022-03-10T09:34:37.952Z"
   },
   {
    "duration": 1354,
    "start_time": "2022-03-10T09:34:48.999Z"
   },
   {
    "duration": 1489,
    "start_time": "2022-03-10T18:18:55.685Z"
   },
   {
    "duration": 22,
    "start_time": "2022-03-10T18:18:57.177Z"
   },
   {
    "duration": 72,
    "start_time": "2022-03-10T18:18:57.203Z"
   },
   {
    "duration": 37,
    "start_time": "2022-03-10T18:18:57.278Z"
   },
   {
    "duration": 33,
    "start_time": "2022-03-10T18:18:57.319Z"
   },
   {
    "duration": 36,
    "start_time": "2022-03-10T18:18:57.355Z"
   },
   {
    "duration": 16,
    "start_time": "2022-03-10T18:18:57.393Z"
   },
   {
    "duration": 45,
    "start_time": "2022-03-10T18:18:57.411Z"
   },
   {
    "duration": 15,
    "start_time": "2022-03-10T18:18:57.460Z"
   },
   {
    "duration": 22,
    "start_time": "2022-03-10T18:18:57.478Z"
   },
   {
    "duration": 58,
    "start_time": "2022-03-10T18:18:57.503Z"
   },
   {
    "duration": 631,
    "start_time": "2022-03-10T18:18:57.564Z"
   },
   {
    "duration": 13,
    "start_time": "2022-03-10T18:18:58.198Z"
   },
   {
    "duration": 2200,
    "start_time": "2022-03-10T18:18:58.214Z"
   },
   {
    "duration": 738,
    "start_time": "2022-03-10T18:19:00.416Z"
   },
   {
    "duration": 21,
    "start_time": "2022-03-10T18:19:01.156Z"
   },
   {
    "duration": 131,
    "start_time": "2022-03-10T18:19:01.179Z"
   },
   {
    "duration": 369,
    "start_time": "2022-03-10T18:19:27.760Z"
   },
   {
    "duration": 267,
    "start_time": "2022-03-10T18:19:31.740Z"
   },
   {
    "duration": 266,
    "start_time": "2022-03-10T18:19:36.453Z"
   },
   {
    "duration": 77,
    "start_time": "2022-03-10T18:20:29.739Z"
   },
   {
    "duration": 305,
    "start_time": "2022-03-10T18:20:32.656Z"
   },
   {
    "duration": 273,
    "start_time": "2022-03-10T18:20:51.717Z"
   },
   {
    "duration": 240,
    "start_time": "2022-03-10T18:21:18.172Z"
   },
   {
    "duration": 248,
    "start_time": "2022-03-10T18:22:18.472Z"
   },
   {
    "duration": 255,
    "start_time": "2022-03-10T18:22:24.758Z"
   },
   {
    "duration": 771,
    "start_time": "2022-03-10T18:22:35.621Z"
   },
   {
    "duration": 66,
    "start_time": "2022-03-10T18:28:30.812Z"
   },
   {
    "duration": 49,
    "start_time": "2022-03-10T18:28:36.288Z"
   },
   {
    "duration": 19,
    "start_time": "2022-03-10T18:28:36.340Z"
   },
   {
    "duration": 42,
    "start_time": "2022-03-10T18:28:36.362Z"
   },
   {
    "duration": 22,
    "start_time": "2022-03-10T18:28:36.407Z"
   },
   {
    "duration": 23,
    "start_time": "2022-03-10T18:28:36.452Z"
   },
   {
    "duration": 32,
    "start_time": "2022-03-10T18:28:36.478Z"
   },
   {
    "duration": 28,
    "start_time": "2022-03-10T18:28:36.523Z"
   },
   {
    "duration": 9,
    "start_time": "2022-03-10T18:28:36.554Z"
   },
   {
    "duration": 16,
    "start_time": "2022-03-10T18:28:36.568Z"
   },
   {
    "duration": 23,
    "start_time": "2022-03-10T18:28:36.587Z"
   },
   {
    "duration": 20,
    "start_time": "2022-03-10T18:28:36.652Z"
   },
   {
    "duration": 829,
    "start_time": "2022-03-10T18:28:36.675Z"
   },
   {
    "duration": 11,
    "start_time": "2022-03-10T18:28:37.506Z"
   },
   {
    "duration": 2391,
    "start_time": "2022-03-10T18:28:37.519Z"
   },
   {
    "duration": 708,
    "start_time": "2022-03-10T18:28:39.912Z"
   },
   {
    "duration": 34,
    "start_time": "2022-03-10T18:28:40.622Z"
   },
   {
    "duration": 730,
    "start_time": "2022-03-10T18:28:40.659Z"
   },
   {
    "duration": 793,
    "start_time": "2022-03-10T18:31:58.663Z"
   },
   {
    "duration": -91,
    "start_time": "2022-03-10T18:33:03.549Z"
   },
   {
    "duration": 7,
    "start_time": "2022-03-10T18:37:46.459Z"
   },
   {
    "duration": 738,
    "start_time": "2022-03-10T18:37:48.023Z"
   },
   {
    "duration": 719,
    "start_time": "2022-03-10T18:37:55.661Z"
   },
   {
    "duration": 713,
    "start_time": "2022-03-10T18:38:47.581Z"
   },
   {
    "duration": 824,
    "start_time": "2022-03-10T18:38:51.381Z"
   },
   {
    "duration": 713,
    "start_time": "2022-03-10T18:38:53.849Z"
   },
   {
    "duration": 798,
    "start_time": "2022-03-10T18:38:56.318Z"
   },
   {
    "duration": 805,
    "start_time": "2022-03-10T18:39:08.012Z"
   },
   {
    "duration": 76,
    "start_time": "2022-03-10T18:44:17.824Z"
   },
   {
    "duration": 76,
    "start_time": "2022-03-10T18:45:33.932Z"
   },
   {
    "duration": 2149,
    "start_time": "2022-03-10T18:50:44.238Z"
   },
   {
    "duration": 536,
    "start_time": "2022-03-10T19:10:31.173Z"
   },
   {
    "duration": 588,
    "start_time": "2022-03-10T19:10:42.223Z"
   },
   {
    "duration": 514,
    "start_time": "2022-03-10T19:10:47.513Z"
   },
   {
    "duration": 252,
    "start_time": "2022-03-10T19:16:04.755Z"
   },
   {
    "duration": 28,
    "start_time": "2022-03-10T19:16:16.118Z"
   },
   {
    "duration": 910,
    "start_time": "2022-03-10T19:19:55.300Z"
   },
   {
    "duration": 936,
    "start_time": "2022-03-10T19:20:05.003Z"
   },
   {
    "duration": 618,
    "start_time": "2022-03-10T19:22:47.041Z"
   },
   {
    "duration": 1003,
    "start_time": "2022-03-10T19:25:12.596Z"
   },
   {
    "duration": 508,
    "start_time": "2022-03-10T19:30:25.611Z"
   },
   {
    "duration": 568,
    "start_time": "2022-03-10T19:30:32.253Z"
   },
   {
    "duration": 601,
    "start_time": "2022-03-10T19:30:36.029Z"
   },
   {
    "duration": 740,
    "start_time": "2022-03-10T19:30:57.270Z"
   },
   {
    "duration": 611,
    "start_time": "2022-03-10T19:31:09.290Z"
   },
   {
    "duration": 649,
    "start_time": "2022-03-10T19:32:32.452Z"
   },
   {
    "duration": 1495,
    "start_time": "2022-03-11T16:30:38.288Z"
   },
   {
    "duration": 17,
    "start_time": "2022-03-11T16:30:39.786Z"
   },
   {
    "duration": 29,
    "start_time": "2022-03-11T16:30:39.805Z"
   },
   {
    "duration": 31,
    "start_time": "2022-03-11T16:30:39.836Z"
   },
   {
    "duration": 8,
    "start_time": "2022-03-11T16:30:39.869Z"
   },
   {
    "duration": 24,
    "start_time": "2022-03-11T16:30:39.879Z"
   },
   {
    "duration": 11,
    "start_time": "2022-03-11T16:30:39.905Z"
   },
   {
    "duration": 7,
    "start_time": "2022-03-11T16:30:39.919Z"
   },
   {
    "duration": 43,
    "start_time": "2022-03-11T16:30:39.928Z"
   },
   {
    "duration": 17,
    "start_time": "2022-03-11T16:30:39.972Z"
   },
   {
    "duration": 13,
    "start_time": "2022-03-11T16:30:39.990Z"
   },
   {
    "duration": 414,
    "start_time": "2022-03-11T16:30:40.005Z"
   },
   {
    "duration": 9,
    "start_time": "2022-03-11T16:30:40.420Z"
   },
   {
    "duration": 1390,
    "start_time": "2022-03-11T16:30:40.430Z"
   },
   {
    "duration": 465,
    "start_time": "2022-03-11T16:30:41.822Z"
   },
   {
    "duration": 21,
    "start_time": "2022-03-11T16:30:42.290Z"
   },
   {
    "duration": 750,
    "start_time": "2022-03-11T16:30:42.313Z"
   },
   {
    "duration": -136,
    "start_time": "2022-03-11T16:30:43.200Z"
   },
   {
    "duration": -139,
    "start_time": "2022-03-11T16:30:43.204Z"
   },
   {
    "duration": -142,
    "start_time": "2022-03-11T16:30:43.209Z"
   },
   {
    "duration": -145,
    "start_time": "2022-03-11T16:30:43.213Z"
   },
   {
    "duration": -148,
    "start_time": "2022-03-11T16:30:43.217Z"
   },
   {
    "duration": -152,
    "start_time": "2022-03-11T16:30:43.222Z"
   },
   {
    "duration": -164,
    "start_time": "2022-03-11T16:30:43.235Z"
   },
   {
    "duration": -167,
    "start_time": "2022-03-11T16:30:43.239Z"
   },
   {
    "duration": -171,
    "start_time": "2022-03-11T16:30:43.244Z"
   },
   {
    "duration": -172,
    "start_time": "2022-03-11T16:30:43.247Z"
   },
   {
    "duration": 597,
    "start_time": "2022-03-11T16:31:00.487Z"
   },
   {
    "duration": 403,
    "start_time": "2022-03-11T16:31:06.380Z"
   },
   {
    "duration": 18,
    "start_time": "2022-03-11T16:31:08.140Z"
   },
   {
    "duration": 400,
    "start_time": "2022-03-11T16:31:09.677Z"
   },
   {
    "duration": 407,
    "start_time": "2022-03-11T16:31:11.835Z"
   },
   {
    "duration": 1532,
    "start_time": "2022-03-11T16:31:14.205Z"
   },
   {
    "duration": 258,
    "start_time": "2022-03-11T16:32:39.086Z"
   },
   {
    "duration": 260,
    "start_time": "2022-03-11T16:33:15.053Z"
   },
   {
    "duration": 1591,
    "start_time": "2022-03-11T16:33:27.735Z"
   },
   {
    "duration": 1501,
    "start_time": "2022-03-11T16:33:41.065Z"
   },
   {
    "duration": 455,
    "start_time": "2022-03-11T16:34:50.057Z"
   },
   {
    "duration": 6,
    "start_time": "2022-03-11T16:36:02.422Z"
   },
   {
    "duration": 4,
    "start_time": "2022-03-11T16:36:05.182Z"
   },
   {
    "duration": 46,
    "start_time": "2022-03-11T16:36:09.928Z"
   },
   {
    "duration": 13,
    "start_time": "2022-03-11T16:36:09.976Z"
   },
   {
    "duration": 45,
    "start_time": "2022-03-11T16:36:09.991Z"
   },
   {
    "duration": 36,
    "start_time": "2022-03-11T16:36:10.039Z"
   },
   {
    "duration": 9,
    "start_time": "2022-03-11T16:36:10.077Z"
   },
   {
    "duration": 27,
    "start_time": "2022-03-11T16:36:10.088Z"
   },
   {
    "duration": 282,
    "start_time": "2022-03-11T16:36:10.117Z"
   },
   {
    "duration": -175,
    "start_time": "2022-03-11T16:36:10.577Z"
   },
   {
    "duration": -176,
    "start_time": "2022-03-11T16:36:10.579Z"
   },
   {
    "duration": -177,
    "start_time": "2022-03-11T16:36:10.581Z"
   },
   {
    "duration": -179,
    "start_time": "2022-03-11T16:36:10.584Z"
   },
   {
    "duration": -181,
    "start_time": "2022-03-11T16:36:10.587Z"
   },
   {
    "duration": -182,
    "start_time": "2022-03-11T16:36:10.589Z"
   },
   {
    "duration": -184,
    "start_time": "2022-03-11T16:36:10.592Z"
   },
   {
    "duration": -185,
    "start_time": "2022-03-11T16:36:10.594Z"
   },
   {
    "duration": -186,
    "start_time": "2022-03-11T16:36:10.596Z"
   },
   {
    "duration": -187,
    "start_time": "2022-03-11T16:36:10.598Z"
   },
   {
    "duration": -187,
    "start_time": "2022-03-11T16:36:10.600Z"
   },
   {
    "duration": -189,
    "start_time": "2022-03-11T16:36:10.603Z"
   },
   {
    "duration": -188,
    "start_time": "2022-03-11T16:36:10.604Z"
   },
   {
    "duration": -189,
    "start_time": "2022-03-11T16:36:10.606Z"
   },
   {
    "duration": -190,
    "start_time": "2022-03-11T16:36:10.608Z"
   },
   {
    "duration": -190,
    "start_time": "2022-03-11T16:36:10.609Z"
   },
   {
    "duration": -192,
    "start_time": "2022-03-11T16:36:10.611Z"
   },
   {
    "duration": -191,
    "start_time": "2022-03-11T16:36:10.612Z"
   },
   {
    "duration": -191,
    "start_time": "2022-03-11T16:36:10.613Z"
   },
   {
    "duration": -192,
    "start_time": "2022-03-11T16:36:10.615Z"
   },
   {
    "duration": -192,
    "start_time": "2022-03-11T16:36:10.616Z"
   },
   {
    "duration": -192,
    "start_time": "2022-03-11T16:36:10.617Z"
   },
   {
    "duration": 242,
    "start_time": "2022-03-11T16:36:22.152Z"
   },
   {
    "duration": 4,
    "start_time": "2022-03-11T16:36:43.167Z"
   },
   {
    "duration": 11,
    "start_time": "2022-03-11T16:36:52.117Z"
   },
   {
    "duration": 12,
    "start_time": "2022-03-11T16:37:01.840Z"
   },
   {
    "duration": 11,
    "start_time": "2022-03-11T16:37:13.152Z"
   },
   {
    "duration": 11,
    "start_time": "2022-03-11T16:37:15.392Z"
   },
   {
    "duration": 364,
    "start_time": "2022-03-11T16:37:25.829Z"
   },
   {
    "duration": 39,
    "start_time": "2022-03-11T16:37:30.449Z"
   },
   {
    "duration": 13,
    "start_time": "2022-03-11T16:37:30.489Z"
   },
   {
    "duration": 31,
    "start_time": "2022-03-11T16:37:30.504Z"
   },
   {
    "duration": 35,
    "start_time": "2022-03-11T16:37:30.537Z"
   },
   {
    "duration": 13,
    "start_time": "2022-03-11T16:37:30.574Z"
   },
   {
    "duration": 34,
    "start_time": "2022-03-11T16:37:30.588Z"
   },
   {
    "duration": 14,
    "start_time": "2022-03-11T16:37:30.624Z"
   },
   {
    "duration": 25,
    "start_time": "2022-03-11T16:37:30.641Z"
   },
   {
    "duration": 25,
    "start_time": "2022-03-11T16:37:30.669Z"
   },
   {
    "duration": 26,
    "start_time": "2022-03-11T16:37:30.696Z"
   },
   {
    "duration": 18,
    "start_time": "2022-03-11T16:37:30.724Z"
   },
   {
    "duration": 459,
    "start_time": "2022-03-11T16:37:30.743Z"
   },
   {
    "duration": 8,
    "start_time": "2022-03-11T16:37:31.203Z"
   },
   {
    "duration": 1501,
    "start_time": "2022-03-11T16:37:31.213Z"
   },
   {
    "duration": 421,
    "start_time": "2022-03-11T16:37:32.716Z"
   },
   {
    "duration": 25,
    "start_time": "2022-03-11T16:37:33.139Z"
   },
   {
    "duration": 519,
    "start_time": "2022-03-11T16:37:33.165Z"
   },
   {
    "duration": -161,
    "start_time": "2022-03-11T16:37:33.847Z"
   },
   {
    "duration": -167,
    "start_time": "2022-03-11T16:37:33.854Z"
   },
   {
    "duration": -171,
    "start_time": "2022-03-11T16:37:33.858Z"
   },
   {
    "duration": -173,
    "start_time": "2022-03-11T16:37:33.861Z"
   },
   {
    "duration": -174,
    "start_time": "2022-03-11T16:37:33.863Z"
   },
   {
    "duration": -176,
    "start_time": "2022-03-11T16:37:33.866Z"
   },
   {
    "duration": -178,
    "start_time": "2022-03-11T16:37:33.869Z"
   },
   {
    "duration": -189,
    "start_time": "2022-03-11T16:37:33.881Z"
   },
   {
    "duration": -192,
    "start_time": "2022-03-11T16:37:33.884Z"
   },
   {
    "duration": -192,
    "start_time": "2022-03-11T16:37:33.886Z"
   },
   {
    "duration": -193,
    "start_time": "2022-03-11T16:37:33.888Z"
   },
   {
    "duration": 553,
    "start_time": "2022-03-11T16:37:39.553Z"
   },
   {
    "duration": 574,
    "start_time": "2022-03-11T16:37:41.483Z"
   },
   {
    "duration": 597,
    "start_time": "2022-03-11T16:37:43.187Z"
   },
   {
    "duration": 514,
    "start_time": "2022-03-11T16:37:45.653Z"
   },
   {
    "duration": 510,
    "start_time": "2022-03-11T16:38:06.608Z"
   },
   {
    "duration": 637,
    "start_time": "2022-03-11T16:38:14.718Z"
   },
   {
    "duration": 560,
    "start_time": "2022-03-11T16:38:20.115Z"
   },
   {
    "duration": 505,
    "start_time": "2022-03-11T16:38:23.488Z"
   },
   {
    "duration": 642,
    "start_time": "2022-03-11T16:38:26.523Z"
   },
   {
    "duration": 309,
    "start_time": "2022-03-11T16:38:29.071Z"
   },
   {
    "duration": 18,
    "start_time": "2022-03-11T16:38:30.762Z"
   },
   {
    "duration": 371,
    "start_time": "2022-03-11T16:38:32.274Z"
   },
   {
    "duration": 363,
    "start_time": "2022-03-11T16:38:34.472Z"
   },
   {
    "duration": 1487,
    "start_time": "2022-03-11T16:38:36.341Z"
   },
   {
    "duration": 1597,
    "start_time": "2022-03-11T16:38:47.335Z"
   },
   {
    "duration": 1521,
    "start_time": "2022-03-11T16:38:59.474Z"
   },
   {
    "duration": 473,
    "start_time": "2022-03-11T16:39:09.056Z"
   },
   {
    "duration": 528,
    "start_time": "2022-03-11T16:39:16.245Z"
   },
   {
    "duration": 259,
    "start_time": "2022-03-11T16:44:16.259Z"
   },
   {
    "duration": 12,
    "start_time": "2022-03-11T16:44:25.034Z"
   },
   {
    "duration": 14,
    "start_time": "2022-03-11T16:44:39.964Z"
   },
   {
    "duration": 12,
    "start_time": "2022-03-11T16:45:09.594Z"
   },
   {
    "duration": -139,
    "start_time": "2022-03-11T16:45:41.595Z"
   },
   {
    "duration": -147,
    "start_time": "2022-03-11T16:45:58.281Z"
   },
   {
    "duration": -156,
    "start_time": "2022-03-11T16:45:58.291Z"
   },
   {
    "duration": 12,
    "start_time": "2022-03-11T16:45:59.102Z"
   },
   {
    "duration": 6075,
    "start_time": "2022-03-11T16:46:00.676Z"
   },
   {
    "duration": 13,
    "start_time": "2022-03-11T16:46:23.534Z"
   },
   {
    "duration": 16,
    "start_time": "2022-03-11T16:46:32.667Z"
   },
   {
    "duration": 12,
    "start_time": "2022-03-11T16:46:37.068Z"
   },
   {
    "duration": 7,
    "start_time": "2022-03-11T16:47:07.825Z"
   },
   {
    "duration": 5,
    "start_time": "2022-03-11T16:47:11.992Z"
   },
   {
    "duration": 46,
    "start_time": "2022-03-11T16:47:14.658Z"
   },
   {
    "duration": 12,
    "start_time": "2022-03-11T16:47:14.707Z"
   },
   {
    "duration": 54,
    "start_time": "2022-03-11T16:47:14.722Z"
   },
   {
    "duration": 15,
    "start_time": "2022-03-11T16:47:14.779Z"
   },
   {
    "duration": 16,
    "start_time": "2022-03-11T16:47:14.796Z"
   },
   {
    "duration": 5,
    "start_time": "2022-03-11T16:47:14.814Z"
   },
   {
    "duration": 53,
    "start_time": "2022-03-11T16:47:14.821Z"
   },
   {
    "duration": 11,
    "start_time": "2022-03-11T16:47:14.876Z"
   },
   {
    "duration": 12,
    "start_time": "2022-03-11T16:47:14.889Z"
   },
   {
    "duration": 15,
    "start_time": "2022-03-11T16:47:14.903Z"
   },
   {
    "duration": 14,
    "start_time": "2022-03-11T16:47:14.920Z"
   },
   {
    "duration": 37,
    "start_time": "2022-03-11T16:47:14.936Z"
   },
   {
    "duration": 461,
    "start_time": "2022-03-11T16:47:14.974Z"
   },
   {
    "duration": 8,
    "start_time": "2022-03-11T16:47:15.437Z"
   },
   {
    "duration": 1933,
    "start_time": "2022-03-11T16:47:15.447Z"
   },
   {
    "duration": 709,
    "start_time": "2022-03-11T16:47:17.383Z"
   },
   {
    "duration": 15,
    "start_time": "2022-03-11T16:47:18.094Z"
   },
   {
    "duration": 542,
    "start_time": "2022-03-11T16:47:18.111Z"
   },
   {
    "duration": -178,
    "start_time": "2022-03-11T16:47:18.833Z"
   },
   {
    "duration": -186,
    "start_time": "2022-03-11T16:47:18.842Z"
   },
   {
    "duration": -191,
    "start_time": "2022-03-11T16:47:18.848Z"
   },
   {
    "duration": -193,
    "start_time": "2022-03-11T16:47:18.855Z"
   },
   {
    "duration": -195,
    "start_time": "2022-03-11T16:47:18.858Z"
   },
   {
    "duration": -208,
    "start_time": "2022-03-11T16:47:18.872Z"
   },
   {
    "duration": -211,
    "start_time": "2022-03-11T16:47:18.876Z"
   },
   {
    "duration": -214,
    "start_time": "2022-03-11T16:47:18.880Z"
   },
   {
    "duration": -216,
    "start_time": "2022-03-11T16:47:18.883Z"
   },
   {
    "duration": -218,
    "start_time": "2022-03-11T16:47:18.886Z"
   },
   {
    "duration": -225,
    "start_time": "2022-03-11T16:47:18.894Z"
   },
   {
    "duration": -228,
    "start_time": "2022-03-11T16:47:18.898Z"
   },
   {
    "duration": -228,
    "start_time": "2022-03-11T16:47:18.899Z"
   },
   {
    "duration": 541,
    "start_time": "2022-03-11T16:47:22.555Z"
   },
   {
    "duration": 534,
    "start_time": "2022-03-11T16:47:24.415Z"
   },
   {
    "duration": 506,
    "start_time": "2022-03-11T16:47:27.605Z"
   },
   {
    "duration": 499,
    "start_time": "2022-03-11T16:47:29.058Z"
   },
   {
    "duration": 559,
    "start_time": "2022-03-11T16:47:31.818Z"
   },
   {
    "duration": 311,
    "start_time": "2022-03-11T16:47:34.285Z"
   },
   {
    "duration": 18,
    "start_time": "2022-03-11T16:47:36.191Z"
   },
   {
    "duration": 373,
    "start_time": "2022-03-11T16:47:37.526Z"
   },
   {
    "duration": 578,
    "start_time": "2022-03-11T16:47:39.500Z"
   },
   {
    "duration": 1820,
    "start_time": "2022-03-11T16:47:42.778Z"
   },
   {
    "duration": 615,
    "start_time": "2022-03-11T16:47:46.353Z"
   },
   {
    "duration": 11,
    "start_time": "2022-03-11T16:47:50.155Z"
   },
   {
    "duration": 13,
    "start_time": "2022-03-11T16:47:51.970Z"
   },
   {
    "duration": 12,
    "start_time": "2022-03-11T16:49:19.707Z"
   },
   {
    "duration": 1151,
    "start_time": "2022-03-20T22:09:48.023Z"
   },
   {
    "duration": 16,
    "start_time": "2022-03-20T22:09:49.176Z"
   },
   {
    "duration": 24,
    "start_time": "2022-03-20T22:09:49.193Z"
   },
   {
    "duration": 12,
    "start_time": "2022-03-20T22:09:49.218Z"
   },
   {
    "duration": 11,
    "start_time": "2022-03-20T22:09:49.232Z"
   },
   {
    "duration": 9,
    "start_time": "2022-03-20T22:09:49.244Z"
   },
   {
    "duration": 41,
    "start_time": "2022-03-20T22:09:49.255Z"
   },
   {
    "duration": 9,
    "start_time": "2022-03-20T22:09:49.298Z"
   },
   {
    "duration": 13,
    "start_time": "2022-03-20T22:09:49.309Z"
   },
   {
    "duration": 13,
    "start_time": "2022-03-20T22:09:49.323Z"
   },
   {
    "duration": 14,
    "start_time": "2022-03-20T22:09:49.338Z"
   },
   {
    "duration": 36,
    "start_time": "2022-03-20T22:09:49.353Z"
   },
   {
    "duration": 216,
    "start_time": "2022-03-20T22:09:49.390Z"
   },
   {
    "duration": 8,
    "start_time": "2022-03-20T22:09:49.609Z"
   },
   {
    "duration": 912,
    "start_time": "2022-03-20T22:09:49.618Z"
   },
   {
    "duration": 276,
    "start_time": "2022-03-20T22:09:50.532Z"
   },
   {
    "duration": 14,
    "start_time": "2022-03-20T22:09:50.809Z"
   },
   {
    "duration": 287,
    "start_time": "2022-03-20T22:09:50.824Z"
   },
   {
    "duration": 0,
    "start_time": "2022-03-20T22:09:51.113Z"
   },
   {
    "duration": 0,
    "start_time": "2022-03-20T22:09:51.114Z"
   },
   {
    "duration": 0,
    "start_time": "2022-03-20T22:09:51.115Z"
   },
   {
    "duration": 0,
    "start_time": "2022-03-20T22:09:51.116Z"
   },
   {
    "duration": 0,
    "start_time": "2022-03-20T22:09:51.117Z"
   },
   {
    "duration": 0,
    "start_time": "2022-03-20T22:09:51.117Z"
   },
   {
    "duration": 0,
    "start_time": "2022-03-20T22:09:51.118Z"
   },
   {
    "duration": 0,
    "start_time": "2022-03-20T22:09:51.119Z"
   },
   {
    "duration": 0,
    "start_time": "2022-03-20T22:09:51.120Z"
   },
   {
    "duration": 0,
    "start_time": "2022-03-20T22:09:51.121Z"
   },
   {
    "duration": 0,
    "start_time": "2022-03-20T22:09:51.122Z"
   },
   {
    "duration": 0,
    "start_time": "2022-03-20T22:09:51.122Z"
   },
   {
    "duration": 194,
    "start_time": "2022-03-20T22:10:22.262Z"
   },
   {
    "duration": 13,
    "start_time": "2022-03-20T22:13:04.862Z"
   },
   {
    "duration": 49,
    "start_time": "2022-03-20T22:16:04.712Z"
   },
   {
    "duration": 12,
    "start_time": "2022-03-20T22:16:04.763Z"
   },
   {
    "duration": 26,
    "start_time": "2022-03-20T22:16:04.776Z"
   },
   {
    "duration": 13,
    "start_time": "2022-03-20T22:16:04.803Z"
   },
   {
    "duration": 9,
    "start_time": "2022-03-20T22:16:04.818Z"
   },
   {
    "duration": 6,
    "start_time": "2022-03-20T22:16:07.972Z"
   },
   {
    "duration": 8,
    "start_time": "2022-03-20T22:16:30.352Z"
   },
   {
    "duration": 5,
    "start_time": "2022-03-20T22:16:39.123Z"
   },
   {
    "duration": 7,
    "start_time": "2022-03-20T22:16:39.682Z"
   },
   {
    "duration": 13,
    "start_time": "2022-03-20T22:16:52.313Z"
   },
   {
    "duration": 17,
    "start_time": "2022-03-20T22:19:35.992Z"
   },
   {
    "duration": 15,
    "start_time": "2022-03-20T22:19:45.312Z"
   },
   {
    "duration": 14,
    "start_time": "2022-03-20T22:20:01.223Z"
   },
   {
    "duration": 14,
    "start_time": "2022-03-20T22:20:05.583Z"
   },
   {
    "duration": 16,
    "start_time": "2022-03-20T22:20:18.972Z"
   },
   {
    "duration": 1163,
    "start_time": "2022-03-20T22:20:29.124Z"
   },
   {
    "duration": 15,
    "start_time": "2022-03-20T22:20:30.289Z"
   },
   {
    "duration": 30,
    "start_time": "2022-03-20T22:20:30.306Z"
   },
   {
    "duration": 13,
    "start_time": "2022-03-20T22:20:30.338Z"
   },
   {
    "duration": 16,
    "start_time": "2022-03-20T22:20:30.353Z"
   },
   {
    "duration": 15,
    "start_time": "2022-03-20T22:20:30.370Z"
   },
   {
    "duration": 33,
    "start_time": "2022-03-20T22:20:30.387Z"
   },
   {
    "duration": 10,
    "start_time": "2022-03-20T22:20:30.422Z"
   },
   {
    "duration": 10,
    "start_time": "2022-03-20T22:20:30.434Z"
   },
   {
    "duration": 15,
    "start_time": "2022-03-20T22:20:30.446Z"
   },
   {
    "duration": 29,
    "start_time": "2022-03-20T22:20:30.463Z"
   },
   {
    "duration": 13,
    "start_time": "2022-03-20T22:20:30.494Z"
   },
   {
    "duration": 218,
    "start_time": "2022-03-20T22:20:30.509Z"
   },
   {
    "duration": 7,
    "start_time": "2022-03-20T22:20:30.730Z"
   },
   {
    "duration": 942,
    "start_time": "2022-03-20T22:20:30.739Z"
   },
   {
    "duration": 298,
    "start_time": "2022-03-20T22:20:31.683Z"
   },
   {
    "duration": 14,
    "start_time": "2022-03-20T22:20:31.982Z"
   },
   {
    "duration": 301,
    "start_time": "2022-03-20T22:20:31.997Z"
   },
   {
    "duration": 0,
    "start_time": "2022-03-20T22:20:32.299Z"
   },
   {
    "duration": 0,
    "start_time": "2022-03-20T22:20:32.301Z"
   },
   {
    "duration": 0,
    "start_time": "2022-03-20T22:20:32.302Z"
   },
   {
    "duration": 0,
    "start_time": "2022-03-20T22:20:32.303Z"
   },
   {
    "duration": 0,
    "start_time": "2022-03-20T22:20:32.304Z"
   },
   {
    "duration": 0,
    "start_time": "2022-03-20T22:20:32.305Z"
   },
   {
    "duration": 0,
    "start_time": "2022-03-20T22:20:32.306Z"
   },
   {
    "duration": 0,
    "start_time": "2022-03-20T22:20:32.307Z"
   },
   {
    "duration": 0,
    "start_time": "2022-03-20T22:20:32.308Z"
   },
   {
    "duration": 0,
    "start_time": "2022-03-20T22:20:32.309Z"
   },
   {
    "duration": 0,
    "start_time": "2022-03-20T22:20:32.310Z"
   },
   {
    "duration": 0,
    "start_time": "2022-03-20T22:20:32.311Z"
   },
   {
    "duration": 1689,
    "start_time": "2022-03-21T11:25:53.298Z"
   },
   {
    "duration": 28,
    "start_time": "2022-03-21T11:25:54.990Z"
   },
   {
    "duration": 32,
    "start_time": "2022-03-21T11:25:55.022Z"
   },
   {
    "duration": 16,
    "start_time": "2022-03-21T11:25:55.056Z"
   },
   {
    "duration": 20,
    "start_time": "2022-03-21T11:25:55.105Z"
   },
   {
    "duration": 9,
    "start_time": "2022-03-21T11:25:55.126Z"
   },
   {
    "duration": 29,
    "start_time": "2022-03-21T11:25:55.137Z"
   },
   {
    "duration": 33,
    "start_time": "2022-03-21T11:25:55.168Z"
   },
   {
    "duration": 25,
    "start_time": "2022-03-21T11:25:55.204Z"
   },
   {
    "duration": 12,
    "start_time": "2022-03-21T11:25:55.231Z"
   },
   {
    "duration": 17,
    "start_time": "2022-03-21T11:25:55.247Z"
   },
   {
    "duration": 19,
    "start_time": "2022-03-21T11:25:55.266Z"
   },
   {
    "duration": 279,
    "start_time": "2022-03-21T11:25:55.286Z"
   },
   {
    "duration": 9,
    "start_time": "2022-03-21T11:25:55.568Z"
   },
   {
    "duration": 1245,
    "start_time": "2022-03-21T11:25:55.580Z"
   },
   {
    "duration": 365,
    "start_time": "2022-03-21T11:25:56.827Z"
   },
   {
    "duration": 26,
    "start_time": "2022-03-21T11:25:57.194Z"
   },
   {
    "duration": 392,
    "start_time": "2022-03-21T11:25:57.222Z"
   },
   {
    "duration": 0,
    "start_time": "2022-03-21T11:25:57.618Z"
   },
   {
    "duration": 0,
    "start_time": "2022-03-21T11:25:57.620Z"
   },
   {
    "duration": 0,
    "start_time": "2022-03-21T11:25:57.621Z"
   },
   {
    "duration": 0,
    "start_time": "2022-03-21T11:25:57.623Z"
   },
   {
    "duration": 0,
    "start_time": "2022-03-21T11:25:57.624Z"
   },
   {
    "duration": 0,
    "start_time": "2022-03-21T11:25:57.626Z"
   },
   {
    "duration": 0,
    "start_time": "2022-03-21T11:25:57.627Z"
   },
   {
    "duration": 0,
    "start_time": "2022-03-21T11:25:57.629Z"
   },
   {
    "duration": 0,
    "start_time": "2022-03-21T11:25:57.630Z"
   },
   {
    "duration": 0,
    "start_time": "2022-03-21T11:25:57.632Z"
   },
   {
    "duration": 0,
    "start_time": "2022-03-21T11:25:57.633Z"
   },
   {
    "duration": 0,
    "start_time": "2022-03-21T11:25:57.635Z"
   },
   {
    "duration": 30,
    "start_time": "2022-03-21T11:26:37.107Z"
   },
   {
    "duration": 11,
    "start_time": "2022-03-21T11:26:41.589Z"
   },
   {
    "duration": 10,
    "start_time": "2022-03-21T14:51:29.514Z"
   },
   {
    "duration": 14,
    "start_time": "2022-03-21T14:51:45.325Z"
   },
   {
    "duration": 14,
    "start_time": "2022-03-21T14:51:52.065Z"
   },
   {
    "duration": 11,
    "start_time": "2022-03-21T14:52:11.096Z"
   },
   {
    "duration": 52,
    "start_time": "2022-03-21T14:52:15.697Z"
   },
   {
    "duration": 16,
    "start_time": "2022-03-21T14:52:15.751Z"
   },
   {
    "duration": 50,
    "start_time": "2022-03-21T14:52:15.769Z"
   },
   {
    "duration": 17,
    "start_time": "2022-03-21T14:52:15.820Z"
   },
   {
    "duration": 11,
    "start_time": "2022-03-21T14:52:15.840Z"
   },
   {
    "duration": 7,
    "start_time": "2022-03-21T14:52:15.853Z"
   },
   {
    "duration": 49,
    "start_time": "2022-03-21T14:52:15.862Z"
   },
   {
    "duration": 11,
    "start_time": "2022-03-21T14:52:15.913Z"
   },
   {
    "duration": 7,
    "start_time": "2022-03-21T14:52:15.926Z"
   },
   {
    "duration": 20,
    "start_time": "2022-03-21T14:52:15.935Z"
   },
   {
    "duration": 17,
    "start_time": "2022-03-21T14:52:15.957Z"
   },
   {
    "duration": 16,
    "start_time": "2022-03-21T14:52:16.001Z"
   },
   {
    "duration": 272,
    "start_time": "2022-03-21T14:52:16.020Z"
   },
   {
    "duration": 9,
    "start_time": "2022-03-21T14:52:16.301Z"
   },
   {
    "duration": 1149,
    "start_time": "2022-03-21T14:52:16.312Z"
   },
   {
    "duration": 343,
    "start_time": "2022-03-21T14:52:17.463Z"
   },
   {
    "duration": 15,
    "start_time": "2022-03-21T14:52:17.809Z"
   },
   {
    "duration": 256,
    "start_time": "2022-03-21T14:52:17.826Z"
   },
   {
    "duration": 0,
    "start_time": "2022-03-21T14:52:18.084Z"
   },
   {
    "duration": 0,
    "start_time": "2022-03-21T14:52:18.085Z"
   },
   {
    "duration": 1,
    "start_time": "2022-03-21T14:52:18.086Z"
   },
   {
    "duration": 0,
    "start_time": "2022-03-21T14:52:18.088Z"
   },
   {
    "duration": 0,
    "start_time": "2022-03-21T14:52:18.101Z"
   },
   {
    "duration": 0,
    "start_time": "2022-03-21T14:52:18.103Z"
   },
   {
    "duration": 0,
    "start_time": "2022-03-21T14:52:18.104Z"
   },
   {
    "duration": 0,
    "start_time": "2022-03-21T14:52:18.105Z"
   },
   {
    "duration": 0,
    "start_time": "2022-03-21T14:52:18.107Z"
   },
   {
    "duration": 0,
    "start_time": "2022-03-21T14:52:18.108Z"
   },
   {
    "duration": 0,
    "start_time": "2022-03-21T14:52:18.109Z"
   },
   {
    "duration": 0,
    "start_time": "2022-03-21T14:52:18.110Z"
   },
   {
    "duration": 3754,
    "start_time": "2022-03-21T14:54:01.039Z"
   },
   {
    "duration": 242,
    "start_time": "2022-03-21T14:54:16.759Z"
   },
   {
    "duration": 48,
    "start_time": "2022-03-21T14:54:28.638Z"
   },
   {
    "duration": 50,
    "start_time": "2022-03-21T14:54:31.239Z"
   },
   {
    "duration": 14,
    "start_time": "2022-03-21T14:54:31.291Z"
   },
   {
    "duration": 34,
    "start_time": "2022-03-21T14:54:31.307Z"
   },
   {
    "duration": 16,
    "start_time": "2022-03-21T14:54:31.343Z"
   },
   {
    "duration": 13,
    "start_time": "2022-03-21T14:54:31.361Z"
   },
   {
    "duration": 7,
    "start_time": "2022-03-21T14:54:31.401Z"
   },
   {
    "duration": 26,
    "start_time": "2022-03-21T14:54:31.410Z"
   },
   {
    "duration": 10,
    "start_time": "2022-03-21T14:54:31.438Z"
   },
   {
    "duration": 11,
    "start_time": "2022-03-21T14:54:31.450Z"
   },
   {
    "duration": 37,
    "start_time": "2022-03-21T14:54:31.464Z"
   },
   {
    "duration": 19,
    "start_time": "2022-03-21T14:54:31.503Z"
   },
   {
    "duration": 17,
    "start_time": "2022-03-21T14:54:31.524Z"
   },
   {
    "duration": 281,
    "start_time": "2022-03-21T14:54:31.543Z"
   },
   {
    "duration": 9,
    "start_time": "2022-03-21T14:54:31.826Z"
   },
   {
    "duration": 1085,
    "start_time": "2022-03-21T14:54:31.837Z"
   },
   {
    "duration": 344,
    "start_time": "2022-03-21T14:54:32.924Z"
   },
   {
    "duration": 16,
    "start_time": "2022-03-21T14:54:33.270Z"
   },
   {
    "duration": 269,
    "start_time": "2022-03-21T14:54:33.301Z"
   },
   {
    "duration": 0,
    "start_time": "2022-03-21T14:54:33.572Z"
   },
   {
    "duration": 0,
    "start_time": "2022-03-21T14:54:33.573Z"
   },
   {
    "duration": 0,
    "start_time": "2022-03-21T14:54:33.575Z"
   },
   {
    "duration": 0,
    "start_time": "2022-03-21T14:54:33.576Z"
   },
   {
    "duration": 0,
    "start_time": "2022-03-21T14:54:33.577Z"
   },
   {
    "duration": 0,
    "start_time": "2022-03-21T14:54:33.578Z"
   },
   {
    "duration": 0,
    "start_time": "2022-03-21T14:54:33.579Z"
   },
   {
    "duration": 0,
    "start_time": "2022-03-21T14:54:33.580Z"
   },
   {
    "duration": 0,
    "start_time": "2022-03-21T14:54:33.581Z"
   },
   {
    "duration": 0,
    "start_time": "2022-03-21T14:54:33.582Z"
   },
   {
    "duration": 0,
    "start_time": "2022-03-21T14:54:33.602Z"
   },
   {
    "duration": 0,
    "start_time": "2022-03-21T14:54:33.603Z"
   },
   {
    "duration": 1772,
    "start_time": "2022-03-26T13:30:48.323Z"
   },
   {
    "duration": 66,
    "start_time": "2022-03-26T13:30:50.099Z"
   },
   {
    "duration": 25,
    "start_time": "2022-03-26T13:30:50.167Z"
   },
   {
    "duration": 61,
    "start_time": "2022-03-26T13:30:50.196Z"
   },
   {
    "duration": 23,
    "start_time": "2022-03-26T13:30:50.259Z"
   },
   {
    "duration": 22,
    "start_time": "2022-03-26T13:30:50.284Z"
   },
   {
    "duration": 34,
    "start_time": "2022-03-26T13:30:50.309Z"
   },
   {
    "duration": 42,
    "start_time": "2022-03-26T13:30:50.346Z"
   },
   {
    "duration": 17,
    "start_time": "2022-03-26T13:30:50.390Z"
   },
   {
    "duration": 37,
    "start_time": "2022-03-26T13:30:50.413Z"
   },
   {
    "duration": 17,
    "start_time": "2022-03-26T13:30:50.453Z"
   },
   {
    "duration": 24,
    "start_time": "2022-03-26T13:30:50.472Z"
   },
   {
    "duration": 61,
    "start_time": "2022-03-26T13:30:50.499Z"
   },
   {
    "duration": 392,
    "start_time": "2022-03-26T13:30:50.563Z"
   },
   {
    "duration": 11,
    "start_time": "2022-03-26T13:30:50.957Z"
   },
   {
    "duration": 1550,
    "start_time": "2022-03-26T13:30:50.970Z"
   },
   {
    "duration": 711,
    "start_time": "2022-03-26T13:30:52.523Z"
   },
   {
    "duration": 31,
    "start_time": "2022-03-26T13:30:53.237Z"
   },
   {
    "duration": 547,
    "start_time": "2022-03-26T13:30:53.270Z"
   },
   {
    "duration": 0,
    "start_time": "2022-03-26T13:30:53.820Z"
   },
   {
    "duration": 0,
    "start_time": "2022-03-26T13:30:53.821Z"
   },
   {
    "duration": 0,
    "start_time": "2022-03-26T13:30:53.823Z"
   },
   {
    "duration": 0,
    "start_time": "2022-03-26T13:30:53.824Z"
   },
   {
    "duration": 0,
    "start_time": "2022-03-26T13:30:53.826Z"
   },
   {
    "duration": 0,
    "start_time": "2022-03-26T13:30:53.843Z"
   },
   {
    "duration": 0,
    "start_time": "2022-03-26T13:30:53.844Z"
   },
   {
    "duration": 0,
    "start_time": "2022-03-26T13:30:53.846Z"
   },
   {
    "duration": 0,
    "start_time": "2022-03-26T13:30:53.848Z"
   },
   {
    "duration": 0,
    "start_time": "2022-03-26T13:30:53.849Z"
   },
   {
    "duration": 0,
    "start_time": "2022-03-26T13:30:53.850Z"
   },
   {
    "duration": 0,
    "start_time": "2022-03-26T13:30:53.852Z"
   },
   {
    "duration": 9,
    "start_time": "2022-03-26T13:31:24.547Z"
   },
   {
    "duration": 20,
    "start_time": "2022-03-26T13:32:18.565Z"
   },
   {
    "duration": 14,
    "start_time": "2022-03-26T13:33:33.683Z"
   },
   {
    "duration": 14,
    "start_time": "2022-03-26T13:33:38.310Z"
   },
   {
    "duration": 11,
    "start_time": "2022-03-26T13:33:54.237Z"
   },
   {
    "duration": 7,
    "start_time": "2022-03-26T13:34:07.409Z"
   },
   {
    "duration": 13,
    "start_time": "2022-03-26T13:34:56.426Z"
   },
   {
    "duration": 4,
    "start_time": "2022-03-26T13:35:35.617Z"
   },
   {
    "duration": 4,
    "start_time": "2022-03-26T13:35:36.541Z"
   },
   {
    "duration": 9,
    "start_time": "2022-03-26T13:35:39.406Z"
   },
   {
    "duration": 19,
    "start_time": "2022-03-26T13:35:41.501Z"
   },
   {
    "duration": 4,
    "start_time": "2022-03-26T13:35:46.735Z"
   },
   {
    "duration": 71,
    "start_time": "2022-03-26T13:35:46.742Z"
   },
   {
    "duration": 41,
    "start_time": "2022-03-26T13:35:46.815Z"
   },
   {
    "duration": 38,
    "start_time": "2022-03-26T13:35:46.861Z"
   },
   {
    "duration": 55,
    "start_time": "2022-03-26T13:35:46.902Z"
   },
   {
    "duration": 13,
    "start_time": "2022-03-26T13:35:46.959Z"
   },
   {
    "duration": 10,
    "start_time": "2022-03-26T13:35:46.974Z"
   },
   {
    "duration": 19,
    "start_time": "2022-03-26T13:35:46.986Z"
   },
   {
    "duration": 30,
    "start_time": "2022-03-26T13:35:47.043Z"
   },
   {
    "duration": 10,
    "start_time": "2022-03-26T13:35:47.077Z"
   },
   {
    "duration": 7,
    "start_time": "2022-03-26T13:35:47.089Z"
   },
   {
    "duration": 46,
    "start_time": "2022-03-26T13:35:47.098Z"
   },
   {
    "duration": 24,
    "start_time": "2022-03-26T13:35:47.146Z"
   },
   {
    "duration": 21,
    "start_time": "2022-03-26T13:35:47.173Z"
   },
   {
    "duration": 451,
    "start_time": "2022-03-26T13:35:47.196Z"
   },
   {
    "duration": 12,
    "start_time": "2022-03-26T13:35:47.650Z"
   },
   {
    "duration": 1662,
    "start_time": "2022-03-26T13:35:47.664Z"
   },
   {
    "duration": 509,
    "start_time": "2022-03-26T13:35:49.328Z"
   },
   {
    "duration": 21,
    "start_time": "2022-03-26T13:35:49.843Z"
   },
   {
    "duration": 397,
    "start_time": "2022-03-26T13:35:49.866Z"
   },
   {
    "duration": 0,
    "start_time": "2022-03-26T13:35:50.273Z"
   },
   {
    "duration": 0,
    "start_time": "2022-03-26T13:35:50.278Z"
   },
   {
    "duration": 0,
    "start_time": "2022-03-26T13:35:50.279Z"
   },
   {
    "duration": 0,
    "start_time": "2022-03-26T13:35:50.283Z"
   },
   {
    "duration": 0,
    "start_time": "2022-03-26T13:35:50.287Z"
   },
   {
    "duration": 0,
    "start_time": "2022-03-26T13:35:50.289Z"
   },
   {
    "duration": 0,
    "start_time": "2022-03-26T13:35:50.292Z"
   },
   {
    "duration": 0,
    "start_time": "2022-03-26T13:35:50.294Z"
   },
   {
    "duration": 0,
    "start_time": "2022-03-26T13:35:50.296Z"
   },
   {
    "duration": 0,
    "start_time": "2022-03-26T13:35:50.298Z"
   },
   {
    "duration": 0,
    "start_time": "2022-03-26T13:35:50.300Z"
   },
   {
    "duration": 1,
    "start_time": "2022-03-26T13:35:50.302Z"
   },
   {
    "duration": 392,
    "start_time": "2022-03-26T13:40:23.143Z"
   },
   {
    "duration": 5,
    "start_time": "2022-03-26T13:46:47.912Z"
   },
   {
    "duration": 65,
    "start_time": "2022-03-26T13:46:47.920Z"
   },
   {
    "duration": 20,
    "start_time": "2022-03-26T13:46:47.987Z"
   },
   {
    "duration": 65,
    "start_time": "2022-03-26T13:46:48.009Z"
   },
   {
    "duration": 21,
    "start_time": "2022-03-26T13:46:48.077Z"
   },
   {
    "duration": 45,
    "start_time": "2022-03-26T13:46:48.101Z"
   },
   {
    "duration": 13,
    "start_time": "2022-03-26T13:46:48.149Z"
   },
   {
    "duration": 26,
    "start_time": "2022-03-26T13:46:48.167Z"
   },
   {
    "duration": 67,
    "start_time": "2022-03-26T13:46:48.196Z"
   },
   {
    "duration": 10,
    "start_time": "2022-03-26T13:46:48.266Z"
   },
   {
    "duration": 24,
    "start_time": "2022-03-26T13:46:48.278Z"
   },
   {
    "duration": 55,
    "start_time": "2022-03-26T13:46:48.304Z"
   },
   {
    "duration": 20,
    "start_time": "2022-03-26T13:46:48.364Z"
   },
   {
    "duration": 437,
    "start_time": "2022-03-26T13:46:48.387Z"
   },
   {
    "duration": 20,
    "start_time": "2022-03-26T13:46:48.827Z"
   },
   {
    "duration": 2494,
    "start_time": "2022-03-26T13:46:48.849Z"
   },
   {
    "duration": 536,
    "start_time": "2022-03-26T13:46:51.345Z"
   },
   {
    "duration": 21,
    "start_time": "2022-03-26T13:46:51.883Z"
   },
   {
    "duration": 388,
    "start_time": "2022-03-26T13:46:51.906Z"
   },
   {
    "duration": 0,
    "start_time": "2022-03-26T13:46:52.296Z"
   },
   {
    "duration": 0,
    "start_time": "2022-03-26T13:46:52.298Z"
   },
   {
    "duration": 0,
    "start_time": "2022-03-26T13:46:52.299Z"
   },
   {
    "duration": 0,
    "start_time": "2022-03-26T13:46:52.300Z"
   },
   {
    "duration": 0,
    "start_time": "2022-03-26T13:46:52.301Z"
   },
   {
    "duration": 0,
    "start_time": "2022-03-26T13:46:52.303Z"
   },
   {
    "duration": 0,
    "start_time": "2022-03-26T13:46:52.304Z"
   },
   {
    "duration": 6,
    "start_time": "2022-03-26T13:48:23.834Z"
   },
   {
    "duration": 6,
    "start_time": "2022-03-26T13:48:33.663Z"
   },
   {
    "duration": 717,
    "start_time": "2022-03-26T13:49:25.890Z"
   },
   {
    "duration": 646,
    "start_time": "2022-03-26T13:49:50.873Z"
   },
   {
    "duration": 6,
    "start_time": "2022-03-26T13:51:30.411Z"
   },
   {
    "duration": 363,
    "start_time": "2022-03-26T13:51:35.565Z"
   },
   {
    "duration": 263,
    "start_time": "2022-03-26T14:15:41.437Z"
   },
   {
    "duration": 628,
    "start_time": "2022-03-26T14:15:52.769Z"
   },
   {
    "duration": 636,
    "start_time": "2022-03-26T14:15:57.835Z"
   },
   {
    "duration": 5,
    "start_time": "2022-03-26T14:16:08.313Z"
   },
   {
    "duration": 363,
    "start_time": "2022-03-26T14:16:11.228Z"
   },
   {
    "duration": 725,
    "start_time": "2022-03-26T14:17:54.120Z"
   },
   {
    "duration": 1407,
    "start_time": "2022-03-26T20:54:22.794Z"
   },
   {
    "duration": 63,
    "start_time": "2022-03-26T20:54:24.203Z"
   },
   {
    "duration": 15,
    "start_time": "2022-03-26T20:54:24.267Z"
   },
   {
    "duration": 36,
    "start_time": "2022-03-26T20:54:24.284Z"
   },
   {
    "duration": 13,
    "start_time": "2022-03-26T20:54:24.321Z"
   },
   {
    "duration": 19,
    "start_time": "2022-03-26T20:54:24.335Z"
   },
   {
    "duration": 14,
    "start_time": "2022-03-26T20:54:24.356Z"
   },
   {
    "duration": 23,
    "start_time": "2022-03-26T20:54:24.371Z"
   },
   {
    "duration": 22,
    "start_time": "2022-03-26T20:54:24.395Z"
   },
   {
    "duration": 4,
    "start_time": "2022-03-26T20:54:24.420Z"
   },
   {
    "duration": 19,
    "start_time": "2022-03-26T20:54:24.425Z"
   },
   {
    "duration": 6,
    "start_time": "2022-03-26T20:54:24.445Z"
   },
   {
    "duration": 30,
    "start_time": "2022-03-26T20:54:24.452Z"
   },
   {
    "duration": 15,
    "start_time": "2022-03-26T20:54:24.484Z"
   },
   {
    "duration": 314,
    "start_time": "2022-03-26T20:54:24.501Z"
   },
   {
    "duration": 8,
    "start_time": "2022-03-26T20:54:24.817Z"
   },
   {
    "duration": 256,
    "start_time": "2022-03-26T20:54:24.826Z"
   },
   {
    "duration": 21,
    "start_time": "2022-03-26T20:54:25.084Z"
   },
   {
    "duration": 315,
    "start_time": "2022-03-26T20:54:25.107Z"
   },
   {
    "duration": 4,
    "start_time": "2022-03-26T20:54:25.423Z"
   },
   {
    "duration": 346,
    "start_time": "2022-03-26T20:54:25.429Z"
   },
   {
    "duration": 177,
    "start_time": "2022-03-26T20:54:25.778Z"
   },
   {
    "duration": 17,
    "start_time": "2022-03-26T20:54:25.957Z"
   },
   {
    "duration": 316,
    "start_time": "2022-03-26T20:54:25.976Z"
   },
   {
    "duration": 223,
    "start_time": "2022-03-26T20:54:26.300Z"
   },
   {
    "duration": 179,
    "start_time": "2022-03-26T20:54:26.524Z"
   },
   {
    "duration": 173,
    "start_time": "2022-03-26T20:54:26.704Z"
   },
   {
    "duration": 12,
    "start_time": "2022-03-26T20:54:26.880Z"
   },
   {
    "duration": 92,
    "start_time": "2022-03-26T20:54:41.550Z"
   },
   {
    "duration": 180,
    "start_time": "2022-03-26T20:54:49.713Z"
   },
   {
    "duration": 183,
    "start_time": "2022-03-26T20:58:21.442Z"
   },
   {
    "duration": 188,
    "start_time": "2022-03-26T20:58:33.115Z"
   },
   {
    "duration": 187,
    "start_time": "2022-03-26T20:59:04.745Z"
   },
   {
    "duration": 182,
    "start_time": "2022-03-26T20:59:19.593Z"
   },
   {
    "duration": 183,
    "start_time": "2022-03-26T20:59:31.027Z"
   },
   {
    "duration": 166,
    "start_time": "2022-03-26T20:59:39.512Z"
   },
   {
    "duration": 262,
    "start_time": "2022-03-26T20:59:48.402Z"
   },
   {
    "duration": 179,
    "start_time": "2022-03-26T21:02:07.309Z"
   },
   {
    "duration": 3,
    "start_time": "2022-03-26T21:03:52.089Z"
   },
   {
    "duration": 1668,
    "start_time": "2022-03-26T21:03:52.095Z"
   },
   {
    "duration": 13,
    "start_time": "2022-03-26T21:03:53.765Z"
   },
   {
    "duration": 27,
    "start_time": "2022-03-26T21:03:53.779Z"
   },
   {
    "duration": 13,
    "start_time": "2022-03-26T21:03:53.807Z"
   },
   {
    "duration": 8,
    "start_time": "2022-03-26T21:03:53.821Z"
   },
   {
    "duration": 6,
    "start_time": "2022-03-26T21:03:53.831Z"
   },
   {
    "duration": 12,
    "start_time": "2022-03-26T21:03:53.838Z"
   },
   {
    "duration": 18,
    "start_time": "2022-03-26T21:03:53.852Z"
   },
   {
    "duration": 32,
    "start_time": "2022-03-26T21:03:53.871Z"
   },
   {
    "duration": 12,
    "start_time": "2022-03-26T21:03:53.904Z"
   },
   {
    "duration": 3,
    "start_time": "2022-03-26T21:03:53.918Z"
   },
   {
    "duration": 18,
    "start_time": "2022-03-26T21:03:53.923Z"
   },
   {
    "duration": 12,
    "start_time": "2022-03-26T21:03:53.942Z"
   },
   {
    "duration": 302,
    "start_time": "2022-03-26T21:03:53.956Z"
   },
   {
    "duration": 7,
    "start_time": "2022-03-26T21:03:54.260Z"
   },
   {
    "duration": 252,
    "start_time": "2022-03-26T21:03:54.268Z"
   },
   {
    "duration": 13,
    "start_time": "2022-03-26T21:03:54.522Z"
   },
   {
    "duration": 195,
    "start_time": "2022-03-26T21:03:54.537Z"
   },
   {
    "duration": 198,
    "start_time": "2022-03-26T21:03:54.734Z"
   },
   {
    "duration": 224,
    "start_time": "2022-03-26T21:03:54.934Z"
   },
   {
    "duration": 218,
    "start_time": "2022-03-26T21:03:55.160Z"
   },
   {
    "duration": 204,
    "start_time": "2022-03-26T21:03:55.380Z"
   },
   {
    "duration": 293,
    "start_time": "2022-03-26T21:03:55.588Z"
   },
   {
    "duration": 177,
    "start_time": "2022-03-26T21:03:55.883Z"
   },
   {
    "duration": 19,
    "start_time": "2022-03-26T21:03:56.061Z"
   },
   {
    "duration": 227,
    "start_time": "2022-03-26T21:03:56.081Z"
   },
   {
    "duration": 221,
    "start_time": "2022-03-26T21:03:56.310Z"
   },
   {
    "duration": 167,
    "start_time": "2022-03-26T21:03:56.532Z"
   },
   {
    "duration": 196,
    "start_time": "2022-03-26T21:03:56.701Z"
   },
   {
    "duration": 12,
    "start_time": "2022-03-26T21:03:56.898Z"
   },
   {
    "duration": 14,
    "start_time": "2022-03-26T21:08:48.766Z"
   },
   {
    "duration": 106,
    "start_time": "2022-03-27T09:59:59.615Z"
   },
   {
    "duration": 117,
    "start_time": "2022-03-27T10:00:07.653Z"
   },
   {
    "duration": 1909,
    "start_time": "2022-03-27T10:00:12.448Z"
   },
   {
    "duration": 74,
    "start_time": "2022-03-27T10:00:14.360Z"
   },
   {
    "duration": 29,
    "start_time": "2022-03-27T10:00:14.437Z"
   },
   {
    "duration": 41,
    "start_time": "2022-03-27T10:00:14.483Z"
   },
   {
    "duration": 21,
    "start_time": "2022-03-27T10:00:14.528Z"
   },
   {
    "duration": 43,
    "start_time": "2022-03-27T10:00:14.551Z"
   },
   {
    "duration": 11,
    "start_time": "2022-03-27T10:00:14.597Z"
   },
   {
    "duration": 30,
    "start_time": "2022-03-27T10:00:14.611Z"
   },
   {
    "duration": 51,
    "start_time": "2022-03-27T10:00:14.644Z"
   },
   {
    "duration": 8,
    "start_time": "2022-03-27T10:00:14.698Z"
   },
   {
    "duration": 30,
    "start_time": "2022-03-27T10:00:14.708Z"
   },
   {
    "duration": 6,
    "start_time": "2022-03-27T10:00:14.741Z"
   },
   {
    "duration": 49,
    "start_time": "2022-03-27T10:00:14.749Z"
   },
   {
    "duration": 22,
    "start_time": "2022-03-27T10:00:14.803Z"
   },
   {
    "duration": 598,
    "start_time": "2022-03-27T10:00:14.827Z"
   },
   {
    "duration": 11,
    "start_time": "2022-03-27T10:00:15.427Z"
   },
   {
    "duration": 486,
    "start_time": "2022-03-27T10:00:15.440Z"
   },
   {
    "duration": 23,
    "start_time": "2022-03-27T10:00:15.928Z"
   },
   {
    "duration": 381,
    "start_time": "2022-03-27T10:00:15.953Z"
   },
   {
    "duration": 361,
    "start_time": "2022-03-27T10:00:16.336Z"
   },
   {
    "duration": 355,
    "start_time": "2022-03-27T10:00:16.700Z"
   },
   {
    "duration": 362,
    "start_time": "2022-03-27T10:00:17.058Z"
   },
   {
    "duration": 440,
    "start_time": "2022-03-27T10:00:17.423Z"
   },
   {
    "duration": 336,
    "start_time": "2022-03-27T10:00:17.866Z"
   },
   {
    "duration": 424,
    "start_time": "2022-03-27T10:00:18.204Z"
   },
   {
    "duration": 53,
    "start_time": "2022-03-27T10:00:18.631Z"
   },
   {
    "duration": 521,
    "start_time": "2022-03-27T10:00:18.687Z"
   },
   {
    "duration": 416,
    "start_time": "2022-03-27T10:00:19.211Z"
   },
   {
    "duration": 344,
    "start_time": "2022-03-27T10:00:19.629Z"
   },
   {
    "duration": 357,
    "start_time": "2022-03-27T10:00:19.976Z"
   },
   {
    "duration": 19,
    "start_time": "2022-03-27T10:00:20.336Z"
   },
   {
    "duration": 111,
    "start_time": "2022-03-27T10:00:20.357Z"
   },
   {
    "duration": 284,
    "start_time": "2022-03-27T10:00:58.532Z"
   },
   {
    "duration": 290,
    "start_time": "2022-03-27T10:02:17.842Z"
   },
   {
    "duration": 162,
    "start_time": "2022-03-27T10:04:14.903Z"
   },
   {
    "duration": 18,
    "start_time": "2022-03-27T10:04:25.364Z"
   },
   {
    "duration": 72,
    "start_time": "2022-03-27T10:11:32.494Z"
   },
   {
    "duration": 424,
    "start_time": "2022-03-27T10:11:51.217Z"
   },
   {
    "duration": 506,
    "start_time": "2022-03-27T10:12:11.047Z"
   },
   {
    "duration": 21,
    "start_time": "2022-03-27T10:13:04.558Z"
   },
   {
    "duration": 98,
    "start_time": "2022-03-27T10:13:53.762Z"
   },
   {
    "duration": 452,
    "start_time": "2022-03-27T10:14:25.393Z"
   },
   {
    "duration": 53,
    "start_time": "2022-03-27T10:42:36.928Z"
   },
   {
    "duration": 1247,
    "start_time": "2022-03-27T10:42:43.570Z"
   },
   {
    "duration": 55,
    "start_time": "2022-03-27T10:42:44.819Z"
   },
   {
    "duration": 18,
    "start_time": "2022-03-27T10:42:44.876Z"
   },
   {
    "duration": 37,
    "start_time": "2022-03-27T10:42:44.897Z"
   },
   {
    "duration": 14,
    "start_time": "2022-03-27T10:42:44.936Z"
   },
   {
    "duration": 11,
    "start_time": "2022-03-27T10:42:44.952Z"
   },
   {
    "duration": 9,
    "start_time": "2022-03-27T10:42:44.965Z"
   },
   {
    "duration": 40,
    "start_time": "2022-03-27T10:42:44.976Z"
   },
   {
    "duration": 21,
    "start_time": "2022-03-27T10:42:45.018Z"
   },
   {
    "duration": 5,
    "start_time": "2022-03-27T10:42:45.041Z"
   },
   {
    "duration": 13,
    "start_time": "2022-03-27T10:42:45.048Z"
   },
   {
    "duration": 5,
    "start_time": "2022-03-27T10:42:45.063Z"
   },
   {
    "duration": 46,
    "start_time": "2022-03-27T10:42:45.070Z"
   },
   {
    "duration": 13,
    "start_time": "2022-03-27T10:42:45.118Z"
   },
   {
    "duration": 378,
    "start_time": "2022-03-27T10:42:45.133Z"
   },
   {
    "duration": 9,
    "start_time": "2022-03-27T10:42:45.512Z"
   },
   {
    "duration": 307,
    "start_time": "2022-03-27T10:42:45.523Z"
   },
   {
    "duration": 14,
    "start_time": "2022-03-27T10:42:45.833Z"
   },
   {
    "duration": 218,
    "start_time": "2022-03-27T10:42:45.848Z"
   },
   {
    "duration": 226,
    "start_time": "2022-03-27T10:42:46.068Z"
   },
   {
    "duration": 211,
    "start_time": "2022-03-27T10:42:46.295Z"
   },
   {
    "duration": 210,
    "start_time": "2022-03-27T10:42:46.509Z"
   },
   {
    "duration": 275,
    "start_time": "2022-03-27T10:42:46.720Z"
   },
   {
    "duration": 205,
    "start_time": "2022-03-27T10:42:46.997Z"
   },
   {
    "duration": 187,
    "start_time": "2022-03-27T10:42:47.208Z"
   },
   {
    "duration": 20,
    "start_time": "2022-03-27T10:42:47.397Z"
   },
   {
    "duration": 242,
    "start_time": "2022-03-27T10:42:47.419Z"
   },
   {
    "duration": 244,
    "start_time": "2022-03-27T10:42:47.664Z"
   },
   {
    "duration": 172,
    "start_time": "2022-03-27T10:42:47.910Z"
   },
   {
    "duration": 173,
    "start_time": "2022-03-27T10:42:48.084Z"
   },
   {
    "duration": 13,
    "start_time": "2022-03-27T10:42:48.259Z"
   },
   {
    "duration": 240,
    "start_time": "2022-03-27T10:42:48.273Z"
   },
   {
    "duration": 13,
    "start_time": "2022-03-27T10:42:48.515Z"
   },
   {
    "duration": 214,
    "start_time": "2022-03-27T10:42:48.530Z"
   },
   {
    "duration": 218,
    "start_time": "2022-03-27T10:43:20.556Z"
   },
   {
    "duration": 18,
    "start_time": "2022-03-27T10:55:14.024Z"
   },
   {
    "duration": 338,
    "start_time": "2022-03-27T10:56:32.266Z"
   },
   {
    "duration": 466,
    "start_time": "2022-03-27T10:56:43.147Z"
   },
   {
    "duration": 376,
    "start_time": "2022-03-27T10:57:22.353Z"
   },
   {
    "duration": 441,
    "start_time": "2022-03-27T10:58:46.131Z"
   },
   {
    "duration": 16,
    "start_time": "2022-03-27T11:01:57.234Z"
   },
   {
    "duration": 426,
    "start_time": "2022-03-27T11:02:49.888Z"
   },
   {
    "duration": 66,
    "start_time": "2022-03-27T11:05:15.434Z"
   },
   {
    "duration": 14,
    "start_time": "2022-03-27T11:07:59.659Z"
   },
   {
    "duration": 1349,
    "start_time": "2022-03-27T13:00:27.092Z"
   },
   {
    "duration": 64,
    "start_time": "2022-03-27T13:00:28.444Z"
   },
   {
    "duration": 18,
    "start_time": "2022-03-27T13:00:28.510Z"
   },
   {
    "duration": 30,
    "start_time": "2022-03-27T13:00:28.530Z"
   },
   {
    "duration": 15,
    "start_time": "2022-03-27T13:00:28.562Z"
   },
   {
    "duration": 9,
    "start_time": "2022-03-27T13:00:28.579Z"
   },
   {
    "duration": 12,
    "start_time": "2022-03-27T13:00:28.589Z"
   },
   {
    "duration": 38,
    "start_time": "2022-03-27T13:00:28.603Z"
   },
   {
    "duration": 21,
    "start_time": "2022-03-27T13:00:28.643Z"
   },
   {
    "duration": 5,
    "start_time": "2022-03-27T13:00:28.667Z"
   },
   {
    "duration": 12,
    "start_time": "2022-03-27T13:00:28.674Z"
   },
   {
    "duration": 4,
    "start_time": "2022-03-27T13:00:28.688Z"
   },
   {
    "duration": 50,
    "start_time": "2022-03-27T13:00:28.693Z"
   },
   {
    "duration": 15,
    "start_time": "2022-03-27T13:00:28.744Z"
   },
   {
    "duration": 392,
    "start_time": "2022-03-27T13:00:28.760Z"
   },
   {
    "duration": 8,
    "start_time": "2022-03-27T13:00:29.154Z"
   },
   {
    "duration": 317,
    "start_time": "2022-03-27T13:00:29.164Z"
   },
   {
    "duration": 16,
    "start_time": "2022-03-27T13:00:29.483Z"
   },
   {
    "duration": 238,
    "start_time": "2022-03-27T13:00:29.501Z"
   },
   {
    "duration": 226,
    "start_time": "2022-03-27T13:00:29.741Z"
   },
   {
    "duration": 228,
    "start_time": "2022-03-27T13:00:29.969Z"
   },
   {
    "duration": 230,
    "start_time": "2022-03-27T13:00:30.199Z"
   },
   {
    "duration": 282,
    "start_time": "2022-03-27T13:00:30.431Z"
   },
   {
    "duration": 222,
    "start_time": "2022-03-27T13:00:30.715Z"
   },
   {
    "duration": 233,
    "start_time": "2022-03-27T13:00:30.939Z"
   },
   {
    "duration": 21,
    "start_time": "2022-03-27T13:00:31.174Z"
   },
   {
    "duration": 273,
    "start_time": "2022-03-27T13:00:31.197Z"
   },
   {
    "duration": 261,
    "start_time": "2022-03-27T13:00:31.473Z"
   },
   {
    "duration": 190,
    "start_time": "2022-03-27T13:00:31.736Z"
   },
   {
    "duration": 188,
    "start_time": "2022-03-27T13:00:31.931Z"
   },
   {
    "duration": 18,
    "start_time": "2022-03-27T13:00:32.120Z"
   },
   {
    "duration": 260,
    "start_time": "2022-03-27T13:00:32.140Z"
   },
   {
    "duration": 16,
    "start_time": "2022-03-27T13:00:32.402Z"
   },
   {
    "duration": 245,
    "start_time": "2022-03-27T13:00:32.421Z"
   },
   {
    "duration": 16,
    "start_time": "2022-03-27T13:00:32.668Z"
   },
   {
    "duration": 480,
    "start_time": "2022-03-27T13:00:32.685Z"
   },
   {
    "duration": 17,
    "start_time": "2022-03-27T13:00:33.166Z"
   },
   {
    "duration": 599,
    "start_time": "2022-03-27T13:00:33.185Z"
   },
   {
    "duration": 15,
    "start_time": "2022-03-27T13:00:33.786Z"
   },
   {
    "duration": 454,
    "start_time": "2022-03-27T13:01:13.963Z"
   },
   {
    "duration": 485,
    "start_time": "2022-03-27T13:01:29.400Z"
   },
   {
    "duration": 452,
    "start_time": "2022-03-27T13:01:38.496Z"
   },
   {
    "duration": 496,
    "start_time": "2022-03-27T13:02:12.697Z"
   },
   {
    "duration": 463,
    "start_time": "2022-03-27T13:02:27.275Z"
   },
   {
    "duration": 576,
    "start_time": "2022-03-27T13:02:31.655Z"
   },
   {
    "duration": 472,
    "start_time": "2022-03-27T13:02:43.289Z"
   },
   {
    "duration": 12,
    "start_time": "2022-03-27T13:08:04.645Z"
   },
   {
    "duration": 12,
    "start_time": "2022-03-27T13:08:15.607Z"
   },
   {
    "duration": 12,
    "start_time": "2022-03-27T13:08:20.245Z"
   },
   {
    "duration": 12,
    "start_time": "2022-03-27T13:08:30.893Z"
   },
   {
    "duration": 10,
    "start_time": "2022-03-27T13:10:03.360Z"
   },
   {
    "duration": 3,
    "start_time": "2022-03-27T13:10:31.143Z"
   },
   {
    "duration": 5,
    "start_time": "2022-03-27T13:10:37.089Z"
   },
   {
    "duration": 13,
    "start_time": "2022-03-27T13:11:16.009Z"
   },
   {
    "duration": 6,
    "start_time": "2022-03-27T13:11:17.027Z"
   },
   {
    "duration": 6,
    "start_time": "2022-03-27T13:12:34.858Z"
   },
   {
    "duration": 12,
    "start_time": "2022-03-27T13:12:43.472Z"
   },
   {
    "duration": 5,
    "start_time": "2022-03-27T13:12:44.625Z"
   },
   {
    "duration": 12,
    "start_time": "2022-03-27T13:13:17.908Z"
   },
   {
    "duration": 5,
    "start_time": "2022-03-27T13:13:19.419Z"
   },
   {
    "duration": 5,
    "start_time": "2022-03-27T13:14:10.038Z"
   },
   {
    "duration": 10,
    "start_time": "2022-03-27T13:14:15.103Z"
   },
   {
    "duration": 5,
    "start_time": "2022-03-27T13:14:22.579Z"
   },
   {
    "duration": 5,
    "start_time": "2022-03-27T13:14:32.931Z"
   },
   {
    "duration": 5,
    "start_time": "2022-03-27T13:14:37.453Z"
   },
   {
    "duration": 6,
    "start_time": "2022-03-27T13:14:40.001Z"
   },
   {
    "duration": 17,
    "start_time": "2022-03-27T13:15:31.181Z"
   },
   {
    "duration": 7,
    "start_time": "2022-03-27T13:15:37.476Z"
   },
   {
    "duration": 1779,
    "start_time": "2022-03-28T11:33:34.446Z"
   },
   {
    "duration": 72,
    "start_time": "2022-03-28T11:33:36.227Z"
   },
   {
    "duration": 26,
    "start_time": "2022-03-28T11:33:36.302Z"
   },
   {
    "duration": 62,
    "start_time": "2022-03-28T11:33:36.331Z"
   },
   {
    "duration": 22,
    "start_time": "2022-03-28T11:33:36.395Z"
   },
   {
    "duration": 41,
    "start_time": "2022-03-28T11:33:36.420Z"
   },
   {
    "duration": 28,
    "start_time": "2022-03-28T11:33:36.463Z"
   },
   {
    "duration": 43,
    "start_time": "2022-03-28T11:33:36.493Z"
   },
   {
    "duration": 81,
    "start_time": "2022-03-28T11:33:36.538Z"
   },
   {
    "duration": 8,
    "start_time": "2022-03-28T11:33:36.623Z"
   },
   {
    "duration": 62,
    "start_time": "2022-03-28T11:33:36.633Z"
   },
   {
    "duration": 29,
    "start_time": "2022-03-28T11:33:36.697Z"
   },
   {
    "duration": 46,
    "start_time": "2022-03-28T11:33:36.728Z"
   },
   {
    "duration": 28,
    "start_time": "2022-03-28T11:33:36.777Z"
   },
   {
    "duration": 575,
    "start_time": "2022-03-28T11:33:36.807Z"
   },
   {
    "duration": 10,
    "start_time": "2022-03-28T11:33:37.385Z"
   },
   {
    "duration": 482,
    "start_time": "2022-03-28T11:33:37.398Z"
   },
   {
    "duration": 23,
    "start_time": "2022-03-28T11:33:37.884Z"
   },
   {
    "duration": 477,
    "start_time": "2022-03-28T11:33:37.909Z"
   },
   {
    "duration": 359,
    "start_time": "2022-03-28T11:33:38.388Z"
   },
   {
    "duration": 342,
    "start_time": "2022-03-28T11:33:38.750Z"
   },
   {
    "duration": 347,
    "start_time": "2022-03-28T11:33:39.094Z"
   },
   {
    "duration": 498,
    "start_time": "2022-03-28T11:33:39.443Z"
   },
   {
    "duration": 335,
    "start_time": "2022-03-28T11:33:39.943Z"
   },
   {
    "duration": 313,
    "start_time": "2022-03-28T11:33:40.280Z"
   },
   {
    "duration": 27,
    "start_time": "2022-03-28T11:33:40.596Z"
   },
   {
    "duration": 383,
    "start_time": "2022-03-28T11:33:40.626Z"
   },
   {
    "duration": 406,
    "start_time": "2022-03-28T11:33:41.013Z"
   },
   {
    "duration": 299,
    "start_time": "2022-03-28T11:33:41.421Z"
   },
   {
    "duration": 302,
    "start_time": "2022-03-28T11:33:41.722Z"
   },
   {
    "duration": 19,
    "start_time": "2022-03-28T11:33:42.026Z"
   },
   {
    "duration": 424,
    "start_time": "2022-03-28T11:33:42.047Z"
   },
   {
    "duration": 19,
    "start_time": "2022-03-28T11:33:42.473Z"
   },
   {
    "duration": 388,
    "start_time": "2022-03-28T11:33:42.494Z"
   },
   {
    "duration": 23,
    "start_time": "2022-03-28T11:33:42.885Z"
   },
   {
    "duration": 875,
    "start_time": "2022-03-28T11:33:42.910Z"
   },
   {
    "duration": 25,
    "start_time": "2022-03-28T11:33:43.787Z"
   },
   {
    "duration": 942,
    "start_time": "2022-03-28T11:33:43.814Z"
   },
   {
    "duration": 25,
    "start_time": "2022-03-28T11:33:44.759Z"
   },
   {
    "duration": 993,
    "start_time": "2022-03-28T11:33:44.787Z"
   },
   {
    "duration": 17,
    "start_time": "2022-03-28T11:33:45.782Z"
   },
   {
    "duration": 21,
    "start_time": "2022-03-28T11:33:45.801Z"
   },
   {
    "duration": 7,
    "start_time": "2022-03-28T11:49:18.243Z"
   },
   {
    "duration": 1296,
    "start_time": "2022-03-29T17:20:14.152Z"
   },
   {
    "duration": 48,
    "start_time": "2022-03-29T17:20:15.450Z"
   },
   {
    "duration": 17,
    "start_time": "2022-03-29T17:20:15.500Z"
   },
   {
    "duration": 27,
    "start_time": "2022-03-29T17:20:15.532Z"
   },
   {
    "duration": 15,
    "start_time": "2022-03-29T17:20:15.561Z"
   },
   {
    "duration": 14,
    "start_time": "2022-03-29T17:20:15.578Z"
   },
   {
    "duration": 11,
    "start_time": "2022-03-29T17:20:15.594Z"
   },
   {
    "duration": 39,
    "start_time": "2022-03-29T17:20:15.607Z"
   },
   {
    "duration": 21,
    "start_time": "2022-03-29T17:20:15.647Z"
   },
   {
    "duration": 6,
    "start_time": "2022-03-29T17:20:15.671Z"
   },
   {
    "duration": 25,
    "start_time": "2022-03-29T17:20:15.679Z"
   },
   {
    "duration": 5,
    "start_time": "2022-03-29T17:20:15.705Z"
   },
   {
    "duration": 17,
    "start_time": "2022-03-29T17:20:15.732Z"
   },
   {
    "duration": 14,
    "start_time": "2022-03-29T17:20:15.751Z"
   },
   {
    "duration": 358,
    "start_time": "2022-03-29T17:20:15.767Z"
   },
   {
    "duration": 13,
    "start_time": "2022-03-29T17:20:16.127Z"
   },
   {
    "duration": 280,
    "start_time": "2022-03-29T17:20:16.142Z"
   },
   {
    "duration": 20,
    "start_time": "2022-03-29T17:20:16.424Z"
   },
   {
    "duration": 207,
    "start_time": "2022-03-29T17:20:16.446Z"
   },
   {
    "duration": 201,
    "start_time": "2022-03-29T17:20:16.655Z"
   },
   {
    "duration": 212,
    "start_time": "2022-03-29T17:20:16.858Z"
   },
   {
    "duration": 214,
    "start_time": "2022-03-29T17:20:17.072Z"
   },
   {
    "duration": 263,
    "start_time": "2022-03-29T17:20:17.288Z"
   },
   {
    "duration": 185,
    "start_time": "2022-03-29T17:20:17.553Z"
   },
   {
    "duration": 173,
    "start_time": "2022-03-29T17:20:17.740Z"
   },
   {
    "duration": 22,
    "start_time": "2022-03-29T17:20:17.914Z"
   },
   {
    "duration": 215,
    "start_time": "2022-03-29T17:20:17.938Z"
   },
   {
    "duration": 225,
    "start_time": "2022-03-29T17:20:18.157Z"
   },
   {
    "duration": 166,
    "start_time": "2022-03-29T17:20:18.384Z"
   },
   {
    "duration": 180,
    "start_time": "2022-03-29T17:20:18.553Z"
   },
   {
    "duration": 13,
    "start_time": "2022-03-29T17:20:18.734Z"
   },
   {
    "duration": 228,
    "start_time": "2022-03-29T17:20:18.749Z"
   },
   {
    "duration": 15,
    "start_time": "2022-03-29T17:20:18.979Z"
   },
   {
    "duration": 197,
    "start_time": "2022-03-29T17:20:18.996Z"
   },
   {
    "duration": 16,
    "start_time": "2022-03-29T17:20:19.194Z"
   },
   {
    "duration": 405,
    "start_time": "2022-03-29T17:20:19.212Z"
   },
   {
    "duration": 24,
    "start_time": "2022-03-29T17:20:19.619Z"
   },
   {
    "duration": 503,
    "start_time": "2022-03-29T17:20:19.645Z"
   },
   {
    "duration": 16,
    "start_time": "2022-03-29T17:20:20.150Z"
   },
   {
    "duration": 401,
    "start_time": "2022-03-29T17:20:20.167Z"
   },
   {
    "duration": 12,
    "start_time": "2022-03-29T17:20:20.570Z"
   },
   {
    "duration": 10,
    "start_time": "2022-03-29T17:20:20.583Z"
   },
   {
    "duration": 409,
    "start_time": "2022-03-29T17:20:29.952Z"
   },
   {
    "duration": 358,
    "start_time": "2022-03-29T17:20:37.869Z"
   },
   {
    "duration": 385,
    "start_time": "2022-03-29T17:20:46.431Z"
   },
   {
    "duration": 560,
    "start_time": "2022-03-29T17:21:19.786Z"
   },
   {
    "duration": 384,
    "start_time": "2022-03-29T17:21:24.809Z"
   },
   {
    "duration": 193,
    "start_time": "2022-03-29T17:27:36.838Z"
   },
   {
    "duration": 195,
    "start_time": "2022-03-29T17:27:47.683Z"
   },
   {
    "duration": 179,
    "start_time": "2022-03-29T17:28:38.481Z"
   },
   {
    "duration": 11,
    "start_time": "2022-03-29T17:33:35.180Z"
   },
   {
    "duration": 4,
    "start_time": "2022-03-29T17:33:42.242Z"
   },
   {
    "duration": 6,
    "start_time": "2022-03-29T17:35:55.042Z"
   },
   {
    "duration": 3,
    "start_time": "2022-03-29T17:35:58.665Z"
   },
   {
    "duration": 47,
    "start_time": "2022-03-29T17:35:58.672Z"
   },
   {
    "duration": 13,
    "start_time": "2022-03-29T17:35:58.721Z"
   },
   {
    "duration": 29,
    "start_time": "2022-03-29T17:35:58.735Z"
   },
   {
    "duration": 14,
    "start_time": "2022-03-29T17:35:58.767Z"
   },
   {
    "duration": 12,
    "start_time": "2022-03-29T17:35:58.783Z"
   },
   {
    "duration": 36,
    "start_time": "2022-03-29T17:35:58.797Z"
   },
   {
    "duration": 15,
    "start_time": "2022-03-29T17:35:58.834Z"
   },
   {
    "duration": 20,
    "start_time": "2022-03-29T17:35:58.851Z"
   },
   {
    "duration": 6,
    "start_time": "2022-03-29T17:35:58.873Z"
   },
   {
    "duration": 10,
    "start_time": "2022-03-29T17:35:58.881Z"
   },
   {
    "duration": 41,
    "start_time": "2022-03-29T17:35:58.893Z"
   },
   {
    "duration": 15,
    "start_time": "2022-03-29T17:35:58.936Z"
   },
   {
    "duration": 18,
    "start_time": "2022-03-29T17:35:58.953Z"
   },
   {
    "duration": 325,
    "start_time": "2022-03-29T17:35:58.972Z"
   },
   {
    "duration": 9,
    "start_time": "2022-03-29T17:35:59.299Z"
   },
   {
    "duration": 281,
    "start_time": "2022-03-29T17:35:59.309Z"
   },
   {
    "duration": 15,
    "start_time": "2022-03-29T17:35:59.591Z"
   },
   {
    "duration": 207,
    "start_time": "2022-03-29T17:35:59.608Z"
   },
   {
    "duration": 381,
    "start_time": "2022-03-29T17:35:59.817Z"
   },
   {
    "duration": 214,
    "start_time": "2022-03-29T17:36:00.200Z"
   },
   {
    "duration": 210,
    "start_time": "2022-03-29T17:36:00.416Z"
   },
   {
    "duration": 201,
    "start_time": "2022-03-29T17:36:00.632Z"
   },
   {
    "duration": 201,
    "start_time": "2022-03-29T17:36:00.834Z"
   },
   {
    "duration": 179,
    "start_time": "2022-03-29T17:36:01.037Z"
   },
   {
    "duration": 24,
    "start_time": "2022-03-29T17:36:01.217Z"
   },
   {
    "duration": 219,
    "start_time": "2022-03-29T17:36:01.243Z"
   },
   {
    "duration": 231,
    "start_time": "2022-03-29T17:36:01.464Z"
   },
   {
    "duration": 724,
    "start_time": "2022-03-29T17:36:01.699Z"
   },
   {
    "duration": 166,
    "start_time": "2022-03-29T17:36:02.433Z"
   },
   {
    "duration": 14,
    "start_time": "2022-03-29T17:36:02.602Z"
   },
   {
    "duration": 303,
    "start_time": "2022-03-29T17:36:02.618Z"
   },
   {
    "duration": 18,
    "start_time": "2022-03-29T17:36:02.923Z"
   },
   {
    "duration": 293,
    "start_time": "2022-03-29T17:36:02.943Z"
   },
   {
    "duration": 15,
    "start_time": "2022-03-29T17:36:03.238Z"
   },
   {
    "duration": 409,
    "start_time": "2022-03-29T17:36:03.254Z"
   },
   {
    "duration": 15,
    "start_time": "2022-03-29T17:36:03.665Z"
   },
   {
    "duration": 401,
    "start_time": "2022-03-29T17:36:03.682Z"
   },
   {
    "duration": 15,
    "start_time": "2022-03-29T17:36:04.085Z"
   },
   {
    "duration": 400,
    "start_time": "2022-03-29T17:36:04.102Z"
   },
   {
    "duration": 262,
    "start_time": "2022-03-29T17:36:04.504Z"
   },
   {
    "duration": 0,
    "start_time": "2022-03-29T17:36:04.768Z"
   },
   {
    "duration": 144,
    "start_time": "2022-03-29T17:36:24.607Z"
   },
   {
    "duration": 15,
    "start_time": "2022-03-29T17:36:48.523Z"
   },
   {
    "duration": 7,
    "start_time": "2022-03-29T17:37:58.885Z"
   },
   {
    "duration": 14,
    "start_time": "2022-03-29T17:38:01.567Z"
   },
   {
    "duration": 7,
    "start_time": "2022-03-29T17:39:54.643Z"
   },
   {
    "duration": 16,
    "start_time": "2022-03-29T17:39:56.210Z"
   },
   {
    "duration": 4,
    "start_time": "2022-03-29T17:40:00.559Z"
   },
   {
    "duration": 56,
    "start_time": "2022-03-29T17:40:00.565Z"
   },
   {
    "duration": 15,
    "start_time": "2022-03-29T17:40:00.623Z"
   },
   {
    "duration": 54,
    "start_time": "2022-03-29T17:40:00.640Z"
   },
   {
    "duration": 15,
    "start_time": "2022-03-29T17:40:00.696Z"
   },
   {
    "duration": 28,
    "start_time": "2022-03-29T17:40:00.713Z"
   },
   {
    "duration": 34,
    "start_time": "2022-03-29T17:40:00.742Z"
   },
   {
    "duration": 30,
    "start_time": "2022-03-29T17:40:00.777Z"
   },
   {
    "duration": 26,
    "start_time": "2022-03-29T17:40:00.809Z"
   },
   {
    "duration": 9,
    "start_time": "2022-03-29T17:40:00.836Z"
   },
   {
    "duration": 25,
    "start_time": "2022-03-29T17:40:00.847Z"
   },
   {
    "duration": 31,
    "start_time": "2022-03-29T17:40:00.874Z"
   },
   {
    "duration": 32,
    "start_time": "2022-03-29T17:40:00.908Z"
   },
   {
    "duration": 32,
    "start_time": "2022-03-29T17:40:00.942Z"
   },
   {
    "duration": 334,
    "start_time": "2022-03-29T17:40:00.976Z"
   },
   {
    "duration": 22,
    "start_time": "2022-03-29T17:40:01.311Z"
   },
   {
    "duration": 281,
    "start_time": "2022-03-29T17:40:01.335Z"
   },
   {
    "duration": 23,
    "start_time": "2022-03-29T17:40:01.618Z"
   },
   {
    "duration": 213,
    "start_time": "2022-03-29T17:40:01.643Z"
   },
   {
    "duration": 354,
    "start_time": "2022-03-29T17:40:01.857Z"
   },
   {
    "duration": 207,
    "start_time": "2022-03-29T17:40:02.213Z"
   },
   {
    "duration": 213,
    "start_time": "2022-03-29T17:40:02.422Z"
   },
   {
    "duration": 201,
    "start_time": "2022-03-29T17:40:02.637Z"
   },
   {
    "duration": 198,
    "start_time": "2022-03-29T17:40:02.840Z"
   },
   {
    "duration": 185,
    "start_time": "2022-03-29T17:40:03.039Z"
   },
   {
    "duration": 24,
    "start_time": "2022-03-29T17:40:03.226Z"
   },
   {
    "duration": 225,
    "start_time": "2022-03-29T17:40:03.251Z"
   },
   {
    "duration": 244,
    "start_time": "2022-03-29T17:40:03.478Z"
   },
   {
    "duration": 196,
    "start_time": "2022-03-29T17:40:03.725Z"
   },
   {
    "duration": 182,
    "start_time": "2022-03-29T17:40:03.923Z"
   },
   {
    "duration": 26,
    "start_time": "2022-03-29T17:40:04.108Z"
   },
   {
    "duration": 210,
    "start_time": "2022-03-29T17:40:04.136Z"
   },
   {
    "duration": 14,
    "start_time": "2022-03-29T17:40:04.348Z"
   },
   {
    "duration": 241,
    "start_time": "2022-03-29T17:40:04.364Z"
   },
   {
    "duration": 27,
    "start_time": "2022-03-29T17:40:04.607Z"
   },
   {
    "duration": 579,
    "start_time": "2022-03-29T17:40:04.636Z"
   },
   {
    "duration": 29,
    "start_time": "2022-03-29T17:40:05.220Z"
   },
   {
    "duration": 515,
    "start_time": "2022-03-29T17:40:05.251Z"
   },
   {
    "duration": 16,
    "start_time": "2022-03-29T17:40:05.767Z"
   },
   {
    "duration": 490,
    "start_time": "2022-03-29T17:40:05.785Z"
   },
   {
    "duration": 14,
    "start_time": "2022-03-29T17:40:06.277Z"
   },
   {
    "duration": 18,
    "start_time": "2022-03-29T17:40:06.293Z"
   },
   {
    "duration": 10,
    "start_time": "2022-03-29T17:44:19.893Z"
   },
   {
    "duration": 5,
    "start_time": "2022-03-29T17:44:22.378Z"
   },
   {
    "duration": 9,
    "start_time": "2022-03-29T17:45:27.562Z"
   },
   {
    "duration": 114,
    "start_time": "2022-03-29T17:49:36.890Z"
   },
   {
    "duration": 10,
    "start_time": "2022-03-29T17:51:03.673Z"
   },
   {
    "duration": 5,
    "start_time": "2022-03-29T17:51:09.698Z"
   },
   {
    "duration": 5,
    "start_time": "2022-03-29T17:52:34.752Z"
   },
   {
    "duration": 188,
    "start_time": "2022-03-29T18:07:27.318Z"
   },
   {
    "duration": 184,
    "start_time": "2022-03-29T18:07:36.422Z"
   },
   {
    "duration": 1851,
    "start_time": "2022-03-29T19:48:58.482Z"
   },
   {
    "duration": 76,
    "start_time": "2022-03-29T19:49:00.336Z"
   },
   {
    "duration": 26,
    "start_time": "2022-03-29T19:49:00.414Z"
   },
   {
    "duration": 71,
    "start_time": "2022-03-29T19:49:00.443Z"
   },
   {
    "duration": 33,
    "start_time": "2022-03-29T19:49:00.517Z"
   },
   {
    "duration": 23,
    "start_time": "2022-03-29T19:49:00.552Z"
   },
   {
    "duration": 27,
    "start_time": "2022-03-29T19:49:00.578Z"
   },
   {
    "duration": 30,
    "start_time": "2022-03-29T19:49:00.608Z"
   },
   {
    "duration": 52,
    "start_time": "2022-03-29T19:49:00.641Z"
   },
   {
    "duration": 9,
    "start_time": "2022-03-29T19:49:00.697Z"
   },
   {
    "duration": 30,
    "start_time": "2022-03-29T19:49:00.708Z"
   },
   {
    "duration": 14,
    "start_time": "2022-03-29T19:49:00.740Z"
   },
   {
    "duration": 69,
    "start_time": "2022-03-29T19:49:00.756Z"
   },
   {
    "duration": 33,
    "start_time": "2022-03-29T19:49:00.828Z"
   },
   {
    "duration": 590,
    "start_time": "2022-03-29T19:49:00.863Z"
   },
   {
    "duration": 11,
    "start_time": "2022-03-29T19:49:01.455Z"
   },
   {
    "duration": 518,
    "start_time": "2022-03-29T19:49:01.468Z"
   },
   {
    "duration": 22,
    "start_time": "2022-03-29T19:49:01.988Z"
   },
   {
    "duration": 380,
    "start_time": "2022-03-29T19:49:02.013Z"
   },
   {
    "duration": 376,
    "start_time": "2022-03-29T19:49:02.395Z"
   },
   {
    "duration": 362,
    "start_time": "2022-03-29T19:49:02.773Z"
   },
   {
    "duration": 477,
    "start_time": "2022-03-29T19:49:03.138Z"
   },
   {
    "duration": 438,
    "start_time": "2022-03-29T19:49:03.617Z"
   },
   {
    "duration": 351,
    "start_time": "2022-03-29T19:49:04.058Z"
   },
   {
    "duration": 319,
    "start_time": "2022-03-29T19:49:04.412Z"
   },
   {
    "duration": 50,
    "start_time": "2022-03-29T19:49:04.734Z"
   },
   {
    "duration": 392,
    "start_time": "2022-03-29T19:49:04.787Z"
   },
   {
    "duration": 424,
    "start_time": "2022-03-29T19:49:05.188Z"
   },
   {
    "duration": 309,
    "start_time": "2022-03-29T19:49:05.615Z"
   },
   {
    "duration": 322,
    "start_time": "2022-03-29T19:49:05.927Z"
   },
   {
    "duration": 34,
    "start_time": "2022-03-29T19:49:06.251Z"
   },
   {
    "duration": 413,
    "start_time": "2022-03-29T19:49:06.288Z"
   },
   {
    "duration": 21,
    "start_time": "2022-03-29T19:49:06.703Z"
   },
   {
    "duration": 347,
    "start_time": "2022-03-29T19:49:06.727Z"
   },
   {
    "duration": 27,
    "start_time": "2022-03-29T19:49:07.076Z"
   },
   {
    "duration": 801,
    "start_time": "2022-03-29T19:49:07.105Z"
   },
   {
    "duration": 24,
    "start_time": "2022-03-29T19:49:07.909Z"
   },
   {
    "duration": 887,
    "start_time": "2022-03-29T19:49:07.935Z"
   },
   {
    "duration": 23,
    "start_time": "2022-03-29T19:49:08.825Z"
   },
   {
    "duration": 760,
    "start_time": "2022-03-29T19:49:08.851Z"
   },
   {
    "duration": 3,
    "start_time": "2022-03-29T19:49:09.614Z"
   },
   {
    "duration": 17,
    "start_time": "2022-03-29T19:49:09.619Z"
   },
   {
    "duration": 9,
    "start_time": "2022-03-29T19:49:09.639Z"
   },
   {
    "duration": 44,
    "start_time": "2022-03-29T19:49:09.651Z"
   },
   {
    "duration": 8,
    "start_time": "2022-03-29T19:49:09.698Z"
   },
   {
    "duration": 15,
    "start_time": "2022-03-29T19:49:09.708Z"
   },
   {
    "duration": 1695,
    "start_time": "2022-03-30T20:41:08.814Z"
   },
   {
    "duration": 75,
    "start_time": "2022-03-30T20:41:10.512Z"
   },
   {
    "duration": 27,
    "start_time": "2022-03-30T20:41:10.589Z"
   },
   {
    "duration": 64,
    "start_time": "2022-03-30T20:41:10.620Z"
   },
   {
    "duration": 22,
    "start_time": "2022-03-30T20:41:10.686Z"
   },
   {
    "duration": 34,
    "start_time": "2022-03-30T20:41:10.710Z"
   },
   {
    "duration": 15,
    "start_time": "2022-03-30T20:41:10.747Z"
   },
   {
    "duration": 22,
    "start_time": "2022-03-30T20:41:10.765Z"
   },
   {
    "duration": 68,
    "start_time": "2022-03-30T20:41:10.791Z"
   },
   {
    "duration": 11,
    "start_time": "2022-03-30T20:41:10.864Z"
   },
   {
    "duration": 22,
    "start_time": "2022-03-30T20:41:10.878Z"
   },
   {
    "duration": 7,
    "start_time": "2022-03-30T20:41:10.902Z"
   },
   {
    "duration": 59,
    "start_time": "2022-03-30T20:41:10.911Z"
   },
   {
    "duration": 22,
    "start_time": "2022-03-30T20:41:10.972Z"
   },
   {
    "duration": 603,
    "start_time": "2022-03-30T20:41:10.996Z"
   },
   {
    "duration": 11,
    "start_time": "2022-03-30T20:41:11.601Z"
   },
   {
    "duration": 483,
    "start_time": "2022-03-30T20:41:11.614Z"
   },
   {
    "duration": 23,
    "start_time": "2022-03-30T20:41:12.100Z"
   },
   {
    "duration": 350,
    "start_time": "2022-03-30T20:41:12.144Z"
   },
   {
    "duration": 371,
    "start_time": "2022-03-30T20:41:12.497Z"
   },
   {
    "duration": 341,
    "start_time": "2022-03-30T20:41:12.870Z"
   },
   {
    "duration": 347,
    "start_time": "2022-03-30T20:41:13.213Z"
   },
   {
    "duration": 410,
    "start_time": "2022-03-30T20:41:13.562Z"
   },
   {
    "duration": 333,
    "start_time": "2022-03-30T20:41:13.974Z"
   },
   {
    "duration": 318,
    "start_time": "2022-03-30T20:41:14.310Z"
   },
   {
    "duration": 50,
    "start_time": "2022-03-30T20:41:14.630Z"
   },
   {
    "duration": 380,
    "start_time": "2022-03-30T20:41:14.683Z"
   },
   {
    "duration": 413,
    "start_time": "2022-03-30T20:41:15.068Z"
   },
   {
    "duration": 299,
    "start_time": "2022-03-30T20:41:15.483Z"
   },
   {
    "duration": 326,
    "start_time": "2022-03-30T20:41:15.784Z"
   },
   {
    "duration": 21,
    "start_time": "2022-03-30T20:41:16.112Z"
   },
   {
    "duration": 372,
    "start_time": "2022-03-30T20:41:16.144Z"
   },
   {
    "duration": 41,
    "start_time": "2022-03-30T20:41:16.519Z"
   },
   {
    "duration": 351,
    "start_time": "2022-03-30T20:41:16.564Z"
   },
   {
    "duration": 35,
    "start_time": "2022-03-30T20:41:16.917Z"
   },
   {
    "duration": 775,
    "start_time": "2022-03-30T20:41:16.954Z"
   },
   {
    "duration": 41,
    "start_time": "2022-03-30T20:41:17.731Z"
   },
   {
    "duration": 828,
    "start_time": "2022-03-30T20:41:17.776Z"
   },
   {
    "duration": 43,
    "start_time": "2022-03-30T20:41:18.607Z"
   },
   {
    "duration": 735,
    "start_time": "2022-03-30T20:41:18.653Z"
   },
   {
    "duration": 4,
    "start_time": "2022-03-30T20:41:19.391Z"
   },
   {
    "duration": 24,
    "start_time": "2022-03-30T20:41:19.396Z"
   },
   {
    "duration": 31,
    "start_time": "2022-03-30T20:41:19.423Z"
   },
   {
    "duration": 33,
    "start_time": "2022-03-30T20:41:19.456Z"
   },
   {
    "duration": 16,
    "start_time": "2022-03-30T20:41:19.491Z"
   },
   {
    "duration": 8,
    "start_time": "2022-03-30T20:41:19.509Z"
   }
  ],
  "kernelspec": {
   "display_name": "Python 3 (ipykernel)",
   "language": "python",
   "name": "python3"
  },
  "language_info": {
   "codemirror_mode": {
    "name": "ipython",
    "version": 3
   },
   "file_extension": ".py",
   "mimetype": "text/x-python",
   "name": "python",
   "nbconvert_exporter": "python",
   "pygments_lexer": "ipython3",
   "version": "3.9.5"
  },
  "toc": {
   "base_numbering": 1,
   "nav_menu": {},
   "number_sections": false,
   "sideBar": true,
   "skip_h1_title": false,
   "title_cell": "Table of Contents",
   "title_sidebar": "Contents",
   "toc_cell": false,
   "toc_position": {
    "height": "calc(100% - 180px)",
    "left": "10px",
    "top": "150px",
    "width": "411.15px"
   },
   "toc_section_display": true,
   "toc_window_display": true
  }
 },
 "nbformat": 4,
 "nbformat_minor": 2
}
