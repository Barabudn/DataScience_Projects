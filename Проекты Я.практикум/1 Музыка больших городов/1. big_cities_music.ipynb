{
 "cells": [
  {
   "cell_type": "markdown",
   "metadata": {},
   "source": [
    "### Музыка больших городов"
   ]
  },
  {
   "cell_type": "markdown",
   "metadata": {
    "id": "VUC88oWjTJw2"
   },
   "source": [
    "На данных сравнить поведение пользователей двух городов.\n",
    "\n",
    "**Цель исследования** — проверьте три гипотезы:\n",
    "1. Активность пользователей зависит от дня недели.\n",
    "2. В понедельник утром в Москве преобладают одни жанры, а в Петербурге — другие. Так же и вечером пятницы преобладают разные жанры — в зависимости от города. \n",
    "3. Москва и Петербург предпочитают разные жанры музыки. В Москве чаще слушают поп-музыку, в Петербурге — русский рэп.\n",
    "\n",
    "**Ход исследования**\n",
    "\n",
    "Проверить данные на ошибки и оценить их влияние на исследование. \n",
    "Затем, на этапе предобработки найти возможность исправить самые критичные ошибки данных.\n",
    " \n",
    "Таким образом, исследование пройдёт в три этапа:\n",
    " 1. Обзор данных.\n",
    " 2. Предобработка данных.\n",
    " 3. Проверка гипотез.\n",
    "\n"
   ]
  },
  {
   "cell_type": "markdown",
   "metadata": {
    "id": "Ml1hmfXC_Zcs"
   },
   "source": [
    "## Обзор данных"
   ]
  },
  {
   "cell_type": "code",
   "execution_count": 5,
   "metadata": {
    "id": "AXN7PHPN_Zcs"
   },
   "outputs": [],
   "source": [
    " import pandas as pd # импорт библиотеки pandas"
   ]
  },
  {
   "cell_type": "code",
   "execution_count": 6,
   "metadata": {
    "id": "fFVu7vqh_Zct"
   },
   "outputs": [],
   "source": [
    "df = pd.read_csv('D://Игорь/projects/music_project.csv') # чтение файла с данными и сохранение в df"
   ]
  },
  {
   "cell_type": "code",
   "execution_count": 7,
   "metadata": {
    "id": "oWTVX3gW_Zct"
   },
   "outputs": [
    {
     "data": {
      "text/html": [
       "<div>\n",
       "<style scoped>\n",
       "    .dataframe tbody tr th:only-of-type {\n",
       "        vertical-align: middle;\n",
       "    }\n",
       "\n",
       "    .dataframe tbody tr th {\n",
       "        vertical-align: top;\n",
       "    }\n",
       "\n",
       "    .dataframe thead th {\n",
       "        text-align: right;\n",
       "    }\n",
       "</style>\n",
       "<table border=\"1\" class=\"dataframe\">\n",
       "  <thead>\n",
       "    <tr style=\"text-align: right;\">\n",
       "      <th></th>\n",
       "      <th>userID</th>\n",
       "      <th>Track</th>\n",
       "      <th>artist</th>\n",
       "      <th>genre</th>\n",
       "      <th>City</th>\n",
       "      <th>time</th>\n",
       "      <th>Day</th>\n",
       "    </tr>\n",
       "  </thead>\n",
       "  <tbody>\n",
       "    <tr>\n",
       "      <th>0</th>\n",
       "      <td>FFB692EC</td>\n",
       "      <td>Kamigata To Boots</td>\n",
       "      <td>The Mass Missile</td>\n",
       "      <td>rock</td>\n",
       "      <td>Saint-Petersburg</td>\n",
       "      <td>20:28:33</td>\n",
       "      <td>Wednesday</td>\n",
       "    </tr>\n",
       "    <tr>\n",
       "      <th>1</th>\n",
       "      <td>55204538</td>\n",
       "      <td>Delayed Because of Accident</td>\n",
       "      <td>Andreas Rönnberg</td>\n",
       "      <td>rock</td>\n",
       "      <td>Moscow</td>\n",
       "      <td>14:07:09</td>\n",
       "      <td>Friday</td>\n",
       "    </tr>\n",
       "    <tr>\n",
       "      <th>2</th>\n",
       "      <td>20EC38</td>\n",
       "      <td>Funiculì funiculà</td>\n",
       "      <td>Mario Lanza</td>\n",
       "      <td>pop</td>\n",
       "      <td>Saint-Petersburg</td>\n",
       "      <td>20:58:07</td>\n",
       "      <td>Wednesday</td>\n",
       "    </tr>\n",
       "    <tr>\n",
       "      <th>3</th>\n",
       "      <td>A3DD03C9</td>\n",
       "      <td>Dragons in the Sunset</td>\n",
       "      <td>Fire + Ice</td>\n",
       "      <td>folk</td>\n",
       "      <td>Saint-Petersburg</td>\n",
       "      <td>08:37:09</td>\n",
       "      <td>Monday</td>\n",
       "    </tr>\n",
       "    <tr>\n",
       "      <th>4</th>\n",
       "      <td>E2DC1FAE</td>\n",
       "      <td>Soul People</td>\n",
       "      <td>Space Echo</td>\n",
       "      <td>dance</td>\n",
       "      <td>Moscow</td>\n",
       "      <td>08:34:34</td>\n",
       "      <td>Monday</td>\n",
       "    </tr>\n",
       "    <tr>\n",
       "      <th>5</th>\n",
       "      <td>842029A1</td>\n",
       "      <td>Преданная</td>\n",
       "      <td>IMPERVTOR</td>\n",
       "      <td>rusrap</td>\n",
       "      <td>Saint-Petersburg</td>\n",
       "      <td>13:09:41</td>\n",
       "      <td>Friday</td>\n",
       "    </tr>\n",
       "    <tr>\n",
       "      <th>6</th>\n",
       "      <td>4CB90AA5</td>\n",
       "      <td>True</td>\n",
       "      <td>Roman Messer</td>\n",
       "      <td>dance</td>\n",
       "      <td>Moscow</td>\n",
       "      <td>13:00:07</td>\n",
       "      <td>Wednesday</td>\n",
       "    </tr>\n",
       "    <tr>\n",
       "      <th>7</th>\n",
       "      <td>F03E1C1F</td>\n",
       "      <td>Feeling This Way</td>\n",
       "      <td>Polina Griffith</td>\n",
       "      <td>dance</td>\n",
       "      <td>Moscow</td>\n",
       "      <td>20:47:49</td>\n",
       "      <td>Wednesday</td>\n",
       "    </tr>\n",
       "    <tr>\n",
       "      <th>8</th>\n",
       "      <td>8FA1D3BE</td>\n",
       "      <td>И вновь продолжается бой</td>\n",
       "      <td>NaN</td>\n",
       "      <td>ruspop</td>\n",
       "      <td>Moscow</td>\n",
       "      <td>09:17:40</td>\n",
       "      <td>Friday</td>\n",
       "    </tr>\n",
       "    <tr>\n",
       "      <th>9</th>\n",
       "      <td>E772D5C0</td>\n",
       "      <td>Pessimist</td>\n",
       "      <td>NaN</td>\n",
       "      <td>dance</td>\n",
       "      <td>Saint-Petersburg</td>\n",
       "      <td>21:20:49</td>\n",
       "      <td>Wednesday</td>\n",
       "    </tr>\n",
       "  </tbody>\n",
       "</table>\n",
       "</div>"
      ],
      "text/plain": [
       "     userID                        Track            artist   genre  \\\n",
       "0  FFB692EC            Kamigata To Boots  The Mass Missile    rock   \n",
       "1  55204538  Delayed Because of Accident  Andreas Rönnberg    rock   \n",
       "2    20EC38            Funiculì funiculà       Mario Lanza     pop   \n",
       "3  A3DD03C9        Dragons in the Sunset        Fire + Ice    folk   \n",
       "4  E2DC1FAE                  Soul People        Space Echo   dance   \n",
       "5  842029A1                    Преданная         IMPERVTOR  rusrap   \n",
       "6  4CB90AA5                         True      Roman Messer   dance   \n",
       "7  F03E1C1F             Feeling This Way   Polina Griffith   dance   \n",
       "8  8FA1D3BE     И вновь продолжается бой               NaN  ruspop   \n",
       "9  E772D5C0                    Pessimist               NaN   dance   \n",
       "\n",
       "             City        time        Day  \n",
       "0  Saint-Petersburg  20:28:33  Wednesday  \n",
       "1            Moscow  14:07:09     Friday  \n",
       "2  Saint-Petersburg  20:58:07  Wednesday  \n",
       "3  Saint-Petersburg  08:37:09     Monday  \n",
       "4            Moscow  08:34:34     Monday  \n",
       "5  Saint-Petersburg  13:09:41     Friday  \n",
       "6            Moscow  13:00:07  Wednesday  \n",
       "7            Moscow  20:47:49  Wednesday  \n",
       "8            Moscow  09:17:40     Friday  \n",
       "9  Saint-Petersburg  21:20:49  Wednesday  "
      ]
     },
     "execution_count": 7,
     "metadata": {},
     "output_type": "execute_result"
    }
   ],
   "source": [
    "df.head(10) # получение первых 10 строк таблицы df"
   ]
  },
  {
   "cell_type": "code",
   "execution_count": 8,
   "metadata": {
    "id": "DSf2kIb-_Zct",
    "scrolled": true
   },
   "outputs": [
    {
     "name": "stdout",
     "output_type": "stream",
     "text": [
      "<class 'pandas.core.frame.DataFrame'>\n",
      "RangeIndex: 65079 entries, 0 to 65078\n",
      "Data columns (total 7 columns):\n",
      " #   Column    Non-Null Count  Dtype \n",
      "---  ------    --------------  ----- \n",
      " 0     userID  65079 non-null  object\n",
      " 1   Track     63848 non-null  object\n",
      " 2   artist    57876 non-null  object\n",
      " 3   genre     63881 non-null  object\n",
      " 4     City    65079 non-null  object\n",
      " 5   time      65079 non-null  object\n",
      " 6   Day       65079 non-null  object\n",
      "dtypes: object(7)\n",
      "memory usage: 3.5+ MB\n"
     ]
    }
   ],
   "source": [
    "df.info() "
   ]
  },
  {
   "cell_type": "markdown",
   "metadata": {
    "id": "TaQ2Iwbr_Zct"
   },
   "source": [
    "Итак, в таблице семь столбцов. Тип данных во всех столбцах — `object`.\n",
    "\n",
    "Согласно документации к данным:\n",
    "* `userID` — идентификатор пользователя;\n",
    "* `Track` — название трека;  \n",
    "* `artist` — имя исполнителя;\n",
    "* `genre` — название жанра;\n",
    "* `City` — город пользователя;\n",
    "* `time` — время начала прослушивания;\n",
    "* `Day` — день недели.\n",
    "\n",
    "В названиях колонок видны три нарушения стиля:\n",
    "1. Строчные буквы сочетаются с прописными.\n",
    "2. Встречаются пробелы.\n",
    "3. Змеиный регистр\n",
    "\n",
    "\n",
    "\n",
    "Количество значений в столбцах различается. Значит, в данных есть пропущенные значения.\n"
   ]
  },
  {
   "cell_type": "markdown",
   "metadata": {
    "id": "MCB6-dXG_Zct"
   },
   "source": [
    "**Выводы**\n",
    "\n",
    "В каждой строке таблицы — данные о прослушанном треке. Часть колонок описывает саму композицию: название, исполнителя и жанр. Остальные данные рассказывают о пользователе: из какого он города, когда он слушал музыку. \n",
    "\n",
    "Предварительно можно утверждать, что, данных достаточно для проверки гипотез. Но встречаются пропуски в данных, а в названиях колонок — расхождения с хорошим стилем.\n",
    "\n",
    "Чтобы двигаться дальше, нужно устранить проблемы в данных."
   ]
  },
  {
   "cell_type": "markdown",
   "metadata": {
    "id": "SjYF6Ub9_Zct"
   },
   "source": [
    "## Предобработка данных"
   ]
  },
  {
   "cell_type": "markdown",
   "metadata": {
    "id": "dIaKXr29_Zct"
   },
   "source": [
    "### Стиль заголовков"
   ]
  },
  {
   "cell_type": "code",
   "execution_count": 9,
   "metadata": {
    "id": "oKOTdF_Q_Zct"
   },
   "outputs": [
    {
     "data": {
      "text/plain": [
       "Index(['  userID', 'Track', 'artist', 'genre', '  City  ', 'time', 'Day'], dtype='object')"
      ]
     },
     "execution_count": 9,
     "metadata": {},
     "output_type": "execute_result"
    }
   ],
   "source": [
    "df.columns # перечень названий столбцов таблицы df"
   ]
  },
  {
   "cell_type": "markdown",
   "metadata": {
    "id": "zj5534cv_Zct"
   },
   "source": [
    "Приведем названия в соответствии с хорошим стилем:\n",
    "* несколько слов в названии запишем в «змеином_регистре»,\n",
    "* все символы сделаем строчными,\n",
    "* устраним пробелы."
   ]
  },
  {
   "cell_type": "code",
   "execution_count": 10,
   "metadata": {
    "id": "ISlFqs5y_Zct"
   },
   "outputs": [],
   "source": [
    "df = df.rename(columns={'  userID': 'user_id', 'Track': 'track', '  City  ': 'city', 'Day': 'day'}) # переименование столбцов"
   ]
  },
  {
   "cell_type": "markdown",
   "metadata": {
    "id": "1dqbh00J_Zct"
   },
   "source": [
    "Проверим результат. Для этого ещё раз выведем на экран названия столбцов:"
   ]
  },
  {
   "cell_type": "code",
   "execution_count": 11,
   "metadata": {
    "id": "d4NOAmTW_Zct"
   },
   "outputs": [
    {
     "data": {
      "text/plain": [
       "Index(['user_id', 'track', 'artist', 'genre', 'city', 'time', 'day'], dtype='object')"
      ]
     },
     "execution_count": 11,
     "metadata": {},
     "output_type": "execute_result"
    }
   ],
   "source": [
    "df.columns # проверка результатов - перечень названий столбцов"
   ]
  },
  {
   "cell_type": "markdown",
   "metadata": {
    "id": "5ISfbcfY_Zct"
   },
   "source": [
    "### Пропуски значений"
   ]
  },
  {
   "cell_type": "code",
   "execution_count": 12,
   "metadata": {
    "id": "RskX29qr_Zct"
   },
   "outputs": [
    {
     "data": {
      "text/plain": [
       "user_id       0\n",
       "track      1231\n",
       "artist     7203\n",
       "genre      1198\n",
       "city          0\n",
       "time          0\n",
       "day           0\n",
       "dtype: int64"
      ]
     },
     "execution_count": 12,
     "metadata": {},
     "output_type": "execute_result"
    }
   ],
   "source": [
    "df.isna().sum() # подсчёт пропусков"
   ]
  },
  {
   "cell_type": "markdown",
   "metadata": {
    "id": "qubhgnlO_Zct"
   },
   "source": [
    "Не все пропущенные значения влияют на исследование. Так в `track` и `artist` пропуски не важны для вашей работы. Достаточно заменить их явными обозначениями.\n",
    "\n",
    "Но пропуски в `genre` могут помешать сравнению музыкальных вкусов в Москве и Санкт-Петербурге. На практике было бы правильно установить причину пропусков и восстановить данные. Такой возможности нет. Придётся:\n",
    "* заполнить и эти пропуски явными обозначениями,\n",
    "* оценить, насколько они повредят расчётам. "
   ]
  },
  {
   "cell_type": "markdown",
   "metadata": {
    "id": "fSv2laPA_Zct"
   },
   "source": [
    "Заменим пропущенные значения в столбцах `track`, `artist` и `genre` на строку `'unknown'`. Для этого создадим список `columns_to_replace`, переберем его элементы циклом `for` и для каждого столбца выполним замену пропущенных значений:"
   ]
  },
  {
   "cell_type": "code",
   "execution_count": 13,
   "metadata": {
    "id": "KplB5qWs_Zct"
   },
   "outputs": [],
   "source": [
    "columns_to_replace = ['track', 'artist', 'genre']\n",
    "for column in columns_to_replace:\n",
    "    df[column] = df[column].fillna('unknown')"
   ]
  },
  {
   "cell_type": "markdown",
   "metadata": {
    "id": "Ilsm-MZo_Zct"
   },
   "source": [
    "Убедимся, что в таблице не осталось пропусков. Для этого ещё раз посчитаем пропущенные значения."
   ]
  },
  {
   "cell_type": "code",
   "execution_count": 14,
   "metadata": {
    "id": "Tq4nYRX4_Zct"
   },
   "outputs": [
    {
     "data": {
      "text/plain": [
       "user_id    0\n",
       "track      0\n",
       "artist     0\n",
       "genre      0\n",
       "city       0\n",
       "time       0\n",
       "day        0\n",
       "dtype: int64"
      ]
     },
     "execution_count": 14,
     "metadata": {},
     "output_type": "execute_result"
    }
   ],
   "source": [
    "df.isna().sum() # подсчёт пропусков"
   ]
  },
  {
   "cell_type": "markdown",
   "metadata": {
    "id": "BWKRtBJ3_Zct"
   },
   "source": [
    "### Дубликаты"
   ]
  },
  {
   "cell_type": "code",
   "execution_count": 15,
   "metadata": {
    "id": "36eES_S0_Zct"
   },
   "outputs": [
    {
     "data": {
      "text/plain": [
       "3826"
      ]
     },
     "execution_count": 15,
     "metadata": {},
     "output_type": "execute_result"
    }
   ],
   "source": [
    "df.duplicated().sum() # подсчёт явных дубликатов"
   ]
  },
  {
   "cell_type": "code",
   "execution_count": 16,
   "metadata": {
    "id": "exFHq6tt_Zct"
   },
   "outputs": [],
   "source": [
    "df = df.drop_duplicates().reset_index(drop=True) # удаление явных дубликатов (с удалением старых индексов и формированием новых)"
   ]
  },
  {
   "cell_type": "markdown",
   "metadata": {
    "id": "Im2YwBEG_Zct"
   },
   "source": [
    "Ещё раз посчитаем явные дубликаты в таблице:"
   ]
  },
  {
   "cell_type": "code",
   "execution_count": 17,
   "metadata": {
    "id": "-8PuNWQ0_Zct"
   },
   "outputs": [
    {
     "data": {
      "text/plain": [
       "0"
      ]
     },
     "execution_count": 17,
     "metadata": {},
     "output_type": "execute_result"
    }
   ],
   "source": [
    "df.duplicated().sum()# проверка на отсутствие дубликатов"
   ]
  },
  {
   "cell_type": "markdown",
   "metadata": {
    "id": "QlFBsxAr_Zct"
   },
   "source": [
    "Теперь избавимся от неявных дубликатов в колонке `genre`. Например, название одного и того же жанра может быть записано немного по-разному. Такие ошибки тоже повлияют на результат исследования."
   ]
  },
  {
   "cell_type": "markdown",
   "metadata": {
    "id": "eSjWwsOh_Zct"
   },
   "source": [
    "Выведем на экран список уникальных названий жанров, отсортированный в алфавитном порядке. Для этого:\n",
    "* извлечем нужный столбец датафрейма, \n",
    "* применим к нему метод сортировки,\n",
    "* для отсортированного столбца вызовите метод, который вернёт уникальные значения из столбца."
   ]
  },
  {
   "cell_type": "code",
   "execution_count": 43,
   "metadata": {
    "id": "JIUcqzZN_Zct"
   },
   "outputs": [
    {
     "data": {
      "text/plain": [
       "array(['acid', 'acoustic', 'action', 'adult', 'africa', 'afrikaans',\n",
       "       'alternative', 'alternativepunk', 'ambient', 'americana',\n",
       "       'animated', 'anime', 'arabesk', 'arabic', 'arena',\n",
       "       'argentinetango', 'art', 'audiobook', 'author', 'avantgarde',\n",
       "       'axé', 'baile', 'balkan', 'beats', 'bigroom', 'black', 'bluegrass',\n",
       "       'blues', 'bollywood', 'bossa', 'brazilian', 'breakbeat', 'breaks',\n",
       "       'broadway', 'cantautori', 'cantopop', 'canzone', 'caribbean',\n",
       "       'caucasian', 'celtic', 'chamber', 'chanson', 'children', 'chill',\n",
       "       'chinese', 'choral', 'christian', 'christmas', 'classical',\n",
       "       'classicmetal', 'club', 'colombian', 'comedy', 'conjazz',\n",
       "       'contemporary', 'country', 'cuban', 'dance', 'dancehall',\n",
       "       'dancepop', 'dark', 'death', 'deep', 'deutschrock', 'deutschspr',\n",
       "       'dirty', 'disco', 'dnb', 'documentary', 'downbeat', 'downtempo',\n",
       "       'drum', 'dub', 'dubstep', 'eastern', 'easy', 'electronic',\n",
       "       'electropop', 'emo', 'entehno', 'epicmetal', 'estrada', 'ethnic',\n",
       "       'eurofolk', 'european', 'experimental', 'extrememetal', 'fado',\n",
       "       'fairytail', 'film', 'fitness', 'flamenco', 'folk', 'folklore',\n",
       "       'folkmetal', 'folkrock', 'folktronica', 'forró', 'frankreich',\n",
       "       'französisch', 'french', 'funk', 'future', 'gangsta', 'garage',\n",
       "       'german', 'ghazal', 'gitarre', 'glitch', 'gospel', 'gothic',\n",
       "       'grime', 'grunge', 'gypsy', 'handsup', \"hard'n'heavy\", 'hardcore',\n",
       "       'hardstyle', 'hardtechno', 'hiphop', 'historisch', 'holiday',\n",
       "       'horror', 'house', 'hymn', 'idm', 'independent', 'indian', 'indie',\n",
       "       'indipop', 'industrial', 'inspirational', 'instrumental',\n",
       "       'international', 'irish', 'jam', 'japanese', 'jazz', 'jewish',\n",
       "       'jpop', 'jungle', 'k-pop', 'karadeniz', 'karaoke', 'kayokyoku',\n",
       "       'korean', 'laiko', 'latin', 'latino', 'leftfield', 'local',\n",
       "       'lounge', 'loungeelectronic', 'lovers', 'malaysian', 'mandopop',\n",
       "       'marschmusik', 'meditative', 'mediterranean', 'melodic', 'metal',\n",
       "       'metalcore', 'mexican', 'middle', 'minimal', 'miscellaneous',\n",
       "       'modern', 'mood', 'mpb', 'muslim', 'native', 'neoklassik', 'neue',\n",
       "       'new', 'newage', 'newwave', 'nu', 'nujazz', 'numetal', 'oceania',\n",
       "       'old', 'opera', 'orchestral', 'other', 'piano', 'podcasts', 'pop',\n",
       "       'popdance', 'popelectronic', 'popeurodance', 'poprussian', 'post',\n",
       "       'posthardcore', 'postrock', 'power', 'progmetal', 'progressive',\n",
       "       'psychedelic', 'punjabi', 'punk', 'quebecois', 'ragga', 'ram',\n",
       "       'rancheras', 'rap', 'rave', 'reggae', 'reggaeton', 'regional',\n",
       "       'relax', 'religious', 'retro', 'rhythm', 'rnb', 'rnr', 'rock',\n",
       "       'rockabilly', 'rockalternative', 'rockindie', 'rockother',\n",
       "       'romance', 'roots', 'ruspop', 'rusrap', 'rusrock', 'russian',\n",
       "       'salsa', 'samba', 'scenic', 'schlager', 'self', 'sertanejo',\n",
       "       'shanson', 'shoegazing', 'showtunes', 'singer', 'ska', 'skarock',\n",
       "       'slow', 'smooth', 'soft', 'soul', 'soulful', 'sound', 'soundtrack',\n",
       "       'southern', 'specialty', 'speech', 'spiritual', 'sport',\n",
       "       'stonerrock', 'surf', 'swing', 'synthpop', 'synthrock',\n",
       "       'sängerportrait', 'tango', 'tanzorchester', 'taraftar', 'tatar',\n",
       "       'tech', 'techno', 'teen', 'thrash', 'top', 'traditional',\n",
       "       'tradjazz', 'trance', 'tribal', 'trip', 'triphop', 'tropical',\n",
       "       'türk', 'türkçe', 'ukrrock', 'unknown', 'urban', 'uzbek',\n",
       "       'variété', 'vi', 'videogame', 'vocal', 'western', 'world',\n",
       "       'worldbeat', 'ïîï', 'электроника'], dtype=object)"
      ]
     },
     "execution_count": 43,
     "metadata": {},
     "output_type": "execute_result"
    }
   ],
   "source": [
    "df['genre'].sort_values().unique()"
   ]
  },
  {
   "cell_type": "code",
   "execution_count": 19,
   "metadata": {
    "id": "ErNDkmns_Zct"
   },
   "outputs": [],
   "source": [
    " # replace для каждого неправильного наименования\n",
    " # Функция для замены неявных дубликатов\n",
    "def replace_wrong_genres(wrong_genres, correct_genre):\n",
    "    df['genre'] = df['genre'].replace(wrong_genres, correct_genre)    "
   ]
  },
  {
   "cell_type": "code",
   "execution_count": 20,
   "metadata": {
    "id": "YN5i2hpmSo09"
   },
   "outputs": [],
   "source": [
    "wrong_genres = ['hip','hop','hip-hop'] # Устранение неявных дубликатов\n",
    "correct_genre = 'hiphop'\n",
    "replace_wrong_genres(wrong_genres, correct_genre)"
   ]
  },
  {
   "cell_type": "code",
   "execution_count": 21,
   "metadata": {
    "id": "wvixALnFG15m"
   },
   "outputs": [
    {
     "data": {
      "text/plain": [
       "array(['acid', 'acoustic', 'action', 'adult', 'africa', 'afrikaans',\n",
       "       'alternative', 'alternativepunk', 'ambient', 'americana',\n",
       "       'animated', 'anime', 'arabesk', 'arabic', 'arena',\n",
       "       'argentinetango', 'art', 'audiobook', 'author', 'avantgarde',\n",
       "       'axé', 'baile', 'balkan', 'beats', 'bigroom', 'black', 'bluegrass',\n",
       "       'blues', 'bollywood', 'bossa', 'brazilian', 'breakbeat', 'breaks',\n",
       "       'broadway', 'cantautori', 'cantopop', 'canzone', 'caribbean',\n",
       "       'caucasian', 'celtic', 'chamber', 'chanson', 'children', 'chill',\n",
       "       'chinese', 'choral', 'christian', 'christmas', 'classical',\n",
       "       'classicmetal', 'club', 'colombian', 'comedy', 'conjazz',\n",
       "       'contemporary', 'country', 'cuban', 'dance', 'dancehall',\n",
       "       'dancepop', 'dark', 'death', 'deep', 'deutschrock', 'deutschspr',\n",
       "       'dirty', 'disco', 'dnb', 'documentary', 'downbeat', 'downtempo',\n",
       "       'drum', 'dub', 'dubstep', 'eastern', 'easy', 'electronic',\n",
       "       'electropop', 'emo', 'entehno', 'epicmetal', 'estrada', 'ethnic',\n",
       "       'eurofolk', 'european', 'experimental', 'extrememetal', 'fado',\n",
       "       'fairytail', 'film', 'fitness', 'flamenco', 'folk', 'folklore',\n",
       "       'folkmetal', 'folkrock', 'folktronica', 'forró', 'frankreich',\n",
       "       'französisch', 'french', 'funk', 'future', 'gangsta', 'garage',\n",
       "       'german', 'ghazal', 'gitarre', 'glitch', 'gospel', 'gothic',\n",
       "       'grime', 'grunge', 'gypsy', 'handsup', \"hard'n'heavy\", 'hardcore',\n",
       "       'hardstyle', 'hardtechno', 'hiphop', 'historisch', 'holiday',\n",
       "       'horror', 'house', 'hymn', 'idm', 'independent', 'indian', 'indie',\n",
       "       'indipop', 'industrial', 'inspirational', 'instrumental',\n",
       "       'international', 'irish', 'jam', 'japanese', 'jazz', 'jewish',\n",
       "       'jpop', 'jungle', 'k-pop', 'karadeniz', 'karaoke', 'kayokyoku',\n",
       "       'korean', 'laiko', 'latin', 'latino', 'leftfield', 'local',\n",
       "       'lounge', 'loungeelectronic', 'lovers', 'malaysian', 'mandopop',\n",
       "       'marschmusik', 'meditative', 'mediterranean', 'melodic', 'metal',\n",
       "       'metalcore', 'mexican', 'middle', 'minimal', 'miscellaneous',\n",
       "       'modern', 'mood', 'mpb', 'muslim', 'native', 'neoklassik', 'neue',\n",
       "       'new', 'newage', 'newwave', 'nu', 'nujazz', 'numetal', 'oceania',\n",
       "       'old', 'opera', 'orchestral', 'other', 'piano', 'podcasts', 'pop',\n",
       "       'popdance', 'popelectronic', 'popeurodance', 'poprussian', 'post',\n",
       "       'posthardcore', 'postrock', 'power', 'progmetal', 'progressive',\n",
       "       'psychedelic', 'punjabi', 'punk', 'quebecois', 'ragga', 'ram',\n",
       "       'rancheras', 'rap', 'rave', 'reggae', 'reggaeton', 'regional',\n",
       "       'relax', 'religious', 'retro', 'rhythm', 'rnb', 'rnr', 'rock',\n",
       "       'rockabilly', 'rockalternative', 'rockindie', 'rockother',\n",
       "       'romance', 'roots', 'ruspop', 'rusrap', 'rusrock', 'russian',\n",
       "       'salsa', 'samba', 'scenic', 'schlager', 'self', 'sertanejo',\n",
       "       'shanson', 'shoegazing', 'showtunes', 'singer', 'ska', 'skarock',\n",
       "       'slow', 'smooth', 'soft', 'soul', 'soulful', 'sound', 'soundtrack',\n",
       "       'southern', 'specialty', 'speech', 'spiritual', 'sport',\n",
       "       'stonerrock', 'surf', 'swing', 'synthpop', 'synthrock',\n",
       "       'sängerportrait', 'tango', 'tanzorchester', 'taraftar', 'tatar',\n",
       "       'tech', 'techno', 'teen', 'thrash', 'top', 'traditional',\n",
       "       'tradjazz', 'trance', 'tribal', 'trip', 'triphop', 'tropical',\n",
       "       'türk', 'türkçe', 'ukrrock', 'unknown', 'urban', 'uzbek',\n",
       "       'variété', 'vi', 'videogame', 'vocal', 'western', 'world',\n",
       "       'worldbeat', 'ïîï', 'электроника'], dtype=object)"
      ]
     },
     "execution_count": 21,
     "metadata": {},
     "output_type": "execute_result"
    }
   ],
   "source": [
    "df['genre'].sort_values().unique() # Проверка на неявные дубликаты"
   ]
  },
  {
   "cell_type": "markdown",
   "metadata": {
    "id": "jz6a9-7HQUDd"
   },
   "source": [
    "**Выводы**\n",
    "\n",
    "Предобработка обнаружила три проблемы в данных:\n",
    "\n",
    "- нарушения в стиле заголовков,\n",
    "- пропущенные значения,\n",
    "- дубликаты — явные и неявные.\n",
    "\n",
    "Вы исправили заголовки, чтобы упростить работу с таблицей. Без дубликатов исследование станет более точным.\n",
    "\n",
    "Пропущенные значения вы заменили на `'unknown'`. Ещё предстоит увидеть, не повредят ли исследованию пропуски в колонке `genre`.\n",
    "\n",
    "Теперь можно перейти к проверке гипотез. "
   ]
  },
  {
   "cell_type": "markdown",
   "metadata": {
    "id": "WttZHXH0SqKk"
   },
   "source": [
    "## Проверка гипотез"
   ]
  },
  {
   "cell_type": "markdown",
   "metadata": {
    "id": "Im936VVi_Zcu"
   },
   "source": [
    "### Сравнение поведения пользователей двух столиц"
   ]
  },
  {
   "cell_type": "markdown",
   "metadata": {
    "id": "nwt_MuaL_Zcu"
   },
   "source": [
    "Первая гипотеза утверждает, что пользователи по-разному слушают музыку в Москве и Санкт-Петербурге. Проверим это предположение по данным о трёх днях недели — понедельнике, среде и пятнице. Для этого:\n",
    "\n",
    "* Разделим пользователей Москвы и Санкт-Петербурга\n",
    "* Сравним, сколько треков послушала каждая группа пользователей в понедельник, среду и пятницу.\n"
   ]
  },
  {
   "cell_type": "code",
   "execution_count": 22,
   "metadata": {
    "id": "0_Qs96oh_Zcu"
   },
   "outputs": [
    {
     "data": {
      "text/plain": [
       "city\n",
       "Moscow              42741\n",
       "Saint-Petersburg    18512\n",
       "Name: genre, dtype: int64"
      ]
     },
     "execution_count": 22,
     "metadata": {},
     "output_type": "execute_result"
    }
   ],
   "source": [
    "df.groupby('city')['genre'].count() # Подсчёт прослушиваний в каждом городе"
   ]
  },
  {
   "cell_type": "markdown",
   "metadata": {
    "id": "dzli3w8o_Zcu"
   },
   "source": [
    "В Москве прослушиваний больше, чем в Петербурге. Из этого не следует, что московские пользователи чаще слушают музыку. Просто самих пользователей в Москве больше.\n",
    "\n",
    "Теперь сгруппируйте данные по дню недели и подсчитайте прослушивания в понедельник, среду и пятницу. Учтите, что в данных есть информация только о прослушиваниях только за эти дни.\n"
   ]
  },
  {
   "cell_type": "code",
   "execution_count": 23,
   "metadata": {
    "id": "uZMKjiJz_Zcu"
   },
   "outputs": [
    {
     "data": {
      "text/plain": [
       "day\n",
       "Friday       21840\n",
       "Monday       21354\n",
       "Wednesday    18059\n",
       "Name: genre, dtype: int64"
      ]
     },
     "execution_count": 23,
     "metadata": {},
     "output_type": "execute_result"
    }
   ],
   "source": [
    "df.groupby('day')['genre'].count() # Подсчёт прослушиваний в каждый из трёх дней"
   ]
  },
  {
   "cell_type": "markdown",
   "metadata": {
    "id": "cC2tNrlL_Zcu"
   },
   "source": [
    "В среднем пользователи из двух городов менее активны по средам. Но картина может измениться, если рассмотреть каждый город в отдельности."
   ]
  },
  {
   "cell_type": "code",
   "execution_count": 24,
   "metadata": {
    "id": "Nz3GdQB1_Zcu"
   },
   "outputs": [],
   "source": [
    "def number_tracks(day, city):\n",
    "    track_list = df[(df['day'] == day) & (df['city'] == city)]\n",
    "    track_list_count = track_list['user_id'].count()\n",
    "    return track_list_count\n",
    "    \n",
    "            \n",
    "        \n",
    "# <создание функции number_tracks()>\n",
    "# Объявляется функция с двумя параметрами: day, city.\n",
    "# В переменной track_list сохраняются те строки таблицы df, для которых \n",
    "# значение в столбце 'day' равно параметру day и одновременно значение\n",
    "# в столбце 'city' равно параметру city (используйте последовательную фильтрацию\n",
    "# с помощью логической индексации).\n",
    "# В переменной track_list_count сохраняется число значений столбца 'user_id',\n",
    "# рассчитанное методом count() для таблицы track_list.\n",
    "# Функция возвращает число - значение track_list_count.\n",
    "\n",
    "# Функция для подсчёта прослушиваний для конкретного города и дня.\n",
    "# С помощью последовательной фильтрации с логической индексацией она \n",
    "# сначала получит из исходной таблицы строки с нужным днём,\n",
    "# затем из результата отфильтрует строки с нужным городом,\n",
    "# методом count() посчитает количество значений в колонке user_id. \n",
    "# Это количество функция вернёт в качестве результата"
   ]
  },
  {
   "cell_type": "code",
   "execution_count": 25,
   "metadata": {
    "id": "rJcRATNQ_Zcu"
   },
   "outputs": [
    {
     "data": {
      "text/plain": [
       "15740"
      ]
     },
     "execution_count": 25,
     "metadata": {},
     "output_type": "execute_result"
    }
   ],
   "source": [
    "# количество прослушиваний в Москве по понедельникам\n",
    "\n",
    "number_tracks('Monday','Moscow')"
   ]
  },
  {
   "cell_type": "code",
   "execution_count": 26,
   "metadata": {
    "id": "hq_ncZ5T_Zcu"
   },
   "outputs": [
    {
     "data": {
      "text/plain": [
       "5614"
      ]
     },
     "execution_count": 26,
     "metadata": {},
     "output_type": "execute_result"
    }
   ],
   "source": [
    "number_tracks('Monday','Saint-Petersburg') # количество прослушиваний в Санкт-Петербурге по понедельникам"
   ]
  },
  {
   "cell_type": "code",
   "execution_count": 27,
   "metadata": {
    "id": "_NTy2VPU_Zcu"
   },
   "outputs": [
    {
     "data": {
      "text/plain": [
       "11056"
      ]
     },
     "execution_count": 27,
     "metadata": {},
     "output_type": "execute_result"
    }
   ],
   "source": [
    "number_tracks('Wednesday','Moscow') # количество прослушиваний в Москве по средам"
   ]
  },
  {
   "cell_type": "code",
   "execution_count": 28,
   "metadata": {
    "id": "j2y3TAwo_Zcu"
   },
   "outputs": [
    {
     "data": {
      "text/plain": [
       "7003"
      ]
     },
     "execution_count": 28,
     "metadata": {},
     "output_type": "execute_result"
    }
   ],
   "source": [
    "number_tracks('Wednesday','Saint-Petersburg') # количество прослушиваний в Санкт-Петербурге по средам"
   ]
  },
  {
   "cell_type": "code",
   "execution_count": 29,
   "metadata": {
    "id": "vYDw5u_K_Zcu"
   },
   "outputs": [
    {
     "data": {
      "text/plain": [
       "15945"
      ]
     },
     "execution_count": 29,
     "metadata": {},
     "output_type": "execute_result"
    }
   ],
   "source": [
    "number_tracks('Friday','Moscow') # количество прослушиваний в Москве по пятницам"
   ]
  },
  {
   "cell_type": "code",
   "execution_count": 30,
   "metadata": {
    "id": "8_yzFtW3_Zcu"
   },
   "outputs": [
    {
     "data": {
      "text/plain": [
       "5895"
      ]
     },
     "execution_count": 30,
     "metadata": {},
     "output_type": "execute_result"
    }
   ],
   "source": [
    "number_tracks('Friday','Saint-Petersburg') # количество прослушиваний в Санкт-Петербурге по пятницам"
   ]
  },
  {
   "cell_type": "code",
   "execution_count": 31,
   "metadata": {
    "id": "APAcLpOr_Zcu"
   },
   "outputs": [
    {
     "name": "stdout",
     "output_type": "stream",
     "text": [
      "               city  monday  wednesday  friday\n",
      "0            Moscow   15740      11056   15945\n",
      "1  Saint-Petersburg    5614       7003    5895\n"
     ]
    }
   ],
   "source": [
    "columns = ['city', 'monday', 'wednesday', 'friday'] # Таблица с результатами\n",
    "data = [['Moscow', 15740, 11056, 15945],\n",
    "        ['Saint-Petersburg', 5614, 7003, 5895]]\n",
    "research = pd.DataFrame(data = data, columns = columns)\n",
    "print(research)"
   ]
  },
  {
   "cell_type": "markdown",
   "metadata": {
    "id": "-EgPIHYu_Zcu"
   },
   "source": [
    "**Выводы**\n",
    "\n",
    "Данные показывают разницу поведения пользователей:\n",
    "\n",
    "- В Москве пик прослушиваний приходится на понедельник и пятницу, а в среду заметен спад.\n",
    "- В Петербурге, наоборот, больше слушают музыку по средам. Активность в понедельник и пятницу здесь почти в равной мере уступает среде.\n",
    "\n",
    "Значит, данные говорят в пользу первой гипотезы."
   ]
  },
  {
   "cell_type": "markdown",
   "metadata": {
    "id": "atZAxtq4_Zcu"
   },
   "source": [
    "### Музыка в начале и в конце недели"
   ]
  },
  {
   "cell_type": "markdown",
   "metadata": {
    "id": "eXrQqXFH_Zcu"
   },
   "source": [
    "Согласно второй гипотезе, утром в понедельник в Москве преобладают одни жанры, а в Петербурге — другие. Так же и вечером пятницы преобладают разные жанры — в зависимости от города."
   ]
  },
  {
   "cell_type": "code",
   "execution_count": 32,
   "metadata": {
    "id": "qeaFfM_P_Zcu"
   },
   "outputs": [],
   "source": [
    "# получение таблицы moscow_general из тех строк таблицы df, \n",
    "# для которых значение в столбце 'city' равно 'Moscow'\n",
    "moscow_general = df[df['city'] == 'Moscow']"
   ]
  },
  {
   "cell_type": "code",
   "execution_count": 33,
   "metadata": {
    "id": "ORaVRKto_Zcu"
   },
   "outputs": [],
   "source": [
    "# получение таблицы spb_general из тех строк таблицы df,\n",
    "# для которых значение в столбце 'city' равно 'Saint-Petersburg'\n",
    "spb_general = df[df['city'] == 'Saint-Petersburg']\n"
   ]
  },
  {
   "cell_type": "code",
   "execution_count": 34,
   "metadata": {
    "id": "laJT9BYl_Zcu"
   },
   "outputs": [],
   "source": [
    "def genre_weekday(table, day, time1, time2):\n",
    "    genre_df = table[(table['day'] == day) & (table['time'] > time1) & (table['time'] < time2)]\n",
    "    genre_df_count = genre_df.groupby('genre')['genre'].count()\n",
    "    genre_df_sorted = genre_df_count.sort_values(ascending=False)\n",
    "    return genre_df_sorted.head(10)\n",
    "                     \n",
    "# Объявление функции genre_weekday() с параметрами table, day, time1, time2,\n",
    "# которая возвращает информацию о самых популярных жанрах в указанный день в\n",
    "# заданное время:\n",
    "# 1) в переменную genre_df сохраняются те строки переданного датафрейма table, для\n",
    "#    которых одновременно:\n",
    "#    - значение в столбце day равно значению аргумента day\n",
    "#    - значение в столбце time больше значения аргумента time1\n",
    "#    - значение в столбце time меньше значения аргумента time2\n",
    "#    Используйте последовательную фильтрацию с помощью логической индексации.\n",
    "# 2) сгруппировать датафрейм genre_df по столбцу genre, взять один из его\n",
    "#    столбцов и посчитать методом count() количество записей для каждого из\n",
    "#    присутствующих жанров, получившийся Series записать в переменную\n",
    "#    genre_df_count\n",
    "# 3) отсортировать genre_df_count по убыванию встречаемости и сохранить\n",
    "#    в переменную genre_df_sorted\n",
    "# 4) вернуть Series из 10 первых значений genre_df_sorted, это будут топ-10\n",
    "#    популярных жанров (в указанный день, в заданное время)"
   ]
  },
  {
   "cell_type": "markdown",
   "metadata": {
    "id": "la2s2_PF_Zcu"
   },
   "source": [
    "Cравним результаты функции `genre_weekday()` для Москвы и Санкт-Петербурга в понедельник утром (с 7:00 до 11:00) и в пятницу вечером (с 17:00 до 23:00):"
   ]
  },
  {
   "cell_type": "code",
   "execution_count": 35,
   "metadata": {
    "id": "yz7itPUQ_Zcu"
   },
   "outputs": [
    {
     "data": {
      "text/plain": [
       "genre\n",
       "pop            781\n",
       "dance          549\n",
       "electronic     480\n",
       "rock           474\n",
       "hiphop         286\n",
       "ruspop         186\n",
       "world          181\n",
       "rusrap         175\n",
       "alternative    164\n",
       "unknown        161\n",
       "Name: genre, dtype: int64"
      ]
     },
     "execution_count": 35,
     "metadata": {},
     "output_type": "execute_result"
    }
   ],
   "source": [
    "genre_weekday(moscow_general, 'Monday', '07:00', '11:00') # вызов функции для утра понедельника в Москве (вместо df — таблица moscow_general)\n",
    "# объекты, хранящие время, являются строками и сравниваются как строки\n",
    "# пример вызова: genre_weekday(moscow_general, 'Monday', '07:00', '11:00')"
   ]
  },
  {
   "cell_type": "code",
   "execution_count": 36,
   "metadata": {
    "id": "kwUcHPdy_Zcu"
   },
   "outputs": [
    {
     "data": {
      "text/plain": [
       "genre\n",
       "pop            218\n",
       "dance          182\n",
       "rock           162\n",
       "electronic     147\n",
       "hiphop          80\n",
       "ruspop          64\n",
       "alternative     58\n",
       "rusrap          55\n",
       "jazz            44\n",
       "classical       40\n",
       "Name: genre, dtype: int64"
      ]
     },
     "execution_count": 36,
     "metadata": {},
     "output_type": "execute_result"
    }
   ],
   "source": [
    "genre_weekday(spb_general, 'Monday', '07:00', '11:00') # вызов функции для утра понедельника в Петербурге (вместо df — таблица spb_general)"
   ]
  },
  {
   "cell_type": "code",
   "execution_count": 37,
   "metadata": {
    "id": "EzXVRE1o_Zcu"
   },
   "outputs": [
    {
     "data": {
      "text/plain": [
       "genre\n",
       "pop            717\n",
       "dance          524\n",
       "rock           518\n",
       "electronic     485\n",
       "hiphop         238\n",
       "alternative    182\n",
       "classical      172\n",
       "world          172\n",
       "ruspop         149\n",
       "rusrap         133\n",
       "Name: genre, dtype: int64"
      ]
     },
     "execution_count": 37,
     "metadata": {},
     "output_type": "execute_result"
    }
   ],
   "source": [
    "genre_weekday(moscow_general, 'Monday', '17:00', '23:00') # вызов функции для вечера пятницы в Москве"
   ]
  },
  {
   "cell_type": "code",
   "execution_count": 38,
   "metadata": {
    "id": "JZaEKu5v_Zcu"
   },
   "outputs": [
    {
     "data": {
      "text/plain": [
       "genre\n",
       "pop            263\n",
       "rock           208\n",
       "electronic     192\n",
       "dance          191\n",
       "hiphop         104\n",
       "alternative     72\n",
       "classical       71\n",
       "jazz            57\n",
       "rusrap          54\n",
       "ruspop          53\n",
       "Name: genre, dtype: int64"
      ]
     },
     "execution_count": 38,
     "metadata": {},
     "output_type": "execute_result"
    }
   ],
   "source": [
    "genre_weekday(spb_general, 'Monday', '17:00', '23:00') # вызов функции для вечера пятницы в Петербурге"
   ]
  },
  {
   "cell_type": "markdown",
   "metadata": {
    "id": "wrCe4MNX_Zcu"
   },
   "source": [
    "**Выводы**\n",
    "\n",
    "Если сравнить топ-10 жанров в понедельник утром, можно сделать такие выводы:\n",
    "\n",
    "1. В Москве и Петербурге слушают похожую музыку. Единственное отличие — в московский рейтинг вошёл жанр “world”, а в петербургский — джаз и классика.\n",
    "\n",
    "2. В Москве пропущенных значений оказалось так много, что значение `'unknown'` заняло десятое место среди самых популярных жанров. Значит, пропущенные значения занимают существенную долю в данных и угрожают достоверности исследования.\n",
    "\n",
    "Вечер пятницы не меняет эту картину. Некоторые жанры поднимаются немного выше, другие спускаются, но в целом топ-10 остаётся тем же самым.\n",
    "\n",
    "Таким образом, вторая гипотеза подтвердилась лишь частично:\n",
    "* Пользователи слушают похожую музыку в начале недели и в конце.\n",
    "* Разница между Москвой и Петербургом не слишком выражена. В Москве чаще слушают русскую популярную музыку, в Петербурге — джаз.\n",
    "\n",
    "Однако пропуски в данных ставят под сомнение этот результат. В Москве их так много, что рейтинг топ-10 мог бы выглядеть иначе, если бы не утерянные  данные о жанрах."
   ]
  },
  {
   "cell_type": "markdown",
   "metadata": {
    "id": "JolODAqr_Zcu"
   },
   "source": [
    "### Жанровые предпочтения в Москве и Петербурге\n",
    "\n",
    "Гипотеза: Петербург — столица рэпа, музыку этого жанра там слушают чаще, чем в Москве.  А Москва — город контрастов, в котором, тем не менее, преобладает поп-музыка."
   ]
  },
  {
   "cell_type": "markdown",
   "metadata": {
    "id": "DlegSvaT_Zcu"
   },
   "source": [
    "Сгруппиру таблицу `moscow_general` по жанру и посчитайте прослушивания треков каждого жанра методом `count()`. Затем отсортируйте результат в порядке убывания и сохраните его в таблице `moscow_genres`."
   ]
  },
  {
   "cell_type": "code",
   "execution_count": 39,
   "metadata": {
    "id": "r19lIPke_Zcu",
    "scrolled": true
   },
   "outputs": [],
   "source": [
    "moscow_genres = moscow_general.groupby('genre')['genre'].count().sort_values(ascending = False)\n",
    "# одной строкой: группировка таблицы moscow_general по столбцу 'genre', \n",
    "# подсчёт числа значений 'genre' в этой группировке методом count(), \n",
    "# сортировка получившегося Series в порядке убывания и сохранение в moscow_genres"
   ]
  },
  {
   "cell_type": "markdown",
   "metadata": {
    "id": "6kMuomxTiIr8"
   },
   "source": [
    "Выведите на экран первые десять строк `moscow_genres`:"
   ]
  },
  {
   "cell_type": "code",
   "execution_count": 40,
   "metadata": {
    "id": "WhCSooF8_Zcv"
   },
   "outputs": [
    {
     "data": {
      "text/plain": [
       "genre\n",
       "pop            5892\n",
       "dance          4435\n",
       "rock           3965\n",
       "electronic     3786\n",
       "hiphop         2096\n",
       "classical      1616\n",
       "world          1432\n",
       "alternative    1379\n",
       "ruspop         1372\n",
       "rusrap         1161\n",
       "Name: genre, dtype: int64"
      ]
     },
     "execution_count": 40,
     "metadata": {},
     "output_type": "execute_result"
    }
   ],
   "source": [
    "moscow_genres.head(10) # просмотр первых 10 строк moscow_genres"
   ]
  },
  {
   "cell_type": "markdown",
   "metadata": {
    "id": "cnPG2vnN_Zcv"
   },
   "source": [
    "Теперь повторите то же и для Петербурга.\n",
    "\n",
    "Сгруппируйте таблицу `spb_general` по жанру. Посчитайте прослушивания треков каждого жанра. Результат отсортируйте в порядке убывания и сохраните в таблице `spb_genres`:\n"
   ]
  },
  {
   "cell_type": "code",
   "execution_count": 41,
   "metadata": {
    "id": "gluLIpE7_Zcv"
   },
   "outputs": [],
   "source": [
    "spb_genres = spb_general.groupby('genre')['genre'].count().sort_values(ascending = False)\n",
    "# одной строкой: группировка таблицы spb_general по столбцу 'genre', \n",
    "# подсчёт числа значений 'genre' в этой группировке методом count(), \n",
    "# сортировка получившегося Series в порядке убывания и сохранение в spb_genres"
   ]
  },
  {
   "cell_type": "markdown",
   "metadata": {
    "id": "5Doha_ODgyQ8"
   },
   "source": [
    "Выведите на экран первые десять строк `spb_genres`:"
   ]
  },
  {
   "cell_type": "code",
   "execution_count": 42,
   "metadata": {
    "id": "uaGJHjVU_Zcv"
   },
   "outputs": [
    {
     "data": {
      "text/plain": [
       "genre\n",
       "pop            2431\n",
       "dance          1932\n",
       "rock           1879\n",
       "electronic     1736\n",
       "hiphop          960\n",
       "alternative     649\n",
       "classical       646\n",
       "rusrap          564\n",
       "ruspop          538\n",
       "world           515\n",
       "Name: genre, dtype: int64"
      ]
     },
     "execution_count": 42,
     "metadata": {},
     "output_type": "execute_result"
    }
   ],
   "source": [
    "spb_genres.head(10) # просмотр первых 10 строк spb_genres"
   ]
  },
  {
   "cell_type": "markdown",
   "metadata": {
    "id": "RY51YJYu_Zcv"
   },
   "source": [
    "**Выводы**"
   ]
  },
  {
   "cell_type": "markdown",
   "metadata": {
    "id": "nVhnJEm__Zcv"
   },
   "source": [
    "Гипотеза частично подтвердилась:\n",
    "* Поп-музыка — самый популярный жанр в Москве, как и предполагала гипотеза. Более того, в топ-10 жанров встречается близкий жанр — русская популярная музыка.\n",
    "* Вопреки ожиданиям, рэп одинаково популярен в Москве и Петербурге. \n"
   ]
  },
  {
   "cell_type": "markdown",
   "metadata": {
    "id": "ykKQ0N65_Zcv"
   },
   "source": [
    "## Итоги исследования"
   ]
  },
  {
   "cell_type": "markdown",
   "metadata": {
    "id": "tjUwbHb3_Zcv"
   },
   "source": [
    "Вы проверили три гипотезы и установили:\n",
    "\n",
    "1. День недели по-разному влияет на активность пользователей в Москве и Петербурге. \n",
    "\n",
    "Первая гипотеза полностью подтвердилась.\n",
    "\n",
    "2. Музыкальные предпочтения не сильно меняются в течение недели — будь то Москва или Петербург. Небольшие различия заметны в начале недели, по понедельникам:\n",
    "* в Москве слушают музыку жанра “world”,\n",
    "* в Петербурге — джаз и классику.\n",
    "\n",
    "Таким образом, вторая гипотеза подтвердилась лишь отчасти. Этот результат мог оказаться иным, если бы не пропуски в данных.\n",
    "\n",
    "3. Во вкусах пользователей Москвы и Петербурга больше общего чем различий. Вопреки ожиданиям, предпочтения жанров в Петербурге напоминают московские.\n",
    "\n",
    "Третья гипотеза не подтвердилась. Если различия в предпочтениях и существуют, на основной массе пользователей они незаметны.\n",
    "\n",
    "**На практике исследования содержат проверки статистических гипотез.**\n",
    "Из данных одного сервиса не всегда можно сделать вывод о всех жителях города.\n",
    "Проверки статистических гипотез покажут, насколько они достоверны, исходя из имеющихся данных. \n",
    "С методами проверок гипотез вы ещё познакомитесь в следующих темах."
   ]
  }
 ],
 "metadata": {
  "ExecuteTimeLog": [
   {
    "duration": 320,
    "start_time": "2022-01-10T17:21:38.301Z"
   },
   {
    "duration": 77,
    "start_time": "2022-01-10T17:21:50.476Z"
   },
   {
    "duration": 87,
    "start_time": "2022-01-10T17:21:52.431Z"
   },
   {
    "duration": 257,
    "start_time": "2022-01-10T17:22:38.331Z"
   },
   {
    "duration": 349,
    "start_time": "2022-01-10T17:22:50.408Z"
   },
   {
    "duration": 307,
    "start_time": "2022-01-10T17:24:42.538Z"
   },
   {
    "duration": 791,
    "start_time": "2022-01-10T17:25:20.083Z"
   },
   {
    "duration": 187,
    "start_time": "2022-01-10T17:25:22.024Z"
   },
   {
    "duration": 186,
    "start_time": "2022-01-10T17:25:25.300Z"
   },
   {
    "duration": 34,
    "start_time": "2022-01-10T17:26:28.467Z"
   },
   {
    "duration": 11,
    "start_time": "2022-01-10T17:29:52.497Z"
   },
   {
    "duration": 356,
    "start_time": "2022-01-11T17:48:22.370Z"
   },
   {
    "duration": 604,
    "start_time": "2022-01-11T17:48:27.595Z"
   },
   {
    "duration": 123,
    "start_time": "2022-01-11T17:48:29.696Z"
   },
   {
    "duration": 15,
    "start_time": "2022-01-11T17:48:30.512Z"
   },
   {
    "duration": 7,
    "start_time": "2022-01-11T17:48:32.400Z"
   },
   {
    "duration": 4,
    "start_time": "2022-01-11T17:51:13.491Z"
   },
   {
    "duration": 102,
    "start_time": "2022-01-11T17:53:50.803Z"
   },
   {
    "duration": 20,
    "start_time": "2022-01-11T17:54:00.930Z"
   },
   {
    "duration": 4,
    "start_time": "2022-01-11T17:54:06.779Z"
   },
   {
    "duration": 4,
    "start_time": "2022-01-11T17:54:19.547Z"
   },
   {
    "duration": 21,
    "start_time": "2022-01-11T17:56:40.076Z"
   },
   {
    "duration": 465,
    "start_time": "2022-01-11T18:21:15.267Z"
   },
   {
    "duration": 345,
    "start_time": "2022-01-11T18:21:25.839Z"
   },
   {
    "duration": 332,
    "start_time": "2022-01-11T18:21:52.436Z"
   },
   {
    "duration": 444,
    "start_time": "2022-01-11T18:22:50.134Z"
   },
   {
    "duration": 586,
    "start_time": "2022-01-11T18:22:55.222Z"
   },
   {
    "duration": 120,
    "start_time": "2022-01-11T18:22:56.470Z"
   },
   {
    "duration": 15,
    "start_time": "2022-01-11T18:22:57.974Z"
   },
   {
    "duration": 8,
    "start_time": "2022-01-11T18:22:59.984Z"
   },
   {
    "duration": 4,
    "start_time": "2022-01-11T18:23:04.222Z"
   },
   {
    "duration": 30,
    "start_time": "2022-01-11T18:23:06.327Z"
   },
   {
    "duration": 4,
    "start_time": "2022-01-11T18:23:07.855Z"
   },
   {
    "duration": 22,
    "start_time": "2022-01-11T18:23:09.603Z"
   },
   {
    "duration": 16,
    "start_time": "2022-01-11T18:24:31.738Z"
   },
   {
    "duration": 20,
    "start_time": "2022-01-11T18:24:42.824Z"
   },
   {
    "duration": 53,
    "start_time": "2022-01-11T18:25:13.725Z"
   },
   {
    "duration": 46,
    "start_time": "2022-01-11T18:25:18.350Z"
   },
   {
    "duration": 48,
    "start_time": "2022-01-11T18:26:09.608Z"
   },
   {
    "duration": 59,
    "start_time": "2022-01-11T18:27:16.677Z"
   },
   {
    "duration": 55,
    "start_time": "2022-01-11T18:27:27.831Z"
   },
   {
    "duration": 59,
    "start_time": "2022-01-11T18:28:05.114Z"
   },
   {
    "duration": 50,
    "start_time": "2022-01-11T18:28:07.648Z"
   },
   {
    "duration": 55,
    "start_time": "2022-01-11T18:28:45.122Z"
   },
   {
    "duration": 64,
    "start_time": "2022-01-11T18:28:49.067Z"
   },
   {
    "duration": 55,
    "start_time": "2022-01-11T18:29:10.809Z"
   },
   {
    "duration": 55,
    "start_time": "2022-01-11T18:29:12.992Z"
   },
   {
    "duration": 48,
    "start_time": "2022-01-11T18:29:16.333Z"
   },
   {
    "duration": 54,
    "start_time": "2022-01-11T18:29:45.190Z"
   },
   {
    "duration": 54,
    "start_time": "2022-01-11T18:30:12.836Z"
   },
   {
    "duration": 47,
    "start_time": "2022-01-11T18:30:14.720Z"
   },
   {
    "duration": 7,
    "start_time": "2022-01-11T18:31:48.297Z"
   },
   {
    "duration": 1127,
    "start_time": "2022-01-11T18:49:03.639Z"
   },
   {
    "duration": 401,
    "start_time": "2022-01-11T18:53:02.460Z"
   },
   {
    "duration": 2,
    "start_time": "2022-01-11T18:53:18.139Z"
   },
   {
    "duration": 3,
    "start_time": "2022-01-11T18:55:03.200Z"
   },
   {
    "duration": 7,
    "start_time": "2022-01-11T18:59:17.456Z"
   },
   {
    "duration": 7,
    "start_time": "2022-01-11T18:59:44.640Z"
   },
   {
    "duration": 51,
    "start_time": "2022-01-11T19:06:01.821Z"
   },
   {
    "duration": 10,
    "start_time": "2022-01-11T19:06:33.297Z"
   },
   {
    "duration": 9,
    "start_time": "2022-01-11T19:08:50.706Z"
   },
   {
    "duration": 3,
    "start_time": "2022-01-11T19:23:08.410Z"
   },
   {
    "duration": 330,
    "start_time": "2022-01-11T19:25:41.573Z"
   },
   {
    "duration": 357,
    "start_time": "2022-01-11T19:25:53.102Z"
   },
   {
    "duration": 455,
    "start_time": "2022-01-11T19:26:21.855Z"
   },
   {
    "duration": 10073,
    "start_time": "2022-01-11T19:26:34.781Z"
   },
   {
    "duration": 9335,
    "start_time": "2022-01-11T19:27:12.274Z"
   },
   {
    "duration": 4,
    "start_time": "2022-01-11T19:28:05.998Z"
   },
   {
    "duration": 10,
    "start_time": "2022-01-11T19:28:08.715Z"
   },
   {
    "duration": 3,
    "start_time": "2022-01-11T19:28:24.715Z"
   },
   {
    "duration": 14,
    "start_time": "2022-01-11T19:28:26.175Z"
   },
   {
    "duration": 14,
    "start_time": "2022-01-11T19:28:46.179Z"
   },
   {
    "duration": 15,
    "start_time": "2022-01-11T19:29:02.947Z"
   },
   {
    "duration": 24,
    "start_time": "2022-01-11T19:29:18.726Z"
   },
   {
    "duration": 16,
    "start_time": "2022-01-11T19:29:36.156Z"
   },
   {
    "duration": 18,
    "start_time": "2022-01-11T19:29:46.643Z"
   },
   {
    "duration": 132,
    "start_time": "2022-01-11T19:38:39.669Z"
   },
   {
    "duration": 121,
    "start_time": "2022-01-11T19:39:23.897Z"
   },
   {
    "duration": 7,
    "start_time": "2022-01-11T19:39:34.112Z"
   },
   {
    "duration": 7,
    "start_time": "2022-01-11T19:39:43.759Z"
   },
   {
    "duration": 114,
    "start_time": "2022-01-11T20:24:21.848Z"
   },
   {
    "duration": 205,
    "start_time": "2022-01-11T20:24:48.451Z"
   },
   {
    "duration": 4,
    "start_time": "2022-01-11T20:25:34.206Z"
   },
   {
    "duration": 360,
    "start_time": "2022-01-11T20:27:16.306Z"
   },
   {
    "duration": 732,
    "start_time": "2022-01-11T20:27:52.023Z"
   },
   {
    "duration": 404,
    "start_time": "2022-01-11T20:28:08.897Z"
   },
   {
    "duration": 16,
    "start_time": "2022-01-11T20:28:30.119Z"
   },
   {
    "duration": 8,
    "start_time": "2022-01-11T20:28:31.311Z"
   },
   {
    "duration": 5,
    "start_time": "2022-01-11T20:28:33.652Z"
   },
   {
    "duration": 17,
    "start_time": "2022-01-11T20:28:36.660Z"
   },
   {
    "duration": 21,
    "start_time": "2022-01-11T20:28:57.544Z"
   },
   {
    "duration": 33,
    "start_time": "2022-01-11T20:29:16.524Z"
   },
   {
    "duration": 13,
    "start_time": "2022-01-11T20:29:30.862Z"
   },
   {
    "duration": 133,
    "start_time": "2022-01-11T20:32:12.697Z"
   },
   {
    "duration": 433,
    "start_time": "2022-01-11T20:32:18.485Z"
   },
   {
    "duration": 503,
    "start_time": "2022-01-11T20:32:42.422Z"
   },
   {
    "duration": 347,
    "start_time": "2022-01-11T20:33:14.669Z"
   },
   {
    "duration": 38,
    "start_time": "2022-01-11T20:33:49.874Z"
   },
   {
    "duration": 55,
    "start_time": "2022-01-11T20:34:42.864Z"
   },
   {
    "duration": 8,
    "start_time": "2022-01-11T20:37:42.683Z"
   },
   {
    "duration": 364,
    "start_time": "2022-01-11T20:37:48.105Z"
   },
   {
    "duration": 350,
    "start_time": "2022-01-11T20:38:20.457Z"
   },
   {
    "duration": 529,
    "start_time": "2022-01-11T20:39:24.060Z"
   },
   {
    "duration": 13,
    "start_time": "2022-01-11T20:41:11.755Z"
   },
   {
    "duration": 451,
    "start_time": "2022-01-11T20:41:13.947Z"
   },
   {
    "duration": 352,
    "start_time": "2022-01-11T20:42:18.513Z"
   },
   {
    "duration": 387,
    "start_time": "2022-01-11T20:42:31.132Z"
   },
   {
    "duration": -224,
    "start_time": "2022-01-11T20:43:08.233Z"
   },
   {
    "duration": 3,
    "start_time": "2022-01-11T20:43:29.180Z"
   },
   {
    "duration": 136,
    "start_time": "2022-01-11T20:43:30.548Z"
   },
   {
    "duration": 9,
    "start_time": "2022-01-11T20:43:31.559Z"
   },
   {
    "duration": 7,
    "start_time": "2022-01-11T20:43:32.778Z"
   },
   {
    "duration": 4,
    "start_time": "2022-01-11T20:43:35.018Z"
   },
   {
    "duration": 21,
    "start_time": "2022-01-11T20:43:35.659Z"
   },
   {
    "duration": 4,
    "start_time": "2022-01-11T20:43:36.279Z"
   },
   {
    "duration": 22,
    "start_time": "2022-01-11T20:43:36.983Z"
   },
   {
    "duration": 17,
    "start_time": "2022-01-11T20:43:37.960Z"
   },
   {
    "duration": 23,
    "start_time": "2022-01-11T20:43:38.589Z"
   },
   {
    "duration": 61,
    "start_time": "2022-01-11T20:43:39.279Z"
   },
   {
    "duration": 70,
    "start_time": "2022-01-11T20:43:39.803Z"
   },
   {
    "duration": 48,
    "start_time": "2022-01-11T20:43:40.356Z"
   },
   {
    "duration": 10,
    "start_time": "2022-01-11T20:43:41.641Z"
   },
   {
    "duration": 3,
    "start_time": "2022-01-11T20:43:42.697Z"
   },
   {
    "duration": 7,
    "start_time": "2022-01-11T20:43:43.696Z"
   },
   {
    "duration": 7,
    "start_time": "2022-01-11T20:43:44.755Z"
   },
   {
    "duration": 22,
    "start_time": "2022-01-11T20:43:47.330Z"
   },
   {
    "duration": 12,
    "start_time": "2022-01-11T20:43:48.297Z"
   },
   {
    "duration": 4,
    "start_time": "2022-01-11T20:43:49.451Z"
   },
   {
    "duration": 16,
    "start_time": "2022-01-11T20:43:50.475Z"
   },
   {
    "duration": 68,
    "start_time": "2022-01-11T20:43:51.075Z"
   },
   {
    "duration": 18,
    "start_time": "2022-01-11T20:43:51.896Z"
   },
   {
    "duration": 14,
    "start_time": "2022-01-11T20:43:52.391Z"
   },
   {
    "duration": 16,
    "start_time": "2022-01-11T20:43:52.792Z"
   },
   {
    "duration": 20,
    "start_time": "2022-01-11T20:43:53.214Z"
   },
   {
    "duration": 6,
    "start_time": "2022-01-11T20:43:54.789Z"
   },
   {
    "duration": 10,
    "start_time": "2022-01-11T20:43:57.216Z"
   },
   {
    "duration": 10,
    "start_time": "2022-01-11T20:43:58.207Z"
   },
   {
    "duration": 5,
    "start_time": "2022-01-11T20:43:59.198Z"
   },
   {
    "duration": 16,
    "start_time": "2022-01-11T20:44:00.273Z"
   },
   {
    "duration": 13,
    "start_time": "2022-01-11T20:44:00.805Z"
   },
   {
    "duration": 26,
    "start_time": "2022-01-11T20:44:01.224Z"
   },
   {
    "duration": 12,
    "start_time": "2022-01-11T20:44:01.672Z"
   },
   {
    "duration": 7,
    "start_time": "2022-01-11T20:44:04.566Z"
   },
   {
    "duration": 8,
    "start_time": "2022-01-11T20:44:08.188Z"
   },
   {
    "duration": 19,
    "start_time": "2022-01-11T20:44:11.044Z"
   },
   {
    "duration": 5,
    "start_time": "2022-01-11T20:45:24.328Z"
   },
   {
    "duration": 335,
    "start_time": "2022-01-11T20:46:11.252Z"
   },
   {
    "duration": 6,
    "start_time": "2022-01-11T20:46:12.681Z"
   },
   {
    "duration": 4,
    "start_time": "2022-01-11T20:46:13.862Z"
   },
   {
    "duration": 736,
    "start_time": "2022-01-13T11:40:50.238Z"
   },
   {
    "duration": 177,
    "start_time": "2022-01-13T11:40:50.976Z"
   },
   {
    "duration": 25,
    "start_time": "2022-01-13T11:40:51.156Z"
   },
   {
    "duration": 12,
    "start_time": "2022-01-13T11:40:51.184Z"
   },
   {
    "duration": 28,
    "start_time": "2022-01-13T11:40:51.198Z"
   },
   {
    "duration": 27,
    "start_time": "2022-01-13T11:40:51.229Z"
   },
   {
    "duration": 11,
    "start_time": "2022-01-13T11:40:51.258Z"
   },
   {
    "duration": 50,
    "start_time": "2022-01-13T11:40:51.273Z"
   },
   {
    "duration": 21,
    "start_time": "2022-01-13T11:40:51.326Z"
   },
   {
    "duration": 28,
    "start_time": "2022-01-13T11:40:51.349Z"
   },
   {
    "duration": 106,
    "start_time": "2022-01-13T11:40:51.380Z"
   },
   {
    "duration": 99,
    "start_time": "2022-01-13T11:40:51.489Z"
   },
   {
    "duration": 78,
    "start_time": "2022-01-13T11:40:51.590Z"
   },
   {
    "duration": 10,
    "start_time": "2022-01-13T11:40:51.671Z"
   },
   {
    "duration": 3,
    "start_time": "2022-01-13T11:40:51.684Z"
   },
   {
    "duration": 35,
    "start_time": "2022-01-13T11:40:51.690Z"
   },
   {
    "duration": 9,
    "start_time": "2022-01-13T11:40:51.728Z"
   },
   {
    "duration": 15,
    "start_time": "2022-01-13T11:40:51.739Z"
   },
   {
    "duration": 13,
    "start_time": "2022-01-13T11:40:51.756Z"
   },
   {
    "duration": 5,
    "start_time": "2022-01-13T11:40:51.771Z"
   },
   {
    "duration": 61,
    "start_time": "2022-01-13T11:40:51.778Z"
   },
   {
    "duration": 18,
    "start_time": "2022-01-13T11:40:51.841Z"
   },
   {
    "duration": 19,
    "start_time": "2022-01-13T11:40:51.863Z"
   },
   {
    "duration": 45,
    "start_time": "2022-01-13T11:40:51.885Z"
   },
   {
    "duration": 18,
    "start_time": "2022-01-13T11:40:51.932Z"
   },
   {
    "duration": 17,
    "start_time": "2022-01-13T11:40:51.953Z"
   },
   {
    "duration": 9,
    "start_time": "2022-01-13T11:40:51.972Z"
   },
   {
    "duration": 56,
    "start_time": "2022-01-13T11:40:51.983Z"
   },
   {
    "duration": 13,
    "start_time": "2022-01-13T11:40:52.043Z"
   },
   {
    "duration": 5,
    "start_time": "2022-01-13T11:40:52.058Z"
   },
   {
    "duration": 31,
    "start_time": "2022-01-13T11:40:52.065Z"
   },
   {
    "duration": 34,
    "start_time": "2022-01-13T11:40:52.098Z"
   },
   {
    "duration": 22,
    "start_time": "2022-01-13T11:40:52.135Z"
   },
   {
    "duration": 16,
    "start_time": "2022-01-13T11:40:52.159Z"
   },
   {
    "duration": 46,
    "start_time": "2022-01-13T11:40:52.177Z"
   },
   {
    "duration": 6,
    "start_time": "2022-01-13T11:40:52.226Z"
   },
   {
    "duration": 9,
    "start_time": "2022-01-13T11:40:52.235Z"
   },
   {
    "duration": 7,
    "start_time": "2022-01-13T11:40:52.246Z"
   },
   {
    "duration": 346,
    "start_time": "2022-01-14T08:08:18.226Z"
   },
   {
    "duration": 308,
    "start_time": "2022-01-14T08:08:28.565Z"
   },
   {
    "duration": 640,
    "start_time": "2022-01-14T08:21:43.140Z"
   },
   {
    "duration": 138,
    "start_time": "2022-01-14T08:21:43.781Z"
   },
   {
    "duration": 17,
    "start_time": "2022-01-14T08:21:43.921Z"
   },
   {
    "duration": 33,
    "start_time": "2022-01-14T08:21:43.940Z"
   },
   {
    "duration": 29,
    "start_time": "2022-01-14T08:21:43.975Z"
   },
   {
    "duration": 27,
    "start_time": "2022-01-14T08:21:44.005Z"
   },
   {
    "duration": 37,
    "start_time": "2022-01-14T08:21:44.034Z"
   },
   {
    "duration": 41,
    "start_time": "2022-01-14T08:21:44.073Z"
   },
   {
    "duration": 28,
    "start_time": "2022-01-14T08:21:44.117Z"
   },
   {
    "duration": 33,
    "start_time": "2022-01-14T08:21:44.148Z"
   },
   {
    "duration": 65,
    "start_time": "2022-01-14T08:21:44.183Z"
   },
   {
    "duration": 67,
    "start_time": "2022-01-14T08:21:44.249Z"
   },
   {
    "duration": 63,
    "start_time": "2022-01-14T08:21:44.318Z"
   },
   {
    "duration": 6,
    "start_time": "2022-01-14T08:21:44.383Z"
   },
   {
    "duration": 3,
    "start_time": "2022-01-14T08:21:44.391Z"
   },
   {
    "duration": 11,
    "start_time": "2022-01-14T08:21:44.396Z"
   },
   {
    "duration": 19,
    "start_time": "2022-01-14T08:21:44.408Z"
   },
   {
    "duration": 16,
    "start_time": "2022-01-14T08:21:44.429Z"
   },
   {
    "duration": 16,
    "start_time": "2022-01-14T08:21:44.461Z"
   },
   {
    "duration": 5,
    "start_time": "2022-01-14T08:21:44.479Z"
   },
   {
    "duration": 38,
    "start_time": "2022-01-14T08:21:44.486Z"
   },
   {
    "duration": 35,
    "start_time": "2022-01-14T08:21:44.526Z"
   },
   {
    "duration": 22,
    "start_time": "2022-01-14T08:21:44.564Z"
   },
   {
    "duration": 20,
    "start_time": "2022-01-14T08:21:44.588Z"
   },
   {
    "duration": 26,
    "start_time": "2022-01-14T08:21:44.610Z"
   },
   {
    "duration": 20,
    "start_time": "2022-01-14T08:21:44.661Z"
   },
   {
    "duration": 7,
    "start_time": "2022-01-14T08:21:44.685Z"
   },
   {
    "duration": 19,
    "start_time": "2022-01-14T08:21:44.694Z"
   },
   {
    "duration": 13,
    "start_time": "2022-01-14T08:21:44.714Z"
   },
   {
    "duration": 5,
    "start_time": "2022-01-14T08:21:44.729Z"
   },
   {
    "duration": 37,
    "start_time": "2022-01-14T08:21:44.736Z"
   },
   {
    "duration": 14,
    "start_time": "2022-01-14T08:21:44.775Z"
   },
   {
    "duration": 19,
    "start_time": "2022-01-14T08:21:44.799Z"
   },
   {
    "duration": 39,
    "start_time": "2022-01-14T08:21:44.821Z"
   },
   {
    "duration": 9,
    "start_time": "2022-01-14T08:21:44.862Z"
   },
   {
    "duration": 5,
    "start_time": "2022-01-14T08:21:44.873Z"
   },
   {
    "duration": 8,
    "start_time": "2022-01-14T08:21:44.879Z"
   },
   {
    "duration": 7,
    "start_time": "2022-01-14T08:21:44.889Z"
   },
   {
    "duration": 26,
    "start_time": "2022-01-14T09:47:25.134Z"
   },
   {
    "duration": 72,
    "start_time": "2022-01-14T09:49:05.707Z"
   },
   {
    "duration": 3,
    "start_time": "2022-01-14T09:49:12.244Z"
   },
   {
    "duration": 213,
    "start_time": "2022-01-14T09:49:12.254Z"
   },
   {
    "duration": 15,
    "start_time": "2022-01-14T09:49:12.469Z"
   },
   {
    "duration": 56,
    "start_time": "2022-01-14T09:49:12.486Z"
   },
   {
    "duration": 10,
    "start_time": "2022-01-14T09:49:12.545Z"
   },
   {
    "duration": 40,
    "start_time": "2022-01-14T09:49:12.557Z"
   },
   {
    "duration": 7,
    "start_time": "2022-01-14T09:49:12.599Z"
   },
   {
    "duration": 41,
    "start_time": "2022-01-14T09:49:12.608Z"
   },
   {
    "duration": 30,
    "start_time": "2022-01-14T09:49:12.653Z"
   },
   {
    "duration": 38,
    "start_time": "2022-01-14T09:49:12.685Z"
   },
   {
    "duration": 71,
    "start_time": "2022-01-14T09:49:12.725Z"
   },
   {
    "duration": 77,
    "start_time": "2022-01-14T09:49:12.798Z"
   },
   {
    "duration": 51,
    "start_time": "2022-01-14T09:49:12.877Z"
   },
   {
    "duration": 7,
    "start_time": "2022-01-14T09:49:12.930Z"
   },
   {
    "duration": 23,
    "start_time": "2022-01-14T09:49:12.939Z"
   },
   {
    "duration": 31,
    "start_time": "2022-01-14T09:49:12.964Z"
   },
   {
    "duration": 21,
    "start_time": "2022-01-14T09:49:12.998Z"
   },
   {
    "duration": 35,
    "start_time": "2022-01-14T09:49:13.021Z"
   },
   {
    "duration": 25,
    "start_time": "2022-01-14T09:49:13.058Z"
   },
   {
    "duration": 9,
    "start_time": "2022-01-14T09:49:13.085Z"
   },
   {
    "duration": 55,
    "start_time": "2022-01-14T09:49:13.095Z"
   },
   {
    "duration": 27,
    "start_time": "2022-01-14T09:49:13.152Z"
   },
   {
    "duration": 33,
    "start_time": "2022-01-14T09:49:13.181Z"
   },
   {
    "duration": 34,
    "start_time": "2022-01-14T09:49:13.217Z"
   },
   {
    "duration": 41,
    "start_time": "2022-01-14T09:49:13.253Z"
   },
   {
    "duration": 28,
    "start_time": "2022-01-14T09:49:13.296Z"
   },
   {
    "duration": 10,
    "start_time": "2022-01-14T09:49:13.326Z"
   },
   {
    "duration": 26,
    "start_time": "2022-01-14T09:49:13.339Z"
   },
   {
    "duration": 14,
    "start_time": "2022-01-14T09:49:13.367Z"
   },
   {
    "duration": 15,
    "start_time": "2022-01-14T09:49:13.383Z"
   },
   {
    "duration": 52,
    "start_time": "2022-01-14T09:49:13.400Z"
   },
   {
    "duration": 43,
    "start_time": "2022-01-14T09:49:13.454Z"
   },
   {
    "duration": 26,
    "start_time": "2022-01-14T09:49:13.499Z"
   },
   {
    "duration": 20,
    "start_time": "2022-01-14T09:49:13.527Z"
   },
   {
    "duration": 34,
    "start_time": "2022-01-14T09:49:13.548Z"
   },
   {
    "duration": 17,
    "start_time": "2022-01-14T09:49:13.584Z"
   },
   {
    "duration": 29,
    "start_time": "2022-01-14T09:49:13.603Z"
   },
   {
    "duration": 27,
    "start_time": "2022-01-14T09:49:13.633Z"
   },
   {
    "duration": 718,
    "start_time": "2022-01-15T16:30:15.280Z"
   },
   {
    "duration": 173,
    "start_time": "2022-01-15T16:30:16.000Z"
   },
   {
    "duration": 27,
    "start_time": "2022-01-15T16:30:16.176Z"
   },
   {
    "duration": 48,
    "start_time": "2022-01-15T16:30:16.205Z"
   },
   {
    "duration": 5,
    "start_time": "2022-01-15T16:30:16.256Z"
   },
   {
    "duration": 27,
    "start_time": "2022-01-15T16:30:16.264Z"
   },
   {
    "duration": 31,
    "start_time": "2022-01-15T16:30:16.294Z"
   },
   {
    "duration": 32,
    "start_time": "2022-01-15T16:30:16.329Z"
   },
   {
    "duration": 23,
    "start_time": "2022-01-15T16:30:16.365Z"
   },
   {
    "duration": 62,
    "start_time": "2022-01-15T16:30:16.390Z"
   },
   {
    "duration": 100,
    "start_time": "2022-01-15T16:30:16.455Z"
   },
   {
    "duration": 98,
    "start_time": "2022-01-15T16:30:16.557Z"
   },
   {
    "duration": 81,
    "start_time": "2022-01-15T16:30:16.658Z"
   },
   {
    "duration": 10,
    "start_time": "2022-01-15T16:30:16.741Z"
   },
   {
    "duration": 4,
    "start_time": "2022-01-15T16:30:16.753Z"
   },
   {
    "duration": 12,
    "start_time": "2022-01-15T16:30:16.759Z"
   },
   {
    "duration": 15,
    "start_time": "2022-01-15T16:30:16.773Z"
   },
   {
    "duration": 14,
    "start_time": "2022-01-15T16:30:16.823Z"
   },
   {
    "duration": 13,
    "start_time": "2022-01-15T16:30:16.840Z"
   },
   {
    "duration": 5,
    "start_time": "2022-01-15T16:30:16.856Z"
   },
   {
    "duration": 37,
    "start_time": "2022-01-15T16:30:16.863Z"
   },
   {
    "duration": 18,
    "start_time": "2022-01-15T16:30:16.924Z"
   },
   {
    "duration": 18,
    "start_time": "2022-01-15T16:30:16.946Z"
   },
   {
    "duration": 16,
    "start_time": "2022-01-15T16:30:16.967Z"
   },
   {
    "duration": 51,
    "start_time": "2022-01-15T16:30:16.986Z"
   },
   {
    "duration": 16,
    "start_time": "2022-01-15T16:30:17.040Z"
   },
   {
    "duration": 8,
    "start_time": "2022-01-15T16:30:17.059Z"
   },
   {
    "duration": 14,
    "start_time": "2022-01-15T16:30:17.070Z"
   },
   {
    "duration": 11,
    "start_time": "2022-01-15T16:30:17.123Z"
   },
   {
    "duration": 5,
    "start_time": "2022-01-15T16:30:17.136Z"
   },
   {
    "duration": 28,
    "start_time": "2022-01-15T16:30:17.144Z"
   },
   {
    "duration": 17,
    "start_time": "2022-01-15T16:30:17.174Z"
   },
   {
    "duration": 23,
    "start_time": "2022-01-15T16:30:17.224Z"
   },
   {
    "duration": 17,
    "start_time": "2022-01-15T16:30:17.249Z"
   },
   {
    "duration": 10,
    "start_time": "2022-01-15T16:30:17.269Z"
   },
   {
    "duration": 42,
    "start_time": "2022-01-15T16:30:17.281Z"
   },
   {
    "duration": 10,
    "start_time": "2022-01-15T16:30:17.325Z"
   },
   {
    "duration": 7,
    "start_time": "2022-01-15T16:30:17.338Z"
   },
   {
    "duration": 65,
    "start_time": "2022-01-15T16:33:27.436Z"
   },
   {
    "duration": 528,
    "start_time": "2022-01-15T16:59:22.093Z"
   },
   {
    "duration": 181,
    "start_time": "2022-01-15T16:59:22.623Z"
   },
   {
    "duration": 34,
    "start_time": "2022-01-15T16:59:22.810Z"
   },
   {
    "duration": 25,
    "start_time": "2022-01-15T16:59:22.846Z"
   },
   {
    "duration": 6,
    "start_time": "2022-01-15T16:59:22.873Z"
   },
   {
    "duration": 22,
    "start_time": "2022-01-15T16:59:22.881Z"
   },
   {
    "duration": 9,
    "start_time": "2022-01-15T16:59:22.907Z"
   },
   {
    "duration": 43,
    "start_time": "2022-01-15T16:59:22.919Z"
   },
   {
    "duration": 35,
    "start_time": "2022-01-15T16:59:22.964Z"
   },
   {
    "duration": 23,
    "start_time": "2022-01-15T16:59:23.001Z"
   },
   {
    "duration": 67,
    "start_time": "2022-01-15T16:59:23.026Z"
   },
   {
    "duration": 82,
    "start_time": "2022-01-15T16:59:23.095Z"
   },
   {
    "duration": 53,
    "start_time": "2022-01-15T16:59:23.178Z"
   },
   {
    "duration": 38,
    "start_time": "2022-01-15T16:59:23.241Z"
   },
   {
    "duration": 20,
    "start_time": "2022-01-15T16:59:23.281Z"
   },
   {
    "duration": 15,
    "start_time": "2022-01-15T16:59:23.302Z"
   },
   {
    "duration": 46,
    "start_time": "2022-01-15T16:59:23.318Z"
   },
   {
    "duration": 10,
    "start_time": "2022-01-15T16:59:23.366Z"
   },
   {
    "duration": 9,
    "start_time": "2022-01-15T16:59:23.378Z"
   },
   {
    "duration": 8,
    "start_time": "2022-01-15T16:59:23.388Z"
   },
   {
    "duration": 18,
    "start_time": "2022-01-15T16:59:23.398Z"
   },
   {
    "duration": 34,
    "start_time": "2022-01-15T16:59:23.419Z"
   },
   {
    "duration": 26,
    "start_time": "2022-01-15T16:59:23.454Z"
   },
   {
    "duration": 13,
    "start_time": "2022-01-15T16:59:23.481Z"
   },
   {
    "duration": 16,
    "start_time": "2022-01-15T16:59:23.496Z"
   },
   {
    "duration": 29,
    "start_time": "2022-01-15T16:59:23.514Z"
   },
   {
    "duration": 6,
    "start_time": "2022-01-15T16:59:23.545Z"
   },
   {
    "duration": 21,
    "start_time": "2022-01-15T16:59:23.553Z"
   },
   {
    "duration": 11,
    "start_time": "2022-01-15T16:59:23.576Z"
   },
   {
    "duration": 6,
    "start_time": "2022-01-15T16:59:23.589Z"
   },
   {
    "duration": 32,
    "start_time": "2022-01-15T16:59:23.596Z"
   },
   {
    "duration": 18,
    "start_time": "2022-01-15T16:59:23.630Z"
   },
   {
    "duration": 23,
    "start_time": "2022-01-15T16:59:23.650Z"
   },
   {
    "duration": 13,
    "start_time": "2022-01-15T16:59:23.674Z"
   },
   {
    "duration": 10,
    "start_time": "2022-01-15T16:59:23.688Z"
   },
   {
    "duration": 4,
    "start_time": "2022-01-15T16:59:23.700Z"
   },
   {
    "duration": 10,
    "start_time": "2022-01-15T16:59:23.705Z"
   },
   {
    "duration": 25,
    "start_time": "2022-01-15T16:59:23.716Z"
   },
   {
    "duration": 46,
    "start_time": "2022-09-14T09:17:39.907Z"
   },
   {
    "duration": 6,
    "start_time": "2022-09-14T09:17:45.208Z"
   },
   {
    "duration": 353,
    "start_time": "2022-09-14T09:17:46.944Z"
   },
   {
    "duration": 531,
    "start_time": "2022-09-14T09:17:47.698Z"
   },
   {
    "duration": 2,
    "start_time": "2022-09-14T09:17:50.784Z"
   },
   {
    "duration": 176,
    "start_time": "2022-09-14T09:17:50.789Z"
   },
   {
    "duration": 16,
    "start_time": "2022-09-14T09:17:50.966Z"
   },
   {
    "duration": 43,
    "start_time": "2022-09-14T09:17:50.983Z"
   },
   {
    "duration": 5,
    "start_time": "2022-09-14T09:17:51.028Z"
   },
   {
    "duration": 32,
    "start_time": "2022-09-14T09:17:51.034Z"
   },
   {
    "duration": 24,
    "start_time": "2022-09-14T09:17:51.069Z"
   },
   {
    "duration": 48,
    "start_time": "2022-09-14T09:17:51.095Z"
   },
   {
    "duration": 39,
    "start_time": "2022-09-14T09:17:51.145Z"
   },
   {
    "duration": 35,
    "start_time": "2022-09-14T09:17:51.185Z"
   },
   {
    "duration": 67,
    "start_time": "2022-09-14T09:17:51.223Z"
   },
   {
    "duration": 76,
    "start_time": "2022-09-14T09:17:51.291Z"
   },
   {
    "duration": 60,
    "start_time": "2022-09-14T09:17:51.369Z"
   },
   {
    "duration": 33,
    "start_time": "2022-09-14T09:17:51.431Z"
   },
   {
    "duration": 2,
    "start_time": "2022-09-14T09:17:51.466Z"
   },
   {
    "duration": 13,
    "start_time": "2022-09-14T09:17:51.470Z"
   },
   {
    "duration": 51,
    "start_time": "2022-09-14T09:17:51.484Z"
   },
   {
    "duration": 11,
    "start_time": "2022-09-14T09:17:51.537Z"
   },
   {
    "duration": 17,
    "start_time": "2022-09-14T09:17:51.550Z"
   },
   {
    "duration": 7,
    "start_time": "2022-09-14T09:17:51.568Z"
   },
   {
    "duration": 26,
    "start_time": "2022-09-14T09:17:51.576Z"
   },
   {
    "duration": 23,
    "start_time": "2022-09-14T09:17:51.604Z"
   },
   {
    "duration": 15,
    "start_time": "2022-09-14T09:17:51.629Z"
   },
   {
    "duration": 12,
    "start_time": "2022-09-14T09:17:51.646Z"
   },
   {
    "duration": 14,
    "start_time": "2022-09-14T09:17:51.659Z"
   },
   {
    "duration": 12,
    "start_time": "2022-09-14T09:17:51.675Z"
   },
   {
    "duration": 33,
    "start_time": "2022-09-14T09:17:51.689Z"
   },
   {
    "duration": 12,
    "start_time": "2022-09-14T09:17:51.724Z"
   },
   {
    "duration": 7,
    "start_time": "2022-09-14T09:17:51.739Z"
   },
   {
    "duration": 9,
    "start_time": "2022-09-14T09:17:51.747Z"
   },
   {
    "duration": 19,
    "start_time": "2022-09-14T09:17:51.758Z"
   },
   {
    "duration": 12,
    "start_time": "2022-09-14T09:17:51.779Z"
   },
   {
    "duration": 30,
    "start_time": "2022-09-14T09:17:51.792Z"
   },
   {
    "duration": 12,
    "start_time": "2022-09-14T09:17:51.824Z"
   },
   {
    "duration": 10,
    "start_time": "2022-09-14T09:17:51.837Z"
   },
   {
    "duration": 5,
    "start_time": "2022-09-14T09:17:51.849Z"
   },
   {
    "duration": 9,
    "start_time": "2022-09-14T09:17:51.855Z"
   },
   {
    "duration": 9,
    "start_time": "2022-09-14T09:17:51.865Z"
   },
   {
    "duration": 38,
    "start_time": "2022-09-14T09:25:25.755Z"
   }
  ],
  "colab": {
   "collapsed_sections": [
    "E0vqbgi9ay0H",
    "VUC88oWjTJw2"
   ],
   "name": "yandex_music_project_2021.2.ipynb",
   "provenance": []
  },
  "kernelspec": {
   "display_name": "Python 3 (ipykernel)",
   "language": "python",
   "name": "python3"
  },
  "language_info": {
   "codemirror_mode": {
    "name": "ipython",
    "version": 3
   },
   "file_extension": ".py",
   "mimetype": "text/x-python",
   "name": "python",
   "nbconvert_exporter": "python",
   "pygments_lexer": "ipython3",
   "version": "3.9.5"
  },
  "toc": {
   "base_numbering": 1,
   "nav_menu": {},
   "number_sections": true,
   "sideBar": true,
   "skip_h1_title": true,
   "title_cell": "Table of Contents",
   "title_sidebar": "Contents",
   "toc_cell": false,
   "toc_position": {
    "height": "calc(100% - 180px)",
    "left": "10px",
    "top": "150px",
    "width": "366.391px"
   },
   "toc_section_display": true,
   "toc_window_display": false
  }
 },
 "nbformat": 4,
 "nbformat_minor": 1
}
