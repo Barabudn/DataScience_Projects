{
 "cells": [
  {
   "cell_type": "markdown",
   "metadata": {
    "toc": true
   },
   "source": [
    "<h1>Содержание<span class=\"tocSkip\"></span></h1>\n",
    "<div class=\"toc\"><ul class=\"toc-item\"><li><span><a href=\"#Подготовка-данных\" data-toc-modified-id=\"Подготовка-данных-1\"><span class=\"toc-item-num\">1&nbsp;&nbsp;</span>Подготовка данных</a></span><ul class=\"toc-item\"><li><span><a href=\"#Признаки\" data-toc-modified-id=\"Признаки-1.1\"><span class=\"toc-item-num\">1.1&nbsp;&nbsp;</span>Признаки</a></span><ul class=\"toc-item\"><li><span><a href=\"#Целевой-признак\" data-toc-modified-id=\"Целевой-признак-1.1.1\"><span class=\"toc-item-num\">1.1.1&nbsp;&nbsp;</span>Целевой признак</a></span></li></ul></li></ul></li><li><span><a href=\"#Исследование-задачи\" data-toc-modified-id=\"Исследование-задачи-2\"><span class=\"toc-item-num\">2&nbsp;&nbsp;</span>Исследование задачи</a></span><ul class=\"toc-item\"><li><span><a href=\"#Для-начала-обучим-модели-без-учета-дисбаланса-классов.\" data-toc-modified-id=\"Для-начала-обучим-модели-без-учета-дисбаланса-классов.-2.1\"><span class=\"toc-item-num\">2.1&nbsp;&nbsp;</span>Для начала обучим модели без учета дисбаланса классов.</a></span><ul class=\"toc-item\"><li><span><a href=\"#Дерево-решений\" data-toc-modified-id=\"Дерево-решений-2.1.1\"><span class=\"toc-item-num\">2.1.1&nbsp;&nbsp;</span>Дерево решений</a></span></li><li><span><a href=\"#Случайный-лес\" data-toc-modified-id=\"Случайный-лес-2.1.2\"><span class=\"toc-item-num\">2.1.2&nbsp;&nbsp;</span>Случайный лес</a></span></li><li><span><a href=\"#Логистическая-регрессия\" data-toc-modified-id=\"Логистическая-регрессия-2.1.3\"><span class=\"toc-item-num\">2.1.3&nbsp;&nbsp;</span>Логистическая регрессия</a></span></li></ul></li></ul></li><li><span><a href=\"#Борьба-с-дисбалансом\" data-toc-modified-id=\"Борьба-с-дисбалансом-3\"><span class=\"toc-item-num\">3&nbsp;&nbsp;</span>Борьба с дисбалансом</a></span></li><li><span><a href=\"#Тестирование-модели\" data-toc-modified-id=\"Тестирование-модели-4\"><span class=\"toc-item-num\">4&nbsp;&nbsp;</span>Тестирование модели</a></span></li><li><span><a href=\"#Общий-вывод\" data-toc-modified-id=\"Общий-вывод-5\"><span class=\"toc-item-num\">5&nbsp;&nbsp;</span>Общий вывод</a></span></li><li><span><a href=\"#Чек-лист-готовности-проекта\" data-toc-modified-id=\"Чек-лист-готовности-проекта-6\"><span class=\"toc-item-num\">6&nbsp;&nbsp;</span>Чек-лист готовности проекта</a></span></li></ul></div>"
   ]
  },
  {
   "cell_type": "markdown",
   "metadata": {},
   "source": [
    "# Отток клиентов"
   ]
  },
  {
   "cell_type": "markdown",
   "metadata": {},
   "source": [
    "Из «Бета-Банка» стали уходить клиенты. Каждый месяц. Немного, но заметно. Банковские маркетологи посчитали: сохранять текущих клиентов дешевле, чем привлекать новых.\n",
    "\n",
    "Нужно спрогнозировать, уйдёт клиент из банка в ближайшее время или нет. Вам предоставлены исторические данные о поведении клиентов и расторжении договоров с банком. \n",
    "\n",
    "Постройте модель с предельно большим значением *F1*-меры. Чтобы сдать проект успешно, нужно довести метрику до 0.59. Проверьте *F1*-меру на тестовой выборке самостоятельно.\n",
    "\n",
    "Дополнительно измеряйте *AUC-ROC*, сравнивайте её значение с *F1*-мерой.\n",
    "\n",
    "Источник данных: [https://www.kaggle.com/barelydedicated/bank-customer-churn-modeling](https://www.kaggle.com/barelydedicated/bank-customer-churn-modeling)"
   ]
  },
  {
   "cell_type": "markdown",
   "metadata": {},
   "source": [
    "## Подготовка данных"
   ]
  },
  {
   "cell_type": "markdown",
   "metadata": {},
   "source": [
    "### Признаки\n",
    "- RowNumber — индекс строки в данных (не нужен)\n",
    "- CustomerId — уникальный идентификатор клиента (не нужен)\n",
    "- Surname — фамилия (не нужен)\n",
    "- CreditScore — кредитный рейтинг\n",
    "- Geography — страна проживания\n",
    "- Gender — пол\n",
    "- Age — возраст\n",
    "- Tenure — сколько лет человек является клиентом банка\n",
    "- Balance — баланс на счёте\n",
    "- NumOfProducts — количество продуктов банка, используемых клиентом\n",
    "- HasCrCard — наличие кредитной карты\n",
    "- IsActiveMember — активность клиента\n",
    "- EstimatedSalary — предполагаемая зарплата\n",
    "#### Целевой признак\n",
    "Exited — факт ухода клиента"
   ]
  },
  {
   "cell_type": "code",
   "execution_count": 45,
   "metadata": {},
   "outputs": [],
   "source": [
    "import pandas as pd\n",
    "import numpy as np\n",
    "import matplotlib.pyplot as plt\n",
    "\n",
    "from sklearn.model_selection import train_test_split\n",
    "from sklearn.tree import DecisionTreeClassifier\n",
    "from sklearn.ensemble import RandomForestClassifier\n",
    "from sklearn.linear_model import LogisticRegression\n",
    "\n",
    "from sklearn.preprocessing import OrdinalEncoder\n",
    "from sklearn.preprocessing import StandardScaler\n",
    "\n",
    "from sklearn.metrics import accuracy_score\n",
    "from sklearn.metrics import precision_score\n",
    "from sklearn.metrics import recall_score\n",
    "from sklearn.metrics import f1_score\n",
    "from sklearn.metrics import roc_curve\n",
    "from sklearn.metrics import roc_auc_score\n",
    "from sklearn.utils import shuffle"
   ]
  },
  {
   "cell_type": "code",
   "execution_count": 46,
   "metadata": {
    "scrolled": true
   },
   "outputs": [
    {
     "data": {
      "text/html": [
       "<div>\n",
       "<style scoped>\n",
       "    .dataframe tbody tr th:only-of-type {\n",
       "        vertical-align: middle;\n",
       "    }\n",
       "\n",
       "    .dataframe tbody tr th {\n",
       "        vertical-align: top;\n",
       "    }\n",
       "\n",
       "    .dataframe thead th {\n",
       "        text-align: right;\n",
       "    }\n",
       "</style>\n",
       "<table border=\"1\" class=\"dataframe\">\n",
       "  <thead>\n",
       "    <tr style=\"text-align: right;\">\n",
       "      <th></th>\n",
       "      <th>RowNumber</th>\n",
       "      <th>CustomerId</th>\n",
       "      <th>Surname</th>\n",
       "      <th>CreditScore</th>\n",
       "      <th>Geography</th>\n",
       "      <th>Gender</th>\n",
       "      <th>Age</th>\n",
       "      <th>Tenure</th>\n",
       "      <th>Balance</th>\n",
       "      <th>NumOfProducts</th>\n",
       "      <th>HasCrCard</th>\n",
       "      <th>IsActiveMember</th>\n",
       "      <th>EstimatedSalary</th>\n",
       "      <th>Exited</th>\n",
       "    </tr>\n",
       "  </thead>\n",
       "  <tbody>\n",
       "    <tr>\n",
       "      <th>0</th>\n",
       "      <td>1</td>\n",
       "      <td>15634602</td>\n",
       "      <td>Hargrave</td>\n",
       "      <td>619</td>\n",
       "      <td>France</td>\n",
       "      <td>Female</td>\n",
       "      <td>42</td>\n",
       "      <td>2.0</td>\n",
       "      <td>0.00</td>\n",
       "      <td>1</td>\n",
       "      <td>1</td>\n",
       "      <td>1</td>\n",
       "      <td>101348.88</td>\n",
       "      <td>1</td>\n",
       "    </tr>\n",
       "    <tr>\n",
       "      <th>1</th>\n",
       "      <td>2</td>\n",
       "      <td>15647311</td>\n",
       "      <td>Hill</td>\n",
       "      <td>608</td>\n",
       "      <td>Spain</td>\n",
       "      <td>Female</td>\n",
       "      <td>41</td>\n",
       "      <td>1.0</td>\n",
       "      <td>83807.86</td>\n",
       "      <td>1</td>\n",
       "      <td>0</td>\n",
       "      <td>1</td>\n",
       "      <td>112542.58</td>\n",
       "      <td>0</td>\n",
       "    </tr>\n",
       "    <tr>\n",
       "      <th>2</th>\n",
       "      <td>3</td>\n",
       "      <td>15619304</td>\n",
       "      <td>Onio</td>\n",
       "      <td>502</td>\n",
       "      <td>France</td>\n",
       "      <td>Female</td>\n",
       "      <td>42</td>\n",
       "      <td>8.0</td>\n",
       "      <td>159660.80</td>\n",
       "      <td>3</td>\n",
       "      <td>1</td>\n",
       "      <td>0</td>\n",
       "      <td>113931.57</td>\n",
       "      <td>1</td>\n",
       "    </tr>\n",
       "    <tr>\n",
       "      <th>3</th>\n",
       "      <td>4</td>\n",
       "      <td>15701354</td>\n",
       "      <td>Boni</td>\n",
       "      <td>699</td>\n",
       "      <td>France</td>\n",
       "      <td>Female</td>\n",
       "      <td>39</td>\n",
       "      <td>1.0</td>\n",
       "      <td>0.00</td>\n",
       "      <td>2</td>\n",
       "      <td>0</td>\n",
       "      <td>0</td>\n",
       "      <td>93826.63</td>\n",
       "      <td>0</td>\n",
       "    </tr>\n",
       "    <tr>\n",
       "      <th>4</th>\n",
       "      <td>5</td>\n",
       "      <td>15737888</td>\n",
       "      <td>Mitchell</td>\n",
       "      <td>850</td>\n",
       "      <td>Spain</td>\n",
       "      <td>Female</td>\n",
       "      <td>43</td>\n",
       "      <td>2.0</td>\n",
       "      <td>125510.82</td>\n",
       "      <td>1</td>\n",
       "      <td>1</td>\n",
       "      <td>1</td>\n",
       "      <td>79084.10</td>\n",
       "      <td>0</td>\n",
       "    </tr>\n",
       "    <tr>\n",
       "      <th>5</th>\n",
       "      <td>6</td>\n",
       "      <td>15574012</td>\n",
       "      <td>Chu</td>\n",
       "      <td>645</td>\n",
       "      <td>Spain</td>\n",
       "      <td>Male</td>\n",
       "      <td>44</td>\n",
       "      <td>8.0</td>\n",
       "      <td>113755.78</td>\n",
       "      <td>2</td>\n",
       "      <td>1</td>\n",
       "      <td>0</td>\n",
       "      <td>149756.71</td>\n",
       "      <td>1</td>\n",
       "    </tr>\n",
       "    <tr>\n",
       "      <th>6</th>\n",
       "      <td>7</td>\n",
       "      <td>15592531</td>\n",
       "      <td>Bartlett</td>\n",
       "      <td>822</td>\n",
       "      <td>France</td>\n",
       "      <td>Male</td>\n",
       "      <td>50</td>\n",
       "      <td>7.0</td>\n",
       "      <td>0.00</td>\n",
       "      <td>2</td>\n",
       "      <td>1</td>\n",
       "      <td>1</td>\n",
       "      <td>10062.80</td>\n",
       "      <td>0</td>\n",
       "    </tr>\n",
       "    <tr>\n",
       "      <th>7</th>\n",
       "      <td>8</td>\n",
       "      <td>15656148</td>\n",
       "      <td>Obinna</td>\n",
       "      <td>376</td>\n",
       "      <td>Germany</td>\n",
       "      <td>Female</td>\n",
       "      <td>29</td>\n",
       "      <td>4.0</td>\n",
       "      <td>115046.74</td>\n",
       "      <td>4</td>\n",
       "      <td>1</td>\n",
       "      <td>0</td>\n",
       "      <td>119346.88</td>\n",
       "      <td>1</td>\n",
       "    </tr>\n",
       "    <tr>\n",
       "      <th>8</th>\n",
       "      <td>9</td>\n",
       "      <td>15792365</td>\n",
       "      <td>He</td>\n",
       "      <td>501</td>\n",
       "      <td>France</td>\n",
       "      <td>Male</td>\n",
       "      <td>44</td>\n",
       "      <td>4.0</td>\n",
       "      <td>142051.07</td>\n",
       "      <td>2</td>\n",
       "      <td>0</td>\n",
       "      <td>1</td>\n",
       "      <td>74940.50</td>\n",
       "      <td>0</td>\n",
       "    </tr>\n",
       "    <tr>\n",
       "      <th>9</th>\n",
       "      <td>10</td>\n",
       "      <td>15592389</td>\n",
       "      <td>H?</td>\n",
       "      <td>684</td>\n",
       "      <td>France</td>\n",
       "      <td>Male</td>\n",
       "      <td>27</td>\n",
       "      <td>2.0</td>\n",
       "      <td>134603.88</td>\n",
       "      <td>1</td>\n",
       "      <td>1</td>\n",
       "      <td>1</td>\n",
       "      <td>71725.73</td>\n",
       "      <td>0</td>\n",
       "    </tr>\n",
       "  </tbody>\n",
       "</table>\n",
       "</div>"
      ],
      "text/plain": [
       "   RowNumber  CustomerId   Surname  CreditScore Geography  Gender  Age  \\\n",
       "0          1    15634602  Hargrave          619    France  Female   42   \n",
       "1          2    15647311      Hill          608     Spain  Female   41   \n",
       "2          3    15619304      Onio          502    France  Female   42   \n",
       "3          4    15701354      Boni          699    France  Female   39   \n",
       "4          5    15737888  Mitchell          850     Spain  Female   43   \n",
       "5          6    15574012       Chu          645     Spain    Male   44   \n",
       "6          7    15592531  Bartlett          822    France    Male   50   \n",
       "7          8    15656148    Obinna          376   Germany  Female   29   \n",
       "8          9    15792365        He          501    France    Male   44   \n",
       "9         10    15592389        H?          684    France    Male   27   \n",
       "\n",
       "   Tenure    Balance  NumOfProducts  HasCrCard  IsActiveMember  \\\n",
       "0     2.0       0.00              1          1               1   \n",
       "1     1.0   83807.86              1          0               1   \n",
       "2     8.0  159660.80              3          1               0   \n",
       "3     1.0       0.00              2          0               0   \n",
       "4     2.0  125510.82              1          1               1   \n",
       "5     8.0  113755.78              2          1               0   \n",
       "6     7.0       0.00              2          1               1   \n",
       "7     4.0  115046.74              4          1               0   \n",
       "8     4.0  142051.07              2          0               1   \n",
       "9     2.0  134603.88              1          1               1   \n",
       "\n",
       "   EstimatedSalary  Exited  \n",
       "0        101348.88       1  \n",
       "1        112542.58       0  \n",
       "2        113931.57       1  \n",
       "3         93826.63       0  \n",
       "4         79084.10       0  \n",
       "5        149756.71       1  \n",
       "6         10062.80       0  \n",
       "7        119346.88       1  \n",
       "8         74940.50       0  \n",
       "9         71725.73       0  "
      ]
     },
     "execution_count": 46,
     "metadata": {},
     "output_type": "execute_result"
    }
   ],
   "source": [
    "df=pd.read_csv('D://Игорь/projects/Churn.csv')\n",
    "df.head(10)"
   ]
  },
  {
   "cell_type": "code",
   "execution_count": 47,
   "metadata": {},
   "outputs": [
    {
     "data": {
      "text/html": [
       "<div>\n",
       "<style scoped>\n",
       "    .dataframe tbody tr th:only-of-type {\n",
       "        vertical-align: middle;\n",
       "    }\n",
       "\n",
       "    .dataframe tbody tr th {\n",
       "        vertical-align: top;\n",
       "    }\n",
       "\n",
       "    .dataframe thead th {\n",
       "        text-align: right;\n",
       "    }\n",
       "</style>\n",
       "<table border=\"1\" class=\"dataframe\">\n",
       "  <thead>\n",
       "    <tr style=\"text-align: right;\">\n",
       "      <th></th>\n",
       "      <th>RowNumber</th>\n",
       "      <th>CustomerId</th>\n",
       "      <th>CreditScore</th>\n",
       "      <th>Age</th>\n",
       "      <th>Tenure</th>\n",
       "      <th>Balance</th>\n",
       "      <th>NumOfProducts</th>\n",
       "      <th>HasCrCard</th>\n",
       "      <th>IsActiveMember</th>\n",
       "      <th>EstimatedSalary</th>\n",
       "      <th>Exited</th>\n",
       "    </tr>\n",
       "  </thead>\n",
       "  <tbody>\n",
       "    <tr>\n",
       "      <th>count</th>\n",
       "      <td>10000.00000</td>\n",
       "      <td>1.000000e+04</td>\n",
       "      <td>10000.000000</td>\n",
       "      <td>10000.000000</td>\n",
       "      <td>9091.000000</td>\n",
       "      <td>10000.000000</td>\n",
       "      <td>10000.000000</td>\n",
       "      <td>10000.00000</td>\n",
       "      <td>10000.000000</td>\n",
       "      <td>10000.000000</td>\n",
       "      <td>10000.000000</td>\n",
       "    </tr>\n",
       "    <tr>\n",
       "      <th>mean</th>\n",
       "      <td>5000.50000</td>\n",
       "      <td>1.569094e+07</td>\n",
       "      <td>650.528800</td>\n",
       "      <td>38.921800</td>\n",
       "      <td>4.997690</td>\n",
       "      <td>76485.889288</td>\n",
       "      <td>1.530200</td>\n",
       "      <td>0.70550</td>\n",
       "      <td>0.515100</td>\n",
       "      <td>100090.239881</td>\n",
       "      <td>0.203700</td>\n",
       "    </tr>\n",
       "    <tr>\n",
       "      <th>std</th>\n",
       "      <td>2886.89568</td>\n",
       "      <td>7.193619e+04</td>\n",
       "      <td>96.653299</td>\n",
       "      <td>10.487806</td>\n",
       "      <td>2.894723</td>\n",
       "      <td>62397.405202</td>\n",
       "      <td>0.581654</td>\n",
       "      <td>0.45584</td>\n",
       "      <td>0.499797</td>\n",
       "      <td>57510.492818</td>\n",
       "      <td>0.402769</td>\n",
       "    </tr>\n",
       "    <tr>\n",
       "      <th>min</th>\n",
       "      <td>1.00000</td>\n",
       "      <td>1.556570e+07</td>\n",
       "      <td>350.000000</td>\n",
       "      <td>18.000000</td>\n",
       "      <td>0.000000</td>\n",
       "      <td>0.000000</td>\n",
       "      <td>1.000000</td>\n",
       "      <td>0.00000</td>\n",
       "      <td>0.000000</td>\n",
       "      <td>11.580000</td>\n",
       "      <td>0.000000</td>\n",
       "    </tr>\n",
       "    <tr>\n",
       "      <th>25%</th>\n",
       "      <td>2500.75000</td>\n",
       "      <td>1.562853e+07</td>\n",
       "      <td>584.000000</td>\n",
       "      <td>32.000000</td>\n",
       "      <td>2.000000</td>\n",
       "      <td>0.000000</td>\n",
       "      <td>1.000000</td>\n",
       "      <td>0.00000</td>\n",
       "      <td>0.000000</td>\n",
       "      <td>51002.110000</td>\n",
       "      <td>0.000000</td>\n",
       "    </tr>\n",
       "    <tr>\n",
       "      <th>50%</th>\n",
       "      <td>5000.50000</td>\n",
       "      <td>1.569074e+07</td>\n",
       "      <td>652.000000</td>\n",
       "      <td>37.000000</td>\n",
       "      <td>5.000000</td>\n",
       "      <td>97198.540000</td>\n",
       "      <td>1.000000</td>\n",
       "      <td>1.00000</td>\n",
       "      <td>1.000000</td>\n",
       "      <td>100193.915000</td>\n",
       "      <td>0.000000</td>\n",
       "    </tr>\n",
       "    <tr>\n",
       "      <th>75%</th>\n",
       "      <td>7500.25000</td>\n",
       "      <td>1.575323e+07</td>\n",
       "      <td>718.000000</td>\n",
       "      <td>44.000000</td>\n",
       "      <td>7.000000</td>\n",
       "      <td>127644.240000</td>\n",
       "      <td>2.000000</td>\n",
       "      <td>1.00000</td>\n",
       "      <td>1.000000</td>\n",
       "      <td>149388.247500</td>\n",
       "      <td>0.000000</td>\n",
       "    </tr>\n",
       "    <tr>\n",
       "      <th>max</th>\n",
       "      <td>10000.00000</td>\n",
       "      <td>1.581569e+07</td>\n",
       "      <td>850.000000</td>\n",
       "      <td>92.000000</td>\n",
       "      <td>10.000000</td>\n",
       "      <td>250898.090000</td>\n",
       "      <td>4.000000</td>\n",
       "      <td>1.00000</td>\n",
       "      <td>1.000000</td>\n",
       "      <td>199992.480000</td>\n",
       "      <td>1.000000</td>\n",
       "    </tr>\n",
       "  </tbody>\n",
       "</table>\n",
       "</div>"
      ],
      "text/plain": [
       "         RowNumber    CustomerId   CreditScore           Age       Tenure  \\\n",
       "count  10000.00000  1.000000e+04  10000.000000  10000.000000  9091.000000   \n",
       "mean    5000.50000  1.569094e+07    650.528800     38.921800     4.997690   \n",
       "std     2886.89568  7.193619e+04     96.653299     10.487806     2.894723   \n",
       "min        1.00000  1.556570e+07    350.000000     18.000000     0.000000   \n",
       "25%     2500.75000  1.562853e+07    584.000000     32.000000     2.000000   \n",
       "50%     5000.50000  1.569074e+07    652.000000     37.000000     5.000000   \n",
       "75%     7500.25000  1.575323e+07    718.000000     44.000000     7.000000   \n",
       "max    10000.00000  1.581569e+07    850.000000     92.000000    10.000000   \n",
       "\n",
       "             Balance  NumOfProducts    HasCrCard  IsActiveMember  \\\n",
       "count   10000.000000   10000.000000  10000.00000    10000.000000   \n",
       "mean    76485.889288       1.530200      0.70550        0.515100   \n",
       "std     62397.405202       0.581654      0.45584        0.499797   \n",
       "min         0.000000       1.000000      0.00000        0.000000   \n",
       "25%         0.000000       1.000000      0.00000        0.000000   \n",
       "50%     97198.540000       1.000000      1.00000        1.000000   \n",
       "75%    127644.240000       2.000000      1.00000        1.000000   \n",
       "max    250898.090000       4.000000      1.00000        1.000000   \n",
       "\n",
       "       EstimatedSalary        Exited  \n",
       "count     10000.000000  10000.000000  \n",
       "mean     100090.239881      0.203700  \n",
       "std       57510.492818      0.402769  \n",
       "min          11.580000      0.000000  \n",
       "25%       51002.110000      0.000000  \n",
       "50%      100193.915000      0.000000  \n",
       "75%      149388.247500      0.000000  \n",
       "max      199992.480000      1.000000  "
      ]
     },
     "execution_count": 47,
     "metadata": {},
     "output_type": "execute_result"
    }
   ],
   "source": [
    "df.describe()"
   ]
  },
  {
   "cell_type": "code",
   "execution_count": 48,
   "metadata": {},
   "outputs": [
    {
     "data": {
      "text/plain": [
       "0    7963\n",
       "1    2037\n",
       "Name: Exited, dtype: int64"
      ]
     },
     "execution_count": 48,
     "metadata": {},
     "output_type": "execute_result"
    }
   ],
   "source": [
    "df['Exited'].value_counts()"
   ]
  },
  {
   "cell_type": "markdown",
   "metadata": {},
   "source": [
    "В столбце Exited только 0 и 1, т.к. его и нужно предстазать то это задача классификации"
   ]
  },
  {
   "cell_type": "code",
   "execution_count": 49,
   "metadata": {
    "scrolled": false
   },
   "outputs": [
    {
     "name": "stdout",
     "output_type": "stream",
     "text": [
      "<class 'pandas.core.frame.DataFrame'>\n",
      "RangeIndex: 10000 entries, 0 to 9999\n",
      "Data columns (total 14 columns):\n",
      " #   Column           Non-Null Count  Dtype  \n",
      "---  ------           --------------  -----  \n",
      " 0   RowNumber        10000 non-null  int64  \n",
      " 1   CustomerId       10000 non-null  int64  \n",
      " 2   Surname          10000 non-null  object \n",
      " 3   CreditScore      10000 non-null  int64  \n",
      " 4   Geography        10000 non-null  object \n",
      " 5   Gender           10000 non-null  object \n",
      " 6   Age              10000 non-null  int64  \n",
      " 7   Tenure           9091 non-null   float64\n",
      " 8   Balance          10000 non-null  float64\n",
      " 9   NumOfProducts    10000 non-null  int64  \n",
      " 10  HasCrCard        10000 non-null  int64  \n",
      " 11  IsActiveMember   10000 non-null  int64  \n",
      " 12  EstimatedSalary  10000 non-null  float64\n",
      " 13  Exited           10000 non-null  int64  \n",
      "dtypes: float64(3), int64(8), object(3)\n",
      "memory usage: 1.1+ MB\n"
     ]
    }
   ],
   "source": [
    "df.info()"
   ]
  },
  {
   "cell_type": "markdown",
   "metadata": {},
   "source": [
    "Пропуски только в столбце Tenure"
   ]
  },
  {
   "cell_type": "code",
   "execution_count": 50,
   "metadata": {},
   "outputs": [],
   "source": [
    "df.columns = df.columns.str.lower()"
   ]
  },
  {
   "cell_type": "code",
   "execution_count": 51,
   "metadata": {
    "scrolled": true
   },
   "outputs": [
    {
     "data": {
      "text/plain": [
       "1.0     952\n",
       "2.0     950\n",
       "8.0     933\n",
       "3.0     928\n",
       "5.0     927\n",
       "7.0     925\n",
       "4.0     885\n",
       "9.0     882\n",
       "6.0     881\n",
       "10.0    446\n",
       "0.0     382\n",
       "Name: tenure, dtype: int64"
      ]
     },
     "execution_count": 51,
     "metadata": {},
     "output_type": "execute_result"
    }
   ],
   "source": [
    "# Tenure — сколько лет человек является клиентом банка\n",
    "df['tenure'].value_counts()"
   ]
  },
  {
   "cell_type": "code",
   "execution_count": 52,
   "metadata": {},
   "outputs": [
    {
     "data": {
      "text/plain": [
       "5     1764\n",
       "1      953\n",
       "2      950\n",
       "8      933\n",
       "3      933\n",
       "4      926\n",
       "7      925\n",
       "6      906\n",
       "9      882\n",
       "10     446\n",
       "0      382\n",
       "Name: tenure, dtype: int64"
      ]
     },
     "execution_count": 52,
     "metadata": {},
     "output_type": "execute_result"
    }
   ],
   "source": [
    "#Значения от 0 до 10, заменим пропуски медианой в зависимостит от возраста\n",
    "\n",
    "df['tenure'] = df['tenure'].fillna(df.groupby('age')['tenure'].transform('median')).astype(int)\n",
    "df['tenure'].value_counts()"
   ]
  },
  {
   "cell_type": "markdown",
   "metadata": {},
   "source": [
    "столбцы rownumber, customerid, surname не несут полезной инфы для алгоритма, моэжно удалить"
   ]
  },
  {
   "cell_type": "code",
   "execution_count": 53,
   "metadata": {},
   "outputs": [],
   "source": [
    "df = df.drop(['rownumber', 'customerid', 'surname'], axis = 1)"
   ]
  },
  {
   "cell_type": "markdown",
   "metadata": {},
   "source": [
    "столбцы gheography и gender имеют категориальные признаки, их необходимо перевести в численные."
   ]
  },
  {
   "cell_type": "code",
   "execution_count": 54,
   "metadata": {},
   "outputs": [
    {
     "data": {
      "text/plain": [
       "France     5014\n",
       "Germany    2509\n",
       "Spain      2477\n",
       "Name: geography, dtype: int64"
      ]
     },
     "metadata": {},
     "output_type": "display_data"
    },
    {
     "data": {
      "text/plain": [
       "Male      5457\n",
       "Female    4543\n",
       "Name: gender, dtype: int64"
      ]
     },
     "metadata": {},
     "output_type": "display_data"
    }
   ],
   "source": [
    "display(df['geography'].value_counts())\n",
    "display(df['gender'].value_counts())"
   ]
  },
  {
   "cell_type": "code",
   "execution_count": 55,
   "metadata": {},
   "outputs": [
    {
     "data": {
      "text/html": [
       "<div>\n",
       "<style scoped>\n",
       "    .dataframe tbody tr th:only-of-type {\n",
       "        vertical-align: middle;\n",
       "    }\n",
       "\n",
       "    .dataframe tbody tr th {\n",
       "        vertical-align: top;\n",
       "    }\n",
       "\n",
       "    .dataframe thead th {\n",
       "        text-align: right;\n",
       "    }\n",
       "</style>\n",
       "<table border=\"1\" class=\"dataframe\">\n",
       "  <thead>\n",
       "    <tr style=\"text-align: right;\">\n",
       "      <th></th>\n",
       "      <th>creditscore</th>\n",
       "      <th>age</th>\n",
       "      <th>tenure</th>\n",
       "      <th>balance</th>\n",
       "      <th>numofproducts</th>\n",
       "      <th>hascrcard</th>\n",
       "      <th>isactivemember</th>\n",
       "      <th>estimatedsalary</th>\n",
       "      <th>exited</th>\n",
       "      <th>geography_Germany</th>\n",
       "      <th>geography_Spain</th>\n",
       "      <th>gender_Male</th>\n",
       "    </tr>\n",
       "  </thead>\n",
       "  <tbody>\n",
       "    <tr>\n",
       "      <th>0</th>\n",
       "      <td>619</td>\n",
       "      <td>42</td>\n",
       "      <td>2</td>\n",
       "      <td>0.00</td>\n",
       "      <td>1</td>\n",
       "      <td>1</td>\n",
       "      <td>1</td>\n",
       "      <td>101348.88</td>\n",
       "      <td>1</td>\n",
       "      <td>0</td>\n",
       "      <td>0</td>\n",
       "      <td>0</td>\n",
       "    </tr>\n",
       "    <tr>\n",
       "      <th>1</th>\n",
       "      <td>608</td>\n",
       "      <td>41</td>\n",
       "      <td>1</td>\n",
       "      <td>83807.86</td>\n",
       "      <td>1</td>\n",
       "      <td>0</td>\n",
       "      <td>1</td>\n",
       "      <td>112542.58</td>\n",
       "      <td>0</td>\n",
       "      <td>0</td>\n",
       "      <td>1</td>\n",
       "      <td>0</td>\n",
       "    </tr>\n",
       "    <tr>\n",
       "      <th>2</th>\n",
       "      <td>502</td>\n",
       "      <td>42</td>\n",
       "      <td>8</td>\n",
       "      <td>159660.80</td>\n",
       "      <td>3</td>\n",
       "      <td>1</td>\n",
       "      <td>0</td>\n",
       "      <td>113931.57</td>\n",
       "      <td>1</td>\n",
       "      <td>0</td>\n",
       "      <td>0</td>\n",
       "      <td>0</td>\n",
       "    </tr>\n",
       "    <tr>\n",
       "      <th>3</th>\n",
       "      <td>699</td>\n",
       "      <td>39</td>\n",
       "      <td>1</td>\n",
       "      <td>0.00</td>\n",
       "      <td>2</td>\n",
       "      <td>0</td>\n",
       "      <td>0</td>\n",
       "      <td>93826.63</td>\n",
       "      <td>0</td>\n",
       "      <td>0</td>\n",
       "      <td>0</td>\n",
       "      <td>0</td>\n",
       "    </tr>\n",
       "    <tr>\n",
       "      <th>4</th>\n",
       "      <td>850</td>\n",
       "      <td>43</td>\n",
       "      <td>2</td>\n",
       "      <td>125510.82</td>\n",
       "      <td>1</td>\n",
       "      <td>1</td>\n",
       "      <td>1</td>\n",
       "      <td>79084.10</td>\n",
       "      <td>0</td>\n",
       "      <td>0</td>\n",
       "      <td>1</td>\n",
       "      <td>0</td>\n",
       "    </tr>\n",
       "  </tbody>\n",
       "</table>\n",
       "</div>"
      ],
      "text/plain": [
       "   creditscore  age  tenure    balance  numofproducts  hascrcard  \\\n",
       "0          619   42       2       0.00              1          1   \n",
       "1          608   41       1   83807.86              1          0   \n",
       "2          502   42       8  159660.80              3          1   \n",
       "3          699   39       1       0.00              2          0   \n",
       "4          850   43       2  125510.82              1          1   \n",
       "\n",
       "   isactivemember  estimatedsalary  exited  geography_Germany  \\\n",
       "0               1        101348.88       1                  0   \n",
       "1               1        112542.58       0                  0   \n",
       "2               0        113931.57       1                  0   \n",
       "3               0         93826.63       0                  0   \n",
       "4               1         79084.10       0                  0   \n",
       "\n",
       "   geography_Spain  gender_Male  \n",
       "0                0            0  \n",
       "1                1            0  \n",
       "2                0            0  \n",
       "3                0            0  \n",
       "4                1            0  "
      ]
     },
     "execution_count": 55,
     "metadata": {},
     "output_type": "execute_result"
    }
   ],
   "source": [
    "# их можно приобразовать с помощью OHE.\n",
    "df_ohe = pd.get_dummies(df, drop_first=True)\n",
    "df_ohe.head(5)\n",
    "\n"
   ]
  },
  {
   "cell_type": "code",
   "execution_count": 56,
   "metadata": {},
   "outputs": [
    {
     "name": "stdout",
     "output_type": "stream",
     "text": [
      "Размер обучающей выборки: 6000\n",
      "Размер тестовой выборки: 2000\n",
      "Размер валидационной выборки: 2000\n"
     ]
    }
   ],
   "source": [
    "# выделяем признаки и целевой, делим на обучающую ,тестовую и валидационную выборки\n",
    "features = df_ohe.drop('exited', axis=1)\n",
    "target = df_ohe['exited']\n",
    "\n",
    "#выделим из датасета 20 % на тестовую выборку\n",
    "features_train, features_test, target_train, target_test = train_test_split(\n",
    "    features, target, test_size=0.2, random_state=12345)\n",
    "\n",
    "#и выделим еще 20 % от оставшегося датасета на валидационную выборку\n",
    "features_train, features_valid, target_train, target_valid = train_test_split(\n",
    "    features_train, target_train, test_size=0.25, random_state=12345)\n",
    "\n",
    "print('Размер обучающей выборки:', len(target_train))\n",
    "print('Размер тестовой выборки:', len(target_test))\n",
    "print('Размер валидационной выборки:', len(target_valid))"
   ]
  },
  {
   "cell_type": "code",
   "execution_count": 57,
   "metadata": {
    "scrolled": true
   },
   "outputs": [
    {
     "name": "stdout",
     "output_type": "stream",
     "text": [
      "      creditscore       age    tenure   balance  numofproducts  hascrcard  \\\n",
      "2889    -0.598210 -0.746128  1.439311 -1.232442      -0.896909          0   \n",
      "7758     0.608610  0.208244 -0.729687 -1.232442       0.816929          1   \n",
      "8830    -0.928280  0.017370  0.354812  0.862666      -0.896909          1   \n",
      "5268     0.402316 -1.032439 -1.452687 -1.232442       0.816929          0   \n",
      "9029    -0.598210 -1.986811 -1.452687  0.896841      -0.896909          1   \n",
      "\n",
      "      isactivemember  estimatedsalary  geography_Germany  geography_Spain  \\\n",
      "2889               1        -1.638704                  0                0   \n",
      "7758               1         1.632371                  0                0   \n",
      "8830               0        -1.566758                  1                0   \n",
      "5268               0        -0.122646                  0                0   \n",
      "9029               0         1.179047                  1                0   \n",
      "\n",
      "      gender_Male  \n",
      "2889            0  \n",
      "7758            1  \n",
      "8830            0  \n",
      "5268            1  \n",
      "9029            1  \n"
     ]
    }
   ],
   "source": [
    "# далее проводим масштабирование при помощт стандартизации  данных. используем метод scaler/\n",
    "numeric=['creditscore', 'age', 'tenure', 'balance', 'numofproducts','estimatedsalary']\n",
    "scaler = StandardScaler()\n",
    "scaler.fit((features_train[numeric]))\n",
    "features_train[numeric]=scaler.transform(features_train[numeric])\n",
    "features_valid[numeric]=scaler.transform(features_valid[numeric])\n",
    "features_test[numeric]=scaler.transform(features_test[numeric])\n",
    "\n",
    "print(features_train.sample(5))\n"
   ]
  },
  {
   "cell_type": "markdown",
   "metadata": {},
   "source": [
    "Вывод:\n",
    "1. в датасете 14 столбцов и 10 000стррок. пропуски только в сторлбце tenure/\n",
    "2. так нам нужен столбцец exited  - то перед нами задача классификации\n",
    "3. Пропуски в столбце tenure были заменены на медианы в зависимости от возраста\n",
    "4. столбцы: rownumber(индекс строки), custumerid(id клиента), surname(фамилия) не несут полезной для анализа информации и их удалили\n",
    "5. столбцы geography и gender былди преобразованы в численные\n",
    "6. Было произведено масштабирование при помощи стандартизации данных\n",
    "7. Были выделены обучающая, тестовая и валидационная выфборки"
   ]
  },
  {
   "cell_type": "markdown",
   "metadata": {},
   "source": [
    "## Исследование задачи"
   ]
  },
  {
   "cell_type": "markdown",
   "metadata": {},
   "source": [
    "### Для начала обучим модели без учета дисбаланса классов."
   ]
  },
  {
   "cell_type": "markdown",
   "metadata": {},
   "source": [
    "#### Дерево решений"
   ]
  },
  {
   "cell_type": "code",
   "execution_count": 58,
   "metadata": {},
   "outputs": [
    {
     "name": "stdout",
     "output_type": "stream",
     "text": [
      "Лучший результат f1 для дерева: 0.5828571428571429 с количеством узлов 10 и минимальным количеством листьев 38\n",
      "Лучший результат auc_roc для дерева: 0.8373940383297913 с количеством узлов 10 и минимальным количеством листьев 38\n"
     ]
    }
   ],
   "source": [
    "#hp - hyper parameters\n",
    "best_hp_f1 = [] \n",
    "best_f1 = 0\n",
    "best_hp_auc_roc = []\n",
    "best_auc_roc = 0\n",
    "best_tree = None\n",
    "for depth in range(1, 20):\n",
    "    for min_samples_leaf in range(1, 50):\n",
    "        tree_model = DecisionTreeClassifier(random_state=12345, max_depth=depth, min_samples_leaf=min_samples_leaf)\n",
    "        tree_model.fit(features_train, target_train)\n",
    "        tree_predictions = tree_model.predict(features_valid)\n",
    "        f1 = f1_score(target_valid, tree_predictions)\n",
    "        probabilities_valid = tree_model.predict_proba(features_valid)\n",
    "        probabilities_one_valid = probabilities_valid[:, 1]\n",
    "        auc_roc = roc_auc_score(target_valid, probabilities_one_valid)\n",
    "        if f1 > best_f1:\n",
    "            best_f1 = f1\n",
    "            best_hp_f1 = [depth, min_samples_leaf]\n",
    "            best_tree = tree_model\n",
    "            best_auc_roc = auc_roc\n",
    "            best_tree_depth = depth\n",
    "            best_leaf = min_samples_leaf\n",
    "            \n",
    "            \n",
    "print('Лучший результат f1 для дерева: {} с количеством узлов {} и минимальным количеством листьев {}'\n",
    "      .format(best_f1, best_hp_f1[0], best_hp_f1[1]))\n",
    "print('Лучший результат auc_roc для дерева: {} с количеством узлов {} и минимальным количеством листьев {}'\n",
    "      .format(best_auc_roc, best_hp_f1[0], best_hp_f1[1]))"
   ]
  },
  {
   "cell_type": "markdown",
   "metadata": {},
   "source": [
    "f1 = 0,58, это меньше чем 0,59. \n",
    "\n",
    "Параметры f1 и AUC-ROC при изменении гиперпараметров меняются синхронно: чем выше получается f1, тем выше и AUC-ROC.\n",
    "\n",
    "Измерим площадь ROC-кривой, чтобы выявить, как сильно наша модель отличается от случайной и какова вероятность положительного класса."
   ]
  },
  {
   "cell_type": "code",
   "execution_count": 59,
   "metadata": {},
   "outputs": [
    {
     "data": {
      "image/png": "[encoded data removed]",
      "text/plain": [
       "<Figure size 432x288 with 1 Axes>"
      ]
     },
     "metadata": {
      "needs_background": "light"
     },
     "output_type": "display_data"
    }
   ],
   "source": [
    "fpr, tpr, thresholds = roc_curve(target_valid, probabilities_one_valid)\n",
    "\n",
    "plt.figure()\n",
    "plt.plot(fpr, tpr)\n",
    "plt.plot([0, 1], [0, 1], linestyle='--')\n",
    "plt.xlim([0.0, 1.0])\n",
    "plt.ylim([0.0, 1.0])\n",
    "plt.title('ROC-кривая')\n",
    "plt.xlabel('FPR')\n",
    "plt.ylabel('TPR')\n",
    "plt.show() "
   ]
  },
  {
   "cell_type": "markdown",
   "metadata": {},
   "source": [
    "Исходя из гистограммы дерево решений работает адекватно и существенно отличается от случайцйной модели"
   ]
  },
  {
   "cell_type": "markdown",
   "metadata": {},
   "source": [
    "#### Случайный лес"
   ]
  },
  {
   "cell_type": "code",
   "execution_count": 60,
   "metadata": {},
   "outputs": [
    {
     "name": "stdout",
     "output_type": "stream",
     "text": [
      "Лучший результат f1 для леса: 0.5705128205128206 с глубиной 11 и числом деревьев 18\n",
      "Лучший результат auc_roc для дерева: 0.8396424205913349 с глубиной 11 и числом деревьев 18\n"
     ]
    }
   ],
   "source": [
    "best_hp_f1 = []\n",
    "best_f1 = 0\n",
    "best_hp_auc_roc = []\n",
    "best_auc_roc = 0\n",
    "best_forest = None\n",
    "for depth in range(1, 15):\n",
    "    for est in range(1, 50):\n",
    "        forest_model = RandomForestClassifier(random_state=12345, n_estimators=est, max_depth=depth)\n",
    "        forest_model.fit(features_train, target_train)\n",
    "        forest_predictions = forest_model.predict(features_valid)\n",
    "        f1 = f1_score(target_valid, forest_predictions)\n",
    "        probabilities_valid = forest_model.predict_proba(features_valid)\n",
    "        probabilities_one_valid = probabilities_valid[:, 1]\n",
    "        auc_roc = roc_auc_score(target_valid, probabilities_one_valid)\n",
    "        if f1 > best_f1:\n",
    "            best_f1 = f1\n",
    "            best_hp_f1 = [depth, est]\n",
    "            best_forest = forest_model\n",
    "            best_auc_roc = auc_roc\n",
    "            best_forest_depth = depth\n",
    "            best_est = est\n",
    "\n",
    "print('Лучший результат f1 для леса: {} с глубиной {} и числом деревьев {}'\n",
    "      .format(best_f1, best_hp_f1[0], best_hp_f1[1]))\n",
    "print('Лучший результат auc_roc для дерева: {} с глубиной {} и числом деревьев {}'\n",
    "      .format(best_auc_roc, best_hp_f1[0], best_hp_f1[1]))"
   ]
  },
  {
   "cell_type": "markdown",
   "metadata": {},
   "source": [
    "f1 = 0,57, это хуже дерева решений"
   ]
  },
  {
   "cell_type": "code",
   "execution_count": 61,
   "metadata": {},
   "outputs": [
    {
     "data": {
      "image/png": "[encoded data removed]",
      "text/plain": [
       "<Figure size 432x288 with 1 Axes>"
      ]
     },
     "metadata": {
      "needs_background": "light"
     },
     "output_type": "display_data"
    }
   ],
   "source": [
    "fpr, tpr, thresholds = roc_curve(target_valid, probabilities_one_valid)\n",
    "\n",
    "plt.figure()\n",
    "plt.plot(fpr, tpr)\n",
    "plt.plot([0.0, 1.0], [0.0, 1.0], linestyle='--')\n",
    "plt.xlim([0.0, 1.0])\n",
    "plt.ylim([0.0, 1.0])\n",
    "plt.xlabel('FPR')\n",
    "plt.ylabel('TPR')\n",
    "plt.title('ROC-кривая')\n",
    "plt.show() "
   ]
  },
  {
   "cell_type": "markdown",
   "metadata": {},
   "source": [
    "По ROC-кривой модель работает адекватно."
   ]
  },
  {
   "cell_type": "markdown",
   "metadata": {},
   "source": [
    "#### Логистическая регрессия"
   ]
  },
  {
   "cell_type": "code",
   "execution_count": 62,
   "metadata": {},
   "outputs": [
    {
     "name": "stdout",
     "output_type": "stream",
     "text": [
      "F1 логистической регрессии: 0.30131826741996237\n",
      "AUC_ROC логистической регрессии: 0.7703296196744973\n"
     ]
    }
   ],
   "source": [
    "reg_model = LogisticRegression(random_state=12345, solver='liblinear')\n",
    "reg_model.fit(features_train, target_train)\n",
    "reg_predictions = reg_model.predict(features_valid)\n",
    "f1 = f1_score(target_valid, reg_predictions)\n",
    "probabilities_valid = reg_model.predict_proba(features_valid)\n",
    "probabilities_one_valid = probabilities_valid[:, 1]\n",
    "auc_roc = roc_auc_score(target_valid, probabilities_one_valid)\n",
    "\n",
    "print('F1 логистической регрессии:', f1)\n",
    "print('AUC_ROC логистической регрессии:', auc_roc)"
   ]
  },
  {
   "cell_type": "markdown",
   "metadata": {},
   "source": [
    "f1 = 0,3, самый маленький результат"
   ]
  },
  {
   "cell_type": "markdown",
   "metadata": {},
   "source": [
    "измерим ROC-кривую"
   ]
  },
  {
   "cell_type": "code",
   "execution_count": 63,
   "metadata": {},
   "outputs": [
    {
     "name": "stdout",
     "output_type": "stream",
     "text": [
      "0.7703296196744973\n"
     ]
    }
   ],
   "source": [
    "probabilities_valid = reg_model.predict_proba(features_valid)\n",
    "probabilities_one_valid = probabilities_valid[:, 1]\n",
    "\n",
    "auc_roc = roc_auc_score(target_valid, probabilities_one_valid)\n",
    "\n",
    "print(auc_roc)"
   ]
  },
  {
   "cell_type": "code",
   "execution_count": 64,
   "metadata": {},
   "outputs": [
    {
     "data": {
      "image/png": "[encoded data removed]",
      "text/plain": [
       "<Figure size 432x288 with 1 Axes>"
      ]
     },
     "metadata": {
      "needs_background": "light"
     },
     "output_type": "display_data"
    }
   ],
   "source": [
    "fpr, tpr, thresholds = roc_curve(target_valid, probabilities_one_valid)\n",
    "\n",
    "plt.figure()\n",
    "plt.plot(fpr, tpr)\n",
    "plt.plot([0.0, 1.0], [0.0, 1.0], linestyle='--')\n",
    "plt.xlim([0.0, 1.0])\n",
    "plt.ylim([0.0, 1.0])\n",
    "plt.xlabel('FPR')\n",
    "plt.ylabel('TPR')\n",
    "plt.title('ROC-кривая')\n",
    "plt.show() "
   ]
  },
  {
   "cell_type": "markdown",
   "metadata": {},
   "source": [
    "Вывод:\n",
    "1. По дереву решений f1 = 0,58. Это самый высокий результат\n",
    "2. По случайному лесу f1 = 0,55, результат хуже дерева решений\n",
    "3. По логистической регрессии f1 = 0,3, это худший результат."
   ]
  },
  {
   "cell_type": "markdown",
   "metadata": {},
   "source": [
    "## Борьба с дисбалансом"
   ]
  },
  {
   "cell_type": "code",
   "execution_count": 65,
   "metadata": {},
   "outputs": [
    {
     "name": "stdout",
     "output_type": "stream",
     "text": [
      "Лучший порог = 0.46 | Точность = 0.656, Полнота = 0.547, f1 = 0.60\n"
     ]
    }
   ],
   "source": [
    "# Изменение порога на дереве решений\n",
    "best_threshold_tree = 0\n",
    "best_f1_th_tree = 0\n",
    "best_precision = 0\n",
    "best_recall = 0\n",
    "probabilities_valid = best_tree.predict_proba(features_valid)\n",
    "probabilities_one_valid = probabilities_valid[:, 1]\n",
    "\n",
    "for threshold in np.arange(0, 1, 0.02):\n",
    "    predicted_valid = probabilities_one_valid > threshold \n",
    "    precision = precision_score(target_valid, predicted_valid)\n",
    "    recall = recall_score(target_valid, predicted_valid)\n",
    "    f1 = f1_score(target_valid, predicted_valid)\n",
    "    if f1 > best_f1_th_tree:\n",
    "        best_f1_th_tree = f1\n",
    "        best_threshold_tree = threshold\n",
    "        best_precision = precision\n",
    "        best_recall = recall\n",
    "print(\"Лучший порог = {:.2f} | Точность = {:.3f}, Полнота = {:.3f}, f1 = {:.2f}\"\n",
    "          .format(best_threshold_tree, best_precision, best_recall, best_f1_th_tree))\n"
   ]
  },
  {
   "cell_type": "markdown",
   "metadata": {},
   "source": [
    "f1 у дерева решений равен 0,6, превысил порог в 0,59"
   ]
  },
  {
   "cell_type": "code",
   "execution_count": 66,
   "metadata": {},
   "outputs": [
    {
     "name": "stdout",
     "output_type": "stream",
     "text": [
      "Лучший порог = 0.34 | Точность = 0.591, Полнота = 0.573, f1 = 0.58\n"
     ]
    }
   ],
   "source": [
    "# Изменение порога на случайном лесе\n",
    "best_threshold_forest = 0\n",
    "best_f1_th_forest = 0\n",
    "best_precision = 0\n",
    "best_recall = 0\n",
    "probabilities_valid = best_forest.predict_proba(features_valid)\n",
    "probabilities_one_valid = probabilities_valid[:, 1]\n",
    "\n",
    "for threshold in np.arange(0, 1, 0.02):\n",
    "    predicted_valid = probabilities_one_valid > threshold \n",
    "    precision = precision_score(target_valid, predicted_valid)\n",
    "    recall = recall_score(target_valid, predicted_valid)\n",
    "    f1 = f1_score(target_valid, predicted_valid)\n",
    "    if f1 > best_f1_th_forest:\n",
    "        best_f1_th_forest = f1\n",
    "        best_threshold_forest = threshold\n",
    "        best_precision = precision\n",
    "        best_recall = recall\n",
    "print(\"Лучший порог = {:.2f} | Точность = {:.3f}, Полнота = {:.3f}, f1 = {:.2f}\"\n",
    "          .format(best_threshold_forest, best_precision, best_recall, best_f1_th_forest))\n"
   ]
  },
  {
   "cell_type": "markdown",
   "metadata": {},
   "source": [
    "При лучшем пороге в 0,34 f1 не преодалел 0,59"
   ]
  },
  {
   "cell_type": "code",
   "execution_count": 67,
   "metadata": {},
   "outputs": [
    {
     "name": "stdout",
     "output_type": "stream",
     "text": [
      "Лучший порог = 0.32 | Точность = 0.500, Полнота = 0.488, f1 = 0.49\n"
     ]
    }
   ],
   "source": [
    "# Изменение порога на логистической регрессии\n",
    "import warnings\n",
    "warnings.filterwarnings('ignore')\n",
    "\n",
    "best_threshold_reg = 0\n",
    "best_f1_th_reg = 0\n",
    "best_precision = 0\n",
    "best_recall = 0\n",
    "probabilities_valid = reg_model.predict_proba(features_valid)\n",
    "probabilities_one_valid = probabilities_valid[:, 1]\n",
    "\n",
    "for threshold in np.arange(0, 1, 0.02):\n",
    "    predicted_valid = probabilities_one_valid > threshold \n",
    "    precision = precision_score(target_valid, predicted_valid)\n",
    "    recall = recall_score(target_valid, predicted_valid)\n",
    "    f1 = f1_score(target_valid, predicted_valid)\n",
    "    if f1 > best_f1_th_reg:\n",
    "        best_f1_th_reg = f1\n",
    "        best_threshold_reg = threshold\n",
    "        best_precision = precision\n",
    "        best_recall = recall\n",
    "print(\"Лучший порог = {:.2f} | Точность = {:.3f}, Полнота = {:.3f}, f1 = {:.2f}\"\n",
    "          .format(best_threshold_reg, best_precision, best_recall, best_f1_th_reg))"
   ]
  },
  {
   "cell_type": "markdown",
   "metadata": {},
   "source": [
    "f1 увеличился до 0,49, но нек преодалел порог."
   ]
  },
  {
   "cell_type": "markdown",
   "metadata": {},
   "source": [
    "Далее используем технику Upsampling для увеличения выборки и для этого напишем функцию"
   ]
  },
  {
   "cell_type": "code",
   "execution_count": 68,
   "metadata": {},
   "outputs": [],
   "source": [
    "def upsample(features, target, repeat):\n",
    "    features_zeros = features[target == 0]\n",
    "    features_ones = features[target == 1]\n",
    "    target_zeros = target[target == 0]\n",
    "    target_ones = target[target == 1]\n",
    "\n",
    "    features_upsampled = pd.concat([features_zeros] + [features_ones] * repeat)\n",
    "    target_upsampled = pd.concat([target_zeros] + [target_ones] * repeat)\n",
    "    \n",
    "    features_upsampled, target_upsampled = shuffle(\n",
    "        features_upsampled, target_upsampled, random_state=12345)\n",
    "    \n",
    "    return features_upsampled, target_upsampled\n",
    "\n",
    "features_upsampled, target_upsampled = upsample(features_train, target_train, 4)"
   ]
  },
  {
   "cell_type": "code",
   "execution_count": 69,
   "metadata": {},
   "outputs": [
    {
     "data": {
      "text/plain": [
       "1    4876\n",
       "0    4781\n",
       "Name: exited, dtype: int64"
      ]
     },
     "execution_count": 69,
     "metadata": {},
     "output_type": "execute_result"
    }
   ],
   "source": [
    "target_upsampled.value_counts()"
   ]
  },
  {
   "cell_type": "code",
   "execution_count": 87,
   "metadata": {},
   "outputs": [
    {
     "name": "stdout",
     "output_type": "stream",
     "text": [
      "Лучший результат f1 для дерева с увеличенной выборкой: 0.5795918367346938 с глубиной 7 и количеством листьев 42\n",
      "Лучший результат auc_roc для дерева с увеличенной выборкой: 0.8423557387394118 с глубиной 7 и количеством листьев 42\n"
     ]
    }
   ],
   "source": [
    "# Проверка увеличения выборки на дереве решений\n",
    "best_hp_f1_up_tree = []\n",
    "best_f1_up_tree = 0\n",
    "best_hp_auc_roc_up_tree = []\n",
    "best_auc_roc_up_tree = 0\n",
    "best_tree_up = None\n",
    "for depth in range(1, 20):\n",
    "    for min_samples_leaf in range(1, 50):\n",
    "        tree_model_up = DecisionTreeClassifier(random_state=12345, max_depth=depth, min_samples_leaf=min_samples_leaf)\n",
    "        tree_model_up.fit(features_upsampled, target_upsampled)\n",
    "        tree_predictions_up = tree_model_up.predict(features_valid)\n",
    "        f1 = f1_score(target_valid, tree_predictions_up)\n",
    "        probabilities_valid = tree_model_up.predict_proba(features_valid)\n",
    "        probabilities_one_valid = probabilities_valid[:, 1]\n",
    "        auc_roc = roc_auc_score(target_valid, probabilities_one_valid)\n",
    "\n",
    "        if f1 > best_f1_up_tree:\n",
    "            best_f1_up_tree = f1\n",
    "            best_hp_f1_up_tree = [depth, min_samples_leaf]\n",
    "            best_tree_up = tree_model_up\n",
    "            best_auc_roc_up_tree = auc_roc\n",
    "           \n",
    "print('Лучший результат f1 для дерева с увеличенной выборкой: {} с глубиной {} и количеством листьев {}'\n",
    "      .format(best_f1_up_tree, best_hp_f1_up_tree[0], best_hp_f1_up_tree[1]))\n",
    "print('Лучший результат auc_roc для дерева с увеличенной выборкой: {} с глубиной {} и количеством листьев {}'\n",
    "      .format(best_auc_roc_up_tree, best_hp_f1_up_tree[0], best_hp_f1_up_tree[1]))"
   ]
  },
  {
   "cell_type": "code",
   "execution_count": 88,
   "metadata": {
    "scrolled": true
   },
   "outputs": [
    {
     "name": "stdout",
     "output_type": "stream",
     "text": [
      "Лучший результат f1 для леса на увеличенной выборке: 0.5997521685254027 с глубиной 13 и количеством деревьев 41\n",
      "Лучший результат auc_roc для дерева на увеличенной выборке: 0.8447368462882222 с глубиной 13 и количеством деревьев 41\n"
     ]
    }
   ],
   "source": [
    "# Проверка увеличения выборки на случайном лесе\n",
    "best_hp_f1_up_forest = []\n",
    "best_f1_up_forest = 0\n",
    "best_hp_auc_roc_up_forest = []\n",
    "best_auc_roc_up_forest = 0\n",
    "best_forest_up = None\n",
    "for depth in range(1, 15):\n",
    "    for est in range(1, 50):\n",
    "        forest_model_up = RandomForestClassifier(random_state=12345, n_estimators=est, max_depth=depth)\n",
    "        forest_model_up.fit(features_upsampled, target_upsampled)\n",
    "        forest_predictions_up = forest_model_up.predict(features_valid)\n",
    "        f1 = f1_score(target_valid, forest_predictions_up)\n",
    "        probabilities_valid = forest_model_up.predict_proba(features_valid)\n",
    "        probabilities_one_valid = probabilities_valid[:, 1]\n",
    "        auc_roc = roc_auc_score(target_valid, probabilities_one_valid)\n",
    "        if f1 > best_f1_up_forest:\n",
    "            best_f1_up_forest = f1\n",
    "            best_hp_f1_up_forest = [depth, est]\n",
    "            best_forest_up = forest_model_up\n",
    "            best_auc_roc_up_forest = auc_roc\n",
    "            \n",
    "print('Лучший результат f1 для леса на увеличенной выборке: {} с глубиной {} и количеством деревьев {}'\n",
    "      .format(best_f1_up_forest, best_hp_f1_up_forest[0], best_hp_f1_up_forest[1]))\n",
    "print('Лучший результат auc_roc для дерева на увеличенной выборке: {} с глубиной {} и количеством деревьев {}'\n",
    "      .format(best_auc_roc_up_forest, best_hp_f1_up_forest[0], best_hp_f1_up_forest[1]))"
   ]
  },
  {
   "cell_type": "code",
   "execution_count": 72,
   "metadata": {},
   "outputs": [
    {
     "name": "stdout",
     "output_type": "stream",
     "text": [
      "F1 логистической регрессии на увеличенной выборке: 0.4771126760563381\n",
      "AUC_ROC логистической регрессии на увеличенной выборке: 0.7725597224054591\n"
     ]
    }
   ],
   "source": [
    "# Проверка увеличения выборки на логистической регрессии\n",
    "reg_model_up = LogisticRegression(random_state=12345, solver='liblinear')\n",
    "reg_model_up.fit(features_upsampled, target_upsampled)\n",
    "reg_up_predictions = reg_model_up.predict(features_valid)\n",
    "f1_reg_up = f1_score(target_valid, reg_up_predictions)\n",
    "probabilities_valid = reg_model_up.predict_proba(features_valid)\n",
    "probabilities_one_valid = probabilities_valid[:, 1]\n",
    "\n",
    "auc_roc_reg_up = roc_auc_score(target_valid, probabilities_one_valid)\n",
    "\n",
    "print('F1 логистической регрессии на увеличенной выборке:', f1_reg_up)\n",
    "print('AUC_ROC логистической регрессии на увеличенной выборке:', auc_roc_reg_up)"
   ]
  },
  {
   "cell_type": "markdown",
   "metadata": {},
   "source": [
    "Блдагодаря увеличению выборки порог в 0,59 превысил только случайный лес"
   ]
  },
  {
   "cell_type": "markdown",
   "metadata": {},
   "source": [
    "Далее используем технику Downsampling для увеличения выборки и для этого напишем функцию"
   ]
  },
  {
   "cell_type": "code",
   "execution_count": 73,
   "metadata": {},
   "outputs": [],
   "source": [
    "def downsample(features, target, fraction):\n",
    "    features_zeros = features[target == 0]\n",
    "    features_ones = features[target == 1]\n",
    "    target_zeros = target[target == 0]\n",
    "    target_ones = target[target == 1]\n",
    "\n",
    "    features_downsampled = pd.concat(\n",
    "        [features_zeros.sample(frac=fraction, random_state=12345)] + [features_ones])\n",
    "    target_downsampled = pd.concat(\n",
    "        [target_zeros.sample(frac=fraction, random_state=12345)] + [target_ones])\n",
    "    \n",
    "    features_downsampled, target_downsampled = shuffle(\n",
    "        features_downsampled, target_downsampled, random_state=12345)\n",
    "    \n",
    "    return features_downsampled, target_downsampled\n",
    "\n",
    "features_downsampled, target_downsampled = downsample(features_train, target_train, 0.25)"
   ]
  },
  {
   "cell_type": "code",
   "execution_count": 74,
   "metadata": {
    "scrolled": true
   },
   "outputs": [
    {
     "data": {
      "text/plain": [
       "1    1219\n",
       "0    1195\n",
       "Name: exited, dtype: int64"
      ]
     },
     "execution_count": 74,
     "metadata": {},
     "output_type": "execute_result"
    }
   ],
   "source": [
    "target_downsampled.value_counts()"
   ]
  },
  {
   "cell_type": "code",
   "execution_count": 75,
   "metadata": {},
   "outputs": [
    {
     "name": "stdout",
     "output_type": "stream",
     "text": [
      "Лучший результат f1 для дерева с уменьшенной выборкой: 0.5533522190745986 с глубиной 6 и количеством листьев 14\n",
      "Лучший результат auc_roc для дерева с уменьшенной выборкой: 0.8145350879563326 с глубиной 6 и количеством листьев 14\n"
     ]
    }
   ],
   "source": [
    "# Проверка уменьшения выборки на дереве решений\n",
    "best_hp_f1_down_tree = []\n",
    "best_f1_down_tree = 0\n",
    "best_hp_auc_roc_down_tree = []\n",
    "best_auc_roc_down_tree = 0\n",
    "best_tree_down = None\n",
    "for depth in range(1, 20):\n",
    "    for min_samples_leaf in range(1, 50):\n",
    "        tree_model_down = DecisionTreeClassifier(random_state=12345, max_depth=depth, min_samples_leaf=min_samples_leaf)\n",
    "        tree_model_down.fit(features_downsampled, target_downsampled)\n",
    "        tree_predictions_down = tree_model_down.predict(features_valid)\n",
    "        f1 = f1_score(target_valid, tree_predictions_down)\n",
    "        probabilities_valid = tree_model_down.predict_proba(features_valid)\n",
    "        probabilities_one_valid = probabilities_valid[:, 1]\n",
    "        auc_roc = roc_auc_score(target_valid, probabilities_one_valid)\n",
    "        if f1 > best_f1_down_tree:\n",
    "            best_f1_down_tree = f1\n",
    "            best_hp_f1_down_tree = [depth, min_samples_leaf]\n",
    "            best_tree_down = tree_model_down\n",
    "            best_auc_roc_down_tree = auc_roc\n",
    "            \n",
    "print('Лучший результат f1 для дерева с уменьшенной выборкой: {} с глубиной {} и количеством листьев {}'\n",
    "      .format(best_f1_down_tree, best_hp_f1_down_tree[0], best_hp_f1_down_tree[1]))\n",
    "print('Лучший результат auc_roc для дерева с уменьшенной выборкой: {} с глубиной {} и количеством листьев {}'\n",
    "      .format(best_auc_roc_down_tree, best_hp_f1_down_tree[0], best_hp_f1_down_tree[1]))"
   ]
  },
  {
   "cell_type": "code",
   "execution_count": 76,
   "metadata": {},
   "outputs": [
    {
     "data": {
      "image/png": "[encoded data removed]",
      "text/plain": [
       "<Figure size 432x288 with 1 Axes>"
      ]
     },
     "metadata": {
      "needs_background": "light"
     },
     "output_type": "display_data"
    }
   ],
   "source": [
    "fpr, tpr, thresholds = roc_curve(target_valid, probabilities_one_valid)\n",
    "\n",
    "plt.figure()\n",
    "plt.plot(fpr, tpr)\n",
    "plt.plot([0, 1], [0, 1], linestyle='--')\n",
    "plt.xlim([0.0, 1.0])\n",
    "plt.ylim([0.0, 1.0])\n",
    "plt.xlabel('FPR')\n",
    "plt.ylabel('TPR')\n",
    "plt.title('ROC-кривая')\n",
    "plt.show() "
   ]
  },
  {
   "cell_type": "code",
   "execution_count": 77,
   "metadata": {},
   "outputs": [
    {
     "name": "stdout",
     "output_type": "stream",
     "text": [
      "Лучший результат f1 для леса на уменьшенной выборке: 0.5694980694980695 с глубиной 9 и количеством деревьев 9\n",
      "Лучший результат auc_roc для дерева на уменьшенной выборке: 0.8355032990578889 с глубиной 9 и количеством деревьев 9\n"
     ]
    }
   ],
   "source": [
    "# Проверка уменьшения выборки на случайном лесе\n",
    "best_hp_f1_down_forest = []\n",
    "best_f1_down_forest = 0\n",
    "best_hp_auc_roc_down_forest = []\n",
    "best_auc_roc_down_forest = 0\n",
    "best_forest_down = None\n",
    "for depth in range(1, 15):\n",
    "    for est in range(1, 50):\n",
    "        forest_model_down = RandomForestClassifier(random_state=12345, n_estimators=est, max_depth=depth)\n",
    "        forest_model_down.fit(features_downsampled, target_downsampled)\n",
    "        forest_predictions_down = forest_model_down.predict(features_valid)\n",
    "        f1 = f1_score(target_valid, forest_predictions_down)\n",
    "        probabilities_valid = forest_model_down.predict_proba(features_valid)\n",
    "        probabilities_one_valid = probabilities_valid[:, 1]\n",
    "        auc_roc = roc_auc_score(target_valid, probabilities_one_valid)\n",
    "        if f1 > best_f1_down_forest:\n",
    "            best_f1_down_forest = f1\n",
    "            best_hp_f1_down_forest = [depth, est]\n",
    "            best_forest_down = forest_model_down\n",
    "            best_auc_roc_down_forest = auc_roc\n",
    "            \n",
    "print('Лучший результат f1 для леса на уменьшенной выборке: {} с глубиной {} и количеством деревьев {}'\n",
    "      .format(best_f1_down_forest, best_hp_f1_down_forest[0], best_hp_f1_down_forest[1]))\n",
    "print('Лучший результат auc_roc для дерева на уменьшенной выборке: {} с глубиной {} и количеством деревьев {}'\n",
    "      .format(best_auc_roc_down_forest, best_hp_f1_down_forest[0], best_hp_f1_down_forest[1]))"
   ]
  },
  {
   "cell_type": "code",
   "execution_count": 78,
   "metadata": {},
   "outputs": [
    {
     "data": {
      "image/png": "[encoded data removed]",
      "text/plain": [
       "<Figure size 432x288 with 1 Axes>"
      ]
     },
     "metadata": {
      "needs_background": "light"
     },
     "output_type": "display_data"
    }
   ],
   "source": [
    "fpr, tpr, thresholds = roc_curve(target_valid, probabilities_one_valid)\n",
    "\n",
    "plt.figure()\n",
    "plt.plot(fpr, tpr)\n",
    "plt.plot([0.0, 1.0], [0.0, 1.0], linestyle='--')\n",
    "plt.xlim([0.0, 1.0])\n",
    "plt.ylim([0.0, 1.0])\n",
    "plt.xlabel('FPR')\n",
    "plt.ylabel('TPR')\n",
    "plt.title('ROC-кривая')\n",
    "plt.show() "
   ]
  },
  {
   "cell_type": "code",
   "execution_count": 79,
   "metadata": {},
   "outputs": [
    {
     "name": "stdout",
     "output_type": "stream",
     "text": [
      "F1 логистической регрессии на уменьшенной выборке: 0.47493403693931396\n",
      "AUC_ROC логистической регрессии на уменьшенной выборке: 0.7737709399970436\n"
     ]
    }
   ],
   "source": [
    "# Проверка уменьшения выборки на логистической регрессии\n",
    "reg_model_down = LogisticRegression(random_state=12345, solver='liblinear')\n",
    "reg_model_down.fit(features_downsampled, target_downsampled)\n",
    "reg_down_predictions = reg_model_down.predict(features_valid)\n",
    "f1_reg_down = f1_score(target_valid, reg_down_predictions)\n",
    "probabilities_valid = reg_model_down.predict_proba(features_valid)\n",
    "probabilities_one_valid = probabilities_valid[:, 1]\n",
    "auc_roc_reg_down = roc_auc_score(target_valid, probabilities_one_valid)\n",
    "\n",
    "print('F1 логистической регрессии на уменьшенной выборке:', f1_reg_down)\n",
    "print('AUC_ROC логистической регрессии на уменьшенной выборке:', auc_roc_reg_down)"
   ]
  },
  {
   "cell_type": "code",
   "execution_count": 80,
   "metadata": {
    "scrolled": true
   },
   "outputs": [
    {
     "data": {
      "image/png": "[encoded data removed]",
      "text/plain": [
       "<Figure size 432x288 with 1 Axes>"
      ]
     },
     "metadata": {
      "needs_background": "light"
     },
     "output_type": "display_data"
    }
   ],
   "source": [
    "fpr, tpr, thresholds = roc_curve(target_valid, probabilities_one_valid)\n",
    "\n",
    "plt.figure()\n",
    "plt.plot(fpr, tpr)\n",
    "plt.plot([0.0, 1.0], [0.0, 1.0], linestyle='--')\n",
    "plt.xlim([0.0, 1.0])\n",
    "plt.ylim([0.0, 1.0])\n",
    "plt.xlabel('FPR')\n",
    "plt.ylabel('TPR')\n",
    "plt.title('ROC-кривая')\n",
    "plt.show() "
   ]
  },
  {
   "cell_type": "markdown",
   "metadata": {},
   "source": [
    "При уменьшении выборки качество дерева решений и случайного леса ухудшились, логистическая регрессия практически не изменилась"
   ]
  },
  {
   "cell_type": "markdown",
   "metadata": {},
   "source": [
    "Вывод:\n",
    "1. Для борьбы с дисбалансом были использованы: изменение порога, увеличение и уменьшение выборки\n",
    "2. изменение порога увеличило f1  у дерева решений с 0,46 до 0,6 и позволило преодолеть порог в 0,59\n",
    "3. увеличение выборки увеличило f1 у случайного леса с 0,57 до 0,59 и позволило преодолеть порог в 0,59"
   ]
  },
  {
   "cell_type": "markdown",
   "metadata": {},
   "source": [
    "## Тестирование модели"
   ]
  },
  {
   "cell_type": "markdown",
   "metadata": {},
   "source": [
    "Для тестовой выборки используем модели, колторые показали лучший результат при увеличении выборки"
   ]
  },
  {
   "cell_type": "code",
   "execution_count": 81,
   "metadata": {},
   "outputs": [
    {
     "name": "stdout",
     "output_type": "stream",
     "text": [
      "f1 финального дерева решений составляет: 0.6058879392212726\n",
      "AUC-ROC финального дерева решений составляет: 0.8462260541247129\n"
     ]
    }
   ],
   "source": [
    "# дерево решений\n",
    "final_tree = best_tree_up                                \n",
    "final_tree_predictions = final_tree.predict(features_test)\n",
    "probabilities_test = final_tree.predict_proba(features_test)\n",
    "probabilities_one_test = probabilities_test[:, 1]\n",
    "auc_roc = roc_auc_score(target_test, probabilities_one_test)\n",
    "\n",
    "print('f1 финального дерева решений составляет:', f1_score(target_test, final_tree_predictions))\n",
    "print('AUC-ROC финального дерева решений составляет:', auc_roc)"
   ]
  },
  {
   "cell_type": "markdown",
   "metadata": {},
   "source": [
    "f1  увеличилось до 0,60 и преодалело порог в 0,59"
   ]
  },
  {
   "cell_type": "code",
   "execution_count": 82,
   "metadata": {},
   "outputs": [
    {
     "data": {
      "image/png": "[encoded data removed]",
      "text/plain": [
       "<Figure size 432x288 with 1 Axes>"
      ]
     },
     "metadata": {
      "needs_background": "light"
     },
     "output_type": "display_data"
    }
   ],
   "source": [
    "fpr, tpr, thresholds = roc_curve(target_test, probabilities_one_test)\n",
    "\n",
    "plt.figure()\n",
    "plt.plot(fpr, tpr)\n",
    "plt.plot([0, 1], [0, 1], linestyle='--')\n",
    "plt.xlim([0.0, 1.0])\n",
    "plt.ylim([0.0, 1.0])\n",
    "plt.xlabel('FPR')\n",
    "plt.ylabel('TPR')\n",
    "plt.title('ROC-кривая')\n",
    "plt.show() "
   ]
  },
  {
   "cell_type": "code",
   "execution_count": 83,
   "metadata": {},
   "outputs": [
    {
     "name": "stdout",
     "output_type": "stream",
     "text": [
      "f1 финального случайного леса составляет: 0.6263345195729537\n",
      "AUC-ROC финального случайного леса составляет: 0.8543394012842598\n"
     ]
    }
   ],
   "source": [
    "# случайный лес\n",
    "final_forest = best_forest_up\n",
    "                                                                                                              \n",
    "final_forest_predictions = final_forest.predict(features_test)\n",
    "probabilities_test = final_forest.predict_proba(features_test)\n",
    "probabilities_one_test = probabilities_test[:, 1]\n",
    "auc_roc = roc_auc_score(target_test, probabilities_one_test)\n",
    "\n",
    "print('f1 финального случайного леса составляет:', f1_score(target_test, final_forest_predictions))\n",
    "print('AUC-ROC финального случайного леса составляет:', auc_roc)"
   ]
  },
  {
   "cell_type": "markdown",
   "metadata": {},
   "source": [
    "f1 увеличилось до 0,62 и преодалело предел в 0,59"
   ]
  },
  {
   "cell_type": "code",
   "execution_count": 84,
   "metadata": {},
   "outputs": [
    {
     "data": {
      "image/png": "[encoded data removed]",
      "text/plain": [
       "<Figure size 432x288 with 1 Axes>"
      ]
     },
     "metadata": {
      "needs_background": "light"
     },
     "output_type": "display_data"
    }
   ],
   "source": [
    "fpr, tpr, thresholds = roc_curve(target_test, probabilities_one_test)\n",
    "\n",
    "plt.figure()\n",
    "plt.plot(fpr, tpr)\n",
    "plt.plot([0.0, 1.0], [0.0, 1.0], linestyle='--')\n",
    "plt.xlim([0.0, 1.0])\n",
    "plt.ylim([0.0, 1.0])\n",
    "plt.xlabel('FPR')\n",
    "plt.ylabel('TPR')\n",
    "plt.title('ROC-кривая')\n",
    "plt.show() "
   ]
  },
  {
   "cell_type": "code",
   "execution_count": 85,
   "metadata": {},
   "outputs": [
    {
     "name": "stdout",
     "output_type": "stream",
     "text": [
      "F1 финальной логистической регрессии: 0.504983388704319\n",
      "AUC-ROC финальной логистической регрессии: 0.7638248487726879\n"
     ]
    }
   ],
   "source": [
    "# логистическая регрессия\n",
    "final_regression = reg_model_up\n",
    "\n",
    "final_regression_predictions = final_regression.predict(features_test)\n",
    "probabilities_test = final_regression.predict_proba(features_test)\n",
    "probabilities_one_test = probabilities_test[:, 1]\n",
    "auc_roc = roc_auc_score(target_test, probabilities_one_test)\n",
    "\n",
    "print('F1 финальной логистической регрессии:', f1_score(target_test, final_regression_predictions))\n",
    "print('AUC-ROC финальной логистической регрессии:', auc_roc)"
   ]
  },
  {
   "cell_type": "markdown",
   "metadata": {},
   "source": [
    "f1 у логистической регрессии 0,50 и так и не смогла преодалеть порог в 0,59"
   ]
  },
  {
   "cell_type": "code",
   "execution_count": 86,
   "metadata": {},
   "outputs": [
    {
     "data": {
      "image/png": "[encoded data removed]",
      "text/plain": [
       "<Figure size 432x288 with 1 Axes>"
      ]
     },
     "metadata": {
      "needs_background": "light"
     },
     "output_type": "display_data"
    }
   ],
   "source": [
    "fpr, tpr, thresholds = roc_curve(target_test, probabilities_one_test)\n",
    "\n",
    "plt.figure()\n",
    "plt.plot(fpr, tpr)\n",
    "plt.plot([0.0, 1.0], [0.0, 1.0], linestyle='--')\n",
    "plt.xlim([0.0, 1.0])\n",
    "plt.ylim([0.0, 1.0])\n",
    "plt.xlabel('FPR')\n",
    "plt.ylabel('TPR')\n",
    "plt.title('ROC-кривая')\n",
    "plt.show() "
   ]
  },
  {
   "cell_type": "markdown",
   "metadata": {},
   "source": [
    "Вывод:\n",
    "1. f1 у дерева решений 0,60\n",
    "2. f1 у случайного леса 0,62 и это лучший результат\n",
    "3. логистическая регрессия так и не смогла преодолеть порог в 0,59"
   ]
  },
  {
   "cell_type": "markdown",
   "metadata": {},
   "source": [
    "## Общий вывод\n",
    "1. в датасете 14 столбцов и 10 000стррок. пропуски только в сторлбце tenure/\n",
    "2. так нам нужен столбцец exited  - то перед нами задача классификации\n",
    "3. Пропуски в столбце tenure были заменены на медианы в зависимости от возраста\n",
    "4. столбцы: rownumber(индекс строки), custumerid(id клиента), surname(фамилия) не несут полезной для анализа информации и их удалили\n",
    "5. столбцы geography и gender былди преобразованы в численные\n",
    "6. Было произведено масштабирование при помощи стандартизации данных\n",
    "7. Были выделены обучающая, тестовая и валидационная выборки\n",
    "8. Для борьбы с дисбалансом были использованы: изменение порога, увеличение и уменьшение выборки\n",
    "9. изменение порога увеличило f1  у дерева решений с 0,46 до 0,6 и позволило преодолеть порог в 0,59\n",
    "10. увеличение выборки увеличило f1 у случайного леса с 0,57 до 0,59 и позволило преодолеть порог в 0,59\n",
    "11. При проверке на естовой выборке:\n",
    "- 1. f1 у дерева решений 0,60\n",
    "- 2. f1 у случайного леса 0,62 и это лучший результат\n",
    "- 3. логистическая регрессия так и не смогла преодолеть порог в 0,59\n",
    "\n"
   ]
  }
 ],
 "metadata": {
  "ExecuteTimeLog": [
   {
    "duration": 1592,
    "start_time": "2022-04-17T16:53:01.979Z"
   },
   {
    "duration": 22,
    "start_time": "2022-04-17T16:53:11.651Z"
   },
   {
    "duration": 34,
    "start_time": "2022-04-17T16:53:26.624Z"
   },
   {
    "duration": 6,
    "start_time": "2022-04-17T16:54:09.535Z"
   },
   {
    "duration": 13,
    "start_time": "2022-04-17T16:55:05.231Z"
   },
   {
    "duration": 37,
    "start_time": "2022-04-17T16:55:31.311Z"
   },
   {
    "duration": 4,
    "start_time": "2022-04-17T16:56:02.704Z"
   },
   {
    "duration": 3,
    "start_time": "2022-04-17T16:56:31.461Z"
   },
   {
    "duration": 6,
    "start_time": "2022-04-17T16:57:14.200Z"
   },
   {
    "duration": 5,
    "start_time": "2022-04-17T16:59:35.799Z"
   },
   {
    "duration": 93,
    "start_time": "2022-04-17T16:59:56.256Z"
   },
   {
    "duration": 8,
    "start_time": "2022-04-17T17:00:02.103Z"
   },
   {
    "duration": 9,
    "start_time": "2022-04-17T17:00:10.124Z"
   },
   {
    "duration": 11,
    "start_time": "2022-04-17T17:00:19.423Z"
   },
   {
    "duration": 5,
    "start_time": "2022-04-17T17:06:55.051Z"
   },
   {
    "duration": 2222,
    "start_time": "2022-04-18T16:25:20.246Z"
   },
   {
    "duration": 73,
    "start_time": "2022-04-18T16:25:22.471Z"
   },
   {
    "duration": 65,
    "start_time": "2022-04-18T16:25:22.547Z"
   },
   {
    "duration": 7,
    "start_time": "2022-04-18T16:25:22.615Z"
   },
   {
    "duration": 24,
    "start_time": "2022-04-18T16:25:22.625Z"
   },
   {
    "duration": 4,
    "start_time": "2022-04-18T16:25:22.651Z"
   },
   {
    "duration": 36,
    "start_time": "2022-04-18T16:25:22.657Z"
   },
   {
    "duration": 12,
    "start_time": "2022-04-18T16:25:22.695Z"
   },
   {
    "duration": 7,
    "start_time": "2022-04-18T16:25:22.709Z"
   },
   {
    "duration": 207,
    "start_time": "2022-04-18T16:26:06.841Z"
   },
   {
    "duration": 13,
    "start_time": "2022-04-18T16:26:15.182Z"
   },
   {
    "duration": 25,
    "start_time": "2022-04-18T16:27:08.888Z"
   },
   {
    "duration": 16,
    "start_time": "2022-04-18T16:28:18.294Z"
   },
   {
    "duration": 15,
    "start_time": "2022-04-18T16:29:12.201Z"
   },
   {
    "duration": 155,
    "start_time": "2022-04-18T16:31:24.437Z"
   },
   {
    "duration": 49,
    "start_time": "2022-04-18T16:31:34.169Z"
   },
   {
    "duration": 42,
    "start_time": "2022-04-18T16:32:09.286Z"
   },
   {
    "duration": 39,
    "start_time": "2022-04-18T16:32:14.228Z"
   },
   {
    "duration": 39,
    "start_time": "2022-04-18T16:32:16.334Z"
   },
   {
    "duration": 6,
    "start_time": "2022-04-18T16:32:22.746Z"
   },
   {
    "duration": 194,
    "start_time": "2022-04-18T16:32:22.754Z"
   },
   {
    "duration": 53,
    "start_time": "2022-04-18T16:32:22.951Z"
   },
   {
    "duration": 7,
    "start_time": "2022-04-18T16:32:23.006Z"
   },
   {
    "duration": 20,
    "start_time": "2022-04-18T16:32:23.015Z"
   },
   {
    "duration": 5,
    "start_time": "2022-04-18T16:32:23.038Z"
   },
   {
    "duration": 12,
    "start_time": "2022-04-18T16:32:23.045Z"
   },
   {
    "duration": 11,
    "start_time": "2022-04-18T16:32:23.094Z"
   },
   {
    "duration": 7,
    "start_time": "2022-04-18T16:32:23.107Z"
   },
   {
    "duration": 13,
    "start_time": "2022-04-18T16:32:23.117Z"
   },
   {
    "duration": 60,
    "start_time": "2022-04-18T16:32:23.133Z"
   },
   {
    "duration": 15,
    "start_time": "2022-04-18T16:32:23.195Z"
   },
   {
    "duration": 45,
    "start_time": "2022-04-18T16:32:23.213Z"
   },
   {
    "duration": 4,
    "start_time": "2022-04-18T16:40:14.958Z"
   },
   {
    "duration": 28875,
    "start_time": "2022-04-18T16:41:01.070Z"
   },
   {
    "duration": 30031,
    "start_time": "2022-04-18T16:43:53.240Z"
   },
   {
    "duration": 28392,
    "start_time": "2022-04-18T16:45:10.737Z"
   },
   {
    "duration": 28710,
    "start_time": "2022-04-18T16:47:28.184Z"
   },
   {
    "duration": 192,
    "start_time": "2022-04-18T16:49:08.618Z"
   },
   {
    "duration": 171,
    "start_time": "2022-04-18T16:49:34.038Z"
   },
   {
    "duration": 192,
    "start_time": "2022-04-18T16:49:50.845Z"
   },
   {
    "duration": 166,
    "start_time": "2022-04-18T16:50:03.906Z"
   },
   {
    "duration": 204,
    "start_time": "2022-04-18T16:50:13.047Z"
   },
   {
    "duration": 241,
    "start_time": "2022-04-18T16:50:22.751Z"
   },
   {
    "duration": 125910,
    "start_time": "2022-04-18T17:02:31.111Z"
   },
   {
    "duration": 177,
    "start_time": "2022-04-18T17:04:37.024Z"
   },
   {
    "duration": 136,
    "start_time": "2022-04-18T17:05:15.464Z"
   },
   {
    "duration": 18,
    "start_time": "2022-04-18T17:06:26.081Z"
   },
   {
    "duration": 351,
    "start_time": "2022-04-18T17:06:46.690Z"
   },
   {
    "duration": 287,
    "start_time": "2022-04-18T17:11:41.194Z"
   },
   {
    "duration": 292,
    "start_time": "2022-04-18T17:13:09.463Z"
   },
   {
    "duration": 461,
    "start_time": "2022-04-18T17:14:07.097Z"
   },
   {
    "duration": 203,
    "start_time": "2022-04-18T17:14:41.566Z"
   },
   {
    "duration": 19,
    "start_time": "2022-04-18T17:16:24.254Z"
   },
   {
    "duration": 8,
    "start_time": "2022-04-18T17:16:38.220Z"
   },
   {
    "duration": 18,
    "start_time": "2022-04-18T17:16:49.117Z"
   },
   {
    "duration": 15,
    "start_time": "2022-04-18T17:17:08.621Z"
   },
   {
    "duration": 8,
    "start_time": "2022-04-18T17:17:09.667Z"
   },
   {
    "duration": 17,
    "start_time": "2022-04-18T17:17:13.483Z"
   },
   {
    "duration": 8,
    "start_time": "2022-04-18T17:17:15.616Z"
   },
   {
    "duration": 16,
    "start_time": "2022-04-18T17:17:20.308Z"
   },
   {
    "duration": 10,
    "start_time": "2022-04-18T17:17:21.575Z"
   },
   {
    "duration": 38336,
    "start_time": "2022-04-18T17:19:08.853Z"
   },
   {
    "duration": 176010,
    "start_time": "2022-04-18T17:23:06.972Z"
   },
   {
    "duration": 117,
    "start_time": "2022-04-18T17:26:02.984Z"
   },
   {
    "duration": 16,
    "start_time": "2022-04-18T17:28:09.156Z"
   },
   {
    "duration": 7,
    "start_time": "2022-04-18T17:28:16.855Z"
   },
   {
    "duration": 1544,
    "start_time": "2022-04-19T08:56:51.603Z"
   },
   {
    "duration": 41,
    "start_time": "2022-04-19T08:56:53.149Z"
   },
   {
    "duration": 37,
    "start_time": "2022-04-19T08:56:53.192Z"
   },
   {
    "duration": 6,
    "start_time": "2022-04-19T08:56:53.231Z"
   },
   {
    "duration": 13,
    "start_time": "2022-04-19T08:56:53.239Z"
   },
   {
    "duration": 3,
    "start_time": "2022-04-19T08:56:53.253Z"
   },
   {
    "duration": 11,
    "start_time": "2022-04-19T08:56:53.258Z"
   },
   {
    "duration": 14,
    "start_time": "2022-04-19T08:56:53.271Z"
   },
   {
    "duration": 5,
    "start_time": "2022-04-19T08:56:53.286Z"
   },
   {
    "duration": 36,
    "start_time": "2022-04-19T08:56:53.292Z"
   },
   {
    "duration": 18,
    "start_time": "2022-04-19T08:56:53.329Z"
   },
   {
    "duration": 13,
    "start_time": "2022-04-19T08:56:53.348Z"
   },
   {
    "duration": 32,
    "start_time": "2022-04-19T08:56:53.362Z"
   },
   {
    "duration": 17979,
    "start_time": "2022-04-19T08:56:53.397Z"
   },
   {
    "duration": 118,
    "start_time": "2022-04-19T08:57:11.378Z"
   },
   {
    "duration": 80056,
    "start_time": "2022-04-19T08:57:11.498Z"
   },
   {
    "duration": 102,
    "start_time": "2022-04-19T08:58:31.556Z"
   },
   {
    "duration": 65,
    "start_time": "2022-04-19T08:58:31.660Z"
   },
   {
    "duration": 102,
    "start_time": "2022-04-19T08:58:31.730Z"
   },
   {
    "duration": 292,
    "start_time": "2022-04-19T08:58:31.834Z"
   },
   {
    "duration": 173,
    "start_time": "2022-04-19T08:58:32.127Z"
   },
   {
    "duration": 178,
    "start_time": "2022-04-19T08:58:32.302Z"
   },
   {
    "duration": 339,
    "start_time": "2022-04-19T08:58:32.482Z"
   },
   {
    "duration": 44,
    "start_time": "2022-04-19T08:58:32.823Z"
   },
   {
    "duration": 5,
    "start_time": "2022-04-19T08:58:32.868Z"
   },
   {
    "duration": 23801,
    "start_time": "2022-04-19T08:58:32.875Z"
   },
   {
    "duration": 107545,
    "start_time": "2022-04-19T08:58:56.678Z"
   },
   {
    "duration": 104,
    "start_time": "2022-04-19T09:00:44.225Z"
   },
   {
    "duration": 191,
    "start_time": "2022-04-19T09:00:44.333Z"
   },
   {
    "duration": 6,
    "start_time": "2022-04-19T09:00:44.526Z"
   },
   {
    "duration": 10320,
    "start_time": "2022-04-19T09:06:24.765Z"
   },
   {
    "duration": 100,
    "start_time": "2022-04-19T09:07:21.829Z"
   },
   {
    "duration": 50992,
    "start_time": "2022-04-19T09:07:44.484Z"
   },
   {
    "duration": 110,
    "start_time": "2022-04-19T09:08:35.478Z"
   },
   {
    "duration": 38,
    "start_time": "2022-04-19T09:08:35.589Z"
   },
   {
    "duration": 106,
    "start_time": "2022-04-19T09:08:48.260Z"
   },
   {
    "duration": 13,
    "start_time": "2022-04-19T09:17:48.713Z"
   },
   {
    "duration": 95,
    "start_time": "2022-04-19T09:18:41.692Z"
   },
   {
    "duration": 46,
    "start_time": "2022-04-19T09:21:18.405Z"
   },
   {
    "duration": 95,
    "start_time": "2022-04-19T09:22:05.877Z"
   },
   {
    "duration": 36,
    "start_time": "2022-04-19T09:22:46.894Z"
   },
   {
    "duration": 104,
    "start_time": "2022-04-19T09:23:43.882Z"
   },
   {
    "duration": 336,
    "start_time": "2022-04-19T09:27:17.633Z"
   },
   {
    "duration": 27,
    "start_time": "2022-04-19T09:27:33.031Z"
   },
   {
    "duration": 4,
    "start_time": "2022-04-19T09:29:56.677Z"
   },
   {
    "duration": 44,
    "start_time": "2022-04-19T09:29:56.683Z"
   },
   {
    "duration": 34,
    "start_time": "2022-04-19T09:29:56.729Z"
   },
   {
    "duration": 5,
    "start_time": "2022-04-19T09:29:56.765Z"
   },
   {
    "duration": 16,
    "start_time": "2022-04-19T09:29:56.771Z"
   },
   {
    "duration": 6,
    "start_time": "2022-04-19T09:29:56.789Z"
   },
   {
    "duration": 9,
    "start_time": "2022-04-19T09:29:56.797Z"
   },
   {
    "duration": 7,
    "start_time": "2022-04-19T09:29:56.824Z"
   },
   {
    "duration": 15,
    "start_time": "2022-04-19T09:29:56.834Z"
   },
   {
    "duration": 10,
    "start_time": "2022-04-19T09:29:56.850Z"
   },
   {
    "duration": 15,
    "start_time": "2022-04-19T09:29:56.862Z"
   },
   {
    "duration": 10,
    "start_time": "2022-04-19T09:29:56.879Z"
   },
   {
    "duration": 58,
    "start_time": "2022-04-19T09:29:56.891Z"
   },
   {
    "duration": 18348,
    "start_time": "2022-04-19T09:29:56.951Z"
   },
   {
    "duration": 102,
    "start_time": "2022-04-19T09:30:15.300Z"
   },
   {
    "duration": 80673,
    "start_time": "2022-04-19T09:30:15.403Z"
   },
   {
    "duration": 102,
    "start_time": "2022-04-19T09:31:36.078Z"
   },
   {
    "duration": 47,
    "start_time": "2022-04-19T09:31:36.181Z"
   },
   {
    "duration": 95,
    "start_time": "2022-04-19T09:31:36.230Z"
   },
   {
    "duration": 272,
    "start_time": "2022-04-19T09:31:36.327Z"
   },
   {
    "duration": 273,
    "start_time": "2022-04-19T09:31:36.600Z"
   },
   {
    "duration": 281,
    "start_time": "2022-04-19T09:31:36.875Z"
   },
   {
    "duration": 342,
    "start_time": "2022-04-19T09:31:37.158Z"
   },
   {
    "duration": 10,
    "start_time": "2022-04-19T09:31:37.503Z"
   },
   {
    "duration": 10,
    "start_time": "2022-04-19T09:31:37.524Z"
   },
   {
    "duration": 31831,
    "start_time": "2022-04-19T09:31:37.535Z"
   },
   {
    "duration": 108675,
    "start_time": "2022-04-19T09:32:09.369Z"
   },
   {
    "duration": 81,
    "start_time": "2022-04-19T09:33:58.045Z"
   },
   {
    "duration": 103,
    "start_time": "2022-04-19T09:33:58.128Z"
   },
   {
    "duration": 5,
    "start_time": "2022-04-19T09:33:58.233Z"
   },
   {
    "duration": 10271,
    "start_time": "2022-04-19T09:33:58.240Z"
   },
   {
    "duration": 110,
    "start_time": "2022-04-19T09:34:08.513Z"
   },
   {
    "duration": 53903,
    "start_time": "2022-04-19T09:34:08.625Z"
   },
   {
    "duration": 109,
    "start_time": "2022-04-19T09:35:02.530Z"
   },
   {
    "duration": 19,
    "start_time": "2022-04-19T09:35:02.640Z"
   },
   {
    "duration": 254,
    "start_time": "2022-04-19T09:35:02.661Z"
   },
   {
    "duration": 17,
    "start_time": "2022-04-19T09:35:02.917Z"
   },
   {
    "duration": 118,
    "start_time": "2022-04-19T09:35:02.936Z"
   },
   {
    "duration": 44,
    "start_time": "2022-04-19T09:35:03.056Z"
   },
   {
    "duration": 122,
    "start_time": "2022-04-19T09:35:03.101Z"
   },
   {
    "duration": 14,
    "start_time": "2022-04-19T09:35:03.225Z"
   },
   {
    "duration": 200,
    "start_time": "2022-04-19T09:35:03.324Z"
   },
   {
    "duration": 23677,
    "start_time": "2022-04-19T09:37:55.080Z"
   },
   {
    "duration": 106783,
    "start_time": "2022-04-19T09:38:18.758Z"
   }
  ],
  "kernelspec": {
   "display_name": "Python 3 (ipykernel)",
   "language": "python",
   "name": "python3"
  },
  "language_info": {
   "codemirror_mode": {
    "name": "ipython",
    "version": 3
   },
   "file_extension": ".py",
   "mimetype": "text/x-python",
   "name": "python",
   "nbconvert_exporter": "python",
   "pygments_lexer": "ipython3",
   "version": "3.9.5"
  },
  "toc": {
   "base_numbering": 1,
   "nav_menu": {},
   "number_sections": true,
   "sideBar": true,
   "skip_h1_title": true,
   "title_cell": "Содержание",
   "title_sidebar": "Contents",
   "toc_cell": true,
   "toc_position": {
    "height": "calc(100% - 180px)",
    "left": "10px",
    "top": "150px",
    "width": "411.15px"
   },
   "toc_section_display": true,
   "toc_window_display": true
  }
 },
 "nbformat": 4,
 "nbformat_minor": 2
}
