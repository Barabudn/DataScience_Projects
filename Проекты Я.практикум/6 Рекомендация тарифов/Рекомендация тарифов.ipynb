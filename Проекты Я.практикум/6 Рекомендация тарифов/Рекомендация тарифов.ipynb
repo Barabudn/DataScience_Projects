{
 "cells": [
  {
   "cell_type": "markdown",
   "metadata": {},
   "source": [
    "# Рекомендация тарифов"
   ]
  },
  {
   "cell_type": "markdown",
   "metadata": {},
   "source": [
    "В вашем распоряжении данные о поведении клиентов, которые уже перешли на эти тарифы (из проекта курса «Статистический анализ данных»). Нужно построить модель для задачи классификации, которая выберет подходящий тариф. Предобработка данных не понадобится — вы её уже сделали.\n",
    "\n",
    "Постройте модель с максимально большим значением *accuracy*. Чтобы сдать проект успешно, нужно довести долю правильных ответов по крайней мере до 0.75. Проверьте *accuracy* на тестовой выборке самостоятельно."
   ]
  },
  {
   "cell_type": "markdown",
   "metadata": {},
   "source": [
    "## Откройте и изучите файл"
   ]
  },
  {
   "cell_type": "code",
   "execution_count": 1,
   "metadata": {},
   "outputs": [],
   "source": [
    "import pandas as pd\n",
    "from sklearn.tree import DecisionTreeClassifier\n",
    "from sklearn.ensemble import RandomForestClassifier\n",
    "from sklearn.linear_model import LogisticRegression\n",
    "from sklearn.model_selection import train_test_split\n",
    "from sklearn.metrics import accuracy_score\n",
    "from sklearn.metrics import classification_report\n",
    "from sklearn.dummy import DummyClassifier\n",
    "import numpy as np"
   ]
  },
  {
   "cell_type": "code",
   "execution_count": 2,
   "metadata": {},
   "outputs": [],
   "source": [
    "df = pd.read_csv('D://Игорь/projects/users_behavior.csv')"
   ]
  },
  {
   "cell_type": "code",
   "execution_count": 3,
   "metadata": {},
   "outputs": [
    {
     "name": "stdout",
     "output_type": "stream",
     "text": [
      "<class 'pandas.core.frame.DataFrame'>\n",
      "RangeIndex: 3214 entries, 0 to 3213\n",
      "Data columns (total 5 columns):\n",
      " #   Column    Non-Null Count  Dtype  \n",
      "---  ------    --------------  -----  \n",
      " 0   calls     3214 non-null   float64\n",
      " 1   minutes   3214 non-null   float64\n",
      " 2   messages  3214 non-null   float64\n",
      " 3   mb_used   3214 non-null   float64\n",
      " 4   is_ultra  3214 non-null   int64  \n",
      "dtypes: float64(4), int64(1)\n",
      "memory usage: 125.7 KB\n"
     ]
    }
   ],
   "source": [
    "df.info()"
   ]
  },
  {
   "cell_type": "code",
   "execution_count": 4,
   "metadata": {
    "scrolled": true
   },
   "outputs": [
    {
     "data": {
      "text/html": [
       "<div>\n",
       "<style scoped>\n",
       "    .dataframe tbody tr th:only-of-type {\n",
       "        vertical-align: middle;\n",
       "    }\n",
       "\n",
       "    .dataframe tbody tr th {\n",
       "        vertical-align: top;\n",
       "    }\n",
       "\n",
       "    .dataframe thead th {\n",
       "        text-align: right;\n",
       "    }\n",
       "</style>\n",
       "<table border=\"1\" class=\"dataframe\">\n",
       "  <thead>\n",
       "    <tr style=\"text-align: right;\">\n",
       "      <th></th>\n",
       "      <th>calls</th>\n",
       "      <th>minutes</th>\n",
       "      <th>messages</th>\n",
       "      <th>mb_used</th>\n",
       "      <th>is_ultra</th>\n",
       "    </tr>\n",
       "  </thead>\n",
       "  <tbody>\n",
       "    <tr>\n",
       "      <th>0</th>\n",
       "      <td>40.0</td>\n",
       "      <td>311.90</td>\n",
       "      <td>83.0</td>\n",
       "      <td>19915.42</td>\n",
       "      <td>0</td>\n",
       "    </tr>\n",
       "    <tr>\n",
       "      <th>1</th>\n",
       "      <td>85.0</td>\n",
       "      <td>516.75</td>\n",
       "      <td>56.0</td>\n",
       "      <td>22696.96</td>\n",
       "      <td>0</td>\n",
       "    </tr>\n",
       "    <tr>\n",
       "      <th>2</th>\n",
       "      <td>77.0</td>\n",
       "      <td>467.66</td>\n",
       "      <td>86.0</td>\n",
       "      <td>21060.45</td>\n",
       "      <td>0</td>\n",
       "    </tr>\n",
       "    <tr>\n",
       "      <th>3</th>\n",
       "      <td>106.0</td>\n",
       "      <td>745.53</td>\n",
       "      <td>81.0</td>\n",
       "      <td>8437.39</td>\n",
       "      <td>1</td>\n",
       "    </tr>\n",
       "    <tr>\n",
       "      <th>4</th>\n",
       "      <td>66.0</td>\n",
       "      <td>418.74</td>\n",
       "      <td>1.0</td>\n",
       "      <td>14502.75</td>\n",
       "      <td>0</td>\n",
       "    </tr>\n",
       "  </tbody>\n",
       "</table>\n",
       "</div>"
      ],
      "text/plain": [
       "   calls  minutes  messages   mb_used  is_ultra\n",
       "0   40.0   311.90      83.0  19915.42         0\n",
       "1   85.0   516.75      56.0  22696.96         0\n",
       "2   77.0   467.66      86.0  21060.45         0\n",
       "3  106.0   745.53      81.0   8437.39         1\n",
       "4   66.0   418.74       1.0  14502.75         0"
      ]
     },
     "execution_count": 4,
     "metadata": {},
     "output_type": "execute_result"
    }
   ],
   "source": [
    "df.head()"
   ]
  },
  {
   "cell_type": "code",
   "execution_count": 5,
   "metadata": {},
   "outputs": [
    {
     "data": {
      "text/html": [
       "<div>\n",
       "<style scoped>\n",
       "    .dataframe tbody tr th:only-of-type {\n",
       "        vertical-align: middle;\n",
       "    }\n",
       "\n",
       "    .dataframe tbody tr th {\n",
       "        vertical-align: top;\n",
       "    }\n",
       "\n",
       "    .dataframe thead th {\n",
       "        text-align: right;\n",
       "    }\n",
       "</style>\n",
       "<table border=\"1\" class=\"dataframe\">\n",
       "  <thead>\n",
       "    <tr style=\"text-align: right;\">\n",
       "      <th></th>\n",
       "      <th>calls</th>\n",
       "      <th>minutes</th>\n",
       "      <th>messages</th>\n",
       "      <th>mb_used</th>\n",
       "      <th>is_ultra</th>\n",
       "    </tr>\n",
       "  </thead>\n",
       "  <tbody>\n",
       "    <tr>\n",
       "      <th>count</th>\n",
       "      <td>3214.000000</td>\n",
       "      <td>3214.000000</td>\n",
       "      <td>3214.000000</td>\n",
       "      <td>3214.000000</td>\n",
       "      <td>3214.000000</td>\n",
       "    </tr>\n",
       "    <tr>\n",
       "      <th>mean</th>\n",
       "      <td>63.038892</td>\n",
       "      <td>438.208787</td>\n",
       "      <td>38.281269</td>\n",
       "      <td>17207.673836</td>\n",
       "      <td>0.306472</td>\n",
       "    </tr>\n",
       "    <tr>\n",
       "      <th>std</th>\n",
       "      <td>33.236368</td>\n",
       "      <td>234.569872</td>\n",
       "      <td>36.148326</td>\n",
       "      <td>7570.968246</td>\n",
       "      <td>0.461100</td>\n",
       "    </tr>\n",
       "    <tr>\n",
       "      <th>min</th>\n",
       "      <td>0.000000</td>\n",
       "      <td>0.000000</td>\n",
       "      <td>0.000000</td>\n",
       "      <td>0.000000</td>\n",
       "      <td>0.000000</td>\n",
       "    </tr>\n",
       "    <tr>\n",
       "      <th>25%</th>\n",
       "      <td>40.000000</td>\n",
       "      <td>274.575000</td>\n",
       "      <td>9.000000</td>\n",
       "      <td>12491.902500</td>\n",
       "      <td>0.000000</td>\n",
       "    </tr>\n",
       "    <tr>\n",
       "      <th>50%</th>\n",
       "      <td>62.000000</td>\n",
       "      <td>430.600000</td>\n",
       "      <td>30.000000</td>\n",
       "      <td>16943.235000</td>\n",
       "      <td>0.000000</td>\n",
       "    </tr>\n",
       "    <tr>\n",
       "      <th>75%</th>\n",
       "      <td>82.000000</td>\n",
       "      <td>571.927500</td>\n",
       "      <td>57.000000</td>\n",
       "      <td>21424.700000</td>\n",
       "      <td>1.000000</td>\n",
       "    </tr>\n",
       "    <tr>\n",
       "      <th>max</th>\n",
       "      <td>244.000000</td>\n",
       "      <td>1632.060000</td>\n",
       "      <td>224.000000</td>\n",
       "      <td>49745.730000</td>\n",
       "      <td>1.000000</td>\n",
       "    </tr>\n",
       "  </tbody>\n",
       "</table>\n",
       "</div>"
      ],
      "text/plain": [
       "             calls      minutes     messages       mb_used     is_ultra\n",
       "count  3214.000000  3214.000000  3214.000000   3214.000000  3214.000000\n",
       "mean     63.038892   438.208787    38.281269  17207.673836     0.306472\n",
       "std      33.236368   234.569872    36.148326   7570.968246     0.461100\n",
       "min       0.000000     0.000000     0.000000      0.000000     0.000000\n",
       "25%      40.000000   274.575000     9.000000  12491.902500     0.000000\n",
       "50%      62.000000   430.600000    30.000000  16943.235000     0.000000\n",
       "75%      82.000000   571.927500    57.000000  21424.700000     1.000000\n",
       "max     244.000000  1632.060000   224.000000  49745.730000     1.000000"
      ]
     },
     "execution_count": 5,
     "metadata": {},
     "output_type": "execute_result"
    }
   ],
   "source": [
    "df.describe()"
   ]
  },
  {
   "cell_type": "markdown",
   "metadata": {},
   "source": [
    "В датасете 5 столбцов, пропусков нет по этому предобработка не требуется"
   ]
  },
  {
   "cell_type": "markdown",
   "metadata": {},
   "source": [
    "## Разбейте данные на выборки"
   ]
  },
  {
   "cell_type": "code",
   "execution_count": 6,
   "metadata": {},
   "outputs": [],
   "source": [
    "features = df.drop(['is_ultra'], axis=1)\n",
    "target = df['is_ultra']"
   ]
  },
  {
   "cell_type": "code",
   "execution_count": 7,
   "metadata": {},
   "outputs": [],
   "source": [
    "#далим датасет на выборки: обучающую 60%, тестовую 20%, валидационную 20%\n",
    "train_features, test_features, train_target, test_target = train_test_split(\n",
    "    features, target, test_size=0.2,  stratify = target,  random_state=12345)"
   ]
  },
  {
   "cell_type": "code",
   "execution_count": 8,
   "metadata": {},
   "outputs": [],
   "source": [
    "train_features, valid_features, train_target, valid_target = train_test_split(\n",
    "    train_features, train_target, test_size=0.25, random_state=12345)"
   ]
  },
  {
   "cell_type": "markdown",
   "metadata": {},
   "source": [
    "## Исследуйте модели"
   ]
  },
  {
   "cell_type": "markdown",
   "metadata": {},
   "source": [
    "Т.к. у нас классификация, исследуем через: древо решений, случайный лес, логистическую регрессию"
   ]
  },
  {
   "cell_type": "markdown",
   "metadata": {},
   "source": [
    "### Древо решений:"
   ]
  },
  {
   "cell_type": "code",
   "execution_count": 9,
   "metadata": {},
   "outputs": [
    {
     "data": {
      "text/plain": [
       "0.6889580093312597"
      ]
     },
     "execution_count": 9,
     "metadata": {},
     "output_type": "execute_result"
    }
   ],
   "source": [
    "\n",
    "model = DecisionTreeClassifier(random_state=12345)\n",
    "model.fit(train_features, train_target)\n",
    "predictions = model.predict(valid_features)\n",
    "accuracy_score(valid_target, predictions)"
   ]
  },
  {
   "cell_type": "markdown",
   "metadata": {},
   "source": [
    "Доля правильных ответов составила 0,71, при минимальном показателе 0,75 данного показателя недостаточно. изменим глубину дерева"
   ]
  },
  {
   "cell_type": "code",
   "execution_count": 10,
   "metadata": {},
   "outputs": [
    {
     "name": "stdout",
     "output_type": "stream",
     "text": [
      "Лучший результат: 0.8009331259720062 с глубиной дерева 6\n"
     ]
    }
   ],
   "source": [
    "best_tree = None\n",
    "best_result = 0\n",
    "for depth in range(1, 10):\n",
    "    tree_model = DecisionTreeClassifier(random_state=12345, max_depth=depth)\n",
    "    tree_model.fit(train_features, train_target)\n",
    "    tree_predictions = tree_model.predict(valid_features)\n",
    "    result = accuracy_score(valid_target, tree_predictions)\n",
    "    if result > best_result:\n",
    "        best_tree = tree_model\n",
    "        best_result = result\n",
    "        best_depth = depth\n",
    "            \n",
    "print('Лучший результат:', best_result, 'с глубиной дерева', best_depth)"
   ]
  },
  {
   "cell_type": "markdown",
   "metadata": {},
   "source": [
    "Получили результат 0,77 при глубине дерева 7."
   ]
  },
  {
   "cell_type": "markdown",
   "metadata": {},
   "source": [
    "### Случайный лес"
   ]
  },
  {
   "cell_type": "code",
   "execution_count": 11,
   "metadata": {},
   "outputs": [
    {
     "name": "stdout",
     "output_type": "stream",
     "text": [
      "Лучший результат: 0.7947122861586314 с количеством деревьев 16\n"
     ]
    }
   ],
   "source": [
    "best_forest = None\n",
    "best_result = 0\n",
    "for est in range(1, 50):\n",
    "    forest_model = RandomForestClassifier(random_state=12345, n_estimators=est)\n",
    "    forest_model.fit(train_features, train_target)\n",
    "    result = forest_model.score(valid_features, valid_target)\n",
    "    if result > best_result:\n",
    "        best_forest = forest_model\n",
    "        best_result = result\n",
    "        best_est = est\n",
    "print('Лучший результат:', best_result, 'с количеством деревьев', best_est)"
   ]
  },
  {
   "cell_type": "markdown",
   "metadata": {},
   "source": [
    "В случайном лесе мы получили даже лучшие показатели: 0,79 с количеством деревьев 44, на текущий момент это наш фаворит"
   ]
  },
  {
   "cell_type": "markdown",
   "metadata": {},
   "source": [
    "### Логистическая регрессия"
   ]
  },
  {
   "cell_type": "code",
   "execution_count": 12,
   "metadata": {},
   "outputs": [
    {
     "name": "stdout",
     "output_type": "stream",
     "text": [
      "Точность логистической регрессии: 0.713841368584759\n"
     ]
    }
   ],
   "source": [
    "reg_model = LogisticRegression(random_state=12345)\n",
    "reg_model.fit(train_features, train_target)\n",
    "result = reg_model.score(valid_features, valid_target)\n",
    "print('Точность логистической регрессии:', result)"
   ]
  },
  {
   "cell_type": "markdown",
   "metadata": {},
   "source": [
    "Вывод:\n",
    "- Качество древа решений составляет 0,77\n",
    "- Качество случайного леса составляет 0,79\n",
    "- Качество логистической регрессии составляет 0,72 (не преодолела порог в 0,75)"
   ]
  },
  {
   "cell_type": "markdown",
   "metadata": {},
   "source": [
    "## Проверьте модель на тестовой выборке"
   ]
  },
  {
   "cell_type": "code",
   "execution_count": 13,
   "metadata": {},
   "outputs": [
    {
     "name": "stdout",
     "output_type": "stream",
     "text": [
      "Качество дерева решений: 0.7729393468118196\n",
      "Качество случайного леса: 0.7993779160186625\n",
      "Качество логистической регрессии: 0.713841368584759\n"
     ]
    }
   ],
   "source": [
    "#дерево решений\n",
    "print('Качество дерева решений:', best_tree.score(test_features, test_target))\n",
    "\n",
    "#случайный лес\n",
    "print('Качество случайного леса:', best_forest.score(test_features, test_target))\n",
    "\n",
    "#логистическая регрессия\n",
    "print('Качество логистической регрессии:', reg_model.score(test_features, test_target))"
   ]
  },
  {
   "cell_type": "markdown",
   "metadata": {},
   "source": [
    "Вывод: Как и по предыдущему выводу, лучшим оказался случайный лес с результатом 0,79"
   ]
  },
  {
   "cell_type": "markdown",
   "metadata": {},
   "source": [
    "## (бонус) Проверьте модели на адекватность"
   ]
  },
  {
   "cell_type": "code",
   "execution_count": 14,
   "metadata": {},
   "outputs": [
    {
     "name": "stdout",
     "output_type": "stream",
     "text": [
      "Точность для стратегии most_frequent : 0.6936236391912908\n",
      "Точность для стратегии prior : 0.6936236391912908\n",
      "Точность для стратегии stratified : 0.5800933125972006\n",
      "Точность для стратегии uniform : 0.4821150855365474\n"
     ]
    }
   ],
   "source": [
    "strategy = ['most_frequent', 'prior', 'stratified', 'uniform']\n",
    "for index in strategy:\n",
    "    dummy_clf = DummyClassifier(strategy=index, random_state=12345)\n",
    "    dummy_clf.fit(train_features, train_target)\n",
    "    score = dummy_clf.score(test_features, test_target)\n",
    "    print('Точность для стратегии', index, ':', score)"
   ]
  },
  {
   "cell_type": "markdown",
   "metadata": {},
   "source": [
    "При проверке на простых способах показателя 0,75 не наблюдается, значит наша модель работает корректно"
   ]
  }
 ],
 "metadata": {
  "ExecuteTimeLog": [
   {
    "duration": 1523,
    "start_time": "2022-04-01T11:28:35.634Z"
   },
   {
    "duration": 103,
    "start_time": "2022-04-01T11:28:57.681Z"
   },
   {
    "duration": 16,
    "start_time": "2022-04-01T11:28:59.465Z"
   },
   {
    "duration": 13,
    "start_time": "2022-04-01T11:29:00.676Z"
   },
   {
    "duration": 18,
    "start_time": "2022-04-01T11:29:12.618Z"
   },
   {
    "duration": 4,
    "start_time": "2022-04-01T11:31:53.407Z"
   },
   {
    "duration": 5,
    "start_time": "2022-04-01T11:33:13.027Z"
   },
   {
    "duration": 6,
    "start_time": "2022-04-01T11:34:53.085Z"
   },
   {
    "duration": 5,
    "start_time": "2022-04-01T11:35:01.221Z"
   },
   {
    "duration": 5,
    "start_time": "2022-04-01T11:35:38.241Z"
   },
   {
    "duration": 4,
    "start_time": "2022-04-01T11:36:28.101Z"
   },
   {
    "duration": 24,
    "start_time": "2022-04-01T11:38:55.577Z"
   },
   {
    "duration": 174,
    "start_time": "2022-04-01T12:08:28.897Z"
   },
   {
    "duration": 11,
    "start_time": "2022-04-01T12:15:07.975Z"
   },
   {
    "duration": 64,
    "start_time": "2022-04-01T12:15:19.079Z"
   },
   {
    "duration": 19,
    "start_time": "2022-04-01T12:34:18.235Z"
   },
   {
    "duration": 3,
    "start_time": "2022-04-01T12:34:51.596Z"
   },
   {
    "duration": 5348,
    "start_time": "2022-04-01T12:35:58.034Z"
   },
   {
    "duration": 3,
    "start_time": "2022-04-01T12:37:24.497Z"
   },
   {
    "duration": 37,
    "start_time": "2022-04-01T12:38:57.561Z"
   },
   {
    "duration": 22,
    "start_time": "2022-04-01T12:48:14.170Z"
   },
   {
    "duration": 21,
    "start_time": "2022-04-01T12:48:30.621Z"
   },
   {
    "duration": 3,
    "start_time": "2022-04-01T12:50:39.686Z"
   },
   {
    "duration": 23,
    "start_time": "2022-04-01T12:50:39.692Z"
   },
   {
    "duration": 12,
    "start_time": "2022-04-01T12:50:39.716Z"
   },
   {
    "duration": 17,
    "start_time": "2022-04-01T12:50:39.730Z"
   },
   {
    "duration": 8,
    "start_time": "2022-04-01T12:50:39.750Z"
   },
   {
    "duration": 9,
    "start_time": "2022-04-01T12:50:39.759Z"
   },
   {
    "duration": 7,
    "start_time": "2022-04-01T12:50:39.770Z"
   },
   {
    "duration": 33,
    "start_time": "2022-04-01T12:50:39.779Z"
   },
   {
    "duration": 65,
    "start_time": "2022-04-01T12:50:39.813Z"
   },
   {
    "duration": 5421,
    "start_time": "2022-04-01T12:50:39.880Z"
   },
   {
    "duration": 39,
    "start_time": "2022-04-01T12:50:45.302Z"
   },
   {
    "duration": 48,
    "start_time": "2022-04-01T12:50:45.343Z"
   },
   {
    "duration": 129,
    "start_time": "2022-04-01T12:50:45.393Z"
   },
   {
    "duration": 1218,
    "start_time": "2022-04-02T11:01:10.515Z"
   },
   {
    "duration": 23,
    "start_time": "2022-04-02T11:01:11.735Z"
   },
   {
    "duration": 13,
    "start_time": "2022-04-02T11:01:11.760Z"
   },
   {
    "duration": 16,
    "start_time": "2022-04-02T11:01:11.775Z"
   },
   {
    "duration": 4,
    "start_time": "2022-04-02T11:01:11.793Z"
   },
   {
    "duration": 7,
    "start_time": "2022-04-02T11:01:11.799Z"
   },
   {
    "duration": 5,
    "start_time": "2022-04-02T11:01:11.808Z"
   },
   {
    "duration": 32,
    "start_time": "2022-04-02T11:01:11.815Z"
   },
   {
    "duration": 61,
    "start_time": "2022-04-02T11:01:11.848Z"
   },
   {
    "duration": 5181,
    "start_time": "2022-04-02T11:01:11.912Z"
   },
   {
    "duration": 46,
    "start_time": "2022-04-02T11:01:17.095Z"
   },
   {
    "duration": 23,
    "start_time": "2022-04-02T11:01:17.143Z"
   },
   {
    "duration": 171,
    "start_time": "2022-04-02T11:01:17.168Z"
   },
   {
    "duration": 64,
    "start_time": "2022-04-03T20:23:54.405Z"
   },
   {
    "duration": 1386,
    "start_time": "2022-04-03T20:23:57.727Z"
   },
   {
    "duration": 31,
    "start_time": "2022-04-03T20:23:59.116Z"
   },
   {
    "duration": 17,
    "start_time": "2022-04-03T20:23:59.149Z"
   },
   {
    "duration": 25,
    "start_time": "2022-04-03T20:23:59.169Z"
   },
   {
    "duration": 32,
    "start_time": "2022-04-03T20:23:59.196Z"
   },
   {
    "duration": 5,
    "start_time": "2022-04-03T20:23:59.230Z"
   },
   {
    "duration": 7,
    "start_time": "2022-04-03T20:23:59.237Z"
   },
   {
    "duration": 36,
    "start_time": "2022-04-03T20:23:59.246Z"
   },
   {
    "duration": 22,
    "start_time": "2022-04-03T20:23:59.284Z"
   },
   {
    "duration": 100,
    "start_time": "2022-04-03T20:23:59.309Z"
   },
   {
    "duration": 6217,
    "start_time": "2022-04-03T20:23:59.411Z"
   },
   {
    "duration": 62,
    "start_time": "2022-04-03T20:24:05.630Z"
   },
   {
    "duration": 25,
    "start_time": "2022-04-03T20:24:05.694Z"
   },
   {
    "duration": 1102,
    "start_time": "2022-04-06T07:25:27.962Z"
   },
   {
    "duration": 18,
    "start_time": "2022-04-06T07:25:29.066Z"
   },
   {
    "duration": 12,
    "start_time": "2022-04-06T07:25:29.085Z"
   },
   {
    "duration": 22,
    "start_time": "2022-04-06T07:25:29.099Z"
   },
   {
    "duration": 24,
    "start_time": "2022-04-06T07:25:29.123Z"
   },
   {
    "duration": 4,
    "start_time": "2022-04-06T07:25:29.148Z"
   },
   {
    "duration": 8,
    "start_time": "2022-04-06T07:25:29.153Z"
   },
   {
    "duration": 7,
    "start_time": "2022-04-06T07:25:29.162Z"
   },
   {
    "duration": 15,
    "start_time": "2022-04-06T07:25:29.171Z"
   },
   {
    "duration": 69,
    "start_time": "2022-04-06T07:25:29.188Z"
   },
   {
    "duration": 4625,
    "start_time": "2022-04-06T07:25:29.259Z"
   },
   {
    "duration": 37,
    "start_time": "2022-04-06T07:25:33.886Z"
   },
   {
    "duration": 20,
    "start_time": "2022-04-06T07:25:33.937Z"
   },
   {
    "duration": 4,
    "start_time": "2022-04-06T07:27:10.386Z"
   },
   {
    "duration": 16,
    "start_time": "2022-04-06T07:27:10.392Z"
   },
   {
    "duration": 11,
    "start_time": "2022-04-06T07:27:10.410Z"
   },
   {
    "duration": 12,
    "start_time": "2022-04-06T07:27:10.423Z"
   },
   {
    "duration": 24,
    "start_time": "2022-04-06T07:27:10.437Z"
   },
   {
    "duration": 3,
    "start_time": "2022-04-06T07:27:10.463Z"
   },
   {
    "duration": 9,
    "start_time": "2022-04-06T07:27:10.467Z"
   },
   {
    "duration": 6,
    "start_time": "2022-04-06T07:27:10.477Z"
   },
   {
    "duration": 19,
    "start_time": "2022-04-06T07:27:10.485Z"
   },
   {
    "duration": 71,
    "start_time": "2022-04-06T07:27:10.506Z"
   },
   {
    "duration": 4511,
    "start_time": "2022-04-06T07:27:10.578Z"
   },
   {
    "duration": 34,
    "start_time": "2022-04-06T07:27:15.091Z"
   },
   {
    "duration": 27,
    "start_time": "2022-04-06T07:27:15.127Z"
   },
   {
    "duration": 9,
    "start_time": "2022-04-06T07:27:15.156Z"
   },
   {
    "duration": 105,
    "start_time": "2022-04-06T07:29:58.725Z"
   },
   {
    "duration": 10,
    "start_time": "2022-04-06T07:30:06.213Z"
   },
   {
    "duration": 1163,
    "start_time": "2022-04-07T18:59:56.911Z"
   },
   {
    "duration": 22,
    "start_time": "2022-04-07T18:59:58.076Z"
   },
   {
    "duration": 11,
    "start_time": "2022-04-07T18:59:58.100Z"
   },
   {
    "duration": 18,
    "start_time": "2022-04-07T18:59:58.113Z"
   },
   {
    "duration": 28,
    "start_time": "2022-04-07T18:59:58.133Z"
   },
   {
    "duration": 3,
    "start_time": "2022-04-07T18:59:58.163Z"
   },
   {
    "duration": 14,
    "start_time": "2022-04-07T18:59:58.168Z"
   },
   {
    "duration": 99,
    "start_time": "2022-04-07T18:59:58.183Z"
   },
   {
    "duration": 0,
    "start_time": "2022-04-07T18:59:58.284Z"
   },
   {
    "duration": 0,
    "start_time": "2022-04-07T18:59:58.286Z"
   },
   {
    "duration": 0,
    "start_time": "2022-04-07T18:59:58.287Z"
   },
   {
    "duration": 0,
    "start_time": "2022-04-07T18:59:58.289Z"
   },
   {
    "duration": 0,
    "start_time": "2022-04-07T18:59:58.290Z"
   },
   {
    "duration": 0,
    "start_time": "2022-04-07T18:59:58.291Z"
   },
   {
    "duration": 5,
    "start_time": "2022-04-07T19:00:31.814Z"
   },
   {
    "duration": 7,
    "start_time": "2022-04-07T19:00:35.621Z"
   },
   {
    "duration": 6,
    "start_time": "2022-04-07T19:00:36.483Z"
   },
   {
    "duration": 3,
    "start_time": "2022-04-07T19:00:39.237Z"
   },
   {
    "duration": 19,
    "start_time": "2022-04-07T19:00:39.242Z"
   },
   {
    "duration": 9,
    "start_time": "2022-04-07T19:00:39.263Z"
   },
   {
    "duration": 9,
    "start_time": "2022-04-07T19:00:39.274Z"
   },
   {
    "duration": 19,
    "start_time": "2022-04-07T19:00:39.286Z"
   },
   {
    "duration": 3,
    "start_time": "2022-04-07T19:00:39.307Z"
   },
   {
    "duration": 7,
    "start_time": "2022-04-07T19:00:39.312Z"
   },
   {
    "duration": 5,
    "start_time": "2022-04-07T19:00:39.320Z"
   },
   {
    "duration": 49,
    "start_time": "2022-04-07T19:00:39.326Z"
   },
   {
    "duration": 53,
    "start_time": "2022-04-07T19:00:39.376Z"
   },
   {
    "duration": 4421,
    "start_time": "2022-04-07T19:00:39.431Z"
   },
   {
    "duration": 19,
    "start_time": "2022-04-07T19:00:43.854Z"
   },
   {
    "duration": 12,
    "start_time": "2022-04-07T19:00:43.875Z"
   },
   {
    "duration": 9,
    "start_time": "2022-04-07T19:00:43.889Z"
   },
   {
    "duration": 5,
    "start_time": "2022-04-07T19:01:36.655Z"
   },
   {
    "duration": 8,
    "start_time": "2022-04-07T19:01:40.229Z"
   },
   {
    "duration": 12,
    "start_time": "2022-04-07T19:01:50.131Z"
   },
   {
    "duration": 12,
    "start_time": "2022-04-07T19:02:23.957Z"
   },
   {
    "duration": 13,
    "start_time": "2022-04-07T19:02:25.502Z"
   },
   {
    "duration": 6,
    "start_time": "2022-04-07T19:02:26.247Z"
   },
   {
    "duration": 11,
    "start_time": "2022-04-07T19:02:26.977Z"
   },
   {
    "duration": 13,
    "start_time": "2022-04-07T19:02:39.188Z"
   },
   {
    "duration": 7,
    "start_time": "2022-04-07T19:02:59.746Z"
   },
   {
    "duration": 4,
    "start_time": "2022-04-07T19:03:01.129Z"
   },
   {
    "duration": 1134,
    "start_time": "2022-09-16T12:38:16.342Z"
   },
   {
    "duration": 122,
    "start_time": "2022-09-16T12:38:17.477Z"
   },
   {
    "duration": 25,
    "start_time": "2022-09-16T12:38:17.601Z"
   },
   {
    "duration": 24,
    "start_time": "2022-09-16T12:38:17.628Z"
   },
   {
    "duration": 22,
    "start_time": "2022-09-16T12:38:17.653Z"
   },
   {
    "duration": 14,
    "start_time": "2022-09-16T12:38:17.677Z"
   },
   {
    "duration": 12,
    "start_time": "2022-09-16T12:38:17.692Z"
   },
   {
    "duration": 11,
    "start_time": "2022-09-16T12:38:17.706Z"
   },
   {
    "duration": 43,
    "start_time": "2022-09-16T12:38:17.718Z"
   },
   {
    "duration": 85,
    "start_time": "2022-09-16T12:38:17.764Z"
   },
   {
    "duration": 5509,
    "start_time": "2022-09-16T12:38:17.851Z"
   },
   {
    "duration": 20,
    "start_time": "2022-09-16T12:38:23.362Z"
   },
   {
    "duration": 31,
    "start_time": "2022-09-16T12:38:23.384Z"
   },
   {
    "duration": 10,
    "start_time": "2022-09-16T12:38:23.419Z"
   }
  ],
  "kernelspec": {
   "display_name": "Python 3 (ipykernel)",
   "language": "python",
   "name": "python3"
  },
  "language_info": {
   "codemirror_mode": {
    "name": "ipython",
    "version": 3
   },
   "file_extension": ".py",
   "mimetype": "text/x-python",
   "name": "python",
   "nbconvert_exporter": "python",
   "pygments_lexer": "ipython3",
   "version": "3.9.5"
  },
  "toc": {
   "base_numbering": 1,
   "nav_menu": {},
   "number_sections": true,
   "sideBar": true,
   "skip_h1_title": true,
   "title_cell": "Table of Contents",
   "title_sidebar": "Contents",
   "toc_cell": false,
   "toc_position": {},
   "toc_section_display": true,
   "toc_window_display": false
  }
 },
 "nbformat": 4,
 "nbformat_minor": 2
}
