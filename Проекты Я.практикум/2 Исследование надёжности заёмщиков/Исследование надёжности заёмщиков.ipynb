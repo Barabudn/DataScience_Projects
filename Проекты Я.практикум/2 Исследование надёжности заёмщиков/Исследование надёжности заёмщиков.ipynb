{
 "cells": [
  {
   "cell_type": "markdown",
   "metadata": {},
   "source": [
    "# Исследование надёжности заёмщиков\n",
    "\n",
    "Заказчик — кредитный отдел банка. Нужно разобраться, влияет ли семейное положение и количество детей клиента на факт погашения кредита в срок. Входные данные от банка — статистика о платёжеспособности клиентов.\n",
    "\n",
    "Результаты исследования будут учтены при построении модели **кредитного скоринга** — специальной системы, которая оценивает способность потенциального заёмщика вернуть кредит банку."
   ]
  },
  {
   "cell_type": "markdown",
   "metadata": {},
   "source": [
    "## Открываем файл с данными и изучаем общую информацию"
   ]
  },
  {
   "cell_type": "code",
   "execution_count": 1,
   "metadata": {
    "scrolled": true
   },
   "outputs": [
    {
     "name": "stdout",
     "output_type": "stream",
     "text": [
      "<class 'pandas.core.frame.DataFrame'>\n",
      "RangeIndex: 21525 entries, 0 to 21524\n",
      "Data columns (total 12 columns):\n",
      " #   Column            Non-Null Count  Dtype  \n",
      "---  ------            --------------  -----  \n",
      " 0   children          21525 non-null  int64  \n",
      " 1   days_employed     19351 non-null  float64\n",
      " 2   dob_years         21525 non-null  int64  \n",
      " 3   education         21525 non-null  object \n",
      " 4   education_id      21525 non-null  int64  \n",
      " 5   family_status     21525 non-null  object \n",
      " 6   family_status_id  21525 non-null  int64  \n",
      " 7   gender            21525 non-null  object \n",
      " 8   income_type       21525 non-null  object \n",
      " 9   debt              21525 non-null  int64  \n",
      " 10  total_income      19351 non-null  float64\n",
      " 11  purpose           21525 non-null  object \n",
      "dtypes: float64(2), int64(5), object(5)\n",
      "memory usage: 2.0+ MB\n"
     ]
    }
   ],
   "source": [
    "import pandas as pd\n",
    "df = pd.read_csv('D://Игорь/projects/data.csv')\n",
    "df.info()\n",
    "#рассмотрим основную информацию о датасете."
   ]
  },
  {
   "cell_type": "code",
   "execution_count": 2,
   "metadata": {},
   "outputs": [
    {
     "data": {
      "text/html": [
       "<div>\n",
       "<style scoped>\n",
       "    .dataframe tbody tr th:only-of-type {\n",
       "        vertical-align: middle;\n",
       "    }\n",
       "\n",
       "    .dataframe tbody tr th {\n",
       "        vertical-align: top;\n",
       "    }\n",
       "\n",
       "    .dataframe thead th {\n",
       "        text-align: right;\n",
       "    }\n",
       "</style>\n",
       "<table border=\"1\" class=\"dataframe\">\n",
       "  <thead>\n",
       "    <tr style=\"text-align: right;\">\n",
       "      <th></th>\n",
       "      <th>children</th>\n",
       "      <th>days_employed</th>\n",
       "      <th>dob_years</th>\n",
       "      <th>education</th>\n",
       "      <th>education_id</th>\n",
       "      <th>family_status</th>\n",
       "      <th>family_status_id</th>\n",
       "      <th>gender</th>\n",
       "      <th>income_type</th>\n",
       "      <th>debt</th>\n",
       "      <th>total_income</th>\n",
       "      <th>purpose</th>\n",
       "    </tr>\n",
       "  </thead>\n",
       "  <tbody>\n",
       "    <tr>\n",
       "      <th>0</th>\n",
       "      <td>1</td>\n",
       "      <td>-8437.673028</td>\n",
       "      <td>42</td>\n",
       "      <td>высшее</td>\n",
       "      <td>0</td>\n",
       "      <td>женат / замужем</td>\n",
       "      <td>0</td>\n",
       "      <td>F</td>\n",
       "      <td>сотрудник</td>\n",
       "      <td>0</td>\n",
       "      <td>253875.639453</td>\n",
       "      <td>покупка жилья</td>\n",
       "    </tr>\n",
       "    <tr>\n",
       "      <th>1</th>\n",
       "      <td>1</td>\n",
       "      <td>-4024.803754</td>\n",
       "      <td>36</td>\n",
       "      <td>среднее</td>\n",
       "      <td>1</td>\n",
       "      <td>женат / замужем</td>\n",
       "      <td>0</td>\n",
       "      <td>F</td>\n",
       "      <td>сотрудник</td>\n",
       "      <td>0</td>\n",
       "      <td>112080.014102</td>\n",
       "      <td>приобретение автомобиля</td>\n",
       "    </tr>\n",
       "    <tr>\n",
       "      <th>2</th>\n",
       "      <td>0</td>\n",
       "      <td>-5623.422610</td>\n",
       "      <td>33</td>\n",
       "      <td>Среднее</td>\n",
       "      <td>1</td>\n",
       "      <td>женат / замужем</td>\n",
       "      <td>0</td>\n",
       "      <td>M</td>\n",
       "      <td>сотрудник</td>\n",
       "      <td>0</td>\n",
       "      <td>145885.952297</td>\n",
       "      <td>покупка жилья</td>\n",
       "    </tr>\n",
       "    <tr>\n",
       "      <th>3</th>\n",
       "      <td>3</td>\n",
       "      <td>-4124.747207</td>\n",
       "      <td>32</td>\n",
       "      <td>среднее</td>\n",
       "      <td>1</td>\n",
       "      <td>женат / замужем</td>\n",
       "      <td>0</td>\n",
       "      <td>M</td>\n",
       "      <td>сотрудник</td>\n",
       "      <td>0</td>\n",
       "      <td>267628.550329</td>\n",
       "      <td>дополнительное образование</td>\n",
       "    </tr>\n",
       "    <tr>\n",
       "      <th>4</th>\n",
       "      <td>0</td>\n",
       "      <td>340266.072047</td>\n",
       "      <td>53</td>\n",
       "      <td>среднее</td>\n",
       "      <td>1</td>\n",
       "      <td>гражданский брак</td>\n",
       "      <td>1</td>\n",
       "      <td>F</td>\n",
       "      <td>пенсионер</td>\n",
       "      <td>0</td>\n",
       "      <td>158616.077870</td>\n",
       "      <td>сыграть свадьбу</td>\n",
       "    </tr>\n",
       "    <tr>\n",
       "      <th>5</th>\n",
       "      <td>0</td>\n",
       "      <td>-926.185831</td>\n",
       "      <td>27</td>\n",
       "      <td>высшее</td>\n",
       "      <td>0</td>\n",
       "      <td>гражданский брак</td>\n",
       "      <td>1</td>\n",
       "      <td>M</td>\n",
       "      <td>компаньон</td>\n",
       "      <td>0</td>\n",
       "      <td>255763.565419</td>\n",
       "      <td>покупка жилья</td>\n",
       "    </tr>\n",
       "    <tr>\n",
       "      <th>6</th>\n",
       "      <td>0</td>\n",
       "      <td>-2879.202052</td>\n",
       "      <td>43</td>\n",
       "      <td>высшее</td>\n",
       "      <td>0</td>\n",
       "      <td>женат / замужем</td>\n",
       "      <td>0</td>\n",
       "      <td>F</td>\n",
       "      <td>компаньон</td>\n",
       "      <td>0</td>\n",
       "      <td>240525.971920</td>\n",
       "      <td>операции с жильем</td>\n",
       "    </tr>\n",
       "    <tr>\n",
       "      <th>7</th>\n",
       "      <td>0</td>\n",
       "      <td>-152.779569</td>\n",
       "      <td>50</td>\n",
       "      <td>СРЕДНЕЕ</td>\n",
       "      <td>1</td>\n",
       "      <td>женат / замужем</td>\n",
       "      <td>0</td>\n",
       "      <td>M</td>\n",
       "      <td>сотрудник</td>\n",
       "      <td>0</td>\n",
       "      <td>135823.934197</td>\n",
       "      <td>образование</td>\n",
       "    </tr>\n",
       "    <tr>\n",
       "      <th>8</th>\n",
       "      <td>2</td>\n",
       "      <td>-6929.865299</td>\n",
       "      <td>35</td>\n",
       "      <td>ВЫСШЕЕ</td>\n",
       "      <td>0</td>\n",
       "      <td>гражданский брак</td>\n",
       "      <td>1</td>\n",
       "      <td>F</td>\n",
       "      <td>сотрудник</td>\n",
       "      <td>0</td>\n",
       "      <td>95856.832424</td>\n",
       "      <td>на проведение свадьбы</td>\n",
       "    </tr>\n",
       "    <tr>\n",
       "      <th>9</th>\n",
       "      <td>0</td>\n",
       "      <td>-2188.756445</td>\n",
       "      <td>41</td>\n",
       "      <td>среднее</td>\n",
       "      <td>1</td>\n",
       "      <td>женат / замужем</td>\n",
       "      <td>0</td>\n",
       "      <td>M</td>\n",
       "      <td>сотрудник</td>\n",
       "      <td>0</td>\n",
       "      <td>144425.938277</td>\n",
       "      <td>покупка жилья для семьи</td>\n",
       "    </tr>\n",
       "  </tbody>\n",
       "</table>\n",
       "</div>"
      ],
      "text/plain": [
       "   children  days_employed  dob_years education  education_id  \\\n",
       "0         1   -8437.673028         42    высшее             0   \n",
       "1         1   -4024.803754         36   среднее             1   \n",
       "2         0   -5623.422610         33   Среднее             1   \n",
       "3         3   -4124.747207         32   среднее             1   \n",
       "4         0  340266.072047         53   среднее             1   \n",
       "5         0    -926.185831         27    высшее             0   \n",
       "6         0   -2879.202052         43    высшее             0   \n",
       "7         0    -152.779569         50   СРЕДНЕЕ             1   \n",
       "8         2   -6929.865299         35    ВЫСШЕЕ             0   \n",
       "9         0   -2188.756445         41   среднее             1   \n",
       "\n",
       "      family_status  family_status_id gender income_type  debt   total_income  \\\n",
       "0   женат / замужем                 0      F   сотрудник     0  253875.639453   \n",
       "1   женат / замужем                 0      F   сотрудник     0  112080.014102   \n",
       "2   женат / замужем                 0      M   сотрудник     0  145885.952297   \n",
       "3   женат / замужем                 0      M   сотрудник     0  267628.550329   \n",
       "4  гражданский брак                 1      F   пенсионер     0  158616.077870   \n",
       "5  гражданский брак                 1      M   компаньон     0  255763.565419   \n",
       "6   женат / замужем                 0      F   компаньон     0  240525.971920   \n",
       "7   женат / замужем                 0      M   сотрудник     0  135823.934197   \n",
       "8  гражданский брак                 1      F   сотрудник     0   95856.832424   \n",
       "9   женат / замужем                 0      M   сотрудник     0  144425.938277   \n",
       "\n",
       "                      purpose  \n",
       "0               покупка жилья  \n",
       "1     приобретение автомобиля  \n",
       "2               покупка жилья  \n",
       "3  дополнительное образование  \n",
       "4             сыграть свадьбу  \n",
       "5               покупка жилья  \n",
       "6           операции с жильем  \n",
       "7                 образование  \n",
       "8       на проведение свадьбы  \n",
       "9     покупка жилья для семьи  "
      ]
     },
     "metadata": {},
     "output_type": "display_data"
    }
   ],
   "source": [
    "display(df.head(10))"
   ]
  },
  {
   "cell_type": "markdown",
   "metadata": {},
   "source": [
    "### **Вывод:**\n",
    "- У нас в датасете 12 столбцов.\n",
    "- Количеством детей, если смотреть только первые 10 значений - все актуально.\n",
    "- Количество отработанных дней. Здесь сразу видны отриательные значения.\n",
    "- Возраст клиента.\n",
    "- Образование. Обратим внимание на то что образование написано в разных регистрах.\n",
    "- Идентификатор образования.\n",
    "- Семейное положение. (проверить на регистр)\n",
    "- Идентификатор семейного положения.\n",
    "- Пол.\n",
    "- Сфера деятельности.\n",
    "- Наличие задолженности.\n",
    "- Доход.\n",
    "- Цель кредита."
   ]
  },
  {
   "cell_type": "markdown",
   "metadata": {},
   "source": [
    "## Предобработка данных"
   ]
  },
  {
   "cell_type": "markdown",
   "metadata": {},
   "source": [
    "### Обработка пропусков"
   ]
  },
  {
   "cell_type": "code",
   "execution_count": 3,
   "metadata": {
    "scrolled": true
   },
   "outputs": [
    {
     "name": "stdout",
     "output_type": "stream",
     "text": [
      "children            0.000000\n",
      "days_employed       0.100999\n",
      "dob_years           0.000000\n",
      "education           0.000000\n",
      "education_id        0.000000\n",
      "family_status       0.000000\n",
      "family_status_id    0.000000\n",
      "gender              0.000000\n",
      "income_type         0.000000\n",
      "debt                0.000000\n",
      "total_income        0.100999\n",
      "purpose             0.000000\n",
      "dtype: float64\n",
      "0     -8437.673028\n",
      "1     -4024.803754\n",
      "2     -5623.422610\n",
      "3     -4124.747207\n",
      "4    340266.072047\n",
      "5      -926.185831\n",
      "6     -2879.202052\n",
      "7      -152.779569\n",
      "8     -6929.865299\n",
      "9     -2188.756445\n",
      "Name: days_employed, dtype: float64\n",
      "0     8437.673028\n",
      "1     4024.803754\n",
      "2     5623.422610\n",
      "3     4124.747207\n",
      "4    14177.753002\n",
      "5      926.185831\n",
      "6     2879.202052\n",
      "7      152.779569\n",
      "8     6929.865299\n",
      "9     2188.756445\n",
      "Name: days_employed, dtype: float64\n",
      "children            0.0\n",
      "days_employed       0.0\n",
      "dob_years           0.0\n",
      "education           0.0\n",
      "education_id        0.0\n",
      "family_status       0.0\n",
      "family_status_id    0.0\n",
      "gender              0.0\n",
      "income_type         0.0\n",
      "debt                0.0\n",
      "total_income        0.0\n",
      "purpose             0.0\n",
      "dtype: float64\n"
     ]
    }
   ],
   "source": [
    "print(df.isna().mean())\n",
    "# у нас имеются пропущенные значиения в столбце с количеством отработанных дней и доходом. \n",
    "print(df['days_employed'].head(10))\n",
    "#есть предположение что положительные значения в часах а не в днях, т.к. 340 266 / 24 даст ответ 14 177, что более логично.\n",
    "def fixed_days_employed(row):\n",
    "    if row> 0:\n",
    "        row = row / 24\n",
    "        return row\n",
    "    elif row < 0:\n",
    "        row = row * -1\n",
    "        return row\n",
    "    else:\n",
    "        return row\n",
    "df.dropna(inplace=True)\n",
    "\n",
    "df['days_employed'] = df['days_employed'].apply(fixed_days_employed)\n",
    "print (df['days_employed'].head(10))\n",
    "#df['days_employed'] = df['days_employed'].fillna(0)\n",
    "#и повторно выведем на экран\n",
    "print(df.isna().mean())"
   ]
  },
  {
   "cell_type": "code",
   "execution_count": 4,
   "metadata": {},
   "outputs": [],
   "source": [
    "# теперь необходимо убрать пропуски в доходе.Проще всего будет заменить их на 0, но т.к. их больше 10% лучше будет поменять\n",
    "df['total_income'] = df['total_income'].fillna(df.groupby('income_type')['total_income'].transform('median'))\n"
   ]
  },
  {
   "cell_type": "code",
   "execution_count": 5,
   "metadata": {},
   "outputs": [
    {
     "name": "stdout",
     "output_type": "stream",
     "text": [
      "уникальные days_employed : [8437.67302776 4024.80375385 5623.42261023 ... 2113.3468877  3112.4817052\n",
      " 1984.50758853]\n",
      "уникальные education : ['высшее' 'среднее' 'Среднее' 'СРЕДНЕЕ' 'ВЫСШЕЕ' 'неоконченное высшее'\n",
      " 'начальное' 'Высшее' 'НЕОКОНЧЕННОЕ ВЫСШЕЕ' 'Неоконченное высшее'\n",
      " 'НАЧАЛЬНОЕ' 'Начальное' 'Ученая степень' 'УЧЕНАЯ СТЕПЕНЬ'\n",
      " 'ученая степень']\n",
      "уникальные family_status : ['женат / замужем' 'гражданский брак' 'вдовец / вдова' 'в разводе'\n",
      " 'Не женат / не замужем']\n",
      "уникальные gender : ['F' 'M' 'XNA']\n",
      "уникальные income_type : ['сотрудник' 'пенсионер' 'компаньон' 'госслужащий' 'безработный' 'студент'\n",
      " 'предприниматель' 'в декрете']\n",
      "уникальные total_income : [253875.6394526  112080.01410244 145885.95229686 ...  89672.56115303\n",
      " 244093.05050043  82047.41889948]\n",
      "уникальные purpose : ['покупка жилья' 'приобретение автомобиля' 'дополнительное образование'\n",
      " 'сыграть свадьбу' 'операции с жильем' 'образование'\n",
      " 'на проведение свадьбы' 'покупка жилья для семьи' 'покупка недвижимости'\n",
      " 'покупка коммерческой недвижимости' 'покупка жилой недвижимости'\n",
      " 'строительство собственной недвижимости' 'недвижимость'\n",
      " 'строительство недвижимости' 'на покупку подержанного автомобиля'\n",
      " 'на покупку своего автомобиля' 'операции с коммерческой недвижимостью'\n",
      " 'жилье' 'операции со своей недвижимостью' 'автомобили'\n",
      " 'заняться образованием' 'получение образования'\n",
      " 'сделка с подержанным автомобилем' 'автомобиль' 'свадьба'\n",
      " 'получение дополнительного образования' 'покупка своего жилья'\n",
      " 'операции с недвижимостью' 'получение высшего образования'\n",
      " 'свой автомобиль' 'сделка с автомобилем' 'профильное образование'\n",
      " 'высшее образование' 'покупка жилья для сдачи' 'на покупку автомобиля'\n",
      " 'строительство жилой недвижимости' 'ремонт жилью'\n",
      " 'заняться высшим образованием']\n",
      "уникальные children : [ 1  0  3  2 -1  4 20  5]\n"
     ]
    }
   ],
   "source": [
    "#проверим необходимые столбцы на уникальные значения\n",
    "print('уникальные days_employed :', df['days_employed'].unique())\n",
    "print('уникальные education :', df['education'].unique())\n",
    "print('уникальные family_status :', df['family_status'].unique())\n",
    "print('уникальные gender :', df['gender'].unique())\n",
    "print('уникальные income_type :', df['income_type'].unique())\n",
    "print('уникальные total_income :', df['total_income'].unique())\n",
    "print('уникальные purpose :', df['purpose'].unique())\n",
    "print('уникальные children :', df['children'].unique())\n"
   ]
  },
  {
   "cell_type": "code",
   "execution_count": 6,
   "metadata": {
    "scrolled": true
   },
   "outputs": [
    {
     "name": "stdout",
     "output_type": "stream",
     "text": [
      "       children  days_employed  dob_years            education  education_id  \\\n",
      "10701         0    2358.600502         24  неоконченное высшее             2   \n",
      "\n",
      "          family_status  family_status_id gender income_type  debt  \\\n",
      "10701  гражданский брак                 1    XNA   компаньон     0   \n",
      "\n",
      "        total_income               purpose  \n",
      "10701  203905.157261  покупка недвижимости  \n",
      "   children  days_employed  dob_years education  education_id  \\\n",
      "0         1    8437.673028         42    высшее             0   \n",
      "1         1    4024.803754         36   среднее             1   \n",
      "2         0    5623.422610         33   Среднее             1   \n",
      "3         3    4124.747207         32   среднее             1   \n",
      "4         0   14177.753002         53   среднее             1   \n",
      "5         0     926.185831         27    высшее             0   \n",
      "6         0    2879.202052         43    высшее             0   \n",
      "7         0     152.779569         50   СРЕДНЕЕ             1   \n",
      "8         2    6929.865299         35    ВЫСШЕЕ             0   \n",
      "9         0    2188.756445         41   среднее             1   \n",
      "\n",
      "      family_status  family_status_id gender income_type  debt   total_income  \\\n",
      "0   женат / замужем                 0      F   сотрудник     0  253875.639453   \n",
      "1   женат / замужем                 0      F   сотрудник     0  112080.014102   \n",
      "2   женат / замужем                 0      M   сотрудник     0  145885.952297   \n",
      "3   женат / замужем                 0      M   сотрудник     0  267628.550329   \n",
      "4  гражданский брак                 1      F   пенсионер     0  158616.077870   \n",
      "5  гражданский брак                 1      M   компаньон     0  255763.565419   \n",
      "6   женат / замужем                 0      F   компаньон     0  240525.971920   \n",
      "7   женат / замужем                 0      M   сотрудник     0  135823.934197   \n",
      "8  гражданский брак                 1      F   сотрудник     0   95856.832424   \n",
      "9   женат / замужем                 0      M   сотрудник     0  144425.938277   \n",
      "\n",
      "                      purpose  \n",
      "0               покупка жилья  \n",
      "1     приобретение автомобиля  \n",
      "2               покупка жилья  \n",
      "3  дополнительное образование  \n",
      "4             сыграть свадьбу  \n",
      "5               покупка жилья  \n",
      "6           операции с жильем  \n",
      "7                 образование  \n",
      "8       на проведение свадьбы  \n",
      "9     покупка жилья для семьи  \n"
     ]
    }
   ],
   "source": [
    "print(df[df['gender'] == 'XNA'])\n",
    "# у нас имеется одна строчка с неизвестным гендером... \n",
    "df = df.loc[df['gender'] != 'XNA'] #Убираем строку с неизвестным гендером\n",
    "print(df.head(10))\n"
   ]
  },
  {
   "cell_type": "code",
   "execution_count": 7,
   "metadata": {},
   "outputs": [
    {
     "name": "stdout",
     "output_type": "stream",
     "text": [
      "уникальные education : ['высшее' 'среднее' 'неоконченное высшее' 'начальное' 'ученая степень']\n",
      "уникальные family_status : ['женат / замужем' 'гражданский брак' 'вдовец / вдова' 'в разводе'\n",
      " 'не женат / не замужем']\n"
     ]
    }
   ],
   "source": [
    "# в столбце education и family status переведем все значения в строчные\n",
    "df['education']=df['education'].str.lower()\n",
    "df['family_status']=df['family_status'].str.lower()\n",
    "\n",
    "\n",
    "#проверим уникальные значения этих двух столбцов повторно\n",
    "print('уникальные education :', df['education'].unique())\n",
    "print('уникальные family_status :', df['family_status'].unique())\n",
    "#либо так\n",
    "\n",
    "\n"
   ]
  },
  {
   "cell_type": "code",
   "execution_count": 8,
   "metadata": {},
   "outputs": [
    {
     "data": {
      "text/plain": [
       "среднее                13693\n",
       "высшее                  4716\n",
       "неоконченное высшее      674\n",
       "начальное                261\n",
       "ученая степень             6\n",
       "Name: education, dtype: int64"
      ]
     },
     "execution_count": 8,
     "metadata": {},
     "output_type": "execute_result"
    }
   ],
   "source": [
    "df['education'].value_counts() #либо так"
   ]
  },
  {
   "cell_type": "code",
   "execution_count": 9,
   "metadata": {},
   "outputs": [
    {
     "data": {
      "text/plain": [
       "женат / замужем          11143\n",
       "гражданский брак          3734\n",
       "не женат / не замужем     2525\n",
       "в разводе                 1083\n",
       "вдовец / вдова             865\n",
       "Name: family_status, dtype: int64"
      ]
     },
     "execution_count": 9,
     "metadata": {},
     "output_type": "execute_result"
    }
   ],
   "source": [
    "df['family_status'].value_counts() #и так"
   ]
  },
  {
   "cell_type": "code",
   "execution_count": 10,
   "metadata": {},
   "outputs": [
    {
     "name": "stdout",
     "output_type": "stream",
     "text": [
      "уникальные children : [1 0 3 2 4 5]\n"
     ]
    }
   ],
   "source": [
    "#В столбце с количеством детей есть значение 20. вероятнее всего это ошибка. Заменим его медианой \n",
    "#и переведем сразу все значения из отрицательныхв положительные\n",
    "df['children'] = df['children'].replace(20, df['children'].median())\n",
    "df['children'] = abs(df['children']).astype('int')\n",
    "print('уникальные children :', df['children'].unique())"
   ]
  },
  {
   "cell_type": "markdown",
   "metadata": {},
   "source": [
    "#### **Вывод:**\n",
    "\n",
    "- Были пропуски в доходе и количестве отработанных дней. \n",
    "- Количесчтво отработанных дней мы заменили на 0 т.к. на анализ это значение не влияет. \n",
    "- Пропущеные значения с доходом мы заменили на медиану, т.к. для анализа данное значение играет роль. \n",
    "- В данных об обрпазовании и семейном положении были значения в разнгых регистрах. \n",
    "- Так же была одна строчка с неизвестным полом. Ее удалили. \n",
    "- В столбце с количеством детей было значение 20. \n",
    "- Вероятнее всего это опечатка при заполнении данных. ЗАменили на медиану. \n",
    "- И отрицательное значение детей перевели в положительное."
   ]
  },
  {
   "cell_type": "markdown",
   "metadata": {},
   "source": [
    "### Замена типа данных"
   ]
  },
  {
   "cell_type": "code",
   "execution_count": 11,
   "metadata": {},
   "outputs": [
    {
     "name": "stdout",
     "output_type": "stream",
     "text": [
      "<class 'pandas.core.frame.DataFrame'>\n",
      "Int64Index: 19350 entries, 0 to 21524\n",
      "Data columns (total 12 columns):\n",
      " #   Column            Non-Null Count  Dtype \n",
      "---  ------            --------------  ----- \n",
      " 0   children          19350 non-null  int64 \n",
      " 1   days_employed     19350 non-null  int64 \n",
      " 2   dob_years         19350 non-null  int64 \n",
      " 3   education         19350 non-null  object\n",
      " 4   education_id      19350 non-null  int64 \n",
      " 5   family_status     19350 non-null  object\n",
      " 6   family_status_id  19350 non-null  int64 \n",
      " 7   gender            19350 non-null  object\n",
      " 8   income_type       19350 non-null  object\n",
      " 9   debt              19350 non-null  int64 \n",
      " 10  total_income      19350 non-null  int64 \n",
      " 11  purpose           19350 non-null  object\n",
      "dtypes: int64(7), object(5)\n",
      "memory usage: 1.9+ MB\n"
     ]
    }
   ],
   "source": [
    "#заменим количество отработанных дней на целые числа т.к. отработанные дни могут быть только целыми и \n",
    "# зп тоже в целые для удобства работы с ними\n",
    "df['days_employed']=df['days_employed'].astype('int')\n",
    "df['total_income']=df['total_income'].astype('int')\n",
    "#и проверим\n",
    "df.info()"
   ]
  },
  {
   "cell_type": "markdown",
   "metadata": {},
   "source": [
    "#### **Вывод:**\n",
    "Заменили на целые числа доход и количество отработанных дней, это удобно для обработки данных и будет корректнее. (по крайней мере к количеству ортработанных дненй, т.к. их может быть только целое количество)"
   ]
  },
  {
   "cell_type": "markdown",
   "metadata": {},
   "source": [
    "### Обработка дубликатов"
   ]
  },
  {
   "cell_type": "code",
   "execution_count": 12,
   "metadata": {},
   "outputs": [
    {
     "data": {
      "text/plain": [
       "0"
      ]
     },
     "execution_count": 12,
     "metadata": {},
     "output_type": "execute_result"
    }
   ],
   "source": [
    "df.duplicated().sum()"
   ]
  },
  {
   "cell_type": "code",
   "execution_count": 13,
   "metadata": {},
   "outputs": [],
   "source": [
    "df = df.drop_duplicates().reset_index(drop=True)"
   ]
  },
  {
   "cell_type": "code",
   "execution_count": 14,
   "metadata": {},
   "outputs": [
    {
     "data": {
      "text/plain": [
       "0"
      ]
     },
     "execution_count": 14,
     "metadata": {},
     "output_type": "execute_result"
    }
   ],
   "source": [
    "df.duplicated().sum()"
   ]
  },
  {
   "cell_type": "markdown",
   "metadata": {},
   "source": [
    "#### **Вывод:**\n",
    "Количество дупликатов в датасете 71. Значение не велико и не должно повлиять на анализ."
   ]
  },
  {
   "cell_type": "markdown",
   "metadata": {},
   "source": [
    "### Лемматизация"
   ]
  },
  {
   "cell_type": "code",
   "execution_count": 15,
   "metadata": {},
   "outputs": [],
   "source": [
    "from pymystem3 import Mystem\n",
    "m = Mystem()"
   ]
  },
  {
   "cell_type": "code",
   "execution_count": 16,
   "metadata": {},
   "outputs": [
    {
     "data": {
      "text/plain": [
       "автомобили                                421\n",
       "автомобиль                                454\n",
       "высшее образование                        413\n",
       "дополнительное образование                414\n",
       "жилье                                     587\n",
       "заняться высшим образованием              440\n",
       "заняться образованием                     357\n",
       "на покупку автомобиля                     442\n",
       "на покупку подержанного автомобиля        437\n",
       "на покупку своего автомобиля              452\n",
       "на проведение свадьбы                     685\n",
       "недвижимость                              572\n",
       "образование                               405\n",
       "операции с жильем                         579\n",
       "операции с коммерческой недвижимостью     581\n",
       "операции с недвижимостью                  615\n",
       "операции со своей недвижимостью           559\n",
       "покупка жилой недвижимости                546\n",
       "покупка жилья                             595\n",
       "покупка жилья для сдачи                   588\n",
       "покупка жилья для семьи                   570\n",
       "покупка коммерческой недвижимости         597\n",
       "покупка недвижимости                      551\n",
       "покупка своего жилья                      574\n",
       "получение высшего образования             390\n",
       "получение дополнительного образования     396\n",
       "получение образования                     393\n",
       "приобретение автомобиля                   419\n",
       "профильное образование                    389\n",
       "ремонт жилью                              542\n",
       "свадьба                                   721\n",
       "свой автомобиль                           428\n",
       "сделка с автомобилем                      409\n",
       "сделка с подержанным автомобилем          435\n",
       "строительство жилой недвижимости          580\n",
       "строительство недвижимости                561\n",
       "строительство собственной недвижимости    560\n",
       "сыграть свадьбу                           693\n",
       "Name: purpose, dtype: int64"
      ]
     },
     "execution_count": 16,
     "metadata": {},
     "output_type": "execute_result"
    }
   ],
   "source": [
    "# ознакомимся с целями кредита\n",
    "df['purpose'].value_counts().sort_index()"
   ]
  },
  {
   "cell_type": "code",
   "execution_count": 17,
   "metadata": {},
   "outputs": [],
   "source": [
    "#из данных можно распределить данные на категории: автомобиль, образование, недвижимость, свадьба, если ни одно из слов не подходит - создадим категорию иное\n",
    "#создадим функцию\n",
    "def lemm(purpose):\n",
    "    lemmas = m.lemmatize(purpose)\n",
    "    if 'жилье' in lemmas or 'недвижимость' in lemmas:\n",
    "        return 'недвижимость'\n",
    "    elif 'автомобиль' in lemmas:\n",
    "        return 'автомобиль'\n",
    "    elif 'образование' in lemmas:\n",
    "        return 'образование'\n",
    "    elif 'свадьба' in lemmas:\n",
    "        return 'свадьба'\n",
    "    return 'иное'"
   ]
  },
  {
   "cell_type": "code",
   "execution_count": 18,
   "metadata": {},
   "outputs": [
    {
     "name": "stdout",
     "output_type": "stream",
     "text": [
      "   children  days_employed  dob_years education  education_id  \\\n",
      "0         1           8437         42    высшее             0   \n",
      "1         1           4024         36   среднее             1   \n",
      "2         0           5623         33   среднее             1   \n",
      "3         3           4124         32   среднее             1   \n",
      "4         0          14177         53   среднее             1   \n",
      "5         0            926         27    высшее             0   \n",
      "6         0           2879         43    высшее             0   \n",
      "7         0            152         50   среднее             1   \n",
      "8         2           6929         35    высшее             0   \n",
      "9         0           2188         41   среднее             1   \n",
      "\n",
      "      family_status  family_status_id gender income_type  debt  total_income  \\\n",
      "0   женат / замужем                 0      F   сотрудник     0        253875   \n",
      "1   женат / замужем                 0      F   сотрудник     0        112080   \n",
      "2   женат / замужем                 0      M   сотрудник     0        145885   \n",
      "3   женат / замужем                 0      M   сотрудник     0        267628   \n",
      "4  гражданский брак                 1      F   пенсионер     0        158616   \n",
      "5  гражданский брак                 1      M   компаньон     0        255763   \n",
      "6   женат / замужем                 0      F   компаньон     0        240525   \n",
      "7   женат / замужем                 0      M   сотрудник     0        135823   \n",
      "8  гражданский брак                 1      F   сотрудник     0         95856   \n",
      "9   женат / замужем                 0      M   сотрудник     0        144425   \n",
      "\n",
      "                      purpose purpose_category  \n",
      "0               покупка жилья     недвижимость  \n",
      "1     приобретение автомобиля       автомобиль  \n",
      "2               покупка жилья     недвижимость  \n",
      "3  дополнительное образование      образование  \n",
      "4             сыграть свадьбу          свадьба  \n",
      "5               покупка жилья     недвижимость  \n",
      "6           операции с жильем     недвижимость  \n",
      "7                 образование      образование  \n",
      "8       на проведение свадьбы          свадьба  \n",
      "9     покупка жилья для семьи     недвижимость  \n"
     ]
    }
   ],
   "source": [
    "df['purpose_category'] = df['purpose'].apply(lemm)\n",
    "print(df.head(10))"
   ]
  },
  {
   "cell_type": "code",
   "execution_count": 19,
   "metadata": {},
   "outputs": [
    {
     "name": "stdout",
     "output_type": "stream",
     "text": [
      "недвижимость    9757\n",
      "автомобиль      3897\n",
      "образование     3597\n",
      "свадьба         2099\n",
      "Name: purpose_category, dtype: int64\n"
     ]
    }
   ],
   "source": [
    "print(df['purpose_category'].value_counts())"
   ]
  },
  {
   "cell_type": "markdown",
   "metadata": {},
   "source": [
    "**Вывод:**\n",
    "- Для удобства анализа мы создали отдельный столбец, где сгруппировали цели кредита.\n",
    "- Недвижимость, автомобиль, образование и свадьба. самое большое количество в недвижимости."
   ]
  },
  {
   "cell_type": "markdown",
   "metadata": {},
   "source": [
    "### Категоризация данных\n",
    "Для ответа на вопросы нам потребуются данные:\n",
    "1. Наличие детей\n",
    "2. Семейное положение\n",
    "3. Доход\n",
    "4. Цели кредита\n"
   ]
  },
  {
   "cell_type": "code",
   "execution_count": 20,
   "metadata": {},
   "outputs": [
    {
     "data": {
      "text/plain": [
       "145011.0"
      ]
     },
     "execution_count": 20,
     "metadata": {},
     "output_type": "execute_result"
    }
   ],
   "source": [
    "#для категоризации данных дохода, сперва необходимо выявить медиану\n",
    "df['total_income'].median()"
   ]
  },
  {
   "cell_type": "code",
   "execution_count": 21,
   "metadata": {},
   "outputs": [
    {
     "name": "stdout",
     "output_type": "stream",
     "text": [
      "средний доход          7513\n",
      "низкий доход           5499\n",
      "доход выше среднего    4683\n",
      "высокий доход          1655\n",
      "Name: category_total_income, dtype: int64\n"
     ]
    }
   ],
   "source": [
    "# за медиану будем использовать сумму 145 000руб.\n",
    "#для категоризации используем такие параметры:\n",
    "# меньше 0,75 медианы (до 108 750руб) - низкий доход\n",
    "#от 0,75 до 1,25 медианы(от 108 750 до 181 250) - средний доход\n",
    "#от 1.25 до 2 медиан (от 181 250 до 290 000) - доход выше среднего\n",
    "# больше двух медиан (от 290 000) - высокий доход\n",
    "#напишем функцию\n",
    "def category_total_income(row):\n",
    "    if row < 108750:\n",
    "        return 'низкий доход'\n",
    "    elif row < 181250:\n",
    "        return 'средний доход'\n",
    "    elif row < 290000:\n",
    "        return 'доход выше среднего'\n",
    "    return 'высокий доход'\n",
    "df['category_total_income'] = df['total_income'].apply(category_total_income)\n",
    "print(df['category_total_income'].value_counts())"
   ]
  },
  {
   "cell_type": "code",
   "execution_count": 22,
   "metadata": {},
   "outputs": [
    {
     "name": "stdout",
     "output_type": "stream",
     "text": [
      "нет детей    12776\n",
      "есть дети     6574\n",
      "Name: category_children, dtype: int64\n"
     ]
    }
   ],
   "source": [
    "# так как вопрос выставлен о самом факте наличия детей то создадим фунцию и поделим людей на тех у кого есть и нет детей\n",
    "def category_children(row):\n",
    "    if row == 0:\n",
    "        return 'нет детей'\n",
    "    return 'есть дети'\n",
    "df['category_children'] = df['children'].apply(category_children)\n",
    "print(df['category_children'].value_counts())"
   ]
  },
  {
   "cell_type": "code",
   "execution_count": 23,
   "metadata": {},
   "outputs": [
    {
     "name": "stdout",
     "output_type": "stream",
     "text": [
      "нет задолженности     17779\n",
      "задолженность есть     1571\n",
      "Name: category_debt, dtype: int64\n"
     ]
    }
   ],
   "source": [
    "#во время попытки ответить на вопросы я понял что не удобно когда просроченная задолженность 0 и 1\n",
    "#по этому создадим новую колонку в которой будет инфо о том есть ли просрочка или нет\n",
    "def category_debt(row):\n",
    "    if row == 0:\n",
    "        return 'нет задолженности'\n",
    "    return 'задолженность есть'\n",
    "df['category_debt'] = df['debt'].apply(category_debt)\n",
    "print(df['category_debt'].value_counts())"
   ]
  },
  {
   "cell_type": "code",
   "execution_count": 24,
   "metadata": {},
   "outputs": [
    {
     "name": "stdout",
     "output_type": "stream",
     "text": [
      "  category_children     family_status category_total_income purpose_category  \\\n",
      "0         есть дети   женат / замужем   доход выше среднего     недвижимость   \n",
      "1         есть дети   женат / замужем         средний доход       автомобиль   \n",
      "2         нет детей   женат / замужем         средний доход     недвижимость   \n",
      "3         есть дети   женат / замужем   доход выше среднего      образование   \n",
      "4         нет детей  гражданский брак         средний доход          свадьба   \n",
      "\n",
      "       category_debt  \n",
      "0  нет задолженности  \n",
      "1  нет задолженности  \n",
      "2  нет задолженности  \n",
      "3  нет задолженности  \n",
      "4  нет задолженности  \n"
     ]
    }
   ],
   "source": [
    "#для удобства создадим отдельную таблицу только с необходимыми данными\n",
    "# debt 0 - задолженность отсутствует\n",
    "df_for_analysis = df[['category_children', 'family_status', 'category_total_income', 'purpose_category', 'category_debt']]\n",
    "print(df_for_analysis.head())"
   ]
  },
  {
   "cell_type": "markdown",
   "metadata": {},
   "source": [
    "**Вывод:**\n",
    "- Для анализа данных нам необходимы были:\n",
    "- Данные о наличии детей (сгруппировали, т.к. вопрос стоит \"влияет ли наличие детей\" по этому их количество роли не играет)\n",
    "- Семейное положение (данный столбец уже имеется)\n",
    "- Доход (сгруппировали на 4 категории, низкий, средний, выше среднего и высокий доход)\n",
    "- Цель кредита (сгруппировали ранее)\n",
    "- Наличие задолженности (заменили с 0 и 1 на нет задоленности и есть (сделал для себя больше, нули и единицы не удобны...))"
   ]
  },
  {
   "cell_type": "markdown",
   "metadata": {},
   "source": [
    "## Шаг 3. Ответьте на вопросы"
   ]
  },
  {
   "cell_type": "markdown",
   "metadata": {},
   "source": [
    "Есть ли зависимость между наличием детей и возвратом кредита в срок?"
   ]
  },
  {
   "cell_type": "code",
   "execution_count": 25,
   "metadata": {},
   "outputs": [
    {
     "name": "stdout",
     "output_type": "stream",
     "text": [
      "19350\n"
     ]
    }
   ],
   "source": [
    "#display(df_for_analysis.head())\n",
    "print(df_for_analysis['category_debt'].value_counts().sum())\n"
   ]
  },
  {
   "cell_type": "code",
   "execution_count": 26,
   "metadata": {},
   "outputs": [
    {
     "name": "stdout",
     "output_type": "stream",
     "text": [
      "category_debt      задолженность есть  нет задолженности     ratio\n",
      "category_children                                                 \n",
      "есть дети                         611               5963  9.294189\n",
      "нет детей                         960              11816  7.514089\n"
     ]
    }
   ],
   "source": [
    "children_pivot = df_for_analysis.pivot_table(index='category_children', columns='category_debt', values='family_status', aggfunc='count')\n",
    "children_pivot['ratio'] = (children_pivot['задолженность есть'] / (children_pivot['нет задолженности'] + children_pivot['задолженность есть'])) * 100\n",
    "print(children_pivot)"
   ]
  },
  {
   "cell_type": "markdown",
   "metadata": {},
   "source": [
    "**Вывод:**\n",
    "- Исходя из данных больше просроченной задолженности у людей с детьми\n"
   ]
  },
  {
   "cell_type": "markdown",
   "metadata": {},
   "source": [
    "Есть ли зависимость между семейным положением и возвратом кредита в срок?"
   ]
  },
  {
   "cell_type": "code",
   "execution_count": 27,
   "metadata": {},
   "outputs": [
    {
     "data": {
      "text/html": [
       "<div>\n",
       "<style scoped>\n",
       "    .dataframe tbody tr th:only-of-type {\n",
       "        vertical-align: middle;\n",
       "    }\n",
       "\n",
       "    .dataframe tbody tr th {\n",
       "        vertical-align: top;\n",
       "    }\n",
       "\n",
       "    .dataframe thead th {\n",
       "        text-align: right;\n",
       "    }\n",
       "</style>\n",
       "<table border=\"1\" class=\"dataframe\">\n",
       "  <thead>\n",
       "    <tr style=\"text-align: right;\">\n",
       "      <th></th>\n",
       "      <th>category_children</th>\n",
       "      <th>family_status</th>\n",
       "      <th>category_total_income</th>\n",
       "      <th>purpose_category</th>\n",
       "      <th>category_debt</th>\n",
       "    </tr>\n",
       "  </thead>\n",
       "  <tbody>\n",
       "    <tr>\n",
       "      <th>0</th>\n",
       "      <td>есть дети</td>\n",
       "      <td>женат / замужем</td>\n",
       "      <td>доход выше среднего</td>\n",
       "      <td>недвижимость</td>\n",
       "      <td>нет задолженности</td>\n",
       "    </tr>\n",
       "    <tr>\n",
       "      <th>1</th>\n",
       "      <td>есть дети</td>\n",
       "      <td>женат / замужем</td>\n",
       "      <td>средний доход</td>\n",
       "      <td>автомобиль</td>\n",
       "      <td>нет задолженности</td>\n",
       "    </tr>\n",
       "    <tr>\n",
       "      <th>2</th>\n",
       "      <td>нет детей</td>\n",
       "      <td>женат / замужем</td>\n",
       "      <td>средний доход</td>\n",
       "      <td>недвижимость</td>\n",
       "      <td>нет задолженности</td>\n",
       "    </tr>\n",
       "    <tr>\n",
       "      <th>3</th>\n",
       "      <td>есть дети</td>\n",
       "      <td>женат / замужем</td>\n",
       "      <td>доход выше среднего</td>\n",
       "      <td>образование</td>\n",
       "      <td>нет задолженности</td>\n",
       "    </tr>\n",
       "    <tr>\n",
       "      <th>4</th>\n",
       "      <td>нет детей</td>\n",
       "      <td>гражданский брак</td>\n",
       "      <td>средний доход</td>\n",
       "      <td>свадьба</td>\n",
       "      <td>нет задолженности</td>\n",
       "    </tr>\n",
       "  </tbody>\n",
       "</table>\n",
       "</div>"
      ],
      "text/plain": [
       "  category_children     family_status category_total_income purpose_category  \\\n",
       "0         есть дети   женат / замужем   доход выше среднего     недвижимость   \n",
       "1         есть дети   женат / замужем         средний доход       автомобиль   \n",
       "2         нет детей   женат / замужем         средний доход     недвижимость   \n",
       "3         есть дети   женат / замужем   доход выше среднего      образование   \n",
       "4         нет детей  гражданский брак         средний доход          свадьба   \n",
       "\n",
       "       category_debt  \n",
       "0  нет задолженности  \n",
       "1  нет задолженности  \n",
       "2  нет задолженности  \n",
       "3  нет задолженности  \n",
       "4  нет задолженности  "
      ]
     },
     "execution_count": 27,
     "metadata": {},
     "output_type": "execute_result"
    }
   ],
   "source": [
    "df_for_analysis.head()"
   ]
  },
  {
   "cell_type": "code",
   "execution_count": 28,
   "metadata": {},
   "outputs": [
    {
     "name": "stdout",
     "output_type": "stream",
     "text": [
      "category_debt          задолженность есть  нет задолженности      ratio\n",
      "family_status                                                          \n",
      "в разводе                              76               1007   7.017544\n",
      "вдовец / вдова                         56                809   6.473988\n",
      "гражданский брак                      339               3395   9.078736\n",
      "женат / замужем                       846              10297   7.592210\n",
      "не женат / не замужем                 254               2271  10.059406\n"
     ]
    }
   ],
   "source": [
    "family_pivot = df_for_analysis.pivot_table(index='family_status', columns='category_debt', values='category_children', aggfunc='count')\n",
    "family_pivot['ratio'] = (family_pivot['задолженность есть'] / (family_pivot['нет задолженности'] + family_pivot['задолженность есть'])) * 100\n",
    "\n",
    "print(family_pivot)"
   ]
  },
  {
   "cell_type": "markdown",
   "metadata": {},
   "source": [
    "**Вывод:**\n",
    "- Больше всего задолженностей по кредитам у клиентов которые не в браке либо находятся в гражданском браке.\n",
    "- Далее следуют те кто в официальном браке.\n",
    "- Меньше всего задолженностей у клиентов в разводе и вдовцов"
   ]
  },
  {
   "cell_type": "markdown",
   "metadata": {},
   "source": [
    "Есть ли зависимость между уровнем дохода и возвратом кредита в срок?"
   ]
  },
  {
   "cell_type": "code",
   "execution_count": 29,
   "metadata": {},
   "outputs": [
    {
     "name": "stdout",
     "output_type": "stream",
     "text": [
      "category_debt          задолженность есть  нет задолженности     ratio\n",
      "category_total_income                                                 \n",
      "высокий доход                         120               1535  7.250755\n",
      "доход выше среднего                   353               4330  7.537903\n",
      "низкий доход                          438               5061  7.965085\n",
      "средний доход                         660               6853  8.784773\n"
     ]
    }
   ],
   "source": [
    "category_total_income_pivot = df_for_analysis.pivot_table(index='category_total_income', columns='category_debt', values='category_children', aggfunc='count')\n",
    "category_total_income_pivot['ratio'] = (category_total_income_pivot['задолженность есть'] / (category_total_income_pivot['нет задолженности'] + category_total_income_pivot['задолженность есть'])) * 100\n",
    "print(category_total_income_pivot)"
   ]
  },
  {
   "cell_type": "markdown",
   "metadata": {},
   "source": [
    "**Вывод:**\n",
    "- Больше всего должников в сегменте среднего дохода. \n",
    "- Меньше всего в сегменте высокого дохода(не удивительно, таким клиентам нельзя терять лицо) "
   ]
  },
  {
   "cell_type": "markdown",
   "metadata": {},
   "source": [
    "Как разные цели кредита влияют на его возврат в срок?"
   ]
  },
  {
   "cell_type": "code",
   "execution_count": 30,
   "metadata": {},
   "outputs": [
    {
     "name": "stdout",
     "output_type": "stream",
     "text": [
      "category_debt     задолженность есть  нет задолженности     ratio\n",
      "purpose_category                                                 \n",
      "автомобиль                       367               3530  9.417501\n",
      "недвижимость                     715               9042  7.328072\n",
      "образование                      331               3266  9.202113\n",
      "свадьба                          158               1941  7.527394\n"
     ]
    }
   ],
   "source": [
    "purpose_category_pivot = df_for_analysis.pivot_table(index='purpose_category', columns='category_debt', values='category_children', aggfunc='count')\n",
    "purpose_category_pivot['ratio'] = (purpose_category_pivot['задолженность есть'] / (purpose_category_pivot['нет задолженности'] + purpose_category_pivot['задолженность есть'])) * 100\n",
    "print(purpose_category_pivot)"
   ]
  },
  {
   "cell_type": "markdown",
   "metadata": {},
   "source": [
    "**Вывод:**\n",
    "- Здесь хочу отметить что количество приобретающих недвижимость в 3 раза больше любой другой категории, но при этом самый минимальный процент просрочек. Это связано с тем что недвижимость находится в залоге и в случае чего банк в праве изъять данную недвижимость (следовательно у банка больше страховка)\n",
    "- При этом на цель кредита \"авто\" самое большое число людей с просрочками, хотя авто так же находится в залоге у банка. \n",
    "- Цель \"образование\" так же находится в высокорискованном сегменте"
   ]
  },
  {
   "cell_type": "markdown",
   "metadata": {},
   "source": [
    "## Общий вывод"
   ]
  },
  {
   "cell_type": "markdown",
   "metadata": {},
   "source": [
    "Исходя из данных можно сделать несколько выводов.\n",
    "1. Наличие детей негативно влияет на возврат кредита. Вероятнее всего это из-за дополнительных семейных затрат\n",
    "2. Подавляющее число кредитов берут люди в браке и у них один из лучших показателей. Хуже всех возвращают кредиты не в браке или в гражданском браке. Это может быть из-за осознания ответсчтвенности не только за себя. Так же и обязательства по кредиту распределяются на обоих супругов\n",
    "3. Чем больше доход тем меньше просроченных задолженностей.\n",
    "4. Меньше всего людей с просроченными задолженностями у людей, целль кредита недвижимое имущество и свадьбы. \n",
    "Недвижимость, приобретаемая в кредит находится в залоге у банка до момента полного погашения, по этому для людей с большими просроченными задолженностями есть риск утраты этой недвижимости.\n",
    "Свадьбы. Кредит на данную цель зачастую гасится благодаря семьям. (не могу ничего сказаьть про эту цель кредита...)\n",
    "Кредит на образование. Есть риск невозврата данного кредита по причине того что после учебы не всегда есть возможность найти высокооплачиваемую работу.\n",
    "Кредит на автомобиль. Хотя он и находится в залоге банка но в теории у людей есть возможность реализовать (продать) машину до момента погашения кредита и в случае чего уже у другого человека банк отберет а/м. Самый рискованный кредит для банка. Многие уже отказались от них в пользу простых потребительских кредитов на любые цели.\n",
    "\n",
    "\n",
    "\n",
    "\n",
    "Проанализировав данные мы можем составить портрет \"Идеального клиента\":\n",
    "Без детей\n",
    "Семейное положение - в разводе или вдовец / вдова или женат / замужем    \n",
    "Доход - высокий или выше среднего\n",
    "Цель кредита - приобретение недвижимости\n",
    "\n",
    "\n"
   ]
  }
 ],
 "metadata": {
  "ExecuteTimeLog": [
   {
    "duration": 756,
    "start_time": "2022-01-22T15:37:35.062Z"
   },
   {
    "duration": 66,
    "start_time": "2022-01-22T15:40:29.700Z"
   },
   {
    "duration": 70,
    "start_time": "2022-01-22T15:40:54.668Z"
   },
   {
    "duration": 69,
    "start_time": "2022-01-22T15:49:24.513Z"
   },
   {
    "duration": 21,
    "start_time": "2022-01-22T15:49:35.432Z"
   },
   {
    "duration": 6,
    "start_time": "2022-01-22T15:50:39.152Z"
   },
   {
    "duration": 20,
    "start_time": "2022-01-22T15:51:06.440Z"
   },
   {
    "duration": 327,
    "start_time": "2022-01-22T16:43:22.509Z"
   },
   {
    "duration": 14,
    "start_time": "2022-01-22T16:50:38.144Z"
   },
   {
    "duration": -339,
    "start_time": "2022-01-22T16:53:07.954Z"
   },
   {
    "duration": 68,
    "start_time": "2022-01-22T16:53:10.444Z"
   },
   {
    "duration": 6577,
    "start_time": "2022-01-22T16:53:10.515Z"
   },
   {
    "duration": 6206,
    "start_time": "2022-01-22T16:53:21.053Z"
   },
   {
    "duration": 32,
    "start_time": "2022-01-22T16:53:42.576Z"
   },
   {
    "duration": 637,
    "start_time": "2022-01-24T14:11:23.405Z"
   },
   {
    "duration": 22,
    "start_time": "2022-01-24T15:06:47.979Z"
   },
   {
    "duration": 64,
    "start_time": "2022-01-24T15:06:53.521Z"
   },
   {
    "duration": 17,
    "start_time": "2022-01-24T15:06:53.587Z"
   },
   {
    "duration": 7,
    "start_time": "2022-01-24T15:12:52.988Z"
   },
   {
    "duration": 10,
    "start_time": "2022-01-24T15:13:02.854Z"
   },
   {
    "duration": 335,
    "start_time": "2022-01-24T15:15:46.489Z"
   },
   {
    "duration": 261,
    "start_time": "2022-01-24T15:15:59.400Z"
   },
   {
    "duration": 6,
    "start_time": "2022-01-24T15:16:49.554Z"
   },
   {
    "duration": 7,
    "start_time": "2022-01-24T15:21:42.349Z"
   },
   {
    "duration": 244,
    "start_time": "2022-01-24T15:22:09.079Z"
   },
   {
    "duration": 6,
    "start_time": "2022-01-24T15:22:27.752Z"
   },
   {
    "duration": 264,
    "start_time": "2022-01-24T15:29:06.582Z"
   },
   {
    "duration": 7,
    "start_time": "2022-01-24T15:29:49.679Z"
   },
   {
    "duration": 7445,
    "start_time": "2022-01-24T15:30:26.418Z"
   },
   {
    "duration": 7182,
    "start_time": "2022-01-24T15:31:29.604Z"
   },
   {
    "duration": 7625,
    "start_time": "2022-01-24T15:32:30.227Z"
   },
   {
    "duration": 7640,
    "start_time": "2022-01-24T15:33:05.663Z"
   },
   {
    "duration": 7,
    "start_time": "2022-01-24T15:33:31.828Z"
   },
   {
    "duration": 106,
    "start_time": "2022-01-24T15:36:20.534Z"
   },
   {
    "duration": 68,
    "start_time": "2022-01-24T15:36:27.603Z"
   },
   {
    "duration": 76,
    "start_time": "2022-01-24T15:37:02.298Z"
   },
   {
    "duration": 65,
    "start_time": "2022-01-24T15:37:51.478Z"
   },
   {
    "duration": 329,
    "start_time": "2022-01-24T15:38:53.048Z"
   },
   {
    "duration": 405,
    "start_time": "2022-01-25T09:47:39.649Z"
   },
   {
    "duration": 642,
    "start_time": "2022-01-25T09:48:58.363Z"
   },
   {
    "duration": 20,
    "start_time": "2022-01-25T09:48:59.006Z"
   },
   {
    "duration": 13,
    "start_time": "2022-01-25T09:48:59.028Z"
   },
   {
    "duration": 7,
    "start_time": "2022-01-25T09:48:59.043Z"
   },
   {
    "duration": 14,
    "start_time": "2022-01-25T09:52:48.068Z"
   },
   {
    "duration": 10,
    "start_time": "2022-01-25T09:53:01.331Z"
   },
   {
    "duration": 10,
    "start_time": "2022-01-25T09:53:29.849Z"
   },
   {
    "duration": 15,
    "start_time": "2022-01-25T12:50:23.785Z"
   },
   {
    "duration": 56,
    "start_time": "2022-01-25T12:50:36.370Z"
   },
   {
    "duration": 11,
    "start_time": "2022-01-25T12:50:48.427Z"
   },
   {
    "duration": 11,
    "start_time": "2022-01-25T12:51:55.536Z"
   },
   {
    "duration": 943,
    "start_time": "2022-01-26T10:38:25.449Z"
   },
   {
    "duration": 29,
    "start_time": "2022-01-26T10:38:26.394Z"
   },
   {
    "duration": 24,
    "start_time": "2022-01-26T10:38:26.434Z"
   },
   {
    "duration": 9,
    "start_time": "2022-01-26T10:38:26.461Z"
   },
   {
    "duration": 12,
    "start_time": "2022-01-26T10:38:58.761Z"
   },
   {
    "duration": 70,
    "start_time": "2022-01-26T10:39:12.147Z"
   },
   {
    "duration": 11,
    "start_time": "2022-01-26T10:39:12.219Z"
   },
   {
    "duration": 31,
    "start_time": "2022-01-26T10:39:12.234Z"
   },
   {
    "duration": 17,
    "start_time": "2022-01-26T10:39:12.267Z"
   },
   {
    "duration": 15,
    "start_time": "2022-01-26T10:39:12.286Z"
   },
   {
    "duration": 22,
    "start_time": "2022-01-26T10:40:09.445Z"
   },
   {
    "duration": 11,
    "start_time": "2022-01-26T10:42:07.057Z"
   },
   {
    "duration": 90,
    "start_time": "2022-01-26T10:42:11.072Z"
   },
   {
    "duration": 21,
    "start_time": "2022-01-26T10:42:11.166Z"
   },
   {
    "duration": 25,
    "start_time": "2022-01-26T10:42:11.190Z"
   },
   {
    "duration": 78,
    "start_time": "2022-01-26T10:42:11.234Z"
   },
   {
    "duration": 22,
    "start_time": "2022-01-26T10:44:35.188Z"
   },
   {
    "duration": 336,
    "start_time": "2022-01-26T11:04:37.816Z"
   },
   {
    "duration": 5,
    "start_time": "2022-01-26T11:05:29.145Z"
   },
   {
    "duration": 16,
    "start_time": "2022-01-26T11:06:01.551Z"
   },
   {
    "duration": 10,
    "start_time": "2022-01-26T11:08:03.143Z"
   },
   {
    "duration": 61,
    "start_time": "2022-01-26T12:39:46.446Z"
   },
   {
    "duration": 69,
    "start_time": "2022-01-26T12:40:04.845Z"
   },
   {
    "duration": 20,
    "start_time": "2022-01-26T12:40:04.916Z"
   },
   {
    "duration": 31,
    "start_time": "2022-01-26T12:40:04.940Z"
   },
   {
    "duration": 21,
    "start_time": "2022-01-26T12:40:04.974Z"
   },
   {
    "duration": 6195,
    "start_time": "2022-01-26T12:40:04.998Z"
   },
   {
    "duration": 40,
    "start_time": "2022-01-26T12:40:11.155Z"
   },
   {
    "duration": 6,
    "start_time": "2022-01-26T12:40:14.079Z"
   },
   {
    "duration": 8,
    "start_time": "2022-01-26T12:40:49.157Z"
   },
   {
    "duration": 22,
    "start_time": "2022-01-26T12:43:19.880Z"
   },
   {
    "duration": 14,
    "start_time": "2022-01-26T12:44:11.959Z"
   },
   {
    "duration": 18,
    "start_time": "2022-01-26T12:44:23.291Z"
   },
   {
    "duration": 27,
    "start_time": "2022-01-26T14:07:33.601Z"
   },
   {
    "duration": 50,
    "start_time": "2022-01-26T14:07:43.468Z"
   },
   {
    "duration": 57,
    "start_time": "2022-01-26T14:08:18.727Z"
   },
   {
    "duration": 24,
    "start_time": "2022-01-26T14:08:29.764Z"
   },
   {
    "duration": 30,
    "start_time": "2022-01-26T14:08:42.344Z"
   },
   {
    "duration": 37,
    "start_time": "2022-01-26T14:08:53.093Z"
   },
   {
    "duration": 261,
    "start_time": "2022-01-26T14:11:41.266Z"
   },
   {
    "duration": 67,
    "start_time": "2022-01-26T14:11:59.965Z"
   },
   {
    "duration": 58,
    "start_time": "2022-01-26T14:13:37.401Z"
   },
   {
    "duration": 62,
    "start_time": "2022-01-26T14:14:04.702Z"
   },
   {
    "duration": 53,
    "start_time": "2022-01-26T14:14:11.327Z"
   },
   {
    "duration": 14,
    "start_time": "2022-01-26T14:14:16.616Z"
   },
   {
    "duration": 16,
    "start_time": "2022-01-26T14:14:26.810Z"
   },
   {
    "duration": 105,
    "start_time": "2022-01-26T14:15:54.942Z"
   },
   {
    "duration": 277,
    "start_time": "2022-01-26T14:15:55.050Z"
   },
   {
    "duration": 940,
    "start_time": "2022-01-26T14:15:55.330Z"
   },
   {
    "duration": 950,
    "start_time": "2022-01-26T14:15:56.273Z"
   },
   {
    "duration": 747,
    "start_time": "2022-01-26T14:15:57.226Z"
   },
   {
    "duration": 1008,
    "start_time": "2022-01-26T14:15:57.976Z"
   },
   {
    "duration": 1208,
    "start_time": "2022-01-26T14:15:58.987Z"
   },
   {
    "duration": 710,
    "start_time": "2022-01-26T14:16:00.200Z"
   },
   {
    "duration": 317,
    "start_time": "2022-01-26T14:16:00.913Z"
   },
   {
    "duration": 25,
    "start_time": "2022-01-26T15:04:22.498Z"
   },
   {
    "duration": 21,
    "start_time": "2022-01-26T15:07:22.843Z"
   },
   {
    "duration": 10,
    "start_time": "2022-01-26T15:09:17.175Z"
   },
   {
    "duration": 8,
    "start_time": "2022-01-26T15:09:18.708Z"
   },
   {
    "duration": 11,
    "start_time": "2022-01-26T15:09:43.397Z"
   },
   {
    "duration": 12,
    "start_time": "2022-01-26T15:10:19.829Z"
   },
   {
    "duration": 73,
    "start_time": "2022-01-26T15:11:46.033Z"
   },
   {
    "duration": 237,
    "start_time": "2022-01-26T15:11:46.109Z"
   },
   {
    "duration": 245,
    "start_time": "2022-01-26T15:11:46.349Z"
   },
   {
    "duration": 205,
    "start_time": "2022-01-26T15:11:46.598Z"
   },
   {
    "duration": 287,
    "start_time": "2022-01-26T15:11:46.805Z"
   },
   {
    "duration": 228,
    "start_time": "2022-01-26T15:11:47.094Z"
   },
   {
    "duration": 279,
    "start_time": "2022-01-26T15:11:47.324Z"
   },
   {
    "duration": 218,
    "start_time": "2022-01-26T15:11:47.605Z"
   },
   {
    "duration": 187,
    "start_time": "2022-01-26T15:11:47.826Z"
   },
   {
    "duration": 543,
    "start_time": "2022-01-26T15:11:48.018Z"
   },
   {
    "duration": 289,
    "start_time": "2022-01-26T15:11:48.563Z"
   },
   {
    "duration": 9,
    "start_time": "2022-01-26T15:12:50.057Z"
   },
   {
    "duration": 25,
    "start_time": "2022-01-26T15:13:41.538Z"
   },
   {
    "duration": 35,
    "start_time": "2022-01-26T15:14:21.229Z"
   },
   {
    "duration": 24,
    "start_time": "2022-01-26T15:14:28.495Z"
   },
   {
    "duration": 7,
    "start_time": "2022-01-26T15:16:11.659Z"
   },
   {
    "duration": 74,
    "start_time": "2022-01-26T15:19:16.869Z"
   },
   {
    "duration": 273,
    "start_time": "2022-01-26T15:19:16.946Z"
   },
   {
    "duration": 341,
    "start_time": "2022-01-26T15:19:17.222Z"
   },
   {
    "duration": 304,
    "start_time": "2022-01-26T15:19:17.567Z"
   },
   {
    "duration": 343,
    "start_time": "2022-01-26T15:19:17.874Z"
   },
   {
    "duration": 370,
    "start_time": "2022-01-26T15:19:18.220Z"
   },
   {
    "duration": 282,
    "start_time": "2022-01-26T15:19:18.593Z"
   },
   {
    "duration": 430,
    "start_time": "2022-01-26T15:19:18.878Z"
   },
   {
    "duration": 834,
    "start_time": "2022-01-26T15:19:19.312Z"
   },
   {
    "duration": 1580,
    "start_time": "2022-01-26T15:19:20.148Z"
   },
   {
    "duration": 739,
    "start_time": "2022-01-26T15:19:21.730Z"
   },
   {
    "duration": 775,
    "start_time": "2022-01-26T15:19:22.471Z"
   },
   {
    "duration": 416,
    "start_time": "2022-01-26T15:19:23.249Z"
   },
   {
    "duration": 1005,
    "start_time": "2022-01-26T15:19:23.667Z"
   },
   {
    "duration": 339,
    "start_time": "2022-01-26T15:19:24.674Z"
   },
   {
    "duration": 4,
    "start_time": "2022-01-26T15:21:24.095Z"
   },
   {
    "duration": 4,
    "start_time": "2022-01-26T15:21:25.716Z"
   },
   {
    "duration": 3,
    "start_time": "2022-01-26T15:21:26.635Z"
   },
   {
    "duration": 259,
    "start_time": "2022-01-26T15:21:29.715Z"
   },
   {
    "duration": 10,
    "start_time": "2022-01-26T15:40:33.059Z"
   },
   {
    "duration": 16,
    "start_time": "2022-01-26T15:44:15.380Z"
   },
   {
    "duration": 6,
    "start_time": "2022-01-26T15:59:54.593Z"
   },
   {
    "duration": 1345,
    "start_time": "2022-01-26T16:00:44.743Z"
   },
   {
    "duration": 100,
    "start_time": "2022-01-26T16:01:04.485Z"
   },
   {
    "duration": 292,
    "start_time": "2022-01-26T16:01:04.589Z"
   },
   {
    "duration": 196,
    "start_time": "2022-01-26T16:01:04.885Z"
   },
   {
    "duration": 176,
    "start_time": "2022-01-26T16:01:05.084Z"
   },
   {
    "duration": 290,
    "start_time": "2022-01-26T16:01:05.263Z"
   },
   {
    "duration": 249,
    "start_time": "2022-01-26T16:01:05.556Z"
   },
   {
    "duration": 226,
    "start_time": "2022-01-26T16:01:05.807Z"
   },
   {
    "duration": 250,
    "start_time": "2022-01-26T16:01:06.035Z"
   },
   {
    "duration": 246,
    "start_time": "2022-01-26T16:01:06.290Z"
   },
   {
    "duration": 228,
    "start_time": "2022-01-26T16:01:06.540Z"
   },
   {
    "duration": 208,
    "start_time": "2022-01-26T16:01:06.771Z"
   },
   {
    "duration": 460,
    "start_time": "2022-01-26T16:01:06.982Z"
   },
   {
    "duration": 311,
    "start_time": "2022-01-26T16:01:07.445Z"
   },
   {
    "duration": 285,
    "start_time": "2022-01-26T16:01:07.759Z"
   },
   {
    "duration": 412,
    "start_time": "2022-01-26T16:01:08.047Z"
   },
   {
    "duration": 368,
    "start_time": "2022-01-26T16:01:08.462Z"
   },
   {
    "duration": 298,
    "start_time": "2022-01-26T16:01:08.833Z"
   },
   {
    "duration": 1675,
    "start_time": "2022-01-26T16:01:09.133Z"
   },
   {
    "duration": 5,
    "start_time": "2022-01-26T16:02:31.125Z"
   },
   {
    "duration": 5811,
    "start_time": "2022-01-26T16:02:32.012Z"
   },
   {
    "duration": 6,
    "start_time": "2022-01-26T16:03:29.402Z"
   },
   {
    "duration": 4878,
    "start_time": "2022-01-26T16:03:31.817Z"
   },
   {
    "duration": 5309,
    "start_time": "2022-01-26T16:03:41.119Z"
   },
   {
    "duration": 5067,
    "start_time": "2022-01-26T16:03:49.285Z"
   },
   {
    "duration": 230,
    "start_time": "2022-01-26T16:04:48.353Z"
   },
   {
    "duration": 234,
    "start_time": "2022-01-26T16:04:52.072Z"
   },
   {
    "duration": 225,
    "start_time": "2022-01-26T16:04:55.592Z"
   },
   {
    "duration": 244,
    "start_time": "2022-01-26T16:04:58.442Z"
   },
   {
    "duration": 23,
    "start_time": "2022-01-26T16:05:06.138Z"
   },
   {
    "duration": 470,
    "start_time": "2022-01-26T16:05:12.170Z"
   },
   {
    "duration": 11,
    "start_time": "2022-01-26T16:05:36.970Z"
   },
   {
    "duration": 805,
    "start_time": "2022-01-27T12:47:27.697Z"
   },
   {
    "duration": 28,
    "start_time": "2022-01-27T12:47:28.505Z"
   },
   {
    "duration": 37,
    "start_time": "2022-01-27T12:47:28.536Z"
   },
   {
    "duration": 14,
    "start_time": "2022-01-27T12:47:28.575Z"
   },
   {
    "duration": 22,
    "start_time": "2022-01-27T12:47:28.592Z"
   },
   {
    "duration": 67,
    "start_time": "2022-01-27T12:47:28.616Z"
   },
   {
    "duration": 40,
    "start_time": "2022-01-27T12:47:28.686Z"
   },
   {
    "duration": 36,
    "start_time": "2022-01-27T12:47:28.730Z"
   },
   {
    "duration": 22,
    "start_time": "2022-01-27T12:47:28.769Z"
   },
   {
    "duration": 27,
    "start_time": "2022-01-27T12:47:28.793Z"
   },
   {
    "duration": 27,
    "start_time": "2022-01-27T12:47:28.822Z"
   },
   {
    "duration": 26,
    "start_time": "2022-01-27T12:47:28.852Z"
   },
   {
    "duration": 25,
    "start_time": "2022-01-27T12:47:28.880Z"
   },
   {
    "duration": 22,
    "start_time": "2022-01-27T12:47:28.907Z"
   },
   {
    "duration": 30,
    "start_time": "2022-01-27T12:47:28.932Z"
   },
   {
    "duration": 11,
    "start_time": "2022-01-27T12:47:28.965Z"
   },
   {
    "duration": 26,
    "start_time": "2022-01-27T12:47:28.978Z"
   },
   {
    "duration": 4934,
    "start_time": "2022-01-27T12:47:29.006Z"
   },
   {
    "duration": 21,
    "start_time": "2022-01-27T12:47:33.943Z"
   },
   {
    "duration": 7,
    "start_time": "2022-01-27T12:49:11.100Z"
   },
   {
    "duration": 27,
    "start_time": "2022-01-27T12:59:40.522Z"
   },
   {
    "duration": 6,
    "start_time": "2022-01-27T13:06:58.352Z"
   },
   {
    "duration": 17,
    "start_time": "2022-01-27T13:08:55.689Z"
   },
   {
    "duration": 9941,
    "start_time": "2022-01-27T14:12:33.763Z"
   },
   {
    "duration": 21,
    "start_time": "2022-01-27T14:15:53.344Z"
   },
   {
    "duration": 366,
    "start_time": "2022-01-27T14:18:06.786Z"
   },
   {
    "duration": 26,
    "start_time": "2022-01-27T14:18:18.336Z"
   },
   {
    "duration": 29,
    "start_time": "2022-01-27T14:18:51.718Z"
   },
   {
    "duration": 210,
    "start_time": "2022-01-27T14:20:52.220Z"
   },
   {
    "duration": 8386,
    "start_time": "2022-01-27T14:20:58.303Z"
   },
   {
    "duration": 198,
    "start_time": "2022-01-27T14:21:06.493Z"
   },
   {
    "duration": 30,
    "start_time": "2022-01-27T14:22:22.593Z"
   },
   {
    "duration": 16,
    "start_time": "2022-01-27T14:26:50.524Z"
   },
   {
    "duration": 25,
    "start_time": "2022-01-27T14:26:59.629Z"
   },
   {
    "duration": 30,
    "start_time": "2022-01-27T14:27:15.063Z"
   },
   {
    "duration": 32,
    "start_time": "2022-01-27T14:27:16.518Z"
   },
   {
    "duration": 37,
    "start_time": "2022-01-27T14:29:48.385Z"
   },
   {
    "duration": 44,
    "start_time": "2022-01-27T14:33:40.987Z"
   },
   {
    "duration": 470,
    "start_time": "2022-01-27T14:44:36.673Z"
   },
   {
    "duration": 35,
    "start_time": "2022-01-27T14:44:43.449Z"
   },
   {
    "duration": 34,
    "start_time": "2022-01-27T14:49:34.047Z"
   },
   {
    "duration": 29,
    "start_time": "2022-01-27T14:49:42.320Z"
   },
   {
    "duration": 42,
    "start_time": "2022-01-27T14:49:53.558Z"
   },
   {
    "duration": 145,
    "start_time": "2022-01-27T14:56:57.921Z"
   },
   {
    "duration": 9030,
    "start_time": "2022-01-27T14:57:01.900Z"
   },
   {
    "duration": 31,
    "start_time": "2022-01-27T14:57:14.042Z"
   },
   {
    "duration": 34,
    "start_time": "2022-01-27T14:58:28.742Z"
   },
   {
    "duration": 29,
    "start_time": "2022-01-27T14:58:47.914Z"
   },
   {
    "duration": 399,
    "start_time": "2022-01-27T14:59:10.587Z"
   },
   {
    "duration": 29,
    "start_time": "2022-01-27T14:59:32.833Z"
   },
   {
    "duration": 391,
    "start_time": "2022-01-27T14:59:39.913Z"
   },
   {
    "duration": 31,
    "start_time": "2022-01-27T14:59:51.250Z"
   },
   {
    "duration": 30,
    "start_time": "2022-01-27T14:59:53.470Z"
   },
   {
    "duration": 29,
    "start_time": "2022-01-27T14:59:55.082Z"
   },
   {
    "duration": 636,
    "start_time": "2022-02-06T08:25:50.240Z"
   },
   {
    "duration": 20,
    "start_time": "2022-02-06T08:25:50.879Z"
   },
   {
    "duration": 16,
    "start_time": "2022-02-06T08:25:50.902Z"
   },
   {
    "duration": 45,
    "start_time": "2022-02-06T08:25:50.920Z"
   },
   {
    "duration": 17,
    "start_time": "2022-02-06T08:25:50.968Z"
   },
   {
    "duration": 19,
    "start_time": "2022-02-06T08:25:50.987Z"
   },
   {
    "duration": 67,
    "start_time": "2022-02-06T08:25:51.007Z"
   },
   {
    "duration": 8,
    "start_time": "2022-02-06T08:25:51.076Z"
   },
   {
    "duration": 10,
    "start_time": "2022-02-06T08:25:51.086Z"
   },
   {
    "duration": 11,
    "start_time": "2022-02-06T08:25:51.098Z"
   },
   {
    "duration": 12,
    "start_time": "2022-02-06T08:25:51.111Z"
   },
   {
    "duration": 39,
    "start_time": "2022-02-06T08:25:51.125Z"
   },
   {
    "duration": 20,
    "start_time": "2022-02-06T08:25:51.166Z"
   },
   {
    "duration": 15,
    "start_time": "2022-02-06T08:25:51.188Z"
   },
   {
    "duration": 4,
    "start_time": "2022-02-06T08:25:51.205Z"
   },
   {
    "duration": 51,
    "start_time": "2022-02-06T08:25:51.211Z"
   },
   {
    "duration": 3,
    "start_time": "2022-02-06T08:25:51.263Z"
   },
   {
    "duration": 3153,
    "start_time": "2022-02-06T08:25:51.268Z"
   },
   {
    "duration": 6,
    "start_time": "2022-02-06T08:25:54.422Z"
   },
   {
    "duration": 8,
    "start_time": "2022-02-06T08:25:54.430Z"
   },
   {
    "duration": 13,
    "start_time": "2022-02-06T08:25:54.460Z"
   },
   {
    "duration": 23,
    "start_time": "2022-02-06T08:25:54.475Z"
   },
   {
    "duration": 30,
    "start_time": "2022-02-06T08:25:54.502Z"
   },
   {
    "duration": 13,
    "start_time": "2022-02-06T08:25:54.534Z"
   },
   {
    "duration": 22,
    "start_time": "2022-02-06T08:25:54.559Z"
   },
   {
    "duration": 20,
    "start_time": "2022-02-06T08:25:54.582Z"
   },
   {
    "duration": 19,
    "start_time": "2022-02-06T08:25:54.603Z"
   },
   {
    "duration": 51,
    "start_time": "2022-02-06T08:25:54.623Z"
   },
   {
    "duration": 816,
    "start_time": "2022-02-07T20:05:58.236Z"
   },
   {
    "duration": 29,
    "start_time": "2022-02-07T20:05:59.055Z"
   },
   {
    "duration": 89,
    "start_time": "2022-02-07T20:05:59.087Z"
   },
   {
    "duration": -175,
    "start_time": "2022-02-07T20:05:59.354Z"
   },
   {
    "duration": -177,
    "start_time": "2022-02-07T20:05:59.358Z"
   },
   {
    "duration": -179,
    "start_time": "2022-02-07T20:05:59.362Z"
   },
   {
    "duration": -182,
    "start_time": "2022-02-07T20:05:59.367Z"
   },
   {
    "duration": -184,
    "start_time": "2022-02-07T20:05:59.371Z"
   },
   {
    "duration": -186,
    "start_time": "2022-02-07T20:05:59.376Z"
   },
   {
    "duration": -187,
    "start_time": "2022-02-07T20:05:59.379Z"
   },
   {
    "duration": -189,
    "start_time": "2022-02-07T20:05:59.383Z"
   },
   {
    "duration": -203,
    "start_time": "2022-02-07T20:05:59.399Z"
   },
   {
    "duration": -204,
    "start_time": "2022-02-07T20:05:59.402Z"
   },
   {
    "duration": -205,
    "start_time": "2022-02-07T20:05:59.404Z"
   },
   {
    "duration": -206,
    "start_time": "2022-02-07T20:05:59.407Z"
   },
   {
    "duration": -206,
    "start_time": "2022-02-07T20:05:59.409Z"
   },
   {
    "duration": -207,
    "start_time": "2022-02-07T20:05:59.411Z"
   },
   {
    "duration": -206,
    "start_time": "2022-02-07T20:05:59.412Z"
   },
   {
    "duration": -206,
    "start_time": "2022-02-07T20:05:59.414Z"
   },
   {
    "duration": -207,
    "start_time": "2022-02-07T20:05:59.416Z"
   },
   {
    "duration": -208,
    "start_time": "2022-02-07T20:05:59.419Z"
   },
   {
    "duration": -207,
    "start_time": "2022-02-07T20:05:59.420Z"
   },
   {
    "duration": -207,
    "start_time": "2022-02-07T20:05:59.422Z"
   },
   {
    "duration": -207,
    "start_time": "2022-02-07T20:05:59.424Z"
   },
   {
    "duration": -207,
    "start_time": "2022-02-07T20:05:59.426Z"
   },
   {
    "duration": -207,
    "start_time": "2022-02-07T20:05:59.428Z"
   },
   {
    "duration": -207,
    "start_time": "2022-02-07T20:05:59.430Z"
   },
   {
    "duration": -206,
    "start_time": "2022-02-07T20:05:59.439Z"
   },
   {
    "duration": 334,
    "start_time": "2022-02-07T20:07:44.728Z"
   },
   {
    "duration": 269,
    "start_time": "2022-02-07T20:07:58.694Z"
   },
   {
    "duration": 106,
    "start_time": "2022-02-07T20:08:03.086Z"
   },
   {
    "duration": 19,
    "start_time": "2022-02-07T20:08:03.196Z"
   },
   {
    "duration": 110,
    "start_time": "2022-02-07T20:08:03.233Z"
   },
   {
    "duration": -163,
    "start_time": "2022-02-07T20:08:03.510Z"
   },
   {
    "duration": -167,
    "start_time": "2022-02-07T20:08:03.516Z"
   },
   {
    "duration": -169,
    "start_time": "2022-02-07T20:08:03.520Z"
   },
   {
    "duration": -171,
    "start_time": "2022-02-07T20:08:03.523Z"
   },
   {
    "duration": -173,
    "start_time": "2022-02-07T20:08:03.526Z"
   },
   {
    "duration": -173,
    "start_time": "2022-02-07T20:08:03.528Z"
   },
   {
    "duration": -175,
    "start_time": "2022-02-07T20:08:03.531Z"
   },
   {
    "duration": -176,
    "start_time": "2022-02-07T20:08:03.534Z"
   },
   {
    "duration": -176,
    "start_time": "2022-02-07T20:08:03.536Z"
   },
   {
    "duration": -177,
    "start_time": "2022-02-07T20:08:03.539Z"
   },
   {
    "duration": -190,
    "start_time": "2022-02-07T20:08:03.553Z"
   },
   {
    "duration": -192,
    "start_time": "2022-02-07T20:08:03.556Z"
   },
   {
    "duration": -192,
    "start_time": "2022-02-07T20:08:03.558Z"
   },
   {
    "duration": -194,
    "start_time": "2022-02-07T20:08:03.561Z"
   },
   {
    "duration": -196,
    "start_time": "2022-02-07T20:08:03.564Z"
   },
   {
    "duration": -196,
    "start_time": "2022-02-07T20:08:03.566Z"
   },
   {
    "duration": -198,
    "start_time": "2022-02-07T20:08:03.569Z"
   },
   {
    "duration": -199,
    "start_time": "2022-02-07T20:08:03.571Z"
   },
   {
    "duration": -199,
    "start_time": "2022-02-07T20:08:03.573Z"
   },
   {
    "duration": -200,
    "start_time": "2022-02-07T20:08:03.575Z"
   },
   {
    "duration": -200,
    "start_time": "2022-02-07T20:08:03.577Z"
   },
   {
    "duration": -207,
    "start_time": "2022-02-07T20:08:03.585Z"
   },
   {
    "duration": -208,
    "start_time": "2022-02-07T20:08:03.588Z"
   },
   {
    "duration": -209,
    "start_time": "2022-02-07T20:08:03.590Z"
   },
   {
    "duration": -211,
    "start_time": "2022-02-07T20:08:03.594Z"
   },
   {
    "duration": -217,
    "start_time": "2022-02-07T20:08:03.601Z"
   },
   {
    "duration": 70,
    "start_time": "2022-02-07T20:08:13.184Z"
   },
   {
    "duration": 72,
    "start_time": "2022-02-07T20:08:14.479Z"
   },
   {
    "duration": 62,
    "start_time": "2022-02-07T20:08:14.782Z"
   },
   {
    "duration": 21,
    "start_time": "2022-02-07T20:08:19.430Z"
   },
   {
    "duration": 125,
    "start_time": "2022-02-07T20:08:23.325Z"
   },
   {
    "duration": 19,
    "start_time": "2022-02-07T20:08:37.440Z"
   },
   {
    "duration": 21,
    "start_time": "2022-02-07T20:13:17.205Z"
   },
   {
    "duration": 277,
    "start_time": "2022-02-07T20:15:52.305Z"
   },
   {
    "duration": 43,
    "start_time": "2022-02-07T20:16:13.611Z"
   },
   {
    "duration": 40,
    "start_time": "2022-02-07T20:16:38.397Z"
   },
   {
    "duration": 33,
    "start_time": "2022-02-07T20:18:03.853Z"
   },
   {
    "duration": 42,
    "start_time": "2022-02-07T20:18:09.822Z"
   },
   {
    "duration": 43,
    "start_time": "2022-02-07T20:18:16.374Z"
   },
   {
    "duration": 51,
    "start_time": "2022-02-07T20:18:17.586Z"
   },
   {
    "duration": 48,
    "start_time": "2022-02-07T20:18:18.328Z"
   },
   {
    "duration": 44,
    "start_time": "2022-02-07T20:18:19.024Z"
   },
   {
    "duration": 69,
    "start_time": "2022-02-07T20:18:19.578Z"
   },
   {
    "duration": 59,
    "start_time": "2022-02-07T20:18:20.186Z"
   },
   {
    "duration": 41,
    "start_time": "2022-02-07T20:18:20.916Z"
   },
   {
    "duration": 39,
    "start_time": "2022-02-07T20:18:21.423Z"
   },
   {
    "duration": 40,
    "start_time": "2022-02-07T20:18:21.957Z"
   },
   {
    "duration": 41,
    "start_time": "2022-02-07T20:18:22.400Z"
   },
   {
    "duration": 40,
    "start_time": "2022-02-07T20:18:26.374Z"
   },
   {
    "duration": 64,
    "start_time": "2022-02-07T20:18:27.122Z"
   },
   {
    "duration": 76,
    "start_time": "2022-02-07T20:18:32.113Z"
   },
   {
    "duration": 42,
    "start_time": "2022-02-07T20:18:32.193Z"
   },
   {
    "duration": 45,
    "start_time": "2022-02-07T20:18:32.239Z"
   },
   {
    "duration": 47,
    "start_time": "2022-02-07T20:18:32.287Z"
   },
   {
    "duration": 22,
    "start_time": "2022-02-07T20:18:32.336Z"
   },
   {
    "duration": 25,
    "start_time": "2022-02-07T20:18:32.360Z"
   },
   {
    "duration": 71,
    "start_time": "2022-02-07T20:18:32.388Z"
   },
   {
    "duration": 17,
    "start_time": "2022-02-07T20:18:32.462Z"
   },
   {
    "duration": 12,
    "start_time": "2022-02-07T20:18:32.484Z"
   },
   {
    "duration": 10,
    "start_time": "2022-02-07T20:18:32.532Z"
   },
   {
    "duration": 19,
    "start_time": "2022-02-07T20:18:32.545Z"
   },
   {
    "duration": 30,
    "start_time": "2022-02-07T20:18:32.567Z"
   },
   {
    "duration": 34,
    "start_time": "2022-02-07T20:18:32.633Z"
   },
   {
    "duration": 28,
    "start_time": "2022-02-07T20:18:32.670Z"
   },
   {
    "duration": 35,
    "start_time": "2022-02-07T20:18:32.700Z"
   },
   {
    "duration": 11,
    "start_time": "2022-02-07T20:18:32.738Z"
   },
   {
    "duration": 11,
    "start_time": "2022-02-07T20:18:32.752Z"
   },
   {
    "duration": 5382,
    "start_time": "2022-02-07T20:18:32.766Z"
   },
   {
    "duration": 13,
    "start_time": "2022-02-07T20:18:38.151Z"
   },
   {
    "duration": 11,
    "start_time": "2022-02-07T20:18:38.168Z"
   },
   {
    "duration": 54,
    "start_time": "2022-02-07T20:18:38.183Z"
   },
   {
    "duration": 16,
    "start_time": "2022-02-07T20:18:38.240Z"
   },
   {
    "duration": 17,
    "start_time": "2022-02-07T20:18:38.258Z"
   },
   {
    "duration": 54,
    "start_time": "2022-02-07T20:18:38.278Z"
   },
   {
    "duration": 40,
    "start_time": "2022-02-07T20:18:38.334Z"
   },
   {
    "duration": 14,
    "start_time": "2022-02-07T20:18:38.377Z"
   },
   {
    "duration": 65,
    "start_time": "2022-02-07T20:18:38.397Z"
   },
   {
    "duration": 26,
    "start_time": "2022-02-07T20:18:38.464Z"
   },
   {
    "duration": 59,
    "start_time": "2022-02-07T20:18:38.493Z"
   },
   {
    "duration": 266,
    "start_time": "2022-02-07T20:20:55.535Z"
   },
   {
    "duration": 11,
    "start_time": "2022-02-07T20:21:11.101Z"
   },
   {
    "duration": 14,
    "start_time": "2022-02-07T20:35:57.164Z"
   },
   {
    "duration": 82,
    "start_time": "2022-02-07T20:36:25.449Z"
   },
   {
    "duration": 6296,
    "start_time": "2022-02-07T20:36:34.680Z"
   },
   {
    "duration": 5838,
    "start_time": "2022-02-07T20:36:57.367Z"
   },
   {
    "duration": 5933,
    "start_time": "2022-02-07T20:37:36.499Z"
   },
   {
    "duration": 5877,
    "start_time": "2022-02-07T20:37:51.135Z"
   },
   {
    "duration": 6319,
    "start_time": "2022-02-07T20:38:39.492Z"
   },
   {
    "duration": 6621,
    "start_time": "2022-02-07T20:39:02.060Z"
   },
   {
    "duration": 245,
    "start_time": "2022-02-07T20:39:35.285Z"
   },
   {
    "duration": 12,
    "start_time": "2022-02-07T20:39:47.497Z"
   },
   {
    "duration": 6,
    "start_time": "2022-02-07T20:45:15.452Z"
   },
   {
    "duration": 10,
    "start_time": "2022-02-07T20:45:42.309Z"
   },
   {
    "duration": 47,
    "start_time": "2022-02-07T20:45:55.350Z"
   },
   {
    "duration": 36,
    "start_time": "2022-02-07T20:46:31.715Z"
   },
   {
    "duration": 32,
    "start_time": "2022-02-07T20:48:03.635Z"
   },
   {
    "duration": 30,
    "start_time": "2022-02-07T20:48:46.332Z"
   },
   {
    "duration": 30,
    "start_time": "2022-02-07T20:48:55.086Z"
   },
   {
    "duration": 32,
    "start_time": "2022-02-07T20:48:56.742Z"
   },
   {
    "duration": 33,
    "start_time": "2022-02-07T20:48:57.486Z"
   },
   {
    "duration": 33,
    "start_time": "2022-02-07T20:49:09.678Z"
   },
   {
    "duration": 867,
    "start_time": "2022-02-08T06:10:42.308Z"
   },
   {
    "duration": 29,
    "start_time": "2022-02-08T06:10:43.178Z"
   },
   {
    "duration": 58,
    "start_time": "2022-02-08T06:10:43.211Z"
   },
   {
    "duration": 10,
    "start_time": "2022-02-08T06:10:43.272Z"
   },
   {
    "duration": 52,
    "start_time": "2022-02-08T06:10:43.284Z"
   },
   {
    "duration": 24,
    "start_time": "2022-02-08T06:10:43.338Z"
   },
   {
    "duration": 34,
    "start_time": "2022-02-08T06:10:43.364Z"
   },
   {
    "duration": 36,
    "start_time": "2022-02-08T06:10:43.401Z"
   },
   {
    "duration": 13,
    "start_time": "2022-02-08T06:10:43.441Z"
   },
   {
    "duration": 10,
    "start_time": "2022-02-08T06:10:43.457Z"
   },
   {
    "duration": 18,
    "start_time": "2022-02-08T06:10:43.469Z"
   },
   {
    "duration": 61,
    "start_time": "2022-02-08T06:10:43.489Z"
   },
   {
    "duration": 22,
    "start_time": "2022-02-08T06:10:43.553Z"
   },
   {
    "duration": 24,
    "start_time": "2022-02-08T06:10:43.577Z"
   },
   {
    "duration": 32,
    "start_time": "2022-02-08T06:10:43.603Z"
   },
   {
    "duration": 12,
    "start_time": "2022-02-08T06:10:43.638Z"
   },
   {
    "duration": 5,
    "start_time": "2022-02-08T06:10:43.652Z"
   },
   {
    "duration": 4490,
    "start_time": "2022-02-08T06:10:43.659Z"
   },
   {
    "duration": 9,
    "start_time": "2022-02-08T06:10:48.152Z"
   },
   {
    "duration": 12,
    "start_time": "2022-02-08T06:10:48.163Z"
   },
   {
    "duration": 16,
    "start_time": "2022-02-08T06:10:48.177Z"
   },
   {
    "duration": 46,
    "start_time": "2022-02-08T06:10:48.196Z"
   },
   {
    "duration": 22,
    "start_time": "2022-02-08T06:10:48.244Z"
   },
   {
    "duration": 23,
    "start_time": "2022-02-08T06:10:48.268Z"
   },
   {
    "duration": 7,
    "start_time": "2022-02-08T06:10:48.294Z"
   },
   {
    "duration": 60,
    "start_time": "2022-02-08T06:10:48.303Z"
   },
   {
    "duration": 13,
    "start_time": "2022-02-08T06:10:48.368Z"
   },
   {
    "duration": 55,
    "start_time": "2022-02-08T06:10:48.384Z"
   },
   {
    "duration": 30,
    "start_time": "2022-02-08T06:10:48.442Z"
   },
   {
    "duration": 30,
    "start_time": "2022-02-08T06:10:48.474Z"
   },
   {
    "duration": 5,
    "start_time": "2022-02-08T06:18:22.150Z"
   },
   {
    "duration": 670,
    "start_time": "2022-02-08T12:40:36.491Z"
   },
   {
    "duration": 17,
    "start_time": "2022-02-08T12:40:37.163Z"
   },
   {
    "duration": 28,
    "start_time": "2022-02-08T12:40:37.181Z"
   },
   {
    "duration": 6,
    "start_time": "2022-02-08T12:40:37.211Z"
   },
   {
    "duration": 40,
    "start_time": "2022-02-08T12:40:37.219Z"
   },
   {
    "duration": 15,
    "start_time": "2022-02-08T12:40:37.261Z"
   },
   {
    "duration": 24,
    "start_time": "2022-02-08T12:40:37.278Z"
   },
   {
    "duration": 7,
    "start_time": "2022-02-08T12:40:37.305Z"
   },
   {
    "duration": 9,
    "start_time": "2022-02-08T12:40:37.313Z"
   },
   {
    "duration": 7,
    "start_time": "2022-02-08T12:40:37.323Z"
   },
   {
    "duration": 38,
    "start_time": "2022-02-08T12:40:37.331Z"
   },
   {
    "duration": 14,
    "start_time": "2022-02-08T12:40:37.370Z"
   },
   {
    "duration": 17,
    "start_time": "2022-02-08T12:40:37.385Z"
   },
   {
    "duration": 14,
    "start_time": "2022-02-08T12:40:37.403Z"
   },
   {
    "duration": 4,
    "start_time": "2022-02-08T12:40:37.419Z"
   },
   {
    "duration": 37,
    "start_time": "2022-02-08T12:40:37.425Z"
   },
   {
    "duration": 4,
    "start_time": "2022-02-08T12:40:37.465Z"
   },
   {
    "duration": 3039,
    "start_time": "2022-02-08T12:40:37.471Z"
   },
   {
    "duration": 6,
    "start_time": "2022-02-08T12:40:40.512Z"
   },
   {
    "duration": 8,
    "start_time": "2022-02-08T12:40:40.519Z"
   },
   {
    "duration": 35,
    "start_time": "2022-02-08T12:40:40.529Z"
   },
   {
    "duration": 24,
    "start_time": "2022-02-08T12:40:40.565Z"
   },
   {
    "duration": 13,
    "start_time": "2022-02-08T12:40:40.592Z"
   },
   {
    "duration": 18,
    "start_time": "2022-02-08T12:40:40.607Z"
   },
   {
    "duration": 6,
    "start_time": "2022-02-08T12:40:40.627Z"
   },
   {
    "duration": 29,
    "start_time": "2022-02-08T12:40:40.634Z"
   },
   {
    "duration": 8,
    "start_time": "2022-02-08T12:40:40.665Z"
   },
   {
    "duration": 23,
    "start_time": "2022-02-08T12:40:40.674Z"
   },
   {
    "duration": 20,
    "start_time": "2022-02-08T12:40:40.699Z"
   },
   {
    "duration": 45,
    "start_time": "2022-02-08T12:40:40.721Z"
   },
   {
    "duration": 2507,
    "start_time": "2022-02-08T12:41:06.021Z"
   },
   {
    "duration": 21,
    "start_time": "2022-02-08T12:46:37.743Z"
   },
   {
    "duration": 4839,
    "start_time": "2022-02-08T12:47:51.035Z"
   },
   {
    "duration": 5530,
    "start_time": "2022-02-08T12:48:01.204Z"
   },
   {
    "duration": 7768,
    "start_time": "2022-02-08T12:48:12.674Z"
   },
   {
    "duration": 4615,
    "start_time": "2022-02-08T12:48:54.136Z"
   },
   {
    "duration": 183,
    "start_time": "2022-02-08T12:50:52.732Z"
   },
   {
    "duration": 19,
    "start_time": "2022-02-08T12:50:58.660Z"
   },
   {
    "duration": 4548,
    "start_time": "2022-02-08T12:56:07.046Z"
   },
   {
    "duration": 4517,
    "start_time": "2022-02-08T12:56:24.567Z"
   },
   {
    "duration": 4559,
    "start_time": "2022-02-08T12:56:31.617Z"
   },
   {
    "duration": 19,
    "start_time": "2022-02-08T13:18:47.270Z"
   },
   {
    "duration": 71,
    "start_time": "2022-02-08T13:19:18.481Z"
   },
   {
    "duration": 18,
    "start_time": "2022-02-08T13:19:25.932Z"
   },
   {
    "duration": 20,
    "start_time": "2022-02-08T13:24:50.663Z"
   },
   {
    "duration": 19,
    "start_time": "2022-02-08T13:24:52.879Z"
   },
   {
    "duration": 18,
    "start_time": "2022-02-08T13:25:01.990Z"
   },
   {
    "duration": 19,
    "start_time": "2022-02-08T13:25:02.440Z"
   },
   {
    "duration": 20,
    "start_time": "2022-02-08T13:25:03.349Z"
   },
   {
    "duration": 18,
    "start_time": "2022-02-08T13:25:03.549Z"
   },
   {
    "duration": 20,
    "start_time": "2022-02-08T13:25:03.749Z"
   },
   {
    "duration": 19,
    "start_time": "2022-02-08T13:25:03.881Z"
   },
   {
    "duration": 59,
    "start_time": "2022-02-08T13:25:08.779Z"
   },
   {
    "duration": 13,
    "start_time": "2022-02-08T13:25:08.840Z"
   },
   {
    "duration": 33,
    "start_time": "2022-02-08T13:25:08.855Z"
   },
   {
    "duration": 6,
    "start_time": "2022-02-08T13:25:08.890Z"
   },
   {
    "duration": 22,
    "start_time": "2022-02-08T13:25:08.898Z"
   },
   {
    "duration": 18,
    "start_time": "2022-02-08T13:25:08.922Z"
   },
   {
    "duration": 29,
    "start_time": "2022-02-08T13:25:08.959Z"
   },
   {
    "duration": 9,
    "start_time": "2022-02-08T13:25:08.991Z"
   },
   {
    "duration": 25,
    "start_time": "2022-02-08T13:25:09.003Z"
   },
   {
    "duration": 28,
    "start_time": "2022-02-08T13:25:09.031Z"
   },
   {
    "duration": 18,
    "start_time": "2022-02-08T13:25:09.061Z"
   },
   {
    "duration": 23,
    "start_time": "2022-02-08T13:25:09.081Z"
   },
   {
    "duration": 20,
    "start_time": "2022-02-08T13:25:09.106Z"
   },
   {
    "duration": 16,
    "start_time": "2022-02-08T13:25:09.127Z"
   },
   {
    "duration": 32,
    "start_time": "2022-02-08T13:25:09.144Z"
   },
   {
    "duration": 8,
    "start_time": "2022-02-08T13:25:09.178Z"
   },
   {
    "duration": 8,
    "start_time": "2022-02-08T13:25:09.188Z"
   },
   {
    "duration": 3217,
    "start_time": "2022-02-08T13:25:09.197Z"
   },
   {
    "duration": 6,
    "start_time": "2022-02-08T13:25:12.416Z"
   },
   {
    "duration": 17,
    "start_time": "2022-02-08T13:25:12.424Z"
   },
   {
    "duration": 19,
    "start_time": "2022-02-08T13:25:12.443Z"
   },
   {
    "duration": 28,
    "start_time": "2022-02-08T13:25:12.464Z"
   },
   {
    "duration": 22,
    "start_time": "2022-02-08T13:25:12.495Z"
   },
   {
    "duration": 24,
    "start_time": "2022-02-08T13:25:12.518Z"
   },
   {
    "duration": 17,
    "start_time": "2022-02-08T13:25:12.544Z"
   },
   {
    "duration": 32,
    "start_time": "2022-02-08T13:25:12.562Z"
   },
   {
    "duration": 8,
    "start_time": "2022-02-08T13:25:12.596Z"
   },
   {
    "duration": 23,
    "start_time": "2022-02-08T13:25:12.606Z"
   },
   {
    "duration": 34,
    "start_time": "2022-02-08T13:25:12.631Z"
   },
   {
    "duration": 19,
    "start_time": "2022-02-08T13:25:12.667Z"
   },
   {
    "duration": 19,
    "start_time": "2022-02-08T13:26:03.251Z"
   },
   {
    "duration": 18,
    "start_time": "2022-02-08T13:26:16.451Z"
   },
   {
    "duration": 19,
    "start_time": "2022-02-08T13:26:28.741Z"
   },
   {
    "duration": 5687,
    "start_time": "2022-02-08T13:28:10.354Z"
   },
   {
    "duration": 20,
    "start_time": "2022-02-08T13:28:21.049Z"
   },
   {
    "duration": 683,
    "start_time": "2022-09-16T10:39:06.321Z"
   },
   {
    "duration": 19,
    "start_time": "2022-09-16T10:39:07.006Z"
   },
   {
    "duration": 30,
    "start_time": "2022-09-16T10:39:07.027Z"
   },
   {
    "duration": 6,
    "start_time": "2022-09-16T10:39:07.059Z"
   },
   {
    "duration": 43,
    "start_time": "2022-09-16T10:39:07.067Z"
   },
   {
    "duration": 14,
    "start_time": "2022-09-16T10:39:07.112Z"
   },
   {
    "duration": 25,
    "start_time": "2022-09-16T10:39:07.127Z"
   },
   {
    "duration": 6,
    "start_time": "2022-09-16T10:39:07.154Z"
   },
   {
    "duration": 11,
    "start_time": "2022-09-16T10:39:07.162Z"
   },
   {
    "duration": 33,
    "start_time": "2022-09-16T10:39:07.176Z"
   },
   {
    "duration": 15,
    "start_time": "2022-09-16T10:39:07.211Z"
   },
   {
    "duration": 16,
    "start_time": "2022-09-16T10:39:07.227Z"
   },
   {
    "duration": 20,
    "start_time": "2022-09-16T10:39:07.244Z"
   },
   {
    "duration": 44,
    "start_time": "2022-09-16T10:39:07.266Z"
   },
   {
    "duration": 4,
    "start_time": "2022-09-16T10:39:07.312Z"
   },
   {
    "duration": 10,
    "start_time": "2022-09-16T10:39:07.317Z"
   },
   {
    "duration": 10,
    "start_time": "2022-09-16T10:39:07.328Z"
   },
   {
    "duration": 2622,
    "start_time": "2022-09-16T10:39:07.339Z"
   },
   {
    "duration": 5,
    "start_time": "2022-09-16T10:39:09.963Z"
   },
   {
    "duration": 17,
    "start_time": "2022-09-16T10:39:09.970Z"
   },
   {
    "duration": 21,
    "start_time": "2022-09-16T10:39:09.988Z"
   },
   {
    "duration": 44,
    "start_time": "2022-09-16T10:39:10.010Z"
   },
   {
    "duration": 27,
    "start_time": "2022-09-16T10:39:10.056Z"
   },
   {
    "duration": 19,
    "start_time": "2022-09-16T10:39:10.085Z"
   },
   {
    "duration": 24,
    "start_time": "2022-09-16T10:39:10.106Z"
   },
   {
    "duration": 28,
    "start_time": "2022-09-16T10:39:10.132Z"
   },
   {
    "duration": 10,
    "start_time": "2022-09-16T10:39:10.161Z"
   },
   {
    "duration": 41,
    "start_time": "2022-09-16T10:39:10.174Z"
   },
   {
    "duration": 17,
    "start_time": "2022-09-16T10:39:10.216Z"
   },
   {
    "duration": 31,
    "start_time": "2022-09-16T10:39:10.234Z"
   }
  ],
  "kernelspec": {
   "display_name": "Python 3 (ipykernel)",
   "language": "python",
   "name": "python3"
  },
  "language_info": {
   "codemirror_mode": {
    "name": "ipython",
    "version": 3
   },
   "file_extension": ".py",
   "mimetype": "text/x-python",
   "name": "python",
   "nbconvert_exporter": "python",
   "pygments_lexer": "ipython3",
   "version": "3.9.5"
  },
  "toc": {
   "base_numbering": 1,
   "nav_menu": {
    "height": "226px",
    "width": "236px"
   },
   "number_sections": true,
   "sideBar": true,
   "skip_h1_title": true,
   "title_cell": "Table of Contents",
   "title_sidebar": "Contents",
   "toc_cell": false,
   "toc_position": {},
   "toc_section_display": true,
   "toc_window_display": false
  }
 },
 "nbformat": 4,
 "nbformat_minor": 2
}
