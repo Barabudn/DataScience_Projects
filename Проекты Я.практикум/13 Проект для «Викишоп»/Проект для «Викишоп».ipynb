{
 "cells": [
  {
   "cell_type": "markdown",
   "id": "a4a289b7",
   "metadata": {},
   "source": [
    "# Описание проекта\n",
    "Интернет-магазин «Викишоп» запускает новый сервис. Теперь пользователи могут редактировать и дополнять описания товаров, как в вики-сообществах. То есть клиенты предлагают свои правки и комментируют изменения других. Магазину нужен инструмент, который будет искать токсичные комментарии и отправлять их на модерацию.\n",
    "Обучите модель классифицировать комментарии на позитивные и негативные. В вашем распоряжении набор данных с разметкой о токсичности правок.\n",
    "\n",
    "Постройте модель со значением метрики качества F1 не меньше 0.75."
   ]
  },
  {
   "cell_type": "code",
   "execution_count": 1,
   "id": "b42941c2",
   "metadata": {},
   "outputs": [],
   "source": [
    "#!pip install transformers\n",
    "#!pip3 install torchvision\n",
    "#!pip3 install catboost\n",
    "#!pip3 install lightgbm\n"
   ]
  },
  {
   "cell_type": "code",
   "execution_count": 2,
   "id": "c1a34d5e",
   "metadata": {
    "scrolled": true
   },
   "outputs": [],
   "source": [
    "#!pip3 install jupyterthemes "
   ]
  },
  {
   "cell_type": "code",
   "execution_count": 3,
   "id": "5da7763d",
   "metadata": {},
   "outputs": [],
   "source": [
    "#!jt -r"
   ]
  },
  {
   "cell_type": "code",
   "execution_count": 4,
   "id": "84080995",
   "metadata": {},
   "outputs": [],
   "source": [
    "import pandas as pd\n",
    "import numpy as np\n",
    "import matplotlib.pyplot as plt\n",
    "%matplotlib inline\n",
    "import re\n",
    "from tqdm import notebook\n",
    "\n",
    "import nltk\n",
    "from nltk.corpus import stopwords as nltk_stopwords\n",
    "import torch\n",
    "import transformers\n",
    "from transformers import BertTokenizer\n",
    "from transformers import AutoModel, AutoTokenizer\n",
    "\n",
    "from sklearn.feature_extraction.text import TfidfVectorizer, CountVectorizer\n",
    "from sklearn.model_selection import train_test_split, GridSearchCV\n",
    "from sklearn.metrics import f1_score\n",
    "from sklearn.model_selection import cross_val_score\n",
    "\n",
    "from sklearn.tree import DecisionTreeClassifier\n",
    "from sklearn.ensemble import RandomForestClassifier\n",
    "from sklearn.linear_model import LogisticRegression\n",
    "from catboost import CatBoost, CatBoostClassifier\n",
    "from lightgbm import LGBMClassifier\n",
    "from sklearn.dummy import DummyClassifier"
   ]
  },
  {
   "cell_type": "code",
   "execution_count": 5,
   "id": "deb2c325",
   "metadata": {},
   "outputs": [],
   "source": [
    "df = pd.read_csv('D:/Загрузки/toxic_comments.csv')"
   ]
  },
  {
   "cell_type": "code",
   "execution_count": 6,
   "id": "be52cf23",
   "metadata": {},
   "outputs": [
    {
     "data": {
      "text/html": [
       "<div>\n",
       "<style scoped>\n",
       "    .dataframe tbody tr th:only-of-type {\n",
       "        vertical-align: middle;\n",
       "    }\n",
       "\n",
       "    .dataframe tbody tr th {\n",
       "        vertical-align: top;\n",
       "    }\n",
       "\n",
       "    .dataframe thead th {\n",
       "        text-align: right;\n",
       "    }\n",
       "</style>\n",
       "<table border=\"1\" class=\"dataframe\">\n",
       "  <thead>\n",
       "    <tr style=\"text-align: right;\">\n",
       "      <th></th>\n",
       "      <th>text</th>\n",
       "      <th>toxic</th>\n",
       "    </tr>\n",
       "  </thead>\n",
       "  <tbody>\n",
       "    <tr>\n",
       "      <th>0</th>\n",
       "      <td>Explanation\\nWhy the edits made under my usern...</td>\n",
       "      <td>0</td>\n",
       "    </tr>\n",
       "    <tr>\n",
       "      <th>1</th>\n",
       "      <td>D'aww! He matches this background colour I'm s...</td>\n",
       "      <td>0</td>\n",
       "    </tr>\n",
       "    <tr>\n",
       "      <th>2</th>\n",
       "      <td>Hey man, I'm really not trying to edit war. It...</td>\n",
       "      <td>0</td>\n",
       "    </tr>\n",
       "    <tr>\n",
       "      <th>3</th>\n",
       "      <td>\"\\nMore\\nI can't make any real suggestions on ...</td>\n",
       "      <td>0</td>\n",
       "    </tr>\n",
       "    <tr>\n",
       "      <th>4</th>\n",
       "      <td>You, sir, are my hero. Any chance you remember...</td>\n",
       "      <td>0</td>\n",
       "    </tr>\n",
       "  </tbody>\n",
       "</table>\n",
       "</div>"
      ],
      "text/plain": [
       "                                                text  toxic\n",
       "0  Explanation\\nWhy the edits made under my usern...      0\n",
       "1  D'aww! He matches this background colour I'm s...      0\n",
       "2  Hey man, I'm really not trying to edit war. It...      0\n",
       "3  \"\\nMore\\nI can't make any real suggestions on ...      0\n",
       "4  You, sir, are my hero. Any chance you remember...      0"
      ]
     },
     "execution_count": 6,
     "metadata": {},
     "output_type": "execute_result"
    }
   ],
   "source": [
    "df.head()"
   ]
  },
  {
   "cell_type": "code",
   "execution_count": 7,
   "id": "8e039f2d",
   "metadata": {},
   "outputs": [
    {
     "name": "stdout",
     "output_type": "stream",
     "text": [
      "<class 'pandas.core.frame.DataFrame'>\n",
      "RangeIndex: 159571 entries, 0 to 159570\n",
      "Data columns (total 2 columns):\n",
      " #   Column  Non-Null Count   Dtype \n",
      "---  ------  --------------   ----- \n",
      " 0   text    159571 non-null  object\n",
      " 1   toxic   159571 non-null  int64 \n",
      "dtypes: int64(1), object(1)\n",
      "memory usage: 2.4+ MB\n"
     ]
    }
   ],
   "source": [
    "df.info()"
   ]
  },
  {
   "cell_type": "code",
   "execution_count": 8,
   "id": "7ee86fd5",
   "metadata": {},
   "outputs": [
    {
     "name": "stdout",
     "output_type": "stream",
     "text": [
      "Количество дублей в датасете: 0\n"
     ]
    }
   ],
   "source": [
    "print('Количество дублей в датасете:', df.duplicated().sum())"
   ]
  },
  {
   "cell_type": "markdown",
   "id": "66cdbf5a",
   "metadata": {},
   "source": [
    "В датасете два столбца и 159 571 строк. Пропусков и дубликатов нет."
   ]
  },
  {
   "cell_type": "code",
   "execution_count": 9,
   "id": "dddef357",
   "metadata": {
    "scrolled": true
   },
   "outputs": [
    {
     "data": {
      "text/plain": [
       "(-1.25, 1.25, -1.25, 1.25)"
      ]
     },
     "execution_count": 9,
     "metadata": {},
     "output_type": "execute_result"
    },
    {
     "data": {
      "image/png": "[encoded data removed]",
      "text/plain": [
       "<Figure size 360x360 with 1 Axes>"
      ]
     },
     "metadata": {},
     "output_type": "display_data"
    }
   ],
   "source": [
    "#Смотрим на соотношение позитивных и негативных комментариев\n",
    "df['toxic'].value_counts().plot(kind='pie', autopct='%1.1f%%', figsize=(5,5))\n",
    "plt.legend(['Позитивный','Негативный'])\n",
    "plt.title('Соотношение комментариев в датасете')\n",
    "plt.axis('off')"
   ]
  },
  {
   "cell_type": "markdown",
   "id": "870dff93",
   "metadata": {},
   "source": [
    "Негативных комментариев 10.2%, позитивных же 89.8%"
   ]
  },
  {
   "cell_type": "markdown",
   "id": "66e13bc7",
   "metadata": {},
   "source": [
    "Возьмем из выборки 1 000 случайных записей, чтобы не создавать эмбеддинги и сделаем негативные и позитивные комментарии в соотношении 50/50."
   ]
  },
  {
   "cell_type": "code",
   "execution_count": 10,
   "id": "e56650af",
   "metadata": {},
   "outputs": [
    {
     "data": {
      "text/plain": [
       "(-1.25, 1.25, -1.25, 1.25)"
      ]
     },
     "execution_count": 10,
     "metadata": {},
     "output_type": "execute_result"
    },
    {
     "data": {
      "image/png": "[encoded data removed]",
      "text/plain": [
       "<Figure size 360x360 with 1 Axes>"
      ]
     },
     "metadata": {},
     "output_type": "display_data"
    }
   ],
   "source": [
    "batch_df = df.sample(1000, random_state=12345).reset_index(drop=True)\n",
    "\n",
    "#проверим на соотношение позитивных и негативных комментариев\n",
    "batch_df['toxic'].value_counts().plot(kind='pie', autopct='%1.1f%%', figsize=(5,5))\n",
    "plt.legend(['Позитивный','Негативный'])\n",
    "plt.title('Соотношение комментариев в датасете')\n",
    "plt.axis('off')"
   ]
  },
  {
   "cell_type": "markdown",
   "id": "d42749da",
   "metadata": {},
   "source": [
    "В данном датасете Позитивных комментариев 90.1%, негативных же 9.9%"
   ]
  },
  {
   "cell_type": "code",
   "execution_count": 11,
   "id": "3c8b5524",
   "metadata": {},
   "outputs": [
    {
     "name": "stdout",
     "output_type": "stream",
     "text": [
      "(1000, 512)\n"
     ]
    },
    {
     "name": "stderr",
     "output_type": "stream",
     "text": [
      "Some weights of the model checkpoint at unitary/toxic-bert were not used when initializing BertModel: ['classifier.weight', 'classifier.bias']\n",
      "- This IS expected if you are initializing BertModel from the checkpoint of a model trained on another task or with another architecture (e.g. initializing a BertForSequenceClassification model from a BertForPreTraining model).\n",
      "- This IS NOT expected if you are initializing BertModel from the checkpoint of a model that you expect to be exactly identical (initializing a BertForSequenceClassification model from a BertForSequenceClassification model).\n"
     ]
    }
   ],
   "source": [
    "#возьмем уже обученную модель для выявления токсичных комментариев\n",
    "tokenizer = AutoTokenizer.from_pretrained('unitary/toxic-bert')\n",
    "\n",
    "tokenized = batch_df['text'].apply(\n",
    "    lambda x: tokenizer.encode(x, add_special_tokens=True, truncation=True, max_length=512))\n",
    "\n",
    "max_len = 0\n",
    "for i in tokenized.values:\n",
    "    if len(i) > max_len:\n",
    "        max_len = len(i)\n",
    "\n",
    "padded = np.array([i + [0]*(max_len - len(i)) for i in tokenized.values])\n",
    "\n",
    "attention_mask = np.where(padded != 0, 1, 0)\n",
    "print(attention_mask.shape)\n",
    "\n",
    "#инициализируем саму модель класса BertModel\n",
    "model = AutoModel.from_pretrained('unitary/toxic-bert')"
   ]
  },
  {
   "cell_type": "code",
   "execution_count": 12,
   "id": "eb87cecf",
   "metadata": {},
   "outputs": [
    {
     "data": {
      "application/vnd.jupyter.widget-view+json": {
       "model_id": "392943bf3077473da3f72e4770c93486",
       "version_major": 2,
       "version_minor": 0
      },
      "text/plain": [
       "  0%|          | 0/10 [00:00<?, ?it/s]"
      ]
     },
     "metadata": {},
     "output_type": "display_data"
    },
    {
     "name": "stdout",
     "output_type": "stream",
     "text": [
      "Wall time: 13min 9s\n"
     ]
    }
   ],
   "source": [
    "%%time\n",
    "\n",
    "#эмбеддинги модель BERT создаёт батчами. Из-за мощьностей компьютера, сделаем размер батча небольшим\n",
    "batch_size = 100\n",
    "\n",
    "#пустой список для хранения эмбеддингов\n",
    "embeddings = []\n",
    "\n",
    "\n",
    "#цикл по батчам. Отображать прогресс будет функция notebook\n",
    "for i in notebook.tqdm(range(padded.shape[0] // batch_size)):\n",
    "        \n",
    "        # преобразуем данные в формат тензоров\n",
    "        batch = torch.LongTensor(padded[batch_size*i:batch_size*(i+1)])\n",
    "        # преобразуем маску\n",
    "        attention_mask_batch = torch.LongTensor(attention_mask[batch_size*i:batch_size*(i+1)])\n",
    "        \n",
    "        with torch.no_grad():\n",
    "            #чтобы получить эмбеддинги для батча, передадим модели данные и маску\n",
    "            batch_embeddings = model(batch, attention_mask=attention_mask_batch)\n",
    "        \n",
    "        # преобразуем элементы методом numpy() к типу numpy.array\n",
    "        embeddings.append(batch_embeddings[0][:,0,:].numpy())"
   ]
  },
  {
   "cell_type": "code",
   "execution_count": 14,
   "id": "3654dfcd",
   "metadata": {},
   "outputs": [
    {
     "name": "stdout",
     "output_type": "stream",
     "text": [
      "Размер обучающей выборки: 600\n",
      "Размер тестовой выборки: 200\n",
      "Размер валидационной выборки: 200\n"
     ]
    }
   ],
   "source": [
    "#создадим обучающую, валидационную и тестовую выборки в соотношении 3:1:1\n",
    "features_train, features_test, target_train, target_test = train_test_split(\n",
    "    features, target, test_size=0.2, random_state=12345)\n",
    "\n",
    "features_train, features_valid, target_train, target_valid = train_test_split(\n",
    "    features_train, target_train, test_size=0.25, random_state=12345)\n",
    "\n",
    "print('Размер обучающей выборки:', len(target_train))\n",
    "print('Размер тестовой выборки:', len(target_test))\n",
    "print('Размер валидационной выборки:', len(target_valid))"
   ]
  },
  {
   "cell_type": "markdown",
   "id": "7840aa97",
   "metadata": {},
   "source": [
    "# Обучение модели"
   ]
  },
  {
   "cell_type": "markdown",
   "id": "d8b605ea",
   "metadata": {},
   "source": [
    "## логистическая регрессия"
   ]
  },
  {
   "cell_type": "code",
   "execution_count": 22,
   "id": "7bc78d8c",
   "metadata": {},
   "outputs": [
    {
     "name": "stderr",
     "output_type": "stream",
     "text": [
      "D:\\anaconda\\lib\\site-packages\\sklearn\\linear_model\\_sag.py:328: ConvergenceWarning: The max_iter was reached which means the coef_ did not converge\n",
      "  warnings.warn(\"The max_iter was reached which means \"\n",
      "D:\\anaconda\\lib\\site-packages\\sklearn\\linear_model\\_sag.py:328: ConvergenceWarning: The max_iter was reached which means the coef_ did not converge\n",
      "  warnings.warn(\"The max_iter was reached which means \"\n",
      "D:\\anaconda\\lib\\site-packages\\sklearn\\linear_model\\_sag.py:328: ConvergenceWarning: The max_iter was reached which means the coef_ did not converge\n",
      "  warnings.warn(\"The max_iter was reached which means \"\n",
      "D:\\anaconda\\lib\\site-packages\\sklearn\\linear_model\\_sag.py:328: ConvergenceWarning: The max_iter was reached which means the coef_ did not converge\n",
      "  warnings.warn(\"The max_iter was reached which means \"\n"
     ]
    },
    {
     "name": "stdout",
     "output_type": "stream",
     "text": [
      "F1 логистической регрессии: 0.96\n",
      "Wall time: 1.15 s\n"
     ]
    },
    {
     "name": "stderr",
     "output_type": "stream",
     "text": [
      "D:\\anaconda\\lib\\site-packages\\sklearn\\linear_model\\_sag.py:328: ConvergenceWarning: The max_iter was reached which means the coef_ did not converge\n",
      "  warnings.warn(\"The max_iter was reached which means \"\n",
      "D:\\anaconda\\lib\\site-packages\\sklearn\\linear_model\\_sag.py:328: ConvergenceWarning: The max_iter was reached which means the coef_ did not converge\n",
      "  warnings.warn(\"The max_iter was reached which means \"\n"
     ]
    }
   ],
   "source": [
    "%%time\n",
    "\n",
    "\n",
    "logistic_model = LogisticRegression(random_state=12345, solver='saga')\n",
    "logistic_model.fit(features_train, target_train)\n",
    "\n",
    "print('F1 логистической регрессии:', cross_val_score(\n",
    "    logistic_model, features_valid, target_valid, cv=5, scoring='f1').mean())"
   ]
  },
  {
   "cell_type": "markdown",
   "id": "25e76f24",
   "metadata": {},
   "source": [
    "### Случайный лес"
   ]
  },
  {
   "cell_type": "code",
   "execution_count": 31,
   "id": "829db08e",
   "metadata": {
    "scrolled": true
   },
   "outputs": [
    {
     "name": "stdout",
     "output_type": "stream",
     "text": [
      "Лучшие параметры случайного леса: {'max_depth': 10, 'n_estimators': 18}\n",
      "F1 случайного леса составляет: 0.9714285714285715\n",
      "Wall time: 7.2 s\n"
     ]
    }
   ],
   "source": [
    "%%time\n",
    "\n",
    "\n",
    "forest_model = RandomForestClassifier(random_state=12345)\n",
    "forest_params = {'n_estimators':range(9, 45, 9), 'max_depth':range(10, 20)}\n",
    "forest_grid = GridSearchCV(forest_model, forest_params, cv=5, scoring='f1', n_jobs=-1)\n",
    "forest_grid.fit(features_train, target_train)\n",
    "\n",
    "print('Лучшие параметры случайного леса:', forest_grid.best_params_)\n",
    "print('F1 случайного леса составляет:',  cross_val_score(\n",
    "    forest_grid, features_valid, target_valid, cv=5, scoring='f1').mean())"
   ]
  },
  {
   "cell_type": "markdown",
   "id": "8c7a5ae9",
   "metadata": {},
   "source": [
    "### Catboost"
   ]
  },
  {
   "cell_type": "code",
   "execution_count": 16,
   "id": "162b764c",
   "metadata": {
    "scrolled": false
   },
   "outputs": [
    {
     "name": "stdout",
     "output_type": "stream",
     "text": [
      "Лучшие параметры Catboost: {'depth': 5, 'learning_rate': 0.05}\n",
      "F1 Catboost составляет: 0.8647619047619047\n",
      "Wall time: 4min 10s\n"
     ]
    }
   ],
   "source": [
    "%%time\n",
    "\n",
    "\n",
    "\n",
    "cat_model = CatBoostClassifier(iterations=100, verbose=False, random_state=12345)\n",
    "cat_params = {'learning_rate':[0.05, 0.1], #скорость обучения\n",
    "              'depth':[5, 7]} #depth - глубина дерева\n",
    "cat_grid = GridSearchCV(cat_model, cat_params, cv=3, scoring='f1', n_jobs=-1)\n",
    "cat_grid.fit(features_train, target_train)\n",
    "\n",
    "print('Лучшие параметры Catboost:', cat_grid.best_params_)\n",
    "print('F1 Catboost составляет:', cross_val_score(\n",
    "    cat_grid, features_valid, target_valid, cv=5, scoring='f1').mean())"
   ]
  },
  {
   "cell_type": "markdown",
   "id": "87d0777d",
   "metadata": {},
   "source": [
    "### LightGBM"
   ]
  },
  {
   "cell_type": "code",
   "execution_count": 17,
   "id": "b0ab8561",
   "metadata": {},
   "outputs": [
    {
     "name": "stdout",
     "output_type": "stream",
     "text": [
      "Лучшие параметры LightGBM: {'n_estimators': 150, 'num_leaves': 15}\n",
      "F1 LightGBM составляет: 0.8571428571428571\n",
      "Wall time: 29.3 s\n"
     ]
    }
   ],
   "source": [
    "%%time\n",
    "\n",
    "\n",
    "\n",
    "gbm_model = LGBMClassifier(random_state=12345)\n",
    "gbm_params = {'n_estimators':[100, 150], #количество деревьев решений\n",
    "              'num_leaves':[10, 15, 20]} #количество терминальных узлов (листьев) дерева\n",
    "gbm_grid = GridSearchCV(gbm_model, gbm_params, cv=5, scoring='f1', n_jobs=-1)\n",
    "gbm_grid.fit(features_train, target_train)\n",
    "\n",
    "print('Лучшие параметры LightGBM:', gbm_grid.best_params_)\n",
    "print('F1 LightGBM составляет:', cross_val_score(\n",
    "    gbm_grid, features_valid, target_valid, cv=5, scoring='f1').mean())"
   ]
  },
  {
   "cell_type": "markdown",
   "id": "7d56a4de",
   "metadata": {},
   "source": [
    "Все модели показали отличный результат f1 и самый минимальный результат получился у LightGBM равный 0.857. При этом лучше всех оказался случайный лес с результатом 0.971. Его и проверим на тестовой выборке."
   ]
  },
  {
   "cell_type": "markdown",
   "id": "9d1bafcd",
   "metadata": {},
   "source": [
    "# Проверка адекватности модели"
   ]
  },
  {
   "cell_type": "code",
   "execution_count": 18,
   "id": "5432b8cd",
   "metadata": {},
   "outputs": [
    {
     "name": "stdout",
     "output_type": "stream",
     "text": [
      "Accuracy: 0.9033333333333333\n",
      "F1 Dummy: 0.0\n"
     ]
    }
   ],
   "source": [
    "dummy_clf = DummyClassifier(strategy=\"prior\")\n",
    "dummy_clf.fit(features_train, target_train)\n",
    "dummy_clf_pred = dummy_clf.predict(features_train)\n",
    "print('Accuracy:', dummy_clf.score(dummy_clf_pred, target_train))\n",
    "print('F1 Dummy:', cross_val_score(dummy_clf, features_valid, target_valid, cv=5, scoring='f1').mean())"
   ]
  },
  {
   "cell_type": "markdown",
   "id": "8064bfb2",
   "metadata": {},
   "source": [
    "F1 Dummy модели составляет 0.0, а accuracy составил 0.903"
   ]
  },
  {
   "cell_type": "code",
   "execution_count": 23,
   "id": "d8212809",
   "metadata": {},
   "outputs": [
    {
     "data": {
      "text/html": [
       "<div>\n",
       "<style scoped>\n",
       "    .dataframe tbody tr th:only-of-type {\n",
       "        vertical-align: middle;\n",
       "    }\n",
       "\n",
       "    .dataframe tbody tr th {\n",
       "        vertical-align: top;\n",
       "    }\n",
       "\n",
       "    .dataframe thead th {\n",
       "        text-align: right;\n",
       "    }\n",
       "</style>\n",
       "<table border=\"1\" class=\"dataframe\">\n",
       "  <thead>\n",
       "    <tr style=\"text-align: right;\">\n",
       "      <th></th>\n",
       "      <th>Модель</th>\n",
       "      <th>F1:</th>\n",
       "    </tr>\n",
       "  </thead>\n",
       "  <tbody>\n",
       "    <tr>\n",
       "      <th>0</th>\n",
       "      <td>Logistic Regression</td>\n",
       "      <td>0.960</td>\n",
       "    </tr>\n",
       "    <tr>\n",
       "      <th>1</th>\n",
       "      <td>RandomForest</td>\n",
       "      <td>0.971</td>\n",
       "    </tr>\n",
       "    <tr>\n",
       "      <th>2</th>\n",
       "      <td>Catboost</td>\n",
       "      <td>0.864</td>\n",
       "    </tr>\n",
       "    <tr>\n",
       "      <th>3</th>\n",
       "      <td>LightGBM</td>\n",
       "      <td>0.857</td>\n",
       "    </tr>\n",
       "    <tr>\n",
       "      <th>4</th>\n",
       "      <td>Dummy Model</td>\n",
       "      <td>0.000</td>\n",
       "    </tr>\n",
       "  </tbody>\n",
       "</table>\n",
       "</div>"
      ],
      "text/plain": [
       "                Модель    F1:\n",
       "0  Logistic Regression  0.960\n",
       "1         RandomForest  0.971\n",
       "2             Catboost  0.864\n",
       "3             LightGBM  0.857\n",
       "4          Dummy Model  0.000"
      ]
     },
     "metadata": {},
     "output_type": "display_data"
    }
   ],
   "source": [
    "data={'Модель': ['Logistic Regression', 'RandomForest', 'Catboost', 'LightGBM', 'Dummy Model'],\n",
    "      'F1:': [0.96, 0.971, 0.864, 0.857, 0.0]}\n",
    "data_pivot=pd.DataFrame.from_dict(data)\n",
    "display(data_pivot)"
   ]
  },
  {
   "cell_type": "markdown",
   "id": "87fbe2c8",
   "metadata": {},
   "source": [
    "### Проверим логистическую регрессию с лучшими параметрами на тестовой выборке."
   ]
  },
  {
   "cell_type": "code",
   "execution_count": 32,
   "id": "0ce1d7eb",
   "metadata": {},
   "outputs": [
    {
     "name": "stdout",
     "output_type": "stream",
     "text": [
      "F1 случайного леса на тестовой выборке составляет: 0.9028571428571428\n"
     ]
    }
   ],
   "source": [
    "model = RandomForestClassifier(random_state=12345, n_estimators=18, max_depth=10)\n",
    "\n",
    "model.fit(features_train, target_train)\n",
    "predictions = model.predict(features_test)\n",
    "\n",
    "print('F1 случайного леса на тестовой выборке составляет:',  cross_val_score(\n",
    "    model, features_valid, target_valid, cv=5, scoring='f1').mean())"
   ]
  },
  {
   "cell_type": "markdown",
   "id": "7d9a7398",
   "metadata": {},
   "source": [
    "Получили результат f1 равный 0.902"
   ]
  },
  {
   "cell_type": "markdown",
   "id": "21470ea8",
   "metadata": {},
   "source": [
    "# Выводы"
   ]
  },
  {
   "cell_type": "markdown",
   "id": "162113eb",
   "metadata": {},
   "source": [
    "1. Для подготовки текста была использована предобученная нейросеть BERT.\n",
    "2. Из всего датасета для создания эмбеддингов была взята выборка из 2 500 случайных записей.\n",
    "3. Для обучения были выбраны 4 модели: логистическая регрессия, случайный лес, Catboost и LightGBM.\n",
    "4. Все модели показали отличный результат f1.\n",
    "5. Лучший результат показала модель случайного леса и на обучающей выборке был получен f1 равный 0.971"
   ]
  }
 ],
 "metadata": {
  "ExecuteTimeLog": [
   {
    "duration": 49,
    "start_time": "2022-06-30T06:21:39.954Z"
   }
  ],
  "kernelspec": {
   "display_name": "Python 3 (ipykernel)",
   "language": "python",
   "name": "python3"
  },
  "language_info": {
   "codemirror_mode": {
    "name": "ipython",
    "version": 3
   },
   "file_extension": ".py",
   "mimetype": "text/x-python",
   "name": "python",
   "nbconvert_exporter": "python",
   "pygments_lexer": "ipython3",
   "version": "3.9.5"
  },
  "toc": {
   "base_numbering": 1,
   "nav_menu": {},
   "number_sections": true,
   "sideBar": true,
   "skip_h1_title": true,
   "title_cell": "Table of Contents",
   "title_sidebar": "Contents",
   "toc_cell": false,
   "toc_position": {},
   "toc_section_display": true,
   "toc_window_display": false
  }
 },
 "nbformat": 4,
 "nbformat_minor": 5
}
