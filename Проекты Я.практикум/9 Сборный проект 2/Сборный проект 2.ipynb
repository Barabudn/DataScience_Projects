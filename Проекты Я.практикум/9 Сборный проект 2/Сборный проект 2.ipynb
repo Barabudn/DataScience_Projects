{
 "cells": [
  {
   "cell_type": "markdown",
   "metadata": {
    "toc": true
   },
   "source": [
    "<h1>Содержание<span class=\"tocSkip\"></span></h1>\n",
    "<div class=\"toc\"><ul class=\"toc-item\"><li><span><a href=\"#Подготовка-данных\" data-toc-modified-id=\"Подготовка-данных-1\"><span class=\"toc-item-num\">1&nbsp;&nbsp;</span>Подготовка данных</a></span><ul class=\"toc-item\"><li><span><a href=\"#Расчёт-эффективности\" data-toc-modified-id=\"Расчёт-эффективности-1.1\"><span class=\"toc-item-num\">1.1&nbsp;&nbsp;</span>Расчёт эффективности</a></span></li><li><span><a href=\"#Анализ-признаков,-недоступных-в-тестовой-выборке\" data-toc-modified-id=\"Анализ-признаков,-недоступных-в-тестовой-выборке-1.2\"><span class=\"toc-item-num\">1.2&nbsp;&nbsp;</span>Анализ признаков, недоступных в тестовой выборке</a></span></li><li><span><a href=\"#Предобработка-данных\" data-toc-modified-id=\"Предобработка-данных-1.3\"><span class=\"toc-item-num\">1.3&nbsp;&nbsp;</span>Предобработка данных</a></span></li><li><span><a href=\"#Вывод:\" data-toc-modified-id=\"Вывод:-1.4\"><span class=\"toc-item-num\">1.4&nbsp;&nbsp;</span>Вывод:</a></span></li></ul></li><li><span><a href=\"#Анализ-данных\" data-toc-modified-id=\"Анализ-данных-2\"><span class=\"toc-item-num\">2&nbsp;&nbsp;</span>Анализ данных</a></span><ul class=\"toc-item\"><li><span><a href=\"#Посмотрим,-как-меняется-концентрация-металлов-(Au,-Ag,-Pb)-на-различных-этапах-очистки\" data-toc-modified-id=\"Посмотрим,-как-меняется-концентрация-металлов-(Au,-Ag,-Pb)-на-различных-этапах-очистки-2.1\"><span class=\"toc-item-num\">2.1&nbsp;&nbsp;</span>Посмотрим, как меняется концентрация металлов (Au, Ag, Pb) на различных этапах очистки</a></span></li><li><span><a href=\"#Сравним-распределение-размеров-гранул-сырья-на-обучающей-и-тестовой-выборках.\" data-toc-modified-id=\"Сравним-распределение-размеров-гранул-сырья-на-обучающей-и-тестовой-выборках.-2.2\"><span class=\"toc-item-num\">2.2&nbsp;&nbsp;</span>Сравним распределение размеров гранул сырья на обучающей и тестовой выборках.</a></span></li><li><span><a href=\"#Исследуем-суммарную-концентрацию-всех-веществ-на-разных-стадиях\" data-toc-modified-id=\"Исследуем-суммарную-концентрацию-всех-веществ-на-разных-стадиях-2.3\"><span class=\"toc-item-num\">2.3&nbsp;&nbsp;</span>Исследуем суммарную концентрацию всех веществ на разных стадиях</a></span></li><li><span><a href=\"#Вывод:\" data-toc-modified-id=\"Вывод:-2.4\"><span class=\"toc-item-num\">2.4&nbsp;&nbsp;</span>Вывод:</a></span></li></ul></li><li><span><a href=\"#Модель\" data-toc-modified-id=\"Модель-3\"><span class=\"toc-item-num\">3&nbsp;&nbsp;</span>Модель</a></span><ul class=\"toc-item\"><li><span><a href=\"#Напишем-функцию-для-вычисления-итоговой-sMAPE\" data-toc-modified-id=\"Напишем-функцию-для-вычисления-итоговой-sMAPE-3.1\"><span class=\"toc-item-num\">3.1&nbsp;&nbsp;</span>Напишем функцию для вычисления итоговой sMAPE</a></span></li><li><span><a href=\"#Дерево-решений\" data-toc-modified-id=\"Дерево-решений-3.2\"><span class=\"toc-item-num\">3.2&nbsp;&nbsp;</span>Дерево решений</a></span></li><li><span><a href=\"#Случайный-лес\" data-toc-modified-id=\"Случайный-лес-3.3\"><span class=\"toc-item-num\">3.3&nbsp;&nbsp;</span>Случайный лес</a></span></li><li><span><a href=\"#Линейная-регрессия\" data-toc-modified-id=\"Линейная-регрессия-3.4\"><span class=\"toc-item-num\">3.4&nbsp;&nbsp;</span>Линейная регрессия</a></span></li><li><span><a href=\"#Проверка-модели-на-тестовой-выборке\" data-toc-modified-id=\"Проверка-модели-на-тестовой-выборке-3.5\"><span class=\"toc-item-num\">3.5&nbsp;&nbsp;</span>Проверка модели на тестовой выборке</a></span></li><li><span><a href=\"#Вывод:\" data-toc-modified-id=\"Вывод:-3.6\"><span class=\"toc-item-num\">3.6&nbsp;&nbsp;</span>Вывод:</a></span></li></ul></li><li><span><a href=\"#Вывод:\" data-toc-modified-id=\"Вывод:-4\"><span class=\"toc-item-num\">4&nbsp;&nbsp;</span>Вывод:</a></span></li></ul></div>"
   ]
  },
  {
   "cell_type": "markdown",
   "metadata": {},
   "source": [
    "# Восстановление золота из руды"
   ]
  },
  {
   "cell_type": "markdown",
   "metadata": {},
   "source": [
    "Подготовьте прототип модели машинного обучения для «Цифры». Компания разрабатывает решения для эффективной работы промышленных предприятий.\n",
    "\n",
    "Модель должна предсказать коэффициент восстановления золота из золотосодержащей руды. Используйте данные с параметрами добычи и очистки. \n",
    "\n",
    "Модель поможет оптимизировать производство, чтобы не запускать предприятие с убыточными характеристиками.\n",
    "\n",
    "Вам нужно:\n",
    "\n",
    "1. Подготовить данные;\n",
    "2. Провести исследовательский анализ данных;\n",
    "3. Построить и обучить модель.\n",
    "\n",
    "Чтобы выполнить проект, обращайтесь к библиотекам *pandas*, *matplotlib* и *sklearn.* Вам поможет их документация."
   ]
  },
  {
   "cell_type": "markdown",
   "metadata": {},
   "source": [
    "## Подготовка данных"
   ]
  },
  {
   "cell_type": "code",
   "execution_count": 1,
   "metadata": {},
   "outputs": [],
   "source": [
    "import pandas as pd\n",
    "import numpy as np\n",
    "import matplotlib.pyplot as plt\n",
    "import seaborn as sns\n",
    "\n",
    "from sklearn.model_selection import cross_val_score\n",
    "from sklearn.metrics import make_scorer\n",
    "from sklearn.metrics import mean_absolute_error\n",
    "\n",
    "from sklearn.tree import DecisionTreeRegressor\n",
    "from sklearn.linear_model import LinearRegression\n",
    "from sklearn.ensemble import RandomForestRegressor\n",
    "from sklearn.dummy import DummyRegressor\n"
   ]
  },
  {
   "cell_type": "code",
   "execution_count": 2,
   "metadata": {},
   "outputs": [],
   "source": [
    "df_train=pd.read_csv('D://Игорь/projects/gold_recovery_train_new.csv')\n",
    "df_test=pd.read_csv('D://Игорь/projects/gold_recovery_test_new.csv')\n",
    "df_full=pd.read_csv('D://Игорь/projects/gold_recovery_full_new.csv')"
   ]
  },
  {
   "cell_type": "code",
   "execution_count": 3,
   "metadata": {},
   "outputs": [
    {
     "data": {
      "text/html": [
       "<div>\n",
       "<style scoped>\n",
       "    .dataframe tbody tr th:only-of-type {\n",
       "        vertical-align: middle;\n",
       "    }\n",
       "\n",
       "    .dataframe tbody tr th {\n",
       "        vertical-align: top;\n",
       "    }\n",
       "\n",
       "    .dataframe thead th {\n",
       "        text-align: right;\n",
       "    }\n",
       "</style>\n",
       "<table border=\"1\" class=\"dataframe\">\n",
       "  <thead>\n",
       "    <tr style=\"text-align: right;\">\n",
       "      <th></th>\n",
       "      <th>date</th>\n",
       "      <th>final.output.concentrate_ag</th>\n",
       "      <th>final.output.concentrate_pb</th>\n",
       "      <th>final.output.concentrate_sol</th>\n",
       "      <th>final.output.concentrate_au</th>\n",
       "      <th>final.output.recovery</th>\n",
       "      <th>final.output.tail_ag</th>\n",
       "      <th>final.output.tail_pb</th>\n",
       "      <th>final.output.tail_sol</th>\n",
       "      <th>final.output.tail_au</th>\n",
       "      <th>...</th>\n",
       "      <th>secondary_cleaner.state.floatbank4_a_air</th>\n",
       "      <th>secondary_cleaner.state.floatbank4_a_level</th>\n",
       "      <th>secondary_cleaner.state.floatbank4_b_air</th>\n",
       "      <th>secondary_cleaner.state.floatbank4_b_level</th>\n",
       "      <th>secondary_cleaner.state.floatbank5_a_air</th>\n",
       "      <th>secondary_cleaner.state.floatbank5_a_level</th>\n",
       "      <th>secondary_cleaner.state.floatbank5_b_air</th>\n",
       "      <th>secondary_cleaner.state.floatbank5_b_level</th>\n",
       "      <th>secondary_cleaner.state.floatbank6_a_air</th>\n",
       "      <th>secondary_cleaner.state.floatbank6_a_level</th>\n",
       "    </tr>\n",
       "  </thead>\n",
       "  <tbody>\n",
       "    <tr>\n",
       "      <th>0</th>\n",
       "      <td>2016-01-15 00:00:00</td>\n",
       "      <td>6.055403</td>\n",
       "      <td>9.889648</td>\n",
       "      <td>5.507324</td>\n",
       "      <td>42.192020</td>\n",
       "      <td>70.541216</td>\n",
       "      <td>10.411962</td>\n",
       "      <td>0.895447</td>\n",
       "      <td>16.904297</td>\n",
       "      <td>2.143149</td>\n",
       "      <td>...</td>\n",
       "      <td>14.016835</td>\n",
       "      <td>-502.488007</td>\n",
       "      <td>12.099931</td>\n",
       "      <td>-504.715942</td>\n",
       "      <td>9.925633</td>\n",
       "      <td>-498.310211</td>\n",
       "      <td>8.079666</td>\n",
       "      <td>-500.470978</td>\n",
       "      <td>14.151341</td>\n",
       "      <td>-605.841980</td>\n",
       "    </tr>\n",
       "    <tr>\n",
       "      <th>1</th>\n",
       "      <td>2016-01-15 01:00:00</td>\n",
       "      <td>6.029369</td>\n",
       "      <td>9.968944</td>\n",
       "      <td>5.257781</td>\n",
       "      <td>42.701629</td>\n",
       "      <td>69.266198</td>\n",
       "      <td>10.462676</td>\n",
       "      <td>0.927452</td>\n",
       "      <td>16.634514</td>\n",
       "      <td>2.224930</td>\n",
       "      <td>...</td>\n",
       "      <td>13.992281</td>\n",
       "      <td>-505.503262</td>\n",
       "      <td>11.950531</td>\n",
       "      <td>-501.331529</td>\n",
       "      <td>10.039245</td>\n",
       "      <td>-500.169983</td>\n",
       "      <td>7.984757</td>\n",
       "      <td>-500.582168</td>\n",
       "      <td>13.998353</td>\n",
       "      <td>-599.787184</td>\n",
       "    </tr>\n",
       "    <tr>\n",
       "      <th>2</th>\n",
       "      <td>2016-01-15 02:00:00</td>\n",
       "      <td>6.055926</td>\n",
       "      <td>10.213995</td>\n",
       "      <td>5.383759</td>\n",
       "      <td>42.657501</td>\n",
       "      <td>68.116445</td>\n",
       "      <td>10.507046</td>\n",
       "      <td>0.953716</td>\n",
       "      <td>16.208849</td>\n",
       "      <td>2.257889</td>\n",
       "      <td>...</td>\n",
       "      <td>14.015015</td>\n",
       "      <td>-502.520901</td>\n",
       "      <td>11.912783</td>\n",
       "      <td>-501.133383</td>\n",
       "      <td>10.070913</td>\n",
       "      <td>-500.129135</td>\n",
       "      <td>8.013877</td>\n",
       "      <td>-500.517572</td>\n",
       "      <td>14.028663</td>\n",
       "      <td>-601.427363</td>\n",
       "    </tr>\n",
       "    <tr>\n",
       "      <th>3</th>\n",
       "      <td>2016-01-15 03:00:00</td>\n",
       "      <td>6.047977</td>\n",
       "      <td>9.977019</td>\n",
       "      <td>4.858634</td>\n",
       "      <td>42.689819</td>\n",
       "      <td>68.347543</td>\n",
       "      <td>10.422762</td>\n",
       "      <td>0.883763</td>\n",
       "      <td>16.532835</td>\n",
       "      <td>2.146849</td>\n",
       "      <td>...</td>\n",
       "      <td>14.036510</td>\n",
       "      <td>-500.857308</td>\n",
       "      <td>11.999550</td>\n",
       "      <td>-501.193686</td>\n",
       "      <td>9.970366</td>\n",
       "      <td>-499.201640</td>\n",
       "      <td>7.977324</td>\n",
       "      <td>-500.255908</td>\n",
       "      <td>14.005551</td>\n",
       "      <td>-599.996129</td>\n",
       "    </tr>\n",
       "    <tr>\n",
       "      <th>4</th>\n",
       "      <td>2016-01-15 04:00:00</td>\n",
       "      <td>6.148599</td>\n",
       "      <td>10.142511</td>\n",
       "      <td>4.939416</td>\n",
       "      <td>42.774141</td>\n",
       "      <td>66.927016</td>\n",
       "      <td>10.360302</td>\n",
       "      <td>0.792826</td>\n",
       "      <td>16.525686</td>\n",
       "      <td>2.055292</td>\n",
       "      <td>...</td>\n",
       "      <td>14.027298</td>\n",
       "      <td>-499.838632</td>\n",
       "      <td>11.953070</td>\n",
       "      <td>-501.053894</td>\n",
       "      <td>9.925709</td>\n",
       "      <td>-501.686727</td>\n",
       "      <td>7.894242</td>\n",
       "      <td>-500.356035</td>\n",
       "      <td>13.996647</td>\n",
       "      <td>-601.496691</td>\n",
       "    </tr>\n",
       "  </tbody>\n",
       "</table>\n",
       "<p>5 rows × 87 columns</p>\n",
       "</div>"
      ],
      "text/plain": [
       "                  date  final.output.concentrate_ag  \\\n",
       "0  2016-01-15 00:00:00                     6.055403   \n",
       "1  2016-01-15 01:00:00                     6.029369   \n",
       "2  2016-01-15 02:00:00                     6.055926   \n",
       "3  2016-01-15 03:00:00                     6.047977   \n",
       "4  2016-01-15 04:00:00                     6.148599   \n",
       "\n",
       "   final.output.concentrate_pb  final.output.concentrate_sol  \\\n",
       "0                     9.889648                      5.507324   \n",
       "1                     9.968944                      5.257781   \n",
       "2                    10.213995                      5.383759   \n",
       "3                     9.977019                      4.858634   \n",
       "4                    10.142511                      4.939416   \n",
       "\n",
       "   final.output.concentrate_au  final.output.recovery  final.output.tail_ag  \\\n",
       "0                    42.192020              70.541216             10.411962   \n",
       "1                    42.701629              69.266198             10.462676   \n",
       "2                    42.657501              68.116445             10.507046   \n",
       "3                    42.689819              68.347543             10.422762   \n",
       "4                    42.774141              66.927016             10.360302   \n",
       "\n",
       "   final.output.tail_pb  final.output.tail_sol  final.output.tail_au  ...  \\\n",
       "0              0.895447              16.904297              2.143149  ...   \n",
       "1              0.927452              16.634514              2.224930  ...   \n",
       "2              0.953716              16.208849              2.257889  ...   \n",
       "3              0.883763              16.532835              2.146849  ...   \n",
       "4              0.792826              16.525686              2.055292  ...   \n",
       "\n",
       "   secondary_cleaner.state.floatbank4_a_air  \\\n",
       "0                                 14.016835   \n",
       "1                                 13.992281   \n",
       "2                                 14.015015   \n",
       "3                                 14.036510   \n",
       "4                                 14.027298   \n",
       "\n",
       "   secondary_cleaner.state.floatbank4_a_level  \\\n",
       "0                                 -502.488007   \n",
       "1                                 -505.503262   \n",
       "2                                 -502.520901   \n",
       "3                                 -500.857308   \n",
       "4                                 -499.838632   \n",
       "\n",
       "   secondary_cleaner.state.floatbank4_b_air  \\\n",
       "0                                 12.099931   \n",
       "1                                 11.950531   \n",
       "2                                 11.912783   \n",
       "3                                 11.999550   \n",
       "4                                 11.953070   \n",
       "\n",
       "   secondary_cleaner.state.floatbank4_b_level  \\\n",
       "0                                 -504.715942   \n",
       "1                                 -501.331529   \n",
       "2                                 -501.133383   \n",
       "3                                 -501.193686   \n",
       "4                                 -501.053894   \n",
       "\n",
       "   secondary_cleaner.state.floatbank5_a_air  \\\n",
       "0                                  9.925633   \n",
       "1                                 10.039245   \n",
       "2                                 10.070913   \n",
       "3                                  9.970366   \n",
       "4                                  9.925709   \n",
       "\n",
       "   secondary_cleaner.state.floatbank5_a_level  \\\n",
       "0                                 -498.310211   \n",
       "1                                 -500.169983   \n",
       "2                                 -500.129135   \n",
       "3                                 -499.201640   \n",
       "4                                 -501.686727   \n",
       "\n",
       "   secondary_cleaner.state.floatbank5_b_air  \\\n",
       "0                                  8.079666   \n",
       "1                                  7.984757   \n",
       "2                                  8.013877   \n",
       "3                                  7.977324   \n",
       "4                                  7.894242   \n",
       "\n",
       "   secondary_cleaner.state.floatbank5_b_level  \\\n",
       "0                                 -500.470978   \n",
       "1                                 -500.582168   \n",
       "2                                 -500.517572   \n",
       "3                                 -500.255908   \n",
       "4                                 -500.356035   \n",
       "\n",
       "   secondary_cleaner.state.floatbank6_a_air  \\\n",
       "0                                 14.151341   \n",
       "1                                 13.998353   \n",
       "2                                 14.028663   \n",
       "3                                 14.005551   \n",
       "4                                 13.996647   \n",
       "\n",
       "   secondary_cleaner.state.floatbank6_a_level  \n",
       "0                                 -605.841980  \n",
       "1                                 -599.787184  \n",
       "2                                 -601.427363  \n",
       "3                                 -599.996129  \n",
       "4                                 -601.496691  \n",
       "\n",
       "[5 rows x 87 columns]"
      ]
     },
     "execution_count": 3,
     "metadata": {},
     "output_type": "execute_result"
    }
   ],
   "source": [
    "df_train.head()"
   ]
  },
  {
   "cell_type": "code",
   "execution_count": 4,
   "metadata": {},
   "outputs": [
    {
     "name": "stdout",
     "output_type": "stream",
     "text": [
      "<class 'pandas.core.frame.DataFrame'>\n",
      "RangeIndex: 14149 entries, 0 to 14148\n",
      "Data columns (total 87 columns):\n",
      " #   Column                                              Non-Null Count  Dtype  \n",
      "---  ------                                              --------------  -----  \n",
      " 0   date                                                14149 non-null  object \n",
      " 1   final.output.concentrate_ag                         14148 non-null  float64\n",
      " 2   final.output.concentrate_pb                         14148 non-null  float64\n",
      " 3   final.output.concentrate_sol                        13938 non-null  float64\n",
      " 4   final.output.concentrate_au                         14149 non-null  float64\n",
      " 5   final.output.recovery                               14149 non-null  float64\n",
      " 6   final.output.tail_ag                                14149 non-null  float64\n",
      " 7   final.output.tail_pb                                14049 non-null  float64\n",
      " 8   final.output.tail_sol                               14144 non-null  float64\n",
      " 9   final.output.tail_au                                14149 non-null  float64\n",
      " 10  primary_cleaner.input.sulfate                       14129 non-null  float64\n",
      " 11  primary_cleaner.input.depressant                    14117 non-null  float64\n",
      " 12  primary_cleaner.input.feed_size                     14149 non-null  float64\n",
      " 13  primary_cleaner.input.xanthate                      14049 non-null  float64\n",
      " 14  primary_cleaner.output.concentrate_ag               14149 non-null  float64\n",
      " 15  primary_cleaner.output.concentrate_pb               14063 non-null  float64\n",
      " 16  primary_cleaner.output.concentrate_sol              13863 non-null  float64\n",
      " 17  primary_cleaner.output.concentrate_au               14149 non-null  float64\n",
      " 18  primary_cleaner.output.tail_ag                      14148 non-null  float64\n",
      " 19  primary_cleaner.output.tail_pb                      14134 non-null  float64\n",
      " 20  primary_cleaner.output.tail_sol                     14103 non-null  float64\n",
      " 21  primary_cleaner.output.tail_au                      14149 non-null  float64\n",
      " 22  primary_cleaner.state.floatbank8_a_air              14145 non-null  float64\n",
      " 23  primary_cleaner.state.floatbank8_a_level            14148 non-null  float64\n",
      " 24  primary_cleaner.state.floatbank8_b_air              14145 non-null  float64\n",
      " 25  primary_cleaner.state.floatbank8_b_level            14148 non-null  float64\n",
      " 26  primary_cleaner.state.floatbank8_c_air              14147 non-null  float64\n",
      " 27  primary_cleaner.state.floatbank8_c_level            14148 non-null  float64\n",
      " 28  primary_cleaner.state.floatbank8_d_air              14146 non-null  float64\n",
      " 29  primary_cleaner.state.floatbank8_d_level            14148 non-null  float64\n",
      " 30  rougher.calculation.sulfate_to_au_concentrate       14148 non-null  float64\n",
      " 31  rougher.calculation.floatbank10_sulfate_to_au_feed  14148 non-null  float64\n",
      " 32  rougher.calculation.floatbank11_sulfate_to_au_feed  14148 non-null  float64\n",
      " 33  rougher.calculation.au_pb_ratio                     14149 non-null  float64\n",
      " 34  rougher.input.feed_ag                               14149 non-null  float64\n",
      " 35  rougher.input.feed_pb                               14049 non-null  float64\n",
      " 36  rougher.input.feed_rate                             14141 non-null  float64\n",
      " 37  rougher.input.feed_size                             14005 non-null  float64\n",
      " 38  rougher.input.feed_sol                              14071 non-null  float64\n",
      " 39  rougher.input.feed_au                               14149 non-null  float64\n",
      " 40  rougher.input.floatbank10_sulfate                   14120 non-null  float64\n",
      " 41  rougher.input.floatbank10_xanthate                  14141 non-null  float64\n",
      " 42  rougher.input.floatbank11_sulfate                   14113 non-null  float64\n",
      " 43  rougher.input.floatbank11_xanthate                  13721 non-null  float64\n",
      " 44  rougher.output.concentrate_ag                       14149 non-null  float64\n",
      " 45  rougher.output.concentrate_pb                       14149 non-null  float64\n",
      " 46  rougher.output.concentrate_sol                      14127 non-null  float64\n",
      " 47  rougher.output.concentrate_au                       14149 non-null  float64\n",
      " 48  rougher.output.recovery                             14149 non-null  float64\n",
      " 49  rougher.output.tail_ag                              14148 non-null  float64\n",
      " 50  rougher.output.tail_pb                              14149 non-null  float64\n",
      " 51  rougher.output.tail_sol                             14149 non-null  float64\n",
      " 52  rougher.output.tail_au                              14149 non-null  float64\n",
      " 53  rougher.state.floatbank10_a_air                     14148 non-null  float64\n",
      " 54  rougher.state.floatbank10_a_level                   14148 non-null  float64\n",
      " 55  rougher.state.floatbank10_b_air                     14148 non-null  float64\n",
      " 56  rougher.state.floatbank10_b_level                   14148 non-null  float64\n",
      " 57  rougher.state.floatbank10_c_air                     14148 non-null  float64\n",
      " 58  rougher.state.floatbank10_c_level                   14148 non-null  float64\n",
      " 59  rougher.state.floatbank10_d_air                     14149 non-null  float64\n",
      " 60  rougher.state.floatbank10_d_level                   14149 non-null  float64\n",
      " 61  rougher.state.floatbank10_e_air                     13713 non-null  float64\n",
      " 62  rougher.state.floatbank10_e_level                   14149 non-null  float64\n",
      " 63  rougher.state.floatbank10_f_air                     14149 non-null  float64\n",
      " 64  rougher.state.floatbank10_f_level                   14149 non-null  float64\n",
      " 65  secondary_cleaner.output.tail_ag                    14147 non-null  float64\n",
      " 66  secondary_cleaner.output.tail_pb                    14139 non-null  float64\n",
      " 67  secondary_cleaner.output.tail_sol                   12544 non-null  float64\n",
      " 68  secondary_cleaner.output.tail_au                    14149 non-null  float64\n",
      " 69  secondary_cleaner.state.floatbank2_a_air            13932 non-null  float64\n",
      " 70  secondary_cleaner.state.floatbank2_a_level          14148 non-null  float64\n",
      " 71  secondary_cleaner.state.floatbank2_b_air            14128 non-null  float64\n",
      " 72  secondary_cleaner.state.floatbank2_b_level          14148 non-null  float64\n",
      " 73  secondary_cleaner.state.floatbank3_a_air            14145 non-null  float64\n",
      " 74  secondary_cleaner.state.floatbank3_a_level          14148 non-null  float64\n",
      " 75  secondary_cleaner.state.floatbank3_b_air            14148 non-null  float64\n",
      " 76  secondary_cleaner.state.floatbank3_b_level          14148 non-null  float64\n",
      " 77  secondary_cleaner.state.floatbank4_a_air            14143 non-null  float64\n",
      " 78  secondary_cleaner.state.floatbank4_a_level          14148 non-null  float64\n",
      " 79  secondary_cleaner.state.floatbank4_b_air            14148 non-null  float64\n",
      " 80  secondary_cleaner.state.floatbank4_b_level          14148 non-null  float64\n",
      " 81  secondary_cleaner.state.floatbank5_a_air            14148 non-null  float64\n",
      " 82  secondary_cleaner.state.floatbank5_a_level          14148 non-null  float64\n",
      " 83  secondary_cleaner.state.floatbank5_b_air            14148 non-null  float64\n",
      " 84  secondary_cleaner.state.floatbank5_b_level          14148 non-null  float64\n",
      " 85  secondary_cleaner.state.floatbank6_a_air            14147 non-null  float64\n",
      " 86  secondary_cleaner.state.floatbank6_a_level          14148 non-null  float64\n",
      "dtypes: float64(86), object(1)\n",
      "memory usage: 9.4+ MB\n"
     ]
    }
   ],
   "source": [
    "df_train.info()"
   ]
  },
  {
   "cell_type": "code",
   "execution_count": 5,
   "metadata": {},
   "outputs": [
    {
     "name": "stdout",
     "output_type": "stream",
     "text": [
      "Строк и столбцов в обучающей выборке: (14149, 87)\n",
      "Количество пропусков в обучающей выборке: 0\n"
     ]
    }
   ],
   "source": [
    "print('Строк и столбцов в обучающей выборке:', df_train.shape)\n",
    "print('Количество пропусков в обучающей выборке:', df_train.duplicated().sum())"
   ]
  },
  {
   "cell_type": "code",
   "execution_count": 6,
   "metadata": {},
   "outputs": [
    {
     "data": {
      "text/html": [
       "<div>\n",
       "<style scoped>\n",
       "    .dataframe tbody tr th:only-of-type {\n",
       "        vertical-align: middle;\n",
       "    }\n",
       "\n",
       "    .dataframe tbody tr th {\n",
       "        vertical-align: top;\n",
       "    }\n",
       "\n",
       "    .dataframe thead th {\n",
       "        text-align: right;\n",
       "    }\n",
       "</style>\n",
       "<table border=\"1\" class=\"dataframe\">\n",
       "  <thead>\n",
       "    <tr style=\"text-align: right;\">\n",
       "      <th></th>\n",
       "      <th>date</th>\n",
       "      <th>primary_cleaner.input.sulfate</th>\n",
       "      <th>primary_cleaner.input.depressant</th>\n",
       "      <th>primary_cleaner.input.feed_size</th>\n",
       "      <th>primary_cleaner.input.xanthate</th>\n",
       "      <th>primary_cleaner.state.floatbank8_a_air</th>\n",
       "      <th>primary_cleaner.state.floatbank8_a_level</th>\n",
       "      <th>primary_cleaner.state.floatbank8_b_air</th>\n",
       "      <th>primary_cleaner.state.floatbank8_b_level</th>\n",
       "      <th>primary_cleaner.state.floatbank8_c_air</th>\n",
       "      <th>...</th>\n",
       "      <th>secondary_cleaner.state.floatbank4_a_air</th>\n",
       "      <th>secondary_cleaner.state.floatbank4_a_level</th>\n",
       "      <th>secondary_cleaner.state.floatbank4_b_air</th>\n",
       "      <th>secondary_cleaner.state.floatbank4_b_level</th>\n",
       "      <th>secondary_cleaner.state.floatbank5_a_air</th>\n",
       "      <th>secondary_cleaner.state.floatbank5_a_level</th>\n",
       "      <th>secondary_cleaner.state.floatbank5_b_air</th>\n",
       "      <th>secondary_cleaner.state.floatbank5_b_level</th>\n",
       "      <th>secondary_cleaner.state.floatbank6_a_air</th>\n",
       "      <th>secondary_cleaner.state.floatbank6_a_level</th>\n",
       "    </tr>\n",
       "  </thead>\n",
       "  <tbody>\n",
       "    <tr>\n",
       "      <th>0</th>\n",
       "      <td>2016-09-01 00:59:59</td>\n",
       "      <td>210.800909</td>\n",
       "      <td>14.993118</td>\n",
       "      <td>8.080000</td>\n",
       "      <td>1.005021</td>\n",
       "      <td>1398.981301</td>\n",
       "      <td>-500.225577</td>\n",
       "      <td>1399.144926</td>\n",
       "      <td>-499.919735</td>\n",
       "      <td>1400.102998</td>\n",
       "      <td>...</td>\n",
       "      <td>12.023554</td>\n",
       "      <td>-497.795834</td>\n",
       "      <td>8.016656</td>\n",
       "      <td>-501.289139</td>\n",
       "      <td>7.946562</td>\n",
       "      <td>-432.317850</td>\n",
       "      <td>4.872511</td>\n",
       "      <td>-500.037437</td>\n",
       "      <td>26.705889</td>\n",
       "      <td>-499.709414</td>\n",
       "    </tr>\n",
       "    <tr>\n",
       "      <th>1</th>\n",
       "      <td>2016-09-01 01:59:59</td>\n",
       "      <td>215.392455</td>\n",
       "      <td>14.987471</td>\n",
       "      <td>8.080000</td>\n",
       "      <td>0.990469</td>\n",
       "      <td>1398.777912</td>\n",
       "      <td>-500.057435</td>\n",
       "      <td>1398.055362</td>\n",
       "      <td>-499.778182</td>\n",
       "      <td>1396.151033</td>\n",
       "      <td>...</td>\n",
       "      <td>12.058140</td>\n",
       "      <td>-498.695773</td>\n",
       "      <td>8.130979</td>\n",
       "      <td>-499.634209</td>\n",
       "      <td>7.958270</td>\n",
       "      <td>-525.839648</td>\n",
       "      <td>4.878850</td>\n",
       "      <td>-500.162375</td>\n",
       "      <td>25.019940</td>\n",
       "      <td>-499.819438</td>\n",
       "    </tr>\n",
       "    <tr>\n",
       "      <th>2</th>\n",
       "      <td>2016-09-01 02:59:59</td>\n",
       "      <td>215.259946</td>\n",
       "      <td>12.884934</td>\n",
       "      <td>7.786667</td>\n",
       "      <td>0.996043</td>\n",
       "      <td>1398.493666</td>\n",
       "      <td>-500.868360</td>\n",
       "      <td>1398.860436</td>\n",
       "      <td>-499.764529</td>\n",
       "      <td>1398.075709</td>\n",
       "      <td>...</td>\n",
       "      <td>11.962366</td>\n",
       "      <td>-498.767484</td>\n",
       "      <td>8.096893</td>\n",
       "      <td>-500.827423</td>\n",
       "      <td>8.071056</td>\n",
       "      <td>-500.801673</td>\n",
       "      <td>4.905125</td>\n",
       "      <td>-499.828510</td>\n",
       "      <td>24.994862</td>\n",
       "      <td>-500.622559</td>\n",
       "    </tr>\n",
       "    <tr>\n",
       "      <th>3</th>\n",
       "      <td>2016-09-01 03:59:59</td>\n",
       "      <td>215.336236</td>\n",
       "      <td>12.006805</td>\n",
       "      <td>7.640000</td>\n",
       "      <td>0.863514</td>\n",
       "      <td>1399.618111</td>\n",
       "      <td>-498.863574</td>\n",
       "      <td>1397.440120</td>\n",
       "      <td>-499.211024</td>\n",
       "      <td>1400.129303</td>\n",
       "      <td>...</td>\n",
       "      <td>12.033091</td>\n",
       "      <td>-498.350935</td>\n",
       "      <td>8.074946</td>\n",
       "      <td>-499.474407</td>\n",
       "      <td>7.897085</td>\n",
       "      <td>-500.868509</td>\n",
       "      <td>4.931400</td>\n",
       "      <td>-499.963623</td>\n",
       "      <td>24.948919</td>\n",
       "      <td>-498.709987</td>\n",
       "    </tr>\n",
       "    <tr>\n",
       "      <th>4</th>\n",
       "      <td>2016-09-01 04:59:59</td>\n",
       "      <td>199.099327</td>\n",
       "      <td>10.682530</td>\n",
       "      <td>7.530000</td>\n",
       "      <td>0.805575</td>\n",
       "      <td>1401.268123</td>\n",
       "      <td>-500.808305</td>\n",
       "      <td>1398.128818</td>\n",
       "      <td>-499.504543</td>\n",
       "      <td>1402.172226</td>\n",
       "      <td>...</td>\n",
       "      <td>12.025367</td>\n",
       "      <td>-500.786497</td>\n",
       "      <td>8.054678</td>\n",
       "      <td>-500.397500</td>\n",
       "      <td>8.107890</td>\n",
       "      <td>-509.526725</td>\n",
       "      <td>4.957674</td>\n",
       "      <td>-500.360026</td>\n",
       "      <td>25.003331</td>\n",
       "      <td>-500.856333</td>\n",
       "    </tr>\n",
       "  </tbody>\n",
       "</table>\n",
       "<p>5 rows × 53 columns</p>\n",
       "</div>"
      ],
      "text/plain": [
       "                  date  primary_cleaner.input.sulfate  \\\n",
       "0  2016-09-01 00:59:59                     210.800909   \n",
       "1  2016-09-01 01:59:59                     215.392455   \n",
       "2  2016-09-01 02:59:59                     215.259946   \n",
       "3  2016-09-01 03:59:59                     215.336236   \n",
       "4  2016-09-01 04:59:59                     199.099327   \n",
       "\n",
       "   primary_cleaner.input.depressant  primary_cleaner.input.feed_size  \\\n",
       "0                         14.993118                         8.080000   \n",
       "1                         14.987471                         8.080000   \n",
       "2                         12.884934                         7.786667   \n",
       "3                         12.006805                         7.640000   \n",
       "4                         10.682530                         7.530000   \n",
       "\n",
       "   primary_cleaner.input.xanthate  primary_cleaner.state.floatbank8_a_air  \\\n",
       "0                        1.005021                             1398.981301   \n",
       "1                        0.990469                             1398.777912   \n",
       "2                        0.996043                             1398.493666   \n",
       "3                        0.863514                             1399.618111   \n",
       "4                        0.805575                             1401.268123   \n",
       "\n",
       "   primary_cleaner.state.floatbank8_a_level  \\\n",
       "0                               -500.225577   \n",
       "1                               -500.057435   \n",
       "2                               -500.868360   \n",
       "3                               -498.863574   \n",
       "4                               -500.808305   \n",
       "\n",
       "   primary_cleaner.state.floatbank8_b_air  \\\n",
       "0                             1399.144926   \n",
       "1                             1398.055362   \n",
       "2                             1398.860436   \n",
       "3                             1397.440120   \n",
       "4                             1398.128818   \n",
       "\n",
       "   primary_cleaner.state.floatbank8_b_level  \\\n",
       "0                               -499.919735   \n",
       "1                               -499.778182   \n",
       "2                               -499.764529   \n",
       "3                               -499.211024   \n",
       "4                               -499.504543   \n",
       "\n",
       "   primary_cleaner.state.floatbank8_c_air  ...  \\\n",
       "0                             1400.102998  ...   \n",
       "1                             1396.151033  ...   \n",
       "2                             1398.075709  ...   \n",
       "3                             1400.129303  ...   \n",
       "4                             1402.172226  ...   \n",
       "\n",
       "   secondary_cleaner.state.floatbank4_a_air  \\\n",
       "0                                 12.023554   \n",
       "1                                 12.058140   \n",
       "2                                 11.962366   \n",
       "3                                 12.033091   \n",
       "4                                 12.025367   \n",
       "\n",
       "   secondary_cleaner.state.floatbank4_a_level  \\\n",
       "0                                 -497.795834   \n",
       "1                                 -498.695773   \n",
       "2                                 -498.767484   \n",
       "3                                 -498.350935   \n",
       "4                                 -500.786497   \n",
       "\n",
       "   secondary_cleaner.state.floatbank4_b_air  \\\n",
       "0                                  8.016656   \n",
       "1                                  8.130979   \n",
       "2                                  8.096893   \n",
       "3                                  8.074946   \n",
       "4                                  8.054678   \n",
       "\n",
       "   secondary_cleaner.state.floatbank4_b_level  \\\n",
       "0                                 -501.289139   \n",
       "1                                 -499.634209   \n",
       "2                                 -500.827423   \n",
       "3                                 -499.474407   \n",
       "4                                 -500.397500   \n",
       "\n",
       "   secondary_cleaner.state.floatbank5_a_air  \\\n",
       "0                                  7.946562   \n",
       "1                                  7.958270   \n",
       "2                                  8.071056   \n",
       "3                                  7.897085   \n",
       "4                                  8.107890   \n",
       "\n",
       "   secondary_cleaner.state.floatbank5_a_level  \\\n",
       "0                                 -432.317850   \n",
       "1                                 -525.839648   \n",
       "2                                 -500.801673   \n",
       "3                                 -500.868509   \n",
       "4                                 -509.526725   \n",
       "\n",
       "   secondary_cleaner.state.floatbank5_b_air  \\\n",
       "0                                  4.872511   \n",
       "1                                  4.878850   \n",
       "2                                  4.905125   \n",
       "3                                  4.931400   \n",
       "4                                  4.957674   \n",
       "\n",
       "   secondary_cleaner.state.floatbank5_b_level  \\\n",
       "0                                 -500.037437   \n",
       "1                                 -500.162375   \n",
       "2                                 -499.828510   \n",
       "3                                 -499.963623   \n",
       "4                                 -500.360026   \n",
       "\n",
       "   secondary_cleaner.state.floatbank6_a_air  \\\n",
       "0                                 26.705889   \n",
       "1                                 25.019940   \n",
       "2                                 24.994862   \n",
       "3                                 24.948919   \n",
       "4                                 25.003331   \n",
       "\n",
       "   secondary_cleaner.state.floatbank6_a_level  \n",
       "0                                 -499.709414  \n",
       "1                                 -499.819438  \n",
       "2                                 -500.622559  \n",
       "3                                 -498.709987  \n",
       "4                                 -500.856333  \n",
       "\n",
       "[5 rows x 53 columns]"
      ]
     },
     "execution_count": 6,
     "metadata": {},
     "output_type": "execute_result"
    }
   ],
   "source": [
    "df_test.head()"
   ]
  },
  {
   "cell_type": "code",
   "execution_count": 7,
   "metadata": {},
   "outputs": [
    {
     "name": "stdout",
     "output_type": "stream",
     "text": [
      "<class 'pandas.core.frame.DataFrame'>\n",
      "RangeIndex: 5290 entries, 0 to 5289\n",
      "Data columns (total 53 columns):\n",
      " #   Column                                      Non-Null Count  Dtype  \n",
      "---  ------                                      --------------  -----  \n",
      " 0   date                                        5290 non-null   object \n",
      " 1   primary_cleaner.input.sulfate               5286 non-null   float64\n",
      " 2   primary_cleaner.input.depressant            5285 non-null   float64\n",
      " 3   primary_cleaner.input.feed_size             5290 non-null   float64\n",
      " 4   primary_cleaner.input.xanthate              5286 non-null   float64\n",
      " 5   primary_cleaner.state.floatbank8_a_air      5290 non-null   float64\n",
      " 6   primary_cleaner.state.floatbank8_a_level    5290 non-null   float64\n",
      " 7   primary_cleaner.state.floatbank8_b_air      5290 non-null   float64\n",
      " 8   primary_cleaner.state.floatbank8_b_level    5290 non-null   float64\n",
      " 9   primary_cleaner.state.floatbank8_c_air      5290 non-null   float64\n",
      " 10  primary_cleaner.state.floatbank8_c_level    5290 non-null   float64\n",
      " 11  primary_cleaner.state.floatbank8_d_air      5290 non-null   float64\n",
      " 12  primary_cleaner.state.floatbank8_d_level    5290 non-null   float64\n",
      " 13  rougher.input.feed_ag                       5290 non-null   float64\n",
      " 14  rougher.input.feed_pb                       5290 non-null   float64\n",
      " 15  rougher.input.feed_rate                     5287 non-null   float64\n",
      " 16  rougher.input.feed_size                     5289 non-null   float64\n",
      " 17  rougher.input.feed_sol                      5269 non-null   float64\n",
      " 18  rougher.input.feed_au                       5290 non-null   float64\n",
      " 19  rougher.input.floatbank10_sulfate           5285 non-null   float64\n",
      " 20  rougher.input.floatbank10_xanthate          5290 non-null   float64\n",
      " 21  rougher.input.floatbank11_sulfate           5282 non-null   float64\n",
      " 22  rougher.input.floatbank11_xanthate          5265 non-null   float64\n",
      " 23  rougher.state.floatbank10_a_air             5290 non-null   float64\n",
      " 24  rougher.state.floatbank10_a_level           5290 non-null   float64\n",
      " 25  rougher.state.floatbank10_b_air             5290 non-null   float64\n",
      " 26  rougher.state.floatbank10_b_level           5290 non-null   float64\n",
      " 27  rougher.state.floatbank10_c_air             5290 non-null   float64\n",
      " 28  rougher.state.floatbank10_c_level           5290 non-null   float64\n",
      " 29  rougher.state.floatbank10_d_air             5290 non-null   float64\n",
      " 30  rougher.state.floatbank10_d_level           5290 non-null   float64\n",
      " 31  rougher.state.floatbank10_e_air             5290 non-null   float64\n",
      " 32  rougher.state.floatbank10_e_level           5290 non-null   float64\n",
      " 33  rougher.state.floatbank10_f_air             5290 non-null   float64\n",
      " 34  rougher.state.floatbank10_f_level           5290 non-null   float64\n",
      " 35  secondary_cleaner.state.floatbank2_a_air    5287 non-null   float64\n",
      " 36  secondary_cleaner.state.floatbank2_a_level  5290 non-null   float64\n",
      " 37  secondary_cleaner.state.floatbank2_b_air    5288 non-null   float64\n",
      " 38  secondary_cleaner.state.floatbank2_b_level  5290 non-null   float64\n",
      " 39  secondary_cleaner.state.floatbank3_a_air    5281 non-null   float64\n",
      " 40  secondary_cleaner.state.floatbank3_a_level  5290 non-null   float64\n",
      " 41  secondary_cleaner.state.floatbank3_b_air    5290 non-null   float64\n",
      " 42  secondary_cleaner.state.floatbank3_b_level  5290 non-null   float64\n",
      " 43  secondary_cleaner.state.floatbank4_a_air    5290 non-null   float64\n",
      " 44  secondary_cleaner.state.floatbank4_a_level  5290 non-null   float64\n",
      " 45  secondary_cleaner.state.floatbank4_b_air    5290 non-null   float64\n",
      " 46  secondary_cleaner.state.floatbank4_b_level  5290 non-null   float64\n",
      " 47  secondary_cleaner.state.floatbank5_a_air    5290 non-null   float64\n",
      " 48  secondary_cleaner.state.floatbank5_a_level  5290 non-null   float64\n",
      " 49  secondary_cleaner.state.floatbank5_b_air    5290 non-null   float64\n",
      " 50  secondary_cleaner.state.floatbank5_b_level  5290 non-null   float64\n",
      " 51  secondary_cleaner.state.floatbank6_a_air    5290 non-null   float64\n",
      " 52  secondary_cleaner.state.floatbank6_a_level  5290 non-null   float64\n",
      "dtypes: float64(52), object(1)\n",
      "memory usage: 2.1+ MB\n"
     ]
    }
   ],
   "source": [
    "df_test.info()"
   ]
  },
  {
   "cell_type": "code",
   "execution_count": 8,
   "metadata": {},
   "outputs": [
    {
     "name": "stdout",
     "output_type": "stream",
     "text": [
      "Строк и столбцов в тестовой выборке: (5290, 53)\n",
      "Количество пропусков в тестовой выборке: 0\n"
     ]
    }
   ],
   "source": [
    "print('Строк и столбцов в тестовой выборке:', df_test.shape)\n",
    "print('Количество пропусков в тестовой выборке:', df_test.duplicated().sum())"
   ]
  },
  {
   "cell_type": "code",
   "execution_count": 9,
   "metadata": {},
   "outputs": [
    {
     "data": {
      "text/html": [
       "<div>\n",
       "<style scoped>\n",
       "    .dataframe tbody tr th:only-of-type {\n",
       "        vertical-align: middle;\n",
       "    }\n",
       "\n",
       "    .dataframe tbody tr th {\n",
       "        vertical-align: top;\n",
       "    }\n",
       "\n",
       "    .dataframe thead th {\n",
       "        text-align: right;\n",
       "    }\n",
       "</style>\n",
       "<table border=\"1\" class=\"dataframe\">\n",
       "  <thead>\n",
       "    <tr style=\"text-align: right;\">\n",
       "      <th></th>\n",
       "      <th>date</th>\n",
       "      <th>final.output.concentrate_ag</th>\n",
       "      <th>final.output.concentrate_pb</th>\n",
       "      <th>final.output.concentrate_sol</th>\n",
       "      <th>final.output.concentrate_au</th>\n",
       "      <th>final.output.recovery</th>\n",
       "      <th>final.output.tail_ag</th>\n",
       "      <th>final.output.tail_pb</th>\n",
       "      <th>final.output.tail_sol</th>\n",
       "      <th>final.output.tail_au</th>\n",
       "      <th>...</th>\n",
       "      <th>secondary_cleaner.state.floatbank4_a_air</th>\n",
       "      <th>secondary_cleaner.state.floatbank4_a_level</th>\n",
       "      <th>secondary_cleaner.state.floatbank4_b_air</th>\n",
       "      <th>secondary_cleaner.state.floatbank4_b_level</th>\n",
       "      <th>secondary_cleaner.state.floatbank5_a_air</th>\n",
       "      <th>secondary_cleaner.state.floatbank5_a_level</th>\n",
       "      <th>secondary_cleaner.state.floatbank5_b_air</th>\n",
       "      <th>secondary_cleaner.state.floatbank5_b_level</th>\n",
       "      <th>secondary_cleaner.state.floatbank6_a_air</th>\n",
       "      <th>secondary_cleaner.state.floatbank6_a_level</th>\n",
       "    </tr>\n",
       "  </thead>\n",
       "  <tbody>\n",
       "    <tr>\n",
       "      <th>0</th>\n",
       "      <td>2016-01-15 00:00:00</td>\n",
       "      <td>6.055403</td>\n",
       "      <td>9.889648</td>\n",
       "      <td>5.507324</td>\n",
       "      <td>42.192020</td>\n",
       "      <td>70.541216</td>\n",
       "      <td>10.411962</td>\n",
       "      <td>0.895447</td>\n",
       "      <td>16.904297</td>\n",
       "      <td>2.143149</td>\n",
       "      <td>...</td>\n",
       "      <td>14.016835</td>\n",
       "      <td>-502.488007</td>\n",
       "      <td>12.099931</td>\n",
       "      <td>-504.715942</td>\n",
       "      <td>9.925633</td>\n",
       "      <td>-498.310211</td>\n",
       "      <td>8.079666</td>\n",
       "      <td>-500.470978</td>\n",
       "      <td>14.151341</td>\n",
       "      <td>-605.841980</td>\n",
       "    </tr>\n",
       "    <tr>\n",
       "      <th>1</th>\n",
       "      <td>2016-01-15 01:00:00</td>\n",
       "      <td>6.029369</td>\n",
       "      <td>9.968944</td>\n",
       "      <td>5.257781</td>\n",
       "      <td>42.701629</td>\n",
       "      <td>69.266198</td>\n",
       "      <td>10.462676</td>\n",
       "      <td>0.927452</td>\n",
       "      <td>16.634514</td>\n",
       "      <td>2.224930</td>\n",
       "      <td>...</td>\n",
       "      <td>13.992281</td>\n",
       "      <td>-505.503262</td>\n",
       "      <td>11.950531</td>\n",
       "      <td>-501.331529</td>\n",
       "      <td>10.039245</td>\n",
       "      <td>-500.169983</td>\n",
       "      <td>7.984757</td>\n",
       "      <td>-500.582168</td>\n",
       "      <td>13.998353</td>\n",
       "      <td>-599.787184</td>\n",
       "    </tr>\n",
       "    <tr>\n",
       "      <th>2</th>\n",
       "      <td>2016-01-15 02:00:00</td>\n",
       "      <td>6.055926</td>\n",
       "      <td>10.213995</td>\n",
       "      <td>5.383759</td>\n",
       "      <td>42.657501</td>\n",
       "      <td>68.116445</td>\n",
       "      <td>10.507046</td>\n",
       "      <td>0.953716</td>\n",
       "      <td>16.208849</td>\n",
       "      <td>2.257889</td>\n",
       "      <td>...</td>\n",
       "      <td>14.015015</td>\n",
       "      <td>-502.520901</td>\n",
       "      <td>11.912783</td>\n",
       "      <td>-501.133383</td>\n",
       "      <td>10.070913</td>\n",
       "      <td>-500.129135</td>\n",
       "      <td>8.013877</td>\n",
       "      <td>-500.517572</td>\n",
       "      <td>14.028663</td>\n",
       "      <td>-601.427363</td>\n",
       "    </tr>\n",
       "    <tr>\n",
       "      <th>3</th>\n",
       "      <td>2016-01-15 03:00:00</td>\n",
       "      <td>6.047977</td>\n",
       "      <td>9.977019</td>\n",
       "      <td>4.858634</td>\n",
       "      <td>42.689819</td>\n",
       "      <td>68.347543</td>\n",
       "      <td>10.422762</td>\n",
       "      <td>0.883763</td>\n",
       "      <td>16.532835</td>\n",
       "      <td>2.146849</td>\n",
       "      <td>...</td>\n",
       "      <td>14.036510</td>\n",
       "      <td>-500.857308</td>\n",
       "      <td>11.999550</td>\n",
       "      <td>-501.193686</td>\n",
       "      <td>9.970366</td>\n",
       "      <td>-499.201640</td>\n",
       "      <td>7.977324</td>\n",
       "      <td>-500.255908</td>\n",
       "      <td>14.005551</td>\n",
       "      <td>-599.996129</td>\n",
       "    </tr>\n",
       "    <tr>\n",
       "      <th>4</th>\n",
       "      <td>2016-01-15 04:00:00</td>\n",
       "      <td>6.148599</td>\n",
       "      <td>10.142511</td>\n",
       "      <td>4.939416</td>\n",
       "      <td>42.774141</td>\n",
       "      <td>66.927016</td>\n",
       "      <td>10.360302</td>\n",
       "      <td>0.792826</td>\n",
       "      <td>16.525686</td>\n",
       "      <td>2.055292</td>\n",
       "      <td>...</td>\n",
       "      <td>14.027298</td>\n",
       "      <td>-499.838632</td>\n",
       "      <td>11.953070</td>\n",
       "      <td>-501.053894</td>\n",
       "      <td>9.925709</td>\n",
       "      <td>-501.686727</td>\n",
       "      <td>7.894242</td>\n",
       "      <td>-500.356035</td>\n",
       "      <td>13.996647</td>\n",
       "      <td>-601.496691</td>\n",
       "    </tr>\n",
       "  </tbody>\n",
       "</table>\n",
       "<p>5 rows × 87 columns</p>\n",
       "</div>"
      ],
      "text/plain": [
       "                  date  final.output.concentrate_ag  \\\n",
       "0  2016-01-15 00:00:00                     6.055403   \n",
       "1  2016-01-15 01:00:00                     6.029369   \n",
       "2  2016-01-15 02:00:00                     6.055926   \n",
       "3  2016-01-15 03:00:00                     6.047977   \n",
       "4  2016-01-15 04:00:00                     6.148599   \n",
       "\n",
       "   final.output.concentrate_pb  final.output.concentrate_sol  \\\n",
       "0                     9.889648                      5.507324   \n",
       "1                     9.968944                      5.257781   \n",
       "2                    10.213995                      5.383759   \n",
       "3                     9.977019                      4.858634   \n",
       "4                    10.142511                      4.939416   \n",
       "\n",
       "   final.output.concentrate_au  final.output.recovery  final.output.tail_ag  \\\n",
       "0                    42.192020              70.541216             10.411962   \n",
       "1                    42.701629              69.266198             10.462676   \n",
       "2                    42.657501              68.116445             10.507046   \n",
       "3                    42.689819              68.347543             10.422762   \n",
       "4                    42.774141              66.927016             10.360302   \n",
       "\n",
       "   final.output.tail_pb  final.output.tail_sol  final.output.tail_au  ...  \\\n",
       "0              0.895447              16.904297              2.143149  ...   \n",
       "1              0.927452              16.634514              2.224930  ...   \n",
       "2              0.953716              16.208849              2.257889  ...   \n",
       "3              0.883763              16.532835              2.146849  ...   \n",
       "4              0.792826              16.525686              2.055292  ...   \n",
       "\n",
       "   secondary_cleaner.state.floatbank4_a_air  \\\n",
       "0                                 14.016835   \n",
       "1                                 13.992281   \n",
       "2                                 14.015015   \n",
       "3                                 14.036510   \n",
       "4                                 14.027298   \n",
       "\n",
       "   secondary_cleaner.state.floatbank4_a_level  \\\n",
       "0                                 -502.488007   \n",
       "1                                 -505.503262   \n",
       "2                                 -502.520901   \n",
       "3                                 -500.857308   \n",
       "4                                 -499.838632   \n",
       "\n",
       "   secondary_cleaner.state.floatbank4_b_air  \\\n",
       "0                                 12.099931   \n",
       "1                                 11.950531   \n",
       "2                                 11.912783   \n",
       "3                                 11.999550   \n",
       "4                                 11.953070   \n",
       "\n",
       "   secondary_cleaner.state.floatbank4_b_level  \\\n",
       "0                                 -504.715942   \n",
       "1                                 -501.331529   \n",
       "2                                 -501.133383   \n",
       "3                                 -501.193686   \n",
       "4                                 -501.053894   \n",
       "\n",
       "   secondary_cleaner.state.floatbank5_a_air  \\\n",
       "0                                  9.925633   \n",
       "1                                 10.039245   \n",
       "2                                 10.070913   \n",
       "3                                  9.970366   \n",
       "4                                  9.925709   \n",
       "\n",
       "   secondary_cleaner.state.floatbank5_a_level  \\\n",
       "0                                 -498.310211   \n",
       "1                                 -500.169983   \n",
       "2                                 -500.129135   \n",
       "3                                 -499.201640   \n",
       "4                                 -501.686727   \n",
       "\n",
       "   secondary_cleaner.state.floatbank5_b_air  \\\n",
       "0                                  8.079666   \n",
       "1                                  7.984757   \n",
       "2                                  8.013877   \n",
       "3                                  7.977324   \n",
       "4                                  7.894242   \n",
       "\n",
       "   secondary_cleaner.state.floatbank5_b_level  \\\n",
       "0                                 -500.470978   \n",
       "1                                 -500.582168   \n",
       "2                                 -500.517572   \n",
       "3                                 -500.255908   \n",
       "4                                 -500.356035   \n",
       "\n",
       "   secondary_cleaner.state.floatbank6_a_air  \\\n",
       "0                                 14.151341   \n",
       "1                                 13.998353   \n",
       "2                                 14.028663   \n",
       "3                                 14.005551   \n",
       "4                                 13.996647   \n",
       "\n",
       "   secondary_cleaner.state.floatbank6_a_level  \n",
       "0                                 -605.841980  \n",
       "1                                 -599.787184  \n",
       "2                                 -601.427363  \n",
       "3                                 -599.996129  \n",
       "4                                 -601.496691  \n",
       "\n",
       "[5 rows x 87 columns]"
      ]
     },
     "execution_count": 9,
     "metadata": {},
     "output_type": "execute_result"
    }
   ],
   "source": [
    "df_full.head()"
   ]
  },
  {
   "cell_type": "code",
   "execution_count": 10,
   "metadata": {},
   "outputs": [
    {
     "name": "stdout",
     "output_type": "stream",
     "text": [
      "<class 'pandas.core.frame.DataFrame'>\n",
      "RangeIndex: 19439 entries, 0 to 19438\n",
      "Data columns (total 87 columns):\n",
      " #   Column                                              Non-Null Count  Dtype  \n",
      "---  ------                                              --------------  -----  \n",
      " 0   date                                                19439 non-null  object \n",
      " 1   final.output.concentrate_ag                         19438 non-null  float64\n",
      " 2   final.output.concentrate_pb                         19438 non-null  float64\n",
      " 3   final.output.concentrate_sol                        19228 non-null  float64\n",
      " 4   final.output.concentrate_au                         19439 non-null  float64\n",
      " 5   final.output.recovery                               19439 non-null  float64\n",
      " 6   final.output.tail_ag                                19438 non-null  float64\n",
      " 7   final.output.tail_pb                                19338 non-null  float64\n",
      " 8   final.output.tail_sol                               19433 non-null  float64\n",
      " 9   final.output.tail_au                                19439 non-null  float64\n",
      " 10  primary_cleaner.input.sulfate                       19415 non-null  float64\n",
      " 11  primary_cleaner.input.depressant                    19402 non-null  float64\n",
      " 12  primary_cleaner.input.feed_size                     19439 non-null  float64\n",
      " 13  primary_cleaner.input.xanthate                      19335 non-null  float64\n",
      " 14  primary_cleaner.output.concentrate_ag               19439 non-null  float64\n",
      " 15  primary_cleaner.output.concentrate_pb               19323 non-null  float64\n",
      " 16  primary_cleaner.output.concentrate_sol              19069 non-null  float64\n",
      " 17  primary_cleaner.output.concentrate_au               19439 non-null  float64\n",
      " 18  primary_cleaner.output.tail_ag                      19435 non-null  float64\n",
      " 19  primary_cleaner.output.tail_pb                      19418 non-null  float64\n",
      " 20  primary_cleaner.output.tail_sol                     19377 non-null  float64\n",
      " 21  primary_cleaner.output.tail_au                      19439 non-null  float64\n",
      " 22  primary_cleaner.state.floatbank8_a_air              19435 non-null  float64\n",
      " 23  primary_cleaner.state.floatbank8_a_level            19438 non-null  float64\n",
      " 24  primary_cleaner.state.floatbank8_b_air              19435 non-null  float64\n",
      " 25  primary_cleaner.state.floatbank8_b_level            19438 non-null  float64\n",
      " 26  primary_cleaner.state.floatbank8_c_air              19437 non-null  float64\n",
      " 27  primary_cleaner.state.floatbank8_c_level            19438 non-null  float64\n",
      " 28  primary_cleaner.state.floatbank8_d_air              19436 non-null  float64\n",
      " 29  primary_cleaner.state.floatbank8_d_level            19438 non-null  float64\n",
      " 30  rougher.calculation.sulfate_to_au_concentrate       19437 non-null  float64\n",
      " 31  rougher.calculation.floatbank10_sulfate_to_au_feed  19437 non-null  float64\n",
      " 32  rougher.calculation.floatbank11_sulfate_to_au_feed  19437 non-null  float64\n",
      " 33  rougher.calculation.au_pb_ratio                     19439 non-null  float64\n",
      " 34  rougher.input.feed_ag                               19439 non-null  float64\n",
      " 35  rougher.input.feed_pb                               19339 non-null  float64\n",
      " 36  rougher.input.feed_rate                             19428 non-null  float64\n",
      " 37  rougher.input.feed_size                             19294 non-null  float64\n",
      " 38  rougher.input.feed_sol                              19340 non-null  float64\n",
      " 39  rougher.input.feed_au                               19439 non-null  float64\n",
      " 40  rougher.input.floatbank10_sulfate                   19405 non-null  float64\n",
      " 41  rougher.input.floatbank10_xanthate                  19431 non-null  float64\n",
      " 42  rougher.input.floatbank11_sulfate                   19395 non-null  float64\n",
      " 43  rougher.input.floatbank11_xanthate                  18986 non-null  float64\n",
      " 44  rougher.output.concentrate_ag                       19439 non-null  float64\n",
      " 45  rougher.output.concentrate_pb                       19439 non-null  float64\n",
      " 46  rougher.output.concentrate_sol                      19416 non-null  float64\n",
      " 47  rougher.output.concentrate_au                       19439 non-null  float64\n",
      " 48  rougher.output.recovery                             19439 non-null  float64\n",
      " 49  rougher.output.tail_ag                              19438 non-null  float64\n",
      " 50  rougher.output.tail_pb                              19439 non-null  float64\n",
      " 51  rougher.output.tail_sol                             19439 non-null  float64\n",
      " 52  rougher.output.tail_au                              19439 non-null  float64\n",
      " 53  rougher.state.floatbank10_a_air                     19438 non-null  float64\n",
      " 54  rougher.state.floatbank10_a_level                   19438 non-null  float64\n",
      " 55  rougher.state.floatbank10_b_air                     19438 non-null  float64\n",
      " 56  rougher.state.floatbank10_b_level                   19438 non-null  float64\n",
      " 57  rougher.state.floatbank10_c_air                     19438 non-null  float64\n",
      " 58  rougher.state.floatbank10_c_level                   19438 non-null  float64\n",
      " 59  rougher.state.floatbank10_d_air                     19439 non-null  float64\n",
      " 60  rougher.state.floatbank10_d_level                   19439 non-null  float64\n",
      " 61  rougher.state.floatbank10_e_air                     19003 non-null  float64\n",
      " 62  rougher.state.floatbank10_e_level                   19439 non-null  float64\n",
      " 63  rougher.state.floatbank10_f_air                     19439 non-null  float64\n",
      " 64  rougher.state.floatbank10_f_level                   19439 non-null  float64\n",
      " 65  secondary_cleaner.output.tail_ag                    19437 non-null  float64\n",
      " 66  secondary_cleaner.output.tail_pb                    19427 non-null  float64\n",
      " 67  secondary_cleaner.output.tail_sol                   17691 non-null  float64\n",
      " 68  secondary_cleaner.output.tail_au                    19439 non-null  float64\n",
      " 69  secondary_cleaner.state.floatbank2_a_air            19219 non-null  float64\n",
      " 70  secondary_cleaner.state.floatbank2_a_level          19438 non-null  float64\n",
      " 71  secondary_cleaner.state.floatbank2_b_air            19416 non-null  float64\n",
      " 72  secondary_cleaner.state.floatbank2_b_level          19438 non-null  float64\n",
      " 73  secondary_cleaner.state.floatbank3_a_air            19426 non-null  float64\n",
      " 74  secondary_cleaner.state.floatbank3_a_level          19438 non-null  float64\n",
      " 75  secondary_cleaner.state.floatbank3_b_air            19438 non-null  float64\n",
      " 76  secondary_cleaner.state.floatbank3_b_level          19438 non-null  float64\n",
      " 77  secondary_cleaner.state.floatbank4_a_air            19433 non-null  float64\n",
      " 78  secondary_cleaner.state.floatbank4_a_level          19438 non-null  float64\n",
      " 79  secondary_cleaner.state.floatbank4_b_air            19438 non-null  float64\n",
      " 80  secondary_cleaner.state.floatbank4_b_level          19438 non-null  float64\n",
      " 81  secondary_cleaner.state.floatbank5_a_air            19438 non-null  float64\n",
      " 82  secondary_cleaner.state.floatbank5_a_level          19438 non-null  float64\n",
      " 83  secondary_cleaner.state.floatbank5_b_air            19438 non-null  float64\n",
      " 84  secondary_cleaner.state.floatbank5_b_level          19438 non-null  float64\n",
      " 85  secondary_cleaner.state.floatbank6_a_air            19437 non-null  float64\n",
      " 86  secondary_cleaner.state.floatbank6_a_level          19438 non-null  float64\n",
      "dtypes: float64(86), object(1)\n",
      "memory usage: 12.9+ MB\n"
     ]
    }
   ],
   "source": [
    "df_full.info()"
   ]
  },
  {
   "cell_type": "code",
   "execution_count": 11,
   "metadata": {},
   "outputs": [
    {
     "name": "stdout",
     "output_type": "stream",
     "text": [
      "Строк и столбцов в исходных данных: (19439, 87)\n",
      "Количество пропусков в исходных данных: 0\n"
     ]
    }
   ],
   "source": [
    "print('Строк и столбцов в исходных данных:', df_full.shape)\n",
    "print('Количество пропусков в исходных данных:', df_full.duplicated().sum())"
   ]
  },
  {
   "cell_type": "markdown",
   "metadata": {},
   "source": [
    "- В обучающей выборке 14 149 строк и 87 стольбцов, в некоторых столбцах имеются пропуски, дубликаты отсутствуют. Все столбцы кроме date формата float64\n",
    "- В тестовой выборке 5 290 строк и 53 столбца. Имеются пропуски, Все столбцы кроме date формата float64. Некоторые параметры недоступны, потому что замеряются и/или рассчитываются значительно позже. Из-за этого в тестовой выборке отсутствуют некоторые признаки, которые могут быть в обучающей. Также в тестовом наборе нет целевых признаков."
   ]
  },
  {
   "cell_type": "markdown",
   "metadata": {},
   "source": [
    "### Расчёт эффективности\n",
    "Вам нужно смоделировать процесс восстановления золота из золотосодержащей руды.\n",
    "Эффективность обогащения рассчитывается по формуле\n",
    "\n",
    "$ Recovery = \\frac{C*(F-T)}{F*(C-T)}*100% $\n",
    "\n",
    "где:\n",
    "C — доля золота в концентрате после флотации/очистки;\n",
    "F — доля золота в сырье/концентрате до флотации/очистки;\n",
    "T — доля золота в отвальных хвостах после флотации/очистки.\n",
    "Для прогноза коэффициента нужно найти долю золота в концентратах и хвостах. Причём важен не только финальный продукт, но и черновой концентрат."
   ]
  },
  {
   "cell_type": "code",
   "execution_count": 12,
   "metadata": {},
   "outputs": [],
   "source": [
    "C = df_train['rougher.output.concentrate_au']\n",
    "F = df_train['rougher.input.feed_au']\n",
    "T = df_train['rougher.output.tail_au']"
   ]
  },
  {
   "cell_type": "code",
   "execution_count": 13,
   "metadata": {},
   "outputs": [],
   "source": [
    "recovery = ((C*(F-T))/(F*(C-T)))*100\n",
    "mae = mean_absolute_error(df_train['rougher.output.recovery'], recovery)"
   ]
  },
  {
   "cell_type": "code",
   "execution_count": 14,
   "metadata": {},
   "outputs": [
    {
     "name": "stdout",
     "output_type": "stream",
     "text": [
      "МАЕ составляет: 9.73512347450521e-15\n"
     ]
    }
   ],
   "source": [
    "print('МАЕ составляет:', mae)"
   ]
  },
  {
   "cell_type": "markdown",
   "metadata": {},
   "source": [
    "MAE составляет 9,73, является хорошим результатом. эффективность обогащения рассчитана корректно"
   ]
  },
  {
   "cell_type": "markdown",
   "metadata": {},
   "source": [
    "### Анализ признаков, недоступных в тестовой выборке"
   ]
  },
  {
   "cell_type": "code",
   "execution_count": 15,
   "metadata": {},
   "outputs": [
    {
     "name": "stdout",
     "output_type": "stream",
     "text": [
      "final.output.concentrate_ag\n",
      "final.output.concentrate_pb\n",
      "final.output.concentrate_sol\n",
      "final.output.concentrate_au\n",
      "final.output.recovery\n",
      "final.output.tail_ag\n",
      "final.output.tail_pb\n",
      "final.output.tail_sol\n",
      "final.output.tail_au\n",
      "primary_cleaner.output.concentrate_ag\n",
      "primary_cleaner.output.concentrate_pb\n",
      "primary_cleaner.output.concentrate_sol\n",
      "primary_cleaner.output.concentrate_au\n",
      "primary_cleaner.output.tail_ag\n",
      "primary_cleaner.output.tail_pb\n",
      "primary_cleaner.output.tail_sol\n",
      "primary_cleaner.output.tail_au\n",
      "rougher.calculation.sulfate_to_au_concentrate\n",
      "rougher.calculation.floatbank10_sulfate_to_au_feed\n",
      "rougher.calculation.floatbank11_sulfate_to_au_feed\n",
      "rougher.calculation.au_pb_ratio\n",
      "rougher.output.concentrate_ag\n",
      "rougher.output.concentrate_pb\n",
      "rougher.output.concentrate_sol\n",
      "rougher.output.concentrate_au\n",
      "rougher.output.recovery\n",
      "rougher.output.tail_ag\n",
      "rougher.output.tail_pb\n",
      "rougher.output.tail_sol\n",
      "rougher.output.tail_au\n",
      "secondary_cleaner.output.tail_ag\n",
      "secondary_cleaner.output.tail_pb\n",
      "secondary_cleaner.output.tail_sol\n",
      "secondary_cleaner.output.tail_au\n"
     ]
    }
   ],
   "source": [
    "#Сравнпваем колонки в обучающей и тестовой выборках\n",
    "for column in list(df_train.columns):\n",
    "    if column not in list(df_test.columns):\n",
    "        print(column)"
   ]
  },
  {
   "cell_type": "markdown",
   "metadata": {},
   "source": [
    "- В тестовой выборке отсутствуют выходные параметры продукта 'output': концентрация металлов 'concentrate' и отвальные хвосты 'tail' для металлов (Au, Ag, Pb) и солей (Sol), расчётные признаки на этапе флотации - 'calculation'.\n",
    "- Данные колонки необходимо удалить из тренировочного датасета,так как появляются во время или после измерения целевых признаков, за исключением столбцов 'final.output.recovery' и 'rougher.output.recovery', т.к. они являются целевыми признаками."
   ]
  },
  {
   "cell_type": "markdown",
   "metadata": {},
   "source": [
    "### Предобработка данных"
   ]
  },
  {
   "cell_type": "code",
   "execution_count": 16,
   "metadata": {},
   "outputs": [],
   "source": [
    "target_train = df_train[['final.output.recovery', 'rougher.output.recovery']]"
   ]
  },
  {
   "cell_type": "code",
   "execution_count": 17,
   "metadata": {},
   "outputs": [],
   "source": [
    "#удаляем столбцы из обучающей выборки\n",
    "for column in list(df_train.columns):\n",
    "    if column not in list(df_test.columns):\n",
    "        df_train.drop(column, axis=1, inplace=True)"
   ]
  },
  {
   "cell_type": "code",
   "execution_count": 18,
   "metadata": {},
   "outputs": [],
   "source": [
    "#снова добавим столбцы с целевыми признаками в обучающий датасет\n",
    "df_train = df_train.join(target_train)"
   ]
  },
  {
   "cell_type": "code",
   "execution_count": 19,
   "metadata": {},
   "outputs": [],
   "source": [
    "# переводим столбцы с датами в формат datetime\n",
    "df_train['date'] = pd.to_datetime(df_train['date'], format='%Y-%m-%d %H:%M:%S')\n",
    "df_test['date'] = pd.to_datetime(df_test['date'], format='%Y-%m-%d %H:%M:%S')\n",
    "df_full['date'] = pd.to_datetime(df_full['date'], format='%Y-%m-%d %H:%M:%S')"
   ]
  },
  {
   "cell_type": "code",
   "execution_count": 20,
   "metadata": {},
   "outputs": [],
   "source": [
    "#индексируем по дате\n",
    "df_train= df_train.set_index('date')\n",
    "df_test= df_test.set_index('date')\n",
    "df_full = df_full.set_index('date')"
   ]
  },
  {
   "cell_type": "code",
   "execution_count": 21,
   "metadata": {},
   "outputs": [],
   "source": [
    "#меняем пропуски из датасета на данные из соседних строк\n",
    "df_train = df_train.fillna(method='ffill')\n",
    "df_test = df_test.fillna(method='ffill')\n",
    "df_full = df_full.fillna(method='ffill')\n",
    "target_train = target_train.fillna(method='ffill')"
   ]
  },
  {
   "cell_type": "code",
   "execution_count": 23,
   "metadata": {},
   "outputs": [
    {
     "data": {
      "text/html": [
       "<div>\n",
       "<style scoped>\n",
       "    .dataframe tbody tr th:only-of-type {\n",
       "        vertical-align: middle;\n",
       "    }\n",
       "\n",
       "    .dataframe tbody tr th {\n",
       "        vertical-align: top;\n",
       "    }\n",
       "\n",
       "    .dataframe thead th {\n",
       "        text-align: right;\n",
       "    }\n",
       "</style>\n",
       "<table border=\"1\" class=\"dataframe\">\n",
       "  <thead>\n",
       "    <tr style=\"text-align: right;\">\n",
       "      <th></th>\n",
       "      <th>primary_cleaner.input.sulfate</th>\n",
       "      <th>primary_cleaner.input.depressant</th>\n",
       "      <th>primary_cleaner.input.feed_size</th>\n",
       "      <th>primary_cleaner.input.xanthate</th>\n",
       "      <th>primary_cleaner.state.floatbank8_a_air</th>\n",
       "      <th>primary_cleaner.state.floatbank8_a_level</th>\n",
       "      <th>primary_cleaner.state.floatbank8_b_air</th>\n",
       "      <th>primary_cleaner.state.floatbank8_b_level</th>\n",
       "      <th>primary_cleaner.state.floatbank8_c_air</th>\n",
       "      <th>primary_cleaner.state.floatbank8_c_level</th>\n",
       "      <th>...</th>\n",
       "      <th>secondary_cleaner.state.floatbank4_b_air</th>\n",
       "      <th>secondary_cleaner.state.floatbank4_b_level</th>\n",
       "      <th>secondary_cleaner.state.floatbank5_a_air</th>\n",
       "      <th>secondary_cleaner.state.floatbank5_a_level</th>\n",
       "      <th>secondary_cleaner.state.floatbank5_b_air</th>\n",
       "      <th>secondary_cleaner.state.floatbank5_b_level</th>\n",
       "      <th>secondary_cleaner.state.floatbank6_a_air</th>\n",
       "      <th>secondary_cleaner.state.floatbank6_a_level</th>\n",
       "      <th>final.output.recovery</th>\n",
       "      <th>rougher.output.recovery</th>\n",
       "    </tr>\n",
       "    <tr>\n",
       "      <th>date</th>\n",
       "      <th></th>\n",
       "      <th></th>\n",
       "      <th></th>\n",
       "      <th></th>\n",
       "      <th></th>\n",
       "      <th></th>\n",
       "      <th></th>\n",
       "      <th></th>\n",
       "      <th></th>\n",
       "      <th></th>\n",
       "      <th></th>\n",
       "      <th></th>\n",
       "      <th></th>\n",
       "      <th></th>\n",
       "      <th></th>\n",
       "      <th></th>\n",
       "      <th></th>\n",
       "      <th></th>\n",
       "      <th></th>\n",
       "      <th></th>\n",
       "      <th></th>\n",
       "    </tr>\n",
       "  </thead>\n",
       "  <tbody>\n",
       "    <tr>\n",
       "      <th>2016-01-15 00:00:00</th>\n",
       "      <td>127.092003</td>\n",
       "      <td>10.128295</td>\n",
       "      <td>7.25</td>\n",
       "      <td>0.988759</td>\n",
       "      <td>1549.775757</td>\n",
       "      <td>-498.912140</td>\n",
       "      <td>1551.434204</td>\n",
       "      <td>-516.403442</td>\n",
       "      <td>1549.873901</td>\n",
       "      <td>-498.666595</td>\n",
       "      <td>...</td>\n",
       "      <td>12.099931</td>\n",
       "      <td>-504.715942</td>\n",
       "      <td>9.925633</td>\n",
       "      <td>-498.310211</td>\n",
       "      <td>8.079666</td>\n",
       "      <td>-500.470978</td>\n",
       "      <td>14.151341</td>\n",
       "      <td>-605.841980</td>\n",
       "      <td>70.541216</td>\n",
       "      <td>87.107763</td>\n",
       "    </tr>\n",
       "    <tr>\n",
       "      <th>2016-01-15 01:00:00</th>\n",
       "      <td>125.629232</td>\n",
       "      <td>10.296251</td>\n",
       "      <td>7.25</td>\n",
       "      <td>1.002663</td>\n",
       "      <td>1576.166671</td>\n",
       "      <td>-500.904965</td>\n",
       "      <td>1575.950626</td>\n",
       "      <td>-499.865889</td>\n",
       "      <td>1575.994189</td>\n",
       "      <td>-499.315107</td>\n",
       "      <td>...</td>\n",
       "      <td>11.950531</td>\n",
       "      <td>-501.331529</td>\n",
       "      <td>10.039245</td>\n",
       "      <td>-500.169983</td>\n",
       "      <td>7.984757</td>\n",
       "      <td>-500.582168</td>\n",
       "      <td>13.998353</td>\n",
       "      <td>-599.787184</td>\n",
       "      <td>69.266198</td>\n",
       "      <td>86.843261</td>\n",
       "    </tr>\n",
       "    <tr>\n",
       "      <th>2016-01-15 02:00:00</th>\n",
       "      <td>123.819808</td>\n",
       "      <td>11.316280</td>\n",
       "      <td>7.25</td>\n",
       "      <td>0.991265</td>\n",
       "      <td>1601.556163</td>\n",
       "      <td>-499.997791</td>\n",
       "      <td>1600.386685</td>\n",
       "      <td>-500.607762</td>\n",
       "      <td>1602.003542</td>\n",
       "      <td>-500.870069</td>\n",
       "      <td>...</td>\n",
       "      <td>11.912783</td>\n",
       "      <td>-501.133383</td>\n",
       "      <td>10.070913</td>\n",
       "      <td>-500.129135</td>\n",
       "      <td>8.013877</td>\n",
       "      <td>-500.517572</td>\n",
       "      <td>14.028663</td>\n",
       "      <td>-601.427363</td>\n",
       "      <td>68.116445</td>\n",
       "      <td>86.842308</td>\n",
       "    </tr>\n",
       "    <tr>\n",
       "      <th>2016-01-15 03:00:00</th>\n",
       "      <td>122.270188</td>\n",
       "      <td>11.322140</td>\n",
       "      <td>7.25</td>\n",
       "      <td>0.996739</td>\n",
       "      <td>1599.968720</td>\n",
       "      <td>-500.951778</td>\n",
       "      <td>1600.659236</td>\n",
       "      <td>-499.677094</td>\n",
       "      <td>1600.304144</td>\n",
       "      <td>-500.727997</td>\n",
       "      <td>...</td>\n",
       "      <td>11.999550</td>\n",
       "      <td>-501.193686</td>\n",
       "      <td>9.970366</td>\n",
       "      <td>-499.201640</td>\n",
       "      <td>7.977324</td>\n",
       "      <td>-500.255908</td>\n",
       "      <td>14.005551</td>\n",
       "      <td>-599.996129</td>\n",
       "      <td>68.347543</td>\n",
       "      <td>87.226430</td>\n",
       "    </tr>\n",
       "    <tr>\n",
       "      <th>2016-01-15 04:00:00</th>\n",
       "      <td>117.988169</td>\n",
       "      <td>11.913613</td>\n",
       "      <td>7.25</td>\n",
       "      <td>1.009869</td>\n",
       "      <td>1601.339707</td>\n",
       "      <td>-498.975456</td>\n",
       "      <td>1601.437854</td>\n",
       "      <td>-500.323246</td>\n",
       "      <td>1599.581894</td>\n",
       "      <td>-500.888152</td>\n",
       "      <td>...</td>\n",
       "      <td>11.953070</td>\n",
       "      <td>-501.053894</td>\n",
       "      <td>9.925709</td>\n",
       "      <td>-501.686727</td>\n",
       "      <td>7.894242</td>\n",
       "      <td>-500.356035</td>\n",
       "      <td>13.996647</td>\n",
       "      <td>-601.496691</td>\n",
       "      <td>66.927016</td>\n",
       "      <td>86.688794</td>\n",
       "    </tr>\n",
       "  </tbody>\n",
       "</table>\n",
       "<p>5 rows × 54 columns</p>\n",
       "</div>"
      ],
      "text/plain": [
       "                     primary_cleaner.input.sulfate  \\\n",
       "date                                                 \n",
       "2016-01-15 00:00:00                     127.092003   \n",
       "2016-01-15 01:00:00                     125.629232   \n",
       "2016-01-15 02:00:00                     123.819808   \n",
       "2016-01-15 03:00:00                     122.270188   \n",
       "2016-01-15 04:00:00                     117.988169   \n",
       "\n",
       "                     primary_cleaner.input.depressant  \\\n",
       "date                                                    \n",
       "2016-01-15 00:00:00                         10.128295   \n",
       "2016-01-15 01:00:00                         10.296251   \n",
       "2016-01-15 02:00:00                         11.316280   \n",
       "2016-01-15 03:00:00                         11.322140   \n",
       "2016-01-15 04:00:00                         11.913613   \n",
       "\n",
       "                     primary_cleaner.input.feed_size  \\\n",
       "date                                                   \n",
       "2016-01-15 00:00:00                             7.25   \n",
       "2016-01-15 01:00:00                             7.25   \n",
       "2016-01-15 02:00:00                             7.25   \n",
       "2016-01-15 03:00:00                             7.25   \n",
       "2016-01-15 04:00:00                             7.25   \n",
       "\n",
       "                     primary_cleaner.input.xanthate  \\\n",
       "date                                                  \n",
       "2016-01-15 00:00:00                        0.988759   \n",
       "2016-01-15 01:00:00                        1.002663   \n",
       "2016-01-15 02:00:00                        0.991265   \n",
       "2016-01-15 03:00:00                        0.996739   \n",
       "2016-01-15 04:00:00                        1.009869   \n",
       "\n",
       "                     primary_cleaner.state.floatbank8_a_air  \\\n",
       "date                                                          \n",
       "2016-01-15 00:00:00                             1549.775757   \n",
       "2016-01-15 01:00:00                             1576.166671   \n",
       "2016-01-15 02:00:00                             1601.556163   \n",
       "2016-01-15 03:00:00                             1599.968720   \n",
       "2016-01-15 04:00:00                             1601.339707   \n",
       "\n",
       "                     primary_cleaner.state.floatbank8_a_level  \\\n",
       "date                                                            \n",
       "2016-01-15 00:00:00                               -498.912140   \n",
       "2016-01-15 01:00:00                               -500.904965   \n",
       "2016-01-15 02:00:00                               -499.997791   \n",
       "2016-01-15 03:00:00                               -500.951778   \n",
       "2016-01-15 04:00:00                               -498.975456   \n",
       "\n",
       "                     primary_cleaner.state.floatbank8_b_air  \\\n",
       "date                                                          \n",
       "2016-01-15 00:00:00                             1551.434204   \n",
       "2016-01-15 01:00:00                             1575.950626   \n",
       "2016-01-15 02:00:00                             1600.386685   \n",
       "2016-01-15 03:00:00                             1600.659236   \n",
       "2016-01-15 04:00:00                             1601.437854   \n",
       "\n",
       "                     primary_cleaner.state.floatbank8_b_level  \\\n",
       "date                                                            \n",
       "2016-01-15 00:00:00                               -516.403442   \n",
       "2016-01-15 01:00:00                               -499.865889   \n",
       "2016-01-15 02:00:00                               -500.607762   \n",
       "2016-01-15 03:00:00                               -499.677094   \n",
       "2016-01-15 04:00:00                               -500.323246   \n",
       "\n",
       "                     primary_cleaner.state.floatbank8_c_air  \\\n",
       "date                                                          \n",
       "2016-01-15 00:00:00                             1549.873901   \n",
       "2016-01-15 01:00:00                             1575.994189   \n",
       "2016-01-15 02:00:00                             1602.003542   \n",
       "2016-01-15 03:00:00                             1600.304144   \n",
       "2016-01-15 04:00:00                             1599.581894   \n",
       "\n",
       "                     primary_cleaner.state.floatbank8_c_level  ...  \\\n",
       "date                                                           ...   \n",
       "2016-01-15 00:00:00                               -498.666595  ...   \n",
       "2016-01-15 01:00:00                               -499.315107  ...   \n",
       "2016-01-15 02:00:00                               -500.870069  ...   \n",
       "2016-01-15 03:00:00                               -500.727997  ...   \n",
       "2016-01-15 04:00:00                               -500.888152  ...   \n",
       "\n",
       "                     secondary_cleaner.state.floatbank4_b_air  \\\n",
       "date                                                            \n",
       "2016-01-15 00:00:00                                 12.099931   \n",
       "2016-01-15 01:00:00                                 11.950531   \n",
       "2016-01-15 02:00:00                                 11.912783   \n",
       "2016-01-15 03:00:00                                 11.999550   \n",
       "2016-01-15 04:00:00                                 11.953070   \n",
       "\n",
       "                     secondary_cleaner.state.floatbank4_b_level  \\\n",
       "date                                                              \n",
       "2016-01-15 00:00:00                                 -504.715942   \n",
       "2016-01-15 01:00:00                                 -501.331529   \n",
       "2016-01-15 02:00:00                                 -501.133383   \n",
       "2016-01-15 03:00:00                                 -501.193686   \n",
       "2016-01-15 04:00:00                                 -501.053894   \n",
       "\n",
       "                     secondary_cleaner.state.floatbank5_a_air  \\\n",
       "date                                                            \n",
       "2016-01-15 00:00:00                                  9.925633   \n",
       "2016-01-15 01:00:00                                 10.039245   \n",
       "2016-01-15 02:00:00                                 10.070913   \n",
       "2016-01-15 03:00:00                                  9.970366   \n",
       "2016-01-15 04:00:00                                  9.925709   \n",
       "\n",
       "                     secondary_cleaner.state.floatbank5_a_level  \\\n",
       "date                                                              \n",
       "2016-01-15 00:00:00                                 -498.310211   \n",
       "2016-01-15 01:00:00                                 -500.169983   \n",
       "2016-01-15 02:00:00                                 -500.129135   \n",
       "2016-01-15 03:00:00                                 -499.201640   \n",
       "2016-01-15 04:00:00                                 -501.686727   \n",
       "\n",
       "                     secondary_cleaner.state.floatbank5_b_air  \\\n",
       "date                                                            \n",
       "2016-01-15 00:00:00                                  8.079666   \n",
       "2016-01-15 01:00:00                                  7.984757   \n",
       "2016-01-15 02:00:00                                  8.013877   \n",
       "2016-01-15 03:00:00                                  7.977324   \n",
       "2016-01-15 04:00:00                                  7.894242   \n",
       "\n",
       "                     secondary_cleaner.state.floatbank5_b_level  \\\n",
       "date                                                              \n",
       "2016-01-15 00:00:00                                 -500.470978   \n",
       "2016-01-15 01:00:00                                 -500.582168   \n",
       "2016-01-15 02:00:00                                 -500.517572   \n",
       "2016-01-15 03:00:00                                 -500.255908   \n",
       "2016-01-15 04:00:00                                 -500.356035   \n",
       "\n",
       "                     secondary_cleaner.state.floatbank6_a_air  \\\n",
       "date                                                            \n",
       "2016-01-15 00:00:00                                 14.151341   \n",
       "2016-01-15 01:00:00                                 13.998353   \n",
       "2016-01-15 02:00:00                                 14.028663   \n",
       "2016-01-15 03:00:00                                 14.005551   \n",
       "2016-01-15 04:00:00                                 13.996647   \n",
       "\n",
       "                     secondary_cleaner.state.floatbank6_a_level  \\\n",
       "date                                                              \n",
       "2016-01-15 00:00:00                                 -605.841980   \n",
       "2016-01-15 01:00:00                                 -599.787184   \n",
       "2016-01-15 02:00:00                                 -601.427363   \n",
       "2016-01-15 03:00:00                                 -599.996129   \n",
       "2016-01-15 04:00:00                                 -601.496691   \n",
       "\n",
       "                     final.output.recovery  rougher.output.recovery  \n",
       "date                                                                 \n",
       "2016-01-15 00:00:00              70.541216                87.107763  \n",
       "2016-01-15 01:00:00              69.266198                86.843261  \n",
       "2016-01-15 02:00:00              68.116445                86.842308  \n",
       "2016-01-15 03:00:00              68.347543                87.226430  \n",
       "2016-01-15 04:00:00              66.927016                86.688794  \n",
       "\n",
       "[5 rows x 54 columns]"
      ]
     },
     "execution_count": 23,
     "metadata": {},
     "output_type": "execute_result"
    }
   ],
   "source": [
    "df_train.head()"
   ]
  },
  {
   "cell_type": "markdown",
   "metadata": {},
   "source": [
    "### Вывод:\n",
    "- В обучающей выборке 14 149 строк и 87 стольбцов, в некоторых столбцах имеются пропуски, дубликаты отсутствуют. Все столбцы кроме date формата float64\n",
    "- В тестовой выборке 5 290 строк и 53 столбца. Имеются пропуски, Все столбцы кроме date формата float64. Некоторые параметры недоступны, потому что замеряются и/или рассчитываются значительно позже. Из-за этого в тестовой выборке отсутствуют некоторые признаки, которые могут быть в обучающей. Также в тестовом наборе нет целевых признаков.\n",
    "- MAE составляет 9,73, является хорошим результатом. эффективность обогащения рассчитана корректно\n",
    "- В тестовой выборке отсутствуют выходные параметры продукта 'output': концентрация металлов 'concentrate' и отвальные хвосты 'tail' для металлов (Au, Ag, Pb) и солей (Sol), расчётные признаки на этапе флотации - 'calculation'.\n",
    "- Данные колонки необходимо удалить из тренировочного датасета,так как появляются во время или после измерения целевых признаков, за исключением столбцов 'final.output.recovery' и 'rougher.output.recovery', т.к. они являются целевыми признаками.\n",
    "- столбцы с датами переведены в формат datetime и датасеты проиндексированы по дате\n",
    "- пропуски из датасета заменены на данные из соседних колоноке\n"
   ]
  },
  {
   "cell_type": "markdown",
   "metadata": {},
   "source": [
    "## Анализ данных"
   ]
  },
  {
   "cell_type": "markdown",
   "metadata": {},
   "source": [
    "### Посмотрим, как меняется концентрация металлов (Au, Ag, Pb) на различных этапах очистки"
   ]
  },
  {
   "cell_type": "code",
   "execution_count": 24,
   "metadata": {},
   "outputs": [],
   "source": [
    "#Создаем константы с данными по металлам для дальнейшего построения гистограмм по изменению концентрации металлов\n",
    "\n",
    "#золото\n",
    "AU = df_full[['rougher.input.feed_au', 'rougher.output.concentrate_au',\n",
    "              'primary_cleaner.output.concentrate_au', 'final.output.concentrate_au']]\n",
    "#серебро\n",
    "AG = df_full[['rougher.input.feed_ag', 'rougher.output.concentrate_ag',\n",
    "              'primary_cleaner.output.concentrate_ag', 'final.output.concentrate_ag']]\n",
    "#свинец\n",
    "PB = df_full[['rougher.input.feed_pb', 'rougher.output.concentrate_pb',\n",
    "              'primary_cleaner.output.concentrate_pb', 'final.output.concentrate_pb']]"
   ]
  },
  {
   "cell_type": "code",
   "execution_count": 25,
   "metadata": {
    "scrolled": false
   },
   "outputs": [
    {
     "data": {
      "image/png": "[encoded data removed]",
      "text/plain": [
       "<Figure size 720x576 with 1 Axes>"
      ]
     },
     "metadata": {
      "needs_background": "light"
     },
     "output_type": "display_data"
    }
   ],
   "source": [
    "ax = sns.displot(AU, kind='kde', legend=True)\n",
    "#plt.legend(labels = ['Исходное сырье', 'После флотации', 'Первичная обработка', 'Финальный концентрат'])\n",
    "plt.title('Концентрация золота на разных этапах очистки')\n",
    "ax.fig.set_figwidth(10)\n",
    "ax.fig.set_figheight(8)\n",
    "plt.show()"
   ]
  },
  {
   "cell_type": "markdown",
   "metadata": {},
   "source": [
    "Концентрация золота после очистки уменьшилась\n"
   ]
  },
  {
   "cell_type": "code",
   "execution_count": 26,
   "metadata": {
    "scrolled": true
   },
   "outputs": [
    {
     "data": {
      "image/png": "[encoded data removed]",
      "text/plain": [
       "<Figure size 720x576 with 1 Axes>"
      ]
     },
     "metadata": {
      "needs_background": "light"
     },
     "output_type": "display_data"
    }
   ],
   "source": [
    "ax = sns.displot(AG, kind='kde', legend=True)\n",
    "#plt.legend(labels = ['Исходное сырье', 'После флотации', 'Первичная обработка', 'Финальный концентрат'])\n",
    "plt.title('Концентрация серебра на разных этапах очистки')\n",
    "ax.fig.set_figwidth(10)\n",
    "ax.fig.set_figheight(8)\n",
    "plt.show()"
   ]
  },
  {
   "cell_type": "markdown",
   "metadata": {},
   "source": [
    "Концентрация серебра после очистки увеличилась"
   ]
  },
  {
   "cell_type": "code",
   "execution_count": 27,
   "metadata": {},
   "outputs": [
    {
     "data": {
      "image/png": "[encoded data removed]",
      "text/plain": [
       "<Figure size 720x576 with 1 Axes>"
      ]
     },
     "metadata": {
      "needs_background": "light"
     },
     "output_type": "display_data"
    }
   ],
   "source": [
    "ax = sns.displot(PB, kind='kde', legend=True)\n",
    "#plt.legend(labels = ['Исходное сырье', 'После флотации', 'Первичная обработка', 'Финальный концентрат'])\n",
    "plt.title('Концентрация свинца на разных этапах очистки')\n",
    "ax.fig.set_figwidth(10)\n",
    "ax.fig.set_figheight(8)\n",
    "plt.show()"
   ]
  },
  {
   "cell_type": "markdown",
   "metadata": {},
   "source": [
    "Концентрация свинца после очистки уменьшилась"
   ]
  },
  {
   "cell_type": "markdown",
   "metadata": {},
   "source": [
    "###  Сравним распределение размеров гранул сырья на обучающей и тестовой выборках."
   ]
  },
  {
   "cell_type": "code",
   "execution_count": 28,
   "metadata": {},
   "outputs": [
    {
     "name": "stderr",
     "output_type": "stream",
     "text": [
      "/opt/conda/lib/python3.9/site-packages/seaborn/distributions.py:2557: FutureWarning: `distplot` is a deprecated function and will be removed in a future version. Please adapt your code to use either `displot` (a figure-level function with similar flexibility) or `histplot` (an axes-level function for histograms).\n",
      "  warnings.warn(msg, FutureWarning)\n",
      "/opt/conda/lib/python3.9/site-packages/seaborn/distributions.py:2557: FutureWarning: `distplot` is a deprecated function and will be removed in a future version. Please adapt your code to use either `displot` (a figure-level function with similar flexibility) or `histplot` (an axes-level function for histograms).\n",
      "  warnings.warn(msg, FutureWarning)\n"
     ]
    },
    {
     "data": {
      "image/png": "[encoded data removed]",
      "text/plain": [
       "<Figure size 936x648 with 1 Axes>"
      ]
     },
     "metadata": {
      "needs_background": "light"
     },
     "output_type": "display_data"
    }
   ],
   "source": [
    "plt.figure(figsize=(13,9))\n",
    "sns.distplot(df_test['rougher.input.feed_size'], label='Тестовая выборка')\n",
    "sns.distplot(df_train['rougher.input.feed_size'], label='Обучающая выборка')\n",
    "plt.legend()\n",
    "plt.show()"
   ]
  },
  {
   "cell_type": "markdown",
   "metadata": {},
   "source": [
    "Распределение сырья на обучающей и тестовой выборпках не сильно отличаются, модель должна работать правильно"
   ]
  },
  {
   "cell_type": "markdown",
   "metadata": {},
   "source": [
    "### Исследуем суммарную концентрацию всех веществ на разных стадиях"
   ]
  },
  {
   "cell_type": "code",
   "execution_count": 29,
   "metadata": {},
   "outputs": [],
   "source": [
    "#rougher input \n",
    "sum_feed = (df_full['rougher.input.feed_ag'] +\n",
    "            df_full['rougher.input.feed_pb'] +\n",
    "            df_full['rougher.input.feed_sol'] +\n",
    "            df_full['rougher.input.feed_au'])"
   ]
  },
  {
   "cell_type": "code",
   "execution_count": 30,
   "metadata": {},
   "outputs": [],
   "source": [
    "#rougher output \n",
    "sum_rougher = (df_full['rougher.output.concentrate_ag'] + \n",
    "               df_full['rougher.output.concentrate_pb'] + \n",
    "               df_full['rougher.output.concentrate_sol'] + \n",
    "               df_full['rougher.output.concentrate_au'])"
   ]
  },
  {
   "cell_type": "code",
   "execution_count": 31,
   "metadata": {},
   "outputs": [],
   "source": [
    "#primary cleaner\n",
    "sum_primary = (df_full['primary_cleaner.output.concentrate_ag'] + \n",
    "               df_full['primary_cleaner.output.concentrate_pb'] + \n",
    "               df_full['primary_cleaner.output.concentrate_sol'] + \n",
    "               df_full['primary_cleaner.output.concentrate_au'])"
   ]
  },
  {
   "cell_type": "code",
   "execution_count": 32,
   "metadata": {},
   "outputs": [],
   "source": [
    "#final output\n",
    "sum_final = (df_full['final.output.concentrate_ag'] + \n",
    "             df_full['final.output.concentrate_pb'] + \n",
    "             df_full['final.output.concentrate_sol'] + \n",
    "             df_full['final.output.concentrate_au'])"
   ]
  },
  {
   "cell_type": "code",
   "execution_count": 33,
   "metadata": {
    "scrolled": true
   },
   "outputs": [
    {
     "name": "stderr",
     "output_type": "stream",
     "text": [
      "/opt/conda/lib/python3.9/site-packages/seaborn/distributions.py:2557: FutureWarning: `distplot` is a deprecated function and will be removed in a future version. Please adapt your code to use either `displot` (a figure-level function with similar flexibility) or `histplot` (an axes-level function for histograms).\n",
      "  warnings.warn(msg, FutureWarning)\n",
      "/opt/conda/lib/python3.9/site-packages/seaborn/distributions.py:2557: FutureWarning: `distplot` is a deprecated function and will be removed in a future version. Please adapt your code to use either `displot` (a figure-level function with similar flexibility) or `histplot` (an axes-level function for histograms).\n",
      "  warnings.warn(msg, FutureWarning)\n",
      "/opt/conda/lib/python3.9/site-packages/seaborn/distributions.py:2557: FutureWarning: `distplot` is a deprecated function and will be removed in a future version. Please adapt your code to use either `displot` (a figure-level function with similar flexibility) or `histplot` (an axes-level function for histograms).\n",
      "  warnings.warn(msg, FutureWarning)\n",
      "/opt/conda/lib/python3.9/site-packages/seaborn/distributions.py:2557: FutureWarning: `distplot` is a deprecated function and will be removed in a future version. Please adapt your code to use either `displot` (a figure-level function with similar flexibility) or `histplot` (an axes-level function for histograms).\n",
      "  warnings.warn(msg, FutureWarning)\n"
     ]
    },
    {
     "data": {
      "image/png": "[encoded data removed]",
      "text/plain": [
       "<Figure size 864x576 with 1 Axes>"
      ]
     },
     "metadata": {
      "needs_background": "light"
     },
     "output_type": "display_data"
    }
   ],
   "source": [
    "plt.figure(figsize=(12,8))\n",
    "sns.distplot(sum_feed, label='rougher input')\n",
    "sns.distplot(sum_rougher, label='rougher output')\n",
    "sns.distplot(sum_primary, label='primary cleaner')\n",
    "sns.distplot(sum_final, label='final output')\n",
    "plt.legend()\n",
    "plt.show()"
   ]
  },
  {
   "cell_type": "markdown",
   "metadata": {},
   "source": [
    "По гистограмме видно что на первых трех этапах концентрация практически не меняется, а на финальном этапе увеличивается почти в 2 раза"
   ]
  },
  {
   "cell_type": "code",
   "execution_count": 34,
   "metadata": {},
   "outputs": [],
   "source": [
    "train_feed = (df_train['rougher.input.feed_ag'] +\n",
    "             df_train['rougher.input.feed_pb'] +\n",
    "             df_train['rougher.input.feed_sol'] +\n",
    "             df_train['rougher.input.feed_au'])"
   ]
  },
  {
   "cell_type": "code",
   "execution_count": 35,
   "metadata": {},
   "outputs": [
    {
     "data": {
      "text/plain": [
       "<Figure size 864x576 with 0 Axes>"
      ]
     },
     "metadata": {},
     "output_type": "display_data"
    },
    {
     "data": {
      "image/png": "[encoded data removed]",
      "text/plain": [
       "<Figure size 360x360 with 1 Axes>"
      ]
     },
     "metadata": {
      "needs_background": "light"
     },
     "output_type": "display_data"
    }
   ],
   "source": [
    "plt.figure(figsize=(12,8))\n",
    "sns.displot(train_feed)\n",
    "plt.show()"
   ]
  },
  {
   "cell_type": "raw",
   "metadata": {},
   "source": [
    "df_full = df_full[(df_full['rougher.input.feed_ag']>1)\n",
    "                 &(df_full['rougher.input.feed_pb']>1)\n",
    "                 &(df_full['rougher.input.feed_sol']>1)\n",
    "                 &(df_full['rougher.input.feed_au']>1)\n",
    "                 &(df_full['rougher.output.concentrate_ag']>1)\n",
    "                 &(df_full['rougher.output.concentrate_pb']>1)\n",
    "                 &(df_full['rougher.output.concentrate_sol']>1)\n",
    "                 &(df_full['rougher.output.concentrate_au']>1)\n",
    "                 &(df_full['primary_cleaner.output.concentrate_ag']>1)\n",
    "                  &(df_full['primary_cleaner.output.concentrate_pb']>1)\n",
    "                  &(df_full['primary_cleaner.output.concentrate_sol']>1)\n",
    "                  &(df_full['primary_cleaner.output.concentrate_au']>1)\n",
    "                 &(df_full['final.output.concentrate_ag']>1)\n",
    "                 &(df_full['final.output.concentrate_pb']>1)\n",
    "                 &(df_full['final.output.concentrate_sol']>1)\n",
    "                 &(df_full['final.output.concentrate_au']>1)]"
   ]
  },
  {
   "cell_type": "code",
   "execution_count": 36,
   "metadata": {},
   "outputs": [
    {
     "data": {
      "text/plain": [
       "(19439, 86)"
      ]
     },
     "execution_count": 36,
     "metadata": {},
     "output_type": "execute_result"
    }
   ],
   "source": [
    "df_full.shape"
   ]
  },
  {
   "cell_type": "code",
   "execution_count": 37,
   "metadata": {},
   "outputs": [],
   "source": [
    "# убираем нулевые значения\n",
    "df_train = df_train[(df_train['rougher.input.feed_ag']>1)\n",
    "                    &(df_train['rougher.input.feed_pb']>1)\n",
    "                    &(df_train['rougher.input.feed_sol']>1)\n",
    "                    &(df_train['rougher.input.feed_au']>1)]"
   ]
  },
  {
   "cell_type": "code",
   "execution_count": 38,
   "metadata": {},
   "outputs": [
    {
     "data": {
      "text/html": [
       "<div>\n",
       "<style scoped>\n",
       "    .dataframe tbody tr th:only-of-type {\n",
       "        vertical-align: middle;\n",
       "    }\n",
       "\n",
       "    .dataframe tbody tr th {\n",
       "        vertical-align: top;\n",
       "    }\n",
       "\n",
       "    .dataframe thead th {\n",
       "        text-align: right;\n",
       "    }\n",
       "</style>\n",
       "<table border=\"1\" class=\"dataframe\">\n",
       "  <thead>\n",
       "    <tr style=\"text-align: right;\">\n",
       "      <th></th>\n",
       "      <th>primary_cleaner.input.sulfate</th>\n",
       "      <th>primary_cleaner.input.depressant</th>\n",
       "      <th>primary_cleaner.input.feed_size</th>\n",
       "      <th>primary_cleaner.input.xanthate</th>\n",
       "      <th>primary_cleaner.state.floatbank8_a_air</th>\n",
       "      <th>primary_cleaner.state.floatbank8_a_level</th>\n",
       "      <th>primary_cleaner.state.floatbank8_b_air</th>\n",
       "      <th>primary_cleaner.state.floatbank8_b_level</th>\n",
       "      <th>primary_cleaner.state.floatbank8_c_air</th>\n",
       "      <th>primary_cleaner.state.floatbank8_c_level</th>\n",
       "      <th>...</th>\n",
       "      <th>secondary_cleaner.state.floatbank4_b_air</th>\n",
       "      <th>secondary_cleaner.state.floatbank4_b_level</th>\n",
       "      <th>secondary_cleaner.state.floatbank5_a_air</th>\n",
       "      <th>secondary_cleaner.state.floatbank5_a_level</th>\n",
       "      <th>secondary_cleaner.state.floatbank5_b_air</th>\n",
       "      <th>secondary_cleaner.state.floatbank5_b_level</th>\n",
       "      <th>secondary_cleaner.state.floatbank6_a_air</th>\n",
       "      <th>secondary_cleaner.state.floatbank6_a_level</th>\n",
       "      <th>final.output.recovery</th>\n",
       "      <th>rougher.output.recovery</th>\n",
       "    </tr>\n",
       "    <tr>\n",
       "      <th>date</th>\n",
       "      <th></th>\n",
       "      <th></th>\n",
       "      <th></th>\n",
       "      <th></th>\n",
       "      <th></th>\n",
       "      <th></th>\n",
       "      <th></th>\n",
       "      <th></th>\n",
       "      <th></th>\n",
       "      <th></th>\n",
       "      <th></th>\n",
       "      <th></th>\n",
       "      <th></th>\n",
       "      <th></th>\n",
       "      <th></th>\n",
       "      <th></th>\n",
       "      <th></th>\n",
       "      <th></th>\n",
       "      <th></th>\n",
       "      <th></th>\n",
       "      <th></th>\n",
       "    </tr>\n",
       "  </thead>\n",
       "  <tbody>\n",
       "    <tr>\n",
       "      <th>2016-01-15 00:00:00</th>\n",
       "      <td>127.092003</td>\n",
       "      <td>10.128295</td>\n",
       "      <td>7.25</td>\n",
       "      <td>0.988759</td>\n",
       "      <td>1549.775757</td>\n",
       "      <td>-498.912140</td>\n",
       "      <td>1551.434204</td>\n",
       "      <td>-516.403442</td>\n",
       "      <td>1549.873901</td>\n",
       "      <td>-498.666595</td>\n",
       "      <td>...</td>\n",
       "      <td>12.099931</td>\n",
       "      <td>-504.715942</td>\n",
       "      <td>9.925633</td>\n",
       "      <td>-498.310211</td>\n",
       "      <td>8.079666</td>\n",
       "      <td>-500.470978</td>\n",
       "      <td>14.151341</td>\n",
       "      <td>-605.841980</td>\n",
       "      <td>70.541216</td>\n",
       "      <td>87.107763</td>\n",
       "    </tr>\n",
       "    <tr>\n",
       "      <th>2016-01-15 01:00:00</th>\n",
       "      <td>125.629232</td>\n",
       "      <td>10.296251</td>\n",
       "      <td>7.25</td>\n",
       "      <td>1.002663</td>\n",
       "      <td>1576.166671</td>\n",
       "      <td>-500.904965</td>\n",
       "      <td>1575.950626</td>\n",
       "      <td>-499.865889</td>\n",
       "      <td>1575.994189</td>\n",
       "      <td>-499.315107</td>\n",
       "      <td>...</td>\n",
       "      <td>11.950531</td>\n",
       "      <td>-501.331529</td>\n",
       "      <td>10.039245</td>\n",
       "      <td>-500.169983</td>\n",
       "      <td>7.984757</td>\n",
       "      <td>-500.582168</td>\n",
       "      <td>13.998353</td>\n",
       "      <td>-599.787184</td>\n",
       "      <td>69.266198</td>\n",
       "      <td>86.843261</td>\n",
       "    </tr>\n",
       "    <tr>\n",
       "      <th>2016-01-15 02:00:00</th>\n",
       "      <td>123.819808</td>\n",
       "      <td>11.316280</td>\n",
       "      <td>7.25</td>\n",
       "      <td>0.991265</td>\n",
       "      <td>1601.556163</td>\n",
       "      <td>-499.997791</td>\n",
       "      <td>1600.386685</td>\n",
       "      <td>-500.607762</td>\n",
       "      <td>1602.003542</td>\n",
       "      <td>-500.870069</td>\n",
       "      <td>...</td>\n",
       "      <td>11.912783</td>\n",
       "      <td>-501.133383</td>\n",
       "      <td>10.070913</td>\n",
       "      <td>-500.129135</td>\n",
       "      <td>8.013877</td>\n",
       "      <td>-500.517572</td>\n",
       "      <td>14.028663</td>\n",
       "      <td>-601.427363</td>\n",
       "      <td>68.116445</td>\n",
       "      <td>86.842308</td>\n",
       "    </tr>\n",
       "    <tr>\n",
       "      <th>2016-01-15 03:00:00</th>\n",
       "      <td>122.270188</td>\n",
       "      <td>11.322140</td>\n",
       "      <td>7.25</td>\n",
       "      <td>0.996739</td>\n",
       "      <td>1599.968720</td>\n",
       "      <td>-500.951778</td>\n",
       "      <td>1600.659236</td>\n",
       "      <td>-499.677094</td>\n",
       "      <td>1600.304144</td>\n",
       "      <td>-500.727997</td>\n",
       "      <td>...</td>\n",
       "      <td>11.999550</td>\n",
       "      <td>-501.193686</td>\n",
       "      <td>9.970366</td>\n",
       "      <td>-499.201640</td>\n",
       "      <td>7.977324</td>\n",
       "      <td>-500.255908</td>\n",
       "      <td>14.005551</td>\n",
       "      <td>-599.996129</td>\n",
       "      <td>68.347543</td>\n",
       "      <td>87.226430</td>\n",
       "    </tr>\n",
       "    <tr>\n",
       "      <th>2016-01-15 04:00:00</th>\n",
       "      <td>117.988169</td>\n",
       "      <td>11.913613</td>\n",
       "      <td>7.25</td>\n",
       "      <td>1.009869</td>\n",
       "      <td>1601.339707</td>\n",
       "      <td>-498.975456</td>\n",
       "      <td>1601.437854</td>\n",
       "      <td>-500.323246</td>\n",
       "      <td>1599.581894</td>\n",
       "      <td>-500.888152</td>\n",
       "      <td>...</td>\n",
       "      <td>11.953070</td>\n",
       "      <td>-501.053894</td>\n",
       "      <td>9.925709</td>\n",
       "      <td>-501.686727</td>\n",
       "      <td>7.894242</td>\n",
       "      <td>-500.356035</td>\n",
       "      <td>13.996647</td>\n",
       "      <td>-601.496691</td>\n",
       "      <td>66.927016</td>\n",
       "      <td>86.688794</td>\n",
       "    </tr>\n",
       "  </tbody>\n",
       "</table>\n",
       "<p>5 rows × 54 columns</p>\n",
       "</div>"
      ],
      "text/plain": [
       "                     primary_cleaner.input.sulfate  \\\n",
       "date                                                 \n",
       "2016-01-15 00:00:00                     127.092003   \n",
       "2016-01-15 01:00:00                     125.629232   \n",
       "2016-01-15 02:00:00                     123.819808   \n",
       "2016-01-15 03:00:00                     122.270188   \n",
       "2016-01-15 04:00:00                     117.988169   \n",
       "\n",
       "                     primary_cleaner.input.depressant  \\\n",
       "date                                                    \n",
       "2016-01-15 00:00:00                         10.128295   \n",
       "2016-01-15 01:00:00                         10.296251   \n",
       "2016-01-15 02:00:00                         11.316280   \n",
       "2016-01-15 03:00:00                         11.322140   \n",
       "2016-01-15 04:00:00                         11.913613   \n",
       "\n",
       "                     primary_cleaner.input.feed_size  \\\n",
       "date                                                   \n",
       "2016-01-15 00:00:00                             7.25   \n",
       "2016-01-15 01:00:00                             7.25   \n",
       "2016-01-15 02:00:00                             7.25   \n",
       "2016-01-15 03:00:00                             7.25   \n",
       "2016-01-15 04:00:00                             7.25   \n",
       "\n",
       "                     primary_cleaner.input.xanthate  \\\n",
       "date                                                  \n",
       "2016-01-15 00:00:00                        0.988759   \n",
       "2016-01-15 01:00:00                        1.002663   \n",
       "2016-01-15 02:00:00                        0.991265   \n",
       "2016-01-15 03:00:00                        0.996739   \n",
       "2016-01-15 04:00:00                        1.009869   \n",
       "\n",
       "                     primary_cleaner.state.floatbank8_a_air  \\\n",
       "date                                                          \n",
       "2016-01-15 00:00:00                             1549.775757   \n",
       "2016-01-15 01:00:00                             1576.166671   \n",
       "2016-01-15 02:00:00                             1601.556163   \n",
       "2016-01-15 03:00:00                             1599.968720   \n",
       "2016-01-15 04:00:00                             1601.339707   \n",
       "\n",
       "                     primary_cleaner.state.floatbank8_a_level  \\\n",
       "date                                                            \n",
       "2016-01-15 00:00:00                               -498.912140   \n",
       "2016-01-15 01:00:00                               -500.904965   \n",
       "2016-01-15 02:00:00                               -499.997791   \n",
       "2016-01-15 03:00:00                               -500.951778   \n",
       "2016-01-15 04:00:00                               -498.975456   \n",
       "\n",
       "                     primary_cleaner.state.floatbank8_b_air  \\\n",
       "date                                                          \n",
       "2016-01-15 00:00:00                             1551.434204   \n",
       "2016-01-15 01:00:00                             1575.950626   \n",
       "2016-01-15 02:00:00                             1600.386685   \n",
       "2016-01-15 03:00:00                             1600.659236   \n",
       "2016-01-15 04:00:00                             1601.437854   \n",
       "\n",
       "                     primary_cleaner.state.floatbank8_b_level  \\\n",
       "date                                                            \n",
       "2016-01-15 00:00:00                               -516.403442   \n",
       "2016-01-15 01:00:00                               -499.865889   \n",
       "2016-01-15 02:00:00                               -500.607762   \n",
       "2016-01-15 03:00:00                               -499.677094   \n",
       "2016-01-15 04:00:00                               -500.323246   \n",
       "\n",
       "                     primary_cleaner.state.floatbank8_c_air  \\\n",
       "date                                                          \n",
       "2016-01-15 00:00:00                             1549.873901   \n",
       "2016-01-15 01:00:00                             1575.994189   \n",
       "2016-01-15 02:00:00                             1602.003542   \n",
       "2016-01-15 03:00:00                             1600.304144   \n",
       "2016-01-15 04:00:00                             1599.581894   \n",
       "\n",
       "                     primary_cleaner.state.floatbank8_c_level  ...  \\\n",
       "date                                                           ...   \n",
       "2016-01-15 00:00:00                               -498.666595  ...   \n",
       "2016-01-15 01:00:00                               -499.315107  ...   \n",
       "2016-01-15 02:00:00                               -500.870069  ...   \n",
       "2016-01-15 03:00:00                               -500.727997  ...   \n",
       "2016-01-15 04:00:00                               -500.888152  ...   \n",
       "\n",
       "                     secondary_cleaner.state.floatbank4_b_air  \\\n",
       "date                                                            \n",
       "2016-01-15 00:00:00                                 12.099931   \n",
       "2016-01-15 01:00:00                                 11.950531   \n",
       "2016-01-15 02:00:00                                 11.912783   \n",
       "2016-01-15 03:00:00                                 11.999550   \n",
       "2016-01-15 04:00:00                                 11.953070   \n",
       "\n",
       "                     secondary_cleaner.state.floatbank4_b_level  \\\n",
       "date                                                              \n",
       "2016-01-15 00:00:00                                 -504.715942   \n",
       "2016-01-15 01:00:00                                 -501.331529   \n",
       "2016-01-15 02:00:00                                 -501.133383   \n",
       "2016-01-15 03:00:00                                 -501.193686   \n",
       "2016-01-15 04:00:00                                 -501.053894   \n",
       "\n",
       "                     secondary_cleaner.state.floatbank5_a_air  \\\n",
       "date                                                            \n",
       "2016-01-15 00:00:00                                  9.925633   \n",
       "2016-01-15 01:00:00                                 10.039245   \n",
       "2016-01-15 02:00:00                                 10.070913   \n",
       "2016-01-15 03:00:00                                  9.970366   \n",
       "2016-01-15 04:00:00                                  9.925709   \n",
       "\n",
       "                     secondary_cleaner.state.floatbank5_a_level  \\\n",
       "date                                                              \n",
       "2016-01-15 00:00:00                                 -498.310211   \n",
       "2016-01-15 01:00:00                                 -500.169983   \n",
       "2016-01-15 02:00:00                                 -500.129135   \n",
       "2016-01-15 03:00:00                                 -499.201640   \n",
       "2016-01-15 04:00:00                                 -501.686727   \n",
       "\n",
       "                     secondary_cleaner.state.floatbank5_b_air  \\\n",
       "date                                                            \n",
       "2016-01-15 00:00:00                                  8.079666   \n",
       "2016-01-15 01:00:00                                  7.984757   \n",
       "2016-01-15 02:00:00                                  8.013877   \n",
       "2016-01-15 03:00:00                                  7.977324   \n",
       "2016-01-15 04:00:00                                  7.894242   \n",
       "\n",
       "                     secondary_cleaner.state.floatbank5_b_level  \\\n",
       "date                                                              \n",
       "2016-01-15 00:00:00                                 -500.470978   \n",
       "2016-01-15 01:00:00                                 -500.582168   \n",
       "2016-01-15 02:00:00                                 -500.517572   \n",
       "2016-01-15 03:00:00                                 -500.255908   \n",
       "2016-01-15 04:00:00                                 -500.356035   \n",
       "\n",
       "                     secondary_cleaner.state.floatbank6_a_air  \\\n",
       "date                                                            \n",
       "2016-01-15 00:00:00                                 14.151341   \n",
       "2016-01-15 01:00:00                                 13.998353   \n",
       "2016-01-15 02:00:00                                 14.028663   \n",
       "2016-01-15 03:00:00                                 14.005551   \n",
       "2016-01-15 04:00:00                                 13.996647   \n",
       "\n",
       "                     secondary_cleaner.state.floatbank6_a_level  \\\n",
       "date                                                              \n",
       "2016-01-15 00:00:00                                 -605.841980   \n",
       "2016-01-15 01:00:00                                 -599.787184   \n",
       "2016-01-15 02:00:00                                 -601.427363   \n",
       "2016-01-15 03:00:00                                 -599.996129   \n",
       "2016-01-15 04:00:00                                 -601.496691   \n",
       "\n",
       "                     final.output.recovery  rougher.output.recovery  \n",
       "date                                                                 \n",
       "2016-01-15 00:00:00              70.541216                87.107763  \n",
       "2016-01-15 01:00:00              69.266198                86.843261  \n",
       "2016-01-15 02:00:00              68.116445                86.842308  \n",
       "2016-01-15 03:00:00              68.347543                87.226430  \n",
       "2016-01-15 04:00:00              66.927016                86.688794  \n",
       "\n",
       "[5 rows x 54 columns]"
      ]
     },
     "execution_count": 38,
     "metadata": {},
     "output_type": "execute_result"
    }
   ],
   "source": [
    "df_train.head()"
   ]
  },
  {
   "cell_type": "code",
   "execution_count": 39,
   "metadata": {},
   "outputs": [],
   "source": [
    "test_feed = (df_test['rougher.input.feed_ag'] +\n",
    "             df_test['rougher.input.feed_pb'] +\n",
    "             df_test['rougher.input.feed_sol'] +\n",
    "             df_test['rougher.input.feed_au'])"
   ]
  },
  {
   "cell_type": "code",
   "execution_count": 40,
   "metadata": {
    "scrolled": true
   },
   "outputs": [
    {
     "name": "stderr",
     "output_type": "stream",
     "text": [
      "/opt/conda/lib/python3.9/site-packages/seaborn/distributions.py:2557: FutureWarning: `distplot` is a deprecated function and will be removed in a future version. Please adapt your code to use either `displot` (a figure-level function with similar flexibility) or `histplot` (an axes-level function for histograms).\n",
      "  warnings.warn(msg, FutureWarning)\n"
     ]
    },
    {
     "data": {
      "image/png": "[encoded data removed]",
      "text/plain": [
       "<Figure size 864x576 with 1 Axes>"
      ]
     },
     "metadata": {
      "needs_background": "light"
     },
     "output_type": "display_data"
    }
   ],
   "source": [
    "plt.figure(figsize=(12,8))\n",
    "sns.distplot(test_feed, label='Исходное сырье в тестовой выборке')\n",
    "plt.legend()\n",
    "plt.show()"
   ]
  },
  {
   "cell_type": "markdown",
   "metadata": {},
   "source": [
    "### Вывод:\n",
    "1. Концентрация золота и свинца после очистки уменьшается, при этом концентррация серебра после очистки увеличивается\n",
    "2. Распределение сырья на обучающей и тестовой выборпках не сильно отличаются, модель должна работать правильно\n",
    "3. На первых трех этапах концентрация практически не меняется, а на финальном этапе увеличивается почти в 2 раза"
   ]
  },
  {
   "cell_type": "markdown",
   "metadata": {},
   "source": [
    "## Модель"
   ]
  },
  {
   "cell_type": "markdown",
   "metadata": {},
   "source": [
    "### Напишем функцию для вычисления итоговой sMAPE"
   ]
  },
  {
   "cell_type": "code",
   "execution_count": 41,
   "metadata": {},
   "outputs": [],
   "source": [
    "def smape (target, predictions):\n",
    "    return 1/len(target)*sum(abs(target-predictions)/((abs(target)+abs(predictions))/2))*100"
   ]
  },
  {
   "cell_type": "code",
   "execution_count": 42,
   "metadata": {},
   "outputs": [],
   "source": [
    "#создаем новую метрику для оценки качества модели\n",
    "smape_score = make_scorer(smape)"
   ]
  },
  {
   "cell_type": "code",
   "execution_count": 43,
   "metadata": {},
   "outputs": [],
   "source": [
    "def total_smape (smape_rougher, smape_final):\n",
    "    return 0.25 * smape_rougher + 0.75 * smape_final"
   ]
  },
  {
   "cell_type": "code",
   "execution_count": 44,
   "metadata": {},
   "outputs": [],
   "source": [
    "#создадим выборки с признаками и целевыми признаками\n",
    "# общие признаки для двух целевых признаков\n",
    "features_train = df_train.drop(['rougher.output.recovery', 'final.output.recovery'], axis = 1)\n",
    "# целевой признак для финальной концентрации\n",
    "target_final_train = df_train['final.output.recovery']\n",
    "# целевой признак для флотации\n",
    "target_rougher_train = df_train['rougher.output.recovery']"
   ]
  },
  {
   "cell_type": "markdown",
   "metadata": {},
   "source": [
    "### Дерево решений"
   ]
  },
  {
   "cell_type": "code",
   "execution_count": 45,
   "metadata": {},
   "outputs": [],
   "source": [
    "def tree(features, target):\n",
    "    best_tree = None\n",
    "    best_depth = 0\n",
    "    best_smape = 20\n",
    "    for depth in range(1, 10):\n",
    "        model = DecisionTreeRegressor(random_state=12345, max_depth=depth)\n",
    "        #model.fit(features, target)\n",
    "        smape_score_tree = cross_val_score(model, features, target, cv=5, scoring=smape_score, n_jobs=-1).mean()\n",
    "        if smape_score_tree < best_smape:\n",
    "            best_tree = model\n",
    "            best_smape = smape_score_tree\n",
    "            best_depth = depth\n",
    "    print('Лучший результат sMAPE: {} с глубиной дерева {}'.format(best_smape, best_depth))\n",
    "    return best_tree, best_smape"
   ]
  },
  {
   "cell_type": "code",
   "execution_count": 46,
   "metadata": {},
   "outputs": [
    {
     "name": "stdout",
     "output_type": "stream",
     "text": [
      "Лучший результат sMAPE: 11.531455970056712 с глубиной дерева 4\n"
     ]
    }
   ],
   "source": [
    "#для этапа флотации\n",
    "tree_rougher, tree_rougher_smape = tree(features_train, target_rougher_train)"
   ]
  },
  {
   "cell_type": "code",
   "execution_count": 47,
   "metadata": {},
   "outputs": [
    {
     "name": "stdout",
     "output_type": "stream",
     "text": [
      "Лучший результат sMAPE: 10.312148747789308 с глубиной дерева 2\n"
     ]
    }
   ],
   "source": [
    "#на финальном этапе\n",
    "tree_final, tree_final_smape = tree(features_train, target_final_train)"
   ]
  },
  {
   "cell_type": "code",
   "execution_count": 48,
   "metadata": {},
   "outputs": [
    {
     "name": "stdout",
     "output_type": "stream",
     "text": [
      "Итоговое sMAPE для дерева решений: 10.61697555335616\n"
     ]
    }
   ],
   "source": [
    "#итоговое sMAPE дерева решений\n",
    "tree_total_smape = total_smape(tree_rougher_smape, tree_final_smape)\n",
    "print('Итоговое sMAPE для дерева решений:', tree_total_smape)"
   ]
  },
  {
   "cell_type": "markdown",
   "metadata": {},
   "source": [
    "### Случайный лес"
   ]
  },
  {
   "cell_type": "code",
   "execution_count": 49,
   "metadata": {},
   "outputs": [],
   "source": [
    "def forest(features, target):\n",
    "    best_forest = None\n",
    "    best_est = 0\n",
    "    best_depth = 0\n",
    "    best_smape = 20\n",
    "    for depth in range(1, 10):\n",
    "        for est in range(1,10):\n",
    "            model = RandomForestRegressor(random_state=12345, n_estimators=est, max_depth=depth)\n",
    "            model.fit(features, target)\n",
    "            smape_score_forest = cross_val_score(model, features, target, cv=5, scoring=smape_score, n_jobs=-1).mean()\n",
    "            if smape_score_forest < best_smape:\n",
    "                best_forest = model\n",
    "                best_smape = smape_score_forest\n",
    "                best_depth = depth\n",
    "                best_est = est\n",
    "    print('Лучший результат sMAPE: {} с max_depth {} и n_estimators {}'\n",
    "      .format(best_smape, best_depth, best_est))\n",
    "    return (best_forest, best_smape)"
   ]
  },
  {
   "cell_type": "code",
   "execution_count": 50,
   "metadata": {},
   "outputs": [
    {
     "name": "stdout",
     "output_type": "stream",
     "text": [
      "Лучший результат sMAPE: 10.901806523121152 с max_depth 5 и n_estimators 6\n"
     ]
    }
   ],
   "source": [
    "#для этапа флотации\n",
    "forest_rougher, forest_rougher_smape = forest(features_train, target_rougher_train)"
   ]
  },
  {
   "cell_type": "code",
   "execution_count": 51,
   "metadata": {},
   "outputs": [
    {
     "name": "stdout",
     "output_type": "stream",
     "text": [
      "Лучший результат sMAPE: 10.021508844838745 с max_depth 5 и n_estimators 7\n"
     ]
    }
   ],
   "source": [
    "#на финальном этапе\n",
    "forest_final, forest_final_smape = forest(features_train, target_final_train)"
   ]
  },
  {
   "cell_type": "code",
   "execution_count": 52,
   "metadata": {},
   "outputs": [
    {
     "name": "stdout",
     "output_type": "stream",
     "text": [
      "Итоговое sMAPE для случайного леса: 10.241583264409346\n"
     ]
    }
   ],
   "source": [
    "#итоговое sMAPE по случайному лесу\n",
    "forest_total_smape = total_smape(forest_rougher_smape, forest_final_smape)\n",
    "print('Итоговое sMAPE для случайного леса:',forest_total_smape)"
   ]
  },
  {
   "cell_type": "markdown",
   "metadata": {},
   "source": [
    "### Линейная регрессия"
   ]
  },
  {
   "cell_type": "code",
   "execution_count": 53,
   "metadata": {},
   "outputs": [],
   "source": [
    "def reg_model(features, target):\n",
    "    regression_model = LinearRegression()\n",
    "    regression_model.fit(features, target)\n",
    "    smape_score_regression = cross_val_score(regression_model, features, target, cv=5, scoring=smape_score, n_jobs=-1).mean()\n",
    "    print('Лучший результат sMAPE:', smape_score_regression)\n",
    "    return (regression_model, smape_score_regression)"
   ]
  },
  {
   "cell_type": "code",
   "execution_count": 54,
   "metadata": {},
   "outputs": [
    {
     "name": "stdout",
     "output_type": "stream",
     "text": [
      "Лучший результат sMAPE: 12.774081397480435\n"
     ]
    }
   ],
   "source": [
    "#для этапа флотации\n",
    "regression_rougher, regression_rougher_smape = reg_model(features_train, target_rougher_train)"
   ]
  },
  {
   "cell_type": "code",
   "execution_count": 55,
   "metadata": {},
   "outputs": [
    {
     "name": "stdout",
     "output_type": "stream",
     "text": [
      "Лучший результат sMAPE: 11.971313778991847\n"
     ]
    }
   ],
   "source": [
    "#на финальном этапе\n",
    "regression_final, regression_final_smape = reg_model(features_train, target_final_train)"
   ]
  },
  {
   "cell_type": "code",
   "execution_count": 56,
   "metadata": {},
   "outputs": [
    {
     "name": "stdout",
     "output_type": "stream",
     "text": [
      "Итоговое sMAPE для линейной регрессии: 12.172005683613994\n"
     ]
    }
   ],
   "source": [
    "#итоговое sMAPE по линейной регрессии\n",
    "regression_total_smape = total_smape(regression_rougher_smape, regression_final_smape)\n",
    "print('Итоговое sMAPE для линейной регрессии:', regression_total_smape)"
   ]
  },
  {
   "cell_type": "markdown",
   "metadata": {},
   "source": [
    "Лучший результат sMAE у Случайного Леса с результатом 10,32"
   ]
  },
  {
   "cell_type": "markdown",
   "metadata": {},
   "source": [
    "### Проверка модели на тестовой выборке"
   ]
  },
  {
   "cell_type": "code",
   "execution_count": 57,
   "metadata": {},
   "outputs": [
    {
     "data": {
      "text/html": [
       "<div>\n",
       "<style scoped>\n",
       "    .dataframe tbody tr th:only-of-type {\n",
       "        vertical-align: middle;\n",
       "    }\n",
       "\n",
       "    .dataframe tbody tr th {\n",
       "        vertical-align: top;\n",
       "    }\n",
       "\n",
       "    .dataframe thead th {\n",
       "        text-align: right;\n",
       "    }\n",
       "</style>\n",
       "<table border=\"1\" class=\"dataframe\">\n",
       "  <thead>\n",
       "    <tr style=\"text-align: right;\">\n",
       "      <th></th>\n",
       "      <th>final.output.concentrate_ag</th>\n",
       "      <th>final.output.concentrate_pb</th>\n",
       "      <th>final.output.concentrate_sol</th>\n",
       "      <th>final.output.concentrate_au</th>\n",
       "      <th>final.output.recovery</th>\n",
       "      <th>final.output.tail_ag</th>\n",
       "      <th>final.output.tail_pb</th>\n",
       "      <th>final.output.tail_sol</th>\n",
       "      <th>final.output.tail_au</th>\n",
       "      <th>primary_cleaner.input.sulfate</th>\n",
       "      <th>...</th>\n",
       "      <th>secondary_cleaner.state.floatbank4_a_air</th>\n",
       "      <th>secondary_cleaner.state.floatbank4_a_level</th>\n",
       "      <th>secondary_cleaner.state.floatbank4_b_air</th>\n",
       "      <th>secondary_cleaner.state.floatbank4_b_level</th>\n",
       "      <th>secondary_cleaner.state.floatbank5_a_air</th>\n",
       "      <th>secondary_cleaner.state.floatbank5_a_level</th>\n",
       "      <th>secondary_cleaner.state.floatbank5_b_air</th>\n",
       "      <th>secondary_cleaner.state.floatbank5_b_level</th>\n",
       "      <th>secondary_cleaner.state.floatbank6_a_air</th>\n",
       "      <th>secondary_cleaner.state.floatbank6_a_level</th>\n",
       "    </tr>\n",
       "    <tr>\n",
       "      <th>date</th>\n",
       "      <th></th>\n",
       "      <th></th>\n",
       "      <th></th>\n",
       "      <th></th>\n",
       "      <th></th>\n",
       "      <th></th>\n",
       "      <th></th>\n",
       "      <th></th>\n",
       "      <th></th>\n",
       "      <th></th>\n",
       "      <th></th>\n",
       "      <th></th>\n",
       "      <th></th>\n",
       "      <th></th>\n",
       "      <th></th>\n",
       "      <th></th>\n",
       "      <th></th>\n",
       "      <th></th>\n",
       "      <th></th>\n",
       "      <th></th>\n",
       "      <th></th>\n",
       "    </tr>\n",
       "  </thead>\n",
       "  <tbody>\n",
       "    <tr>\n",
       "      <th>2016-01-15 00:00:00</th>\n",
       "      <td>6.055403</td>\n",
       "      <td>9.889648</td>\n",
       "      <td>5.507324</td>\n",
       "      <td>42.192020</td>\n",
       "      <td>70.541216</td>\n",
       "      <td>10.411962</td>\n",
       "      <td>0.895447</td>\n",
       "      <td>16.904297</td>\n",
       "      <td>2.143149</td>\n",
       "      <td>127.092003</td>\n",
       "      <td>...</td>\n",
       "      <td>14.016835</td>\n",
       "      <td>-502.488007</td>\n",
       "      <td>12.099931</td>\n",
       "      <td>-504.715942</td>\n",
       "      <td>9.925633</td>\n",
       "      <td>-498.310211</td>\n",
       "      <td>8.079666</td>\n",
       "      <td>-500.470978</td>\n",
       "      <td>14.151341</td>\n",
       "      <td>-605.841980</td>\n",
       "    </tr>\n",
       "    <tr>\n",
       "      <th>2016-01-15 01:00:00</th>\n",
       "      <td>6.029369</td>\n",
       "      <td>9.968944</td>\n",
       "      <td>5.257781</td>\n",
       "      <td>42.701629</td>\n",
       "      <td>69.266198</td>\n",
       "      <td>10.462676</td>\n",
       "      <td>0.927452</td>\n",
       "      <td>16.634514</td>\n",
       "      <td>2.224930</td>\n",
       "      <td>125.629232</td>\n",
       "      <td>...</td>\n",
       "      <td>13.992281</td>\n",
       "      <td>-505.503262</td>\n",
       "      <td>11.950531</td>\n",
       "      <td>-501.331529</td>\n",
       "      <td>10.039245</td>\n",
       "      <td>-500.169983</td>\n",
       "      <td>7.984757</td>\n",
       "      <td>-500.582168</td>\n",
       "      <td>13.998353</td>\n",
       "      <td>-599.787184</td>\n",
       "    </tr>\n",
       "    <tr>\n",
       "      <th>2016-01-15 02:00:00</th>\n",
       "      <td>6.055926</td>\n",
       "      <td>10.213995</td>\n",
       "      <td>5.383759</td>\n",
       "      <td>42.657501</td>\n",
       "      <td>68.116445</td>\n",
       "      <td>10.507046</td>\n",
       "      <td>0.953716</td>\n",
       "      <td>16.208849</td>\n",
       "      <td>2.257889</td>\n",
       "      <td>123.819808</td>\n",
       "      <td>...</td>\n",
       "      <td>14.015015</td>\n",
       "      <td>-502.520901</td>\n",
       "      <td>11.912783</td>\n",
       "      <td>-501.133383</td>\n",
       "      <td>10.070913</td>\n",
       "      <td>-500.129135</td>\n",
       "      <td>8.013877</td>\n",
       "      <td>-500.517572</td>\n",
       "      <td>14.028663</td>\n",
       "      <td>-601.427363</td>\n",
       "    </tr>\n",
       "    <tr>\n",
       "      <th>2016-01-15 03:00:00</th>\n",
       "      <td>6.047977</td>\n",
       "      <td>9.977019</td>\n",
       "      <td>4.858634</td>\n",
       "      <td>42.689819</td>\n",
       "      <td>68.347543</td>\n",
       "      <td>10.422762</td>\n",
       "      <td>0.883763</td>\n",
       "      <td>16.532835</td>\n",
       "      <td>2.146849</td>\n",
       "      <td>122.270188</td>\n",
       "      <td>...</td>\n",
       "      <td>14.036510</td>\n",
       "      <td>-500.857308</td>\n",
       "      <td>11.999550</td>\n",
       "      <td>-501.193686</td>\n",
       "      <td>9.970366</td>\n",
       "      <td>-499.201640</td>\n",
       "      <td>7.977324</td>\n",
       "      <td>-500.255908</td>\n",
       "      <td>14.005551</td>\n",
       "      <td>-599.996129</td>\n",
       "    </tr>\n",
       "    <tr>\n",
       "      <th>2016-01-15 04:00:00</th>\n",
       "      <td>6.148599</td>\n",
       "      <td>10.142511</td>\n",
       "      <td>4.939416</td>\n",
       "      <td>42.774141</td>\n",
       "      <td>66.927016</td>\n",
       "      <td>10.360302</td>\n",
       "      <td>0.792826</td>\n",
       "      <td>16.525686</td>\n",
       "      <td>2.055292</td>\n",
       "      <td>117.988169</td>\n",
       "      <td>...</td>\n",
       "      <td>14.027298</td>\n",
       "      <td>-499.838632</td>\n",
       "      <td>11.953070</td>\n",
       "      <td>-501.053894</td>\n",
       "      <td>9.925709</td>\n",
       "      <td>-501.686727</td>\n",
       "      <td>7.894242</td>\n",
       "      <td>-500.356035</td>\n",
       "      <td>13.996647</td>\n",
       "      <td>-601.496691</td>\n",
       "    </tr>\n",
       "  </tbody>\n",
       "</table>\n",
       "<p>5 rows × 86 columns</p>\n",
       "</div>"
      ],
      "text/plain": [
       "                     final.output.concentrate_ag  final.output.concentrate_pb  \\\n",
       "date                                                                            \n",
       "2016-01-15 00:00:00                     6.055403                     9.889648   \n",
       "2016-01-15 01:00:00                     6.029369                     9.968944   \n",
       "2016-01-15 02:00:00                     6.055926                    10.213995   \n",
       "2016-01-15 03:00:00                     6.047977                     9.977019   \n",
       "2016-01-15 04:00:00                     6.148599                    10.142511   \n",
       "\n",
       "                     final.output.concentrate_sol  \\\n",
       "date                                                \n",
       "2016-01-15 00:00:00                      5.507324   \n",
       "2016-01-15 01:00:00                      5.257781   \n",
       "2016-01-15 02:00:00                      5.383759   \n",
       "2016-01-15 03:00:00                      4.858634   \n",
       "2016-01-15 04:00:00                      4.939416   \n",
       "\n",
       "                     final.output.concentrate_au  final.output.recovery  \\\n",
       "date                                                                      \n",
       "2016-01-15 00:00:00                    42.192020              70.541216   \n",
       "2016-01-15 01:00:00                    42.701629              69.266198   \n",
       "2016-01-15 02:00:00                    42.657501              68.116445   \n",
       "2016-01-15 03:00:00                    42.689819              68.347543   \n",
       "2016-01-15 04:00:00                    42.774141              66.927016   \n",
       "\n",
       "                     final.output.tail_ag  final.output.tail_pb  \\\n",
       "date                                                              \n",
       "2016-01-15 00:00:00             10.411962              0.895447   \n",
       "2016-01-15 01:00:00             10.462676              0.927452   \n",
       "2016-01-15 02:00:00             10.507046              0.953716   \n",
       "2016-01-15 03:00:00             10.422762              0.883763   \n",
       "2016-01-15 04:00:00             10.360302              0.792826   \n",
       "\n",
       "                     final.output.tail_sol  final.output.tail_au  \\\n",
       "date                                                               \n",
       "2016-01-15 00:00:00              16.904297              2.143149   \n",
       "2016-01-15 01:00:00              16.634514              2.224930   \n",
       "2016-01-15 02:00:00              16.208849              2.257889   \n",
       "2016-01-15 03:00:00              16.532835              2.146849   \n",
       "2016-01-15 04:00:00              16.525686              2.055292   \n",
       "\n",
       "                     primary_cleaner.input.sulfate  ...  \\\n",
       "date                                                ...   \n",
       "2016-01-15 00:00:00                     127.092003  ...   \n",
       "2016-01-15 01:00:00                     125.629232  ...   \n",
       "2016-01-15 02:00:00                     123.819808  ...   \n",
       "2016-01-15 03:00:00                     122.270188  ...   \n",
       "2016-01-15 04:00:00                     117.988169  ...   \n",
       "\n",
       "                     secondary_cleaner.state.floatbank4_a_air  \\\n",
       "date                                                            \n",
       "2016-01-15 00:00:00                                 14.016835   \n",
       "2016-01-15 01:00:00                                 13.992281   \n",
       "2016-01-15 02:00:00                                 14.015015   \n",
       "2016-01-15 03:00:00                                 14.036510   \n",
       "2016-01-15 04:00:00                                 14.027298   \n",
       "\n",
       "                     secondary_cleaner.state.floatbank4_a_level  \\\n",
       "date                                                              \n",
       "2016-01-15 00:00:00                                 -502.488007   \n",
       "2016-01-15 01:00:00                                 -505.503262   \n",
       "2016-01-15 02:00:00                                 -502.520901   \n",
       "2016-01-15 03:00:00                                 -500.857308   \n",
       "2016-01-15 04:00:00                                 -499.838632   \n",
       "\n",
       "                     secondary_cleaner.state.floatbank4_b_air  \\\n",
       "date                                                            \n",
       "2016-01-15 00:00:00                                 12.099931   \n",
       "2016-01-15 01:00:00                                 11.950531   \n",
       "2016-01-15 02:00:00                                 11.912783   \n",
       "2016-01-15 03:00:00                                 11.999550   \n",
       "2016-01-15 04:00:00                                 11.953070   \n",
       "\n",
       "                     secondary_cleaner.state.floatbank4_b_level  \\\n",
       "date                                                              \n",
       "2016-01-15 00:00:00                                 -504.715942   \n",
       "2016-01-15 01:00:00                                 -501.331529   \n",
       "2016-01-15 02:00:00                                 -501.133383   \n",
       "2016-01-15 03:00:00                                 -501.193686   \n",
       "2016-01-15 04:00:00                                 -501.053894   \n",
       "\n",
       "                     secondary_cleaner.state.floatbank5_a_air  \\\n",
       "date                                                            \n",
       "2016-01-15 00:00:00                                  9.925633   \n",
       "2016-01-15 01:00:00                                 10.039245   \n",
       "2016-01-15 02:00:00                                 10.070913   \n",
       "2016-01-15 03:00:00                                  9.970366   \n",
       "2016-01-15 04:00:00                                  9.925709   \n",
       "\n",
       "                     secondary_cleaner.state.floatbank5_a_level  \\\n",
       "date                                                              \n",
       "2016-01-15 00:00:00                                 -498.310211   \n",
       "2016-01-15 01:00:00                                 -500.169983   \n",
       "2016-01-15 02:00:00                                 -500.129135   \n",
       "2016-01-15 03:00:00                                 -499.201640   \n",
       "2016-01-15 04:00:00                                 -501.686727   \n",
       "\n",
       "                     secondary_cleaner.state.floatbank5_b_air  \\\n",
       "date                                                            \n",
       "2016-01-15 00:00:00                                  8.079666   \n",
       "2016-01-15 01:00:00                                  7.984757   \n",
       "2016-01-15 02:00:00                                  8.013877   \n",
       "2016-01-15 03:00:00                                  7.977324   \n",
       "2016-01-15 04:00:00                                  7.894242   \n",
       "\n",
       "                     secondary_cleaner.state.floatbank5_b_level  \\\n",
       "date                                                              \n",
       "2016-01-15 00:00:00                                 -500.470978   \n",
       "2016-01-15 01:00:00                                 -500.582168   \n",
       "2016-01-15 02:00:00                                 -500.517572   \n",
       "2016-01-15 03:00:00                                 -500.255908   \n",
       "2016-01-15 04:00:00                                 -500.356035   \n",
       "\n",
       "                     secondary_cleaner.state.floatbank6_a_air  \\\n",
       "date                                                            \n",
       "2016-01-15 00:00:00                                 14.151341   \n",
       "2016-01-15 01:00:00                                 13.998353   \n",
       "2016-01-15 02:00:00                                 14.028663   \n",
       "2016-01-15 03:00:00                                 14.005551   \n",
       "2016-01-15 04:00:00                                 13.996647   \n",
       "\n",
       "                     secondary_cleaner.state.floatbank6_a_level  \n",
       "date                                                             \n",
       "2016-01-15 00:00:00                                 -605.841980  \n",
       "2016-01-15 01:00:00                                 -599.787184  \n",
       "2016-01-15 02:00:00                                 -601.427363  \n",
       "2016-01-15 03:00:00                                 -599.996129  \n",
       "2016-01-15 04:00:00                                 -601.496691  \n",
       "\n",
       "[5 rows x 86 columns]"
      ]
     },
     "execution_count": 57,
     "metadata": {},
     "output_type": "execute_result"
    }
   ],
   "source": [
    "df_full.head()"
   ]
  },
  {
   "cell_type": "code",
   "execution_count": 58,
   "metadata": {},
   "outputs": [],
   "source": [
    "#для начала подготовим тестовую выборку\n",
    "# общие признаки для двух целевых признаков\n",
    "features_test = df_test\n",
    "\n",
    "#целевые признаки возьмем из датасета full, т.к. в тестовой выборке их нет\n",
    "# целевой признак для этапа флотации\n",
    "target_rougher_test = df_full['rougher.output.recovery'][df_test.index]\n",
    "# целевой признак для финальной концентрации\n",
    "target_final_test = df_full['final.output.recovery'][df_test.index]"
   ]
  },
  {
   "cell_type": "raw",
   "metadata": {},
   "source": [
    "features_test = df_full.drop(['rougher.output.recovery',\n",
    "                             'final.output.recovery'],\n",
    "                            axis=1)\n",
    "target_test = df_full[['rougher.output.recovery',\n",
    "                      'final.output.recovery']]"
   ]
  },
  {
   "cell_type": "raw",
   "metadata": {},
   "source": [
    "target_rougher_test = target_test['rougher.output.recovery']\n",
    "target_final_test = target_test['final.output.recovery']"
   ]
  },
  {
   "cell_type": "raw",
   "metadata": {},
   "source": [
    "target_test = df_full[df_full.index.isin(df_test.index)].loc[:,['rougher.output.recovery',\n",
    "                                                          'final.output.recovery'] ]     \n",
    "target_rougher_test = target_test['rougher.output.recovery']\n",
    "target_final_test = target_test['final.output.recovery']\n",
    "features_test = df_test"
   ]
  },
  {
   "cell_type": "code",
   "execution_count": null,
   "metadata": {},
   "outputs": [],
   "source": []
  },
  {
   "cell_type": "raw",
   "metadata": {},
   "source": [
    "features_test.shape"
   ]
  },
  {
   "cell_type": "code",
   "execution_count": null,
   "metadata": {},
   "outputs": [],
   "source": []
  },
  {
   "cell_type": "code",
   "execution_count": 59,
   "metadata": {},
   "outputs": [
    {
     "data": {
      "text/plain": [
       "(5290,)"
      ]
     },
     "execution_count": 59,
     "metadata": {},
     "output_type": "execute_result"
    }
   ],
   "source": [
    "target_rougher_test.shape"
   ]
  },
  {
   "cell_type": "code",
   "execution_count": 60,
   "metadata": {},
   "outputs": [
    {
     "data": {
      "text/plain": [
       "(5290,)"
      ]
     },
     "execution_count": 60,
     "metadata": {},
     "output_type": "execute_result"
    }
   ],
   "source": [
    "target_final_test.shape"
   ]
  },
  {
   "cell_type": "code",
   "execution_count": 61,
   "metadata": {},
   "outputs": [
    {
     "name": "stdout",
     "output_type": "stream",
     "text": [
      "sMAPE случайного леса на тестовой выборке: 10.367271089922271\n"
     ]
    }
   ],
   "source": [
    "forest_model_rougher = RandomForestRegressor(random_state=12345, n_estimators=6, max_depth=5)\n",
    "forest_model_rougher.fit(features_train, target_rougher_train)\n",
    "forest_model_rougher_prediction = forest_model_rougher.predict(features_test)\n",
    "#smape_forest_model_rougher = cross_val_score(forest_model_rougher, features_test, target_rougher_test, cv=5, scoring=smape_score).mean()\n",
    "#\n",
    "smape_forest_model_rougher = smape(target_rougher_test, forest_model_rougher_prediction)\n",
    "print('sMAPE случайного леса на тестовой выборке:', smape_forest_model_rougher)"
   ]
  },
  {
   "cell_type": "code",
   "execution_count": 62,
   "metadata": {},
   "outputs": [
    {
     "name": "stdout",
     "output_type": "stream",
     "text": [
      "sMAPE случайного леса на тестовой выборке: 9.849680670080513\n"
     ]
    }
   ],
   "source": [
    "forest_model_final = RandomForestRegressor(random_state=12345, n_estimators=7, max_depth=5)\n",
    "forest_model_final.fit(features_train, target_final_train)\n",
    "#smape_forest_model_final = cross_val_score(forest_model_final, features_test, target_final_test, cv=5, scoring=smape_score).mean()\n",
    "\n",
    "forest_model_final_prediction = forest_model_final.predict(features_test)\n",
    "smape_forest_model_final = smape(target_final_test, forest_model_final_prediction)\n",
    "print('sMAPE случайного леса на тестовой выборке:', smape_forest_model_final)"
   ]
  },
  {
   "cell_type": "code",
   "execution_count": 63,
   "metadata": {},
   "outputs": [
    {
     "name": "stdout",
     "output_type": "stream",
     "text": [
      "Итоговое sMAPE случайного леса на тестовой выборке: 9.979078275040953\n"
     ]
    }
   ],
   "source": [
    "forest_total_test_smape = total_smape(smape_forest_model_rougher, smape_forest_model_final)\n",
    "print('Итоговое sMAPE случайного леса на тестовой выборке:', forest_total_test_smape)"
   ]
  },
  {
   "cell_type": "markdown",
   "metadata": {},
   "source": [
    "Итоговое sMAPE случайного леса на тестовой выборке: 9.979078275040953"
   ]
  },
  {
   "cell_type": "code",
   "execution_count": 69,
   "metadata": {},
   "outputs": [],
   "source": [
    "#DummyRegressor\n",
    "dummy_rougher = DummyRegressor(strategy='mean')\n",
    "dummy_rougher.fit(features_train, target_rougher_train)\n",
    "dummy_rougher_predict = dummy_rougher.predict(features_test)\n",
    "\n",
    "dummy_final = DummyRegressor(strategy='mean')\n",
    "dummy_final.fit(features_train, target_final_train)\n",
    "dummy_final_predict = dummy_rougher.predict(features_test)"
   ]
  },
  {
   "cell_type": "code",
   "execution_count": 70,
   "metadata": {},
   "outputs": [
    {
     "name": "stdout",
     "output_type": "stream",
     "text": [
      "Итоговый sMAPE DummyRegressor: 17.854900797328266\n"
     ]
    }
   ],
   "source": [
    "#sMAPE\n",
    "smape_dummy_rougher_test = smape(target_rougher_test, dummy_rougher_predict)\n",
    "smape_dummy_final_test = smape(target_final_test, dummy_final_predict)\n",
    "dummy_total_test_smape = total_smape(smape_dummy_rougher_test, smape_dummy_final_test)\n",
    "print('Итоговый sMAPE DummyRegressor:', dummy_total_test_smape)"
   ]
  },
  {
   "cell_type": "code",
   "execution_count": 73,
   "metadata": {},
   "outputs": [
    {
     "name": "stdout",
     "output_type": "stream",
     "text": [
      "<class 'pandas.core.frame.DataFrame'>\n",
      "DatetimeIndex: 5290 entries, 2016-09-01 00:59:59 to 2017-12-31 23:59:59\n",
      "Data columns (total 52 columns):\n",
      " #   Column                                      Non-Null Count  Dtype  \n",
      "---  ------                                      --------------  -----  \n",
      " 0   primary_cleaner.input.sulfate               5290 non-null   float64\n",
      " 1   primary_cleaner.input.depressant            5290 non-null   float64\n",
      " 2   primary_cleaner.input.feed_size             5290 non-null   float64\n",
      " 3   primary_cleaner.input.xanthate              5290 non-null   float64\n",
      " 4   primary_cleaner.state.floatbank8_a_air      5290 non-null   float64\n",
      " 5   primary_cleaner.state.floatbank8_a_level    5290 non-null   float64\n",
      " 6   primary_cleaner.state.floatbank8_b_air      5290 non-null   float64\n",
      " 7   primary_cleaner.state.floatbank8_b_level    5290 non-null   float64\n",
      " 8   primary_cleaner.state.floatbank8_c_air      5290 non-null   float64\n",
      " 9   primary_cleaner.state.floatbank8_c_level    5290 non-null   float64\n",
      " 10  primary_cleaner.state.floatbank8_d_air      5290 non-null   float64\n",
      " 11  primary_cleaner.state.floatbank8_d_level    5290 non-null   float64\n",
      " 12  rougher.input.feed_ag                       5290 non-null   float64\n",
      " 13  rougher.input.feed_pb                       5290 non-null   float64\n",
      " 14  rougher.input.feed_rate                     5290 non-null   float64\n",
      " 15  rougher.input.feed_size                     5290 non-null   float64\n",
      " 16  rougher.input.feed_sol                      5290 non-null   float64\n",
      " 17  rougher.input.feed_au                       5290 non-null   float64\n",
      " 18  rougher.input.floatbank10_sulfate           5290 non-null   float64\n",
      " 19  rougher.input.floatbank10_xanthate          5290 non-null   float64\n",
      " 20  rougher.input.floatbank11_sulfate           5290 non-null   float64\n",
      " 21  rougher.input.floatbank11_xanthate          5290 non-null   float64\n",
      " 22  rougher.state.floatbank10_a_air             5290 non-null   float64\n",
      " 23  rougher.state.floatbank10_a_level           5290 non-null   float64\n",
      " 24  rougher.state.floatbank10_b_air             5290 non-null   float64\n",
      " 25  rougher.state.floatbank10_b_level           5290 non-null   float64\n",
      " 26  rougher.state.floatbank10_c_air             5290 non-null   float64\n",
      " 27  rougher.state.floatbank10_c_level           5290 non-null   float64\n",
      " 28  rougher.state.floatbank10_d_air             5290 non-null   float64\n",
      " 29  rougher.state.floatbank10_d_level           5290 non-null   float64\n",
      " 30  rougher.state.floatbank10_e_air             5290 non-null   float64\n",
      " 31  rougher.state.floatbank10_e_level           5290 non-null   float64\n",
      " 32  rougher.state.floatbank10_f_air             5290 non-null   float64\n",
      " 33  rougher.state.floatbank10_f_level           5290 non-null   float64\n",
      " 34  secondary_cleaner.state.floatbank2_a_air    5290 non-null   float64\n",
      " 35  secondary_cleaner.state.floatbank2_a_level  5290 non-null   float64\n",
      " 36  secondary_cleaner.state.floatbank2_b_air    5290 non-null   float64\n",
      " 37  secondary_cleaner.state.floatbank2_b_level  5290 non-null   float64\n",
      " 38  secondary_cleaner.state.floatbank3_a_air    5290 non-null   float64\n",
      " 39  secondary_cleaner.state.floatbank3_a_level  5290 non-null   float64\n",
      " 40  secondary_cleaner.state.floatbank3_b_air    5290 non-null   float64\n",
      " 41  secondary_cleaner.state.floatbank3_b_level  5290 non-null   float64\n",
      " 42  secondary_cleaner.state.floatbank4_a_air    5290 non-null   float64\n",
      " 43  secondary_cleaner.state.floatbank4_a_level  5290 non-null   float64\n",
      " 44  secondary_cleaner.state.floatbank4_b_air    5290 non-null   float64\n",
      " 45  secondary_cleaner.state.floatbank4_b_level  5290 non-null   float64\n",
      " 46  secondary_cleaner.state.floatbank5_a_air    5290 non-null   float64\n",
      " 47  secondary_cleaner.state.floatbank5_a_level  5290 non-null   float64\n",
      " 48  secondary_cleaner.state.floatbank5_b_air    5290 non-null   float64\n",
      " 49  secondary_cleaner.state.floatbank5_b_level  5290 non-null   float64\n",
      " 50  secondary_cleaner.state.floatbank6_a_air    5290 non-null   float64\n",
      " 51  secondary_cleaner.state.floatbank6_a_level  5290 non-null   float64\n",
      "dtypes: float64(52)\n",
      "memory usage: 2.1 MB\n"
     ]
    }
   ],
   "source": [
    "df_test.info()"
   ]
  },
  {
   "cell_type": "markdown",
   "metadata": {},
   "source": [
    "### Вывод:\n",
    "- Было получсено 3 модели: дерево решений, случайный лес, линейная регрессия\n",
    "- Результаты sMAPE по моделям:\n",
    "1. Дерево решений - 10.99\n",
    "2. Случайный лес - 9.84\n",
    "3. Линейная регрессия - 12.38\n",
    "- Итоговое sMAPE случайного леса на тестовой выборке: 9.979078275040953\n",
    "- Итоговый sMAPE DummyRegressor: 17.854900797328266, наша модель работает адекватно"
   ]
  },
  {
   "cell_type": "markdown",
   "metadata": {},
   "source": [
    "## Вывод:\n",
    "- В обучающей выборке 14 149 строк и 87 стольбцов, в некоторых столбцах имеются пропуски, дубликаты отсутствуют. Все столбцы кроме date формата float64\n",
    "- В тестовой выборке 5 290 строк и 53 столбца. Имеются пропуски, Все столбцы кроме date формата float64. Некоторые параметры недоступны, потому что замеряются и/или рассчитываются значительно позже. Из-за этого в тестовой выборке отсутствуют некоторые признаки, которые могут быть в обучающей. Также в тестовом наборе нет целевых признаков.\n",
    "- MAE составляет 9,73, является хорошим результатом. эффективность обогащения рассчитана корректно\n",
    "- В тестовой выборке отсутствуют выходные параметры продукта 'output': концентрация металлов 'concentrate' и отвальные хвосты 'tail' для металлов (Au, Ag, Pb) и солей (Sol), расчётные признаки на этапе флотации - 'calculation'.\n",
    "- Данные колонки необходимо удалить из тренировочного датасета,так как появляются во время или после измерения целевых признаков, за исключением столбцов 'final.output.recovery' и 'rougher.output.recovery', т.к. они являются целевыми признаками.\n",
    "- столбцы с датами переведены в формат datetime и датасеты проиндексированы по дате\n",
    "- пропуски из датасета заменены на данные из соседних колоноке\n",
    "\n",
    "- Концентрация золота и свинца после очистки уменьшается, при этом концентррация серебра после очистки увеличивается\n",
    "- Распределение сырья на обучающей и тестовой выборпках не сильно отличаются, модель должна работать правильно\n",
    "- На первых трех этапах концентрация практически не меняется, а на финальном этапе увеличивается почти в 2 раза\n",
    "\n",
    "- Было получсено 3 модели: дерево решений, случайный лес, линейная регрессия\n",
    "- Результаты sMAPE по моделям:\n",
    "1. Дерево решений - 10.99\n",
    "2. Случайный лес - 9.84\n",
    "3. Линейная регрессия - 12.38\n",
    "- Итоговое sMAPE случайного леса на тестовой выборке: 9.979078275040953\n",
    "- Итоговый sMAPE DummyRegressor: 17.854900797328266, наша модель работает адекватно"
   ]
  }
 ],
 "metadata": {
  "ExecuteTimeLog": [
   {
    "duration": 2176,
    "start_time": "2022-05-01T09:36:15.872Z"
   },
   {
    "duration": 972,
    "start_time": "2022-05-01T09:36:29.425Z"
   },
   {
    "duration": 29,
    "start_time": "2022-05-01T09:36:38.812Z"
   },
   {
    "duration": 19,
    "start_time": "2022-05-01T09:37:26.093Z"
   },
   {
    "duration": 132,
    "start_time": "2022-05-01T09:37:58.754Z"
   },
   {
    "duration": 3,
    "start_time": "2022-05-01T09:38:06.911Z"
   },
   {
    "duration": 170,
    "start_time": "2022-05-01T09:38:09.705Z"
   },
   {
    "duration": 27,
    "start_time": "2022-05-01T09:38:37.613Z"
   },
   {
    "duration": 15,
    "start_time": "2022-05-01T09:38:46.473Z"
   },
   {
    "duration": 130,
    "start_time": "2022-05-01T09:38:54.163Z"
   },
   {
    "duration": 23,
    "start_time": "2022-05-01T09:39:20.598Z"
   },
   {
    "duration": 118,
    "start_time": "2022-05-01T09:40:05.458Z"
   },
   {
    "duration": 21,
    "start_time": "2022-05-01T09:40:11.650Z"
   },
   {
    "duration": 27,
    "start_time": "2022-05-01T09:40:21.932Z"
   },
   {
    "duration": 34,
    "start_time": "2022-05-01T09:41:03.917Z"
   },
   {
    "duration": 109,
    "start_time": "2022-05-01T09:41:16.161Z"
   },
   {
    "duration": 1637,
    "start_time": "2022-05-02T11:24:12.928Z"
   },
   {
    "duration": 650,
    "start_time": "2022-05-02T11:24:14.567Z"
   },
   {
    "duration": 25,
    "start_time": "2022-05-02T11:24:15.218Z"
   },
   {
    "duration": 33,
    "start_time": "2022-05-02T11:24:15.246Z"
   },
   {
    "duration": 133,
    "start_time": "2022-05-02T11:24:15.281Z"
   },
   {
    "duration": 23,
    "start_time": "2022-05-02T11:24:15.416Z"
   },
   {
    "duration": 32,
    "start_time": "2022-05-02T11:24:15.441Z"
   },
   {
    "duration": 23,
    "start_time": "2022-05-02T11:24:15.475Z"
   },
   {
    "duration": 23,
    "start_time": "2022-05-02T11:24:15.500Z"
   },
   {
    "duration": 51,
    "start_time": "2022-05-02T11:24:15.526Z"
   },
   {
    "duration": 115,
    "start_time": "2022-05-02T11:24:15.579Z"
   },
   {
    "duration": 3,
    "start_time": "2022-05-02T11:24:15.696Z"
   },
   {
    "duration": 9,
    "start_time": "2022-05-02T11:24:22.809Z"
   },
   {
    "duration": 4,
    "start_time": "2022-05-02T11:24:35.948Z"
   },
   {
    "duration": 8,
    "start_time": "2022-05-02T11:27:57.405Z"
   },
   {
    "duration": 8,
    "start_time": "2022-05-02T11:28:46.017Z"
   },
   {
    "duration": 2,
    "start_time": "2022-05-02T11:34:39.556Z"
   },
   {
    "duration": 4,
    "start_time": "2022-05-02T11:34:53.849Z"
   },
   {
    "duration": 104,
    "start_time": "2022-05-02T11:35:08.816Z"
   },
   {
    "duration": 4,
    "start_time": "2022-05-02T11:35:49.482Z"
   },
   {
    "duration": 7,
    "start_time": "2022-05-02T11:35:50.675Z"
   },
   {
    "duration": 4,
    "start_time": "2022-05-02T11:36:03.436Z"
   },
   {
    "duration": 13,
    "start_time": "2022-05-02T11:36:44.530Z"
   },
   {
    "duration": 14,
    "start_time": "2022-05-02T11:37:07.875Z"
   },
   {
    "duration": 25,
    "start_time": "2022-05-02T11:37:50.048Z"
   },
   {
    "duration": 1682,
    "start_time": "2022-05-02T16:39:31.400Z"
   },
   {
    "duration": 686,
    "start_time": "2022-05-02T16:39:33.089Z"
   },
   {
    "duration": 29,
    "start_time": "2022-05-02T16:39:33.778Z"
   },
   {
    "duration": 17,
    "start_time": "2022-05-02T16:39:33.809Z"
   },
   {
    "duration": 143,
    "start_time": "2022-05-02T16:39:33.828Z"
   },
   {
    "duration": 33,
    "start_time": "2022-05-02T16:39:33.973Z"
   },
   {
    "duration": 15,
    "start_time": "2022-05-02T16:39:34.009Z"
   },
   {
    "duration": 20,
    "start_time": "2022-05-02T16:39:34.026Z"
   },
   {
    "duration": 26,
    "start_time": "2022-05-02T16:39:34.075Z"
   },
   {
    "duration": 17,
    "start_time": "2022-05-02T16:39:34.104Z"
   },
   {
    "duration": 125,
    "start_time": "2022-05-02T16:39:34.122Z"
   },
   {
    "duration": 2,
    "start_time": "2022-05-02T16:39:34.249Z"
   },
   {
    "duration": 20,
    "start_time": "2022-05-02T16:39:34.253Z"
   },
   {
    "duration": 4,
    "start_time": "2022-05-02T16:39:34.276Z"
   },
   {
    "duration": 19,
    "start_time": "2022-05-02T16:39:34.282Z"
   },
   {
    "duration": 3,
    "start_time": "2022-05-02T16:39:34.303Z"
   },
   {
    "duration": 85,
    "start_time": "2022-05-02T16:39:34.307Z"
   },
   {
    "duration": 3,
    "start_time": "2022-05-02T16:39:34.394Z"
   },
   {
    "duration": 16,
    "start_time": "2022-05-02T16:39:34.399Z"
   },
   {
    "duration": 18,
    "start_time": "2022-05-02T16:39:34.416Z"
   },
   {
    "duration": 20,
    "start_time": "2022-05-02T16:39:34.435Z"
   },
   {
    "duration": 106,
    "start_time": "2022-05-04T20:16:50.704Z"
   },
   {
    "duration": 2416,
    "start_time": "2022-05-04T20:16:57.893Z"
   },
   {
    "duration": 845,
    "start_time": "2022-05-04T20:17:00.315Z"
   },
   {
    "duration": 46,
    "start_time": "2022-05-04T20:17:01.163Z"
   },
   {
    "duration": 27,
    "start_time": "2022-05-04T20:17:01.212Z"
   },
   {
    "duration": 266,
    "start_time": "2022-05-04T20:17:01.244Z"
   },
   {
    "duration": 32,
    "start_time": "2022-05-04T20:17:01.513Z"
   },
   {
    "duration": 43,
    "start_time": "2022-05-04T20:17:01.548Z"
   },
   {
    "duration": 37,
    "start_time": "2022-05-04T20:17:01.593Z"
   },
   {
    "duration": 57,
    "start_time": "2022-05-04T20:17:01.633Z"
   },
   {
    "duration": 33,
    "start_time": "2022-05-04T20:17:01.693Z"
   },
   {
    "duration": 277,
    "start_time": "2022-05-04T20:17:01.728Z"
   },
   {
    "duration": 5,
    "start_time": "2022-05-04T20:17:02.008Z"
   },
   {
    "duration": 32,
    "start_time": "2022-05-04T20:17:02.015Z"
   },
   {
    "duration": 11,
    "start_time": "2022-05-04T20:17:02.052Z"
   },
   {
    "duration": 31,
    "start_time": "2022-05-04T20:17:02.066Z"
   },
   {
    "duration": 9,
    "start_time": "2022-05-04T20:17:02.100Z"
   },
   {
    "duration": 128,
    "start_time": "2022-05-04T20:17:02.112Z"
   },
   {
    "duration": 7,
    "start_time": "2022-05-04T20:17:02.242Z"
   },
   {
    "duration": 35,
    "start_time": "2022-05-04T20:17:02.252Z"
   },
   {
    "duration": 25,
    "start_time": "2022-05-04T20:17:02.289Z"
   },
   {
    "duration": 20,
    "start_time": "2022-05-04T20:17:02.316Z"
   },
   {
    "duration": 11,
    "start_time": "2022-05-04T20:17:02.339Z"
   },
   {
    "duration": 1963,
    "start_time": "2022-05-04T20:17:06.296Z"
   },
   {
    "duration": 198,
    "start_time": "2022-05-04T20:17:32.643Z"
   },
   {
    "duration": 2186,
    "start_time": "2022-05-04T20:17:40.355Z"
   },
   {
    "duration": 2147,
    "start_time": "2022-05-04T20:21:00.803Z"
   },
   {
    "duration": 1982,
    "start_time": "2022-05-04T20:22:22.360Z"
   },
   {
    "duration": 1933,
    "start_time": "2022-05-04T20:22:25.916Z"
   },
   {
    "duration": 1576,
    "start_time": "2022-05-04T20:23:01.526Z"
   },
   {
    "duration": 983,
    "start_time": "2022-05-04T20:26:43.255Z"
   },
   {
    "duration": 957,
    "start_time": "2022-05-04T20:27:05.450Z"
   },
   {
    "duration": 879,
    "start_time": "2022-05-04T20:27:23.030Z"
   },
   {
    "duration": 6,
    "start_time": "2022-05-04T20:30:16.977Z"
   },
   {
    "duration": 6,
    "start_time": "2022-05-04T20:30:21.940Z"
   },
   {
    "duration": 7,
    "start_time": "2022-05-04T20:30:26.670Z"
   },
   {
    "duration": 7,
    "start_time": "2022-05-04T20:30:32.333Z"
   },
   {
    "duration": 8,
    "start_time": "2022-05-04T20:32:36.748Z"
   },
   {
    "duration": 7,
    "start_time": "2022-05-04T20:32:37.620Z"
   },
   {
    "duration": 6,
    "start_time": "2022-05-04T20:32:38.157Z"
   },
   {
    "duration": 6,
    "start_time": "2022-05-04T20:32:38.730Z"
   },
   {
    "duration": 2256,
    "start_time": "2022-05-04T20:34:07.656Z"
   },
   {
    "duration": 2199,
    "start_time": "2022-05-04T20:34:53.373Z"
   },
   {
    "duration": 2243,
    "start_time": "2022-05-04T20:35:25.023Z"
   },
   {
    "duration": 2099,
    "start_time": "2022-05-04T20:35:31.780Z"
   },
   {
    "duration": 2960,
    "start_time": "2022-05-04T20:35:37.150Z"
   },
   {
    "duration": 1098,
    "start_time": "2022-05-04T20:35:46.764Z"
   },
   {
    "duration": 2718,
    "start_time": "2022-05-04T20:36:51.436Z"
   },
   {
    "duration": 5,
    "start_time": "2022-05-04T20:48:24.084Z"
   },
   {
    "duration": 3,
    "start_time": "2022-05-04T20:48:50.026Z"
   },
   {
    "duration": 7,
    "start_time": "2022-05-04T20:49:28.392Z"
   },
   {
    "duration": 8,
    "start_time": "2022-05-04T20:50:25.456Z"
   },
   {
    "duration": 8,
    "start_time": "2022-05-04T20:51:03.917Z"
   },
   {
    "duration": 2144,
    "start_time": "2022-05-05T12:45:25.775Z"
   },
   {
    "duration": 982,
    "start_time": "2022-05-05T12:45:27.922Z"
   },
   {
    "duration": 35,
    "start_time": "2022-05-05T12:45:28.907Z"
   },
   {
    "duration": 26,
    "start_time": "2022-05-05T12:45:28.944Z"
   },
   {
    "duration": 200,
    "start_time": "2022-05-05T12:45:28.973Z"
   },
   {
    "duration": 33,
    "start_time": "2022-05-05T12:45:29.175Z"
   },
   {
    "duration": 15,
    "start_time": "2022-05-05T12:45:29.210Z"
   },
   {
    "duration": 22,
    "start_time": "2022-05-05T12:45:29.227Z"
   },
   {
    "duration": 50,
    "start_time": "2022-05-05T12:45:29.250Z"
   },
   {
    "duration": 16,
    "start_time": "2022-05-05T12:45:29.302Z"
   },
   {
    "duration": 117,
    "start_time": "2022-05-05T12:45:29.319Z"
   },
   {
    "duration": 3,
    "start_time": "2022-05-05T12:45:29.438Z"
   },
   {
    "duration": 14,
    "start_time": "2022-05-05T12:45:29.442Z"
   },
   {
    "duration": 7,
    "start_time": "2022-05-05T12:45:29.460Z"
   },
   {
    "duration": 12,
    "start_time": "2022-05-05T12:45:29.469Z"
   },
   {
    "duration": 20,
    "start_time": "2022-05-05T12:45:29.483Z"
   },
   {
    "duration": 113,
    "start_time": "2022-05-05T12:45:29.505Z"
   },
   {
    "duration": 5,
    "start_time": "2022-05-05T12:45:29.620Z"
   },
   {
    "duration": 20,
    "start_time": "2022-05-05T12:45:29.626Z"
   },
   {
    "duration": 12,
    "start_time": "2022-05-05T12:45:29.648Z"
   },
   {
    "duration": 42,
    "start_time": "2022-05-05T12:45:29.662Z"
   },
   {
    "duration": 8,
    "start_time": "2022-05-05T12:45:29.706Z"
   },
   {
    "duration": 1755,
    "start_time": "2022-05-05T12:45:29.716Z"
   },
   {
    "duration": 1535,
    "start_time": "2022-05-05T12:45:31.474Z"
   },
   {
    "duration": 1526,
    "start_time": "2022-05-05T12:45:33.011Z"
   },
   {
    "duration": 621,
    "start_time": "2022-05-05T12:45:34.539Z"
   },
   {
    "duration": 5,
    "start_time": "2022-05-05T12:45:35.162Z"
   },
   {
    "duration": 10,
    "start_time": "2022-05-05T12:45:35.169Z"
   },
   {
    "duration": 6,
    "start_time": "2022-05-05T12:45:35.181Z"
   },
   {
    "duration": 5,
    "start_time": "2022-05-05T12:45:35.199Z"
   },
   {
    "duration": 1455,
    "start_time": "2022-05-05T12:45:35.206Z"
   },
   {
    "duration": 4,
    "start_time": "2022-05-05T12:45:36.663Z"
   },
   {
    "duration": 9,
    "start_time": "2022-05-05T12:45:36.669Z"
   },
   {
    "duration": 5,
    "start_time": "2022-05-05T12:45:36.680Z"
   },
   {
    "duration": 21,
    "start_time": "2022-05-05T12:45:36.687Z"
   },
   {
    "duration": 7,
    "start_time": "2022-05-05T12:45:56.365Z"
   },
   {
    "duration": 5,
    "start_time": "2022-05-05T12:46:59.359Z"
   },
   {
    "duration": 4,
    "start_time": "2022-05-05T12:47:32.046Z"
   },
   {
    "duration": 4,
    "start_time": "2022-05-05T12:47:56.351Z"
   },
   {
    "duration": 15533,
    "start_time": "2022-05-05T12:47:56.356Z"
   },
   {
    "duration": 19572,
    "start_time": "2022-05-05T12:48:13.482Z"
   },
   {
    "duration": 5,
    "start_time": "2022-05-05T12:48:33.056Z"
   },
   {
    "duration": 15997,
    "start_time": "2022-05-05T12:49:45.631Z"
   },
   {
    "duration": 16114,
    "start_time": "2022-05-05T12:50:01.631Z"
   },
   {
    "duration": 3,
    "start_time": "2022-05-05T13:34:19.215Z"
   },
   {
    "duration": 4,
    "start_time": "2022-05-05T14:25:46.725Z"
   },
   {
    "duration": 14,
    "start_time": "2022-05-05T14:40:25.019Z"
   },
   {
    "duration": 649,
    "start_time": "2022-05-05T14:40:28.545Z"
   },
   {
    "duration": 18,
    "start_time": "2022-05-05T14:40:31.919Z"
   },
   {
    "duration": 13,
    "start_time": "2022-05-05T14:40:31.967Z"
   },
   {
    "duration": 130,
    "start_time": "2022-05-05T14:40:35.228Z"
   },
   {
    "duration": 30,
    "start_time": "2022-05-05T14:40:35.387Z"
   },
   {
    "duration": 13,
    "start_time": "2022-05-05T14:40:36.186Z"
   },
   {
    "duration": 20,
    "start_time": "2022-05-05T14:40:36.246Z"
   },
   {
    "duration": 33,
    "start_time": "2022-05-05T14:40:36.336Z"
   },
   {
    "duration": 13,
    "start_time": "2022-05-05T14:40:36.534Z"
   },
   {
    "duration": 99,
    "start_time": "2022-05-05T14:40:36.765Z"
   },
   {
    "duration": 18,
    "start_time": "2022-05-05T14:40:36.882Z"
   },
   {
    "duration": 6,
    "start_time": "2022-05-05T14:40:36.948Z"
   },
   {
    "duration": 24,
    "start_time": "2022-05-05T14:40:36.992Z"
   },
   {
    "duration": 10,
    "start_time": "2022-05-05T14:40:37.053Z"
   },
   {
    "duration": 8,
    "start_time": "2022-05-05T14:40:37.179Z"
   },
   {
    "duration": 3,
    "start_time": "2022-05-05T14:40:37.293Z"
   },
   {
    "duration": 0,
    "start_time": "2022-05-05T14:40:42.608Z"
   },
   {
    "duration": 0,
    "start_time": "2022-05-05T14:40:42.617Z"
   },
   {
    "duration": 0,
    "start_time": "2022-05-05T14:40:42.621Z"
   },
   {
    "duration": 0,
    "start_time": "2022-05-05T14:40:42.625Z"
   },
   {
    "duration": 0,
    "start_time": "2022-05-05T14:40:42.628Z"
   },
   {
    "duration": 0,
    "start_time": "2022-05-05T14:40:42.632Z"
   },
   {
    "duration": 0,
    "start_time": "2022-05-05T14:40:42.636Z"
   },
   {
    "duration": 0,
    "start_time": "2022-05-05T14:40:42.640Z"
   },
   {
    "duration": 0,
    "start_time": "2022-05-05T14:40:42.643Z"
   },
   {
    "duration": 0,
    "start_time": "2022-05-05T14:40:42.647Z"
   },
   {
    "duration": 0,
    "start_time": "2022-05-05T14:40:42.651Z"
   },
   {
    "duration": 0,
    "start_time": "2022-05-05T14:40:42.700Z"
   },
   {
    "duration": 0,
    "start_time": "2022-05-05T14:40:42.706Z"
   },
   {
    "duration": 0,
    "start_time": "2022-05-05T14:40:42.708Z"
   },
   {
    "duration": 0,
    "start_time": "2022-05-05T14:40:42.711Z"
   },
   {
    "duration": 0,
    "start_time": "2022-05-05T14:40:42.716Z"
   },
   {
    "duration": 0,
    "start_time": "2022-05-05T14:40:42.719Z"
   },
   {
    "duration": 0,
    "start_time": "2022-05-05T14:40:42.726Z"
   },
   {
    "duration": 0,
    "start_time": "2022-05-05T14:40:42.728Z"
   },
   {
    "duration": 0,
    "start_time": "2022-05-05T14:40:42.731Z"
   },
   {
    "duration": 0,
    "start_time": "2022-05-05T14:40:42.734Z"
   },
   {
    "duration": 0,
    "start_time": "2022-05-05T14:40:42.737Z"
   },
   {
    "duration": 0,
    "start_time": "2022-05-05T14:40:42.739Z"
   },
   {
    "duration": 0,
    "start_time": "2022-05-05T14:40:42.742Z"
   },
   {
    "duration": 0,
    "start_time": "2022-05-05T14:40:42.800Z"
   },
   {
    "duration": 0,
    "start_time": "2022-05-05T14:40:42.804Z"
   },
   {
    "duration": 0,
    "start_time": "2022-05-05T14:40:42.809Z"
   },
   {
    "duration": 0,
    "start_time": "2022-05-05T14:40:42.814Z"
   },
   {
    "duration": 0,
    "start_time": "2022-05-05T14:40:42.820Z"
   },
   {
    "duration": 0,
    "start_time": "2022-05-05T14:40:42.823Z"
   },
   {
    "duration": 6,
    "start_time": "2022-05-05T15:19:57.822Z"
   },
   {
    "duration": 2045,
    "start_time": "2022-05-05T15:19:58.775Z"
   },
   {
    "duration": 1899,
    "start_time": "2022-05-05T15:20:00.823Z"
   },
   {
    "duration": 3,
    "start_time": "2022-05-05T15:20:02.726Z"
   },
   {
    "duration": 4,
    "start_time": "2022-05-05T15:39:39.994Z"
   },
   {
    "duration": 628,
    "start_time": "2022-05-05T15:39:40.000Z"
   },
   {
    "duration": 19,
    "start_time": "2022-05-05T15:39:40.630Z"
   },
   {
    "duration": 18,
    "start_time": "2022-05-05T15:39:40.650Z"
   },
   {
    "duration": 124,
    "start_time": "2022-05-05T15:39:40.669Z"
   },
   {
    "duration": 21,
    "start_time": "2022-05-05T15:39:40.799Z"
   },
   {
    "duration": 19,
    "start_time": "2022-05-05T15:39:40.822Z"
   },
   {
    "duration": 28,
    "start_time": "2022-05-05T15:39:40.843Z"
   },
   {
    "duration": 48,
    "start_time": "2022-05-05T15:39:40.874Z"
   },
   {
    "duration": 23,
    "start_time": "2022-05-05T15:39:40.923Z"
   },
   {
    "duration": 87,
    "start_time": "2022-05-05T15:39:40.947Z"
   },
   {
    "duration": 2,
    "start_time": "2022-05-05T15:39:41.036Z"
   },
   {
    "duration": 8,
    "start_time": "2022-05-05T15:39:41.039Z"
   },
   {
    "duration": 5,
    "start_time": "2022-05-05T15:39:41.048Z"
   },
   {
    "duration": 8,
    "start_time": "2022-05-05T15:39:41.055Z"
   },
   {
    "duration": 4,
    "start_time": "2022-05-05T15:39:41.065Z"
   },
   {
    "duration": 79,
    "start_time": "2022-05-05T15:39:41.070Z"
   },
   {
    "duration": 4,
    "start_time": "2022-05-05T15:39:41.151Z"
   },
   {
    "duration": 13,
    "start_time": "2022-05-05T15:39:41.156Z"
   },
   {
    "duration": 8,
    "start_time": "2022-05-05T15:39:41.170Z"
   },
   {
    "duration": 39,
    "start_time": "2022-05-05T15:39:41.179Z"
   },
   {
    "duration": 5,
    "start_time": "2022-05-05T15:39:41.221Z"
   },
   {
    "duration": 1326,
    "start_time": "2022-05-05T15:39:41.228Z"
   },
   {
    "duration": 1280,
    "start_time": "2022-05-05T15:39:42.557Z"
   },
   {
    "duration": 1195,
    "start_time": "2022-05-05T15:39:43.839Z"
   },
   {
    "duration": 618,
    "start_time": "2022-05-05T15:39:45.036Z"
   },
   {
    "duration": 4,
    "start_time": "2022-05-05T15:39:45.656Z"
   },
   {
    "duration": 12,
    "start_time": "2022-05-05T15:39:45.661Z"
   },
   {
    "duration": 7,
    "start_time": "2022-05-05T15:39:45.675Z"
   },
   {
    "duration": 7,
    "start_time": "2022-05-05T15:39:45.683Z"
   },
   {
    "duration": 1671,
    "start_time": "2022-05-05T15:39:45.701Z"
   },
   {
    "duration": 3,
    "start_time": "2022-05-05T15:39:47.374Z"
   },
   {
    "duration": 17,
    "start_time": "2022-05-05T15:39:47.379Z"
   },
   {
    "duration": 23,
    "start_time": "2022-05-05T15:39:47.399Z"
   },
   {
    "duration": 10,
    "start_time": "2022-05-05T15:39:47.424Z"
   },
   {
    "duration": 19,
    "start_time": "2022-05-05T15:39:47.436Z"
   },
   {
    "duration": 16290,
    "start_time": "2022-05-05T15:39:47.456Z"
   },
   {
    "duration": 15811,
    "start_time": "2022-05-05T15:40:03.748Z"
   },
   {
    "duration": 3,
    "start_time": "2022-05-05T15:40:19.561Z"
   },
   {
    "duration": 10,
    "start_time": "2022-05-05T15:40:19.566Z"
   },
   {
    "duration": 422840,
    "start_time": "2022-05-05T15:40:19.577Z"
   },
   {
    "duration": 413574,
    "start_time": "2022-05-05T15:47:22.418Z"
   },
   {
    "duration": 7,
    "start_time": "2022-05-05T15:54:15.994Z"
   },
   {
    "duration": 21,
    "start_time": "2022-05-05T15:54:16.003Z"
   },
   {
    "duration": 1981,
    "start_time": "2022-05-05T15:54:16.025Z"
   },
   {
    "duration": 2395,
    "start_time": "2022-05-05T15:54:18.009Z"
   },
   {
    "duration": 11,
    "start_time": "2022-05-05T15:54:20.411Z"
   },
   {
    "duration": 6,
    "start_time": "2022-05-05T16:38:02.896Z"
   },
   {
    "duration": 2434,
    "start_time": "2022-05-05T16:38:41.903Z"
   },
   {
    "duration": 2202,
    "start_time": "2022-05-05T16:39:02.218Z"
   },
   {
    "duration": 2175,
    "start_time": "2022-05-05T16:39:50.952Z"
   },
   {
    "duration": 2249,
    "start_time": "2022-05-05T16:40:05.563Z"
   },
   {
    "duration": 2464,
    "start_time": "2022-05-05T16:40:33.514Z"
   },
   {
    "duration": 2543,
    "start_time": "2022-05-05T16:40:53.898Z"
   },
   {
    "duration": 3,
    "start_time": "2022-05-05T16:41:11.679Z"
   },
   {
    "duration": 1260,
    "start_time": "2022-05-05T16:43:59.141Z"
   },
   {
    "duration": 1387,
    "start_time": "2022-05-05T16:44:09.523Z"
   },
   {
    "duration": 1020,
    "start_time": "2022-05-05T16:44:11.989Z"
   },
   {
    "duration": 1217,
    "start_time": "2022-05-05T16:44:16.084Z"
   },
   {
    "duration": 4,
    "start_time": "2022-05-05T16:44:28.646Z"
   },
   {
    "duration": 2462,
    "start_time": "2022-05-06T14:09:23.004Z"
   },
   {
    "duration": 1054,
    "start_time": "2022-05-06T14:09:25.469Z"
   },
   {
    "duration": 23,
    "start_time": "2022-05-06T14:09:26.529Z"
   },
   {
    "duration": 18,
    "start_time": "2022-05-06T14:09:26.554Z"
   },
   {
    "duration": 90,
    "start_time": "2022-05-06T14:09:26.574Z"
   },
   {
    "duration": 19,
    "start_time": "2022-05-06T14:09:26.666Z"
   },
   {
    "duration": 15,
    "start_time": "2022-05-06T14:09:26.687Z"
   },
   {
    "duration": 20,
    "start_time": "2022-05-06T14:09:26.723Z"
   },
   {
    "duration": 18,
    "start_time": "2022-05-06T14:09:26.746Z"
   },
   {
    "duration": 23,
    "start_time": "2022-05-06T14:09:26.765Z"
   },
   {
    "duration": 113,
    "start_time": "2022-05-06T14:09:26.789Z"
   },
   {
    "duration": 3,
    "start_time": "2022-05-06T14:09:26.904Z"
   },
   {
    "duration": 10,
    "start_time": "2022-05-06T14:09:26.923Z"
   },
   {
    "duration": 29,
    "start_time": "2022-05-06T14:09:26.935Z"
   },
   {
    "duration": 15,
    "start_time": "2022-05-06T14:09:26.966Z"
   },
   {
    "duration": 9,
    "start_time": "2022-05-06T14:09:26.983Z"
   },
   {
    "duration": 95,
    "start_time": "2022-05-06T14:09:26.994Z"
   },
   {
    "duration": 4,
    "start_time": "2022-05-06T14:09:27.091Z"
   },
   {
    "duration": 30,
    "start_time": "2022-05-06T14:09:27.096Z"
   },
   {
    "duration": 26,
    "start_time": "2022-05-06T14:09:27.128Z"
   },
   {
    "duration": 17,
    "start_time": "2022-05-06T14:09:27.156Z"
   },
   {
    "duration": 6,
    "start_time": "2022-05-06T14:09:27.175Z"
   },
   {
    "duration": 2351,
    "start_time": "2022-05-06T14:09:27.182Z"
   },
   {
    "duration": 1542,
    "start_time": "2022-05-06T14:09:29.535Z"
   },
   {
    "duration": 1469,
    "start_time": "2022-05-06T14:09:31.079Z"
   },
   {
    "duration": 597,
    "start_time": "2022-05-06T14:09:32.549Z"
   },
   {
    "duration": 5,
    "start_time": "2022-05-06T14:09:33.149Z"
   },
   {
    "duration": 10,
    "start_time": "2022-05-06T14:09:33.155Z"
   },
   {
    "duration": 20,
    "start_time": "2022-05-06T14:09:33.166Z"
   },
   {
    "duration": 16,
    "start_time": "2022-05-06T14:09:33.188Z"
   },
   {
    "duration": 1528,
    "start_time": "2022-05-06T14:09:33.206Z"
   },
   {
    "duration": 4,
    "start_time": "2022-05-06T14:09:34.736Z"
   },
   {
    "duration": 5,
    "start_time": "2022-05-06T14:09:34.742Z"
   },
   {
    "duration": 6,
    "start_time": "2022-05-06T14:09:34.749Z"
   },
   {
    "duration": 10,
    "start_time": "2022-05-06T14:09:34.758Z"
   },
   {
    "duration": 6,
    "start_time": "2022-05-06T14:09:34.770Z"
   },
   {
    "duration": 34246,
    "start_time": "2022-05-06T14:09:34.778Z"
   },
   {
    "duration": 42914,
    "start_time": "2022-05-06T14:10:09.026Z"
   },
   {
    "duration": 4,
    "start_time": "2022-05-06T14:10:51.942Z"
   },
   {
    "duration": 8,
    "start_time": "2022-05-06T14:10:51.948Z"
   },
   {
    "duration": 976665,
    "start_time": "2022-05-06T14:10:51.958Z"
   },
   {
    "duration": 924610,
    "start_time": "2022-05-06T14:27:08.625Z"
   },
   {
    "duration": 4,
    "start_time": "2022-05-06T14:42:33.237Z"
   },
   {
    "duration": 8,
    "start_time": "2022-05-06T14:42:33.243Z"
   },
   {
    "duration": 1971,
    "start_time": "2022-05-06T14:42:33.253Z"
   },
   {
    "duration": 2006,
    "start_time": "2022-05-06T14:42:35.227Z"
   },
   {
    "duration": 4,
    "start_time": "2022-05-06T14:42:37.235Z"
   },
   {
    "duration": 98,
    "start_time": "2022-05-06T14:42:37.242Z"
   },
   {
    "duration": 6113,
    "start_time": "2022-05-06T14:42:37.342Z"
   },
   {
    "duration": 6688,
    "start_time": "2022-05-06T14:42:43.457Z"
   },
   {
    "duration": 3,
    "start_time": "2022-05-06T14:42:50.147Z"
   },
   {
    "duration": 1574,
    "start_time": "2022-05-06T14:42:50.152Z"
   },
   {
    "duration": 1294,
    "start_time": "2022-05-06T14:42:51.729Z"
   },
   {
    "duration": 1599,
    "start_time": "2022-05-06T14:42:53.025Z"
   },
   {
    "duration": 4,
    "start_time": "2022-05-06T14:42:54.626Z"
   },
   {
    "duration": 188,
    "start_time": "2022-05-06T14:42:54.635Z"
   },
   {
    "duration": 1890,
    "start_time": "2022-05-08T11:43:40.839Z"
   },
   {
    "duration": 710,
    "start_time": "2022-05-08T11:43:42.732Z"
   },
   {
    "duration": 31,
    "start_time": "2022-05-08T11:43:43.449Z"
   },
   {
    "duration": 16,
    "start_time": "2022-05-08T11:43:43.482Z"
   },
   {
    "duration": 144,
    "start_time": "2022-05-08T11:43:43.500Z"
   },
   {
    "duration": 28,
    "start_time": "2022-05-08T11:43:43.646Z"
   },
   {
    "duration": 13,
    "start_time": "2022-05-08T11:43:43.676Z"
   },
   {
    "duration": 42,
    "start_time": "2022-05-08T11:43:43.691Z"
   },
   {
    "duration": 24,
    "start_time": "2022-05-08T11:43:43.734Z"
   },
   {
    "duration": 30,
    "start_time": "2022-05-08T11:43:43.760Z"
   },
   {
    "duration": 105,
    "start_time": "2022-05-08T11:43:43.792Z"
   },
   {
    "duration": 3,
    "start_time": "2022-05-08T11:43:43.898Z"
   },
   {
    "duration": 25,
    "start_time": "2022-05-08T11:43:43.903Z"
   },
   {
    "duration": 32,
    "start_time": "2022-05-08T11:43:43.932Z"
   },
   {
    "duration": 12,
    "start_time": "2022-05-08T11:43:43.967Z"
   },
   {
    "duration": 4,
    "start_time": "2022-05-08T11:43:43.980Z"
   },
   {
    "duration": 75,
    "start_time": "2022-05-08T11:43:43.986Z"
   },
   {
    "duration": 18,
    "start_time": "2022-05-08T11:43:44.063Z"
   },
   {
    "duration": 14,
    "start_time": "2022-05-08T11:43:44.083Z"
   },
   {
    "duration": 16,
    "start_time": "2022-05-08T11:43:44.099Z"
   },
   {
    "duration": 17,
    "start_time": "2022-05-08T11:43:44.117Z"
   },
   {
    "duration": 9,
    "start_time": "2022-05-08T11:43:44.136Z"
   },
   {
    "duration": 1584,
    "start_time": "2022-05-08T11:43:44.147Z"
   },
   {
    "duration": 1476,
    "start_time": "2022-05-08T11:43:45.735Z"
   },
   {
    "duration": 1513,
    "start_time": "2022-05-08T11:43:47.213Z"
   },
   {
    "duration": 909,
    "start_time": "2022-05-08T11:43:48.728Z"
   },
   {
    "duration": 6,
    "start_time": "2022-05-08T11:43:49.643Z"
   },
   {
    "duration": 14,
    "start_time": "2022-05-08T11:43:49.659Z"
   },
   {
    "duration": 5,
    "start_time": "2022-05-08T11:43:49.675Z"
   },
   {
    "duration": 8,
    "start_time": "2022-05-08T11:43:49.682Z"
   },
   {
    "duration": 1601,
    "start_time": "2022-05-08T11:43:49.692Z"
   },
   {
    "duration": 4,
    "start_time": "2022-05-08T11:43:51.294Z"
   },
   {
    "duration": 5,
    "start_time": "2022-05-08T11:43:51.299Z"
   },
   {
    "duration": 24,
    "start_time": "2022-05-08T11:43:51.306Z"
   },
   {
    "duration": 26,
    "start_time": "2022-05-08T11:43:51.332Z"
   },
   {
    "duration": 7,
    "start_time": "2022-05-08T11:43:51.360Z"
   },
   {
    "duration": 18519,
    "start_time": "2022-05-08T11:43:51.369Z"
   },
   {
    "duration": 18748,
    "start_time": "2022-05-08T11:44:09.890Z"
   },
   {
    "duration": 6,
    "start_time": "2022-05-08T11:44:28.640Z"
   },
   {
    "duration": 30,
    "start_time": "2022-05-08T11:44:28.648Z"
   },
   {
    "duration": 491696,
    "start_time": "2022-05-08T11:44:28.683Z"
   },
   {
    "duration": 475030,
    "start_time": "2022-05-08T11:52:40.381Z"
   },
   {
    "duration": 3,
    "start_time": "2022-05-08T12:00:35.413Z"
   },
   {
    "duration": 15,
    "start_time": "2022-05-08T12:00:35.417Z"
   },
   {
    "duration": 3700,
    "start_time": "2022-05-08T12:00:35.434Z"
   },
   {
    "duration": 3733,
    "start_time": "2022-05-08T12:00:39.138Z"
   },
   {
    "duration": 4,
    "start_time": "2022-05-08T12:00:42.873Z"
   },
   {
    "duration": 60,
    "start_time": "2022-05-08T12:00:42.878Z"
   },
   {
    "duration": 2928,
    "start_time": "2022-05-08T12:00:42.944Z"
   },
   {
    "duration": 2878,
    "start_time": "2022-05-08T12:00:45.874Z"
   },
   {
    "duration": 6,
    "start_time": "2022-05-08T12:00:48.754Z"
   },
   {
    "duration": 2998,
    "start_time": "2022-05-08T12:00:48.763Z"
   },
   {
    "duration": 2547,
    "start_time": "2022-05-08T12:00:51.823Z"
   },
   {
    "duration": 2268,
    "start_time": "2022-05-08T12:00:54.372Z"
   },
   {
    "duration": 8,
    "start_time": "2022-05-08T12:00:56.642Z"
   },
   {
    "duration": 7,
    "start_time": "2022-05-08T12:17:13.963Z"
   },
   {
    "duration": 6,
    "start_time": "2022-05-08T12:17:21.547Z"
   },
   {
    "duration": 319,
    "start_time": "2022-05-08T12:17:30.916Z"
   },
   {
    "duration": 8,
    "start_time": "2022-05-08T12:19:46.768Z"
   },
   {
    "duration": 5,
    "start_time": "2022-05-08T12:19:53.163Z"
   },
   {
    "duration": 876,
    "start_time": "2022-05-08T12:19:53.170Z"
   },
   {
    "duration": 29,
    "start_time": "2022-05-08T12:19:54.048Z"
   },
   {
    "duration": 20,
    "start_time": "2022-05-08T12:19:54.079Z"
   },
   {
    "duration": 147,
    "start_time": "2022-05-08T12:19:54.102Z"
   },
   {
    "duration": 30,
    "start_time": "2022-05-08T12:19:54.250Z"
   },
   {
    "duration": 15,
    "start_time": "2022-05-08T12:19:54.282Z"
   },
   {
    "duration": 48,
    "start_time": "2022-05-08T12:19:54.299Z"
   },
   {
    "duration": 27,
    "start_time": "2022-05-08T12:19:54.351Z"
   },
   {
    "duration": 26,
    "start_time": "2022-05-08T12:19:54.380Z"
   },
   {
    "duration": 144,
    "start_time": "2022-05-08T12:19:54.428Z"
   },
   {
    "duration": 3,
    "start_time": "2022-05-08T12:19:54.574Z"
   },
   {
    "duration": 10,
    "start_time": "2022-05-08T12:19:54.579Z"
   },
   {
    "duration": 4,
    "start_time": "2022-05-08T12:19:54.591Z"
   },
   {
    "duration": 35,
    "start_time": "2022-05-08T12:19:54.597Z"
   },
   {
    "duration": 35,
    "start_time": "2022-05-08T12:19:54.641Z"
   },
   {
    "duration": 80,
    "start_time": "2022-05-08T12:19:54.678Z"
   },
   {
    "duration": 6,
    "start_time": "2022-05-08T12:19:54.761Z"
   },
   {
    "duration": 25,
    "start_time": "2022-05-08T12:19:54.773Z"
   },
   {
    "duration": 11,
    "start_time": "2022-05-08T12:19:54.800Z"
   },
   {
    "duration": 26,
    "start_time": "2022-05-08T12:19:54.813Z"
   },
   {
    "duration": 9,
    "start_time": "2022-05-08T12:19:54.841Z"
   },
   {
    "duration": 1566,
    "start_time": "2022-05-08T12:19:54.852Z"
   },
   {
    "duration": 1524,
    "start_time": "2022-05-08T12:19:56.426Z"
   },
   {
    "duration": 1568,
    "start_time": "2022-05-08T12:19:57.953Z"
   },
   {
    "duration": 617,
    "start_time": "2022-05-08T12:19:59.523Z"
   },
   {
    "duration": 6,
    "start_time": "2022-05-08T12:20:00.142Z"
   },
   {
    "duration": 19,
    "start_time": "2022-05-08T12:20:00.150Z"
   },
   {
    "duration": 19,
    "start_time": "2022-05-08T12:20:00.174Z"
   },
   {
    "duration": 20,
    "start_time": "2022-05-08T12:20:00.195Z"
   },
   {
    "duration": 2165,
    "start_time": "2022-05-08T12:20:00.217Z"
   },
   {
    "duration": 9,
    "start_time": "2022-05-08T12:20:02.384Z"
   },
   {
    "duration": 7,
    "start_time": "2022-05-08T12:20:02.395Z"
   },
   {
    "duration": 427,
    "start_time": "2022-05-08T12:20:02.404Z"
   },
   {
    "duration": 7,
    "start_time": "2022-05-08T12:20:02.833Z"
   },
   {
    "duration": 52,
    "start_time": "2022-05-08T12:20:02.843Z"
   },
   {
    "duration": 10,
    "start_time": "2022-05-08T12:20:02.897Z"
   },
   {
    "duration": 13,
    "start_time": "2022-05-08T12:20:02.909Z"
   },
   {
    "duration": 44,
    "start_time": "2022-05-08T12:20:02.926Z"
   },
   {
    "duration": 16858,
    "start_time": "2022-05-08T12:20:02.972Z"
   },
   {
    "duration": 18775,
    "start_time": "2022-05-08T12:20:19.832Z"
   },
   {
    "duration": 3,
    "start_time": "2022-05-08T12:20:38.608Z"
   },
   {
    "duration": 7,
    "start_time": "2022-05-08T12:20:38.626Z"
   },
   {
    "duration": 41,
    "start_time": "2022-05-08T12:36:31.439Z"
   },
   {
    "duration": 666,
    "start_time": "2022-05-08T12:44:41.075Z"
   },
   {
    "duration": 0,
    "start_time": "2022-05-08T12:52:16.229Z"
   },
   {
    "duration": 0,
    "start_time": "2022-05-08T12:52:16.232Z"
   },
   {
    "duration": 0,
    "start_time": "2022-05-08T12:52:16.236Z"
   },
   {
    "duration": 0,
    "start_time": "2022-05-08T12:52:16.239Z"
   },
   {
    "duration": 0,
    "start_time": "2022-05-08T12:52:16.243Z"
   },
   {
    "duration": 0,
    "start_time": "2022-05-08T12:52:16.246Z"
   },
   {
    "duration": 0,
    "start_time": "2022-05-08T12:52:16.248Z"
   },
   {
    "duration": 0,
    "start_time": "2022-05-08T12:52:16.251Z"
   },
   {
    "duration": 0,
    "start_time": "2022-05-08T12:52:16.253Z"
   },
   {
    "duration": 0,
    "start_time": "2022-05-08T12:52:16.257Z"
   },
   {
    "duration": 0,
    "start_time": "2022-05-08T12:52:16.260Z"
   },
   {
    "duration": 0,
    "start_time": "2022-05-08T12:52:16.263Z"
   },
   {
    "duration": 0,
    "start_time": "2022-05-08T12:52:16.265Z"
   },
   {
    "duration": 0,
    "start_time": "2022-05-08T12:52:16.268Z"
   },
   {
    "duration": 0,
    "start_time": "2022-05-08T12:52:16.271Z"
   },
   {
    "duration": 0,
    "start_time": "2022-05-08T12:52:16.325Z"
   },
   {
    "duration": 0,
    "start_time": "2022-05-08T12:52:16.329Z"
   },
   {
    "duration": 0,
    "start_time": "2022-05-08T12:52:16.332Z"
   },
   {
    "duration": 0,
    "start_time": "2022-05-08T12:52:16.335Z"
   },
   {
    "duration": 0,
    "start_time": "2022-05-08T12:52:16.339Z"
   },
   {
    "duration": 0,
    "start_time": "2022-05-08T12:52:16.342Z"
   },
   {
    "duration": 0,
    "start_time": "2022-05-08T12:52:16.345Z"
   },
   {
    "duration": 0,
    "start_time": "2022-05-08T12:52:16.348Z"
   },
   {
    "duration": 0,
    "start_time": "2022-05-08T12:52:16.351Z"
   },
   {
    "duration": 0,
    "start_time": "2022-05-08T12:52:16.354Z"
   },
   {
    "duration": 0,
    "start_time": "2022-05-08T12:52:16.357Z"
   },
   {
    "duration": 0,
    "start_time": "2022-05-08T12:52:16.359Z"
   },
   {
    "duration": 0,
    "start_time": "2022-05-08T12:52:16.361Z"
   },
   {
    "duration": 0,
    "start_time": "2022-05-08T12:52:16.363Z"
   },
   {
    "duration": 0,
    "start_time": "2022-05-08T12:52:16.365Z"
   },
   {
    "duration": 0,
    "start_time": "2022-05-08T12:52:16.368Z"
   },
   {
    "duration": 0,
    "start_time": "2022-05-08T12:52:16.370Z"
   },
   {
    "duration": 0,
    "start_time": "2022-05-08T12:52:16.425Z"
   },
   {
    "duration": 0,
    "start_time": "2022-05-08T12:52:16.426Z"
   },
   {
    "duration": 0,
    "start_time": "2022-05-08T12:52:16.428Z"
   },
   {
    "duration": 0,
    "start_time": "2022-05-08T12:52:16.430Z"
   },
   {
    "duration": 0,
    "start_time": "2022-05-08T12:52:16.433Z"
   },
   {
    "duration": 0,
    "start_time": "2022-05-08T12:52:16.436Z"
   },
   {
    "duration": 0,
    "start_time": "2022-05-08T12:52:16.438Z"
   },
   {
    "duration": 0,
    "start_time": "2022-05-08T12:52:16.441Z"
   },
   {
    "duration": 0,
    "start_time": "2022-05-08T12:52:16.443Z"
   },
   {
    "duration": 0,
    "start_time": "2022-05-08T12:52:16.445Z"
   },
   {
    "duration": 0,
    "start_time": "2022-05-08T12:52:16.448Z"
   },
   {
    "duration": 0,
    "start_time": "2022-05-08T12:52:16.450Z"
   },
   {
    "duration": 0,
    "start_time": "2022-05-08T12:52:16.452Z"
   },
   {
    "duration": 0,
    "start_time": "2022-05-08T12:52:16.454Z"
   },
   {
    "duration": 0,
    "start_time": "2022-05-08T12:52:16.456Z"
   },
   {
    "duration": 0,
    "start_time": "2022-05-08T12:52:16.459Z"
   },
   {
    "duration": 0,
    "start_time": "2022-05-08T12:52:16.461Z"
   },
   {
    "duration": 0,
    "start_time": "2022-05-08T12:52:16.463Z"
   },
   {
    "duration": 0,
    "start_time": "2022-05-08T12:52:16.465Z"
   },
   {
    "duration": 0,
    "start_time": "2022-05-08T12:52:16.467Z"
   },
   {
    "duration": 0,
    "start_time": "2022-05-08T12:52:16.524Z"
   },
   {
    "duration": 0,
    "start_time": "2022-05-08T12:52:16.526Z"
   },
   {
    "duration": 0,
    "start_time": "2022-05-08T12:52:16.528Z"
   },
   {
    "duration": 0,
    "start_time": "2022-05-08T12:52:16.531Z"
   },
   {
    "duration": 0,
    "start_time": "2022-05-08T12:52:16.533Z"
   },
   {
    "duration": 0,
    "start_time": "2022-05-08T12:52:16.535Z"
   },
   {
    "duration": 3068,
    "start_time": "2022-05-09T10:18:25.485Z"
   },
   {
    "duration": 862,
    "start_time": "2022-05-09T10:18:28.556Z"
   },
   {
    "duration": 38,
    "start_time": "2022-05-09T10:18:29.420Z"
   },
   {
    "duration": 26,
    "start_time": "2022-05-09T10:18:29.461Z"
   },
   {
    "duration": 218,
    "start_time": "2022-05-09T10:18:29.489Z"
   },
   {
    "duration": 40,
    "start_time": "2022-05-09T10:18:29.709Z"
   },
   {
    "duration": 24,
    "start_time": "2022-05-09T10:18:29.752Z"
   },
   {
    "duration": 64,
    "start_time": "2022-05-09T10:18:29.778Z"
   },
   {
    "duration": 33,
    "start_time": "2022-05-09T10:18:29.845Z"
   },
   {
    "duration": 47,
    "start_time": "2022-05-09T10:18:29.882Z"
   },
   {
    "duration": 184,
    "start_time": "2022-05-09T10:18:29.931Z"
   },
   {
    "duration": 8,
    "start_time": "2022-05-09T10:18:30.118Z"
   },
   {
    "duration": 18,
    "start_time": "2022-05-09T10:18:30.129Z"
   },
   {
    "duration": 6,
    "start_time": "2022-05-09T10:18:30.149Z"
   },
   {
    "duration": 17,
    "start_time": "2022-05-09T10:18:30.157Z"
   },
   {
    "duration": 12,
    "start_time": "2022-05-09T10:18:30.176Z"
   },
   {
    "duration": 117,
    "start_time": "2022-05-09T10:18:30.190Z"
   },
   {
    "duration": 6,
    "start_time": "2022-05-09T10:18:30.309Z"
   },
   {
    "duration": 20,
    "start_time": "2022-05-09T10:18:30.323Z"
   },
   {
    "duration": 24,
    "start_time": "2022-05-09T10:18:30.345Z"
   },
   {
    "duration": 23,
    "start_time": "2022-05-09T10:18:30.371Z"
   },
   {
    "duration": 30,
    "start_time": "2022-05-09T10:18:30.396Z"
   },
   {
    "duration": 1857,
    "start_time": "2022-05-09T10:18:30.428Z"
   },
   {
    "duration": 1774,
    "start_time": "2022-05-09T10:18:32.288Z"
   },
   {
    "duration": 1787,
    "start_time": "2022-05-09T10:18:34.064Z"
   },
   {
    "duration": 955,
    "start_time": "2022-05-09T10:18:35.854Z"
   },
   {
    "duration": 15,
    "start_time": "2022-05-09T10:18:36.812Z"
   },
   {
    "duration": 8,
    "start_time": "2022-05-09T10:18:36.833Z"
   },
   {
    "duration": 8,
    "start_time": "2022-05-09T10:18:36.844Z"
   },
   {
    "duration": 12,
    "start_time": "2022-05-09T10:18:36.854Z"
   },
   {
    "duration": 1839,
    "start_time": "2022-05-09T10:18:36.868Z"
   },
   {
    "duration": 25,
    "start_time": "2022-05-09T10:18:38.709Z"
   },
   {
    "duration": 7,
    "start_time": "2022-05-09T10:18:38.736Z"
   },
   {
    "duration": 494,
    "start_time": "2022-05-09T10:18:38.746Z"
   },
   {
    "duration": 5,
    "start_time": "2022-05-09T10:18:39.242Z"
   },
   {
    "duration": 11,
    "start_time": "2022-05-09T10:18:39.249Z"
   },
   {
    "duration": 8,
    "start_time": "2022-05-09T10:18:39.262Z"
   },
   {
    "duration": 12,
    "start_time": "2022-05-09T10:18:39.272Z"
   },
   {
    "duration": 11,
    "start_time": "2022-05-09T10:18:39.286Z"
   },
   {
    "duration": 21858,
    "start_time": "2022-05-09T10:18:39.324Z"
   },
   {
    "duration": 19642,
    "start_time": "2022-05-09T10:19:01.185Z"
   },
   {
    "duration": 4,
    "start_time": "2022-05-09T10:19:20.829Z"
   },
   {
    "duration": 16,
    "start_time": "2022-05-09T10:19:20.835Z"
   },
   {
    "duration": 618862,
    "start_time": "2022-05-09T10:19:20.854Z"
   },
   {
    "duration": 578490,
    "start_time": "2022-05-09T10:29:39.718Z"
   },
   {
    "duration": 16,
    "start_time": "2022-05-09T10:39:18.211Z"
   },
   {
    "duration": 8,
    "start_time": "2022-05-09T10:39:18.231Z"
   },
   {
    "duration": 2190,
    "start_time": "2022-05-09T10:39:18.242Z"
   },
   {
    "duration": 1896,
    "start_time": "2022-05-09T10:39:20.435Z"
   },
   {
    "duration": 95,
    "start_time": "2022-05-09T10:39:22.334Z"
   },
   {
    "duration": 20,
    "start_time": "2022-05-09T10:39:22.431Z"
   },
   {
    "duration": 4272,
    "start_time": "2022-05-09T10:39:22.454Z"
   },
   {
    "duration": 4954,
    "start_time": "2022-05-09T10:39:26.729Z"
   },
   {
    "duration": 5,
    "start_time": "2022-05-09T10:39:31.687Z"
   },
   {
    "duration": 1535,
    "start_time": "2022-05-09T10:39:31.695Z"
   },
   {
    "duration": 1694,
    "start_time": "2022-05-09T10:39:33.233Z"
   },
   {
    "duration": 1904,
    "start_time": "2022-05-09T10:39:34.930Z"
   },
   {
    "duration": 91,
    "start_time": "2022-05-09T10:39:36.838Z"
   },
   {
    "duration": 1760,
    "start_time": "2022-05-11T11:35:43.350Z"
   },
   {
    "duration": 589,
    "start_time": "2022-05-11T11:35:45.112Z"
   },
   {
    "duration": 22,
    "start_time": "2022-05-11T11:35:45.702Z"
   },
   {
    "duration": 32,
    "start_time": "2022-05-11T11:35:45.726Z"
   },
   {
    "duration": 127,
    "start_time": "2022-05-11T11:35:45.760Z"
   },
   {
    "duration": 19,
    "start_time": "2022-05-11T11:35:45.889Z"
   },
   {
    "duration": 15,
    "start_time": "2022-05-11T11:35:45.909Z"
   },
   {
    "duration": 37,
    "start_time": "2022-05-11T11:35:45.925Z"
   },
   {
    "duration": 17,
    "start_time": "2022-05-11T11:35:45.964Z"
   },
   {
    "duration": 17,
    "start_time": "2022-05-11T11:35:45.983Z"
   },
   {
    "duration": 115,
    "start_time": "2022-05-11T11:35:46.002Z"
   },
   {
    "duration": 3,
    "start_time": "2022-05-11T11:35:46.119Z"
   },
   {
    "duration": 9,
    "start_time": "2022-05-11T11:35:46.124Z"
   },
   {
    "duration": 15,
    "start_time": "2022-05-11T11:35:46.134Z"
   },
   {
    "duration": 9,
    "start_time": "2022-05-11T11:35:46.150Z"
   },
   {
    "duration": 6,
    "start_time": "2022-05-11T11:35:46.160Z"
   },
   {
    "duration": 99,
    "start_time": "2022-05-11T11:35:46.168Z"
   },
   {
    "duration": 5,
    "start_time": "2022-05-11T11:35:46.269Z"
   },
   {
    "duration": 17,
    "start_time": "2022-05-11T11:35:46.276Z"
   },
   {
    "duration": 13,
    "start_time": "2022-05-11T11:35:46.295Z"
   },
   {
    "duration": 41,
    "start_time": "2022-05-11T11:35:46.310Z"
   },
   {
    "duration": 6,
    "start_time": "2022-05-11T11:35:46.353Z"
   },
   {
    "duration": 1259,
    "start_time": "2022-05-11T11:35:46.360Z"
   },
   {
    "duration": 1261,
    "start_time": "2022-05-11T11:35:47.621Z"
   },
   {
    "duration": 1193,
    "start_time": "2022-05-11T11:35:48.883Z"
   },
   {
    "duration": 610,
    "start_time": "2022-05-11T11:35:50.078Z"
   },
   {
    "duration": 4,
    "start_time": "2022-05-11T11:35:50.690Z"
   },
   {
    "duration": 4,
    "start_time": "2022-05-11T11:35:50.697Z"
   },
   {
    "duration": 4,
    "start_time": "2022-05-11T11:35:50.703Z"
   },
   {
    "duration": 16,
    "start_time": "2022-05-11T11:35:50.708Z"
   },
   {
    "duration": 1466,
    "start_time": "2022-05-11T11:35:50.726Z"
   },
   {
    "duration": 8,
    "start_time": "2022-05-11T11:35:52.194Z"
   },
   {
    "duration": 4,
    "start_time": "2022-05-11T11:35:52.204Z"
   },
   {
    "duration": 255,
    "start_time": "2022-05-11T11:35:52.210Z"
   },
   {
    "duration": 3,
    "start_time": "2022-05-11T11:35:52.466Z"
   },
   {
    "duration": 4,
    "start_time": "2022-05-11T11:35:52.471Z"
   },
   {
    "duration": 5,
    "start_time": "2022-05-11T11:35:52.476Z"
   },
   {
    "duration": 7,
    "start_time": "2022-05-11T11:35:52.482Z"
   },
   {
    "duration": 7,
    "start_time": "2022-05-11T11:35:52.490Z"
   },
   {
    "duration": 14469,
    "start_time": "2022-05-11T11:35:52.498Z"
   },
   {
    "duration": 14788,
    "start_time": "2022-05-11T11:36:06.968Z"
   },
   {
    "duration": 4,
    "start_time": "2022-05-11T11:36:21.757Z"
   },
   {
    "duration": 6,
    "start_time": "2022-05-11T11:36:21.762Z"
   },
   {
    "duration": 395658,
    "start_time": "2022-05-11T11:36:21.770Z"
   },
   {
    "duration": 389565,
    "start_time": "2022-05-11T11:42:57.430Z"
   },
   {
    "duration": 4,
    "start_time": "2022-05-11T11:49:26.997Z"
   },
   {
    "duration": 4,
    "start_time": "2022-05-11T11:49:27.003Z"
   },
   {
    "duration": 1742,
    "start_time": "2022-05-11T11:49:27.009Z"
   },
   {
    "duration": 1296,
    "start_time": "2022-05-11T11:49:28.752Z"
   },
   {
    "duration": 5,
    "start_time": "2022-05-11T11:49:30.050Z"
   },
   {
    "duration": 105,
    "start_time": "2022-05-11T11:49:30.056Z"
   },
   {
    "duration": 2153,
    "start_time": "2022-05-11T11:49:30.163Z"
   },
   {
    "duration": 2495,
    "start_time": "2022-05-11T11:49:32.318Z"
   },
   {
    "duration": 4,
    "start_time": "2022-05-11T11:49:34.815Z"
   },
   {
    "duration": 1127,
    "start_time": "2022-05-11T11:49:34.821Z"
   },
   {
    "duration": 1201,
    "start_time": "2022-05-11T11:49:35.950Z"
   },
   {
    "duration": 1098,
    "start_time": "2022-05-11T11:49:37.154Z"
   },
   {
    "duration": 94,
    "start_time": "2022-05-11T11:49:38.254Z"
   },
   {
    "duration": 105,
    "start_time": "2022-05-11T13:43:06.937Z"
   },
   {
    "duration": 2089,
    "start_time": "2022-05-11T17:18:25.797Z"
   },
   {
    "duration": 787,
    "start_time": "2022-05-11T17:18:27.889Z"
   },
   {
    "duration": 31,
    "start_time": "2022-05-11T17:18:28.678Z"
   },
   {
    "duration": 20,
    "start_time": "2022-05-11T17:18:28.711Z"
   },
   {
    "duration": 175,
    "start_time": "2022-05-11T17:18:28.733Z"
   },
   {
    "duration": 26,
    "start_time": "2022-05-11T17:18:28.910Z"
   },
   {
    "duration": 33,
    "start_time": "2022-05-11T17:18:28.938Z"
   },
   {
    "duration": 27,
    "start_time": "2022-05-11T17:18:28.972Z"
   },
   {
    "duration": 31,
    "start_time": "2022-05-11T17:18:29.002Z"
   },
   {
    "duration": 37,
    "start_time": "2022-05-11T17:18:29.036Z"
   },
   {
    "duration": 96,
    "start_time": "2022-05-11T17:18:29.075Z"
   },
   {
    "duration": 3,
    "start_time": "2022-05-11T17:18:29.173Z"
   },
   {
    "duration": 34,
    "start_time": "2022-05-11T17:18:29.178Z"
   },
   {
    "duration": 14,
    "start_time": "2022-05-11T17:18:29.214Z"
   },
   {
    "duration": 34,
    "start_time": "2022-05-11T17:18:29.230Z"
   },
   {
    "duration": 22,
    "start_time": "2022-05-11T17:18:29.266Z"
   },
   {
    "duration": 105,
    "start_time": "2022-05-11T17:18:29.290Z"
   },
   {
    "duration": 5,
    "start_time": "2022-05-11T17:18:29.397Z"
   },
   {
    "duration": 35,
    "start_time": "2022-05-11T17:18:29.404Z"
   },
   {
    "duration": 14,
    "start_time": "2022-05-11T17:18:29.442Z"
   },
   {
    "duration": 21,
    "start_time": "2022-05-11T17:18:29.458Z"
   },
   {
    "duration": 6,
    "start_time": "2022-05-11T17:18:29.481Z"
   },
   {
    "duration": 1654,
    "start_time": "2022-05-11T17:18:29.489Z"
   },
   {
    "duration": 1578,
    "start_time": "2022-05-11T17:18:31.144Z"
   },
   {
    "duration": 1564,
    "start_time": "2022-05-11T17:18:32.724Z"
   },
   {
    "duration": 888,
    "start_time": "2022-05-11T17:18:34.291Z"
   },
   {
    "duration": 5,
    "start_time": "2022-05-11T17:18:35.181Z"
   },
   {
    "duration": 5,
    "start_time": "2022-05-11T17:18:35.191Z"
   },
   {
    "duration": 8,
    "start_time": "2022-05-11T17:18:35.198Z"
   },
   {
    "duration": 7,
    "start_time": "2022-05-11T17:18:35.208Z"
   },
   {
    "duration": 1557,
    "start_time": "2022-05-11T17:18:35.217Z"
   },
   {
    "duration": 10,
    "start_time": "2022-05-11T17:18:36.776Z"
   },
   {
    "duration": 10,
    "start_time": "2022-05-11T17:18:36.788Z"
   },
   {
    "duration": 269,
    "start_time": "2022-05-11T17:18:36.800Z"
   },
   {
    "duration": 3,
    "start_time": "2022-05-11T17:18:37.070Z"
   },
   {
    "duration": 6,
    "start_time": "2022-05-11T17:18:37.075Z"
   },
   {
    "duration": 5,
    "start_time": "2022-05-11T17:18:37.083Z"
   },
   {
    "duration": 7,
    "start_time": "2022-05-11T17:18:37.089Z"
   },
   {
    "duration": 7,
    "start_time": "2022-05-11T17:18:37.098Z"
   },
   {
    "duration": 16862,
    "start_time": "2022-05-11T17:18:37.107Z"
   },
   {
    "duration": 16653,
    "start_time": "2022-05-11T17:18:53.971Z"
   },
   {
    "duration": 3,
    "start_time": "2022-05-11T17:19:10.626Z"
   },
   {
    "duration": 9,
    "start_time": "2022-05-11T17:19:10.631Z"
   },
   {
    "duration": 496091,
    "start_time": "2022-05-11T17:19:10.642Z"
   },
   {
    "duration": 1930,
    "start_time": "2022-05-12T07:15:35.583Z"
   },
   {
    "duration": 676,
    "start_time": "2022-05-12T07:15:37.515Z"
   },
   {
    "duration": 24,
    "start_time": "2022-05-12T07:15:38.192Z"
   },
   {
    "duration": 18,
    "start_time": "2022-05-12T07:15:38.223Z"
   },
   {
    "duration": 134,
    "start_time": "2022-05-12T07:15:38.243Z"
   },
   {
    "duration": 22,
    "start_time": "2022-05-12T07:15:38.379Z"
   },
   {
    "duration": 30,
    "start_time": "2022-05-12T07:15:38.403Z"
   },
   {
    "duration": 23,
    "start_time": "2022-05-12T07:15:38.435Z"
   },
   {
    "duration": 20,
    "start_time": "2022-05-12T07:15:38.460Z"
   },
   {
    "duration": 42,
    "start_time": "2022-05-12T07:15:38.483Z"
   },
   {
    "duration": 109,
    "start_time": "2022-05-12T07:15:38.526Z"
   },
   {
    "duration": 3,
    "start_time": "2022-05-12T07:15:38.637Z"
   },
   {
    "duration": 9,
    "start_time": "2022-05-12T07:15:38.642Z"
   },
   {
    "duration": 3,
    "start_time": "2022-05-12T07:15:38.653Z"
   },
   {
    "duration": 11,
    "start_time": "2022-05-12T07:15:38.658Z"
   },
   {
    "duration": 4,
    "start_time": "2022-05-12T07:15:38.671Z"
   },
   {
    "duration": 108,
    "start_time": "2022-05-12T07:15:38.677Z"
   },
   {
    "duration": 5,
    "start_time": "2022-05-12T07:15:38.787Z"
   },
   {
    "duration": 31,
    "start_time": "2022-05-12T07:15:38.794Z"
   },
   {
    "duration": 18,
    "start_time": "2022-05-12T07:15:38.826Z"
   },
   {
    "duration": 18,
    "start_time": "2022-05-12T07:15:38.846Z"
   },
   {
    "duration": 6,
    "start_time": "2022-05-12T07:15:38.866Z"
   },
   {
    "duration": 1322,
    "start_time": "2022-05-12T07:15:38.873Z"
   },
   {
    "duration": 1298,
    "start_time": "2022-05-12T07:15:40.197Z"
   },
   {
    "duration": 1197,
    "start_time": "2022-05-12T07:15:41.497Z"
   },
   {
    "duration": 705,
    "start_time": "2022-05-12T07:15:42.696Z"
   },
   {
    "duration": 4,
    "start_time": "2022-05-12T07:15:43.403Z"
   },
   {
    "duration": 14,
    "start_time": "2022-05-12T07:15:43.412Z"
   },
   {
    "duration": 13,
    "start_time": "2022-05-12T07:15:43.427Z"
   },
   {
    "duration": 26,
    "start_time": "2022-05-12T07:15:43.442Z"
   },
   {
    "duration": 1574,
    "start_time": "2022-05-12T07:15:43.470Z"
   },
   {
    "duration": 11,
    "start_time": "2022-05-12T07:15:45.046Z"
   },
   {
    "duration": 7,
    "start_time": "2022-05-12T07:15:45.058Z"
   },
   {
    "duration": 292,
    "start_time": "2022-05-12T07:15:45.067Z"
   },
   {
    "duration": 3,
    "start_time": "2022-05-12T07:15:45.360Z"
   },
   {
    "duration": 5,
    "start_time": "2022-05-12T07:15:45.365Z"
   },
   {
    "duration": 15,
    "start_time": "2022-05-12T07:15:45.372Z"
   },
   {
    "duration": 8,
    "start_time": "2022-05-12T07:15:45.389Z"
   },
   {
    "duration": 6,
    "start_time": "2022-05-12T07:15:45.399Z"
   },
   {
    "duration": 12616,
    "start_time": "2022-05-12T07:15:45.407Z"
   },
   {
    "duration": 12860,
    "start_time": "2022-05-12T07:15:58.025Z"
   },
   {
    "duration": 3,
    "start_time": "2022-05-12T07:16:10.887Z"
   },
   {
    "duration": 5,
    "start_time": "2022-05-12T07:16:10.892Z"
   },
   {
    "duration": 437210,
    "start_time": "2022-05-12T07:16:10.899Z"
   },
   {
    "duration": 505130,
    "start_time": "2022-05-12T07:23:28.110Z"
   },
   {
    "duration": 5,
    "start_time": "2022-05-12T07:31:53.242Z"
   },
   {
    "duration": 6,
    "start_time": "2022-05-12T07:31:53.249Z"
   },
   {
    "duration": 2079,
    "start_time": "2022-05-12T07:31:53.257Z"
   },
   {
    "duration": 1890,
    "start_time": "2022-05-12T07:31:55.338Z"
   },
   {
    "duration": 4,
    "start_time": "2022-05-12T07:31:57.230Z"
   },
   {
    "duration": 188,
    "start_time": "2022-05-12T07:31:57.236Z"
   },
   {
    "duration": 2515,
    "start_time": "2022-05-12T07:31:57.426Z"
   },
   {
    "duration": 2806,
    "start_time": "2022-05-12T07:31:59.943Z"
   },
   {
    "duration": 4,
    "start_time": "2022-05-12T07:32:02.752Z"
   },
   {
    "duration": 16,
    "start_time": "2022-05-12T07:32:02.758Z"
   },
   {
    "duration": 32,
    "start_time": "2022-05-12T07:32:02.775Z"
   },
   {
    "duration": 23,
    "start_time": "2022-05-12T07:32:02.809Z"
   },
   {
    "duration": 19,
    "start_time": "2022-05-12T07:32:02.835Z"
   },
   {
    "duration": 3,
    "start_time": "2022-05-12T07:56:24.643Z"
   },
   {
    "duration": 147,
    "start_time": "2022-05-12T15:51:55.514Z"
   },
   {
    "duration": 3338,
    "start_time": "2022-05-12T15:52:03.854Z"
   },
   {
    "duration": 3756,
    "start_time": "2022-05-12T15:52:07.195Z"
   },
   {
    "duration": 38,
    "start_time": "2022-05-12T15:52:10.954Z"
   },
   {
    "duration": 82,
    "start_time": "2022-05-12T15:52:10.994Z"
   },
   {
    "duration": 419,
    "start_time": "2022-05-12T15:52:11.080Z"
   },
   {
    "duration": 31,
    "start_time": "2022-05-12T15:52:11.553Z"
   },
   {
    "duration": 85,
    "start_time": "2022-05-12T15:52:11.587Z"
   },
   {
    "duration": 98,
    "start_time": "2022-05-12T15:52:11.674Z"
   },
   {
    "duration": 90,
    "start_time": "2022-05-12T15:52:11.775Z"
   },
   {
    "duration": 87,
    "start_time": "2022-05-12T15:52:11.868Z"
   },
   {
    "duration": 394,
    "start_time": "2022-05-12T15:52:11.958Z"
   },
   {
    "duration": 5,
    "start_time": "2022-05-12T15:52:12.355Z"
   },
   {
    "duration": 14,
    "start_time": "2022-05-12T15:52:12.363Z"
   },
   {
    "duration": 5,
    "start_time": "2022-05-12T15:52:12.381Z"
   },
   {
    "duration": 11,
    "start_time": "2022-05-12T15:52:12.452Z"
   },
   {
    "duration": 14,
    "start_time": "2022-05-12T15:52:12.465Z"
   },
   {
    "duration": 202,
    "start_time": "2022-05-12T15:52:12.482Z"
   },
   {
    "duration": 8,
    "start_time": "2022-05-12T15:52:12.686Z"
   },
   {
    "duration": 20,
    "start_time": "2022-05-12T15:52:12.753Z"
   },
   {
    "duration": 79,
    "start_time": "2022-05-12T15:52:12.776Z"
   },
   {
    "duration": 22,
    "start_time": "2022-05-12T15:52:12.857Z"
   },
   {
    "duration": 71,
    "start_time": "2022-05-12T15:52:12.882Z"
   },
   {
    "duration": 16,
    "start_time": "2022-05-12T15:52:42.606Z"
   },
   {
    "duration": 2637,
    "start_time": "2022-05-12T15:53:11.137Z"
   },
   {
    "duration": 2770,
    "start_time": "2022-05-12T15:54:05.583Z"
   },
   {
    "duration": 2749,
    "start_time": "2022-05-12T15:54:48.149Z"
   },
   {
    "duration": 2960,
    "start_time": "2022-05-12T15:55:00.701Z"
   },
   {
    "duration": 2604,
    "start_time": "2022-05-13T07:51:51.415Z"
   },
   {
    "duration": 810,
    "start_time": "2022-05-13T07:51:54.022Z"
   },
   {
    "duration": 54,
    "start_time": "2022-05-13T07:51:54.834Z"
   },
   {
    "duration": 26,
    "start_time": "2022-05-13T07:51:54.890Z"
   },
   {
    "duration": 255,
    "start_time": "2022-05-13T07:51:54.919Z"
   },
   {
    "duration": 31,
    "start_time": "2022-05-13T07:51:55.176Z"
   },
   {
    "duration": 23,
    "start_time": "2022-05-13T07:51:55.208Z"
   },
   {
    "duration": 55,
    "start_time": "2022-05-13T07:51:55.233Z"
   },
   {
    "duration": 36,
    "start_time": "2022-05-13T07:51:55.290Z"
   },
   {
    "duration": 58,
    "start_time": "2022-05-13T07:51:55.328Z"
   },
   {
    "duration": 188,
    "start_time": "2022-05-13T07:51:55.389Z"
   },
   {
    "duration": 5,
    "start_time": "2022-05-13T07:51:55.582Z"
   },
   {
    "duration": 13,
    "start_time": "2022-05-13T07:51:55.590Z"
   },
   {
    "duration": 4,
    "start_time": "2022-05-13T07:51:55.609Z"
   },
   {
    "duration": 13,
    "start_time": "2022-05-13T07:51:55.616Z"
   },
   {
    "duration": 5,
    "start_time": "2022-05-13T07:51:55.631Z"
   },
   {
    "duration": 113,
    "start_time": "2022-05-13T07:51:55.682Z"
   },
   {
    "duration": 7,
    "start_time": "2022-05-13T07:51:55.797Z"
   },
   {
    "duration": 27,
    "start_time": "2022-05-13T07:51:55.806Z"
   },
   {
    "duration": 18,
    "start_time": "2022-05-13T07:51:55.835Z"
   },
   {
    "duration": 39,
    "start_time": "2022-05-13T07:51:55.856Z"
   },
   {
    "duration": 9,
    "start_time": "2022-05-13T07:51:55.897Z"
   },
   {
    "duration": 2198,
    "start_time": "2022-05-13T07:51:55.908Z"
   },
   {
    "duration": 1720,
    "start_time": "2022-05-13T07:51:58.109Z"
   },
   {
    "duration": 1778,
    "start_time": "2022-05-13T07:51:59.831Z"
   },
   {
    "duration": 953,
    "start_time": "2022-05-13T07:52:01.612Z"
   },
   {
    "duration": 14,
    "start_time": "2022-05-13T07:52:02.567Z"
   },
   {
    "duration": 6,
    "start_time": "2022-05-13T07:52:02.583Z"
   },
   {
    "duration": 7,
    "start_time": "2022-05-13T07:52:02.592Z"
   },
   {
    "duration": 14,
    "start_time": "2022-05-13T07:52:02.602Z"
   },
   {
    "duration": 2254,
    "start_time": "2022-05-13T07:52:02.618Z"
   },
   {
    "duration": 17,
    "start_time": "2022-05-13T07:52:04.874Z"
   },
   {
    "duration": 6,
    "start_time": "2022-05-13T07:52:04.893Z"
   },
   {
    "duration": 492,
    "start_time": "2022-05-13T07:52:04.901Z"
   },
   {
    "duration": 5,
    "start_time": "2022-05-13T07:52:05.395Z"
   },
   {
    "duration": 7,
    "start_time": "2022-05-13T07:52:05.402Z"
   },
   {
    "duration": 7,
    "start_time": "2022-05-13T07:52:05.411Z"
   },
   {
    "duration": 11,
    "start_time": "2022-05-13T07:52:05.420Z"
   },
   {
    "duration": 10,
    "start_time": "2022-05-13T07:52:05.433Z"
   },
   {
    "duration": 16211,
    "start_time": "2022-05-13T07:52:05.445Z"
   },
   {
    "duration": 16170,
    "start_time": "2022-05-13T07:52:21.662Z"
   },
   {
    "duration": 5,
    "start_time": "2022-05-13T07:52:37.834Z"
   },
   {
    "duration": 7,
    "start_time": "2022-05-13T07:52:37.842Z"
   },
   {
    "duration": 585311,
    "start_time": "2022-05-13T07:52:37.852Z"
   },
   {
    "duration": 616019,
    "start_time": "2022-05-13T08:02:23.166Z"
   },
   {
    "duration": 4,
    "start_time": "2022-05-13T08:12:39.187Z"
   },
   {
    "duration": 10,
    "start_time": "2022-05-13T08:12:39.193Z"
   },
   {
    "duration": 2079,
    "start_time": "2022-05-13T08:12:39.205Z"
   },
   {
    "duration": 3196,
    "start_time": "2022-05-13T08:12:41.287Z"
   },
   {
    "duration": 5,
    "start_time": "2022-05-13T08:12:44.488Z"
   },
   {
    "duration": 101,
    "start_time": "2022-05-13T08:12:44.496Z"
   },
   {
    "duration": 2993,
    "start_time": "2022-05-13T08:12:44.599Z"
   },
   {
    "duration": 3535,
    "start_time": "2022-05-13T08:12:47.595Z"
   },
   {
    "duration": 6,
    "start_time": "2022-05-13T08:12:51.132Z"
   },
   {
    "duration": 9,
    "start_time": "2022-05-13T08:12:51.141Z"
   },
   {
    "duration": 15,
    "start_time": "2022-05-13T08:12:51.152Z"
   },
   {
    "duration": 20,
    "start_time": "2022-05-13T08:12:51.183Z"
   },
   {
    "duration": 13,
    "start_time": "2022-05-13T08:12:51.205Z"
   },
   {
    "duration": 18,
    "start_time": "2022-05-13T08:12:51.221Z"
   },
   {
    "duration": 2059,
    "start_time": "2022-05-13T09:28:27.841Z"
   },
   {
    "duration": 2172,
    "start_time": "2022-05-13T09:28:29.903Z"
   },
   {
    "duration": 2068,
    "start_time": "2022-05-13T09:28:37.966Z"
   },
   {
    "duration": 8,
    "start_time": "2022-05-13T09:36:03.368Z"
   },
   {
    "duration": 7,
    "start_time": "2022-05-13T09:36:24.226Z"
   },
   {
    "duration": 6,
    "start_time": "2022-05-13T09:36:48.266Z"
   },
   {
    "duration": 178,
    "start_time": "2022-05-13T09:38:00.808Z"
   },
   {
    "duration": 12,
    "start_time": "2022-05-13T09:38:09.449Z"
   },
   {
    "duration": 13,
    "start_time": "2022-05-13T09:38:09.552Z"
   },
   {
    "duration": 12,
    "start_time": "2022-05-13T09:38:12.128Z"
   },
   {
    "duration": 13,
    "start_time": "2022-05-13T09:38:46.113Z"
   },
   {
    "duration": 12,
    "start_time": "2022-05-13T09:40:56.929Z"
   },
   {
    "duration": 13,
    "start_time": "2022-05-13T09:41:21.897Z"
   },
   {
    "duration": 12,
    "start_time": "2022-05-13T09:41:28.633Z"
   },
   {
    "duration": 10,
    "start_time": "2022-05-13T09:55:07.415Z"
   },
   {
    "duration": 12,
    "start_time": "2022-05-13T09:55:13.644Z"
   },
   {
    "duration": 5,
    "start_time": "2022-05-13T09:55:19.373Z"
   },
   {
    "duration": 8,
    "start_time": "2022-05-13T09:55:26.549Z"
   },
   {
    "duration": 13,
    "start_time": "2022-05-13T09:56:41.957Z"
   },
   {
    "duration": 19,
    "start_time": "2022-05-13T09:57:30.130Z"
   },
   {
    "duration": 7,
    "start_time": "2022-05-13T09:57:52.991Z"
   },
   {
    "duration": 13,
    "start_time": "2022-05-13T09:59:28.950Z"
   },
   {
    "duration": 5,
    "start_time": "2022-05-13T09:59:34.366Z"
   },
   {
    "duration": 7,
    "start_time": "2022-05-13T09:59:48.534Z"
   },
   {
    "duration": 6,
    "start_time": "2022-05-13T10:00:57.918Z"
   },
   {
    "duration": 16,
    "start_time": "2022-05-13T10:01:18.734Z"
   },
   {
    "duration": 15,
    "start_time": "2022-05-13T10:01:23.693Z"
   },
   {
    "duration": 6,
    "start_time": "2022-05-13T10:01:36.637Z"
   },
   {
    "duration": 15,
    "start_time": "2022-05-13T10:01:39.974Z"
   },
   {
    "duration": 15,
    "start_time": "2022-05-13T10:01:42.342Z"
   },
   {
    "duration": 6,
    "start_time": "2022-05-13T10:01:52.886Z"
   },
   {
    "duration": 6,
    "start_time": "2022-05-13T10:02:02.254Z"
   },
   {
    "duration": 6,
    "start_time": "2022-05-13T10:06:06.743Z"
   },
   {
    "duration": 2509,
    "start_time": "2022-05-13T10:06:21.999Z"
   },
   {
    "duration": 4,
    "start_time": "2022-05-13T10:19:57.661Z"
   },
   {
    "duration": 6,
    "start_time": "2022-05-13T10:20:25.020Z"
   },
   {
    "duration": 7,
    "start_time": "2022-05-13T10:20:37.364Z"
   },
   {
    "duration": 14,
    "start_time": "2022-05-13T10:20:44.267Z"
   },
   {
    "duration": 12,
    "start_time": "2022-05-13T10:20:49.164Z"
   },
   {
    "duration": 14,
    "start_time": "2022-05-13T10:20:56.819Z"
   },
   {
    "duration": 18,
    "start_time": "2022-05-13T10:20:59.956Z"
   },
   {
    "duration": 8,
    "start_time": "2022-05-13T10:21:09.876Z"
   },
   {
    "duration": 12,
    "start_time": "2022-05-13T10:21:45.381Z"
   },
   {
    "duration": 23,
    "start_time": "2022-05-13T10:22:11.420Z"
   },
   {
    "duration": 2538,
    "start_time": "2022-05-13T10:32:28.656Z"
   },
   {
    "duration": 6,
    "start_time": "2022-05-13T10:32:58.480Z"
   },
   {
    "duration": 24,
    "start_time": "2022-05-13T10:55:08.336Z"
   },
   {
    "duration": 6,
    "start_time": "2022-05-13T10:55:24.723Z"
   },
   {
    "duration": 5,
    "start_time": "2022-05-13T10:55:25.339Z"
   },
   {
    "duration": 10,
    "start_time": "2022-05-13T10:55:25.988Z"
   },
   {
    "duration": 5,
    "start_time": "2022-05-13T10:55:26.586Z"
   },
   {
    "duration": 1887,
    "start_time": "2022-05-13T10:55:27.304Z"
   },
   {
    "duration": 7,
    "start_time": "2022-05-13T10:59:23.400Z"
   },
   {
    "duration": 965,
    "start_time": "2022-05-13T10:59:23.410Z"
   },
   {
    "duration": 36,
    "start_time": "2022-05-13T10:59:24.377Z"
   },
   {
    "duration": 28,
    "start_time": "2022-05-13T10:59:24.416Z"
   },
   {
    "duration": 227,
    "start_time": "2022-05-13T10:59:24.447Z"
   },
   {
    "duration": 36,
    "start_time": "2022-05-13T10:59:24.682Z"
   },
   {
    "duration": 22,
    "start_time": "2022-05-13T10:59:24.721Z"
   },
   {
    "duration": 71,
    "start_time": "2022-05-13T10:59:24.746Z"
   },
   {
    "duration": 33,
    "start_time": "2022-05-13T10:59:24.819Z"
   },
   {
    "duration": 51,
    "start_time": "2022-05-13T10:59:24.854Z"
   },
   {
    "duration": 183,
    "start_time": "2022-05-13T10:59:24.909Z"
   },
   {
    "duration": 5,
    "start_time": "2022-05-13T10:59:25.094Z"
   },
   {
    "duration": 11,
    "start_time": "2022-05-13T10:59:25.102Z"
   },
   {
    "duration": 7,
    "start_time": "2022-05-13T10:59:25.115Z"
   },
   {
    "duration": 10,
    "start_time": "2022-05-13T10:59:25.124Z"
   },
   {
    "duration": 47,
    "start_time": "2022-05-13T10:59:25.137Z"
   },
   {
    "duration": 151,
    "start_time": "2022-05-13T10:59:25.189Z"
   },
   {
    "duration": 8,
    "start_time": "2022-05-13T10:59:25.344Z"
   },
   {
    "duration": 46,
    "start_time": "2022-05-13T10:59:25.355Z"
   },
   {
    "duration": 16,
    "start_time": "2022-05-13T10:59:25.404Z"
   },
   {
    "duration": 20,
    "start_time": "2022-05-13T10:59:25.422Z"
   },
   {
    "duration": 8,
    "start_time": "2022-05-13T10:59:25.445Z"
   },
   {
    "duration": 2159,
    "start_time": "2022-05-13T10:59:25.455Z"
   },
   {
    "duration": 2228,
    "start_time": "2022-05-13T10:59:27.618Z"
   },
   {
    "duration": 1856,
    "start_time": "2022-05-13T10:59:29.849Z"
   },
   {
    "duration": 1298,
    "start_time": "2022-05-13T10:59:31.708Z"
   },
   {
    "duration": 7,
    "start_time": "2022-05-13T10:59:33.009Z"
   },
   {
    "duration": 9,
    "start_time": "2022-05-13T10:59:33.019Z"
   },
   {
    "duration": 6,
    "start_time": "2022-05-13T10:59:33.035Z"
   },
   {
    "duration": 40,
    "start_time": "2022-05-13T10:59:33.044Z"
   },
   {
    "duration": 1883,
    "start_time": "2022-05-13T10:59:33.086Z"
   },
   {
    "duration": 13,
    "start_time": "2022-05-13T10:59:34.972Z"
   },
   {
    "duration": 31,
    "start_time": "2022-05-13T10:59:34.988Z"
   },
   {
    "duration": 11,
    "start_time": "2022-05-13T10:59:35.021Z"
   },
   {
    "duration": 6,
    "start_time": "2022-05-13T10:59:35.034Z"
   },
   {
    "duration": 613,
    "start_time": "2022-05-13T10:59:35.043Z"
   },
   {
    "duration": 4,
    "start_time": "2022-05-13T10:59:35.658Z"
   },
   {
    "duration": 16,
    "start_time": "2022-05-13T10:59:35.665Z"
   },
   {
    "duration": 18,
    "start_time": "2022-05-13T10:59:35.684Z"
   },
   {
    "duration": 17,
    "start_time": "2022-05-13T10:59:35.704Z"
   },
   {
    "duration": 49,
    "start_time": "2022-05-13T10:59:35.723Z"
   },
   {
    "duration": 17337,
    "start_time": "2022-05-13T10:59:35.775Z"
   },
   {
    "duration": 17490,
    "start_time": "2022-05-13T10:59:53.114Z"
   },
   {
    "duration": 5,
    "start_time": "2022-05-13T11:00:10.609Z"
   },
   {
    "duration": 10,
    "start_time": "2022-05-13T11:00:10.616Z"
   },
   {
    "duration": 600726,
    "start_time": "2022-05-13T11:00:10.629Z"
   },
   {
    "duration": 623657,
    "start_time": "2022-05-13T11:10:11.357Z"
   },
   {
    "duration": 11,
    "start_time": "2022-05-13T11:20:35.017Z"
   },
   {
    "duration": 20,
    "start_time": "2022-05-13T11:20:35.036Z"
   },
   {
    "duration": 7023,
    "start_time": "2022-05-13T11:20:35.059Z"
   },
   {
    "duration": 5600,
    "start_time": "2022-05-13T11:20:42.101Z"
   },
   {
    "duration": 77,
    "start_time": "2022-05-13T11:20:47.704Z"
   },
   {
    "duration": 60,
    "start_time": "2022-05-13T11:20:47.798Z"
   },
   {
    "duration": 0,
    "start_time": "2022-05-13T11:20:47.862Z"
   },
   {
    "duration": 0,
    "start_time": "2022-05-13T11:20:47.863Z"
   },
   {
    "duration": 0,
    "start_time": "2022-05-13T11:20:47.866Z"
   },
   {
    "duration": 0,
    "start_time": "2022-05-13T11:20:47.867Z"
   },
   {
    "duration": 0,
    "start_time": "2022-05-13T11:20:47.869Z"
   },
   {
    "duration": 0,
    "start_time": "2022-05-13T11:20:47.895Z"
   },
   {
    "duration": 0,
    "start_time": "2022-05-13T11:20:47.896Z"
   },
   {
    "duration": 0,
    "start_time": "2022-05-13T11:20:47.907Z"
   },
   {
    "duration": 39,
    "start_time": "2022-05-13T11:27:54.451Z"
   },
   {
    "duration": 28,
    "start_time": "2022-05-13T11:28:16.562Z"
   },
   {
    "duration": 7,
    "start_time": "2022-05-13T11:28:21.683Z"
   },
   {
    "duration": 33,
    "start_time": "2022-05-13T11:28:32.721Z"
   },
   {
    "duration": 129,
    "start_time": "2022-05-13T11:28:45.735Z"
   },
   {
    "duration": 4,
    "start_time": "2022-05-13T11:29:03.640Z"
   },
   {
    "duration": 22,
    "start_time": "2022-05-13T11:29:12.258Z"
   },
   {
    "duration": 1961,
    "start_time": "2022-05-14T08:02:29.690Z"
   },
   {
    "duration": 767,
    "start_time": "2022-05-14T08:02:31.654Z"
   },
   {
    "duration": 41,
    "start_time": "2022-05-14T08:02:32.424Z"
   },
   {
    "duration": 24,
    "start_time": "2022-05-14T08:02:32.469Z"
   },
   {
    "duration": 210,
    "start_time": "2022-05-14T08:02:32.496Z"
   },
   {
    "duration": 45,
    "start_time": "2022-05-14T08:02:32.709Z"
   },
   {
    "duration": 24,
    "start_time": "2022-05-14T08:02:32.757Z"
   },
   {
    "duration": 70,
    "start_time": "2022-05-14T08:02:32.784Z"
   },
   {
    "duration": 32,
    "start_time": "2022-05-14T08:02:32.856Z"
   },
   {
    "duration": 28,
    "start_time": "2022-05-14T08:02:32.894Z"
   },
   {
    "duration": 175,
    "start_time": "2022-05-14T08:02:32.953Z"
   },
   {
    "duration": 4,
    "start_time": "2022-05-14T08:02:33.130Z"
   },
   {
    "duration": 25,
    "start_time": "2022-05-14T08:02:33.136Z"
   },
   {
    "duration": 5,
    "start_time": "2022-05-14T08:02:33.163Z"
   },
   {
    "duration": 19,
    "start_time": "2022-05-14T08:02:33.170Z"
   },
   {
    "duration": 5,
    "start_time": "2022-05-14T08:02:33.191Z"
   },
   {
    "duration": 114,
    "start_time": "2022-05-14T08:02:33.198Z"
   },
   {
    "duration": 5,
    "start_time": "2022-05-14T08:02:33.315Z"
   },
   {
    "duration": 36,
    "start_time": "2022-05-14T08:02:33.322Z"
   },
   {
    "duration": 19,
    "start_time": "2022-05-14T08:02:33.360Z"
   },
   {
    "duration": 20,
    "start_time": "2022-05-14T08:02:33.381Z"
   },
   {
    "duration": 8,
    "start_time": "2022-05-14T08:02:33.403Z"
   },
   {
    "duration": 1962,
    "start_time": "2022-05-14T08:02:33.414Z"
   },
   {
    "duration": 1812,
    "start_time": "2022-05-14T08:02:35.378Z"
   },
   {
    "duration": 1789,
    "start_time": "2022-05-14T08:02:37.193Z"
   },
   {
    "duration": 927,
    "start_time": "2022-05-14T08:02:38.985Z"
   },
   {
    "duration": 7,
    "start_time": "2022-05-14T08:02:39.914Z"
   },
   {
    "duration": 26,
    "start_time": "2022-05-14T08:02:39.927Z"
   },
   {
    "duration": 7,
    "start_time": "2022-05-14T08:02:39.955Z"
   },
   {
    "duration": 8,
    "start_time": "2022-05-14T08:02:39.964Z"
   },
   {
    "duration": 1835,
    "start_time": "2022-05-14T08:02:39.974Z"
   },
   {
    "duration": 3,
    "start_time": "2022-05-14T08:02:41.811Z"
   },
   {
    "duration": 36,
    "start_time": "2022-05-14T08:02:41.817Z"
   },
   {
    "duration": 6,
    "start_time": "2022-05-14T08:02:41.856Z"
   },
   {
    "duration": 764,
    "start_time": "2022-05-14T08:02:41.865Z"
   },
   {
    "duration": 5,
    "start_time": "2022-05-14T08:02:42.631Z"
   },
   {
    "duration": 4,
    "start_time": "2022-05-14T08:02:42.652Z"
   },
   {
    "duration": 7,
    "start_time": "2022-05-14T08:02:42.659Z"
   },
   {
    "duration": 15,
    "start_time": "2022-05-14T08:02:42.669Z"
   },
   {
    "duration": 9,
    "start_time": "2022-05-14T08:02:42.687Z"
   },
   {
    "duration": 22657,
    "start_time": "2022-05-14T08:02:42.699Z"
   },
   {
    "duration": 15481,
    "start_time": "2022-05-14T08:03:05.358Z"
   },
   {
    "duration": 4,
    "start_time": "2022-05-14T08:03:20.852Z"
   },
   {
    "duration": 11,
    "start_time": "2022-05-14T08:03:20.858Z"
   },
   {
    "duration": 540727,
    "start_time": "2022-05-14T08:03:20.871Z"
   },
   {
    "duration": 528312,
    "start_time": "2022-05-14T08:12:21.600Z"
   },
   {
    "duration": 6,
    "start_time": "2022-05-14T08:21:09.914Z"
   },
   {
    "duration": 29,
    "start_time": "2022-05-14T08:21:09.923Z"
   },
   {
    "duration": 1703,
    "start_time": "2022-05-14T08:21:09.954Z"
   },
   {
    "duration": 1898,
    "start_time": "2022-05-14T08:21:11.660Z"
   },
   {
    "duration": 6,
    "start_time": "2022-05-14T08:21:13.654Z"
   },
   {
    "duration": 102,
    "start_time": "2022-05-14T08:21:13.663Z"
   },
   {
    "duration": 2774,
    "start_time": "2022-05-14T08:21:13.767Z"
   },
   {
    "duration": 3280,
    "start_time": "2022-05-14T08:21:16.543Z"
   },
   {
    "duration": 4,
    "start_time": "2022-05-14T08:21:19.825Z"
   },
   {
    "duration": 24,
    "start_time": "2022-05-14T08:21:19.831Z"
   },
   {
    "duration": 17,
    "start_time": "2022-05-14T08:21:19.857Z"
   },
   {
    "duration": 7,
    "start_time": "2022-05-14T08:21:19.876Z"
   },
   {
    "duration": 8,
    "start_time": "2022-05-14T08:21:19.885Z"
   },
   {
    "duration": 7,
    "start_time": "2022-05-14T08:21:19.895Z"
   },
   {
    "duration": 17,
    "start_time": "2022-05-14T08:58:07.875Z"
   },
   {
    "duration": 6,
    "start_time": "2022-05-14T09:23:11.595Z"
   },
   {
    "duration": 4,
    "start_time": "2022-05-14T09:23:13.970Z"
   },
   {
    "duration": 5,
    "start_time": "2022-05-14T09:24:42.126Z"
   },
   {
    "duration": 97,
    "start_time": "2022-05-14T09:24:42.805Z"
   },
   {
    "duration": 80,
    "start_time": "2022-05-14T09:24:48.645Z"
   },
   {
    "duration": 5,
    "start_time": "2022-05-14T09:25:01.229Z"
   },
   {
    "duration": 320,
    "start_time": "2022-05-14T09:25:16.010Z"
   },
   {
    "duration": 28,
    "start_time": "2022-05-14T09:25:34.057Z"
   },
   {
    "duration": 84,
    "start_time": "2022-05-14T09:28:23.957Z"
   },
   {
    "duration": 89,
    "start_time": "2022-05-14T09:28:42.762Z"
   },
   {
    "duration": 25,
    "start_time": "2022-05-14T09:28:49.730Z"
   },
   {
    "duration": 5,
    "start_time": "2022-05-14T09:28:50.779Z"
   },
   {
    "duration": 5,
    "start_time": "2022-05-14T09:28:58.930Z"
   },
   {
    "duration": 772,
    "start_time": "2022-05-14T09:28:59.189Z"
   },
   {
    "duration": 30,
    "start_time": "2022-05-14T09:28:59.964Z"
   },
   {
    "duration": 34,
    "start_time": "2022-05-14T09:28:59.996Z"
   },
   {
    "duration": 205,
    "start_time": "2022-05-14T09:29:00.051Z"
   },
   {
    "duration": 32,
    "start_time": "2022-05-14T09:29:00.258Z"
   },
   {
    "duration": 29,
    "start_time": "2022-05-14T09:29:00.292Z"
   },
   {
    "duration": 52,
    "start_time": "2022-05-14T09:29:00.324Z"
   },
   {
    "duration": 30,
    "start_time": "2022-05-14T09:29:00.379Z"
   },
   {
    "duration": 57,
    "start_time": "2022-05-14T09:29:00.412Z"
   },
   {
    "duration": 177,
    "start_time": "2022-05-14T09:29:00.471Z"
   },
   {
    "duration": 5,
    "start_time": "2022-05-14T09:29:00.957Z"
   },
   {
    "duration": 8,
    "start_time": "2022-05-14T09:29:01.077Z"
   },
   {
    "duration": 5,
    "start_time": "2022-05-14T09:29:01.213Z"
   },
   {
    "duration": 13,
    "start_time": "2022-05-14T09:29:01.750Z"
   },
   {
    "duration": 5,
    "start_time": "2022-05-14T09:29:02.254Z"
   },
   {
    "duration": 82,
    "start_time": "2022-05-14T09:29:02.393Z"
   },
   {
    "duration": 7,
    "start_time": "2022-05-14T09:29:02.525Z"
   },
   {
    "duration": 19,
    "start_time": "2022-05-14T09:29:02.654Z"
   },
   {
    "duration": 11,
    "start_time": "2022-05-14T09:29:02.789Z"
   },
   {
    "duration": 18,
    "start_time": "2022-05-14T09:29:02.929Z"
   },
   {
    "duration": 8,
    "start_time": "2022-05-14T09:29:03.843Z"
   },
   {
    "duration": 2074,
    "start_time": "2022-05-14T09:29:03.996Z"
   },
   {
    "duration": 2014,
    "start_time": "2022-05-14T09:29:06.073Z"
   },
   {
    "duration": 1994,
    "start_time": "2022-05-14T09:29:08.090Z"
   },
   {
    "duration": 859,
    "start_time": "2022-05-14T09:29:10.086Z"
   },
   {
    "duration": 6,
    "start_time": "2022-05-14T09:29:24.469Z"
   },
   {
    "duration": 33,
    "start_time": "2022-05-14T09:29:30.777Z"
   },
   {
    "duration": 6,
    "start_time": "2022-05-14T09:29:32.669Z"
   },
   {
    "duration": 184,
    "start_time": "2022-05-14T09:32:50.824Z"
   },
   {
    "duration": 6,
    "start_time": "2022-05-14T09:32:51.297Z"
   },
   {
    "duration": 17,
    "start_time": "2022-05-14T09:33:14.642Z"
   },
   {
    "duration": 6,
    "start_time": "2022-05-14T09:33:15.640Z"
   },
   {
    "duration": 1986,
    "start_time": "2022-05-14T09:42:43.471Z"
   },
   {
    "duration": 821,
    "start_time": "2022-05-14T09:42:45.460Z"
   },
   {
    "duration": 38,
    "start_time": "2022-05-14T09:42:46.283Z"
   },
   {
    "duration": 45,
    "start_time": "2022-05-14T09:42:46.325Z"
   },
   {
    "duration": 202,
    "start_time": "2022-05-14T09:42:46.373Z"
   },
   {
    "duration": 33,
    "start_time": "2022-05-14T09:42:46.578Z"
   },
   {
    "duration": 49,
    "start_time": "2022-05-14T09:42:46.614Z"
   },
   {
    "duration": 36,
    "start_time": "2022-05-14T09:42:46.666Z"
   },
   {
    "duration": 56,
    "start_time": "2022-05-14T09:42:46.704Z"
   },
   {
    "duration": 26,
    "start_time": "2022-05-14T09:42:46.766Z"
   },
   {
    "duration": 200,
    "start_time": "2022-05-14T09:42:46.795Z"
   },
   {
    "duration": 5,
    "start_time": "2022-05-14T09:42:46.997Z"
   },
   {
    "duration": 17,
    "start_time": "2022-05-14T09:42:47.005Z"
   },
   {
    "duration": 5,
    "start_time": "2022-05-14T09:42:47.025Z"
   },
   {
    "duration": 12,
    "start_time": "2022-05-14T09:42:47.052Z"
   },
   {
    "duration": 12,
    "start_time": "2022-05-14T09:42:47.066Z"
   },
   {
    "duration": 119,
    "start_time": "2022-05-14T09:42:47.081Z"
   },
   {
    "duration": 6,
    "start_time": "2022-05-14T09:42:47.203Z"
   },
   {
    "duration": 40,
    "start_time": "2022-05-14T09:42:47.212Z"
   },
   {
    "duration": 16,
    "start_time": "2022-05-14T09:42:47.254Z"
   },
   {
    "duration": 20,
    "start_time": "2022-05-14T09:42:47.273Z"
   },
   {
    "duration": 9,
    "start_time": "2022-05-14T09:42:47.295Z"
   },
   {
    "duration": 2075,
    "start_time": "2022-05-14T09:42:47.306Z"
   },
   {
    "duration": 2030,
    "start_time": "2022-05-14T09:42:49.383Z"
   },
   {
    "duration": 2084,
    "start_time": "2022-05-14T09:42:51.416Z"
   },
   {
    "duration": 922,
    "start_time": "2022-05-14T09:42:53.502Z"
   },
   {
    "duration": 8,
    "start_time": "2022-05-14T09:42:54.427Z"
   },
   {
    "duration": 6,
    "start_time": "2022-05-14T09:42:54.455Z"
   },
   {
    "duration": 30,
    "start_time": "2022-05-14T09:42:54.464Z"
   },
   {
    "duration": 35,
    "start_time": "2022-05-14T09:42:54.496Z"
   },
   {
    "duration": 1974,
    "start_time": "2022-05-14T09:42:54.533Z"
   },
   {
    "duration": 5,
    "start_time": "2022-05-14T09:42:56.510Z"
   },
   {
    "duration": 34,
    "start_time": "2022-05-14T09:42:56.518Z"
   },
   {
    "duration": 7,
    "start_time": "2022-05-14T09:42:56.555Z"
   },
   {
    "duration": 576,
    "start_time": "2022-05-14T09:42:56.564Z"
   },
   {
    "duration": 9,
    "start_time": "2022-05-14T09:42:57.143Z"
   },
   {
    "duration": 7,
    "start_time": "2022-05-14T09:42:57.154Z"
   },
   {
    "duration": 18,
    "start_time": "2022-05-14T09:42:57.163Z"
   },
   {
    "duration": 16,
    "start_time": "2022-05-14T09:42:57.184Z"
   },
   {
    "duration": 17,
    "start_time": "2022-05-14T09:42:57.203Z"
   },
   {
    "duration": 15512,
    "start_time": "2022-05-14T09:42:57.222Z"
   },
   {
    "duration": 16874,
    "start_time": "2022-05-14T09:43:12.736Z"
   },
   {
    "duration": 6,
    "start_time": "2022-05-14T09:43:29.612Z"
   },
   {
    "duration": 7,
    "start_time": "2022-05-14T09:43:29.620Z"
   },
   {
    "duration": 537360,
    "start_time": "2022-05-14T09:43:29.630Z"
   },
   {
    "duration": 562490,
    "start_time": "2022-05-14T09:52:26.992Z"
   },
   {
    "duration": 4,
    "start_time": "2022-05-14T10:01:49.484Z"
   },
   {
    "duration": 13,
    "start_time": "2022-05-14T10:01:49.490Z"
   },
   {
    "duration": 1953,
    "start_time": "2022-05-14T10:01:49.505Z"
   },
   {
    "duration": 2402,
    "start_time": "2022-05-14T10:01:51.551Z"
   },
   {
    "duration": 5,
    "start_time": "2022-05-14T10:01:53.956Z"
   },
   {
    "duration": 102,
    "start_time": "2022-05-14T10:01:53.964Z"
   },
   {
    "duration": 2831,
    "start_time": "2022-05-14T10:01:54.069Z"
   },
   {
    "duration": 3278,
    "start_time": "2022-05-14T10:01:56.902Z"
   },
   {
    "duration": 5,
    "start_time": "2022-05-14T10:02:00.182Z"
   },
   {
    "duration": 31,
    "start_time": "2022-05-14T10:02:00.189Z"
   },
   {
    "duration": 16,
    "start_time": "2022-05-14T10:02:00.222Z"
   },
   {
    "duration": 9,
    "start_time": "2022-05-14T10:02:00.240Z"
   },
   {
    "duration": 14,
    "start_time": "2022-05-14T10:02:00.251Z"
   },
   {
    "duration": 24,
    "start_time": "2022-05-14T10:02:00.268Z"
   },
   {
    "duration": 92,
    "start_time": "2022-05-14T10:02:00.298Z"
   },
   {
    "duration": 1866,
    "start_time": "2022-05-16T06:33:07.610Z"
   },
   {
    "duration": 691,
    "start_time": "2022-05-16T06:33:09.479Z"
   },
   {
    "duration": 25,
    "start_time": "2022-05-16T06:33:10.172Z"
   },
   {
    "duration": 31,
    "start_time": "2022-05-16T06:33:10.199Z"
   },
   {
    "duration": 132,
    "start_time": "2022-05-16T06:33:10.232Z"
   },
   {
    "duration": 20,
    "start_time": "2022-05-16T06:33:10.366Z"
   },
   {
    "duration": 16,
    "start_time": "2022-05-16T06:33:10.388Z"
   },
   {
    "duration": 26,
    "start_time": "2022-05-16T06:33:10.422Z"
   },
   {
    "duration": 21,
    "start_time": "2022-05-16T06:33:10.449Z"
   },
   {
    "duration": 19,
    "start_time": "2022-05-16T06:33:10.473Z"
   },
   {
    "duration": 113,
    "start_time": "2022-05-16T06:33:10.523Z"
   },
   {
    "duration": 3,
    "start_time": "2022-05-16T06:33:10.638Z"
   },
   {
    "duration": 11,
    "start_time": "2022-05-16T06:33:10.643Z"
   },
   {
    "duration": 5,
    "start_time": "2022-05-16T06:33:10.655Z"
   },
   {
    "duration": 11,
    "start_time": "2022-05-16T06:33:10.661Z"
   },
   {
    "duration": 6,
    "start_time": "2022-05-16T06:33:10.674Z"
   },
   {
    "duration": 121,
    "start_time": "2022-05-16T06:33:10.682Z"
   },
   {
    "duration": 6,
    "start_time": "2022-05-16T06:33:10.805Z"
   },
   {
    "duration": 23,
    "start_time": "2022-05-16T06:33:10.812Z"
   },
   {
    "duration": 13,
    "start_time": "2022-05-16T06:33:10.838Z"
   },
   {
    "duration": 18,
    "start_time": "2022-05-16T06:33:10.853Z"
   },
   {
    "duration": 6,
    "start_time": "2022-05-16T06:33:10.873Z"
   },
   {
    "duration": 1609,
    "start_time": "2022-05-16T06:33:10.881Z"
   },
   {
    "duration": 1514,
    "start_time": "2022-05-16T06:33:12.491Z"
   },
   {
    "duration": 1479,
    "start_time": "2022-05-16T06:33:14.007Z"
   },
   {
    "duration": 623,
    "start_time": "2022-05-16T06:33:15.488Z"
   },
   {
    "duration": 11,
    "start_time": "2022-05-16T06:33:16.113Z"
   },
   {
    "duration": 5,
    "start_time": "2022-05-16T06:33:16.127Z"
   },
   {
    "duration": 8,
    "start_time": "2022-05-16T06:33:16.133Z"
   },
   {
    "duration": 8,
    "start_time": "2022-05-16T06:33:16.142Z"
   },
   {
    "duration": 1566,
    "start_time": "2022-05-16T06:33:16.152Z"
   },
   {
    "duration": 3,
    "start_time": "2022-05-16T06:33:17.719Z"
   },
   {
    "duration": 10,
    "start_time": "2022-05-16T06:33:17.724Z"
   },
   {
    "duration": 4,
    "start_time": "2022-05-16T06:33:17.736Z"
   },
   {
    "duration": 288,
    "start_time": "2022-05-16T06:33:17.742Z"
   },
   {
    "duration": 3,
    "start_time": "2022-05-16T06:33:18.032Z"
   },
   {
    "duration": 4,
    "start_time": "2022-05-16T06:33:18.037Z"
   },
   {
    "duration": 6,
    "start_time": "2022-05-16T06:33:18.043Z"
   },
   {
    "duration": 8,
    "start_time": "2022-05-16T06:33:18.051Z"
   },
   {
    "duration": 6,
    "start_time": "2022-05-16T06:33:18.061Z"
   },
   {
    "duration": 12853,
    "start_time": "2022-05-16T06:33:18.069Z"
   },
   {
    "duration": 12302,
    "start_time": "2022-05-16T06:33:30.924Z"
   },
   {
    "duration": 3,
    "start_time": "2022-05-16T06:33:43.228Z"
   },
   {
    "duration": 6,
    "start_time": "2022-05-16T06:33:43.233Z"
   },
   {
    "duration": 441220,
    "start_time": "2022-05-16T06:33:43.241Z"
   },
   {
    "duration": 432220,
    "start_time": "2022-05-16T06:41:04.462Z"
   },
   {
    "duration": 4,
    "start_time": "2022-05-16T06:48:16.685Z"
   },
   {
    "duration": 39,
    "start_time": "2022-05-16T06:48:16.692Z"
   },
   {
    "duration": 1796,
    "start_time": "2022-05-16T06:48:16.732Z"
   },
   {
    "duration": 1894,
    "start_time": "2022-05-16T06:48:18.530Z"
   },
   {
    "duration": 96,
    "start_time": "2022-05-16T06:48:20.427Z"
   },
   {
    "duration": 12,
    "start_time": "2022-05-16T06:48:20.525Z"
   },
   {
    "duration": 2499,
    "start_time": "2022-05-16T06:48:20.539Z"
   },
   {
    "duration": 2941,
    "start_time": "2022-05-16T06:48:23.039Z"
   },
   {
    "duration": 3,
    "start_time": "2022-05-16T06:48:25.982Z"
   },
   {
    "duration": 4,
    "start_time": "2022-05-16T06:48:25.988Z"
   },
   {
    "duration": 4,
    "start_time": "2022-05-16T06:48:25.993Z"
   },
   {
    "duration": 6,
    "start_time": "2022-05-16T06:48:25.999Z"
   },
   {
    "duration": 4,
    "start_time": "2022-05-16T06:48:26.023Z"
   },
   {
    "duration": 6,
    "start_time": "2022-05-16T06:48:26.029Z"
   },
   {
    "duration": 3,
    "start_time": "2022-05-16T07:33:59.769Z"
   },
   {
    "duration": 154,
    "start_time": "2022-05-16T09:36:07.925Z"
   },
   {
    "duration": 51,
    "start_time": "2022-05-16T09:36:18.175Z"
   },
   {
    "duration": 32,
    "start_time": "2022-05-16T09:38:56.943Z"
   },
   {
    "duration": 31,
    "start_time": "2022-05-16T09:42:35.415Z"
   },
   {
    "duration": 20,
    "start_time": "2022-05-16T09:42:47.279Z"
   },
   {
    "duration": 19,
    "start_time": "2022-05-16T09:42:52.000Z"
   },
   {
    "duration": 19,
    "start_time": "2022-05-16T09:42:54.872Z"
   },
   {
    "duration": 19,
    "start_time": "2022-05-16T09:42:56.335Z"
   },
   {
    "duration": 12,
    "start_time": "2022-05-16T10:00:53.005Z"
   },
   {
    "duration": 5,
    "start_time": "2022-05-16T10:00:53.748Z"
   },
   {
    "duration": 12,
    "start_time": "2022-05-16T10:00:57.308Z"
   },
   {
    "duration": 11,
    "start_time": "2022-05-16T10:01:15.461Z"
   },
   {
    "duration": 23,
    "start_time": "2022-05-16T10:02:55.957Z"
   },
   {
    "duration": 21,
    "start_time": "2022-05-16T10:03:11.590Z"
   },
   {
    "duration": 20,
    "start_time": "2022-05-16T10:03:21.926Z"
   },
   {
    "duration": 11,
    "start_time": "2022-05-16T10:21:19.326Z"
   },
   {
    "duration": 4,
    "start_time": "2022-05-16T10:21:27.041Z"
   },
   {
    "duration": 687,
    "start_time": "2022-05-16T10:21:27.047Z"
   },
   {
    "duration": 20,
    "start_time": "2022-05-16T10:21:27.751Z"
   },
   {
    "duration": 21,
    "start_time": "2022-05-16T10:21:27.772Z"
   },
   {
    "duration": 137,
    "start_time": "2022-05-16T10:21:27.795Z"
   },
   {
    "duration": 24,
    "start_time": "2022-05-16T10:21:27.934Z"
   },
   {
    "duration": 12,
    "start_time": "2022-05-16T10:21:27.959Z"
   },
   {
    "duration": 32,
    "start_time": "2022-05-16T10:21:27.973Z"
   },
   {
    "duration": 20,
    "start_time": "2022-05-16T10:21:28.006Z"
   },
   {
    "duration": 38,
    "start_time": "2022-05-16T10:21:28.028Z"
   },
   {
    "duration": 100,
    "start_time": "2022-05-16T10:21:28.069Z"
   },
   {
    "duration": 3,
    "start_time": "2022-05-16T10:21:28.171Z"
   },
   {
    "duration": 9,
    "start_time": "2022-05-16T10:21:28.175Z"
   },
   {
    "duration": 3,
    "start_time": "2022-05-16T10:21:28.186Z"
   },
   {
    "duration": 10,
    "start_time": "2022-05-16T10:21:28.190Z"
   },
   {
    "duration": 4,
    "start_time": "2022-05-16T10:21:28.202Z"
   },
   {
    "duration": 104,
    "start_time": "2022-05-16T10:21:28.207Z"
   },
   {
    "duration": 4,
    "start_time": "2022-05-16T10:21:28.312Z"
   },
   {
    "duration": 18,
    "start_time": "2022-05-16T10:21:28.318Z"
   },
   {
    "duration": 20,
    "start_time": "2022-05-16T10:21:28.338Z"
   },
   {
    "duration": 20,
    "start_time": "2022-05-16T10:21:28.359Z"
   },
   {
    "duration": 7,
    "start_time": "2022-05-16T10:21:28.381Z"
   },
   {
    "duration": 1375,
    "start_time": "2022-05-16T10:21:28.390Z"
   },
   {
    "duration": 1926,
    "start_time": "2022-05-16T10:21:29.767Z"
   },
   {
    "duration": 1981,
    "start_time": "2022-05-16T10:21:31.695Z"
   },
   {
    "duration": 534,
    "start_time": "2022-05-16T10:21:33.678Z"
   },
   {
    "duration": 5,
    "start_time": "2022-05-16T10:21:34.213Z"
   },
   {
    "duration": 5,
    "start_time": "2022-05-16T10:21:34.220Z"
   },
   {
    "duration": 21,
    "start_time": "2022-05-16T10:21:34.229Z"
   },
   {
    "duration": 5,
    "start_time": "2022-05-16T10:21:34.252Z"
   },
   {
    "duration": 1695,
    "start_time": "2022-05-16T10:21:34.259Z"
   },
   {
    "duration": 26,
    "start_time": "2022-05-16T10:21:35.956Z"
   },
   {
    "duration": 28,
    "start_time": "2022-05-16T10:21:35.984Z"
   },
   {
    "duration": 42,
    "start_time": "2022-05-16T10:21:36.013Z"
   },
   {
    "duration": 20,
    "start_time": "2022-05-16T10:21:36.056Z"
   },
   {
    "duration": 3,
    "start_time": "2022-05-16T10:21:36.078Z"
   },
   {
    "duration": 10,
    "start_time": "2022-05-16T10:21:36.082Z"
   },
   {
    "duration": 12,
    "start_time": "2022-05-16T10:21:36.094Z"
   },
   {
    "duration": 286,
    "start_time": "2022-05-16T10:21:36.107Z"
   },
   {
    "duration": 3,
    "start_time": "2022-05-16T10:21:36.395Z"
   },
   {
    "duration": 5,
    "start_time": "2022-05-16T10:21:36.400Z"
   },
   {
    "duration": 8,
    "start_time": "2022-05-16T10:21:36.406Z"
   },
   {
    "duration": 8,
    "start_time": "2022-05-16T10:21:36.415Z"
   },
   {
    "duration": 5,
    "start_time": "2022-05-16T10:21:36.424Z"
   },
   {
    "duration": 13280,
    "start_time": "2022-05-16T10:21:36.430Z"
   },
   {
    "duration": 12777,
    "start_time": "2022-05-16T10:21:49.712Z"
   },
   {
    "duration": 3,
    "start_time": "2022-05-16T10:22:02.491Z"
   },
   {
    "duration": 28,
    "start_time": "2022-05-16T10:22:02.496Z"
   },
   {
    "duration": 438912,
    "start_time": "2022-05-16T10:22:02.525Z"
   },
   {
    "duration": 435259,
    "start_time": "2022-05-16T10:29:21.439Z"
   },
   {
    "duration": 4,
    "start_time": "2022-05-16T10:36:36.699Z"
   },
   {
    "duration": 6,
    "start_time": "2022-05-16T10:36:36.704Z"
   },
   {
    "duration": 1545,
    "start_time": "2022-05-16T10:36:36.711Z"
   },
   {
    "duration": 2199,
    "start_time": "2022-05-16T10:36:38.259Z"
   },
   {
    "duration": 4,
    "start_time": "2022-05-16T10:36:40.460Z"
   },
   {
    "duration": 20,
    "start_time": "2022-05-16T10:36:40.549Z"
   },
   {
    "duration": 0,
    "start_time": "2022-05-16T10:36:40.571Z"
   },
   {
    "duration": 0,
    "start_time": "2022-05-16T10:36:40.572Z"
   },
   {
    "duration": 0,
    "start_time": "2022-05-16T10:36:40.573Z"
   },
   {
    "duration": 0,
    "start_time": "2022-05-16T10:36:40.574Z"
   },
   {
    "duration": 0,
    "start_time": "2022-05-16T10:36:40.576Z"
   },
   {
    "duration": 0,
    "start_time": "2022-05-16T10:36:40.577Z"
   },
   {
    "duration": 0,
    "start_time": "2022-05-16T10:36:40.578Z"
   },
   {
    "duration": 0,
    "start_time": "2022-05-16T10:36:40.579Z"
   },
   {
    "duration": 2463,
    "start_time": "2022-05-16T10:40:06.213Z"
   },
   {
    "duration": 2874,
    "start_time": "2022-05-16T10:40:08.678Z"
   },
   {
    "duration": 4,
    "start_time": "2022-05-16T10:40:11.554Z"
   },
   {
    "duration": 13,
    "start_time": "2022-05-16T10:44:41.532Z"
   },
   {
    "duration": 4,
    "start_time": "2022-05-16T10:44:55.571Z"
   },
   {
    "duration": 12,
    "start_time": "2022-05-16T10:45:10.119Z"
   },
   {
    "duration": 12,
    "start_time": "2022-05-16T10:45:34.729Z"
   },
   {
    "duration": 5,
    "start_time": "2022-05-16T10:45:58.573Z"
   },
   {
    "duration": 7,
    "start_time": "2022-05-16T10:49:12.783Z"
   },
   {
    "duration": 17,
    "start_time": "2022-05-16T10:50:22.422Z"
   },
   {
    "duration": 11,
    "start_time": "2022-05-16T10:51:02.902Z"
   },
   {
    "duration": 11,
    "start_time": "2022-05-16T10:51:22.822Z"
   },
   {
    "duration": 10,
    "start_time": "2022-05-16T10:51:28.230Z"
   },
   {
    "duration": 30,
    "start_time": "2022-05-16T10:51:47.494Z"
   },
   {
    "duration": 1507,
    "start_time": "2022-05-17T07:19:50.012Z"
   },
   {
    "duration": 648,
    "start_time": "2022-05-17T07:19:51.521Z"
   },
   {
    "duration": 21,
    "start_time": "2022-05-17T07:19:52.170Z"
   },
   {
    "duration": 16,
    "start_time": "2022-05-17T07:19:52.193Z"
   },
   {
    "duration": 133,
    "start_time": "2022-05-17T07:19:52.210Z"
   },
   {
    "duration": 26,
    "start_time": "2022-05-17T07:19:52.345Z"
   },
   {
    "duration": 24,
    "start_time": "2022-05-17T07:19:52.372Z"
   },
   {
    "duration": 24,
    "start_time": "2022-05-17T07:19:52.398Z"
   },
   {
    "duration": 18,
    "start_time": "2022-05-17T07:19:52.423Z"
   },
   {
    "duration": 23,
    "start_time": "2022-05-17T07:19:52.443Z"
   },
   {
    "duration": 96,
    "start_time": "2022-05-17T07:19:52.468Z"
   },
   {
    "duration": 3,
    "start_time": "2022-05-17T07:19:52.565Z"
   },
   {
    "duration": 16,
    "start_time": "2022-05-17T07:19:52.569Z"
   },
   {
    "duration": 7,
    "start_time": "2022-05-17T07:19:52.586Z"
   },
   {
    "duration": 11,
    "start_time": "2022-05-17T07:19:52.594Z"
   },
   {
    "duration": 7,
    "start_time": "2022-05-17T07:19:52.606Z"
   },
   {
    "duration": 80,
    "start_time": "2022-05-17T07:19:52.614Z"
   },
   {
    "duration": 4,
    "start_time": "2022-05-17T07:19:52.695Z"
   },
   {
    "duration": 17,
    "start_time": "2022-05-17T07:19:52.700Z"
   },
   {
    "duration": 25,
    "start_time": "2022-05-17T07:19:52.718Z"
   },
   {
    "duration": 22,
    "start_time": "2022-05-17T07:19:52.744Z"
   },
   {
    "duration": 6,
    "start_time": "2022-05-17T07:19:52.767Z"
   },
   {
    "duration": 1383,
    "start_time": "2022-05-17T07:19:52.774Z"
   },
   {
    "duration": 1312,
    "start_time": "2022-05-17T07:19:54.159Z"
   },
   {
    "duration": 1400,
    "start_time": "2022-05-17T07:19:55.472Z"
   },
   {
    "duration": 638,
    "start_time": "2022-05-17T07:19:56.874Z"
   },
   {
    "duration": 4,
    "start_time": "2022-05-17T07:19:57.513Z"
   },
   {
    "duration": 6,
    "start_time": "2022-05-17T07:19:57.521Z"
   },
   {
    "duration": 5,
    "start_time": "2022-05-17T07:19:57.528Z"
   },
   {
    "duration": 5,
    "start_time": "2022-05-17T07:19:57.535Z"
   },
   {
    "duration": 1476,
    "start_time": "2022-05-17T07:19:57.541Z"
   },
   {
    "duration": 28,
    "start_time": "2022-05-17T07:19:59.018Z"
   },
   {
    "duration": 31,
    "start_time": "2022-05-17T07:19:59.047Z"
   },
   {
    "duration": 21,
    "start_time": "2022-05-17T07:19:59.080Z"
   },
   {
    "duration": 19,
    "start_time": "2022-05-17T07:19:59.102Z"
   },
   {
    "duration": 3,
    "start_time": "2022-05-17T07:19:59.122Z"
   },
   {
    "duration": 37,
    "start_time": "2022-05-17T07:19:59.127Z"
   },
   {
    "duration": 4,
    "start_time": "2022-05-17T07:19:59.165Z"
   },
   {
    "duration": 247,
    "start_time": "2022-05-17T07:19:59.170Z"
   },
   {
    "duration": 4,
    "start_time": "2022-05-17T07:19:59.418Z"
   },
   {
    "duration": 5,
    "start_time": "2022-05-17T07:19:59.423Z"
   },
   {
    "duration": 12,
    "start_time": "2022-05-17T07:19:59.429Z"
   },
   {
    "duration": 7,
    "start_time": "2022-05-17T07:19:59.443Z"
   },
   {
    "duration": 14,
    "start_time": "2022-05-17T07:19:59.451Z"
   },
   {
    "duration": 12022,
    "start_time": "2022-05-17T07:19:59.466Z"
   },
   {
    "duration": 11566,
    "start_time": "2022-05-17T07:20:11.489Z"
   },
   {
    "duration": 3,
    "start_time": "2022-05-17T07:20:23.064Z"
   },
   {
    "duration": 5,
    "start_time": "2022-05-17T07:20:23.069Z"
   },
   {
    "duration": 725929,
    "start_time": "2022-05-17T07:20:23.076Z"
   },
   {
    "duration": 822556,
    "start_time": "2022-05-17T07:32:29.063Z"
   },
   {
    "duration": 4,
    "start_time": "2022-05-17T07:46:11.620Z"
   },
   {
    "duration": 6,
    "start_time": "2022-05-17T07:46:11.625Z"
   },
   {
    "duration": 1636,
    "start_time": "2022-05-17T07:46:11.632Z"
   },
   {
    "duration": 1794,
    "start_time": "2022-05-17T07:46:13.270Z"
   },
   {
    "duration": 4,
    "start_time": "2022-05-17T07:46:15.066Z"
   },
   {
    "duration": 93,
    "start_time": "2022-05-17T07:46:15.072Z"
   },
   {
    "duration": 123,
    "start_time": "2022-05-17T07:46:15.167Z"
   },
   {
    "duration": 0,
    "start_time": "2022-05-17T07:46:15.291Z"
   },
   {
    "duration": 0,
    "start_time": "2022-05-17T07:46:15.292Z"
   },
   {
    "duration": 0,
    "start_time": "2022-05-17T07:46:15.293Z"
   },
   {
    "duration": 0,
    "start_time": "2022-05-17T07:46:15.294Z"
   },
   {
    "duration": 0,
    "start_time": "2022-05-17T07:46:15.295Z"
   },
   {
    "duration": 0,
    "start_time": "2022-05-17T07:46:15.295Z"
   },
   {
    "duration": 0,
    "start_time": "2022-05-17T07:46:15.296Z"
   },
   {
    "duration": 0,
    "start_time": "2022-05-17T07:46:15.297Z"
   },
   {
    "duration": 0,
    "start_time": "2022-05-17T07:46:15.298Z"
   },
   {
    "duration": 0,
    "start_time": "2022-05-17T07:46:15.298Z"
   },
   {
    "duration": 16,
    "start_time": "2022-05-17T09:37:06.812Z"
   },
   {
    "duration": 17,
    "start_time": "2022-05-17T09:39:50.954Z"
   },
   {
    "duration": 21,
    "start_time": "2022-05-17T09:41:59.358Z"
   },
   {
    "duration": 187,
    "start_time": "2022-05-17T09:43:32.826Z"
   },
   {
    "duration": 1693,
    "start_time": "2022-05-17T09:43:47.739Z"
   },
   {
    "duration": 1582,
    "start_time": "2022-05-17T09:44:03.831Z"
   },
   {
    "duration": 1695,
    "start_time": "2022-05-17T09:44:15.691Z"
   },
   {
    "duration": 972,
    "start_time": "2022-05-17T09:44:17.388Z"
   },
   {
    "duration": 35,
    "start_time": "2022-05-17T09:44:18.363Z"
   },
   {
    "duration": 24,
    "start_time": "2022-05-17T09:44:18.400Z"
   },
   {
    "duration": 176,
    "start_time": "2022-05-17T09:44:18.426Z"
   },
   {
    "duration": 19,
    "start_time": "2022-05-17T09:44:18.604Z"
   },
   {
    "duration": 14,
    "start_time": "2022-05-17T09:44:18.624Z"
   },
   {
    "duration": 40,
    "start_time": "2022-05-17T09:44:18.639Z"
   },
   {
    "duration": 19,
    "start_time": "2022-05-17T09:44:18.680Z"
   },
   {
    "duration": 17,
    "start_time": "2022-05-17T09:44:18.701Z"
   },
   {
    "duration": 111,
    "start_time": "2022-05-17T09:44:18.720Z"
   },
   {
    "duration": 3,
    "start_time": "2022-05-17T09:44:18.833Z"
   },
   {
    "duration": 11,
    "start_time": "2022-05-17T09:44:18.838Z"
   },
   {
    "duration": 13,
    "start_time": "2022-05-17T09:44:18.851Z"
   },
   {
    "duration": 8,
    "start_time": "2022-05-17T09:44:18.866Z"
   },
   {
    "duration": 7,
    "start_time": "2022-05-17T09:44:18.875Z"
   },
   {
    "duration": 91,
    "start_time": "2022-05-17T09:44:18.884Z"
   },
   {
    "duration": 5,
    "start_time": "2022-05-17T09:44:18.977Z"
   },
   {
    "duration": 12,
    "start_time": "2022-05-17T09:44:18.984Z"
   },
   {
    "duration": 15,
    "start_time": "2022-05-17T09:44:18.998Z"
   },
   {
    "duration": 16,
    "start_time": "2022-05-17T09:44:19.015Z"
   },
   {
    "duration": 31,
    "start_time": "2022-05-17T09:44:19.033Z"
   },
   {
    "duration": 1942,
    "start_time": "2022-05-17T09:44:19.066Z"
   },
   {
    "duration": 2280,
    "start_time": "2022-05-17T09:44:21.010Z"
   },
   {
    "duration": 2410,
    "start_time": "2022-05-17T09:44:23.292Z"
   },
   {
    "duration": 815,
    "start_time": "2022-05-17T09:44:25.703Z"
   },
   {
    "duration": 4,
    "start_time": "2022-05-17T09:44:26.520Z"
   },
   {
    "duration": 7,
    "start_time": "2022-05-17T09:44:26.527Z"
   },
   {
    "duration": 5,
    "start_time": "2022-05-17T09:44:26.536Z"
   },
   {
    "duration": 8,
    "start_time": "2022-05-17T09:44:26.542Z"
   },
   {
    "duration": 1480,
    "start_time": "2022-05-17T09:44:26.564Z"
   },
   {
    "duration": 37,
    "start_time": "2022-05-17T09:44:28.045Z"
   },
   {
    "duration": 23,
    "start_time": "2022-05-17T09:44:28.084Z"
   },
   {
    "duration": 21,
    "start_time": "2022-05-17T09:44:28.109Z"
   },
   {
    "duration": 43,
    "start_time": "2022-05-17T09:44:28.131Z"
   },
   {
    "duration": 4,
    "start_time": "2022-05-17T09:44:28.176Z"
   },
   {
    "duration": 10,
    "start_time": "2022-05-17T09:44:28.181Z"
   },
   {
    "duration": 8,
    "start_time": "2022-05-17T09:44:28.192Z"
   },
   {
    "duration": 288,
    "start_time": "2022-05-17T09:44:28.201Z"
   },
   {
    "duration": 3,
    "start_time": "2022-05-17T09:44:28.490Z"
   },
   {
    "duration": 6,
    "start_time": "2022-05-17T09:44:28.494Z"
   },
   {
    "duration": 7,
    "start_time": "2022-05-17T09:44:28.501Z"
   },
   {
    "duration": 9,
    "start_time": "2022-05-17T09:44:28.510Z"
   },
   {
    "duration": 8,
    "start_time": "2022-05-17T09:44:28.521Z"
   },
   {
    "duration": 11918,
    "start_time": "2022-05-17T09:44:28.530Z"
   },
   {
    "duration": 11855,
    "start_time": "2022-05-17T09:44:40.450Z"
   },
   {
    "duration": 4,
    "start_time": "2022-05-17T09:44:52.306Z"
   },
   {
    "duration": 9,
    "start_time": "2022-05-17T09:44:52.311Z"
   },
   {
    "duration": 476126,
    "start_time": "2022-05-17T09:44:52.322Z"
   },
   {
    "duration": 404955,
    "start_time": "2022-05-17T09:52:48.450Z"
   },
   {
    "duration": 3,
    "start_time": "2022-05-17T09:59:33.406Z"
   },
   {
    "duration": 5,
    "start_time": "2022-05-17T09:59:33.411Z"
   },
   {
    "duration": 1454,
    "start_time": "2022-05-17T09:59:33.417Z"
   },
   {
    "duration": 1901,
    "start_time": "2022-05-17T09:59:34.873Z"
   },
   {
    "duration": 4,
    "start_time": "2022-05-17T09:59:36.776Z"
   },
   {
    "duration": 99,
    "start_time": "2022-05-17T09:59:36.865Z"
   },
   {
    "duration": 1717,
    "start_time": "2022-05-17T09:59:36.966Z"
   },
   {
    "duration": 0,
    "start_time": "2022-05-17T09:59:38.685Z"
   },
   {
    "duration": 0,
    "start_time": "2022-05-17T09:59:38.687Z"
   },
   {
    "duration": 0,
    "start_time": "2022-05-17T09:59:38.688Z"
   },
   {
    "duration": 0,
    "start_time": "2022-05-17T09:59:38.689Z"
   },
   {
    "duration": 0,
    "start_time": "2022-05-17T09:59:38.690Z"
   },
   {
    "duration": 0,
    "start_time": "2022-05-17T09:59:38.691Z"
   },
   {
    "duration": 0,
    "start_time": "2022-05-17T09:59:38.692Z"
   },
   {
    "duration": 0,
    "start_time": "2022-05-17T09:59:38.693Z"
   },
   {
    "duration": 0,
    "start_time": "2022-05-17T09:59:38.695Z"
   },
   {
    "duration": 0,
    "start_time": "2022-05-17T09:59:38.696Z"
   },
   {
    "duration": 11,
    "start_time": "2022-05-17T10:01:48.333Z"
   },
   {
    "duration": 14,
    "start_time": "2022-05-17T10:03:07.154Z"
   },
   {
    "duration": 9,
    "start_time": "2022-05-17T10:03:40.262Z"
   },
   {
    "duration": 14,
    "start_time": "2022-05-17T10:04:01.870Z"
   },
   {
    "duration": 192,
    "start_time": "2022-05-17T10:04:22.366Z"
   },
   {
    "duration": 29,
    "start_time": "2022-05-17T10:04:46.105Z"
   },
   {
    "duration": 0,
    "start_time": "2022-05-17T10:04:46.136Z"
   },
   {
    "duration": 0,
    "start_time": "2022-05-17T10:04:46.138Z"
   },
   {
    "duration": 0,
    "start_time": "2022-05-17T10:04:46.139Z"
   },
   {
    "duration": 0,
    "start_time": "2022-05-17T10:04:46.140Z"
   },
   {
    "duration": 0,
    "start_time": "2022-05-17T10:04:46.142Z"
   },
   {
    "duration": 0,
    "start_time": "2022-05-17T10:04:46.143Z"
   },
   {
    "duration": 0,
    "start_time": "2022-05-17T10:04:46.145Z"
   },
   {
    "duration": 0,
    "start_time": "2022-05-17T10:04:46.147Z"
   },
   {
    "duration": 9,
    "start_time": "2022-05-17T10:04:46.149Z"
   },
   {
    "duration": 10,
    "start_time": "2022-05-17T10:05:24.177Z"
   },
   {
    "duration": 125,
    "start_time": "2022-05-17T10:05:59.670Z"
   },
   {
    "duration": 10,
    "start_time": "2022-05-17T10:06:01.009Z"
   },
   {
    "duration": 11,
    "start_time": "2022-05-17T10:06:35.477Z"
   },
   {
    "duration": 11,
    "start_time": "2022-05-17T10:06:48.298Z"
   },
   {
    "duration": 12,
    "start_time": "2022-05-17T10:07:01.706Z"
   },
   {
    "duration": 24,
    "start_time": "2022-05-17T10:07:09.145Z"
   },
   {
    "duration": 10,
    "start_time": "2022-05-17T10:07:33.396Z"
   },
   {
    "duration": 12,
    "start_time": "2022-05-17T10:10:09.089Z"
   },
   {
    "duration": 8,
    "start_time": "2022-05-17T10:10:44.053Z"
   },
   {
    "duration": 67,
    "start_time": "2022-05-17T10:10:54.078Z"
   },
   {
    "duration": 138,
    "start_time": "2022-05-17T10:11:00.789Z"
   },
   {
    "duration": 20,
    "start_time": "2022-05-17T10:11:11.116Z"
   },
   {
    "duration": 19,
    "start_time": "2022-05-17T10:11:22.797Z"
   },
   {
    "duration": 19,
    "start_time": "2022-05-17T10:11:29.849Z"
   },
   {
    "duration": 18,
    "start_time": "2022-05-17T10:11:42.408Z"
   },
   {
    "duration": 10,
    "start_time": "2022-05-17T10:27:02.278Z"
   },
   {
    "duration": 19,
    "start_time": "2022-05-17T10:30:31.778Z"
   },
   {
    "duration": 8,
    "start_time": "2022-05-17T10:30:32.287Z"
   },
   {
    "duration": 9,
    "start_time": "2022-05-17T10:30:40.294Z"
   },
   {
    "duration": 18,
    "start_time": "2022-05-17T10:31:06.085Z"
   },
   {
    "duration": 10,
    "start_time": "2022-05-17T10:31:23.439Z"
   },
   {
    "duration": 14,
    "start_time": "2022-05-17T10:31:35.266Z"
   },
   {
    "duration": 20,
    "start_time": "2022-05-17T10:31:45.023Z"
   },
   {
    "duration": 6,
    "start_time": "2022-05-17T10:32:20.422Z"
   },
   {
    "duration": 10,
    "start_time": "2022-05-17T10:32:23.770Z"
   },
   {
    "duration": 11,
    "start_time": "2022-05-17T10:46:39.773Z"
   },
   {
    "duration": 40,
    "start_time": "2022-05-17T10:47:24.367Z"
   },
   {
    "duration": 2920,
    "start_time": "2022-05-17T10:51:00.173Z"
   },
   {
    "duration": 1971,
    "start_time": "2022-05-17T10:51:03.095Z"
   },
   {
    "duration": 31,
    "start_time": "2022-05-17T10:51:05.068Z"
   },
   {
    "duration": 77,
    "start_time": "2022-05-17T10:51:05.102Z"
   },
   {
    "duration": 306,
    "start_time": "2022-05-17T10:51:05.181Z"
   },
   {
    "duration": 76,
    "start_time": "2022-05-17T10:51:05.489Z"
   },
   {
    "duration": 17,
    "start_time": "2022-05-17T10:51:05.567Z"
   },
   {
    "duration": 84,
    "start_time": "2022-05-17T10:51:05.586Z"
   },
   {
    "duration": 19,
    "start_time": "2022-05-17T10:51:05.672Z"
   },
   {
    "duration": 76,
    "start_time": "2022-05-17T10:51:05.694Z"
   },
   {
    "duration": 203,
    "start_time": "2022-05-17T10:51:05.772Z"
   },
   {
    "duration": 3,
    "start_time": "2022-05-17T10:51:05.976Z"
   },
   {
    "duration": 15,
    "start_time": "2022-05-17T10:51:05.980Z"
   },
   {
    "duration": 7,
    "start_time": "2022-05-17T10:51:05.996Z"
   },
   {
    "duration": 75,
    "start_time": "2022-05-17T10:51:06.005Z"
   },
   {
    "duration": 7,
    "start_time": "2022-05-17T10:51:06.082Z"
   },
   {
    "duration": 174,
    "start_time": "2022-05-17T10:51:06.090Z"
   },
   {
    "duration": 5,
    "start_time": "2022-05-17T10:51:06.266Z"
   },
   {
    "duration": 13,
    "start_time": "2022-05-17T10:51:06.273Z"
   },
   {
    "duration": 16,
    "start_time": "2022-05-17T10:51:06.288Z"
   },
   {
    "duration": 76,
    "start_time": "2022-05-17T10:51:06.305Z"
   },
   {
    "duration": 6,
    "start_time": "2022-05-17T10:51:06.383Z"
   },
   {
    "duration": 2110,
    "start_time": "2022-05-17T10:51:06.391Z"
   },
   {
    "duration": 2170,
    "start_time": "2022-05-17T10:51:08.503Z"
   },
   {
    "duration": 2306,
    "start_time": "2022-05-17T10:51:10.675Z"
   },
   {
    "duration": 1086,
    "start_time": "2022-05-17T10:51:12.982Z"
   },
   {
    "duration": 4,
    "start_time": "2022-05-17T10:51:14.070Z"
   },
   {
    "duration": 14,
    "start_time": "2022-05-17T10:51:14.078Z"
   },
   {
    "duration": 19,
    "start_time": "2022-05-17T10:51:14.093Z"
   },
   {
    "duration": 53,
    "start_time": "2022-05-17T10:51:14.113Z"
   },
   {
    "duration": 2124,
    "start_time": "2022-05-17T10:51:14.168Z"
   },
   {
    "duration": 82,
    "start_time": "2022-05-17T10:51:16.293Z"
   },
   {
    "duration": 24,
    "start_time": "2022-05-17T10:51:16.377Z"
   },
   {
    "duration": 80,
    "start_time": "2022-05-17T10:51:16.403Z"
   },
   {
    "duration": 18,
    "start_time": "2022-05-17T10:51:16.485Z"
   },
   {
    "duration": 59,
    "start_time": "2022-05-17T10:51:16.505Z"
   },
   {
    "duration": 10,
    "start_time": "2022-05-17T10:51:16.566Z"
   },
   {
    "duration": 4,
    "start_time": "2022-05-17T10:51:16.577Z"
   },
   {
    "duration": 711,
    "start_time": "2022-05-17T10:51:16.583Z"
   },
   {
    "duration": 3,
    "start_time": "2022-05-17T10:51:17.296Z"
   },
   {
    "duration": 63,
    "start_time": "2022-05-17T10:51:17.301Z"
   },
   {
    "duration": 3,
    "start_time": "2022-05-17T10:51:17.366Z"
   },
   {
    "duration": 10,
    "start_time": "2022-05-17T10:51:17.370Z"
   },
   {
    "duration": 5,
    "start_time": "2022-05-17T10:51:17.381Z"
   },
   {
    "duration": 26990,
    "start_time": "2022-05-17T10:51:17.388Z"
   },
   {
    "duration": 28119,
    "start_time": "2022-05-17T10:51:44.380Z"
   },
   {
    "duration": 3,
    "start_time": "2022-05-17T10:52:12.501Z"
   },
   {
    "duration": 62,
    "start_time": "2022-05-17T10:52:12.505Z"
   },
   {
    "duration": 8,
    "start_time": "2022-05-17T10:52:12.569Z"
   },
   {
    "duration": 1887,
    "start_time": "2022-05-17T10:52:12.578Z"
   },
   {
    "duration": 1596,
    "start_time": "2022-05-17T10:52:14.468Z"
   },
   {
    "duration": 4,
    "start_time": "2022-05-17T10:52:16.066Z"
   },
   {
    "duration": 24,
    "start_time": "2022-05-17T10:52:16.071Z"
   },
   {
    "duration": 276,
    "start_time": "2022-05-17T10:52:16.097Z"
   },
   {
    "duration": 0,
    "start_time": "2022-05-17T10:52:16.374Z"
   },
   {
    "duration": 0,
    "start_time": "2022-05-17T10:52:16.375Z"
   },
   {
    "duration": 0,
    "start_time": "2022-05-17T10:52:16.376Z"
   },
   {
    "duration": 0,
    "start_time": "2022-05-17T10:52:16.377Z"
   },
   {
    "duration": 0,
    "start_time": "2022-05-17T10:52:16.378Z"
   },
   {
    "duration": 0,
    "start_time": "2022-05-17T10:52:16.378Z"
   },
   {
    "duration": 0,
    "start_time": "2022-05-17T10:52:16.379Z"
   },
   {
    "duration": 0,
    "start_time": "2022-05-17T10:52:16.380Z"
   },
   {
    "duration": 0,
    "start_time": "2022-05-17T10:52:16.381Z"
   },
   {
    "duration": 0,
    "start_time": "2022-05-17T10:52:16.382Z"
   },
   {
    "duration": 74,
    "start_time": "2022-05-17T11:24:01.469Z"
   },
   {
    "duration": 2473,
    "start_time": "2022-05-17T11:24:10.231Z"
   },
   {
    "duration": 910,
    "start_time": "2022-05-17T11:24:12.707Z"
   },
   {
    "duration": 37,
    "start_time": "2022-05-17T11:24:13.619Z"
   },
   {
    "duration": 42,
    "start_time": "2022-05-17T11:24:13.659Z"
   },
   {
    "duration": 222,
    "start_time": "2022-05-17T11:24:13.703Z"
   },
   {
    "duration": 31,
    "start_time": "2022-05-17T11:24:13.928Z"
   },
   {
    "duration": 21,
    "start_time": "2022-05-17T11:24:13.979Z"
   },
   {
    "duration": 35,
    "start_time": "2022-05-17T11:24:14.002Z"
   },
   {
    "duration": 56,
    "start_time": "2022-05-17T11:24:14.040Z"
   },
   {
    "duration": 29,
    "start_time": "2022-05-17T11:24:14.100Z"
   },
   {
    "duration": 219,
    "start_time": "2022-05-17T11:24:14.131Z"
   },
   {
    "duration": 4,
    "start_time": "2022-05-17T11:24:14.352Z"
   },
   {
    "duration": 28,
    "start_time": "2022-05-17T11:24:14.358Z"
   },
   {
    "duration": 4,
    "start_time": "2022-05-17T11:24:14.389Z"
   },
   {
    "duration": 10,
    "start_time": "2022-05-17T11:24:14.395Z"
   },
   {
    "duration": 6,
    "start_time": "2022-05-17T11:24:14.407Z"
   },
   {
    "duration": 118,
    "start_time": "2022-05-17T11:24:14.415Z"
   },
   {
    "duration": 6,
    "start_time": "2022-05-17T11:24:14.535Z"
   },
   {
    "duration": 37,
    "start_time": "2022-05-17T11:24:14.543Z"
   },
   {
    "duration": 19,
    "start_time": "2022-05-17T11:24:14.582Z"
   },
   {
    "duration": 25,
    "start_time": "2022-05-17T11:24:14.604Z"
   },
   {
    "duration": 8,
    "start_time": "2022-05-17T11:24:14.631Z"
   },
   {
    "duration": 2072,
    "start_time": "2022-05-17T11:24:14.642Z"
   },
   {
    "duration": 2031,
    "start_time": "2022-05-17T11:24:16.716Z"
   },
   {
    "duration": 1971,
    "start_time": "2022-05-17T11:24:18.750Z"
   },
   {
    "duration": 934,
    "start_time": "2022-05-17T11:24:20.723Z"
   },
   {
    "duration": 6,
    "start_time": "2022-05-17T11:24:21.659Z"
   },
   {
    "duration": 6,
    "start_time": "2022-05-17T11:24:21.686Z"
   },
   {
    "duration": 13,
    "start_time": "2022-05-17T11:24:21.695Z"
   },
   {
    "duration": 9,
    "start_time": "2022-05-17T11:24:21.710Z"
   },
   {
    "duration": 2106,
    "start_time": "2022-05-17T11:24:21.721Z"
   },
   {
    "duration": 60,
    "start_time": "2022-05-17T11:24:23.829Z"
   },
   {
    "duration": 34,
    "start_time": "2022-05-17T11:24:23.892Z"
   },
   {
    "duration": 53,
    "start_time": "2022-05-17T11:24:23.928Z"
   },
   {
    "duration": 28,
    "start_time": "2022-05-17T11:24:23.983Z"
   },
   {
    "duration": 4,
    "start_time": "2022-05-17T11:24:24.013Z"
   },
   {
    "duration": 15,
    "start_time": "2022-05-17T11:24:24.019Z"
   },
   {
    "duration": 5,
    "start_time": "2022-05-17T11:24:24.037Z"
   },
   {
    "duration": 504,
    "start_time": "2022-05-17T11:24:24.044Z"
   },
   {
    "duration": 4,
    "start_time": "2022-05-17T11:24:24.550Z"
   },
   {
    "duration": 8,
    "start_time": "2022-05-17T11:24:24.556Z"
   },
   {
    "duration": 4,
    "start_time": "2022-05-17T11:24:24.580Z"
   },
   {
    "duration": 12,
    "start_time": "2022-05-17T11:24:24.586Z"
   },
   {
    "duration": 10,
    "start_time": "2022-05-17T11:24:24.601Z"
   },
   {
    "duration": 16306,
    "start_time": "2022-05-17T11:24:24.613Z"
   },
   {
    "duration": 17186,
    "start_time": "2022-05-17T11:24:40.921Z"
   },
   {
    "duration": 6,
    "start_time": "2022-05-17T11:24:58.110Z"
   },
   {
    "duration": 9,
    "start_time": "2022-05-17T11:24:58.119Z"
   },
   {
    "duration": 18,
    "start_time": "2022-05-17T11:24:58.130Z"
   },
   {
    "duration": 1636,
    "start_time": "2022-05-17T11:24:58.150Z"
   },
   {
    "duration": 2096,
    "start_time": "2022-05-17T11:24:59.789Z"
   },
   {
    "duration": 4,
    "start_time": "2022-05-17T11:25:01.888Z"
   },
   {
    "duration": 113,
    "start_time": "2022-05-17T11:25:01.894Z"
   },
   {
    "duration": 140,
    "start_time": "2022-05-17T11:25:02.009Z"
   },
   {
    "duration": 0,
    "start_time": "2022-05-17T11:25:02.153Z"
   },
   {
    "duration": 0,
    "start_time": "2022-05-17T11:25:02.154Z"
   },
   {
    "duration": 0,
    "start_time": "2022-05-17T11:25:02.157Z"
   },
   {
    "duration": 0,
    "start_time": "2022-05-17T11:25:02.159Z"
   },
   {
    "duration": 0,
    "start_time": "2022-05-17T11:25:02.180Z"
   },
   {
    "duration": 0,
    "start_time": "2022-05-17T11:25:02.183Z"
   },
   {
    "duration": 0,
    "start_time": "2022-05-17T11:25:02.185Z"
   },
   {
    "duration": 0,
    "start_time": "2022-05-17T11:25:02.187Z"
   },
   {
    "duration": 0,
    "start_time": "2022-05-17T11:25:02.189Z"
   },
   {
    "duration": 0,
    "start_time": "2022-05-17T11:25:02.191Z"
   },
   {
    "duration": 24,
    "start_time": "2022-05-17T11:25:58.419Z"
   },
   {
    "duration": 23,
    "start_time": "2022-05-17T11:26:06.740Z"
   },
   {
    "duration": 127,
    "start_time": "2022-05-17T11:30:20.477Z"
   },
   {
    "duration": 106,
    "start_time": "2022-05-17T11:30:40.413Z"
   },
   {
    "duration": 22,
    "start_time": "2022-05-17T11:30:44.621Z"
   },
   {
    "duration": 23,
    "start_time": "2022-05-17T11:30:55.053Z"
   },
   {
    "duration": 24,
    "start_time": "2022-05-17T11:31:17.021Z"
   },
   {
    "duration": 22,
    "start_time": "2022-05-17T11:31:26.469Z"
   },
   {
    "duration": 111,
    "start_time": "2022-05-17T11:40:26.311Z"
   },
   {
    "duration": 26,
    "start_time": "2022-05-17T11:40:34.255Z"
   },
   {
    "duration": 10,
    "start_time": "2022-05-17T11:40:46.295Z"
   },
   {
    "duration": 13,
    "start_time": "2022-05-17T11:40:48.222Z"
   },
   {
    "duration": 5,
    "start_time": "2022-05-17T11:42:03.791Z"
   },
   {
    "duration": 18403,
    "start_time": "2022-05-17T11:42:07.663Z"
   },
   {
    "duration": 22539,
    "start_time": "2022-05-17T11:42:26.069Z"
   },
   {
    "duration": 4,
    "start_time": "2022-05-17T11:42:48.610Z"
   },
   {
    "duration": 5,
    "start_time": "2022-05-17T11:43:52.167Z"
   },
   {
    "duration": 902,
    "start_time": "2022-05-17T11:43:52.178Z"
   },
   {
    "duration": 32,
    "start_time": "2022-05-17T11:43:53.083Z"
   },
   {
    "duration": 31,
    "start_time": "2022-05-17T11:43:53.117Z"
   },
   {
    "duration": 215,
    "start_time": "2022-05-17T11:43:53.151Z"
   },
   {
    "duration": 40,
    "start_time": "2022-05-17T11:43:53.369Z"
   },
   {
    "duration": 32,
    "start_time": "2022-05-17T11:43:53.411Z"
   },
   {
    "duration": 61,
    "start_time": "2022-05-17T11:43:53.446Z"
   },
   {
    "duration": 32,
    "start_time": "2022-05-17T11:43:53.510Z"
   },
   {
    "duration": 56,
    "start_time": "2022-05-17T11:43:53.545Z"
   },
   {
    "duration": 176,
    "start_time": "2022-05-17T11:43:53.607Z"
   },
   {
    "duration": 4,
    "start_time": "2022-05-17T11:43:53.785Z"
   },
   {
    "duration": 13,
    "start_time": "2022-05-17T11:43:53.791Z"
   },
   {
    "duration": 8,
    "start_time": "2022-05-17T11:43:53.807Z"
   },
   {
    "duration": 11,
    "start_time": "2022-05-17T11:43:53.818Z"
   },
   {
    "duration": 7,
    "start_time": "2022-05-17T11:43:53.832Z"
   },
   {
    "duration": 141,
    "start_time": "2022-05-17T11:43:53.841Z"
   },
   {
    "duration": 7,
    "start_time": "2022-05-17T11:43:53.984Z"
   },
   {
    "duration": 24,
    "start_time": "2022-05-17T11:43:53.993Z"
   },
   {
    "duration": 16,
    "start_time": "2022-05-17T11:43:54.019Z"
   },
   {
    "duration": 43,
    "start_time": "2022-05-17T11:43:54.037Z"
   },
   {
    "duration": 8,
    "start_time": "2022-05-17T11:43:54.082Z"
   },
   {
    "duration": 2014,
    "start_time": "2022-05-17T11:43:54.092Z"
   },
   {
    "duration": 2018,
    "start_time": "2022-05-17T11:43:56.108Z"
   },
   {
    "duration": 2085,
    "start_time": "2022-05-17T11:43:58.128Z"
   },
   {
    "duration": 838,
    "start_time": "2022-05-17T11:44:00.215Z"
   },
   {
    "duration": 5,
    "start_time": "2022-05-17T11:44:01.056Z"
   },
   {
    "duration": 19,
    "start_time": "2022-05-17T11:44:01.063Z"
   },
   {
    "duration": 9,
    "start_time": "2022-05-17T11:44:01.088Z"
   },
   {
    "duration": 14,
    "start_time": "2022-05-17T11:44:01.099Z"
   },
   {
    "duration": 1938,
    "start_time": "2022-05-17T11:44:01.115Z"
   },
   {
    "duration": 46,
    "start_time": "2022-05-17T11:44:03.055Z"
   },
   {
    "duration": 33,
    "start_time": "2022-05-17T11:44:03.103Z"
   },
   {
    "duration": 47,
    "start_time": "2022-05-17T11:44:03.138Z"
   },
   {
    "duration": 27,
    "start_time": "2022-05-17T11:44:03.187Z"
   },
   {
    "duration": 4,
    "start_time": "2022-05-17T11:44:03.216Z"
   },
   {
    "duration": 13,
    "start_time": "2022-05-17T11:44:03.222Z"
   },
   {
    "duration": 6,
    "start_time": "2022-05-17T11:44:03.237Z"
   },
   {
    "duration": 481,
    "start_time": "2022-05-17T11:44:03.245Z"
   },
   {
    "duration": 5,
    "start_time": "2022-05-17T11:44:03.727Z"
   },
   {
    "duration": 8,
    "start_time": "2022-05-17T11:44:03.734Z"
   },
   {
    "duration": 6,
    "start_time": "2022-05-17T11:44:03.744Z"
   },
   {
    "duration": 30,
    "start_time": "2022-05-17T11:44:03.752Z"
   },
   {
    "duration": 8,
    "start_time": "2022-05-17T11:44:03.785Z"
   },
   {
    "duration": 16140,
    "start_time": "2022-05-17T11:44:03.795Z"
   },
   {
    "duration": 16005,
    "start_time": "2022-05-17T11:44:19.937Z"
   },
   {
    "duration": 5,
    "start_time": "2022-05-17T11:44:35.944Z"
   },
   {
    "duration": 29,
    "start_time": "2022-05-17T11:44:35.951Z"
   },
   {
    "duration": 9,
    "start_time": "2022-05-17T11:44:35.982Z"
   },
   {
    "duration": 1887,
    "start_time": "2022-05-17T11:44:35.993Z"
   },
   {
    "duration": 1698,
    "start_time": "2022-05-17T11:44:37.882Z"
   },
   {
    "duration": 6,
    "start_time": "2022-05-17T11:44:39.583Z"
   },
   {
    "duration": 35,
    "start_time": "2022-05-17T11:44:39.681Z"
   },
   {
    "duration": 11,
    "start_time": "2022-05-17T11:44:39.719Z"
   },
   {
    "duration": 7,
    "start_time": "2022-05-17T11:44:39.732Z"
   },
   {
    "duration": 18908,
    "start_time": "2022-05-17T11:44:39.741Z"
   },
   {
    "duration": 21683,
    "start_time": "2022-05-17T11:44:58.652Z"
   },
   {
    "duration": 5,
    "start_time": "2022-05-17T11:45:20.337Z"
   },
   {
    "duration": 9,
    "start_time": "2022-05-17T11:45:20.344Z"
   },
   {
    "duration": 24,
    "start_time": "2022-05-17T11:45:20.356Z"
   },
   {
    "duration": 3,
    "start_time": "2022-05-17T11:45:20.383Z"
   },
   {
    "duration": 22,
    "start_time": "2022-05-17T11:45:20.388Z"
   },
   {
    "duration": 14,
    "start_time": "2022-05-17T11:45:20.413Z"
   },
   {
    "duration": 19,
    "start_time": "2022-05-17T11:45:20.429Z"
   },
   {
    "duration": 13,
    "start_time": "2022-05-17T11:45:20.450Z"
   },
   {
    "duration": 26,
    "start_time": "2022-05-17T11:53:07.667Z"
   },
   {
    "duration": 24,
    "start_time": "2022-05-17T11:53:22.281Z"
   },
   {
    "duration": 29,
    "start_time": "2022-05-17T11:54:42.153Z"
   },
   {
    "duration": 23,
    "start_time": "2022-05-17T11:55:00.595Z"
   },
   {
    "duration": 5,
    "start_time": "2022-05-17T11:55:12.226Z"
   },
   {
    "duration": 5,
    "start_time": "2022-05-17T11:55:15.921Z"
   },
   {
    "duration": 24,
    "start_time": "2022-05-17T11:55:19.521Z"
   },
   {
    "duration": 23,
    "start_time": "2022-05-17T11:55:27.227Z"
   },
   {
    "duration": 24,
    "start_time": "2022-05-17T11:55:33.942Z"
   },
   {
    "duration": 25,
    "start_time": "2022-05-17T11:56:37.059Z"
   },
   {
    "duration": 11,
    "start_time": "2022-05-17T12:01:24.529Z"
   },
   {
    "duration": 4,
    "start_time": "2022-05-17T12:01:25.377Z"
   },
   {
    "duration": 17963,
    "start_time": "2022-05-17T12:01:26.746Z"
   },
   {
    "duration": 22576,
    "start_time": "2022-05-17T12:01:44.711Z"
   },
   {
    "duration": 5,
    "start_time": "2022-05-17T12:02:07.290Z"
   },
   {
    "duration": 6,
    "start_time": "2022-05-17T12:02:34.274Z"
   },
   {
    "duration": 14,
    "start_time": "2022-05-17T12:02:34.914Z"
   },
   {
    "duration": 1235,
    "start_time": "2022-05-18T07:16:12.565Z"
   },
   {
    "duration": 628,
    "start_time": "2022-05-18T07:16:13.802Z"
   },
   {
    "duration": 25,
    "start_time": "2022-05-18T07:16:14.431Z"
   },
   {
    "duration": 20,
    "start_time": "2022-05-18T07:16:14.458Z"
   },
   {
    "duration": 134,
    "start_time": "2022-05-18T07:16:14.479Z"
   },
   {
    "duration": 20,
    "start_time": "2022-05-18T07:16:14.614Z"
   },
   {
    "duration": 13,
    "start_time": "2022-05-18T07:16:14.636Z"
   },
   {
    "duration": 20,
    "start_time": "2022-05-18T07:16:14.651Z"
   },
   {
    "duration": 44,
    "start_time": "2022-05-18T07:16:14.673Z"
   },
   {
    "duration": 18,
    "start_time": "2022-05-18T07:16:14.720Z"
   },
   {
    "duration": 104,
    "start_time": "2022-05-18T07:16:14.740Z"
   },
   {
    "duration": 2,
    "start_time": "2022-05-18T07:16:14.846Z"
   },
   {
    "duration": 10,
    "start_time": "2022-05-18T07:16:14.849Z"
   },
   {
    "duration": 4,
    "start_time": "2022-05-18T07:16:14.860Z"
   },
   {
    "duration": 11,
    "start_time": "2022-05-18T07:16:14.865Z"
   },
   {
    "duration": 10,
    "start_time": "2022-05-18T07:16:14.878Z"
   },
   {
    "duration": 88,
    "start_time": "2022-05-18T07:16:14.889Z"
   },
   {
    "duration": 4,
    "start_time": "2022-05-18T07:16:14.979Z"
   },
   {
    "duration": 18,
    "start_time": "2022-05-18T07:16:14.984Z"
   },
   {
    "duration": 43,
    "start_time": "2022-05-18T07:16:15.004Z"
   },
   {
    "duration": 21,
    "start_time": "2022-05-18T07:16:15.049Z"
   },
   {
    "duration": 6,
    "start_time": "2022-05-18T07:16:15.071Z"
   },
   {
    "duration": 1362,
    "start_time": "2022-05-18T07:16:15.079Z"
   },
   {
    "duration": 1448,
    "start_time": "2022-05-18T07:16:16.443Z"
   },
   {
    "duration": 1577,
    "start_time": "2022-05-18T07:16:17.893Z"
   },
   {
    "duration": 609,
    "start_time": "2022-05-18T07:16:19.471Z"
   },
   {
    "duration": 5,
    "start_time": "2022-05-18T07:16:20.082Z"
   },
   {
    "duration": 9,
    "start_time": "2022-05-18T07:16:20.090Z"
   },
   {
    "duration": 12,
    "start_time": "2022-05-18T07:16:20.101Z"
   },
   {
    "duration": 6,
    "start_time": "2022-05-18T07:16:20.114Z"
   },
   {
    "duration": 1688,
    "start_time": "2022-05-18T07:16:20.121Z"
   },
   {
    "duration": 31,
    "start_time": "2022-05-18T07:16:21.812Z"
   },
   {
    "duration": 23,
    "start_time": "2022-05-18T07:16:21.845Z"
   },
   {
    "duration": 21,
    "start_time": "2022-05-18T07:16:21.870Z"
   },
   {
    "duration": 19,
    "start_time": "2022-05-18T07:16:21.911Z"
   },
   {
    "duration": 15,
    "start_time": "2022-05-18T07:16:21.932Z"
   },
   {
    "duration": 50,
    "start_time": "2022-05-18T07:16:21.949Z"
   },
   {
    "duration": 29,
    "start_time": "2022-05-18T07:16:22.001Z"
   },
   {
    "duration": 393,
    "start_time": "2022-05-18T07:16:22.031Z"
   },
   {
    "duration": 3,
    "start_time": "2022-05-18T07:16:22.425Z"
   },
   {
    "duration": 6,
    "start_time": "2022-05-18T07:16:22.429Z"
   },
   {
    "duration": 7,
    "start_time": "2022-05-18T07:16:22.437Z"
   },
   {
    "duration": 8,
    "start_time": "2022-05-18T07:16:22.445Z"
   },
   {
    "duration": 6,
    "start_time": "2022-05-18T07:16:22.454Z"
   },
   {
    "duration": 12268,
    "start_time": "2022-05-18T07:16:22.462Z"
   },
   {
    "duration": 11948,
    "start_time": "2022-05-18T07:16:34.731Z"
   },
   {
    "duration": 3,
    "start_time": "2022-05-18T07:16:46.680Z"
   },
   {
    "duration": 13,
    "start_time": "2022-05-18T07:16:46.685Z"
   },
   {
    "duration": 20,
    "start_time": "2022-05-18T07:16:46.699Z"
   },
   {
    "duration": 1694,
    "start_time": "2022-05-18T07:16:46.722Z"
   },
   {
    "duration": 2095,
    "start_time": "2022-05-18T07:16:48.418Z"
   },
   {
    "duration": 3,
    "start_time": "2022-05-18T07:16:50.515Z"
   },
   {
    "duration": 62,
    "start_time": "2022-05-18T07:16:50.519Z"
   },
   {
    "duration": 23,
    "start_time": "2022-05-18T07:16:50.583Z"
   },
   {
    "duration": 47,
    "start_time": "2022-05-18T07:16:50.608Z"
   },
   {
    "duration": 13256,
    "start_time": "2022-05-18T07:16:50.657Z"
   },
   {
    "duration": 15940,
    "start_time": "2022-05-18T07:17:03.915Z"
   },
   {
    "duration": 3,
    "start_time": "2022-05-18T07:17:19.857Z"
   },
   {
    "duration": 35,
    "start_time": "2022-05-18T07:17:19.861Z"
   },
   {
    "duration": 25,
    "start_time": "2022-05-18T07:17:19.898Z"
   },
   {
    "duration": 45,
    "start_time": "2022-05-18T07:17:19.924Z"
   },
   {
    "duration": 25,
    "start_time": "2022-05-18T07:17:19.971Z"
   },
   {
    "duration": 43,
    "start_time": "2022-05-18T07:17:19.998Z"
   },
   {
    "duration": 41,
    "start_time": "2022-05-18T07:17:20.043Z"
   },
   {
    "duration": 43,
    "start_time": "2022-05-18T07:17:20.085Z"
   },
   {
    "duration": 1310,
    "start_time": "2022-05-18T08:06:05.922Z"
   },
   {
    "duration": 715,
    "start_time": "2022-05-18T08:06:07.234Z"
   },
   {
    "duration": 23,
    "start_time": "2022-05-18T08:06:07.951Z"
   },
   {
    "duration": 17,
    "start_time": "2022-05-18T08:06:07.976Z"
   },
   {
    "duration": 142,
    "start_time": "2022-05-18T08:06:07.994Z"
   },
   {
    "duration": 20,
    "start_time": "2022-05-18T08:06:08.138Z"
   },
   {
    "duration": 14,
    "start_time": "2022-05-18T08:06:08.160Z"
   },
   {
    "duration": 46,
    "start_time": "2022-05-18T08:06:08.176Z"
   },
   {
    "duration": 20,
    "start_time": "2022-05-18T08:06:08.224Z"
   },
   {
    "duration": 18,
    "start_time": "2022-05-18T08:06:08.248Z"
   },
   {
    "duration": 114,
    "start_time": "2022-05-18T08:06:08.268Z"
   },
   {
    "duration": 4,
    "start_time": "2022-05-18T08:06:08.384Z"
   },
   {
    "duration": 36,
    "start_time": "2022-05-18T08:06:08.389Z"
   },
   {
    "duration": 4,
    "start_time": "2022-05-18T08:06:08.427Z"
   },
   {
    "duration": 7,
    "start_time": "2022-05-18T08:06:08.433Z"
   },
   {
    "duration": 5,
    "start_time": "2022-05-18T08:06:08.442Z"
   },
   {
    "duration": 89,
    "start_time": "2022-05-18T08:06:08.448Z"
   },
   {
    "duration": 5,
    "start_time": "2022-05-18T08:06:08.539Z"
   },
   {
    "duration": 14,
    "start_time": "2022-05-18T08:06:08.545Z"
   },
   {
    "duration": 17,
    "start_time": "2022-05-18T08:06:08.561Z"
   },
   {
    "duration": 41,
    "start_time": "2022-05-18T08:06:08.579Z"
   },
   {
    "duration": 6,
    "start_time": "2022-05-18T08:06:08.626Z"
   },
   {
    "duration": 1406,
    "start_time": "2022-05-18T08:06:08.634Z"
   },
   {
    "duration": 1540,
    "start_time": "2022-05-18T08:06:10.041Z"
   },
   {
    "duration": 1480,
    "start_time": "2022-05-18T08:06:11.584Z"
   },
   {
    "duration": 656,
    "start_time": "2022-05-18T08:06:13.065Z"
   },
   {
    "duration": 9,
    "start_time": "2022-05-18T08:06:13.723Z"
   },
   {
    "duration": 5,
    "start_time": "2022-05-18T08:06:13.735Z"
   },
   {
    "duration": 6,
    "start_time": "2022-05-18T08:06:13.741Z"
   },
   {
    "duration": 6,
    "start_time": "2022-05-18T08:06:13.749Z"
   },
   {
    "duration": 1573,
    "start_time": "2022-05-18T08:06:13.757Z"
   },
   {
    "duration": 34,
    "start_time": "2022-05-18T08:06:15.331Z"
   },
   {
    "duration": 24,
    "start_time": "2022-05-18T08:06:15.367Z"
   },
   {
    "duration": 42,
    "start_time": "2022-05-18T08:06:15.393Z"
   },
   {
    "duration": 19,
    "start_time": "2022-05-18T08:06:15.437Z"
   },
   {
    "duration": 3,
    "start_time": "2022-05-18T08:06:15.458Z"
   },
   {
    "duration": 19,
    "start_time": "2022-05-18T08:06:15.463Z"
   },
   {
    "duration": 7,
    "start_time": "2022-05-18T08:06:15.484Z"
   },
   {
    "duration": 377,
    "start_time": "2022-05-18T08:06:15.493Z"
   },
   {
    "duration": 3,
    "start_time": "2022-05-18T08:06:15.872Z"
   },
   {
    "duration": 6,
    "start_time": "2022-05-18T08:06:15.876Z"
   },
   {
    "duration": 8,
    "start_time": "2022-05-18T08:06:15.883Z"
   },
   {
    "duration": 9,
    "start_time": "2022-05-18T08:06:15.893Z"
   },
   {
    "duration": 13,
    "start_time": "2022-05-18T08:06:15.913Z"
   },
   {
    "duration": 12368,
    "start_time": "2022-05-18T08:06:15.928Z"
   },
   {
    "duration": 12448,
    "start_time": "2022-05-18T08:06:28.298Z"
   },
   {
    "duration": 4,
    "start_time": "2022-05-18T08:06:40.747Z"
   },
   {
    "duration": 6,
    "start_time": "2022-05-18T08:06:40.752Z"
   },
   {
    "duration": 7,
    "start_time": "2022-05-18T08:06:40.760Z"
   },
   {
    "duration": 2051,
    "start_time": "2022-05-18T08:06:40.769Z"
   },
   {
    "duration": 3094,
    "start_time": "2022-05-18T08:06:42.823Z"
   },
   {
    "duration": 10,
    "start_time": "2022-05-18T08:06:45.919Z"
   },
   {
    "duration": 105,
    "start_time": "2022-05-18T08:06:45.939Z"
   },
   {
    "duration": 8,
    "start_time": "2022-05-18T08:06:46.045Z"
   },
   {
    "duration": 7,
    "start_time": "2022-05-18T08:06:46.055Z"
   },
   {
    "duration": 13763,
    "start_time": "2022-05-18T08:06:46.063Z"
   },
   {
    "duration": 21220,
    "start_time": "2022-05-18T08:06:59.828Z"
   },
   {
    "duration": 4,
    "start_time": "2022-05-18T08:07:21.049Z"
   },
   {
    "duration": 13,
    "start_time": "2022-05-18T08:07:21.054Z"
   },
   {
    "duration": 6,
    "start_time": "2022-05-18T08:07:21.068Z"
   },
   {
    "duration": 6,
    "start_time": "2022-05-18T08:07:21.076Z"
   },
   {
    "duration": 8,
    "start_time": "2022-05-18T08:07:21.084Z"
   },
   {
    "duration": 34,
    "start_time": "2022-05-18T08:07:21.094Z"
   },
   {
    "duration": 29,
    "start_time": "2022-05-18T08:07:21.130Z"
   },
   {
    "duration": 21,
    "start_time": "2022-05-18T08:07:21.160Z"
   },
   {
    "duration": 482,
    "start_time": "2022-05-18T08:44:26.144Z"
   },
   {
    "duration": 4,
    "start_time": "2022-05-18T08:44:35.014Z"
   },
   {
    "duration": 5,
    "start_time": "2022-05-18T08:44:48.960Z"
   },
   {
    "duration": 15,
    "start_time": "2022-05-18T08:52:03.297Z"
   },
   {
    "duration": 6,
    "start_time": "2022-05-18T08:52:18.425Z"
   },
   {
    "duration": 5,
    "start_time": "2022-05-18T08:52:43.173Z"
   },
   {
    "duration": 5,
    "start_time": "2022-05-18T08:52:43.474Z"
   },
   {
    "duration": 2301,
    "start_time": "2022-05-18T08:53:24.411Z"
   },
   {
    "duration": 2098,
    "start_time": "2022-05-18T08:53:26.726Z"
   },
   {
    "duration": 94,
    "start_time": "2022-05-18T08:53:28.828Z"
   },
   {
    "duration": 93,
    "start_time": "2022-05-18T08:53:28.924Z"
   },
   {
    "duration": 403,
    "start_time": "2022-05-18T08:53:29.019Z"
   },
   {
    "duration": 90,
    "start_time": "2022-05-18T08:53:29.423Z"
   },
   {
    "duration": 16,
    "start_time": "2022-05-18T08:53:29.515Z"
   },
   {
    "duration": 85,
    "start_time": "2022-05-18T08:53:29.533Z"
   },
   {
    "duration": 93,
    "start_time": "2022-05-18T08:53:29.620Z"
   },
   {
    "duration": 26,
    "start_time": "2022-05-18T08:53:29.717Z"
   },
   {
    "duration": 211,
    "start_time": "2022-05-18T08:53:29.745Z"
   },
   {
    "duration": 56,
    "start_time": "2022-05-18T08:53:29.958Z"
   },
   {
    "duration": 13,
    "start_time": "2022-05-18T08:53:30.016Z"
   },
   {
    "duration": 8,
    "start_time": "2022-05-18T08:53:30.031Z"
   },
   {
    "duration": 72,
    "start_time": "2022-05-18T08:53:30.042Z"
   },
   {
    "duration": 4,
    "start_time": "2022-05-18T08:53:30.116Z"
   },
   {
    "duration": 208,
    "start_time": "2022-05-18T08:53:30.122Z"
   },
   {
    "duration": 8,
    "start_time": "2022-05-18T08:53:30.333Z"
   },
   {
    "duration": 86,
    "start_time": "2022-05-18T08:53:30.343Z"
   },
   {
    "duration": 15,
    "start_time": "2022-05-18T08:53:30.431Z"
   },
   {
    "duration": 83,
    "start_time": "2022-05-18T08:53:30.449Z"
   },
   {
    "duration": 9,
    "start_time": "2022-05-18T08:53:30.535Z"
   },
   {
    "duration": 2376,
    "start_time": "2022-05-18T08:53:30.547Z"
   },
   {
    "duration": 2504,
    "start_time": "2022-05-18T08:53:32.926Z"
   },
   {
    "duration": 2321,
    "start_time": "2022-05-18T08:53:35.432Z"
   },
   {
    "duration": 1089,
    "start_time": "2022-05-18T08:53:37.755Z"
   },
   {
    "duration": 5,
    "start_time": "2022-05-18T08:53:38.846Z"
   },
   {
    "duration": 61,
    "start_time": "2022-05-18T08:53:38.856Z"
   },
   {
    "duration": 33,
    "start_time": "2022-05-18T08:53:38.918Z"
   },
   {
    "duration": 59,
    "start_time": "2022-05-18T08:53:38.954Z"
   },
   {
    "duration": 2314,
    "start_time": "2022-05-18T08:53:39.015Z"
   },
   {
    "duration": 93,
    "start_time": "2022-05-18T08:53:41.331Z"
   },
   {
    "duration": 87,
    "start_time": "2022-05-18T08:53:41.426Z"
   },
   {
    "duration": 24,
    "start_time": "2022-05-18T08:53:41.516Z"
   },
   {
    "duration": 81,
    "start_time": "2022-05-18T08:53:41.542Z"
   },
   {
    "duration": 4,
    "start_time": "2022-05-18T08:53:41.625Z"
   },
   {
    "duration": 20,
    "start_time": "2022-05-18T08:53:41.631Z"
   },
   {
    "duration": 97,
    "start_time": "2022-05-18T08:53:41.653Z"
   },
   {
    "duration": 892,
    "start_time": "2022-05-18T08:53:41.751Z"
   },
   {
    "duration": 4,
    "start_time": "2022-05-18T08:53:42.645Z"
   },
   {
    "duration": 68,
    "start_time": "2022-05-18T08:53:42.651Z"
   },
   {
    "duration": 16,
    "start_time": "2022-05-18T08:53:42.721Z"
   },
   {
    "duration": 13,
    "start_time": "2022-05-18T08:53:42.740Z"
   },
   {
    "duration": 60,
    "start_time": "2022-05-18T08:53:42.755Z"
   },
   {
    "duration": 24498,
    "start_time": "2022-05-18T08:53:42.818Z"
   },
   {
    "duration": 23932,
    "start_time": "2022-05-18T08:54:07.319Z"
   },
   {
    "duration": 4,
    "start_time": "2022-05-18T08:54:31.313Z"
   },
   {
    "duration": 8,
    "start_time": "2022-05-18T08:54:31.319Z"
   },
   {
    "duration": 10,
    "start_time": "2022-05-18T08:54:31.329Z"
   },
   {
    "duration": 2271,
    "start_time": "2022-05-18T08:54:31.341Z"
   },
   {
    "duration": 2398,
    "start_time": "2022-05-18T08:54:33.615Z"
   },
   {
    "duration": 5,
    "start_time": "2022-05-18T08:54:36.015Z"
   },
   {
    "duration": 136,
    "start_time": "2022-05-18T08:54:36.021Z"
   },
   {
    "duration": 54,
    "start_time": "2022-05-18T08:54:36.159Z"
   },
   {
    "duration": 10,
    "start_time": "2022-05-18T08:54:36.216Z"
   },
   {
    "duration": 8,
    "start_time": "2022-05-18T08:54:36.228Z"
   },
   {
    "duration": 7,
    "start_time": "2022-05-18T08:54:36.237Z"
   },
   {
    "duration": 27070,
    "start_time": "2022-05-18T08:54:36.246Z"
   },
   {
    "duration": 32917,
    "start_time": "2022-05-18T08:55:03.318Z"
   },
   {
    "duration": 3,
    "start_time": "2022-05-18T08:55:36.237Z"
   },
   {
    "duration": 34,
    "start_time": "2022-05-18T08:55:36.242Z"
   },
   {
    "duration": 8,
    "start_time": "2022-05-18T08:55:36.313Z"
   },
   {
    "duration": 15,
    "start_time": "2022-05-18T08:55:36.323Z"
   },
   {
    "duration": 16,
    "start_time": "2022-05-18T08:55:36.341Z"
   },
   {
    "duration": 5,
    "start_time": "2022-05-18T08:55:36.359Z"
   },
   {
    "duration": 6,
    "start_time": "2022-05-18T08:55:36.412Z"
   },
   {
    "duration": 18,
    "start_time": "2022-05-18T08:55:36.420Z"
   },
   {
    "duration": 11,
    "start_time": "2022-05-18T09:06:08.015Z"
   },
   {
    "duration": 8,
    "start_time": "2022-05-18T09:06:32.016Z"
   },
   {
    "duration": 4788,
    "start_time": "2022-05-18T09:06:32.026Z"
   },
   {
    "duration": 112,
    "start_time": "2022-05-18T09:06:36.815Z"
   },
   {
    "duration": 203,
    "start_time": "2022-05-18T09:06:36.932Z"
   },
   {
    "duration": 818,
    "start_time": "2022-05-18T09:06:37.215Z"
   },
   {
    "duration": 178,
    "start_time": "2022-05-18T09:06:38.035Z"
   },
   {
    "duration": 19,
    "start_time": "2022-05-18T09:06:38.219Z"
   },
   {
    "duration": 394,
    "start_time": "2022-05-18T09:06:38.321Z"
   },
   {
    "duration": 203,
    "start_time": "2022-05-18T09:06:38.716Z"
   },
   {
    "duration": 203,
    "start_time": "2022-05-18T09:06:38.924Z"
   },
   {
    "duration": 599,
    "start_time": "2022-05-18T09:06:39.214Z"
   },
   {
    "duration": 3,
    "start_time": "2022-05-18T09:06:39.815Z"
   },
   {
    "duration": 394,
    "start_time": "2022-05-18T09:06:39.823Z"
   },
   {
    "duration": 211,
    "start_time": "2022-05-18T09:06:40.221Z"
   },
   {
    "duration": 86,
    "start_time": "2022-05-18T09:06:40.433Z"
   },
   {
    "duration": 188,
    "start_time": "2022-05-18T09:06:40.524Z"
   },
   {
    "duration": 412,
    "start_time": "2022-05-18T09:06:40.714Z"
   },
   {
    "duration": 90,
    "start_time": "2022-05-18T09:06:41.128Z"
   },
   {
    "duration": 105,
    "start_time": "2022-05-18T09:06:41.224Z"
   },
   {
    "duration": 89,
    "start_time": "2022-05-18T09:06:41.334Z"
   },
   {
    "duration": 187,
    "start_time": "2022-05-18T09:06:41.428Z"
   },
   {
    "duration": 96,
    "start_time": "2022-05-18T09:06:41.619Z"
   },
   {
    "duration": 4720,
    "start_time": "2022-05-18T09:06:41.719Z"
   },
   {
    "duration": 5301,
    "start_time": "2022-05-18T09:06:46.524Z"
   },
   {
    "duration": 5399,
    "start_time": "2022-05-18T09:06:51.915Z"
   },
   {
    "duration": 3696,
    "start_time": "2022-05-18T09:06:57.319Z"
   },
   {
    "duration": 93,
    "start_time": "2022-05-18T09:07:01.018Z"
   },
   {
    "duration": 103,
    "start_time": "2022-05-18T09:07:01.113Z"
   },
   {
    "duration": 96,
    "start_time": "2022-05-18T09:07:01.219Z"
   },
   {
    "duration": 396,
    "start_time": "2022-05-18T09:07:01.317Z"
   },
   {
    "duration": 6468,
    "start_time": "2022-05-18T09:07:01.755Z"
   },
   {
    "duration": 190,
    "start_time": "2022-05-18T09:07:08.226Z"
   },
   {
    "duration": 401,
    "start_time": "2022-05-18T09:07:08.419Z"
   },
   {
    "duration": 197,
    "start_time": "2022-05-18T09:07:08.822Z"
   },
   {
    "duration": 101,
    "start_time": "2022-05-18T09:07:09.021Z"
   },
   {
    "duration": 102,
    "start_time": "2022-05-18T09:07:09.212Z"
   },
   {
    "duration": 302,
    "start_time": "2022-05-18T09:07:09.315Z"
   },
   {
    "duration": 96,
    "start_time": "2022-05-18T09:07:09.619Z"
   },
   {
    "duration": 3302,
    "start_time": "2022-05-18T09:07:09.717Z"
   },
   {
    "duration": 3,
    "start_time": "2022-05-18T09:07:13.021Z"
   },
   {
    "duration": 5,
    "start_time": "2022-05-18T09:07:13.112Z"
   },
   {
    "duration": 189,
    "start_time": "2022-05-18T09:07:13.125Z"
   },
   {
    "duration": 300,
    "start_time": "2022-05-18T09:07:13.315Z"
   },
   {
    "duration": 298,
    "start_time": "2022-05-18T09:07:13.617Z"
   },
   {
    "duration": 61802,
    "start_time": "2022-05-18T09:08:49.135Z"
   },
   {
    "duration": 62086,
    "start_time": "2022-05-18T09:09:50.940Z"
   },
   {
    "duration": 11,
    "start_time": "2022-05-18T09:10:53.029Z"
   },
   {
    "duration": 99,
    "start_time": "2022-05-18T09:10:53.117Z"
   },
   {
    "duration": 402,
    "start_time": "2022-05-18T09:10:53.217Z"
   },
   {
    "duration": 6494,
    "start_time": "2022-05-18T09:10:53.620Z"
   },
   {
    "duration": 5201,
    "start_time": "2022-05-18T09:11:00.116Z"
   },
   {
    "duration": 87,
    "start_time": "2022-05-18T09:11:05.328Z"
   },
   {
    "duration": 9,
    "start_time": "2022-05-18T09:11:05.425Z"
   },
   {
    "duration": 5,
    "start_time": "2022-05-18T09:25:39.212Z"
   },
   {
    "duration": 9,
    "start_time": "2022-05-18T09:45:58.119Z"
   },
   {
    "duration": 5280,
    "start_time": "2022-05-18T09:45:58.134Z"
   },
   {
    "duration": 129,
    "start_time": "2022-05-18T09:46:03.416Z"
   },
   {
    "duration": 207,
    "start_time": "2022-05-18T09:46:03.612Z"
   },
   {
    "duration": 885,
    "start_time": "2022-05-18T09:46:03.835Z"
   },
   {
    "duration": 104,
    "start_time": "2022-05-18T09:46:04.726Z"
   },
   {
    "duration": 26,
    "start_time": "2022-05-18T09:46:04.911Z"
   },
   {
    "duration": 100,
    "start_time": "2022-05-18T09:46:05.011Z"
   },
   {
    "duration": 225,
    "start_time": "2022-05-18T09:46:05.121Z"
   },
   {
    "duration": 264,
    "start_time": "2022-05-18T09:46:05.349Z"
   },
   {
    "duration": 809,
    "start_time": "2022-05-18T09:46:05.614Z"
   },
   {
    "duration": 4,
    "start_time": "2022-05-18T09:46:06.427Z"
   },
   {
    "duration": 280,
    "start_time": "2022-05-18T09:46:06.435Z"
   },
   {
    "duration": 286,
    "start_time": "2022-05-18T09:46:06.732Z"
   },
   {
    "duration": 201,
    "start_time": "2022-05-18T09:46:07.030Z"
   },
   {
    "duration": 282,
    "start_time": "2022-05-18T09:46:07.233Z"
   },
   {
    "duration": 529,
    "start_time": "2022-05-18T09:46:07.517Z"
   },
   {
    "duration": 8,
    "start_time": "2022-05-18T09:46:08.113Z"
   },
   {
    "duration": 123,
    "start_time": "2022-05-18T09:46:08.123Z"
   },
   {
    "duration": 124,
    "start_time": "2022-05-18T09:46:08.311Z"
   },
   {
    "duration": 170,
    "start_time": "2022-05-18T09:46:08.444Z"
   },
   {
    "duration": 294,
    "start_time": "2022-05-18T09:46:08.619Z"
   },
   {
    "duration": 5512,
    "start_time": "2022-05-18T09:46:08.919Z"
   },
   {
    "duration": 6086,
    "start_time": "2022-05-18T09:46:14.438Z"
   },
   {
    "duration": 5485,
    "start_time": "2022-05-18T09:46:20.527Z"
   },
   {
    "duration": 2998,
    "start_time": "2022-05-18T09:46:26.018Z"
   },
   {
    "duration": 16,
    "start_time": "2022-05-18T09:46:29.025Z"
   },
   {
    "duration": 78,
    "start_time": "2022-05-18T09:46:29.043Z"
   },
   {
    "duration": 90,
    "start_time": "2022-05-18T09:46:29.125Z"
   },
   {
    "duration": 90,
    "start_time": "2022-05-18T09:46:29.226Z"
   },
   {
    "duration": 6195,
    "start_time": "2022-05-18T09:46:29.319Z"
   },
   {
    "duration": 5,
    "start_time": "2022-05-18T09:46:35.518Z"
   },
   {
    "duration": 6,
    "start_time": "2022-05-18T09:46:44.020Z"
   },
   {
    "duration": 19,
    "start_time": "2022-05-18T09:46:44.313Z"
   },
   {
    "duration": 15,
    "start_time": "2022-05-18T09:46:53.204Z"
   },
   {
    "duration": 14,
    "start_time": "2022-05-18T09:47:06.626Z"
   },
   {
    "duration": 198,
    "start_time": "2022-05-18T09:48:09.915Z"
   },
   {
    "duration": 209,
    "start_time": "2022-05-18T09:48:10.119Z"
   },
   {
    "duration": 96,
    "start_time": "2022-05-18T09:48:10.330Z"
   },
   {
    "duration": 105,
    "start_time": "2022-05-18T09:48:10.513Z"
   },
   {
    "duration": 289,
    "start_time": "2022-05-18T09:48:10.625Z"
   },
   {
    "duration": 202,
    "start_time": "2022-05-18T09:48:10.915Z"
   },
   {
    "duration": 97,
    "start_time": "2022-05-18T09:48:11.119Z"
   },
   {
    "duration": 2700,
    "start_time": "2022-05-18T09:48:11.217Z"
   },
   {
    "duration": 88,
    "start_time": "2022-05-18T09:48:13.924Z"
   },
   {
    "duration": 94,
    "start_time": "2022-05-18T09:48:14.020Z"
   },
   {
    "duration": 198,
    "start_time": "2022-05-18T09:48:14.116Z"
   },
   {
    "duration": 299,
    "start_time": "2022-05-18T09:48:14.315Z"
   },
   {
    "duration": 193,
    "start_time": "2022-05-18T09:48:14.619Z"
   },
   {
    "duration": 82608,
    "start_time": "2022-05-18T09:48:14.818Z"
   },
   {
    "duration": 80993,
    "start_time": "2022-05-18T09:49:37.432Z"
   },
   {
    "duration": 89,
    "start_time": "2022-05-18T09:50:58.429Z"
   },
   {
    "duration": 391,
    "start_time": "2022-05-18T09:50:58.523Z"
   },
   {
    "duration": 2861125,
    "start_time": "2022-05-18T09:50:58.916Z"
   },
   {
    "duration": 1872521,
    "start_time": "2022-05-18T10:38:40.126Z"
   },
   {
    "duration": 0,
    "start_time": "2022-05-18T11:09:52.713Z"
   },
   {
    "duration": 0,
    "start_time": "2022-05-18T11:09:52.715Z"
   },
   {
    "duration": 0,
    "start_time": "2022-05-18T11:09:52.717Z"
   },
   {
    "duration": 0,
    "start_time": "2022-05-18T11:09:52.718Z"
   },
   {
    "duration": 0,
    "start_time": "2022-05-18T11:09:52.719Z"
   },
   {
    "duration": 0,
    "start_time": "2022-05-18T11:09:52.720Z"
   },
   {
    "duration": 0,
    "start_time": "2022-05-18T11:09:52.811Z"
   },
   {
    "duration": 0,
    "start_time": "2022-05-18T11:09:52.813Z"
   },
   {
    "duration": 0,
    "start_time": "2022-05-18T11:09:52.815Z"
   },
   {
    "duration": 0,
    "start_time": "2022-05-18T11:09:52.816Z"
   },
   {
    "duration": 0,
    "start_time": "2022-05-18T11:09:52.818Z"
   },
   {
    "duration": 0,
    "start_time": "2022-05-18T11:09:52.819Z"
   },
   {
    "duration": 0,
    "start_time": "2022-05-18T11:09:52.827Z"
   },
   {
    "duration": 0,
    "start_time": "2022-05-18T11:09:52.829Z"
   },
   {
    "duration": 0,
    "start_time": "2022-05-18T11:09:52.832Z"
   },
   {
    "duration": 0,
    "start_time": "2022-05-18T11:09:52.834Z"
   },
   {
    "duration": 0,
    "start_time": "2022-05-18T11:09:52.912Z"
   },
   {
    "duration": 0,
    "start_time": "2022-05-18T11:09:52.914Z"
   },
   {
    "duration": 0,
    "start_time": "2022-05-18T11:09:52.916Z"
   },
   {
    "duration": 22,
    "start_time": "2022-05-18T11:10:02.313Z"
   },
   {
    "duration": 6,
    "start_time": "2022-05-18T11:10:11.512Z"
   },
   {
    "duration": 4009,
    "start_time": "2022-05-18T11:10:14.012Z"
   },
   {
    "duration": 4023,
    "start_time": "2022-05-18T11:10:18.034Z"
   },
   {
    "duration": 29,
    "start_time": "2022-05-18T11:10:22.116Z"
   },
   {
    "duration": 127,
    "start_time": "2022-05-18T11:10:27.113Z"
   },
   {
    "duration": 7,
    "start_time": "2022-05-18T11:10:36.912Z"
   },
   {
    "duration": 5,
    "start_time": "2022-05-18T11:10:38.313Z"
   },
   {
    "duration": 8,
    "start_time": "2022-05-18T11:10:40.313Z"
   },
   {
    "duration": 111,
    "start_time": "2022-05-18T11:11:12.513Z"
   },
   {
    "duration": 1901,
    "start_time": "2022-05-18T11:18:25.713Z"
   },
   {
    "duration": 2403,
    "start_time": "2022-05-18T11:19:04.613Z"
   },
   {
    "duration": 13,
    "start_time": "2022-05-18T11:19:21.413Z"
   },
   {
    "duration": 4101,
    "start_time": "2022-05-18T11:19:37.815Z"
   },
   {
    "duration": 398,
    "start_time": "2022-05-18T11:19:50.113Z"
   },
   {
    "duration": 13,
    "start_time": "2022-05-18T11:20:08.412Z"
   },
   {
    "duration": 201,
    "start_time": "2022-05-18T11:26:58.113Z"
   },
   {
    "duration": 204,
    "start_time": "2022-05-18T11:27:35.613Z"
   },
   {
    "duration": 202,
    "start_time": "2022-05-18T11:28:50.613Z"
   },
   {
    "duration": 10,
    "start_time": "2022-05-18T11:29:08.013Z"
   },
   {
    "duration": 105,
    "start_time": "2022-05-18T11:29:18.212Z"
   },
   {
    "duration": 100,
    "start_time": "2022-05-18T11:29:22.613Z"
   },
   {
    "duration": 4,
    "start_time": "2022-05-18T11:29:42.518Z"
   },
   {
    "duration": 6189,
    "start_time": "2022-05-18T11:29:42.524Z"
   },
   {
    "duration": 201,
    "start_time": "2022-05-18T11:29:48.715Z"
   },
   {
    "duration": 190,
    "start_time": "2022-05-18T11:29:48.924Z"
   },
   {
    "duration": 1195,
    "start_time": "2022-05-18T11:29:49.123Z"
   },
   {
    "duration": 199,
    "start_time": "2022-05-18T11:29:50.320Z"
   },
   {
    "duration": 197,
    "start_time": "2022-05-18T11:29:50.521Z"
   },
   {
    "duration": 407,
    "start_time": "2022-05-18T11:29:50.721Z"
   },
   {
    "duration": 314,
    "start_time": "2022-05-18T11:29:51.222Z"
   },
   {
    "duration": 207,
    "start_time": "2022-05-18T11:29:51.624Z"
   },
   {
    "duration": 682,
    "start_time": "2022-05-18T11:29:51.834Z"
   },
   {
    "duration": 6,
    "start_time": "2022-05-18T11:29:52.519Z"
   },
   {
    "duration": 490,
    "start_time": "2022-05-18T11:29:52.527Z"
   },
   {
    "duration": 95,
    "start_time": "2022-05-18T11:29:53.022Z"
   },
   {
    "duration": 209,
    "start_time": "2022-05-18T11:29:53.124Z"
   },
   {
    "duration": 278,
    "start_time": "2022-05-18T11:29:53.335Z"
   },
   {
    "duration": 899,
    "start_time": "2022-05-18T11:29:53.614Z"
   },
   {
    "duration": 92,
    "start_time": "2022-05-18T11:29:54.522Z"
   },
   {
    "duration": 398,
    "start_time": "2022-05-18T11:29:54.620Z"
   },
   {
    "duration": 94,
    "start_time": "2022-05-18T11:29:55.026Z"
   },
   {
    "duration": 290,
    "start_time": "2022-05-18T11:29:55.123Z"
   },
   {
    "duration": 96,
    "start_time": "2022-05-18T11:29:55.421Z"
   },
   {
    "duration": 6896,
    "start_time": "2022-05-18T11:29:55.524Z"
   },
   {
    "duration": 7388,
    "start_time": "2022-05-18T11:30:02.425Z"
   },
   {
    "duration": 5800,
    "start_time": "2022-05-18T11:30:09.821Z"
   },
   {
    "duration": 4312,
    "start_time": "2022-05-18T11:30:15.712Z"
   },
   {
    "duration": 90,
    "start_time": "2022-05-18T11:30:20.028Z"
   },
   {
    "duration": 393,
    "start_time": "2022-05-18T11:30:20.123Z"
   },
   {
    "duration": 298,
    "start_time": "2022-05-18T11:30:20.517Z"
   },
   {
    "duration": 498,
    "start_time": "2022-05-18T11:30:20.817Z"
   },
   {
    "duration": 8205,
    "start_time": "2022-05-18T11:30:21.316Z"
   },
   {
    "duration": 89,
    "start_time": "2022-05-18T11:30:29.523Z"
   },
   {
    "duration": 205,
    "start_time": "2022-05-18T11:30:29.614Z"
   },
   {
    "duration": 503,
    "start_time": "2022-05-18T11:30:29.821Z"
   },
   {
    "duration": 504,
    "start_time": "2022-05-18T11:30:30.327Z"
   },
   {
    "duration": 385,
    "start_time": "2022-05-18T11:30:30.833Z"
   },
   {
    "duration": 195,
    "start_time": "2022-05-18T11:30:31.221Z"
   },
   {
    "duration": 109,
    "start_time": "2022-05-18T11:30:31.426Z"
   },
   {
    "duration": 109,
    "start_time": "2022-05-18T11:30:31.611Z"
   },
   {
    "duration": 393,
    "start_time": "2022-05-18T11:30:31.722Z"
   },
   {
    "duration": 2997,
    "start_time": "2022-05-18T11:30:32.123Z"
   },
   {
    "duration": 8,
    "start_time": "2022-05-18T11:30:35.211Z"
   },
   {
    "duration": 92,
    "start_time": "2022-05-18T11:30:35.221Z"
   },
   {
    "duration": 95,
    "start_time": "2022-05-18T11:30:35.319Z"
   },
   {
    "duration": 303,
    "start_time": "2022-05-18T11:30:35.416Z"
   },
   {
    "duration": 193,
    "start_time": "2022-05-18T11:30:35.721Z"
   },
   {
    "duration": 95099,
    "start_time": "2022-05-18T11:30:35.915Z"
   },
   {
    "duration": 90705,
    "start_time": "2022-05-18T11:32:11.016Z"
   },
   {
    "duration": 4,
    "start_time": "2022-05-18T11:33:41.723Z"
   },
   {
    "duration": 7,
    "start_time": "2022-05-18T11:33:50.413Z"
   },
   {
    "duration": 5605,
    "start_time": "2022-05-18T11:33:50.713Z"
   },
   {
    "duration": 4398,
    "start_time": "2022-05-18T11:33:56.420Z"
   },
   {
    "duration": 93,
    "start_time": "2022-05-18T11:34:00.820Z"
   },
   {
    "duration": 109,
    "start_time": "2022-05-18T11:34:12.313Z"
   },
   {
    "duration": 3,
    "start_time": "2022-05-18T11:34:15.713Z"
   },
   {
    "duration": 9,
    "start_time": "2022-05-18T11:34:22.213Z"
   },
   {
    "duration": 10,
    "start_time": "2022-05-18T11:36:12.413Z"
   },
   {
    "duration": 204,
    "start_time": "2022-05-18T11:36:20.413Z"
   },
   {
    "duration": 99,
    "start_time": "2022-05-18T11:47:17.118Z"
   },
   {
    "duration": 495,
    "start_time": "2022-05-18T11:47:17.221Z"
   },
   {
    "duration": 195,
    "start_time": "2022-05-18T11:47:17.718Z"
   },
   {
    "duration": 196,
    "start_time": "2022-05-18T11:47:18.123Z"
   },
   {
    "duration": 106,
    "start_time": "2022-05-18T11:47:18.413Z"
   },
   {
    "duration": 8,
    "start_time": "2022-05-18T11:47:19.113Z"
   },
   {
    "duration": 9,
    "start_time": "2022-05-18T11:47:19.213Z"
   },
   {
    "duration": 5,
    "start_time": "2022-05-18T11:47:19.413Z"
   },
   {
    "duration": 2399,
    "start_time": "2022-05-18T11:47:19.512Z"
   },
   {
    "duration": 9,
    "start_time": "2022-05-18T11:47:23.914Z"
   },
   {
    "duration": 3,
    "start_time": "2022-05-18T11:47:24.112Z"
   },
   {
    "duration": 5,
    "start_time": "2022-05-18T11:47:24.313Z"
   },
   {
    "duration": 9,
    "start_time": "2022-05-18T11:47:24.613Z"
   },
   {
    "duration": 9,
    "start_time": "2022-05-18T11:47:25.513Z"
   },
   {
    "duration": 6,
    "start_time": "2022-05-18T11:47:37.513Z"
   },
   {
    "duration": 3203,
    "start_time": "2022-05-18T11:47:37.812Z"
   },
   {
    "duration": 3897,
    "start_time": "2022-05-18T11:47:41.021Z"
   },
   {
    "duration": 4,
    "start_time": "2022-05-18T11:47:44.920Z"
   },
   {
    "duration": 207,
    "start_time": "2022-05-18T11:48:08.913Z"
   },
   {
    "duration": 8,
    "start_time": "2022-05-18T11:48:15.913Z"
   },
   {
    "duration": 5,
    "start_time": "2022-05-18T11:48:18.412Z"
   },
   {
    "duration": 1298,
    "start_time": "2022-05-18T11:48:33.013Z"
   },
   {
    "duration": 1607,
    "start_time": "2022-05-18T11:48:42.912Z"
   },
   {
    "duration": 95,
    "start_time": "2022-05-18T11:48:44.524Z"
   },
   {
    "duration": 10,
    "start_time": "2022-05-18T11:53:10.313Z"
   },
   {
    "duration": 9,
    "start_time": "2022-05-18T11:56:59.912Z"
   },
   {
    "duration": 2029,
    "start_time": "2022-05-19T10:39:05.314Z"
   },
   {
    "duration": 3111,
    "start_time": "2022-05-19T10:39:07.345Z"
   },
   {
    "duration": 26,
    "start_time": "2022-05-19T10:39:10.458Z"
   },
   {
    "duration": 19,
    "start_time": "2022-05-19T10:39:10.486Z"
   },
   {
    "duration": 130,
    "start_time": "2022-05-19T10:39:10.507Z"
   },
   {
    "duration": 21,
    "start_time": "2022-05-19T10:39:10.639Z"
   },
   {
    "duration": 29,
    "start_time": "2022-05-19T10:39:10.662Z"
   },
   {
    "duration": 21,
    "start_time": "2022-05-19T10:39:10.692Z"
   },
   {
    "duration": 21,
    "start_time": "2022-05-19T10:39:10.714Z"
   },
   {
    "duration": 53,
    "start_time": "2022-05-19T10:39:10.740Z"
   },
   {
    "duration": 113,
    "start_time": "2022-05-19T10:39:10.795Z"
   },
   {
    "duration": 4,
    "start_time": "2022-05-19T10:39:10.910Z"
   },
   {
    "duration": 9,
    "start_time": "2022-05-19T10:39:10.915Z"
   },
   {
    "duration": 3,
    "start_time": "2022-05-19T10:39:10.926Z"
   },
   {
    "duration": 9,
    "start_time": "2022-05-19T10:39:10.931Z"
   },
   {
    "duration": 3,
    "start_time": "2022-05-19T10:39:10.942Z"
   },
   {
    "duration": 107,
    "start_time": "2022-05-19T10:39:10.947Z"
   },
   {
    "duration": 4,
    "start_time": "2022-05-19T10:39:11.056Z"
   },
   {
    "duration": 23,
    "start_time": "2022-05-19T10:39:11.062Z"
   },
   {
    "duration": 17,
    "start_time": "2022-05-19T10:39:11.087Z"
   },
   {
    "duration": 23,
    "start_time": "2022-05-19T10:39:11.105Z"
   },
   {
    "duration": 7,
    "start_time": "2022-05-19T10:39:11.129Z"
   },
   {
    "duration": 1587,
    "start_time": "2022-05-19T10:39:11.137Z"
   },
   {
    "duration": 1508,
    "start_time": "2022-05-19T10:39:12.725Z"
   },
   {
    "duration": 1495,
    "start_time": "2022-05-19T10:39:14.235Z"
   },
   {
    "duration": 636,
    "start_time": "2022-05-19T10:39:15.732Z"
   },
   {
    "duration": 5,
    "start_time": "2022-05-19T10:39:16.369Z"
   },
   {
    "duration": 5,
    "start_time": "2022-05-19T10:39:16.384Z"
   },
   {
    "duration": 9,
    "start_time": "2022-05-19T10:39:16.391Z"
   },
   {
    "duration": 11,
    "start_time": "2022-05-19T10:39:16.402Z"
   },
   {
    "duration": 1782,
    "start_time": "2022-05-19T10:39:16.415Z"
   },
   {
    "duration": 35,
    "start_time": "2022-05-19T10:39:18.199Z"
   },
   {
    "duration": 26,
    "start_time": "2022-05-19T10:39:18.236Z"
   },
   {
    "duration": 40,
    "start_time": "2022-05-19T10:39:18.264Z"
   },
   {
    "duration": 20,
    "start_time": "2022-05-19T10:39:18.305Z"
   },
   {
    "duration": 3,
    "start_time": "2022-05-19T10:39:18.327Z"
   },
   {
    "duration": 10,
    "start_time": "2022-05-19T10:39:18.331Z"
   },
   {
    "duration": 5,
    "start_time": "2022-05-19T10:39:18.342Z"
   },
   {
    "duration": 435,
    "start_time": "2022-05-19T10:39:18.348Z"
   },
   {
    "duration": 3,
    "start_time": "2022-05-19T10:39:18.785Z"
   },
   {
    "duration": 6,
    "start_time": "2022-05-19T10:39:18.789Z"
   },
   {
    "duration": 7,
    "start_time": "2022-05-19T10:39:18.796Z"
   },
   {
    "duration": 8,
    "start_time": "2022-05-19T10:39:18.804Z"
   },
   {
    "duration": 6,
    "start_time": "2022-05-19T10:39:18.814Z"
   },
   {
    "duration": 12702,
    "start_time": "2022-05-19T10:39:18.821Z"
   },
   {
    "duration": 12810,
    "start_time": "2022-05-19T10:39:31.525Z"
   },
   {
    "duration": 4,
    "start_time": "2022-05-19T10:39:44.337Z"
   },
   {
    "duration": 6,
    "start_time": "2022-05-19T10:39:44.342Z"
   },
   {
    "duration": 438468,
    "start_time": "2022-05-19T10:39:44.350Z"
   },
   {
    "duration": 432945,
    "start_time": "2022-05-19T10:47:02.820Z"
   },
   {
    "duration": 3,
    "start_time": "2022-05-19T10:54:15.766Z"
   },
   {
    "duration": 6,
    "start_time": "2022-05-19T10:54:15.771Z"
   },
   {
    "duration": 1814,
    "start_time": "2022-05-19T10:54:15.778Z"
   },
   {
    "duration": 2289,
    "start_time": "2022-05-19T10:54:17.594Z"
   },
   {
    "duration": 5,
    "start_time": "2022-05-19T10:54:19.885Z"
   },
   {
    "duration": 106,
    "start_time": "2022-05-19T10:54:19.892Z"
   },
   {
    "duration": 10,
    "start_time": "2022-05-19T10:54:20.000Z"
   },
   {
    "duration": 18,
    "start_time": "2022-05-19T10:54:20.012Z"
   },
   {
    "duration": 14310,
    "start_time": "2022-05-19T10:54:20.032Z"
   },
   {
    "duration": 17521,
    "start_time": "2022-05-19T10:54:34.345Z"
   },
   {
    "duration": 4,
    "start_time": "2022-05-19T10:54:51.868Z"
   },
   {
    "duration": 9,
    "start_time": "2022-05-19T10:54:51.874Z"
   },
   {
    "duration": 11,
    "start_time": "2022-05-19T10:54:51.885Z"
   },
   {
    "duration": 16,
    "start_time": "2022-05-19T10:54:51.898Z"
   },
   {
    "duration": 10,
    "start_time": "2022-05-19T10:54:51.915Z"
   },
   {
    "duration": 8,
    "start_time": "2022-05-19T10:54:51.926Z"
   },
   {
    "duration": 22,
    "start_time": "2022-05-19T10:54:51.936Z"
   },
   {
    "duration": 13,
    "start_time": "2022-05-19T10:54:51.961Z"
   },
   {
    "duration": 4,
    "start_time": "2022-05-19T11:23:57.050Z"
   },
   {
    "duration": 2349,
    "start_time": "2022-05-20T07:12:07.865Z"
   },
   {
    "duration": 1577,
    "start_time": "2022-05-20T07:12:10.218Z"
   },
   {
    "duration": 33,
    "start_time": "2022-05-20T07:12:11.798Z"
   },
   {
    "duration": 28,
    "start_time": "2022-05-20T07:12:11.835Z"
   },
   {
    "duration": 177,
    "start_time": "2022-05-20T07:12:11.866Z"
   },
   {
    "duration": 28,
    "start_time": "2022-05-20T07:12:12.045Z"
   },
   {
    "duration": 37,
    "start_time": "2022-05-20T07:12:12.076Z"
   },
   {
    "duration": 37,
    "start_time": "2022-05-20T07:12:12.115Z"
   },
   {
    "duration": 58,
    "start_time": "2022-05-20T07:12:12.154Z"
   },
   {
    "duration": 29,
    "start_time": "2022-05-20T07:12:12.216Z"
   },
   {
    "duration": 151,
    "start_time": "2022-05-20T07:12:12.248Z"
   },
   {
    "duration": 5,
    "start_time": "2022-05-20T07:12:12.401Z"
   },
   {
    "duration": 10,
    "start_time": "2022-05-20T07:12:12.411Z"
   },
   {
    "duration": 11,
    "start_time": "2022-05-20T07:12:12.422Z"
   },
   {
    "duration": 18,
    "start_time": "2022-05-20T07:12:12.435Z"
   },
   {
    "duration": 9,
    "start_time": "2022-05-20T07:12:12.456Z"
   },
   {
    "duration": 155,
    "start_time": "2022-05-20T07:12:12.467Z"
   },
   {
    "duration": 5,
    "start_time": "2022-05-20T07:12:12.624Z"
   },
   {
    "duration": 17,
    "start_time": "2022-05-20T07:12:12.632Z"
   },
   {
    "duration": 20,
    "start_time": "2022-05-20T07:12:12.651Z"
   },
   {
    "duration": 45,
    "start_time": "2022-05-20T07:12:12.672Z"
   },
   {
    "duration": 7,
    "start_time": "2022-05-20T07:12:12.719Z"
   },
   {
    "duration": 1688,
    "start_time": "2022-05-20T07:12:12.728Z"
   },
   {
    "duration": 1682,
    "start_time": "2022-05-20T07:12:14.419Z"
   },
   {
    "duration": 1926,
    "start_time": "2022-05-20T07:12:16.104Z"
   },
   {
    "duration": 685,
    "start_time": "2022-05-20T07:12:18.032Z"
   },
   {
    "duration": 6,
    "start_time": "2022-05-20T07:12:18.718Z"
   },
   {
    "duration": 6,
    "start_time": "2022-05-20T07:12:18.728Z"
   },
   {
    "duration": 10,
    "start_time": "2022-05-20T07:12:18.736Z"
   },
   {
    "duration": 9,
    "start_time": "2022-05-20T07:12:18.749Z"
   },
   {
    "duration": 1708,
    "start_time": "2022-05-20T07:12:18.760Z"
   },
   {
    "duration": 49,
    "start_time": "2022-05-20T07:12:20.470Z"
   },
   {
    "duration": 30,
    "start_time": "2022-05-20T07:12:20.521Z"
   },
   {
    "duration": 46,
    "start_time": "2022-05-20T07:12:20.552Z"
   },
   {
    "duration": 27,
    "start_time": "2022-05-20T07:12:20.601Z"
   },
   {
    "duration": 4,
    "start_time": "2022-05-20T07:12:20.630Z"
   },
   {
    "duration": 15,
    "start_time": "2022-05-20T07:12:20.637Z"
   },
   {
    "duration": 10,
    "start_time": "2022-05-20T07:12:20.654Z"
   },
   {
    "duration": 464,
    "start_time": "2022-05-20T07:12:20.666Z"
   },
   {
    "duration": 3,
    "start_time": "2022-05-20T07:12:21.132Z"
   },
   {
    "duration": 10,
    "start_time": "2022-05-20T07:12:21.138Z"
   },
   {
    "duration": 8,
    "start_time": "2022-05-20T07:12:21.150Z"
   },
   {
    "duration": 9,
    "start_time": "2022-05-20T07:12:21.161Z"
   },
   {
    "duration": 25,
    "start_time": "2022-05-20T07:12:21.173Z"
   },
   {
    "duration": 14048,
    "start_time": "2022-05-20T07:12:21.200Z"
   },
   {
    "duration": 13965,
    "start_time": "2022-05-20T07:12:35.250Z"
   },
   {
    "duration": 4,
    "start_time": "2022-05-20T07:12:49.217Z"
   },
   {
    "duration": 11,
    "start_time": "2022-05-20T07:12:49.224Z"
   },
   {
    "duration": 486347,
    "start_time": "2022-05-20T07:12:49.238Z"
   },
   {
    "duration": 500730,
    "start_time": "2022-05-20T07:20:55.587Z"
   },
   {
    "duration": 4,
    "start_time": "2022-05-20T07:29:16.319Z"
   },
   {
    "duration": 6,
    "start_time": "2022-05-20T07:29:16.325Z"
   },
   {
    "duration": 3066,
    "start_time": "2022-05-20T07:29:16.333Z"
   },
   {
    "duration": 3099,
    "start_time": "2022-05-20T07:29:19.401Z"
   },
   {
    "duration": 5,
    "start_time": "2022-05-20T07:29:22.526Z"
   },
   {
    "duration": 67,
    "start_time": "2022-05-20T07:29:22.534Z"
   },
   {
    "duration": 221,
    "start_time": "2022-05-20T07:29:22.605Z"
   },
   {
    "duration": 0,
    "start_time": "2022-05-20T07:29:22.831Z"
   },
   {
    "duration": 0,
    "start_time": "2022-05-20T07:29:22.834Z"
   },
   {
    "duration": 0,
    "start_time": "2022-05-20T07:29:22.835Z"
   },
   {
    "duration": 0,
    "start_time": "2022-05-20T07:29:22.837Z"
   },
   {
    "duration": 0,
    "start_time": "2022-05-20T07:29:22.839Z"
   },
   {
    "duration": 0,
    "start_time": "2022-05-20T07:29:22.840Z"
   },
   {
    "duration": 0,
    "start_time": "2022-05-20T07:29:22.841Z"
   },
   {
    "duration": 0,
    "start_time": "2022-05-20T07:29:22.843Z"
   },
   {
    "duration": 0,
    "start_time": "2022-05-20T07:29:22.845Z"
   },
   {
    "duration": 0,
    "start_time": "2022-05-20T07:29:22.846Z"
   },
   {
    "duration": 4,
    "start_time": "2022-05-20T09:57:09.908Z"
   },
   {
    "duration": 794,
    "start_time": "2022-05-20T09:57:09.918Z"
   },
   {
    "duration": 29,
    "start_time": "2022-05-20T09:57:10.715Z"
   },
   {
    "duration": 18,
    "start_time": "2022-05-20T09:57:10.746Z"
   },
   {
    "duration": 148,
    "start_time": "2022-05-20T09:57:10.767Z"
   },
   {
    "duration": 22,
    "start_time": "2022-05-20T09:57:10.917Z"
   },
   {
    "duration": 15,
    "start_time": "2022-05-20T09:57:10.941Z"
   },
   {
    "duration": 48,
    "start_time": "2022-05-20T09:57:10.959Z"
   },
   {
    "duration": 22,
    "start_time": "2022-05-20T09:57:11.009Z"
   },
   {
    "duration": 20,
    "start_time": "2022-05-20T09:57:11.033Z"
   },
   {
    "duration": 117,
    "start_time": "2022-05-20T09:57:11.055Z"
   },
   {
    "duration": 3,
    "start_time": "2022-05-20T09:57:11.174Z"
   },
   {
    "duration": 19,
    "start_time": "2022-05-20T09:57:11.179Z"
   },
   {
    "duration": 4,
    "start_time": "2022-05-20T09:57:11.200Z"
   },
   {
    "duration": 10,
    "start_time": "2022-05-20T09:57:11.205Z"
   },
   {
    "duration": 5,
    "start_time": "2022-05-20T09:57:11.217Z"
   },
   {
    "duration": 106,
    "start_time": "2022-05-20T09:57:11.224Z"
   },
   {
    "duration": 5,
    "start_time": "2022-05-20T09:57:11.332Z"
   },
   {
    "duration": 16,
    "start_time": "2022-05-20T09:57:11.339Z"
   },
   {
    "duration": 10,
    "start_time": "2022-05-20T09:57:11.356Z"
   },
   {
    "duration": 45,
    "start_time": "2022-05-20T09:57:11.367Z"
   },
   {
    "duration": 6,
    "start_time": "2022-05-20T09:57:11.414Z"
   },
   {
    "duration": 1597,
    "start_time": "2022-05-20T09:57:11.422Z"
   },
   {
    "duration": 1557,
    "start_time": "2022-05-20T09:57:13.021Z"
   },
   {
    "duration": 1385,
    "start_time": "2022-05-20T09:57:14.579Z"
   },
   {
    "duration": 646,
    "start_time": "2022-05-20T09:57:15.966Z"
   },
   {
    "duration": 5,
    "start_time": "2022-05-20T09:57:16.614Z"
   },
   {
    "duration": 9,
    "start_time": "2022-05-20T09:57:16.620Z"
   },
   {
    "duration": 5,
    "start_time": "2022-05-20T09:57:16.633Z"
   },
   {
    "duration": 8,
    "start_time": "2022-05-20T09:57:16.639Z"
   },
   {
    "duration": 1713,
    "start_time": "2022-05-20T09:57:16.648Z"
   },
   {
    "duration": 31,
    "start_time": "2022-05-20T09:57:18.363Z"
   },
   {
    "duration": 22,
    "start_time": "2022-05-20T09:57:18.396Z"
   },
   {
    "duration": 22,
    "start_time": "2022-05-20T09:57:18.420Z"
   },
   {
    "duration": 23,
    "start_time": "2022-05-20T09:57:18.444Z"
   },
   {
    "duration": 25,
    "start_time": "2022-05-20T09:57:18.470Z"
   },
   {
    "duration": 20,
    "start_time": "2022-05-20T09:57:18.497Z"
   },
   {
    "duration": 8,
    "start_time": "2022-05-20T09:57:18.519Z"
   },
   {
    "duration": 317,
    "start_time": "2022-05-20T09:57:18.529Z"
   },
   {
    "duration": 5,
    "start_time": "2022-05-20T09:57:18.848Z"
   },
   {
    "duration": 15,
    "start_time": "2022-05-20T09:57:18.855Z"
   },
   {
    "duration": 14,
    "start_time": "2022-05-20T09:57:18.873Z"
   },
   {
    "duration": 11,
    "start_time": "2022-05-20T09:57:18.896Z"
   },
   {
    "duration": 14,
    "start_time": "2022-05-20T09:57:18.910Z"
   },
   {
    "duration": 13368,
    "start_time": "2022-05-20T09:57:18.926Z"
   },
   {
    "duration": 13166,
    "start_time": "2022-05-20T09:57:32.296Z"
   },
   {
    "duration": 4,
    "start_time": "2022-05-20T09:57:45.464Z"
   },
   {
    "duration": 10,
    "start_time": "2022-05-20T09:57:45.469Z"
   },
   {
    "duration": 464832,
    "start_time": "2022-05-20T09:57:45.481Z"
   },
   {
    "duration": 454663,
    "start_time": "2022-05-20T10:05:30.315Z"
   },
   {
    "duration": 3,
    "start_time": "2022-05-20T10:13:04.981Z"
   },
   {
    "duration": 10,
    "start_time": "2022-05-20T10:13:04.986Z"
   },
   {
    "duration": 1601,
    "start_time": "2022-05-20T10:13:04.997Z"
   },
   {
    "duration": 1696,
    "start_time": "2022-05-20T10:13:06.600Z"
   },
   {
    "duration": 5,
    "start_time": "2022-05-20T10:13:08.298Z"
   },
   {
    "duration": 126,
    "start_time": "2022-05-20T10:13:08.305Z"
   },
   {
    "duration": 21,
    "start_time": "2022-05-20T10:13:08.433Z"
   },
   {
    "duration": 0,
    "start_time": "2022-05-20T10:13:08.456Z"
   },
   {
    "duration": 0,
    "start_time": "2022-05-20T10:13:08.457Z"
   },
   {
    "duration": 0,
    "start_time": "2022-05-20T10:13:08.458Z"
   },
   {
    "duration": 0,
    "start_time": "2022-05-20T10:13:08.459Z"
   },
   {
    "duration": 0,
    "start_time": "2022-05-20T10:13:08.460Z"
   },
   {
    "duration": 0,
    "start_time": "2022-05-20T10:13:08.461Z"
   },
   {
    "duration": 0,
    "start_time": "2022-05-20T10:13:08.462Z"
   },
   {
    "duration": 0,
    "start_time": "2022-05-20T10:13:08.463Z"
   },
   {
    "duration": 0,
    "start_time": "2022-05-20T10:13:08.464Z"
   },
   {
    "duration": 0,
    "start_time": "2022-05-20T10:13:08.465Z"
   },
   {
    "duration": 14,
    "start_time": "2022-05-20T10:14:40.816Z"
   },
   {
    "duration": 6,
    "start_time": "2022-05-20T10:14:50.086Z"
   },
   {
    "duration": 4,
    "start_time": "2022-05-20T10:14:59.399Z"
   },
   {
    "duration": 747,
    "start_time": "2022-05-20T10:14:59.407Z"
   },
   {
    "duration": 24,
    "start_time": "2022-05-20T10:15:00.156Z"
   },
   {
    "duration": 20,
    "start_time": "2022-05-20T10:15:00.194Z"
   },
   {
    "duration": 149,
    "start_time": "2022-05-20T10:15:00.216Z"
   },
   {
    "duration": 31,
    "start_time": "2022-05-20T10:15:00.367Z"
   },
   {
    "duration": 13,
    "start_time": "2022-05-20T10:15:00.399Z"
   },
   {
    "duration": 26,
    "start_time": "2022-05-20T10:15:00.414Z"
   },
   {
    "duration": 51,
    "start_time": "2022-05-20T10:15:00.443Z"
   },
   {
    "duration": 20,
    "start_time": "2022-05-20T10:15:00.496Z"
   },
   {
    "duration": 116,
    "start_time": "2022-05-20T10:15:00.519Z"
   },
   {
    "duration": 3,
    "start_time": "2022-05-20T10:15:00.637Z"
   },
   {
    "duration": 34,
    "start_time": "2022-05-20T10:15:00.641Z"
   },
   {
    "duration": 8,
    "start_time": "2022-05-20T10:15:00.677Z"
   },
   {
    "duration": 14,
    "start_time": "2022-05-20T10:15:00.687Z"
   },
   {
    "duration": 18,
    "start_time": "2022-05-20T10:15:00.703Z"
   },
   {
    "duration": 104,
    "start_time": "2022-05-20T10:15:00.722Z"
   },
   {
    "duration": 5,
    "start_time": "2022-05-20T10:15:00.829Z"
   },
   {
    "duration": 41,
    "start_time": "2022-05-20T10:15:00.836Z"
   },
   {
    "duration": 20,
    "start_time": "2022-05-20T10:15:00.879Z"
   },
   {
    "duration": 37,
    "start_time": "2022-05-20T10:15:00.901Z"
   },
   {
    "duration": 8,
    "start_time": "2022-05-20T10:15:00.940Z"
   },
   {
    "duration": 1729,
    "start_time": "2022-05-20T10:15:00.950Z"
   },
   {
    "duration": 1483,
    "start_time": "2022-05-20T10:15:02.681Z"
   },
   {
    "duration": 1519,
    "start_time": "2022-05-20T10:15:04.165Z"
   },
   {
    "duration": 711,
    "start_time": "2022-05-20T10:15:05.685Z"
   },
   {
    "duration": 5,
    "start_time": "2022-05-20T10:15:06.398Z"
   },
   {
    "duration": 24,
    "start_time": "2022-05-20T10:15:06.404Z"
   },
   {
    "duration": 17,
    "start_time": "2022-05-20T10:15:06.432Z"
   },
   {
    "duration": 18,
    "start_time": "2022-05-20T10:15:06.452Z"
   },
   {
    "duration": 1657,
    "start_time": "2022-05-20T10:15:06.472Z"
   },
   {
    "duration": 35,
    "start_time": "2022-05-20T10:15:08.131Z"
   },
   {
    "duration": 44,
    "start_time": "2022-05-20T10:15:08.167Z"
   },
   {
    "duration": 26,
    "start_time": "2022-05-20T10:15:08.213Z"
   },
   {
    "duration": 22,
    "start_time": "2022-05-20T10:15:08.241Z"
   },
   {
    "duration": 3,
    "start_time": "2022-05-20T10:15:08.265Z"
   },
   {
    "duration": 29,
    "start_time": "2022-05-20T10:15:08.270Z"
   },
   {
    "duration": 6,
    "start_time": "2022-05-20T10:15:08.301Z"
   },
   {
    "duration": 303,
    "start_time": "2022-05-20T10:15:08.308Z"
   },
   {
    "duration": 4,
    "start_time": "2022-05-20T10:15:08.613Z"
   },
   {
    "duration": 8,
    "start_time": "2022-05-20T10:15:08.618Z"
   },
   {
    "duration": 12,
    "start_time": "2022-05-20T10:15:08.628Z"
   },
   {
    "duration": 9,
    "start_time": "2022-05-20T10:15:08.642Z"
   },
   {
    "duration": 10,
    "start_time": "2022-05-20T10:15:08.653Z"
   },
   {
    "duration": 13704,
    "start_time": "2022-05-20T10:15:08.664Z"
   },
   {
    "duration": 13329,
    "start_time": "2022-05-20T10:15:22.370Z"
   },
   {
    "duration": 4,
    "start_time": "2022-05-20T10:15:35.701Z"
   },
   {
    "duration": 19,
    "start_time": "2022-05-20T10:15:35.707Z"
   },
   {
    "duration": 473961,
    "start_time": "2022-05-20T10:15:35.728Z"
   },
   {
    "duration": 461992,
    "start_time": "2022-05-20T10:23:29.690Z"
   },
   {
    "duration": 12,
    "start_time": "2022-05-20T10:31:11.684Z"
   },
   {
    "duration": 9,
    "start_time": "2022-05-20T10:31:11.699Z"
   },
   {
    "duration": 1395,
    "start_time": "2022-05-20T10:31:11.711Z"
   },
   {
    "duration": 1990,
    "start_time": "2022-05-20T10:31:13.108Z"
   },
   {
    "duration": 5,
    "start_time": "2022-05-20T10:31:15.100Z"
   },
   {
    "duration": 118,
    "start_time": "2022-05-20T10:31:15.108Z"
   },
   {
    "duration": 12,
    "start_time": "2022-05-20T10:31:15.228Z"
   },
   {
    "duration": 59,
    "start_time": "2022-05-20T10:31:15.243Z"
   },
   {
    "duration": 0,
    "start_time": "2022-05-20T10:31:15.304Z"
   },
   {
    "duration": 0,
    "start_time": "2022-05-20T10:31:15.306Z"
   },
   {
    "duration": 0,
    "start_time": "2022-05-20T10:31:15.307Z"
   },
   {
    "duration": 0,
    "start_time": "2022-05-20T10:31:15.308Z"
   },
   {
    "duration": 0,
    "start_time": "2022-05-20T10:31:15.309Z"
   },
   {
    "duration": 0,
    "start_time": "2022-05-20T10:31:15.310Z"
   },
   {
    "duration": 0,
    "start_time": "2022-05-20T10:31:15.312Z"
   },
   {
    "duration": 0,
    "start_time": "2022-05-20T10:31:15.313Z"
   },
   {
    "duration": 0,
    "start_time": "2022-05-20T10:31:15.314Z"
   },
   {
    "duration": 11,
    "start_time": "2022-05-20T10:35:24.170Z"
   },
   {
    "duration": 5,
    "start_time": "2022-05-20T10:35:33.828Z"
   },
   {
    "duration": 6,
    "start_time": "2022-05-20T10:35:42.739Z"
   },
   {
    "duration": 6,
    "start_time": "2022-05-20T10:35:44.204Z"
   },
   {
    "duration": 5,
    "start_time": "2022-05-20T10:37:30.933Z"
   },
   {
    "duration": 7,
    "start_time": "2022-05-20T10:37:55.516Z"
   },
   {
    "duration": 11,
    "start_time": "2022-05-20T10:38:00.827Z"
   },
   {
    "duration": 5,
    "start_time": "2022-05-20T10:38:04.019Z"
   },
   {
    "duration": 5,
    "start_time": "2022-05-20T10:38:20.828Z"
   },
   {
    "duration": 4,
    "start_time": "2022-05-20T10:38:41.012Z"
   },
   {
    "duration": 4,
    "start_time": "2022-05-20T10:38:49.408Z"
   },
   {
    "duration": 4,
    "start_time": "2022-05-20T10:39:09.955Z"
   },
   {
    "duration": 20,
    "start_time": "2022-05-20T10:42:09.286Z"
   },
   {
    "duration": 8,
    "start_time": "2022-05-20T10:42:17.581Z"
   },
   {
    "duration": 46,
    "start_time": "2022-05-20T10:56:11.114Z"
   },
   {
    "duration": 8,
    "start_time": "2022-05-20T10:56:31.865Z"
   },
   {
    "duration": 29,
    "start_time": "2022-05-20T10:57:06.789Z"
   },
   {
    "duration": 4,
    "start_time": "2022-05-20T10:57:39.636Z"
   },
   {
    "duration": 5,
    "start_time": "2022-05-20T10:57:48.605Z"
   },
   {
    "duration": 6,
    "start_time": "2022-05-20T10:59:19.151Z"
   },
   {
    "duration": 4,
    "start_time": "2022-05-20T10:59:30.228Z"
   },
   {
    "duration": 4,
    "start_time": "2022-05-20T11:11:23.759Z"
   },
   {
    "duration": 4,
    "start_time": "2022-05-20T11:11:33.883Z"
   },
   {
    "duration": 5,
    "start_time": "2022-05-20T11:11:41.282Z"
   },
   {
    "duration": 6,
    "start_time": "2022-05-20T11:12:25.166Z"
   },
   {
    "duration": 4,
    "start_time": "2022-05-20T11:12:26.506Z"
   },
   {
    "duration": 4,
    "start_time": "2022-05-20T11:12:27.576Z"
   },
   {
    "duration": 4,
    "start_time": "2022-05-20T11:12:28.482Z"
   },
   {
    "duration": 4,
    "start_time": "2022-05-20T11:12:29.434Z"
   },
   {
    "duration": 4,
    "start_time": "2022-05-20T11:12:30.162Z"
   },
   {
    "duration": 0,
    "start_time": "2022-05-23T07:09:40.936Z"
   },
   {
    "duration": 0,
    "start_time": "2022-05-23T07:09:40.938Z"
   },
   {
    "duration": 0,
    "start_time": "2022-05-23T07:09:40.940Z"
   },
   {
    "duration": 0,
    "start_time": "2022-05-23T07:09:40.941Z"
   },
   {
    "duration": 0,
    "start_time": "2022-05-23T07:09:40.943Z"
   },
   {
    "duration": 0,
    "start_time": "2022-05-23T07:09:40.987Z"
   },
   {
    "duration": 0,
    "start_time": "2022-05-23T07:09:40.991Z"
   },
   {
    "duration": 0,
    "start_time": "2022-05-23T07:09:40.995Z"
   },
   {
    "duration": 1,
    "start_time": "2022-05-23T07:09:41.003Z"
   },
   {
    "duration": 0,
    "start_time": "2022-05-23T07:09:41.006Z"
   },
   {
    "duration": 0,
    "start_time": "2022-05-23T07:09:41.008Z"
   },
   {
    "duration": 0,
    "start_time": "2022-05-23T07:09:41.010Z"
   },
   {
    "duration": 0,
    "start_time": "2022-05-23T07:09:41.012Z"
   },
   {
    "duration": 0,
    "start_time": "2022-05-23T07:09:41.014Z"
   },
   {
    "duration": 0,
    "start_time": "2022-05-23T07:09:41.017Z"
   },
   {
    "duration": 0,
    "start_time": "2022-05-23T07:09:41.019Z"
   },
   {
    "duration": 1,
    "start_time": "2022-05-23T07:09:41.021Z"
   },
   {
    "duration": 0,
    "start_time": "2022-05-23T07:09:41.023Z"
   },
   {
    "duration": 0,
    "start_time": "2022-05-23T07:09:41.026Z"
   },
   {
    "duration": 0,
    "start_time": "2022-05-23T07:09:41.028Z"
   },
   {
    "duration": 0,
    "start_time": "2022-05-23T07:09:41.085Z"
   },
   {
    "duration": 0,
    "start_time": "2022-05-23T07:09:41.087Z"
   },
   {
    "duration": 0,
    "start_time": "2022-05-23T07:09:41.088Z"
   },
   {
    "duration": 0,
    "start_time": "2022-05-23T07:09:41.090Z"
   },
   {
    "duration": 0,
    "start_time": "2022-05-23T07:09:41.091Z"
   },
   {
    "duration": 0,
    "start_time": "2022-05-23T07:09:41.097Z"
   },
   {
    "duration": 0,
    "start_time": "2022-05-23T07:09:41.099Z"
   },
   {
    "duration": 0,
    "start_time": "2022-05-23T07:09:41.104Z"
   },
   {
    "duration": 0,
    "start_time": "2022-05-23T07:09:41.105Z"
   },
   {
    "duration": 0,
    "start_time": "2022-05-23T07:09:41.108Z"
   },
   {
    "duration": 0,
    "start_time": "2022-05-23T07:09:41.109Z"
   },
   {
    "duration": 0,
    "start_time": "2022-05-23T07:09:41.111Z"
   },
   {
    "duration": 0,
    "start_time": "2022-05-23T07:09:41.113Z"
   },
   {
    "duration": 0,
    "start_time": "2022-05-23T07:09:41.115Z"
   },
   {
    "duration": 0,
    "start_time": "2022-05-23T07:09:41.116Z"
   },
   {
    "duration": 0,
    "start_time": "2022-05-23T07:09:41.118Z"
   },
   {
    "duration": 0,
    "start_time": "2022-05-23T07:09:41.120Z"
   },
   {
    "duration": 0,
    "start_time": "2022-05-23T07:09:41.122Z"
   },
   {
    "duration": 0,
    "start_time": "2022-05-23T07:09:41.124Z"
   },
   {
    "duration": 0,
    "start_time": "2022-05-23T07:09:41.191Z"
   },
   {
    "duration": 0,
    "start_time": "2022-05-23T07:09:41.193Z"
   },
   {
    "duration": 0,
    "start_time": "2022-05-23T07:09:41.194Z"
   },
   {
    "duration": 0,
    "start_time": "2022-05-23T07:09:41.195Z"
   },
   {
    "duration": 0,
    "start_time": "2022-05-23T07:09:41.197Z"
   },
   {
    "duration": 0,
    "start_time": "2022-05-23T07:09:41.199Z"
   },
   {
    "duration": 0,
    "start_time": "2022-05-23T07:09:41.201Z"
   },
   {
    "duration": 0,
    "start_time": "2022-05-23T07:09:41.205Z"
   },
   {
    "duration": 0,
    "start_time": "2022-05-23T07:09:41.207Z"
   },
   {
    "duration": 0,
    "start_time": "2022-05-23T07:09:41.209Z"
   },
   {
    "duration": 0,
    "start_time": "2022-05-23T07:09:41.211Z"
   },
   {
    "duration": 0,
    "start_time": "2022-05-23T07:09:41.213Z"
   },
   {
    "duration": 0,
    "start_time": "2022-05-23T07:09:41.215Z"
   },
   {
    "duration": 0,
    "start_time": "2022-05-23T07:09:41.218Z"
   },
   {
    "duration": 0,
    "start_time": "2022-05-23T07:09:41.219Z"
   },
   {
    "duration": 0,
    "start_time": "2022-05-23T07:09:41.221Z"
   },
   {
    "duration": 0,
    "start_time": "2022-05-23T07:09:41.223Z"
   },
   {
    "duration": 0,
    "start_time": "2022-05-23T07:09:41.225Z"
   },
   {
    "duration": 0,
    "start_time": "2022-05-23T07:09:41.226Z"
   },
   {
    "duration": 0,
    "start_time": "2022-05-23T07:09:41.299Z"
   },
   {
    "duration": 0,
    "start_time": "2022-05-23T07:09:41.301Z"
   },
   {
    "duration": 0,
    "start_time": "2022-05-23T07:09:41.303Z"
   },
   {
    "duration": 0,
    "start_time": "2022-05-23T07:09:41.304Z"
   },
   {
    "duration": 0,
    "start_time": "2022-05-23T07:09:41.308Z"
   },
   {
    "duration": 0,
    "start_time": "2022-05-23T07:09:41.310Z"
   },
   {
    "duration": 0,
    "start_time": "2022-05-23T07:09:41.312Z"
   },
   {
    "duration": 0,
    "start_time": "2022-05-23T07:09:41.314Z"
   },
   {
    "duration": 0,
    "start_time": "2022-05-23T07:09:41.316Z"
   },
   {
    "duration": 0,
    "start_time": "2022-05-23T07:09:41.318Z"
   },
   {
    "duration": 0,
    "start_time": "2022-05-23T07:09:41.320Z"
   },
   {
    "duration": 0,
    "start_time": "2022-05-23T07:09:41.322Z"
   },
   {
    "duration": 0,
    "start_time": "2022-05-23T07:09:41.324Z"
   },
   {
    "duration": 0,
    "start_time": "2022-05-23T07:09:41.326Z"
   },
   {
    "duration": 3,
    "start_time": "2022-05-23T08:53:30.671Z"
   },
   {
    "duration": 717,
    "start_time": "2022-05-23T08:53:30.678Z"
   },
   {
    "duration": 21,
    "start_time": "2022-05-23T08:53:31.397Z"
   },
   {
    "duration": 22,
    "start_time": "2022-05-23T08:53:31.419Z"
   },
   {
    "duration": 127,
    "start_time": "2022-05-23T08:53:31.443Z"
   },
   {
    "duration": 27,
    "start_time": "2022-05-23T08:53:31.572Z"
   },
   {
    "duration": 15,
    "start_time": "2022-05-23T08:53:31.600Z"
   },
   {
    "duration": 19,
    "start_time": "2022-05-23T08:53:31.616Z"
   },
   {
    "duration": 20,
    "start_time": "2022-05-23T08:53:31.637Z"
   },
   {
    "duration": 45,
    "start_time": "2022-05-23T08:53:31.658Z"
   },
   {
    "duration": 100,
    "start_time": "2022-05-23T08:53:31.706Z"
   },
   {
    "duration": 4,
    "start_time": "2022-05-23T08:53:31.809Z"
   },
   {
    "duration": 8,
    "start_time": "2022-05-23T08:53:31.814Z"
   },
   {
    "duration": 7,
    "start_time": "2022-05-23T08:53:31.824Z"
   },
   {
    "duration": 9,
    "start_time": "2022-05-23T08:53:31.834Z"
   },
   {
    "duration": 8,
    "start_time": "2022-05-23T08:53:31.845Z"
   },
   {
    "duration": 103,
    "start_time": "2022-05-23T08:53:31.854Z"
   },
   {
    "duration": 5,
    "start_time": "2022-05-23T08:53:31.959Z"
   },
   {
    "duration": 26,
    "start_time": "2022-05-23T08:53:31.965Z"
   },
   {
    "duration": 11,
    "start_time": "2022-05-23T08:53:31.993Z"
   },
   {
    "duration": 29,
    "start_time": "2022-05-23T08:53:32.006Z"
   },
   {
    "duration": 8,
    "start_time": "2022-05-23T08:53:32.038Z"
   },
   {
    "duration": 1468,
    "start_time": "2022-05-23T08:53:32.047Z"
   },
   {
    "duration": 1500,
    "start_time": "2022-05-23T08:53:33.517Z"
   },
   {
    "duration": 1390,
    "start_time": "2022-05-23T08:53:35.019Z"
   },
   {
    "duration": 602,
    "start_time": "2022-05-23T08:53:36.410Z"
   },
   {
    "duration": 4,
    "start_time": "2022-05-23T08:53:37.014Z"
   },
   {
    "duration": 27,
    "start_time": "2022-05-23T08:53:37.019Z"
   },
   {
    "duration": 13,
    "start_time": "2022-05-23T08:53:37.050Z"
   },
   {
    "duration": 10,
    "start_time": "2022-05-23T08:53:37.065Z"
   },
   {
    "duration": 1738,
    "start_time": "2022-05-23T08:53:37.076Z"
   },
   {
    "duration": 24,
    "start_time": "2022-05-23T08:53:38.816Z"
   },
   {
    "duration": 26,
    "start_time": "2022-05-23T08:53:38.842Z"
   },
   {
    "duration": 29,
    "start_time": "2022-05-23T08:53:38.870Z"
   },
   {
    "duration": 31,
    "start_time": "2022-05-23T08:53:38.900Z"
   },
   {
    "duration": 3,
    "start_time": "2022-05-23T08:53:38.933Z"
   },
   {
    "duration": 26,
    "start_time": "2022-05-23T08:53:38.938Z"
   },
   {
    "duration": 18,
    "start_time": "2022-05-23T08:53:38.966Z"
   },
   {
    "duration": 299,
    "start_time": "2022-05-23T08:53:38.986Z"
   },
   {
    "duration": 4,
    "start_time": "2022-05-23T08:53:39.287Z"
   },
   {
    "duration": 27,
    "start_time": "2022-05-23T08:53:39.292Z"
   },
   {
    "duration": 23,
    "start_time": "2022-05-23T08:53:39.321Z"
   },
   {
    "duration": 22,
    "start_time": "2022-05-23T08:53:39.345Z"
   },
   {
    "duration": 15,
    "start_time": "2022-05-23T08:53:39.369Z"
   },
   {
    "duration": 12311,
    "start_time": "2022-05-23T08:53:39.386Z"
   },
   {
    "duration": 12205,
    "start_time": "2022-05-23T08:53:51.699Z"
   },
   {
    "duration": 3,
    "start_time": "2022-05-23T08:54:03.906Z"
   },
   {
    "duration": 6,
    "start_time": "2022-05-23T08:54:03.911Z"
   },
   {
    "duration": 421677,
    "start_time": "2022-05-23T08:54:03.918Z"
   },
   {
    "duration": 415040,
    "start_time": "2022-05-23T09:01:05.597Z"
   },
   {
    "duration": 3,
    "start_time": "2022-05-23T09:08:00.639Z"
   },
   {
    "duration": 13,
    "start_time": "2022-05-23T09:08:00.644Z"
   },
   {
    "duration": 1931,
    "start_time": "2022-05-23T09:08:00.658Z"
   },
   {
    "duration": 1796,
    "start_time": "2022-05-23T09:08:02.591Z"
   },
   {
    "duration": 4,
    "start_time": "2022-05-23T09:08:04.389Z"
   },
   {
    "duration": 29,
    "start_time": "2022-05-23T09:08:04.395Z"
   },
   {
    "duration": 64,
    "start_time": "2022-05-23T09:08:04.426Z"
   },
   {
    "duration": 4,
    "start_time": "2022-05-23T09:08:04.492Z"
   },
   {
    "duration": 6,
    "start_time": "2022-05-23T09:08:04.497Z"
   },
   {
    "duration": 5,
    "start_time": "2022-05-23T09:08:04.505Z"
   },
   {
    "duration": 7,
    "start_time": "2022-05-23T09:08:04.511Z"
   },
   {
    "duration": 5,
    "start_time": "2022-05-23T09:08:04.520Z"
   },
   {
    "duration": 69,
    "start_time": "2022-05-23T09:08:04.526Z"
   },
   {
    "duration": 0,
    "start_time": "2022-05-23T09:08:04.596Z"
   },
   {
    "duration": 0,
    "start_time": "2022-05-23T09:08:04.597Z"
   },
   {
    "duration": 0,
    "start_time": "2022-05-23T09:08:04.598Z"
   },
   {
    "duration": 0,
    "start_time": "2022-05-23T09:08:04.599Z"
   },
   {
    "duration": 0,
    "start_time": "2022-05-23T09:08:04.600Z"
   },
   {
    "duration": 0,
    "start_time": "2022-05-23T09:08:04.601Z"
   },
   {
    "duration": 0,
    "start_time": "2022-05-23T09:08:04.602Z"
   },
   {
    "duration": 0,
    "start_time": "2022-05-23T09:08:04.603Z"
   },
   {
    "duration": 0,
    "start_time": "2022-05-23T09:08:04.604Z"
   },
   {
    "duration": 21,
    "start_time": "2022-05-23T11:15:29.142Z"
   },
   {
    "duration": 8,
    "start_time": "2022-05-23T11:15:38.046Z"
   },
   {
    "duration": 9,
    "start_time": "2022-05-23T11:18:13.622Z"
   },
   {
    "duration": 5,
    "start_time": "2022-05-23T11:18:18.960Z"
   },
   {
    "duration": 5,
    "start_time": "2022-05-23T11:20:36.055Z"
   },
   {
    "duration": 6,
    "start_time": "2022-05-23T11:20:36.766Z"
   },
   {
    "duration": 5,
    "start_time": "2022-05-23T11:20:37.473Z"
   },
   {
    "duration": 5,
    "start_time": "2022-05-23T11:20:44.054Z"
   },
   {
    "duration": 1558,
    "start_time": "2022-05-23T11:20:45.029Z"
   },
   {
    "duration": 522,
    "start_time": "2022-05-23T11:23:11.971Z"
   },
   {
    "duration": 5,
    "start_time": "2022-05-23T11:23:21.809Z"
   },
   {
    "duration": 562,
    "start_time": "2022-05-23T11:25:35.721Z"
   },
   {
    "duration": 5,
    "start_time": "2022-05-23T11:25:47.883Z"
   },
   {
    "duration": 5,
    "start_time": "2022-05-23T11:25:52.600Z"
   },
   {
    "duration": 4,
    "start_time": "2022-05-23T11:26:45.536Z"
   },
   {
    "duration": 720,
    "start_time": "2022-05-23T11:26:45.542Z"
   },
   {
    "duration": 28,
    "start_time": "2022-05-23T11:26:46.264Z"
   },
   {
    "duration": 19,
    "start_time": "2022-05-23T11:26:46.293Z"
   },
   {
    "duration": 134,
    "start_time": "2022-05-23T11:26:46.314Z"
   },
   {
    "duration": 21,
    "start_time": "2022-05-23T11:26:46.449Z"
   },
   {
    "duration": 21,
    "start_time": "2022-05-23T11:26:46.471Z"
   },
   {
    "duration": 22,
    "start_time": "2022-05-23T11:26:46.494Z"
   },
   {
    "duration": 21,
    "start_time": "2022-05-23T11:26:46.517Z"
   },
   {
    "duration": 47,
    "start_time": "2022-05-23T11:26:46.539Z"
   },
   {
    "duration": 94,
    "start_time": "2022-05-23T11:26:46.589Z"
   },
   {
    "duration": 3,
    "start_time": "2022-05-23T11:26:46.685Z"
   },
   {
    "duration": 11,
    "start_time": "2022-05-23T11:26:46.690Z"
   },
   {
    "duration": 4,
    "start_time": "2022-05-23T11:26:46.702Z"
   },
   {
    "duration": 10,
    "start_time": "2022-05-23T11:26:46.708Z"
   },
   {
    "duration": 3,
    "start_time": "2022-05-23T11:26:46.720Z"
   },
   {
    "duration": 107,
    "start_time": "2022-05-23T11:26:46.725Z"
   },
   {
    "duration": 5,
    "start_time": "2022-05-23T11:26:46.833Z"
   },
   {
    "duration": 17,
    "start_time": "2022-05-23T11:26:46.839Z"
   },
   {
    "duration": 26,
    "start_time": "2022-05-23T11:26:46.858Z"
   },
   {
    "duration": 23,
    "start_time": "2022-05-23T11:26:46.886Z"
   },
   {
    "duration": 6,
    "start_time": "2022-05-23T11:26:46.910Z"
   },
   {
    "duration": 1477,
    "start_time": "2022-05-23T11:26:46.917Z"
   },
   {
    "duration": 1437,
    "start_time": "2022-05-23T11:26:48.395Z"
   },
   {
    "duration": 1407,
    "start_time": "2022-05-23T11:26:49.834Z"
   },
   {
    "duration": 630,
    "start_time": "2022-05-23T11:26:51.243Z"
   },
   {
    "duration": 4,
    "start_time": "2022-05-23T11:26:51.874Z"
   },
   {
    "duration": 7,
    "start_time": "2022-05-23T11:26:51.883Z"
   },
   {
    "duration": 4,
    "start_time": "2022-05-23T11:26:51.894Z"
   },
   {
    "duration": 8,
    "start_time": "2022-05-23T11:26:51.900Z"
   },
   {
    "duration": 1598,
    "start_time": "2022-05-23T11:26:51.910Z"
   },
   {
    "duration": 6,
    "start_time": "2022-05-23T11:26:53.510Z"
   },
   {
    "duration": 605,
    "start_time": "2022-05-23T11:26:53.517Z"
   },
   {
    "duration": 6,
    "start_time": "2022-05-23T11:26:54.124Z"
   },
   {
    "duration": 10,
    "start_time": "2022-05-23T11:26:54.132Z"
   },
   {
    "duration": 309,
    "start_time": "2022-05-23T11:26:54.143Z"
   },
   {
    "duration": 3,
    "start_time": "2022-05-23T11:26:54.454Z"
   },
   {
    "duration": 7,
    "start_time": "2022-05-23T11:26:54.459Z"
   },
   {
    "duration": 8,
    "start_time": "2022-05-23T11:26:54.467Z"
   },
   {
    "duration": 7,
    "start_time": "2022-05-23T11:26:54.483Z"
   },
   {
    "duration": 6,
    "start_time": "2022-05-23T11:26:54.491Z"
   },
   {
    "duration": 12458,
    "start_time": "2022-05-23T11:26:54.498Z"
   },
   {
    "duration": 12395,
    "start_time": "2022-05-23T11:27:06.957Z"
   },
   {
    "duration": 4,
    "start_time": "2022-05-23T11:27:19.353Z"
   },
   {
    "duration": 5,
    "start_time": "2022-05-23T11:27:19.359Z"
   },
   {
    "duration": 430321,
    "start_time": "2022-05-23T11:27:19.365Z"
   },
   {
    "duration": 422051,
    "start_time": "2022-05-23T11:34:29.689Z"
   },
   {
    "duration": 3,
    "start_time": "2022-05-23T11:41:31.742Z"
   },
   {
    "duration": 14,
    "start_time": "2022-05-23T11:41:31.747Z"
   },
   {
    "duration": 1125,
    "start_time": "2022-05-23T11:41:31.763Z"
   },
   {
    "duration": 2095,
    "start_time": "2022-05-23T11:41:32.890Z"
   },
   {
    "duration": 8,
    "start_time": "2022-05-23T11:41:34.988Z"
   },
   {
    "duration": 108,
    "start_time": "2022-05-23T11:41:34.998Z"
   },
   {
    "duration": 9,
    "start_time": "2022-05-23T11:41:35.108Z"
   },
   {
    "duration": 4,
    "start_time": "2022-05-23T11:41:35.119Z"
   },
   {
    "duration": 5,
    "start_time": "2022-05-23T11:41:35.125Z"
   },
   {
    "duration": 6,
    "start_time": "2022-05-23T11:41:35.132Z"
   },
   {
    "duration": 5,
    "start_time": "2022-05-23T11:41:35.139Z"
   },
   {
    "duration": 5,
    "start_time": "2022-05-23T11:41:35.146Z"
   },
   {
    "duration": 2336,
    "start_time": "2022-05-23T11:41:35.184Z"
   },
   {
    "duration": 2760,
    "start_time": "2022-05-23T11:41:37.522Z"
   },
   {
    "duration": 3,
    "start_time": "2022-05-23T11:41:40.284Z"
   },
   {
    "duration": 8,
    "start_time": "2022-05-23T11:41:40.289Z"
   },
   {
    "duration": 4,
    "start_time": "2022-05-23T11:41:40.298Z"
   },
   {
    "duration": 6,
    "start_time": "2022-05-23T11:41:40.304Z"
   },
   {
    "duration": 8,
    "start_time": "2022-05-23T11:41:40.312Z"
   },
   {
    "duration": 6,
    "start_time": "2022-05-23T11:41:40.322Z"
   },
   {
    "duration": 6,
    "start_time": "2022-05-23T11:41:40.329Z"
   },
   {
    "duration": 7,
    "start_time": "2022-05-23T11:41:40.337Z"
   },
   {
    "duration": 1568,
    "start_time": "2022-05-25T11:47:25.118Z"
   },
   {
    "duration": 1932,
    "start_time": "2022-05-25T11:47:26.688Z"
   },
   {
    "duration": 26,
    "start_time": "2022-05-25T11:47:28.621Z"
   },
   {
    "duration": 17,
    "start_time": "2022-05-25T11:47:28.648Z"
   },
   {
    "duration": 125,
    "start_time": "2022-05-25T11:47:28.667Z"
   },
   {
    "duration": 21,
    "start_time": "2022-05-25T11:47:28.794Z"
   },
   {
    "duration": 34,
    "start_time": "2022-05-25T11:47:28.817Z"
   },
   {
    "duration": 27,
    "start_time": "2022-05-25T11:47:28.853Z"
   },
   {
    "duration": 23,
    "start_time": "2022-05-25T11:47:28.882Z"
   },
   {
    "duration": 32,
    "start_time": "2022-05-25T11:47:28.908Z"
   },
   {
    "duration": 91,
    "start_time": "2022-05-25T11:47:28.942Z"
   },
   {
    "duration": 3,
    "start_time": "2022-05-25T11:47:29.035Z"
   },
   {
    "duration": 16,
    "start_time": "2022-05-25T11:47:29.039Z"
   },
   {
    "duration": 21,
    "start_time": "2022-05-25T11:47:29.057Z"
   },
   {
    "duration": 15,
    "start_time": "2022-05-25T11:47:29.080Z"
   },
   {
    "duration": 20,
    "start_time": "2022-05-25T11:47:29.096Z"
   },
   {
    "duration": 93,
    "start_time": "2022-05-25T11:47:29.117Z"
   },
   {
    "duration": 4,
    "start_time": "2022-05-25T11:47:29.212Z"
   },
   {
    "duration": 26,
    "start_time": "2022-05-25T11:47:29.217Z"
   },
   {
    "duration": 27,
    "start_time": "2022-05-25T11:47:29.245Z"
   },
   {
    "duration": 47,
    "start_time": "2022-05-25T11:47:29.273Z"
   },
   {
    "duration": 6,
    "start_time": "2022-05-25T11:47:29.321Z"
   },
   {
    "duration": 1481,
    "start_time": "2022-05-25T11:47:29.329Z"
   },
   {
    "duration": 1441,
    "start_time": "2022-05-25T11:47:30.812Z"
   },
   {
    "duration": 1377,
    "start_time": "2022-05-25T11:47:32.255Z"
   },
   {
    "duration": 525,
    "start_time": "2022-05-25T11:47:33.634Z"
   },
   {
    "duration": 4,
    "start_time": "2022-05-25T11:47:34.161Z"
   },
   {
    "duration": 4,
    "start_time": "2022-05-25T11:47:34.169Z"
   },
   {
    "duration": 5,
    "start_time": "2022-05-25T11:47:34.174Z"
   },
   {
    "duration": 5,
    "start_time": "2022-05-25T11:47:34.194Z"
   },
   {
    "duration": 1620,
    "start_time": "2022-05-25T11:47:34.200Z"
   },
   {
    "duration": 6,
    "start_time": "2022-05-25T11:47:35.822Z"
   },
   {
    "duration": 544,
    "start_time": "2022-05-25T11:47:35.829Z"
   },
   {
    "duration": 7,
    "start_time": "2022-05-25T11:47:36.375Z"
   },
   {
    "duration": 4,
    "start_time": "2022-05-25T11:47:36.394Z"
   },
   {
    "duration": 269,
    "start_time": "2022-05-25T11:47:36.399Z"
   },
   {
    "duration": 3,
    "start_time": "2022-05-25T11:47:36.669Z"
   },
   {
    "duration": 5,
    "start_time": "2022-05-25T11:47:36.674Z"
   },
   {
    "duration": 14,
    "start_time": "2022-05-25T11:47:36.680Z"
   },
   {
    "duration": 10,
    "start_time": "2022-05-25T11:47:36.696Z"
   },
   {
    "duration": 6,
    "start_time": "2022-05-25T11:47:36.707Z"
   },
   {
    "duration": 11899,
    "start_time": "2022-05-25T11:47:36.715Z"
   },
   {
    "duration": 11930,
    "start_time": "2022-05-25T11:47:48.616Z"
   },
   {
    "duration": 3,
    "start_time": "2022-05-25T11:48:00.547Z"
   },
   {
    "duration": 8,
    "start_time": "2022-05-25T11:48:00.552Z"
   },
   {
    "duration": 411638,
    "start_time": "2022-05-25T11:48:00.562Z"
   },
   {
    "duration": 408192,
    "start_time": "2022-05-25T11:54:52.201Z"
   },
   {
    "duration": 2,
    "start_time": "2022-05-25T12:01:40.395Z"
   },
   {
    "duration": 5,
    "start_time": "2022-05-25T12:01:40.399Z"
   },
   {
    "duration": 1399,
    "start_time": "2022-05-25T12:01:40.406Z"
   },
   {
    "duration": 1503,
    "start_time": "2022-05-25T12:01:41.896Z"
   },
   {
    "duration": 95,
    "start_time": "2022-05-25T12:01:43.401Z"
   },
   {
    "duration": 107,
    "start_time": "2022-05-25T12:01:43.499Z"
   },
   {
    "duration": 7,
    "start_time": "2022-05-25T12:01:43.607Z"
   },
   {
    "duration": 4,
    "start_time": "2022-05-25T12:01:43.616Z"
   },
   {
    "duration": 6,
    "start_time": "2022-05-25T12:01:43.621Z"
   },
   {
    "duration": 5,
    "start_time": "2022-05-25T12:01:43.628Z"
   },
   {
    "duration": 7,
    "start_time": "2022-05-25T12:01:43.635Z"
   },
   {
    "duration": 5,
    "start_time": "2022-05-25T12:01:43.643Z"
   },
   {
    "duration": 2285,
    "start_time": "2022-05-25T12:01:43.649Z"
   },
   {
    "duration": 2658,
    "start_time": "2022-05-25T12:01:45.936Z"
   },
   {
    "duration": 4,
    "start_time": "2022-05-25T12:01:48.595Z"
   },
   {
    "duration": 5,
    "start_time": "2022-05-25T12:01:48.600Z"
   },
   {
    "duration": 5,
    "start_time": "2022-05-25T12:01:48.606Z"
   },
   {
    "duration": 7,
    "start_time": "2022-05-25T12:01:48.612Z"
   },
   {
    "duration": 4,
    "start_time": "2022-05-25T12:01:48.620Z"
   },
   {
    "duration": 4,
    "start_time": "2022-05-25T12:01:48.626Z"
   },
   {
    "duration": 5,
    "start_time": "2022-05-25T12:01:48.632Z"
   },
   {
    "duration": 8,
    "start_time": "2022-05-25T12:01:48.639Z"
   },
   {
    "duration": 28,
    "start_time": "2022-05-26T08:16:19.196Z"
   },
   {
    "duration": 826,
    "start_time": "2022-05-26T08:16:19.235Z"
   },
   {
    "duration": 47,
    "start_time": "2022-05-26T08:16:20.064Z"
   },
   {
    "duration": 47,
    "start_time": "2022-05-26T08:16:20.122Z"
   },
   {
    "duration": 140,
    "start_time": "2022-05-26T08:16:20.171Z"
   },
   {
    "duration": 25,
    "start_time": "2022-05-26T08:16:20.318Z"
   },
   {
    "duration": 13,
    "start_time": "2022-05-26T08:16:20.345Z"
   },
   {
    "duration": 30,
    "start_time": "2022-05-26T08:16:20.359Z"
   },
   {
    "duration": 37,
    "start_time": "2022-05-26T08:16:20.403Z"
   },
   {
    "duration": 30,
    "start_time": "2022-05-26T08:16:20.442Z"
   },
   {
    "duration": 110,
    "start_time": "2022-05-26T08:16:20.475Z"
   },
   {
    "duration": 10,
    "start_time": "2022-05-26T08:16:20.587Z"
   },
   {
    "duration": 57,
    "start_time": "2022-05-26T08:16:20.598Z"
   },
   {
    "duration": 25,
    "start_time": "2022-05-26T08:16:20.657Z"
   },
   {
    "duration": 56,
    "start_time": "2022-05-26T08:16:20.684Z"
   },
   {
    "duration": 19,
    "start_time": "2022-05-26T08:16:20.742Z"
   },
   {
    "duration": 100,
    "start_time": "2022-05-26T08:16:20.763Z"
   },
   {
    "duration": 5,
    "start_time": "2022-05-26T08:16:20.864Z"
   },
   {
    "duration": 65,
    "start_time": "2022-05-26T08:16:20.870Z"
   },
   {
    "duration": 24,
    "start_time": "2022-05-26T08:16:20.937Z"
   },
   {
    "duration": 33,
    "start_time": "2022-05-26T08:16:20.962Z"
   },
   {
    "duration": 9,
    "start_time": "2022-05-26T08:16:20.997Z"
   },
   {
    "duration": 1839,
    "start_time": "2022-05-26T08:16:21.008Z"
   },
   {
    "duration": 1705,
    "start_time": "2022-05-26T08:16:22.848Z"
   },
   {
    "duration": 1969,
    "start_time": "2022-05-26T08:16:24.555Z"
   },
   {
    "duration": 1012,
    "start_time": "2022-05-26T08:16:26.526Z"
   },
   {
    "duration": 5,
    "start_time": "2022-05-26T08:16:27.540Z"
   },
   {
    "duration": 7,
    "start_time": "2022-05-26T08:16:27.547Z"
   },
   {
    "duration": 6,
    "start_time": "2022-05-26T08:16:27.555Z"
   },
   {
    "duration": 6,
    "start_time": "2022-05-26T08:16:27.563Z"
   },
   {
    "duration": 1764,
    "start_time": "2022-05-26T08:16:27.570Z"
   },
   {
    "duration": 6,
    "start_time": "2022-05-26T08:16:29.343Z"
   },
   {
    "duration": 656,
    "start_time": "2022-05-26T08:16:29.351Z"
   },
   {
    "duration": 7,
    "start_time": "2022-05-26T08:16:30.009Z"
   },
   {
    "duration": 64,
    "start_time": "2022-05-26T08:16:30.018Z"
   },
   {
    "duration": 5,
    "start_time": "2022-05-26T08:16:30.084Z"
   },
   {
    "duration": 377,
    "start_time": "2022-05-26T08:16:30.091Z"
   },
   {
    "duration": 3,
    "start_time": "2022-05-26T08:16:30.470Z"
   },
   {
    "duration": 20,
    "start_time": "2022-05-26T08:16:30.475Z"
   },
   {
    "duration": 37,
    "start_time": "2022-05-26T08:16:30.503Z"
   },
   {
    "duration": 11,
    "start_time": "2022-05-26T08:16:30.542Z"
   },
   {
    "duration": 22,
    "start_time": "2022-05-26T08:16:30.555Z"
   },
   {
    "duration": 13343,
    "start_time": "2022-05-26T08:16:30.579Z"
   },
   {
    "duration": 13592,
    "start_time": "2022-05-26T08:16:43.924Z"
   },
   {
    "duration": 8,
    "start_time": "2022-05-26T08:16:57.520Z"
   },
   {
    "duration": 18,
    "start_time": "2022-05-26T08:16:57.532Z"
   },
   {
    "duration": 462825,
    "start_time": "2022-05-26T08:16:57.551Z"
   },
   {
    "duration": 483382,
    "start_time": "2022-05-26T08:24:40.378Z"
   },
   {
    "duration": 6,
    "start_time": "2022-05-26T08:32:43.762Z"
   },
   {
    "duration": 7,
    "start_time": "2022-05-26T08:32:43.772Z"
   },
   {
    "duration": 3910,
    "start_time": "2022-05-26T08:32:43.781Z"
   },
   {
    "duration": 3916,
    "start_time": "2022-05-26T08:32:47.693Z"
   },
   {
    "duration": 21,
    "start_time": "2022-05-26T08:32:51.622Z"
   },
   {
    "duration": 181,
    "start_time": "2022-05-26T08:32:51.659Z"
   },
   {
    "duration": 167,
    "start_time": "2022-05-26T08:32:51.845Z"
   },
   {
    "duration": 68,
    "start_time": "2022-05-26T08:32:52.018Z"
   },
   {
    "duration": 107,
    "start_time": "2022-05-26T08:32:52.091Z"
   },
   {
    "duration": 87,
    "start_time": "2022-05-26T08:32:52.208Z"
   },
   {
    "duration": 91,
    "start_time": "2022-05-26T08:32:52.297Z"
   },
   {
    "duration": 101,
    "start_time": "2022-05-26T08:32:52.390Z"
   },
   {
    "duration": 3625,
    "start_time": "2022-05-26T08:32:52.494Z"
   },
   {
    "duration": 3315,
    "start_time": "2022-05-26T08:32:56.121Z"
   },
   {
    "duration": 7,
    "start_time": "2022-05-26T08:32:59.442Z"
   },
   {
    "duration": 39,
    "start_time": "2022-05-26T08:32:59.450Z"
   },
   {
    "duration": 72,
    "start_time": "2022-05-26T08:32:59.491Z"
   },
   {
    "duration": 31,
    "start_time": "2022-05-26T08:32:59.568Z"
   },
   {
    "duration": 70,
    "start_time": "2022-05-26T08:32:59.603Z"
   },
   {
    "duration": 10,
    "start_time": "2022-05-26T08:32:59.675Z"
   },
   {
    "duration": 57,
    "start_time": "2022-05-26T08:32:59.687Z"
   },
   {
    "duration": 47,
    "start_time": "2022-05-26T08:32:59.746Z"
   },
   {
    "duration": 4,
    "start_time": "2022-05-26T08:39:25.635Z"
   },
   {
    "duration": 41,
    "start_time": "2022-05-26T08:39:33.161Z"
   },
   {
    "duration": 34,
    "start_time": "2022-05-26T08:39:37.337Z"
   },
   {
    "duration": 24,
    "start_time": "2022-05-26T08:39:44.736Z"
   },
   {
    "duration": 31,
    "start_time": "2022-05-26T08:39:47.784Z"
   },
   {
    "duration": 5,
    "start_time": "2022-05-26T08:39:54.281Z"
   },
   {
    "duration": 8,
    "start_time": "2022-05-26T08:40:16.064Z"
   },
   {
    "duration": 4,
    "start_time": "2022-05-26T08:40:17.344Z"
   },
   {
    "duration": 5,
    "start_time": "2022-05-26T08:40:18.585Z"
   },
   {
    "duration": 5,
    "start_time": "2022-05-26T08:40:21.041Z"
   },
   {
    "duration": 4,
    "start_time": "2022-05-26T08:40:22.673Z"
   },
   {
    "duration": 23,
    "start_time": "2022-05-26T08:40:23.792Z"
   },
   {
    "duration": 11,
    "start_time": "2022-05-26T08:41:36.299Z"
   },
   {
    "duration": 4,
    "start_time": "2022-05-26T08:42:12.866Z"
   },
   {
    "duration": 4,
    "start_time": "2022-05-26T08:42:13.841Z"
   },
   {
    "duration": 5,
    "start_time": "2022-05-26T08:42:14.753Z"
   },
   {
    "duration": 4,
    "start_time": "2022-05-26T08:43:58.548Z"
   },
   {
    "duration": 825,
    "start_time": "2022-05-26T08:43:58.554Z"
   },
   {
    "duration": 33,
    "start_time": "2022-05-26T08:43:59.382Z"
   },
   {
    "duration": 46,
    "start_time": "2022-05-26T08:43:59.417Z"
   },
   {
    "duration": 120,
    "start_time": "2022-05-26T08:43:59.465Z"
   },
   {
    "duration": 37,
    "start_time": "2022-05-26T08:43:59.587Z"
   },
   {
    "duration": 24,
    "start_time": "2022-05-26T08:43:59.629Z"
   },
   {
    "duration": 31,
    "start_time": "2022-05-26T08:43:59.655Z"
   },
   {
    "duration": 42,
    "start_time": "2022-05-26T08:43:59.688Z"
   },
   {
    "duration": 20,
    "start_time": "2022-05-26T08:43:59.732Z"
   },
   {
    "duration": 117,
    "start_time": "2022-05-26T08:43:59.756Z"
   },
   {
    "duration": 3,
    "start_time": "2022-05-26T08:43:59.875Z"
   },
   {
    "duration": 23,
    "start_time": "2022-05-26T08:43:59.879Z"
   },
   {
    "duration": 28,
    "start_time": "2022-05-26T08:43:59.909Z"
   },
   {
    "duration": 10,
    "start_time": "2022-05-26T08:43:59.939Z"
   },
   {
    "duration": 8,
    "start_time": "2022-05-26T08:43:59.951Z"
   },
   {
    "duration": 81,
    "start_time": "2022-05-26T08:43:59.960Z"
   },
   {
    "duration": 6,
    "start_time": "2022-05-26T08:44:00.043Z"
   },
   {
    "duration": 31,
    "start_time": "2022-05-26T08:44:00.050Z"
   },
   {
    "duration": 63,
    "start_time": "2022-05-26T08:44:00.083Z"
   },
   {
    "duration": 43,
    "start_time": "2022-05-26T08:44:00.148Z"
   },
   {
    "duration": 14,
    "start_time": "2022-05-26T08:44:00.192Z"
   },
   {
    "duration": 1562,
    "start_time": "2022-05-26T08:44:00.208Z"
   },
   {
    "duration": 1774,
    "start_time": "2022-05-26T08:44:01.772Z"
   },
   {
    "duration": 1583,
    "start_time": "2022-05-26T08:44:03.548Z"
   },
   {
    "duration": 887,
    "start_time": "2022-05-26T08:44:05.136Z"
   },
   {
    "duration": 10,
    "start_time": "2022-05-26T08:44:06.032Z"
   },
   {
    "duration": 14,
    "start_time": "2022-05-26T08:44:06.048Z"
   },
   {
    "duration": 6,
    "start_time": "2022-05-26T08:44:06.066Z"
   },
   {
    "duration": 11,
    "start_time": "2022-05-26T08:44:06.074Z"
   },
   {
    "duration": 1553,
    "start_time": "2022-05-26T08:44:06.087Z"
   },
   {
    "duration": 4,
    "start_time": "2022-05-26T08:44:07.642Z"
   },
   {
    "duration": 468,
    "start_time": "2022-05-26T08:44:07.647Z"
   },
   {
    "duration": 7,
    "start_time": "2022-05-26T08:44:08.117Z"
   },
   {
    "duration": 35,
    "start_time": "2022-05-26T08:44:08.125Z"
   },
   {
    "duration": 20,
    "start_time": "2022-05-26T08:44:08.162Z"
   },
   {
    "duration": 29,
    "start_time": "2022-05-26T08:44:08.183Z"
   },
   {
    "duration": 23,
    "start_time": "2022-05-26T08:44:08.218Z"
   },
   {
    "duration": 3,
    "start_time": "2022-05-26T08:44:08.243Z"
   },
   {
    "duration": 8,
    "start_time": "2022-05-26T08:44:08.248Z"
   },
   {
    "duration": 62,
    "start_time": "2022-05-26T08:44:08.258Z"
   },
   {
    "duration": 15,
    "start_time": "2022-05-26T08:44:08.321Z"
   },
   {
    "duration": 294,
    "start_time": "2022-05-26T08:44:08.337Z"
   },
   {
    "duration": 2,
    "start_time": "2022-05-26T08:44:08.633Z"
   },
   {
    "duration": 10,
    "start_time": "2022-05-26T08:44:08.637Z"
   },
   {
    "duration": 9,
    "start_time": "2022-05-26T08:44:08.648Z"
   },
   {
    "duration": 10,
    "start_time": "2022-05-26T08:44:08.658Z"
   },
   {
    "duration": 7,
    "start_time": "2022-05-26T08:44:08.669Z"
   },
   {
    "duration": 13694,
    "start_time": "2022-05-26T08:44:08.677Z"
   },
   {
    "duration": 13833,
    "start_time": "2022-05-26T08:44:22.373Z"
   },
   {
    "duration": 4,
    "start_time": "2022-05-26T08:44:36.208Z"
   },
   {
    "duration": 18,
    "start_time": "2022-05-26T08:44:36.213Z"
   },
   {
    "duration": 449821,
    "start_time": "2022-05-26T08:44:36.232Z"
   },
   {
    "duration": 467773,
    "start_time": "2022-05-26T08:52:06.055Z"
   },
   {
    "duration": 5,
    "start_time": "2022-05-26T08:59:53.830Z"
   },
   {
    "duration": 4,
    "start_time": "2022-05-26T08:59:53.836Z"
   },
   {
    "duration": 5699,
    "start_time": "2022-05-26T08:59:53.844Z"
   },
   {
    "duration": 6899,
    "start_time": "2022-05-26T08:59:59.544Z"
   },
   {
    "duration": 50,
    "start_time": "2022-05-26T09:00:06.445Z"
   },
   {
    "duration": 125,
    "start_time": "2022-05-26T09:00:06.498Z"
   },
   {
    "duration": 49,
    "start_time": "2022-05-26T09:00:06.625Z"
   },
   {
    "duration": 69,
    "start_time": "2022-05-26T09:00:06.676Z"
   },
   {
    "duration": 16,
    "start_time": "2022-05-26T09:00:06.747Z"
   },
   {
    "duration": 32,
    "start_time": "2022-05-26T09:00:06.765Z"
   },
   {
    "duration": 53,
    "start_time": "2022-05-26T09:00:06.799Z"
   },
   {
    "duration": 35,
    "start_time": "2022-05-26T09:00:06.853Z"
   },
   {
    "duration": 257,
    "start_time": "2022-05-26T09:00:06.890Z"
   },
   {
    "duration": 0,
    "start_time": "2022-05-26T09:00:07.149Z"
   },
   {
    "duration": 0,
    "start_time": "2022-05-26T09:00:07.150Z"
   },
   {
    "duration": 0,
    "start_time": "2022-05-26T09:00:07.151Z"
   },
   {
    "duration": 0,
    "start_time": "2022-05-26T09:00:07.152Z"
   },
   {
    "duration": 0,
    "start_time": "2022-05-26T09:00:07.153Z"
   },
   {
    "duration": 0,
    "start_time": "2022-05-26T09:00:07.153Z"
   },
   {
    "duration": 0,
    "start_time": "2022-05-26T09:00:07.155Z"
   },
   {
    "duration": 0,
    "start_time": "2022-05-26T09:00:07.156Z"
   },
   {
    "duration": 0,
    "start_time": "2022-05-26T09:00:07.157Z"
   },
   {
    "duration": 4,
    "start_time": "2022-05-26T09:41:23.224Z"
   },
   {
    "duration": 4,
    "start_time": "2022-05-26T09:41:35.646Z"
   },
   {
    "duration": 4,
    "start_time": "2022-05-26T09:41:44.189Z"
   },
   {
    "duration": 13,
    "start_time": "2022-05-26T09:42:49.246Z"
   },
   {
    "duration": 47,
    "start_time": "2022-05-26T09:42:54.573Z"
   },
   {
    "duration": 9,
    "start_time": "2022-05-26T09:43:35.170Z"
   },
   {
    "duration": 592,
    "start_time": "2022-05-26T09:44:26.319Z"
   },
   {
    "duration": 9,
    "start_time": "2022-05-26T09:45:05.546Z"
   },
   {
    "duration": 27,
    "start_time": "2022-05-26T09:45:09.046Z"
   },
   {
    "duration": 891,
    "start_time": "2022-05-26T09:46:03.080Z"
   },
   {
    "duration": 8,
    "start_time": "2022-05-26T09:47:31.768Z"
   },
   {
    "duration": 5,
    "start_time": "2022-05-26T09:47:38.958Z"
   },
   {
    "duration": 31,
    "start_time": "2022-05-26T09:49:05.782Z"
   },
   {
    "duration": 15,
    "start_time": "2022-05-26T09:49:08.560Z"
   },
   {
    "duration": 7,
    "start_time": "2022-05-26T09:49:25.230Z"
   },
   {
    "duration": 2201,
    "start_time": "2022-05-27T10:17:46.118Z"
   },
   {
    "duration": 3139,
    "start_time": "2022-05-27T10:17:48.321Z"
   },
   {
    "duration": 29,
    "start_time": "2022-05-27T10:17:51.461Z"
   },
   {
    "duration": 19,
    "start_time": "2022-05-27T10:17:51.492Z"
   },
   {
    "duration": 160,
    "start_time": "2022-05-27T10:17:51.514Z"
   },
   {
    "duration": 23,
    "start_time": "2022-05-27T10:17:51.676Z"
   },
   {
    "duration": 16,
    "start_time": "2022-05-27T10:17:51.701Z"
   },
   {
    "duration": 56,
    "start_time": "2022-05-27T10:17:51.719Z"
   },
   {
    "duration": 24,
    "start_time": "2022-05-27T10:17:51.777Z"
   },
   {
    "duration": 18,
    "start_time": "2022-05-27T10:17:51.804Z"
   },
   {
    "duration": 141,
    "start_time": "2022-05-27T10:17:51.824Z"
   },
   {
    "duration": 3,
    "start_time": "2022-05-27T10:17:51.967Z"
   },
   {
    "duration": 11,
    "start_time": "2022-05-27T10:17:51.972Z"
   },
   {
    "duration": 4,
    "start_time": "2022-05-27T10:17:51.984Z"
   },
   {
    "duration": 11,
    "start_time": "2022-05-27T10:17:51.989Z"
   },
   {
    "duration": 7,
    "start_time": "2022-05-27T10:17:52.002Z"
   },
   {
    "duration": 127,
    "start_time": "2022-05-27T10:17:52.011Z"
   },
   {
    "duration": 5,
    "start_time": "2022-05-27T10:17:52.140Z"
   },
   {
    "duration": 28,
    "start_time": "2022-05-27T10:17:52.147Z"
   },
   {
    "duration": 14,
    "start_time": "2022-05-27T10:17:52.177Z"
   },
   {
    "duration": 20,
    "start_time": "2022-05-27T10:17:52.193Z"
   },
   {
    "duration": 7,
    "start_time": "2022-05-27T10:17:52.214Z"
   },
   {
    "duration": 1861,
    "start_time": "2022-05-27T10:17:52.223Z"
   },
   {
    "duration": 1630,
    "start_time": "2022-05-27T10:17:54.086Z"
   },
   {
    "duration": 1856,
    "start_time": "2022-05-27T10:17:55.718Z"
   },
   {
    "duration": 708,
    "start_time": "2022-05-27T10:17:57.576Z"
   },
   {
    "duration": 6,
    "start_time": "2022-05-27T10:17:58.286Z"
   },
   {
    "duration": 7,
    "start_time": "2022-05-27T10:17:58.298Z"
   },
   {
    "duration": 12,
    "start_time": "2022-05-27T10:17:58.306Z"
   },
   {
    "duration": 9,
    "start_time": "2022-05-27T10:17:58.320Z"
   },
   {
    "duration": 1810,
    "start_time": "2022-05-27T10:17:58.331Z"
   },
   {
    "duration": 4,
    "start_time": "2022-05-27T10:18:00.143Z"
   },
   {
    "duration": 608,
    "start_time": "2022-05-27T10:18:00.149Z"
   },
   {
    "duration": 6,
    "start_time": "2022-05-27T10:18:00.759Z"
   },
   {
    "duration": 50,
    "start_time": "2022-05-27T10:18:00.767Z"
   },
   {
    "duration": 30,
    "start_time": "2022-05-27T10:18:00.819Z"
   },
   {
    "duration": 38,
    "start_time": "2022-05-27T10:18:00.852Z"
   },
   {
    "duration": 38,
    "start_time": "2022-05-27T10:18:00.892Z"
   },
   {
    "duration": 18,
    "start_time": "2022-05-27T10:18:00.932Z"
   },
   {
    "duration": 40,
    "start_time": "2022-05-27T10:18:00.953Z"
   },
   {
    "duration": 35,
    "start_time": "2022-05-27T10:18:00.995Z"
   },
   {
    "duration": 335,
    "start_time": "2022-05-27T10:18:01.032Z"
   },
   {
    "duration": 3,
    "start_time": "2022-05-27T10:18:01.370Z"
   },
   {
    "duration": 21,
    "start_time": "2022-05-27T10:18:01.375Z"
   },
   {
    "duration": 16,
    "start_time": "2022-05-27T10:18:01.398Z"
   },
   {
    "duration": 19,
    "start_time": "2022-05-27T10:18:01.416Z"
   },
   {
    "duration": 29,
    "start_time": "2022-05-27T10:18:01.437Z"
   },
   {
    "duration": 13705,
    "start_time": "2022-05-27T10:18:01.470Z"
   },
   {
    "duration": 13559,
    "start_time": "2022-05-27T10:18:15.177Z"
   },
   {
    "duration": 3,
    "start_time": "2022-05-27T10:18:28.738Z"
   },
   {
    "duration": 22,
    "start_time": "2022-05-27T10:18:28.743Z"
   },
   {
    "duration": 465572,
    "start_time": "2022-05-27T10:18:28.766Z"
   },
   {
    "duration": 480495,
    "start_time": "2022-05-27T10:26:14.340Z"
   },
   {
    "duration": 3,
    "start_time": "2022-05-27T10:34:14.837Z"
   },
   {
    "duration": 16,
    "start_time": "2022-05-27T10:34:14.842Z"
   },
   {
    "duration": 1613,
    "start_time": "2022-05-27T10:34:14.865Z"
   },
   {
    "duration": 1707,
    "start_time": "2022-05-27T10:34:16.566Z"
   },
   {
    "duration": 4,
    "start_time": "2022-05-27T10:34:18.275Z"
   },
   {
    "duration": 107,
    "start_time": "2022-05-27T10:34:18.366Z"
   },
   {
    "duration": 13,
    "start_time": "2022-05-27T10:34:18.476Z"
   },
   {
    "duration": 6,
    "start_time": "2022-05-27T10:34:18.491Z"
   },
   {
    "duration": 14,
    "start_time": "2022-05-27T10:34:18.499Z"
   },
   {
    "duration": 5,
    "start_time": "2022-05-27T10:34:18.515Z"
   },
   {
    "duration": 192,
    "start_time": "2022-05-27T10:34:18.522Z"
   },
   {
    "duration": 0,
    "start_time": "2022-05-27T10:34:18.716Z"
   },
   {
    "duration": 0,
    "start_time": "2022-05-27T10:34:18.717Z"
   },
   {
    "duration": 0,
    "start_time": "2022-05-27T10:34:18.719Z"
   },
   {
    "duration": 0,
    "start_time": "2022-05-27T10:34:18.721Z"
   },
   {
    "duration": 0,
    "start_time": "2022-05-27T10:34:18.723Z"
   },
   {
    "duration": 0,
    "start_time": "2022-05-27T10:34:18.724Z"
   },
   {
    "duration": 0,
    "start_time": "2022-05-27T10:34:18.727Z"
   },
   {
    "duration": 0,
    "start_time": "2022-05-27T10:34:18.729Z"
   },
   {
    "duration": 0,
    "start_time": "2022-05-27T10:34:18.732Z"
   },
   {
    "duration": 1687,
    "start_time": "2022-05-30T07:25:52.242Z"
   },
   {
    "duration": 2956,
    "start_time": "2022-05-30T07:25:53.931Z"
   },
   {
    "duration": 23,
    "start_time": "2022-05-30T07:25:56.888Z"
   },
   {
    "duration": 16,
    "start_time": "2022-05-30T07:25:56.913Z"
   },
   {
    "duration": 130,
    "start_time": "2022-05-30T07:25:56.931Z"
   },
   {
    "duration": 33,
    "start_time": "2022-05-30T07:25:57.063Z"
   },
   {
    "duration": 29,
    "start_time": "2022-05-30T07:25:57.098Z"
   },
   {
    "duration": 19,
    "start_time": "2022-05-30T07:25:57.129Z"
   },
   {
    "duration": 19,
    "start_time": "2022-05-30T07:25:57.150Z"
   },
   {
    "duration": 20,
    "start_time": "2022-05-30T07:25:57.171Z"
   },
   {
    "duration": 121,
    "start_time": "2022-05-30T07:25:57.192Z"
   },
   {
    "duration": 4,
    "start_time": "2022-05-30T07:25:57.324Z"
   },
   {
    "duration": 11,
    "start_time": "2022-05-30T07:25:57.330Z"
   },
   {
    "duration": 4,
    "start_time": "2022-05-30T07:25:57.344Z"
   },
   {
    "duration": 11,
    "start_time": "2022-05-30T07:25:57.350Z"
   },
   {
    "duration": 4,
    "start_time": "2022-05-30T07:25:57.363Z"
   },
   {
    "duration": 111,
    "start_time": "2022-05-30T07:25:57.369Z"
   },
   {
    "duration": 4,
    "start_time": "2022-05-30T07:25:57.483Z"
   },
   {
    "duration": 18,
    "start_time": "2022-05-30T07:25:57.489Z"
   },
   {
    "duration": 33,
    "start_time": "2022-05-30T07:25:57.510Z"
   },
   {
    "duration": 41,
    "start_time": "2022-05-30T07:25:57.545Z"
   },
   {
    "duration": 7,
    "start_time": "2022-05-30T07:25:57.589Z"
   },
   {
    "duration": 1900,
    "start_time": "2022-05-30T07:25:57.598Z"
   },
   {
    "duration": 1465,
    "start_time": "2022-05-30T07:25:59.500Z"
   },
   {
    "duration": 1471,
    "start_time": "2022-05-30T07:26:00.967Z"
   },
   {
    "duration": 590,
    "start_time": "2022-05-30T07:26:02.440Z"
   },
   {
    "duration": 5,
    "start_time": "2022-05-30T07:26:03.032Z"
   },
   {
    "duration": 4,
    "start_time": "2022-05-30T07:26:03.041Z"
   },
   {
    "duration": 5,
    "start_time": "2022-05-30T07:26:03.047Z"
   },
   {
    "duration": 10,
    "start_time": "2022-05-30T07:26:03.054Z"
   },
   {
    "duration": 1557,
    "start_time": "2022-05-30T07:26:03.065Z"
   },
   {
    "duration": 5,
    "start_time": "2022-05-30T07:26:04.624Z"
   },
   {
    "duration": 520,
    "start_time": "2022-05-30T07:26:04.631Z"
   },
   {
    "duration": 4,
    "start_time": "2022-05-30T07:26:05.152Z"
   },
   {
    "duration": 37,
    "start_time": "2022-05-30T07:26:05.158Z"
   },
   {
    "duration": 44,
    "start_time": "2022-05-30T07:26:05.196Z"
   },
   {
    "duration": 24,
    "start_time": "2022-05-30T07:26:05.241Z"
   },
   {
    "duration": 19,
    "start_time": "2022-05-30T07:26:05.267Z"
   },
   {
    "duration": 7,
    "start_time": "2022-05-30T07:26:05.288Z"
   },
   {
    "duration": 46,
    "start_time": "2022-05-30T07:26:05.296Z"
   },
   {
    "duration": 5,
    "start_time": "2022-05-30T07:26:05.344Z"
   },
   {
    "duration": 276,
    "start_time": "2022-05-30T07:26:05.351Z"
   },
   {
    "duration": 3,
    "start_time": "2022-05-30T07:26:05.628Z"
   },
   {
    "duration": 8,
    "start_time": "2022-05-30T07:26:05.632Z"
   },
   {
    "duration": 7,
    "start_time": "2022-05-30T07:26:05.641Z"
   },
   {
    "duration": 8,
    "start_time": "2022-05-30T07:26:05.649Z"
   },
   {
    "duration": 9,
    "start_time": "2022-05-30T07:26:05.659Z"
   },
   {
    "duration": 12201,
    "start_time": "2022-05-30T07:26:05.669Z"
   },
   {
    "duration": 11813,
    "start_time": "2022-05-30T07:26:17.872Z"
   },
   {
    "duration": 3,
    "start_time": "2022-05-30T07:26:29.687Z"
   },
   {
    "duration": 12,
    "start_time": "2022-05-30T07:26:29.692Z"
   },
   {
    "duration": 409444,
    "start_time": "2022-05-30T07:26:29.706Z"
   },
   {
    "duration": 403330,
    "start_time": "2022-05-30T07:33:19.152Z"
   },
   {
    "duration": 3,
    "start_time": "2022-05-30T07:40:02.484Z"
   },
   {
    "duration": 6,
    "start_time": "2022-05-30T07:40:02.489Z"
   },
   {
    "duration": 1830,
    "start_time": "2022-05-30T07:40:02.497Z"
   },
   {
    "duration": 1896,
    "start_time": "2022-05-30T07:40:04.329Z"
   },
   {
    "duration": 5,
    "start_time": "2022-05-30T07:40:06.227Z"
   },
   {
    "duration": 107,
    "start_time": "2022-05-30T07:40:06.234Z"
   },
   {
    "duration": 11,
    "start_time": "2022-05-30T07:40:06.343Z"
   },
   {
    "duration": 32,
    "start_time": "2022-05-30T07:40:06.355Z"
   },
   {
    "duration": 14,
    "start_time": "2022-05-30T07:40:06.389Z"
   },
   {
    "duration": 7,
    "start_time": "2022-05-30T07:40:06.405Z"
   },
   {
    "duration": 139,
    "start_time": "2022-05-30T07:40:06.413Z"
   },
   {
    "duration": 0,
    "start_time": "2022-05-30T07:40:06.553Z"
   },
   {
    "duration": 0,
    "start_time": "2022-05-30T07:40:06.554Z"
   },
   {
    "duration": 0,
    "start_time": "2022-05-30T07:40:06.555Z"
   },
   {
    "duration": 0,
    "start_time": "2022-05-30T07:40:06.556Z"
   },
   {
    "duration": 0,
    "start_time": "2022-05-30T07:40:06.558Z"
   },
   {
    "duration": 0,
    "start_time": "2022-05-30T07:40:06.559Z"
   },
   {
    "duration": 0,
    "start_time": "2022-05-30T07:40:06.560Z"
   },
   {
    "duration": 0,
    "start_time": "2022-05-30T07:40:06.562Z"
   },
   {
    "duration": 0,
    "start_time": "2022-05-30T07:40:06.563Z"
   },
   {
    "duration": 7,
    "start_time": "2022-05-30T08:12:12.589Z"
   },
   {
    "duration": 3,
    "start_time": "2022-05-30T08:12:14.150Z"
   },
   {
    "duration": 4,
    "start_time": "2022-05-30T08:12:17.687Z"
   },
   {
    "duration": 768,
    "start_time": "2022-05-30T08:12:17.695Z"
   },
   {
    "duration": 22,
    "start_time": "2022-05-30T08:12:18.465Z"
   },
   {
    "duration": 34,
    "start_time": "2022-05-30T08:12:18.489Z"
   },
   {
    "duration": 122,
    "start_time": "2022-05-30T08:12:18.526Z"
   },
   {
    "duration": 21,
    "start_time": "2022-05-30T08:12:18.650Z"
   },
   {
    "duration": 12,
    "start_time": "2022-05-30T08:12:18.673Z"
   },
   {
    "duration": 42,
    "start_time": "2022-05-30T08:12:18.687Z"
   },
   {
    "duration": 20,
    "start_time": "2022-05-30T08:12:18.731Z"
   },
   {
    "duration": 21,
    "start_time": "2022-05-30T08:12:18.752Z"
   },
   {
    "duration": 105,
    "start_time": "2022-05-30T08:12:18.776Z"
   },
   {
    "duration": 4,
    "start_time": "2022-05-30T08:12:18.882Z"
   },
   {
    "duration": 9,
    "start_time": "2022-05-30T08:12:18.887Z"
   },
   {
    "duration": 5,
    "start_time": "2022-05-30T08:12:18.897Z"
   },
   {
    "duration": 24,
    "start_time": "2022-05-30T08:12:18.904Z"
   },
   {
    "duration": 5,
    "start_time": "2022-05-30T08:12:18.930Z"
   },
   {
    "duration": 76,
    "start_time": "2022-05-30T08:12:18.936Z"
   },
   {
    "duration": 7,
    "start_time": "2022-05-30T08:12:19.023Z"
   },
   {
    "duration": 14,
    "start_time": "2022-05-30T08:12:19.031Z"
   },
   {
    "duration": 14,
    "start_time": "2022-05-30T08:12:19.046Z"
   },
   {
    "duration": 15,
    "start_time": "2022-05-30T08:12:19.062Z"
   },
   {
    "duration": 6,
    "start_time": "2022-05-30T08:12:19.079Z"
   },
   {
    "duration": 1588,
    "start_time": "2022-05-30T08:12:19.087Z"
   },
   {
    "duration": 1508,
    "start_time": "2022-05-30T08:12:20.677Z"
   },
   {
    "duration": 1587,
    "start_time": "2022-05-30T08:12:22.188Z"
   },
   {
    "duration": 743,
    "start_time": "2022-05-30T08:12:23.777Z"
   },
   {
    "duration": 5,
    "start_time": "2022-05-30T08:12:24.521Z"
   },
   {
    "duration": 12,
    "start_time": "2022-05-30T08:12:24.527Z"
   },
   {
    "duration": 4,
    "start_time": "2022-05-30T08:12:24.542Z"
   },
   {
    "duration": 11,
    "start_time": "2022-05-30T08:12:24.547Z"
   },
   {
    "duration": 1573,
    "start_time": "2022-05-30T08:12:24.560Z"
   },
   {
    "duration": 5,
    "start_time": "2022-05-30T08:12:26.134Z"
   },
   {
    "duration": 431,
    "start_time": "2022-05-30T08:12:26.140Z"
   },
   {
    "duration": 4,
    "start_time": "2022-05-30T08:12:26.574Z"
   },
   {
    "duration": 46,
    "start_time": "2022-05-30T08:12:26.580Z"
   },
   {
    "duration": 34,
    "start_time": "2022-05-30T08:12:26.627Z"
   },
   {
    "duration": 22,
    "start_time": "2022-05-30T08:12:26.662Z"
   },
   {
    "duration": 31,
    "start_time": "2022-05-30T08:12:26.686Z"
   },
   {
    "duration": 9,
    "start_time": "2022-05-30T08:12:26.718Z"
   },
   {
    "duration": 48,
    "start_time": "2022-05-30T08:12:26.728Z"
   },
   {
    "duration": 27,
    "start_time": "2022-05-30T08:12:26.778Z"
   },
   {
    "duration": 286,
    "start_time": "2022-05-30T08:12:26.807Z"
   },
   {
    "duration": 3,
    "start_time": "2022-05-30T08:12:27.095Z"
   },
   {
    "duration": 17,
    "start_time": "2022-05-30T08:12:27.100Z"
   },
   {
    "duration": 10,
    "start_time": "2022-05-30T08:12:27.118Z"
   },
   {
    "duration": 12,
    "start_time": "2022-05-30T08:12:27.130Z"
   },
   {
    "duration": 10,
    "start_time": "2022-05-30T08:12:27.143Z"
   },
   {
    "duration": 11930,
    "start_time": "2022-05-30T08:12:27.155Z"
   },
   {
    "duration": 12146,
    "start_time": "2022-05-30T08:12:39.087Z"
   },
   {
    "duration": 3,
    "start_time": "2022-05-30T08:12:51.235Z"
   },
   {
    "duration": 10,
    "start_time": "2022-05-30T08:12:51.240Z"
   },
   {
    "duration": 413796,
    "start_time": "2022-05-30T08:12:51.252Z"
   },
   {
    "duration": 423025,
    "start_time": "2022-05-30T08:19:45.049Z"
   },
   {
    "duration": 3,
    "start_time": "2022-05-30T08:26:48.076Z"
   },
   {
    "duration": 29,
    "start_time": "2022-05-30T08:26:48.080Z"
   },
   {
    "duration": 1716,
    "start_time": "2022-05-30T08:26:48.111Z"
   },
   {
    "duration": 2410,
    "start_time": "2022-05-30T08:26:49.836Z"
   },
   {
    "duration": 5,
    "start_time": "2022-05-30T08:26:52.248Z"
   },
   {
    "duration": 40,
    "start_time": "2022-05-30T08:26:52.324Z"
   },
   {
    "duration": 6,
    "start_time": "2022-05-30T08:26:52.367Z"
   },
   {
    "duration": 6,
    "start_time": "2022-05-30T08:26:52.425Z"
   },
   {
    "duration": 14,
    "start_time": "2022-05-30T08:26:52.433Z"
   },
   {
    "duration": 7,
    "start_time": "2022-05-30T08:26:52.448Z"
   },
   {
    "duration": 5,
    "start_time": "2022-05-30T08:26:52.456Z"
   },
   {
    "duration": 18,
    "start_time": "2022-05-30T08:26:52.463Z"
   },
   {
    "duration": 0,
    "start_time": "2022-05-30T08:26:52.483Z"
   },
   {
    "duration": 0,
    "start_time": "2022-05-30T08:26:52.484Z"
   },
   {
    "duration": 0,
    "start_time": "2022-05-30T08:26:52.486Z"
   },
   {
    "duration": 0,
    "start_time": "2022-05-30T08:26:52.487Z"
   },
   {
    "duration": 0,
    "start_time": "2022-05-30T08:26:52.488Z"
   },
   {
    "duration": 0,
    "start_time": "2022-05-30T08:26:52.490Z"
   },
   {
    "duration": 0,
    "start_time": "2022-05-30T08:26:52.491Z"
   },
   {
    "duration": 0,
    "start_time": "2022-05-30T08:26:52.492Z"
   },
   {
    "duration": 0,
    "start_time": "2022-05-30T08:26:52.494Z"
   },
   {
    "duration": 9,
    "start_time": "2022-05-30T11:48:40.220Z"
   },
   {
    "duration": 45,
    "start_time": "2022-05-30T11:49:00.064Z"
   },
   {
    "duration": 51,
    "start_time": "2022-05-30T11:49:08.988Z"
   },
   {
    "duration": 7,
    "start_time": "2022-05-30T11:49:13.349Z"
   },
   {
    "duration": 41,
    "start_time": "2022-05-30T11:58:49.213Z"
   },
   {
    "duration": 4,
    "start_time": "2022-05-30T11:58:58.256Z"
   },
   {
    "duration": 1146,
    "start_time": "2022-05-30T11:58:58.262Z"
   },
   {
    "duration": 40,
    "start_time": "2022-05-30T11:58:59.411Z"
   },
   {
    "duration": 16,
    "start_time": "2022-05-30T11:58:59.453Z"
   },
   {
    "duration": 140,
    "start_time": "2022-05-30T11:58:59.472Z"
   },
   {
    "duration": 35,
    "start_time": "2022-05-30T11:58:59.614Z"
   },
   {
    "duration": 19,
    "start_time": "2022-05-30T11:58:59.651Z"
   },
   {
    "duration": 21,
    "start_time": "2022-05-30T11:58:59.672Z"
   },
   {
    "duration": 45,
    "start_time": "2022-05-30T11:58:59.695Z"
   },
   {
    "duration": 18,
    "start_time": "2022-05-30T11:58:59.743Z"
   },
   {
    "duration": 125,
    "start_time": "2022-05-30T11:58:59.764Z"
   },
   {
    "duration": 3,
    "start_time": "2022-05-30T11:58:59.890Z"
   },
   {
    "duration": 9,
    "start_time": "2022-05-30T11:58:59.895Z"
   },
   {
    "duration": 4,
    "start_time": "2022-05-30T11:58:59.906Z"
   },
   {
    "duration": 8,
    "start_time": "2022-05-30T11:58:59.926Z"
   },
   {
    "duration": 12,
    "start_time": "2022-05-30T11:58:59.937Z"
   },
   {
    "duration": 85,
    "start_time": "2022-05-30T11:58:59.951Z"
   },
   {
    "duration": 7,
    "start_time": "2022-05-30T11:59:00.039Z"
   },
   {
    "duration": 17,
    "start_time": "2022-05-30T11:59:00.048Z"
   },
   {
    "duration": 17,
    "start_time": "2022-05-30T11:59:00.067Z"
   },
   {
    "duration": 23,
    "start_time": "2022-05-30T11:59:00.085Z"
   },
   {
    "duration": 18,
    "start_time": "2022-05-30T11:59:00.110Z"
   },
   {
    "duration": 1753,
    "start_time": "2022-05-30T11:59:00.133Z"
   },
   {
    "duration": 1816,
    "start_time": "2022-05-30T11:59:01.888Z"
   },
   {
    "duration": 1483,
    "start_time": "2022-05-30T11:59:03.706Z"
   },
   {
    "duration": 630,
    "start_time": "2022-05-30T11:59:05.190Z"
   },
   {
    "duration": 7,
    "start_time": "2022-05-30T11:59:05.822Z"
   },
   {
    "duration": 13,
    "start_time": "2022-05-30T11:59:05.837Z"
   },
   {
    "duration": 4,
    "start_time": "2022-05-30T11:59:05.855Z"
   },
   {
    "duration": 10,
    "start_time": "2022-05-30T11:59:05.861Z"
   },
   {
    "duration": 1691,
    "start_time": "2022-05-30T11:59:05.872Z"
   },
   {
    "duration": 6,
    "start_time": "2022-05-30T11:59:07.566Z"
   },
   {
    "duration": 591,
    "start_time": "2022-05-30T11:59:07.575Z"
   },
   {
    "duration": 4,
    "start_time": "2022-05-30T11:59:08.168Z"
   },
   {
    "duration": 34,
    "start_time": "2022-05-30T11:59:08.174Z"
   },
   {
    "duration": 48,
    "start_time": "2022-05-30T11:59:08.210Z"
   },
   {
    "duration": 25,
    "start_time": "2022-05-30T11:59:08.260Z"
   },
   {
    "duration": 20,
    "start_time": "2022-05-30T11:59:08.288Z"
   },
   {
    "duration": 21,
    "start_time": "2022-05-30T11:59:08.310Z"
   },
   {
    "duration": 33,
    "start_time": "2022-05-30T11:59:08.335Z"
   },
   {
    "duration": 6,
    "start_time": "2022-05-30T11:59:08.370Z"
   },
   {
    "duration": 313,
    "start_time": "2022-05-30T11:59:08.378Z"
   },
   {
    "duration": 3,
    "start_time": "2022-05-30T11:59:08.693Z"
   },
   {
    "duration": 8,
    "start_time": "2022-05-30T11:59:08.697Z"
   },
   {
    "duration": 17,
    "start_time": "2022-05-30T11:59:08.707Z"
   },
   {
    "duration": 27,
    "start_time": "2022-05-30T11:59:08.725Z"
   },
   {
    "duration": 6,
    "start_time": "2022-05-30T11:59:08.754Z"
   },
   {
    "duration": 12731,
    "start_time": "2022-05-30T11:59:08.762Z"
   },
   {
    "duration": 12808,
    "start_time": "2022-05-30T11:59:21.495Z"
   },
   {
    "duration": 3,
    "start_time": "2022-05-30T11:59:34.305Z"
   },
   {
    "duration": 13,
    "start_time": "2022-05-30T11:59:34.310Z"
   },
   {
    "duration": 448177,
    "start_time": "2022-05-30T11:59:34.324Z"
   },
   {
    "duration": 439159,
    "start_time": "2022-05-30T12:07:02.504Z"
   },
   {
    "duration": 4,
    "start_time": "2022-05-30T12:14:21.665Z"
   },
   {
    "duration": 6,
    "start_time": "2022-05-30T12:14:21.671Z"
   },
   {
    "duration": 3055,
    "start_time": "2022-05-30T12:14:21.679Z"
   },
   {
    "duration": 2104,
    "start_time": "2022-05-30T12:14:24.736Z"
   },
   {
    "duration": 28,
    "start_time": "2022-05-30T12:14:26.923Z"
   },
   {
    "duration": 34,
    "start_time": "2022-05-30T12:14:26.954Z"
   },
   {
    "duration": 26,
    "start_time": "2022-05-30T12:14:27.028Z"
   },
   {
    "duration": 0,
    "start_time": "2022-05-30T12:14:27.056Z"
   },
   {
    "duration": 0,
    "start_time": "2022-05-30T12:14:27.058Z"
   },
   {
    "duration": 0,
    "start_time": "2022-05-30T12:14:27.059Z"
   },
   {
    "duration": 0,
    "start_time": "2022-05-30T12:14:27.060Z"
   },
   {
    "duration": 0,
    "start_time": "2022-05-30T12:14:27.061Z"
   },
   {
    "duration": 0,
    "start_time": "2022-05-30T12:14:27.063Z"
   },
   {
    "duration": 0,
    "start_time": "2022-05-30T12:14:27.064Z"
   },
   {
    "duration": 0,
    "start_time": "2022-05-30T12:14:27.065Z"
   },
   {
    "duration": 0,
    "start_time": "2022-05-30T12:14:27.066Z"
   },
   {
    "duration": 0,
    "start_time": "2022-05-30T12:14:27.067Z"
   },
   {
    "duration": 0,
    "start_time": "2022-05-30T12:14:27.069Z"
   },
   {
    "duration": 0,
    "start_time": "2022-05-30T12:14:27.070Z"
   },
   {
    "duration": 17,
    "start_time": "2022-05-30T12:15:13.444Z"
   },
   {
    "duration": 443,
    "start_time": "2022-05-30T12:17:42.048Z"
   },
   {
    "duration": 6,
    "start_time": "2022-05-30T12:17:47.247Z"
   },
   {
    "duration": 1689,
    "start_time": "2022-05-30T12:17:47.257Z"
   },
   {
    "duration": 58,
    "start_time": "2022-05-30T12:17:48.948Z"
   },
   {
    "duration": 38,
    "start_time": "2022-05-30T12:17:49.009Z"
   },
   {
    "duration": 175,
    "start_time": "2022-05-30T12:17:49.049Z"
   },
   {
    "duration": 59,
    "start_time": "2022-05-30T12:17:49.227Z"
   },
   {
    "duration": 16,
    "start_time": "2022-05-30T12:17:49.294Z"
   },
   {
    "duration": 89,
    "start_time": "2022-05-30T12:17:49.315Z"
   },
   {
    "duration": 39,
    "start_time": "2022-05-30T12:17:49.406Z"
   },
   {
    "duration": 60,
    "start_time": "2022-05-30T12:17:49.447Z"
   },
   {
    "duration": 137,
    "start_time": "2022-05-30T12:17:49.509Z"
   },
   {
    "duration": 15,
    "start_time": "2022-05-30T12:17:49.653Z"
   },
   {
    "duration": 19,
    "start_time": "2022-05-30T12:17:49.675Z"
   },
   {
    "duration": 22,
    "start_time": "2022-05-30T12:17:49.696Z"
   },
   {
    "duration": 65,
    "start_time": "2022-05-30T12:17:49.722Z"
   },
   {
    "duration": 27,
    "start_time": "2022-05-30T12:17:49.789Z"
   },
   {
    "duration": 137,
    "start_time": "2022-05-30T12:17:49.818Z"
   },
   {
    "duration": 11,
    "start_time": "2022-05-30T12:17:49.960Z"
   },
   {
    "duration": 80,
    "start_time": "2022-05-30T12:17:49.973Z"
   },
   {
    "duration": 42,
    "start_time": "2022-05-30T12:17:50.060Z"
   },
   {
    "duration": 37,
    "start_time": "2022-05-30T12:17:50.104Z"
   },
   {
    "duration": 52,
    "start_time": "2022-05-30T12:17:50.142Z"
   },
   {
    "duration": 1981,
    "start_time": "2022-05-30T12:17:50.196Z"
   },
   {
    "duration": 2020,
    "start_time": "2022-05-30T12:17:52.179Z"
   },
   {
    "duration": 1932,
    "start_time": "2022-05-30T12:17:54.201Z"
   },
   {
    "duration": 835,
    "start_time": "2022-05-30T12:17:56.136Z"
   },
   {
    "duration": 6,
    "start_time": "2022-05-30T12:17:56.973Z"
   },
   {
    "duration": 7,
    "start_time": "2022-05-30T12:17:56.981Z"
   },
   {
    "duration": 8,
    "start_time": "2022-05-30T12:17:56.990Z"
   },
   {
    "duration": 27,
    "start_time": "2022-05-30T12:17:56.999Z"
   },
   {
    "duration": 1690,
    "start_time": "2022-05-30T12:17:57.028Z"
   },
   {
    "duration": 16,
    "start_time": "2022-05-30T12:17:58.720Z"
   },
   {
    "duration": 677,
    "start_time": "2022-05-30T12:17:58.737Z"
   },
   {
    "duration": 11,
    "start_time": "2022-05-30T12:17:59.416Z"
   },
   {
    "duration": 224,
    "start_time": "2022-05-30T12:17:59.430Z"
   },
   {
    "duration": 33,
    "start_time": "2022-05-30T12:17:59.656Z"
   },
   {
    "duration": 43,
    "start_time": "2022-05-30T12:17:59.691Z"
   },
   {
    "duration": 22,
    "start_time": "2022-05-30T12:17:59.742Z"
   },
   {
    "duration": 8,
    "start_time": "2022-05-30T12:17:59.766Z"
   },
   {
    "duration": 31,
    "start_time": "2022-05-30T12:17:59.775Z"
   },
   {
    "duration": 6,
    "start_time": "2022-05-30T12:17:59.808Z"
   },
   {
    "duration": 332,
    "start_time": "2022-05-30T12:17:59.825Z"
   },
   {
    "duration": 4,
    "start_time": "2022-05-30T12:18:00.159Z"
   },
   {
    "duration": 8,
    "start_time": "2022-05-30T12:18:00.165Z"
   },
   {
    "duration": 7,
    "start_time": "2022-05-30T12:18:00.175Z"
   },
   {
    "duration": 14,
    "start_time": "2022-05-30T12:18:00.184Z"
   },
   {
    "duration": 55,
    "start_time": "2022-05-30T12:18:00.200Z"
   },
   {
    "duration": 13310,
    "start_time": "2022-05-30T12:18:00.257Z"
   },
   {
    "duration": 13776,
    "start_time": "2022-05-30T12:18:13.568Z"
   },
   {
    "duration": 10,
    "start_time": "2022-05-30T12:18:27.347Z"
   },
   {
    "duration": 7,
    "start_time": "2022-05-30T12:18:27.359Z"
   },
   {
    "duration": 464477,
    "start_time": "2022-05-30T12:18:27.368Z"
   },
   {
    "duration": 457636,
    "start_time": "2022-05-30T12:26:11.847Z"
   },
   {
    "duration": 4,
    "start_time": "2022-05-30T12:33:49.485Z"
   },
   {
    "duration": 6,
    "start_time": "2022-05-30T12:33:49.491Z"
   },
   {
    "duration": 2646,
    "start_time": "2022-05-30T12:33:49.499Z"
   },
   {
    "duration": 2227,
    "start_time": "2022-05-30T12:33:52.155Z"
   },
   {
    "duration": 7,
    "start_time": "2022-05-30T12:33:54.384Z"
   },
   {
    "duration": 61,
    "start_time": "2022-05-30T12:33:54.393Z"
   },
   {
    "duration": 22,
    "start_time": "2022-05-30T12:33:54.458Z"
   },
   {
    "duration": 0,
    "start_time": "2022-05-30T12:33:54.481Z"
   },
   {
    "duration": 0,
    "start_time": "2022-05-30T12:33:54.483Z"
   },
   {
    "duration": 0,
    "start_time": "2022-05-30T12:33:54.485Z"
   },
   {
    "duration": 0,
    "start_time": "2022-05-30T12:33:54.487Z"
   },
   {
    "duration": 0,
    "start_time": "2022-05-30T12:33:54.489Z"
   },
   {
    "duration": 0,
    "start_time": "2022-05-30T12:33:54.490Z"
   },
   {
    "duration": 0,
    "start_time": "2022-05-30T12:33:54.492Z"
   },
   {
    "duration": 0,
    "start_time": "2022-05-30T12:33:54.494Z"
   },
   {
    "duration": 0,
    "start_time": "2022-05-30T12:33:54.495Z"
   },
   {
    "duration": 0,
    "start_time": "2022-05-30T12:33:54.497Z"
   },
   {
    "duration": 0,
    "start_time": "2022-05-30T12:33:54.498Z"
   },
   {
    "duration": 0,
    "start_time": "2022-05-30T12:33:54.499Z"
   },
   {
    "duration": 4,
    "start_time": "2022-05-30T12:35:40.265Z"
   },
   {
    "duration": 2533,
    "start_time": "2022-05-30T12:35:40.271Z"
   },
   {
    "duration": 46,
    "start_time": "2022-05-30T12:35:42.807Z"
   },
   {
    "duration": 46,
    "start_time": "2022-05-30T12:35:42.855Z"
   },
   {
    "duration": 163,
    "start_time": "2022-05-30T12:35:42.904Z"
   },
   {
    "duration": 23,
    "start_time": "2022-05-30T12:35:43.068Z"
   },
   {
    "duration": 17,
    "start_time": "2022-05-30T12:35:43.093Z"
   },
   {
    "duration": 35,
    "start_time": "2022-05-30T12:35:43.129Z"
   },
   {
    "duration": 22,
    "start_time": "2022-05-30T12:35:43.166Z"
   },
   {
    "duration": 36,
    "start_time": "2022-05-30T12:35:43.190Z"
   },
   {
    "duration": 127,
    "start_time": "2022-05-30T12:35:43.231Z"
   },
   {
    "duration": 4,
    "start_time": "2022-05-30T12:35:43.360Z"
   },
   {
    "duration": 10,
    "start_time": "2022-05-30T12:35:43.365Z"
   },
   {
    "duration": 7,
    "start_time": "2022-05-30T12:35:43.377Z"
   },
   {
    "duration": 14,
    "start_time": "2022-05-30T12:35:43.385Z"
   },
   {
    "duration": 8,
    "start_time": "2022-05-30T12:35:43.401Z"
   },
   {
    "duration": 117,
    "start_time": "2022-05-30T12:35:43.411Z"
   },
   {
    "duration": 8,
    "start_time": "2022-05-30T12:35:43.530Z"
   },
   {
    "duration": 35,
    "start_time": "2022-05-30T12:35:43.540Z"
   },
   {
    "duration": 20,
    "start_time": "2022-05-30T12:35:43.577Z"
   },
   {
    "duration": 25,
    "start_time": "2022-05-30T12:35:43.599Z"
   },
   {
    "duration": 22,
    "start_time": "2022-05-30T12:35:43.626Z"
   },
   {
    "duration": 1516,
    "start_time": "2022-05-30T12:35:43.651Z"
   },
   {
    "duration": 1723,
    "start_time": "2022-05-30T12:35:45.169Z"
   },
   {
    "duration": 1611,
    "start_time": "2022-05-30T12:35:46.894Z"
   },
   {
    "duration": 680,
    "start_time": "2022-05-30T12:35:48.507Z"
   },
   {
    "duration": 4,
    "start_time": "2022-05-30T12:35:49.189Z"
   },
   {
    "duration": 9,
    "start_time": "2022-05-30T12:35:49.195Z"
   },
   {
    "duration": 6,
    "start_time": "2022-05-30T12:35:49.210Z"
   },
   {
    "duration": 38,
    "start_time": "2022-05-30T12:35:49.217Z"
   },
   {
    "duration": 1628,
    "start_time": "2022-05-30T12:35:49.262Z"
   },
   {
    "duration": 6,
    "start_time": "2022-05-30T12:35:50.892Z"
   },
   {
    "duration": 731,
    "start_time": "2022-05-30T12:35:50.900Z"
   },
   {
    "duration": 8,
    "start_time": "2022-05-30T12:35:51.633Z"
   },
   {
    "duration": 24,
    "start_time": "2022-05-30T12:35:51.643Z"
   },
   {
    "duration": 34,
    "start_time": "2022-05-30T12:35:51.669Z"
   },
   {
    "duration": 7,
    "start_time": "2022-05-30T12:35:51.705Z"
   },
   {
    "duration": 350,
    "start_time": "2022-05-30T12:35:51.713Z"
   },
   {
    "duration": 3,
    "start_time": "2022-05-30T12:35:52.065Z"
   },
   {
    "duration": 7,
    "start_time": "2022-05-30T12:35:52.069Z"
   },
   {
    "duration": 5,
    "start_time": "2022-05-30T12:35:52.077Z"
   },
   {
    "duration": 9,
    "start_time": "2022-05-30T12:35:52.084Z"
   },
   {
    "duration": 5,
    "start_time": "2022-05-30T12:35:52.095Z"
   },
   {
    "duration": 14578,
    "start_time": "2022-05-30T12:35:52.122Z"
   },
   {
    "duration": 13815,
    "start_time": "2022-05-30T12:36:06.702Z"
   },
   {
    "duration": 6,
    "start_time": "2022-05-30T12:36:20.519Z"
   },
   {
    "duration": 38,
    "start_time": "2022-05-30T12:36:20.527Z"
   },
   {
    "duration": 485067,
    "start_time": "2022-05-30T12:36:20.567Z"
   },
   {
    "duration": 490445,
    "start_time": "2022-05-30T12:44:25.638Z"
   },
   {
    "duration": 16,
    "start_time": "2022-05-30T12:52:36.090Z"
   },
   {
    "duration": 68,
    "start_time": "2022-05-30T12:52:36.112Z"
   },
   {
    "duration": 3569,
    "start_time": "2022-05-30T12:52:36.183Z"
   },
   {
    "duration": 2483,
    "start_time": "2022-05-30T12:52:39.768Z"
   },
   {
    "duration": 64,
    "start_time": "2022-05-30T12:52:42.273Z"
   },
   {
    "duration": 45,
    "start_time": "2022-05-30T12:52:42.355Z"
   },
   {
    "duration": 7,
    "start_time": "2022-05-30T12:52:42.402Z"
   },
   {
    "duration": 5,
    "start_time": "2022-05-30T12:52:42.411Z"
   },
   {
    "duration": 55,
    "start_time": "2022-05-30T12:52:42.417Z"
   },
   {
    "duration": 3489,
    "start_time": "2022-05-30T12:52:42.475Z"
   },
   {
    "duration": 3619,
    "start_time": "2022-05-30T12:52:45.970Z"
   },
   {
    "duration": 4,
    "start_time": "2022-05-30T12:52:49.591Z"
   },
   {
    "duration": 8,
    "start_time": "2022-05-30T12:52:49.597Z"
   },
   {
    "duration": 5,
    "start_time": "2022-05-30T12:52:49.606Z"
   },
   {
    "duration": 5,
    "start_time": "2022-05-30T12:52:49.613Z"
   },
   {
    "duration": 52,
    "start_time": "2022-05-30T12:52:49.620Z"
   },
   {
    "duration": 6,
    "start_time": "2022-05-30T12:52:49.676Z"
   },
   {
    "duration": 12,
    "start_time": "2022-05-30T12:52:49.684Z"
   },
   {
    "duration": 10,
    "start_time": "2022-05-30T12:52:49.698Z"
   },
   {
    "duration": 8988,
    "start_time": "2022-05-31T09:48:04.886Z"
   },
   {
    "duration": 7297,
    "start_time": "2022-05-31T09:48:13.876Z"
   },
   {
    "duration": 298,
    "start_time": "2022-05-31T09:48:21.266Z"
   },
   {
    "duration": 196,
    "start_time": "2022-05-31T09:48:21.568Z"
   },
   {
    "duration": 1197,
    "start_time": "2022-05-31T09:48:21.776Z"
   },
   {
    "duration": 396,
    "start_time": "2022-05-31T09:48:22.975Z"
   },
   {
    "duration": 95,
    "start_time": "2022-05-31T09:48:23.374Z"
   },
   {
    "duration": 390,
    "start_time": "2022-05-31T09:48:23.474Z"
   },
   {
    "duration": 297,
    "start_time": "2022-05-31T09:48:23.872Z"
   },
   {
    "duration": 194,
    "start_time": "2022-05-31T09:48:24.173Z"
   },
   {
    "duration": 896,
    "start_time": "2022-05-31T09:48:24.373Z"
   },
   {
    "duration": 94,
    "start_time": "2022-05-31T09:48:25.276Z"
   },
   {
    "duration": 195,
    "start_time": "2022-05-31T09:48:25.375Z"
   },
   {
    "duration": 195,
    "start_time": "2022-05-31T09:48:25.572Z"
   },
   {
    "duration": 300,
    "start_time": "2022-05-31T09:48:25.769Z"
   },
   {
    "duration": 396,
    "start_time": "2022-05-31T09:48:26.072Z"
   },
   {
    "duration": 901,
    "start_time": "2022-05-31T09:48:26.469Z"
   },
   {
    "duration": 94,
    "start_time": "2022-05-31T09:48:27.375Z"
   },
   {
    "duration": 397,
    "start_time": "2022-05-31T09:48:27.476Z"
   },
   {
    "duration": 196,
    "start_time": "2022-05-31T09:48:27.875Z"
   },
   {
    "duration": 193,
    "start_time": "2022-05-31T09:48:28.074Z"
   },
   {
    "duration": 192,
    "start_time": "2022-05-31T09:48:28.273Z"
   },
   {
    "duration": 7397,
    "start_time": "2022-05-31T09:48:28.467Z"
   },
   {
    "duration": 7295,
    "start_time": "2022-05-31T09:48:35.871Z"
   },
   {
    "duration": 6705,
    "start_time": "2022-05-31T09:48:43.171Z"
   },
   {
    "duration": 4004,
    "start_time": "2022-05-31T09:48:49.966Z"
   },
   {
    "duration": 101,
    "start_time": "2022-05-31T09:48:53.972Z"
   },
   {
    "duration": 185,
    "start_time": "2022-05-31T09:48:54.080Z"
   },
   {
    "duration": 13,
    "start_time": "2022-05-31T09:48:54.268Z"
   },
   {
    "duration": 181,
    "start_time": "2022-05-31T09:48:54.283Z"
   },
   {
    "duration": 8005,
    "start_time": "2022-05-31T09:48:54.467Z"
   },
   {
    "duration": 95,
    "start_time": "2022-05-31T09:49:02.474Z"
   },
   {
    "duration": 4510,
    "start_time": "2022-05-31T09:49:02.665Z"
   },
   {
    "duration": 90,
    "start_time": "2022-05-31T09:49:07.177Z"
   },
   {
    "duration": 98,
    "start_time": "2022-05-31T09:49:07.269Z"
   },
   {
    "duration": 304,
    "start_time": "2022-05-31T09:49:07.369Z"
   },
   {
    "duration": 102,
    "start_time": "2022-05-31T09:49:07.764Z"
   },
   {
    "duration": 2801,
    "start_time": "2022-05-31T09:49:07.868Z"
   },
   {
    "duration": 199,
    "start_time": "2022-05-31T09:49:10.674Z"
   },
   {
    "duration": 303,
    "start_time": "2022-05-31T09:49:10.964Z"
   },
   {
    "duration": 98,
    "start_time": "2022-05-31T09:49:11.268Z"
   },
   {
    "duration": 201,
    "start_time": "2022-05-31T09:49:11.368Z"
   },
   {
    "duration": 92,
    "start_time": "2022-05-31T09:49:11.575Z"
   },
   {
    "duration": 100704,
    "start_time": "2022-05-31T09:49:11.669Z"
   },
   {
    "duration": 80800,
    "start_time": "2022-05-31T09:50:52.464Z"
   },
   {
    "duration": 7,
    "start_time": "2022-05-31T09:52:13.266Z"
   },
   {
    "duration": 288,
    "start_time": "2022-05-31T09:52:13.278Z"
   },
   {
    "duration": 1331116,
    "start_time": "2022-05-31T09:52:13.568Z"
   },
   {
    "duration": 477190,
    "start_time": "2022-05-31T10:14:24.691Z"
   },
   {
    "duration": 4,
    "start_time": "2022-05-31T10:22:21.883Z"
   },
   {
    "duration": 9,
    "start_time": "2022-05-31T10:22:21.888Z"
   },
   {
    "duration": 2570,
    "start_time": "2022-05-31T10:22:21.898Z"
   },
   {
    "duration": 2699,
    "start_time": "2022-05-31T10:22:24.476Z"
   },
   {
    "duration": 8,
    "start_time": "2022-05-31T10:22:27.177Z"
   },
   {
    "duration": 102,
    "start_time": "2022-05-31T10:22:27.186Z"
   },
   {
    "duration": 7,
    "start_time": "2022-05-31T10:22:27.290Z"
   },
   {
    "duration": 8,
    "start_time": "2022-05-31T10:22:27.299Z"
   },
   {
    "duration": 5,
    "start_time": "2022-05-31T10:22:27.308Z"
   },
   {
    "duration": 2630,
    "start_time": "2022-05-31T10:22:27.315Z"
   },
   {
    "duration": 2994,
    "start_time": "2022-05-31T10:22:29.947Z"
   },
   {
    "duration": 3,
    "start_time": "2022-05-31T10:22:32.943Z"
   },
   {
    "duration": 21,
    "start_time": "2022-05-31T10:22:32.948Z"
   },
   {
    "duration": 3,
    "start_time": "2022-05-31T10:22:32.971Z"
   },
   {
    "duration": 9,
    "start_time": "2022-05-31T10:22:32.977Z"
   },
   {
    "duration": 5,
    "start_time": "2022-05-31T10:22:32.988Z"
   },
   {
    "duration": 5,
    "start_time": "2022-05-31T10:22:32.994Z"
   },
   {
    "duration": 6,
    "start_time": "2022-05-31T10:22:33.000Z"
   },
   {
    "duration": 7,
    "start_time": "2022-05-31T10:22:33.008Z"
   },
   {
    "duration": 6,
    "start_time": "2022-05-31T10:43:50.273Z"
   },
   {
    "duration": 6,
    "start_time": "2022-05-31T10:44:05.783Z"
   },
   {
    "duration": 4,
    "start_time": "2022-05-31T11:19:51.719Z"
   },
   {
    "duration": 5,
    "start_time": "2022-05-31T11:20:30.498Z"
   },
   {
    "duration": 4,
    "start_time": "2022-05-31T11:20:53.653Z"
   },
   {
    "duration": 4,
    "start_time": "2022-05-31T11:21:11.060Z"
   },
   {
    "duration": 4,
    "start_time": "2022-05-31T11:22:29.265Z"
   },
   {
    "duration": 5,
    "start_time": "2022-05-31T11:22:42.284Z"
   },
   {
    "duration": 6,
    "start_time": "2022-05-31T11:23:32.616Z"
   },
   {
    "duration": 1651,
    "start_time": "2022-05-31T11:28:32.381Z"
   },
   {
    "duration": 4,
    "start_time": "2022-05-31T11:30:51.892Z"
   },
   {
    "duration": 1808,
    "start_time": "2022-05-31T11:53:10.524Z"
   },
   {
    "duration": 4429,
    "start_time": "2022-05-31T11:53:12.339Z"
   },
   {
    "duration": 24,
    "start_time": "2022-05-31T11:53:16.777Z"
   },
   {
    "duration": 17,
    "start_time": "2022-05-31T11:53:16.804Z"
   },
   {
    "duration": 148,
    "start_time": "2022-05-31T11:53:16.823Z"
   },
   {
    "duration": 22,
    "start_time": "2022-05-31T11:53:16.973Z"
   },
   {
    "duration": 12,
    "start_time": "2022-05-31T11:53:16.997Z"
   },
   {
    "duration": 57,
    "start_time": "2022-05-31T11:53:17.010Z"
   },
   {
    "duration": 30,
    "start_time": "2022-05-31T11:53:17.069Z"
   },
   {
    "duration": 18,
    "start_time": "2022-05-31T11:53:17.101Z"
   },
   {
    "duration": 128,
    "start_time": "2022-05-31T11:53:17.121Z"
   },
   {
    "duration": 4,
    "start_time": "2022-05-31T11:53:17.253Z"
   },
   {
    "duration": 28,
    "start_time": "2022-05-31T11:53:17.258Z"
   },
   {
    "duration": 4,
    "start_time": "2022-05-31T11:53:17.288Z"
   },
   {
    "duration": 17,
    "start_time": "2022-05-31T11:53:17.294Z"
   },
   {
    "duration": 7,
    "start_time": "2022-05-31T11:53:17.313Z"
   },
   {
    "duration": 101,
    "start_time": "2022-05-31T11:53:17.322Z"
   },
   {
    "duration": 15,
    "start_time": "2022-05-31T11:53:17.425Z"
   },
   {
    "duration": 51,
    "start_time": "2022-05-31T11:53:17.442Z"
   },
   {
    "duration": 18,
    "start_time": "2022-05-31T11:53:17.494Z"
   },
   {
    "duration": 28,
    "start_time": "2022-05-31T11:53:17.513Z"
   },
   {
    "duration": 6,
    "start_time": "2022-05-31T11:53:17.542Z"
   },
   {
    "duration": 1828,
    "start_time": "2022-05-31T11:53:17.550Z"
   },
   {
    "duration": 1543,
    "start_time": "2022-05-31T11:53:19.380Z"
   },
   {
    "duration": 1554,
    "start_time": "2022-05-31T11:53:20.925Z"
   },
   {
    "duration": 770,
    "start_time": "2022-05-31T11:53:22.481Z"
   },
   {
    "duration": 12,
    "start_time": "2022-05-31T11:53:23.256Z"
   },
   {
    "duration": 6,
    "start_time": "2022-05-31T11:53:23.273Z"
   },
   {
    "duration": 9,
    "start_time": "2022-05-31T11:53:23.280Z"
   },
   {
    "duration": 7,
    "start_time": "2022-05-31T11:53:23.291Z"
   },
   {
    "duration": 1609,
    "start_time": "2022-05-31T11:53:23.300Z"
   },
   {
    "duration": 4,
    "start_time": "2022-05-31T11:53:24.911Z"
   },
   {
    "duration": 614,
    "start_time": "2022-05-31T11:53:24.917Z"
   },
   {
    "duration": 6,
    "start_time": "2022-05-31T11:53:25.533Z"
   },
   {
    "duration": 46,
    "start_time": "2022-05-31T11:53:25.544Z"
   },
   {
    "duration": 40,
    "start_time": "2022-05-31T11:53:25.591Z"
   },
   {
    "duration": 53,
    "start_time": "2022-05-31T11:53:25.639Z"
   },
   {
    "duration": 337,
    "start_time": "2022-05-31T11:53:25.694Z"
   },
   {
    "duration": 3,
    "start_time": "2022-05-31T11:53:26.033Z"
   },
   {
    "duration": 52,
    "start_time": "2022-05-31T11:53:26.038Z"
   },
   {
    "duration": 8,
    "start_time": "2022-05-31T11:53:26.092Z"
   },
   {
    "duration": 9,
    "start_time": "2022-05-31T11:53:26.102Z"
   },
   {
    "duration": 5,
    "start_time": "2022-05-31T11:53:26.112Z"
   },
   {
    "duration": 14953,
    "start_time": "2022-05-31T11:53:26.119Z"
   },
   {
    "duration": 14403,
    "start_time": "2022-05-31T11:53:41.074Z"
   },
   {
    "duration": 4,
    "start_time": "2022-05-31T11:53:55.479Z"
   },
   {
    "duration": 15,
    "start_time": "2022-05-31T11:53:55.484Z"
   },
   {
    "duration": 457365,
    "start_time": "2022-05-31T11:53:55.501Z"
   },
   {
    "duration": 428921,
    "start_time": "2022-05-31T12:01:32.867Z"
   },
   {
    "duration": 4,
    "start_time": "2022-05-31T12:08:41.791Z"
   },
   {
    "duration": 6,
    "start_time": "2022-05-31T12:08:41.797Z"
   },
   {
    "duration": 2129,
    "start_time": "2022-05-31T12:08:41.806Z"
   },
   {
    "duration": 2403,
    "start_time": "2022-05-31T12:08:43.951Z"
   },
   {
    "duration": 8,
    "start_time": "2022-05-31T12:08:46.428Z"
   },
   {
    "duration": 112,
    "start_time": "2022-05-31T12:08:46.438Z"
   },
   {
    "duration": 4,
    "start_time": "2022-05-31T12:08:46.552Z"
   },
   {
    "duration": 8,
    "start_time": "2022-05-31T12:08:46.558Z"
   },
   {
    "duration": 6,
    "start_time": "2022-05-31T12:08:46.568Z"
   },
   {
    "duration": 2372,
    "start_time": "2022-05-31T12:08:46.575Z"
   },
   {
    "duration": 2798,
    "start_time": "2022-05-31T12:08:48.949Z"
   },
   {
    "duration": 3,
    "start_time": "2022-05-31T12:08:51.749Z"
   },
   {
    "duration": 16,
    "start_time": "2022-05-31T12:08:51.754Z"
   },
   {
    "duration": 17,
    "start_time": "2022-05-31T12:08:51.772Z"
   },
   {
    "duration": 12,
    "start_time": "2022-05-31T12:08:51.791Z"
   },
   {
    "duration": 5,
    "start_time": "2022-05-31T12:08:51.805Z"
   },
   {
    "duration": 7,
    "start_time": "2022-05-31T12:08:51.812Z"
   },
   {
    "duration": 15,
    "start_time": "2022-05-31T12:08:51.820Z"
   },
   {
    "duration": 14,
    "start_time": "2022-05-31T12:08:51.840Z"
   },
   {
    "duration": 3235,
    "start_time": "2022-05-31T12:57:02.287Z"
   },
   {
    "duration": 4029,
    "start_time": "2022-05-31T12:57:28.509Z"
   },
   {
    "duration": 3,
    "start_time": "2022-05-31T12:57:36.995Z"
   },
   {
    "duration": 8,
    "start_time": "2022-05-31T12:58:51.206Z"
   },
   {
    "duration": 1296,
    "start_time": "2022-05-31T13:38:18.267Z"
   },
   {
    "duration": 1236,
    "start_time": "2022-05-31T13:39:32.399Z"
   },
   {
    "duration": 1301,
    "start_time": "2022-05-31T13:39:41.448Z"
   },
   {
    "duration": 1473,
    "start_time": "2022-05-31T13:45:49.079Z"
   },
   {
    "duration": 4,
    "start_time": "2022-05-31T13:45:53.019Z"
   },
   {
    "duration": 5,
    "start_time": "2022-05-31T13:47:35.257Z"
   },
   {
    "duration": 7,
    "start_time": "2022-05-31T13:47:36.302Z"
   },
   {
    "duration": 7,
    "start_time": "2022-05-31T13:47:38.478Z"
   },
   {
    "duration": 1247,
    "start_time": "2022-06-01T08:36:41.541Z"
   },
   {
    "duration": 577,
    "start_time": "2022-06-01T08:36:42.790Z"
   },
   {
    "duration": 24,
    "start_time": "2022-06-01T08:36:43.369Z"
   },
   {
    "duration": 15,
    "start_time": "2022-06-01T08:36:43.394Z"
   },
   {
    "duration": 122,
    "start_time": "2022-06-01T08:36:43.410Z"
   },
   {
    "duration": 18,
    "start_time": "2022-06-01T08:36:43.534Z"
   },
   {
    "duration": 21,
    "start_time": "2022-06-01T08:36:43.554Z"
   },
   {
    "duration": 18,
    "start_time": "2022-06-01T08:36:43.577Z"
   },
   {
    "duration": 17,
    "start_time": "2022-06-01T08:36:43.597Z"
   },
   {
    "duration": 15,
    "start_time": "2022-06-01T08:36:43.616Z"
   },
   {
    "duration": 99,
    "start_time": "2022-06-01T08:36:43.633Z"
   },
   {
    "duration": 2,
    "start_time": "2022-06-01T08:36:43.734Z"
   },
   {
    "duration": 7,
    "start_time": "2022-06-01T08:36:43.737Z"
   },
   {
    "duration": 4,
    "start_time": "2022-06-01T08:36:43.745Z"
   },
   {
    "duration": 26,
    "start_time": "2022-06-01T08:36:43.750Z"
   },
   {
    "duration": 2,
    "start_time": "2022-06-01T08:36:43.778Z"
   },
   {
    "duration": 61,
    "start_time": "2022-06-01T08:36:43.781Z"
   },
   {
    "duration": 4,
    "start_time": "2022-06-01T08:36:43.843Z"
   },
   {
    "duration": 11,
    "start_time": "2022-06-01T08:36:43.848Z"
   },
   {
    "duration": 11,
    "start_time": "2022-06-01T08:36:43.875Z"
   },
   {
    "duration": 18,
    "start_time": "2022-06-01T08:36:43.887Z"
   },
   {
    "duration": 5,
    "start_time": "2022-06-01T08:36:43.907Z"
   },
   {
    "duration": 1345,
    "start_time": "2022-06-01T08:36:43.914Z"
   },
   {
    "duration": 1306,
    "start_time": "2022-06-01T08:36:45.260Z"
   },
   {
    "duration": 1315,
    "start_time": "2022-06-01T08:36:46.568Z"
   },
   {
    "duration": 535,
    "start_time": "2022-06-01T08:36:47.885Z"
   },
   {
    "duration": 4,
    "start_time": "2022-06-01T08:36:48.421Z"
   },
   {
    "duration": 3,
    "start_time": "2022-06-01T08:36:48.428Z"
   },
   {
    "duration": 5,
    "start_time": "2022-06-01T08:36:48.432Z"
   },
   {
    "duration": 5,
    "start_time": "2022-06-01T08:36:48.438Z"
   },
   {
    "duration": 1479,
    "start_time": "2022-06-01T08:36:48.444Z"
   },
   {
    "duration": 5,
    "start_time": "2022-06-01T08:36:49.924Z"
   },
   {
    "duration": 451,
    "start_time": "2022-06-01T08:36:49.930Z"
   },
   {
    "duration": 4,
    "start_time": "2022-06-01T08:36:50.383Z"
   },
   {
    "duration": 10,
    "start_time": "2022-06-01T08:36:50.388Z"
   },
   {
    "duration": 16,
    "start_time": "2022-06-01T08:36:50.400Z"
   },
   {
    "duration": 4,
    "start_time": "2022-06-01T08:36:50.418Z"
   },
   {
    "duration": 241,
    "start_time": "2022-06-01T08:36:50.423Z"
   },
   {
    "duration": 3,
    "start_time": "2022-06-01T08:36:50.665Z"
   },
   {
    "duration": 4,
    "start_time": "2022-06-01T08:36:50.675Z"
   },
   {
    "duration": 7,
    "start_time": "2022-06-01T08:36:50.681Z"
   },
   {
    "duration": 11,
    "start_time": "2022-06-01T08:36:50.689Z"
   },
   {
    "duration": 4,
    "start_time": "2022-06-01T08:36:50.702Z"
   },
   {
    "duration": 11068,
    "start_time": "2022-06-01T08:36:50.708Z"
   },
   {
    "duration": 14808,
    "start_time": "2022-06-01T08:37:01.778Z"
   },
   {
    "duration": 3,
    "start_time": "2022-06-01T08:37:16.588Z"
   },
   {
    "duration": 13,
    "start_time": "2022-06-01T08:37:16.593Z"
   },
   {
    "duration": 827301,
    "start_time": "2022-06-01T08:37:16.607Z"
   },
   {
    "duration": 849765,
    "start_time": "2022-06-01T08:51:03.910Z"
   },
   {
    "duration": 3,
    "start_time": "2022-06-01T09:05:13.677Z"
   },
   {
    "duration": 13,
    "start_time": "2022-06-01T09:05:13.682Z"
   },
   {
    "duration": 1684,
    "start_time": "2022-06-01T09:05:13.696Z"
   },
   {
    "duration": 1691,
    "start_time": "2022-06-01T09:05:15.383Z"
   },
   {
    "duration": 4,
    "start_time": "2022-06-01T09:05:17.077Z"
   },
   {
    "duration": 115,
    "start_time": "2022-06-01T09:05:17.084Z"
   },
   {
    "duration": 16,
    "start_time": "2022-06-01T09:05:17.200Z"
   },
   {
    "duration": 15,
    "start_time": "2022-06-01T09:05:17.218Z"
   },
   {
    "duration": 4,
    "start_time": "2022-06-01T09:05:17.276Z"
   },
   {
    "duration": 2507,
    "start_time": "2022-06-01T09:05:17.282Z"
   },
   {
    "duration": 2925,
    "start_time": "2022-06-01T09:05:19.791Z"
   },
   {
    "duration": 57,
    "start_time": "2022-06-01T09:05:22.717Z"
   },
   {
    "duration": 2,
    "start_time": "2022-06-01T09:05:22.776Z"
   },
   {
    "duration": 9,
    "start_time": "2022-06-01T09:05:22.780Z"
   },
   {
    "duration": 18,
    "start_time": "2022-06-01T09:05:22.790Z"
   },
   {
    "duration": 15,
    "start_time": "2022-06-01T09:05:22.810Z"
   },
   {
    "duration": 50,
    "start_time": "2022-06-01T09:05:22.826Z"
   },
   {
    "duration": 25,
    "start_time": "2022-06-01T09:05:22.878Z"
   },
   {
    "duration": 11,
    "start_time": "2022-06-01T09:05:22.905Z"
   },
   {
    "duration": 1493,
    "start_time": "2022-08-15T12:38:44.989Z"
   },
   {
    "duration": 2620,
    "start_time": "2022-08-15T12:38:48.025Z"
   },
   {
    "duration": 4,
    "start_time": "2022-08-15T12:38:54.206Z"
   },
   {
    "duration": 807,
    "start_time": "2022-08-15T12:38:54.213Z"
   },
   {
    "duration": 35,
    "start_time": "2022-08-15T12:38:55.022Z"
   },
   {
    "duration": 19,
    "start_time": "2022-08-15T12:38:55.059Z"
   },
   {
    "duration": 135,
    "start_time": "2022-08-15T12:38:55.081Z"
   },
   {
    "duration": 20,
    "start_time": "2022-08-15T12:38:55.218Z"
   },
   {
    "duration": 29,
    "start_time": "2022-08-15T12:38:55.240Z"
   },
   {
    "duration": 32,
    "start_time": "2022-08-15T12:38:55.271Z"
   },
   {
    "duration": 20,
    "start_time": "2022-08-15T12:38:55.304Z"
   },
   {
    "duration": 46,
    "start_time": "2022-08-15T12:38:55.326Z"
   },
   {
    "duration": 116,
    "start_time": "2022-08-15T12:38:55.375Z"
   },
   {
    "duration": 2,
    "start_time": "2022-08-15T12:38:55.494Z"
   },
   {
    "duration": 13,
    "start_time": "2022-08-15T12:38:55.498Z"
   },
   {
    "duration": 4,
    "start_time": "2022-08-15T12:38:55.512Z"
   },
   {
    "duration": 10,
    "start_time": "2022-08-15T12:38:55.518Z"
   },
   {
    "duration": 10,
    "start_time": "2022-08-15T12:38:55.530Z"
   },
   {
    "duration": 93,
    "start_time": "2022-08-15T12:38:55.542Z"
   },
   {
    "duration": 6,
    "start_time": "2022-08-15T12:38:55.637Z"
   },
   {
    "duration": 26,
    "start_time": "2022-08-15T12:38:55.645Z"
   },
   {
    "duration": 31,
    "start_time": "2022-08-15T12:38:55.675Z"
   },
   {
    "duration": 21,
    "start_time": "2022-08-15T12:38:55.709Z"
   },
   {
    "duration": 7,
    "start_time": "2022-08-15T12:38:55.732Z"
   },
   {
    "duration": 1774,
    "start_time": "2022-08-15T12:38:55.741Z"
   },
   {
    "duration": 1586,
    "start_time": "2022-08-15T12:38:57.517Z"
   },
   {
    "duration": 1586,
    "start_time": "2022-08-15T12:38:59.105Z"
   },
   {
    "duration": 726,
    "start_time": "2022-08-15T12:39:00.693Z"
   },
   {
    "duration": 5,
    "start_time": "2022-08-15T12:39:01.421Z"
   },
   {
    "duration": 23,
    "start_time": "2022-08-15T12:39:01.427Z"
   },
   {
    "duration": 24,
    "start_time": "2022-08-15T12:39:01.454Z"
   },
   {
    "duration": 23,
    "start_time": "2022-08-15T12:39:01.482Z"
   },
   {
    "duration": 1606,
    "start_time": "2022-08-15T12:39:01.506Z"
   },
   {
    "duration": 4,
    "start_time": "2022-08-15T12:39:03.113Z"
   },
   {
    "duration": 474,
    "start_time": "2022-08-15T12:39:03.119Z"
   },
   {
    "duration": 4,
    "start_time": "2022-08-15T12:39:03.595Z"
   },
   {
    "duration": 9,
    "start_time": "2022-08-15T12:39:03.601Z"
   },
   {
    "duration": 23,
    "start_time": "2022-08-15T12:39:03.612Z"
   },
   {
    "duration": 9,
    "start_time": "2022-08-15T12:39:03.637Z"
   },
   {
    "duration": 349,
    "start_time": "2022-08-15T12:39:03.648Z"
   },
   {
    "duration": 4,
    "start_time": "2022-08-15T12:39:03.999Z"
   },
   {
    "duration": 7,
    "start_time": "2022-08-15T12:39:04.005Z"
   },
   {
    "duration": 5,
    "start_time": "2022-08-15T12:39:04.013Z"
   },
   {
    "duration": 12,
    "start_time": "2022-08-15T12:39:04.020Z"
   },
   {
    "duration": 8,
    "start_time": "2022-08-15T12:39:04.034Z"
   },
   {
    "duration": 12043,
    "start_time": "2022-08-15T12:39:04.044Z"
   },
   {
    "duration": 12179,
    "start_time": "2022-08-15T12:39:16.089Z"
   },
   {
    "duration": 6,
    "start_time": "2022-08-15T12:39:28.270Z"
   },
   {
    "duration": 25,
    "start_time": "2022-08-15T12:39:28.282Z"
   },
   {
    "duration": 410408,
    "start_time": "2022-08-15T12:39:28.309Z"
   },
   {
    "duration": 409977,
    "start_time": "2022-08-15T12:46:18.719Z"
   },
   {
    "duration": 4,
    "start_time": "2022-08-15T12:53:08.698Z"
   },
   {
    "duration": 10,
    "start_time": "2022-08-15T12:53:08.703Z"
   },
   {
    "duration": 3146,
    "start_time": "2022-08-15T12:53:08.714Z"
   },
   {
    "duration": 2422,
    "start_time": "2022-08-15T12:53:11.867Z"
   },
   {
    "duration": 6,
    "start_time": "2022-08-15T12:53:14.299Z"
   },
   {
    "duration": 73,
    "start_time": "2022-08-15T12:53:14.356Z"
   },
   {
    "duration": 28,
    "start_time": "2022-08-15T12:53:14.432Z"
   },
   {
    "duration": 30,
    "start_time": "2022-08-15T12:53:14.463Z"
   },
   {
    "duration": 6,
    "start_time": "2022-08-15T12:53:14.495Z"
   },
   {
    "duration": 1389,
    "start_time": "2022-08-15T12:53:14.503Z"
   },
   {
    "duration": 1494,
    "start_time": "2022-08-15T12:53:15.894Z"
   },
   {
    "duration": 4,
    "start_time": "2022-08-15T12:53:17.391Z"
   },
   {
    "duration": 8,
    "start_time": "2022-08-15T12:53:17.397Z"
   },
   {
    "duration": 17,
    "start_time": "2022-08-15T12:53:17.406Z"
   },
   {
    "duration": 8,
    "start_time": "2022-08-15T12:53:17.425Z"
   },
   {
    "duration": 10,
    "start_time": "2022-08-15T12:53:17.434Z"
   },
   {
    "duration": 71,
    "start_time": "2022-08-15T12:53:17.446Z"
   },
   {
    "duration": 8,
    "start_time": "2022-08-15T12:53:17.519Z"
   },
   {
    "duration": 15,
    "start_time": "2022-08-15T12:53:17.529Z"
   },
   {
    "duration": 109,
    "start_time": "2022-08-15T13:00:17.194Z"
   },
   {
    "duration": 13,
    "start_time": "2022-08-15T13:00:58.071Z"
   },
   {
    "duration": 15,
    "start_time": "2022-08-15T13:01:06.946Z"
   },
   {
    "duration": 17,
    "start_time": "2022-08-15T13:01:39.395Z"
   },
   {
    "duration": 1378,
    "start_time": "2022-08-15T13:02:28.339Z"
   },
   {
    "duration": 732,
    "start_time": "2022-08-15T13:02:29.719Z"
   },
   {
    "duration": 22,
    "start_time": "2022-08-15T13:02:32.300Z"
   },
   {
    "duration": 17,
    "start_time": "2022-08-15T13:02:34.678Z"
   },
   {
    "duration": 112,
    "start_time": "2022-08-15T13:02:35.881Z"
   },
   {
    "duration": 18,
    "start_time": "2022-08-15T13:02:36.988Z"
   },
   {
    "duration": 15,
    "start_time": "2022-08-15T13:02:37.679Z"
   },
   {
    "duration": 19,
    "start_time": "2022-08-15T13:02:38.480Z"
   },
   {
    "duration": 22,
    "start_time": "2022-08-15T13:02:39.204Z"
   },
   {
    "duration": 22,
    "start_time": "2022-08-15T13:02:40.339Z"
   },
   {
    "duration": 96,
    "start_time": "2022-08-15T13:02:40.980Z"
   },
   {
    "duration": 6,
    "start_time": "2022-08-15T13:02:43.763Z"
   },
   {
    "duration": 7,
    "start_time": "2022-08-15T13:02:44.610Z"
   },
   {
    "duration": 4,
    "start_time": "2022-08-15T13:02:45.227Z"
   },
   {
    "duration": 7,
    "start_time": "2022-08-15T13:02:51.116Z"
   },
   {
    "duration": 5,
    "start_time": "2022-08-15T13:02:53.555Z"
   },
   {
    "duration": 65,
    "start_time": "2022-08-15T13:02:54.579Z"
   },
   {
    "duration": 4,
    "start_time": "2022-08-15T13:02:55.332Z"
   },
   {
    "duration": 12,
    "start_time": "2022-08-15T13:02:55.891Z"
   },
   {
    "duration": 15,
    "start_time": "2022-08-15T13:02:59.251Z"
   },
   {
    "duration": 20,
    "start_time": "2022-08-15T13:03:00.235Z"
   },
   {
    "duration": 18,
    "start_time": "2022-08-15T13:03:10.075Z"
   },
   {
    "duration": 21,
    "start_time": "2022-08-15T13:06:03.829Z"
   },
   {
    "duration": 94,
    "start_time": "2022-09-18T11:04:48.181Z"
   }
  ],
  "kernelspec": {
   "display_name": "Python 3 (ipykernel)",
   "language": "python",
   "name": "python3"
  },
  "language_info": {
   "codemirror_mode": {
    "name": "ipython",
    "version": 3
   },
   "file_extension": ".py",
   "mimetype": "text/x-python",
   "name": "python",
   "nbconvert_exporter": "python",
   "pygments_lexer": "ipython3",
   "version": "3.9.5"
  },
  "toc": {
   "base_numbering": 1,
   "nav_menu": {},
   "number_sections": true,
   "sideBar": true,
   "skip_h1_title": true,
   "title_cell": "Содержание",
   "title_sidebar": "Contents",
   "toc_cell": true,
   "toc_position": {
    "height": "calc(100% - 180px)",
    "left": "10px",
    "top": "150px",
    "width": "314.1px"
   },
   "toc_section_display": true,
   "toc_window_display": true
  }
 },
 "nbformat": 4,
 "nbformat_minor": 2
}
