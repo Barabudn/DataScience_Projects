{
 "cells": [
  {
   "cell_type": "markdown",
   "metadata": {},
   "source": [
    "# Выбор локации для скважины"
   ]
  },
  {
   "cell_type": "markdown",
   "metadata": {},
   "source": [
    "Допустим, вы работаете в добывающей компании «ГлавРосГосНефть». Нужно решить, где бурить новую скважину.\n",
    "\n",
    "Вам предоставлены пробы нефти в трёх регионах: в каждом 10 000 месторождений, где измерили качество нефти и объём её запасов. Постройте модель машинного обучения, которая поможет определить регион, где добыча принесёт наибольшую прибыль. Проанализируйте возможную прибыль и риски техникой *Bootstrap.*\n",
    "\n",
    "Шаги для выбора локации:\n",
    "\n",
    "- В избранном регионе ищут месторождения, для каждого определяют значения признаков;\n",
    "- Строят модель и оценивают объём запасов;\n",
    "- Выбирают месторождения с самым высокими оценками значений. Количество месторождений зависит от бюджета компании и стоимости разработки одной скважины;\n",
    "- Прибыль равна суммарной прибыли отобранных месторождений."
   ]
  },
  {
   "cell_type": "markdown",
   "metadata": {},
   "source": [
    "## Загрузка и подготовка данных"
   ]
  },
  {
   "cell_type": "code",
   "execution_count": 33,
   "metadata": {},
   "outputs": [],
   "source": [
    "import pandas as pd\n",
    "import numpy as np\n",
    "import seaborn as sns\n",
    "import matplotlib.pyplot as plt\n",
    "\n",
    "from sklearn.model_selection import train_test_split\n",
    "from sklearn.linear_model import LinearRegression\n",
    "from sklearn.metrics import mean_squared_error\n"
   ]
  },
  {
   "cell_type": "code",
   "execution_count": 34,
   "metadata": {},
   "outputs": [],
   "source": [
    "geo1=pd.read_csv('D://Игорь/projects/geo_data_0.csv')\n",
    "geo2=pd.read_csv('D://Игорь/projects/geo_data_1.csv')\n",
    "geo3=pd.read_csv('D://Игорь/projects/geo_data_2.csv')"
   ]
  },
  {
   "cell_type": "code",
   "execution_count": 35,
   "metadata": {},
   "outputs": [
    {
     "name": "stdout",
     "output_type": "stream",
     "text": [
      "<class 'pandas.core.frame.DataFrame'>\n",
      "RangeIndex: 100000 entries, 0 to 99999\n",
      "Data columns (total 5 columns):\n",
      " #   Column   Non-Null Count   Dtype  \n",
      "---  ------   --------------   -----  \n",
      " 0   id       100000 non-null  object \n",
      " 1   f0       100000 non-null  float64\n",
      " 2   f1       100000 non-null  float64\n",
      " 3   f2       100000 non-null  float64\n",
      " 4   product  100000 non-null  float64\n",
      "dtypes: float64(4), object(1)\n",
      "memory usage: 3.8+ MB\n"
     ]
    }
   ],
   "source": [
    "# смотрим первый датасет\n",
    "geo1.info()"
   ]
  },
  {
   "cell_type": "code",
   "execution_count": 36,
   "metadata": {
    "scrolled": true
   },
   "outputs": [
    {
     "data": {
      "text/html": [
       "<div>\n",
       "<style scoped>\n",
       "    .dataframe tbody tr th:only-of-type {\n",
       "        vertical-align: middle;\n",
       "    }\n",
       "\n",
       "    .dataframe tbody tr th {\n",
       "        vertical-align: top;\n",
       "    }\n",
       "\n",
       "    .dataframe thead th {\n",
       "        text-align: right;\n",
       "    }\n",
       "</style>\n",
       "<table border=\"1\" class=\"dataframe\">\n",
       "  <thead>\n",
       "    <tr style=\"text-align: right;\">\n",
       "      <th></th>\n",
       "      <th>id</th>\n",
       "      <th>f0</th>\n",
       "      <th>f1</th>\n",
       "      <th>f2</th>\n",
       "      <th>product</th>\n",
       "    </tr>\n",
       "  </thead>\n",
       "  <tbody>\n",
       "    <tr>\n",
       "      <th>0</th>\n",
       "      <td>txEyH</td>\n",
       "      <td>0.705745</td>\n",
       "      <td>-0.497823</td>\n",
       "      <td>1.221170</td>\n",
       "      <td>105.280062</td>\n",
       "    </tr>\n",
       "    <tr>\n",
       "      <th>1</th>\n",
       "      <td>2acmU</td>\n",
       "      <td>1.334711</td>\n",
       "      <td>-0.340164</td>\n",
       "      <td>4.365080</td>\n",
       "      <td>73.037750</td>\n",
       "    </tr>\n",
       "    <tr>\n",
       "      <th>2</th>\n",
       "      <td>409Wp</td>\n",
       "      <td>1.022732</td>\n",
       "      <td>0.151990</td>\n",
       "      <td>1.419926</td>\n",
       "      <td>85.265647</td>\n",
       "    </tr>\n",
       "    <tr>\n",
       "      <th>3</th>\n",
       "      <td>iJLyR</td>\n",
       "      <td>-0.032172</td>\n",
       "      <td>0.139033</td>\n",
       "      <td>2.978566</td>\n",
       "      <td>168.620776</td>\n",
       "    </tr>\n",
       "    <tr>\n",
       "      <th>4</th>\n",
       "      <td>Xdl7t</td>\n",
       "      <td>1.988431</td>\n",
       "      <td>0.155413</td>\n",
       "      <td>4.751769</td>\n",
       "      <td>154.036647</td>\n",
       "    </tr>\n",
       "  </tbody>\n",
       "</table>\n",
       "</div>"
      ],
      "text/plain": [
       "      id        f0        f1        f2     product\n",
       "0  txEyH  0.705745 -0.497823  1.221170  105.280062\n",
       "1  2acmU  1.334711 -0.340164  4.365080   73.037750\n",
       "2  409Wp  1.022732  0.151990  1.419926   85.265647\n",
       "3  iJLyR -0.032172  0.139033  2.978566  168.620776\n",
       "4  Xdl7t  1.988431  0.155413  4.751769  154.036647"
      ]
     },
     "execution_count": 36,
     "metadata": {},
     "output_type": "execute_result"
    }
   ],
   "source": [
    "geo1.head()"
   ]
  },
  {
   "cell_type": "markdown",
   "metadata": {},
   "source": [
    "- id — уникальный идентификатор скважины;\n",
    "- f0, f1, f2 — три признака точек (неважно, что они означают, но сами признаки значимы);\n",
    "- product — объём запасов в скважине (тыс. баррелей)."
   ]
  },
  {
   "cell_type": "code",
   "execution_count": 37,
   "metadata": {},
   "outputs": [
    {
     "name": "stdout",
     "output_type": "stream",
     "text": [
      "0\n"
     ]
    }
   ],
   "source": [
    "print(geo1.duplicated().sum())"
   ]
  },
  {
   "cell_type": "code",
   "execution_count": 38,
   "metadata": {},
   "outputs": [
    {
     "data": {
      "text/plain": [
       "<AxesSubplot:>"
      ]
     },
     "execution_count": 38,
     "metadata": {},
     "output_type": "execute_result"
    },
    {
     "data": {
      "image/png": "[encoded data removed]",
      "text/plain": [
       "<Figure size 432x288 with 2 Axes>"
      ]
     },
     "metadata": {
      "needs_background": "light"
     },
     "output_type": "display_data"
    }
   ],
   "source": [
    "sns.heatmap(geo1.corr(), annot=True)"
   ]
  },
  {
   "cell_type": "markdown",
   "metadata": {},
   "source": [
    "Пропусков нет, средняя кореляция есть между объемом запасов и f2"
   ]
  },
  {
   "cell_type": "code",
   "execution_count": 39,
   "metadata": {
    "scrolled": true
   },
   "outputs": [
    {
     "name": "stdout",
     "output_type": "stream",
     "text": [
      "<class 'pandas.core.frame.DataFrame'>\n",
      "RangeIndex: 100000 entries, 0 to 99999\n",
      "Data columns (total 5 columns):\n",
      " #   Column   Non-Null Count   Dtype  \n",
      "---  ------   --------------   -----  \n",
      " 0   id       100000 non-null  object \n",
      " 1   f0       100000 non-null  float64\n",
      " 2   f1       100000 non-null  float64\n",
      " 3   f2       100000 non-null  float64\n",
      " 4   product  100000 non-null  float64\n",
      "dtypes: float64(4), object(1)\n",
      "memory usage: 3.8+ MB\n"
     ]
    }
   ],
   "source": [
    "# смотрим второй датасет\n",
    "geo2.info()"
   ]
  },
  {
   "cell_type": "markdown",
   "metadata": {},
   "source": [
    "пропуски так же отсутствуют"
   ]
  },
  {
   "cell_type": "code",
   "execution_count": 40,
   "metadata": {
    "scrolled": true
   },
   "outputs": [
    {
     "data": {
      "text/html": [
       "<div>\n",
       "<style scoped>\n",
       "    .dataframe tbody tr th:only-of-type {\n",
       "        vertical-align: middle;\n",
       "    }\n",
       "\n",
       "    .dataframe tbody tr th {\n",
       "        vertical-align: top;\n",
       "    }\n",
       "\n",
       "    .dataframe thead th {\n",
       "        text-align: right;\n",
       "    }\n",
       "</style>\n",
       "<table border=\"1\" class=\"dataframe\">\n",
       "  <thead>\n",
       "    <tr style=\"text-align: right;\">\n",
       "      <th></th>\n",
       "      <th>id</th>\n",
       "      <th>f0</th>\n",
       "      <th>f1</th>\n",
       "      <th>f2</th>\n",
       "      <th>product</th>\n",
       "    </tr>\n",
       "  </thead>\n",
       "  <tbody>\n",
       "    <tr>\n",
       "      <th>0</th>\n",
       "      <td>kBEdx</td>\n",
       "      <td>-15.001348</td>\n",
       "      <td>-8.276000</td>\n",
       "      <td>-0.005876</td>\n",
       "      <td>3.179103</td>\n",
       "    </tr>\n",
       "    <tr>\n",
       "      <th>1</th>\n",
       "      <td>62mP7</td>\n",
       "      <td>14.272088</td>\n",
       "      <td>-3.475083</td>\n",
       "      <td>0.999183</td>\n",
       "      <td>26.953261</td>\n",
       "    </tr>\n",
       "    <tr>\n",
       "      <th>2</th>\n",
       "      <td>vyE1P</td>\n",
       "      <td>6.263187</td>\n",
       "      <td>-5.948386</td>\n",
       "      <td>5.001160</td>\n",
       "      <td>134.766305</td>\n",
       "    </tr>\n",
       "    <tr>\n",
       "      <th>3</th>\n",
       "      <td>KcrkZ</td>\n",
       "      <td>-13.081196</td>\n",
       "      <td>-11.506057</td>\n",
       "      <td>4.999415</td>\n",
       "      <td>137.945408</td>\n",
       "    </tr>\n",
       "    <tr>\n",
       "      <th>4</th>\n",
       "      <td>AHL4O</td>\n",
       "      <td>12.702195</td>\n",
       "      <td>-8.147433</td>\n",
       "      <td>5.004363</td>\n",
       "      <td>134.766305</td>\n",
       "    </tr>\n",
       "  </tbody>\n",
       "</table>\n",
       "</div>"
      ],
      "text/plain": [
       "      id         f0         f1        f2     product\n",
       "0  kBEdx -15.001348  -8.276000 -0.005876    3.179103\n",
       "1  62mP7  14.272088  -3.475083  0.999183   26.953261\n",
       "2  vyE1P   6.263187  -5.948386  5.001160  134.766305\n",
       "3  KcrkZ -13.081196 -11.506057  4.999415  137.945408\n",
       "4  AHL4O  12.702195  -8.147433  5.004363  134.766305"
      ]
     },
     "execution_count": 40,
     "metadata": {},
     "output_type": "execute_result"
    }
   ],
   "source": [
    "geo2.head()"
   ]
  },
  {
   "cell_type": "code",
   "execution_count": 41,
   "metadata": {},
   "outputs": [
    {
     "name": "stdout",
     "output_type": "stream",
     "text": [
      "0\n"
     ]
    }
   ],
   "source": [
    "print(geo2.duplicated().sum())"
   ]
  },
  {
   "cell_type": "code",
   "execution_count": 42,
   "metadata": {},
   "outputs": [
    {
     "data": {
      "text/plain": [
       "<AxesSubplot:>"
      ]
     },
     "execution_count": 42,
     "metadata": {},
     "output_type": "execute_result"
    },
    {
     "data": {
      "image/png": "[encoded data removed]",
      "text/plain": [
       "<Figure size 432x288 with 2 Axes>"
      ]
     },
     "metadata": {
      "needs_background": "light"
     },
     "output_type": "display_data"
    }
   ],
   "source": [
    "sns.heatmap(geo2.corr(), annot=True)"
   ]
  },
  {
   "cell_type": "markdown",
   "metadata": {},
   "source": [
    "Между f2 и объемом запасов прямая зависчимость."
   ]
  },
  {
   "cell_type": "code",
   "execution_count": 43,
   "metadata": {},
   "outputs": [
    {
     "name": "stdout",
     "output_type": "stream",
     "text": [
      "<class 'pandas.core.frame.DataFrame'>\n",
      "RangeIndex: 100000 entries, 0 to 99999\n",
      "Data columns (total 5 columns):\n",
      " #   Column   Non-Null Count   Dtype  \n",
      "---  ------   --------------   -----  \n",
      " 0   id       100000 non-null  object \n",
      " 1   f0       100000 non-null  float64\n",
      " 2   f1       100000 non-null  float64\n",
      " 3   f2       100000 non-null  float64\n",
      " 4   product  100000 non-null  float64\n",
      "dtypes: float64(4), object(1)\n",
      "memory usage: 3.8+ MB\n"
     ]
    }
   ],
   "source": [
    "geo3.info()"
   ]
  },
  {
   "cell_type": "markdown",
   "metadata": {},
   "source": [
    "так же отсутствуют пропуски"
   ]
  },
  {
   "cell_type": "code",
   "execution_count": 44,
   "metadata": {
    "scrolled": true
   },
   "outputs": [
    {
     "data": {
      "text/html": [
       "<div>\n",
       "<style scoped>\n",
       "    .dataframe tbody tr th:only-of-type {\n",
       "        vertical-align: middle;\n",
       "    }\n",
       "\n",
       "    .dataframe tbody tr th {\n",
       "        vertical-align: top;\n",
       "    }\n",
       "\n",
       "    .dataframe thead th {\n",
       "        text-align: right;\n",
       "    }\n",
       "</style>\n",
       "<table border=\"1\" class=\"dataframe\">\n",
       "  <thead>\n",
       "    <tr style=\"text-align: right;\">\n",
       "      <th></th>\n",
       "      <th>id</th>\n",
       "      <th>f0</th>\n",
       "      <th>f1</th>\n",
       "      <th>f2</th>\n",
       "      <th>product</th>\n",
       "    </tr>\n",
       "  </thead>\n",
       "  <tbody>\n",
       "    <tr>\n",
       "      <th>0</th>\n",
       "      <td>fwXo0</td>\n",
       "      <td>-1.146987</td>\n",
       "      <td>0.963328</td>\n",
       "      <td>-0.828965</td>\n",
       "      <td>27.758673</td>\n",
       "    </tr>\n",
       "    <tr>\n",
       "      <th>1</th>\n",
       "      <td>WJtFt</td>\n",
       "      <td>0.262778</td>\n",
       "      <td>0.269839</td>\n",
       "      <td>-2.530187</td>\n",
       "      <td>56.069697</td>\n",
       "    </tr>\n",
       "    <tr>\n",
       "      <th>2</th>\n",
       "      <td>ovLUW</td>\n",
       "      <td>0.194587</td>\n",
       "      <td>0.289035</td>\n",
       "      <td>-5.586433</td>\n",
       "      <td>62.871910</td>\n",
       "    </tr>\n",
       "    <tr>\n",
       "      <th>3</th>\n",
       "      <td>q6cA6</td>\n",
       "      <td>2.236060</td>\n",
       "      <td>-0.553760</td>\n",
       "      <td>0.930038</td>\n",
       "      <td>114.572842</td>\n",
       "    </tr>\n",
       "    <tr>\n",
       "      <th>4</th>\n",
       "      <td>WPMUX</td>\n",
       "      <td>-0.515993</td>\n",
       "      <td>1.716266</td>\n",
       "      <td>5.899011</td>\n",
       "      <td>149.600746</td>\n",
       "    </tr>\n",
       "  </tbody>\n",
       "</table>\n",
       "</div>"
      ],
      "text/plain": [
       "      id        f0        f1        f2     product\n",
       "0  fwXo0 -1.146987  0.963328 -0.828965   27.758673\n",
       "1  WJtFt  0.262778  0.269839 -2.530187   56.069697\n",
       "2  ovLUW  0.194587  0.289035 -5.586433   62.871910\n",
       "3  q6cA6  2.236060 -0.553760  0.930038  114.572842\n",
       "4  WPMUX -0.515993  1.716266  5.899011  149.600746"
      ]
     },
     "execution_count": 44,
     "metadata": {},
     "output_type": "execute_result"
    }
   ],
   "source": [
    "geo3.head()"
   ]
  },
  {
   "cell_type": "code",
   "execution_count": 45,
   "metadata": {},
   "outputs": [
    {
     "name": "stdout",
     "output_type": "stream",
     "text": [
      "0\n"
     ]
    }
   ],
   "source": [
    "print(geo3.duplicated().sum())"
   ]
  },
  {
   "cell_type": "code",
   "execution_count": 46,
   "metadata": {},
   "outputs": [
    {
     "data": {
      "text/plain": [
       "<AxesSubplot:>"
      ]
     },
     "execution_count": 46,
     "metadata": {},
     "output_type": "execute_result"
    },
    {
     "data": {
      "image/png": "[encoded data removed]",
      "text/plain": [
       "<Figure size 432x288 with 2 Axes>"
      ]
     },
     "metadata": {
      "needs_background": "light"
     },
     "output_type": "display_data"
    }
   ],
   "source": [
    "sns.heatmap(geo3.corr(), annot=True)"
   ]
  },
  {
   "cell_type": "markdown",
   "metadata": {},
   "source": [
    "Имеется средняя корреляция между f2 и объемом запасорв"
   ]
  },
  {
   "cell_type": "code",
   "execution_count": 47,
   "metadata": {},
   "outputs": [],
   "source": [
    "#Для удобства удалим столбец с id т.к. он не нужен для обученимя модели\n",
    "geo1=geo1.drop(['id'], axis=1)\n",
    "geo2=geo2.drop(['id'], axis=1)\n",
    "geo3=geo3.drop(['id'], axis=1)"
   ]
  },
  {
   "cell_type": "code",
   "execution_count": 48,
   "metadata": {},
   "outputs": [
    {
     "name": "stdout",
     "output_type": "stream",
     "text": [
      "<class 'pandas.core.frame.DataFrame'>\n",
      "RangeIndex: 100000 entries, 0 to 99999\n",
      "Data columns (total 4 columns):\n",
      " #   Column   Non-Null Count   Dtype  \n",
      "---  ------   --------------   -----  \n",
      " 0   f0       100000 non-null  float64\n",
      " 1   f1       100000 non-null  float64\n",
      " 2   f2       100000 non-null  float64\n",
      " 3   product  100000 non-null  float64\n",
      "dtypes: float64(4)\n",
      "memory usage: 3.1 MB\n"
     ]
    }
   ],
   "source": [
    "geo2.info()"
   ]
  },
  {
   "cell_type": "markdown",
   "metadata": {},
   "source": [
    "### Вывод:\n",
    "- В датасете 5 столбцов и 100 000строк\n",
    "- Пропуски и дубликаты отсутствуют\n",
    "- Корреляции между f0 и f1 и объемом запасов почти отсутствует\n",
    "- Во втором датасете корреляция между f2 и объемом запасов равна 1, в первом и третьем средняя корреляция\n",
    "- Удален столбец id, т.к. он не нужен для обучения модели\n"
   ]
  },
  {
   "cell_type": "markdown",
   "metadata": {},
   "source": [
    "## Обучение и проверка модели"
   ]
  },
  {
   "cell_type": "markdown",
   "metadata": {},
   "source": [
    "Обучаем модель Линейной регрессии"
   ]
  },
  {
   "cell_type": "code",
   "execution_count": 49,
   "metadata": {},
   "outputs": [],
   "source": [
    "# разделение выборок\n",
    "features_train_1, features_valid_1, target_train_1, target_valid_1 = train_test_split(\n",
    "    geo1.drop(['product'], axis=1), geo1['product'], test_size=0.25, random_state=12345)\n",
    "\n",
    "features_train_2, features_valid_2, target_train_2, target_valid_2 = train_test_split(\n",
    "    geo2.drop(['product'], axis=1), geo2['product'], test_size=0.25, random_state=12345)\n",
    "\n",
    "features_train_3, features_valid_3, target_train_3, target_valid_3 = train_test_split(\n",
    "    geo3.drop(['product'], axis=1), geo3['product'], test_size=0.25, random_state=12345)"
   ]
  },
  {
   "cell_type": "code",
   "execution_count": 50,
   "metadata": {},
   "outputs": [],
   "source": [
    "def model_fit(features_train, features_valid, target_train, target_valid):\n",
    "        \n",
    "    model = LinearRegression()\n",
    "    model.fit(features_train, target_train)\n",
    "    predictions = model.predict(features_valid)\n",
    "\n",
    "    predictions_mean = predictions.mean()\n",
    "    rmse = mean_squared_error(target_valid, predictions)**0.5\n",
    "\n",
    "    print('средний запас предсказанного сырья: {:.2f}'.format(predictions_mean))\n",
    "    print('RMSE модели: {:.2f}'.format(rmse))\n",
    "    \n",
    "    return predictions"
   ]
  },
  {
   "cell_type": "code",
   "execution_count": 51,
   "metadata": {},
   "outputs": [
    {
     "name": "stdout",
     "output_type": "stream",
     "text": [
      "средний запас предсказанного сырья: 92.59\n",
      "RMSE модели: 37.58\n"
     ]
    }
   ],
   "source": [
    "predictions_1 = model_fit(features_train_1, features_valid_1, target_train_1, target_valid_1)"
   ]
  },
  {
   "cell_type": "code",
   "execution_count": 52,
   "metadata": {},
   "outputs": [
    {
     "name": "stdout",
     "output_type": "stream",
     "text": [
      "средний запас предсказанного сырья: 68.73\n",
      "RMSE модели: 0.89\n"
     ]
    }
   ],
   "source": [
    "predictions_2 = model_fit(features_train_2, features_valid_2, target_train_2, target_valid_2)"
   ]
  },
  {
   "cell_type": "code",
   "execution_count": 53,
   "metadata": {},
   "outputs": [
    {
     "name": "stdout",
     "output_type": "stream",
     "text": [
      "средний запас предсказанного сырья: 94.97\n",
      "RMSE модели: 40.03\n"
     ]
    }
   ],
   "source": [
    "predictions_3 = model_fit(features_train_3, features_valid_3, target_train_3, target_valid_3)"
   ]
  },
  {
   "cell_type": "markdown",
   "metadata": {},
   "source": [
    "### Вывод:\n",
    "- Предсказания по первому и третьему датасету приблизительно одинаков, прогнозируется большой запас сырья, при этом так же и RMSE высок\n",
    "- Предсказания по 2 датасету ниже чем в 1 и 3, но при этом RMSE меньше 1. Вероятно это переобученность модели из за корреляции с f2"
   ]
  },
  {
   "cell_type": "markdown",
   "metadata": {},
   "source": [
    "## Подготовка к расчёту прибыли"
   ]
  },
  {
   "cell_type": "markdown",
   "metadata": {},
   "source": [
    "- При разведке региона исследуют 500 точек, из которых с помощью машинного обучения выбирают 200 лучших для разработки.\n",
    "Бюджет на разработку скважин в регионе — 10 млрд рублей.\n",
    "- При нынешних ценах один баррель сырья приносит 450 рублей дохода. Доход с каждой единицы продукта составляет 450 тыс. рублей, поскольку объём указан в тысячах баррелей.\n",
    "- После оценки рисков нужно оставить лишь те регионы, в которых вероятность убытков меньше 2.5%. Среди них выбирают регион с наибольшей средней прибылью."
   ]
  },
  {
   "cell_type": "code",
   "execution_count": 54,
   "metadata": {},
   "outputs": [
    {
     "name": "stdout",
     "output_type": "stream",
     "text": [
      "Средний запас сырья по региону 1: 92.59 тыс. бар\n",
      "Средний запас сырья по региону 2: 68.73 тыс. бар\n",
      "Средний запас сырья по региону 3: 94.97 тыс. бар\n"
     ]
    }
   ],
   "source": [
    "print('Средний запас сырья по региону 1: {:.2f} тыс. бар'.format(predictions_1.mean()))\n",
    "print('Средний запас сырья по региону 2: {:.2f} тыс. бар'.format(predictions_2.mean()))\n",
    "print('Средний запас сырья по региону 3: {:.2f} тыс. бар'.format(predictions_3.mean()))"
   ]
  },
  {
   "cell_type": "code",
   "execution_count": 55,
   "metadata": {},
   "outputs": [],
   "source": [
    "# сохраним данные в переменные\n",
    "RESEARCH_POINTS = 500 # точки исследования\n",
    "BEST_POINTS = 200 # лучшие точки\n",
    "BUDGET = 10000000000 # бюджет\n",
    "INCOME = 450000 # доход с каждой единицы продукции"
   ]
  },
  {
   "cell_type": "code",
   "execution_count": 56,
   "metadata": {},
   "outputs": [
    {
     "name": "stdout",
     "output_type": "stream",
     "text": [
      "Бюджет на разработку одной точки: 50000000.0\n"
     ]
    }
   ],
   "source": [
    "budget_per_point = BUDGET / BEST_POINTS\n",
    "print('Бюджет на разработку одной точки:', budget_per_point)"
   ]
  },
  {
   "cell_type": "code",
   "execution_count": 57,
   "metadata": {},
   "outputs": [
    {
     "name": "stdout",
     "output_type": "stream",
     "text": [
      "Минимальное количество баррелей для окупаемости: 111.11111111111111\n"
     ]
    }
   ],
   "source": [
    "min_barrels = budget_per_point / INCOME\n",
    "print('Минимальное количество баррелей для окупаемости:', min_barrels)"
   ]
  },
  {
   "cell_type": "markdown",
   "metadata": {},
   "source": [
    "### Вывод:\n",
    "Ни один из регионов не обеспечит необходимый запас сырья т.к. самый максимальный средний запас сырья у 3 региону составляет 94,97 тысяч баррелей, что ниже минимального количества баррелей для окупаемости."
   ]
  },
  {
   "cell_type": "markdown",
   "metadata": {},
   "source": [
    "## Расчёт прибыли и рисков "
   ]
  },
  {
   "cell_type": "code",
   "execution_count": 58,
   "metadata": {},
   "outputs": [],
   "source": [
    "# Расчет прибыли\n",
    "#переведем предсказания в формат Series для сортировки\n",
    "predictions_1 = pd.Series(predictions_1, index=target_valid_1.index)\n",
    "predictions_2 = pd.Series(predictions_2, index=target_valid_2.index)\n",
    "predictions_3 = pd.Series(predictions_3, index=target_valid_3.index)"
   ]
  },
  {
   "cell_type": "code",
   "execution_count": 59,
   "metadata": {},
   "outputs": [],
   "source": [
    "#создавем функцию\n",
    "def profit(target, predictions):\n",
    "    predictions_sorted=predictions.sort_values(ascending=False)\n",
    "    volume = target[predictions_sorted.index][:200]\n",
    "    return ((volume.sum() * INCOME - BUDGET))\n"
   ]
  },
  {
   "cell_type": "code",
   "execution_count": 60,
   "metadata": {},
   "outputs": [
    {
     "name": "stdout",
     "output_type": "stream",
     "text": [
      "Предполагаемая прибыль в первом регионе из 200 лучших скважин 3320826043.14 рублей\n",
      "Предполагаемая прибыль во втором регионе из 200 лучших скважин 2415086696.68 рублей\n",
      "Предполагаемая прибыль в третьем регионе из 200 лучших скважин 2710349963.60 рублей\n"
     ]
    }
   ],
   "source": [
    "print('Предполагаемая прибыль в первом регионе из 200 лучших скважин {:.2f} рублей'\n",
    "      .format(profit(target_valid_1, predictions_1)))\n",
    "print('Предполагаемая прибыль во втором регионе из 200 лучших скважин {:.2f} рублей'\n",
    "      .format(profit(target_valid_2, predictions_2)))\n",
    "print('Предполагаемая прибыль в третьем регионе из 200 лучших скважин {:.2f} рублей'\n",
    "      .format(profit(target_valid_3, predictions_3)))"
   ]
  },
  {
   "cell_type": "markdown",
   "metadata": {},
   "source": [
    "- Примените технику Bootstrap с 1000 выборок, чтобы найти распределение прибыли.\n",
    "- Найдите среднюю прибыль, 95%-й доверительный интервал и риск убытков. Убыток — это отрицательная прибыль."
   ]
  },
  {
   "cell_type": "code",
   "execution_count": 61,
   "metadata": {},
   "outputs": [],
   "source": [
    "#Расчет рисков\n",
    "# Напишем функцию\n",
    "def bootstrap(target_valid, predictions, geo):\n",
    "    state = np.random.RandomState(12345)\n",
    "    values = []\n",
    "    target_valid = target_valid\n",
    "    predictions = predictions\n",
    "    for i in range(1000):\n",
    "        target_subsample = target_valid.sample(RESEARCH_POINTS, replace=True, random_state=state)\n",
    "        predictions_subsample = predictions[target_subsample.index]\n",
    "        values.append(profit(target_subsample, predictions_subsample))\n",
    "        \n",
    "    values = pd.Series(values)\n",
    "    \n",
    "    lower = values.quantile(0.025)\n",
    "    upper = values.quantile(0.975)\n",
    "    mean = values.mean()\n",
    "    risk = (values < 0).mean()*100\n",
    "    \n",
    "    print('Регион', geo)\n",
    "    print('Средняя прибыль: {:,.2f}'.format(mean))\n",
    "    print('Минимальный доверительный интервал: {:,.2f}'.format(lower))\n",
    "    print('Максимальный доверительный интервал: {:,.2f}'.format(upper))\n",
    "    print('Риск убытков: {} %'.format(risk))"
   ]
  },
  {
   "cell_type": "code",
   "execution_count": 62,
   "metadata": {},
   "outputs": [
    {
     "name": "stdout",
     "output_type": "stream",
     "text": [
      "Регион 1\n",
      "Средняя прибыль: 425,938,526.91\n",
      "Минимальный доверительный интервал: -102,090,094.84\n",
      "Максимальный доверительный интервал: 947,976,353.36\n",
      "Риск убытков: 6.0 %\n"
     ]
    }
   ],
   "source": [
    "bootstrap (target_valid_1, predictions_1, 1)"
   ]
  },
  {
   "cell_type": "code",
   "execution_count": 63,
   "metadata": {},
   "outputs": [
    {
     "name": "stdout",
     "output_type": "stream",
     "text": [
      "Регион 2\n",
      "Средняя прибыль: 515,222,773.44\n",
      "Минимальный доверительный интервал: 68,873,225.37\n",
      "Максимальный доверительный интервал: 931,547,591.26\n",
      "Риск убытков: 1.0 %\n"
     ]
    }
   ],
   "source": [
    "bootstrap (target_valid_2, predictions_2, 2)"
   ]
  },
  {
   "cell_type": "code",
   "execution_count": 64,
   "metadata": {},
   "outputs": [
    {
     "name": "stdout",
     "output_type": "stream",
     "text": [
      "Регион 3\n",
      "Средняя прибыль: 435,008,362.78\n",
      "Минимальный доверительный интервал: -128,880,547.33\n",
      "Максимальный доверительный интервал: 969,706,954.18\n",
      "Риск убытков: 6.4 %\n"
     ]
    }
   ],
   "source": [
    "bootstrap (target_valid_3, predictions_3, 3)"
   ]
  },
  {
   "cell_type": "markdown",
   "metadata": {},
   "source": [
    "### Вывод:\n",
    "- Из расчетов менее рискованным является второй регион, минимальный доверительный интервал является положительным числом в отличии от 1 и 3 региона."
   ]
  },
  {
   "cell_type": "markdown",
   "metadata": {},
   "source": [
    "## Общий вывод:\n",
    "1. Загрузка и подготовка данных:\n",
    "- В датасете 5 столбцов и 100 000строк\n",
    "- Пропуски и дубликаты отсутствуют\n",
    "- Корреляции между f0 и f1 и объемом запасов почти отсутствует\n",
    "- Во втором датасете корреляция между f2 и объемом запасов равна 1, в первом и третьем средняя корреляция\n",
    "- Удален столбец id, т.к. он не нужен для обучения модели\n",
    "2. Обучение и проверка модели:\n",
    "- Предсказания по первому и третьему датасету приблизительно одинаков, прогнозируется большой запас сырья, при этом так же и RMSE высок\n",
    "- Предсказания по 2 датасету ниже чем в 1 и 3, но при этом RMSE меньше 1. Вероятно это переобученность модели из за корреляции с f2\n",
    "3. Подготовка к расчёту прибыли:\n",
    "- Ни один из регионов не обеспечит необходимый запас сырья т.к. самый максимальный средний запас сырья у 3 региону составляет 94,97 тысяч баррелей, что ниже минимального количества баррелей для окупаемости.\n",
    "4. Расчёт прибыли и рисков:\n",
    "- Из расчетов менее рискованным является второй регион, минимальный доверительный интервал является положительным числом в отличии от 1 и 3 региона."
   ]
  }
 ],
 "metadata": {
  "ExecuteTimeLog": [
   {
    "duration": 1752,
    "start_time": "2022-04-24T11:27:52.249Z"
   },
   {
    "duration": 381,
    "start_time": "2022-04-24T11:28:02.784Z"
   },
   {
    "duration": 14,
    "start_time": "2022-04-24T11:28:43.589Z"
   },
   {
    "duration": 17,
    "start_time": "2022-04-24T11:28:57.248Z"
   },
   {
    "duration": 433,
    "start_time": "2022-04-24T11:29:54.789Z"
   },
   {
    "duration": 359,
    "start_time": "2022-04-24T11:29:58.692Z"
   },
   {
    "duration": 319,
    "start_time": "2022-04-24T11:30:00.342Z"
   },
   {
    "duration": 11,
    "start_time": "2022-04-24T11:30:50.502Z"
   },
   {
    "duration": 15,
    "start_time": "2022-04-24T11:33:30.266Z"
   },
   {
    "duration": 10,
    "start_time": "2022-04-24T11:33:39.178Z"
   },
   {
    "duration": 341,
    "start_time": "2022-04-24T11:34:06.028Z"
   },
   {
    "duration": 16,
    "start_time": "2022-04-24T11:35:17.094Z"
   },
   {
    "duration": 10,
    "start_time": "2022-04-24T11:35:40.701Z"
   },
   {
    "duration": 350,
    "start_time": "2022-04-24T11:35:53.289Z"
   },
   {
    "duration": 391,
    "start_time": "2022-04-24T11:37:12.650Z"
   },
   {
    "duration": 14,
    "start_time": "2022-04-24T11:39:12.081Z"
   },
   {
    "duration": 10,
    "start_time": "2022-04-24T11:39:23.652Z"
   },
   {
    "duration": 40,
    "start_time": "2022-04-24T12:51:59.418Z"
   },
   {
    "duration": 4,
    "start_time": "2022-04-24T12:53:04.126Z"
   },
   {
    "duration": 3,
    "start_time": "2022-04-24T12:53:09.358Z"
   },
   {
    "duration": 408,
    "start_time": "2022-04-24T12:53:09.687Z"
   },
   {
    "duration": 16,
    "start_time": "2022-04-24T12:53:10.097Z"
   },
   {
    "duration": 19,
    "start_time": "2022-04-24T12:53:10.115Z"
   },
   {
    "duration": 320,
    "start_time": "2022-04-24T12:53:12.170Z"
   },
   {
    "duration": 16,
    "start_time": "2022-04-24T12:53:12.492Z"
   },
   {
    "duration": 25,
    "start_time": "2022-04-24T12:53:12.510Z"
   },
   {
    "duration": 320,
    "start_time": "2022-04-24T12:53:12.537Z"
   },
   {
    "duration": 15,
    "start_time": "2022-04-24T12:53:12.860Z"
   },
   {
    "duration": 9,
    "start_time": "2022-04-24T12:53:12.877Z"
   },
   {
    "duration": 381,
    "start_time": "2022-04-24T12:53:12.888Z"
   },
   {
    "duration": 13,
    "start_time": "2022-04-24T12:53:13.787Z"
   },
   {
    "duration": 14,
    "start_time": "2022-04-24T12:53:13.803Z"
   },
   {
    "duration": 35,
    "start_time": "2022-04-24T12:53:13.819Z"
   },
   {
    "duration": 5,
    "start_time": "2022-04-24T12:53:13.856Z"
   },
   {
    "duration": 53,
    "start_time": "2022-04-24T12:53:33.886Z"
   },
   {
    "duration": 14,
    "start_time": "2022-04-24T12:53:40.107Z"
   },
   {
    "duration": 14,
    "start_time": "2022-04-24T12:53:46.241Z"
   },
   {
    "duration": 3,
    "start_time": "2022-04-24T13:01:36.081Z"
   },
   {
    "duration": 4,
    "start_time": "2022-04-24T13:52:55.424Z"
   },
   {
    "duration": 114,
    "start_time": "2022-04-24T13:53:12.492Z"
   },
   {
    "duration": 4,
    "start_time": "2022-04-24T13:53:29.496Z"
   },
   {
    "duration": 3,
    "start_time": "2022-04-24T13:59:54.540Z"
   },
   {
    "duration": 5,
    "start_time": "2022-04-24T14:01:14.576Z"
   },
   {
    "duration": 5,
    "start_time": "2022-04-24T14:01:28.814Z"
   },
   {
    "duration": 5,
    "start_time": "2022-04-24T14:07:50.042Z"
   },
   {
    "duration": 4,
    "start_time": "2022-04-24T14:08:04.879Z"
   },
   {
    "duration": 3,
    "start_time": "2022-04-24T14:08:16.773Z"
   },
   {
    "duration": 20,
    "start_time": "2022-04-24T14:08:22.858Z"
   },
   {
    "duration": 19,
    "start_time": "2022-04-24T14:09:35.505Z"
   },
   {
    "duration": 3,
    "start_time": "2022-04-24T14:10:12.544Z"
   },
   {
    "duration": 2,
    "start_time": "2022-04-24T14:10:39.198Z"
   },
   {
    "duration": 6,
    "start_time": "2022-04-24T14:13:20.510Z"
   },
   {
    "duration": 14,
    "start_time": "2022-04-24T14:13:25.096Z"
   },
   {
    "duration": 5,
    "start_time": "2022-04-24T14:13:51.424Z"
   },
   {
    "duration": 1398,
    "start_time": "2022-04-24T14:13:53.286Z"
   },
   {
    "duration": 1399,
    "start_time": "2022-04-24T14:13:55.412Z"
   },
   {
    "duration": 1396,
    "start_time": "2022-04-24T14:13:57.729Z"
   },
   {
    "duration": 6,
    "start_time": "2022-04-24T14:14:45.006Z"
   },
   {
    "duration": 1366,
    "start_time": "2022-04-24T14:14:46.051Z"
   },
   {
    "duration": 1362,
    "start_time": "2022-04-24T14:14:48.544Z"
   },
   {
    "duration": 1332,
    "start_time": "2022-04-24T14:14:51.022Z"
   },
   {
    "duration": 34,
    "start_time": "2022-04-24T14:25:06.528Z"
   },
   {
    "duration": 27,
    "start_time": "2022-04-24T14:25:18.185Z"
   },
   {
    "duration": 30,
    "start_time": "2022-04-24T14:25:27.041Z"
   },
   {
    "duration": 19,
    "start_time": "2022-04-24T14:31:56.798Z"
   },
   {
    "duration": 3072,
    "start_time": "2022-04-25T09:34:41.801Z"
   },
   {
    "duration": 488,
    "start_time": "2022-04-25T09:34:44.877Z"
   },
   {
    "duration": 24,
    "start_time": "2022-04-25T09:34:45.370Z"
   },
   {
    "duration": 18,
    "start_time": "2022-04-25T09:34:45.397Z"
   },
   {
    "duration": 108,
    "start_time": "2022-04-25T09:34:45.420Z"
   },
   {
    "duration": 495,
    "start_time": "2022-04-25T09:34:45.531Z"
   },
   {
    "duration": 34,
    "start_time": "2022-04-25T09:34:46.029Z"
   },
   {
    "duration": 22,
    "start_time": "2022-04-25T09:34:46.073Z"
   },
   {
    "duration": 75,
    "start_time": "2022-04-25T09:34:46.097Z"
   },
   {
    "duration": 435,
    "start_time": "2022-04-25T09:34:46.177Z"
   },
   {
    "duration": 21,
    "start_time": "2022-04-25T09:34:46.614Z"
   },
   {
    "duration": 36,
    "start_time": "2022-04-25T09:34:46.638Z"
   },
   {
    "duration": 97,
    "start_time": "2022-04-25T09:34:46.676Z"
   },
   {
    "duration": 427,
    "start_time": "2022-04-25T09:34:46.779Z"
   },
   {
    "duration": 14,
    "start_time": "2022-04-25T09:34:47.208Z"
   },
   {
    "duration": 37,
    "start_time": "2022-04-25T09:34:47.224Z"
   },
   {
    "duration": 50,
    "start_time": "2022-04-25T09:34:47.270Z"
   },
   {
    "duration": 6,
    "start_time": "2022-04-25T09:34:47.323Z"
   },
   {
    "duration": 124,
    "start_time": "2022-04-25T09:34:47.332Z"
   },
   {
    "duration": 120,
    "start_time": "2022-04-25T09:34:47.477Z"
   },
   {
    "duration": 120,
    "start_time": "2022-04-25T09:34:47.657Z"
   },
   {
    "duration": 88,
    "start_time": "2022-04-25T09:34:47.781Z"
   },
   {
    "duration": 84,
    "start_time": "2022-04-25T09:34:47.872Z"
   },
   {
    "duration": 4,
    "start_time": "2022-04-25T09:34:47.958Z"
   },
   {
    "duration": 25,
    "start_time": "2022-04-25T09:34:47.965Z"
   },
   {
    "duration": 6,
    "start_time": "2022-04-25T09:34:47.992Z"
   },
   {
    "duration": 10,
    "start_time": "2022-04-25T09:34:48.001Z"
   },
   {
    "duration": 29,
    "start_time": "2022-04-25T09:34:48.013Z"
   },
   {
    "duration": 24,
    "start_time": "2022-04-25T09:34:48.045Z"
   },
   {
    "duration": 203,
    "start_time": "2022-04-25T09:34:48.074Z"
   },
   {
    "duration": 0,
    "start_time": "2022-04-25T09:34:48.280Z"
   },
   {
    "duration": 0,
    "start_time": "2022-04-25T09:34:48.284Z"
   },
   {
    "duration": 11,
    "start_time": "2022-04-25T09:35:31.884Z"
   },
   {
    "duration": 2095,
    "start_time": "2022-04-25T09:35:35.713Z"
   },
   {
    "duration": 6,
    "start_time": "2022-04-25T09:35:41.286Z"
   },
   {
    "duration": 609,
    "start_time": "2022-04-25T09:35:41.296Z"
   },
   {
    "duration": 27,
    "start_time": "2022-04-25T09:35:41.907Z"
   },
   {
    "duration": 23,
    "start_time": "2022-04-25T09:35:41.952Z"
   },
   {
    "duration": 122,
    "start_time": "2022-04-25T09:35:41.978Z"
   },
   {
    "duration": 559,
    "start_time": "2022-04-25T09:35:42.103Z"
   },
   {
    "duration": 30,
    "start_time": "2022-04-25T09:35:42.665Z"
   },
   {
    "duration": 30,
    "start_time": "2022-04-25T09:35:42.698Z"
   },
   {
    "duration": 148,
    "start_time": "2022-04-25T09:35:42.734Z"
   },
   {
    "duration": 519,
    "start_time": "2022-04-25T09:35:42.885Z"
   },
   {
    "duration": 59,
    "start_time": "2022-04-25T09:35:43.407Z"
   },
   {
    "duration": 29,
    "start_time": "2022-04-25T09:35:43.471Z"
   },
   {
    "duration": 91,
    "start_time": "2022-04-25T09:35:43.503Z"
   },
   {
    "duration": 456,
    "start_time": "2022-04-25T09:35:43.597Z"
   },
   {
    "duration": 15,
    "start_time": "2022-04-25T09:35:44.059Z"
   },
   {
    "duration": 32,
    "start_time": "2022-04-25T09:35:44.077Z"
   },
   {
    "duration": 62,
    "start_time": "2022-04-25T09:35:44.111Z"
   },
   {
    "duration": 10,
    "start_time": "2022-04-25T09:35:44.176Z"
   },
   {
    "duration": 80,
    "start_time": "2022-04-25T09:35:44.188Z"
   },
   {
    "duration": 182,
    "start_time": "2022-04-25T09:35:44.271Z"
   },
   {
    "duration": 136,
    "start_time": "2022-04-25T09:35:44.459Z"
   },
   {
    "duration": 19,
    "start_time": "2022-04-25T09:35:44.652Z"
   },
   {
    "duration": 106,
    "start_time": "2022-04-25T09:35:44.677Z"
   },
   {
    "duration": 12,
    "start_time": "2022-04-25T09:35:44.790Z"
   },
   {
    "duration": 5,
    "start_time": "2022-04-25T09:35:44.805Z"
   },
   {
    "duration": 7,
    "start_time": "2022-04-25T09:35:44.813Z"
   },
   {
    "duration": 9,
    "start_time": "2022-04-25T09:35:44.823Z"
   },
   {
    "duration": 60,
    "start_time": "2022-04-25T09:35:44.834Z"
   },
   {
    "duration": 14,
    "start_time": "2022-04-25T09:35:44.897Z"
   },
   {
    "duration": 2151,
    "start_time": "2022-04-25T09:35:44.914Z"
   },
   {
    "duration": 2276,
    "start_time": "2022-04-25T09:35:47.070Z"
   },
   {
    "duration": 2219,
    "start_time": "2022-04-25T09:35:49.353Z"
   }
  ],
  "kernelspec": {
   "display_name": "Python 3 (ipykernel)",
   "language": "python",
   "name": "python3"
  },
  "language_info": {
   "codemirror_mode": {
    "name": "ipython",
    "version": 3
   },
   "file_extension": ".py",
   "mimetype": "text/x-python",
   "name": "python",
   "nbconvert_exporter": "python",
   "pygments_lexer": "ipython3",
   "version": "3.9.5"
  },
  "toc": {
   "base_numbering": 1,
   "nav_menu": {},
   "number_sections": true,
   "sideBar": true,
   "skip_h1_title": true,
   "title_cell": "Table of Contents",
   "title_sidebar": "Contents",
   "toc_cell": false,
   "toc_position": {},
   "toc_section_display": true,
   "toc_window_display": false
  }
 },
 "nbformat": 4,
 "nbformat_minor": 2
}
